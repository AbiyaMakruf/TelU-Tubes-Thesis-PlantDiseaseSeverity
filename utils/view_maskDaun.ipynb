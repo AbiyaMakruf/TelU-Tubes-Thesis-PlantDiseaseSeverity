{
 "cells": [
  {
   "cell_type": "code",
   "execution_count": 1,
   "id": "a76ae0e7",
   "metadata": {},
   "outputs": [
    {
     "name": "stdout",
     "output_type": "stream",
     "text": [
      "Memuat model YOLO. Mohon tunggu...\n",
      "Model berhasil dimuat.\n",
      "\n",
      "=========================\n",
      "Processing split: TEST\n",
      "=========================\n"
     ]
    },
    {
     "name": "stderr",
     "output_type": "stream",
     "text": [
      "Processing test:  89%|████████▉ | 1549/1739 [00:00<00:00, 4918.66it/s]"
     ]
    },
    {
     "name": "stdout",
     "output_type": "stream",
     "text": [
      "\n",
      "image 1/1 /workspace/dataset/maskDaun/test/images/healthy_test_199_jpg.rf.5d8f75739aa067efb60f872844ecfbe4.jpg: 448x640 3 leaf_healthys, 50.6ms\n",
      "Speed: 5.7ms preprocess, 50.6ms inference, 163.0ms postprocess per image at shape (1, 3, 448, 640)\n",
      "\n",
      "image 1/1 /workspace/dataset/maskDaun/test/images/healthy_test_198_jpg.rf.af9f91fcec183a7ac30b9d98b59f2de8.jpg: 448x640 1 leaf_scab, 9.2ms\n",
      "Speed: 1.6ms preprocess, 9.2ms inference, 2.1ms postprocess per image at shape (1, 3, 448, 640)\n",
      "\n",
      "image 1/1 /workspace/dataset/maskDaun/test/images/healthy_test_197_jpg.rf.edfa20d7ce39da81e86889fc8d864dae.jpg: 448x640 4 leaf_healthys, 9.9ms\n",
      "Speed: 1.7ms preprocess, 9.9ms inference, 2.7ms postprocess per image at shape (1, 3, 448, 640)\n",
      "\n",
      "image 1/1 /workspace/dataset/maskDaun/test/images/healthy_test_195_jpg.rf.927a1dfbef83c5a37d9741eb4e4efca8.jpg: 448x640 2 leaf_healthys, 9.6ms\n",
      "Speed: 1.7ms preprocess, 9.6ms inference, 1.6ms postprocess per image at shape (1, 3, 448, 640)\n",
      "\n",
      "image 1/1 /workspace/dataset/maskDaun/test/images/healthy_test_196_jpg.rf.964bb600850e029067dddb255d359973.jpg: 448x640 3 leaf_healthys, 9.6ms\n",
      "Speed: 1.7ms preprocess, 9.6ms inference, 1.6ms postprocess per image at shape (1, 3, 448, 640)\n",
      "\n",
      "image 1/1 /workspace/dataset/maskDaun/test/images/healthy_test_194_jpg.rf.b6831e66b49f13ade955040e2f5979d7.jpg: 448x640 2 leaf_healthys, 10.2ms\n",
      "Speed: 1.7ms preprocess, 10.2ms inference, 1.8ms postprocess per image at shape (1, 3, 448, 640)\n",
      "\n",
      "image 1/1 /workspace/dataset/maskDaun/test/images/healthy_test_193_jpg.rf.d8d202af79caebfb063ea754bbf48c6b.jpg: 448x640 5 leaf_healthys, 9.4ms\n",
      "Speed: 1.6ms preprocess, 9.4ms inference, 1.7ms postprocess per image at shape (1, 3, 448, 640)\n",
      "\n",
      "image 1/1 /workspace/dataset/maskDaun/test/images/healthy_test_191_jpg.rf.51e158a06b49b1940ccdc4f326a85904.jpg: 448x640 5 leaf_healthys, 9.4ms\n",
      "Speed: 1.6ms preprocess, 9.4ms inference, 1.6ms postprocess per image at shape (1, 3, 448, 640)\n",
      "\n",
      "image 1/1 /workspace/dataset/maskDaun/test/images/healthy_test_192_jpg.rf.8fb47b9b453b9849d0fc22eea52a1f3e.jpg: 448x640 1 leaf_healthy, 9.9ms\n",
      "Speed: 1.7ms preprocess, 9.9ms inference, 1.7ms postprocess per image at shape (1, 3, 448, 640)\n",
      "\n",
      "image 1/1 /workspace/dataset/maskDaun/test/images/healthy_test_190_jpg.rf.e3a56cd5be25636d4b5be7385c062168.jpg: 448x640 6 leaf_healthys, 9.5ms\n",
      "Speed: 1.6ms preprocess, 9.5ms inference, 1.6ms postprocess per image at shape (1, 3, 448, 640)\n",
      "\n",
      "image 1/1 /workspace/dataset/maskDaun/test/images/healthy_test_18_jpg.rf.2fbc0a3917ab15a7a919ec65c96b9ce6.jpg: 448x640 5 leaf_healthys, 11.9ms\n",
      "Speed: 2.3ms preprocess, 11.9ms inference, 1.6ms postprocess per image at shape (1, 3, 448, 640)\n",
      "\n",
      "image 1/1 /workspace/dataset/maskDaun/test/images/healthy_test_189_jpg.rf.694d82e9913deb7388e1d60de9d3cc10.jpg: 448x640 5 leaf_healthys, 10.1ms\n",
      "Speed: 1.7ms preprocess, 10.1ms inference, 1.7ms postprocess per image at shape (1, 3, 448, 640)\n",
      "\n",
      "image 1/1 /workspace/dataset/maskDaun/test/images/healthy_test_188_jpg.rf.d108a6267d488581b9dceb966392ae0c.jpg: 448x640 1 leaf_healthy, 9.4ms\n",
      "Speed: 1.6ms preprocess, 9.4ms inference, 1.6ms postprocess per image at shape (1, 3, 448, 640)\n",
      "\n",
      "image 1/1 /workspace/dataset/maskDaun/test/images/healthy_test_187_jpg.rf.1c3c49d8222e52b12eed4e238fb87e7d.jpg: 448x640 2 leaf_healthys, 10.8ms\n",
      "Speed: 1.8ms preprocess, 10.8ms inference, 1.8ms postprocess per image at shape (1, 3, 448, 640)\n",
      "\n",
      "image 1/1 /workspace/dataset/maskDaun/test/images/healthy_test_186_jpg.rf.bd8e42be9d11252632ac22c1e91896e6.jpg: 448x640 2 leaf_healthys, 9.4ms\n",
      "Speed: 1.6ms preprocess, 9.4ms inference, 1.5ms postprocess per image at shape (1, 3, 448, 640)\n",
      "\n",
      "image 1/1 /workspace/dataset/maskDaun/test/images/healthy_test_185_jpg.rf.3972ac6ac4285f4fdcd34c3ebbe7a266.jpg: 448x640 6 leaf_healthys, 10.4ms\n",
      "Speed: 2.0ms preprocess, 10.4ms inference, 1.8ms postprocess per image at shape (1, 3, 448, 640)\n",
      "\n",
      "image 1/1 /workspace/dataset/maskDaun/test/images/healthy_test_184_jpg.rf.2f46d3f262753df7ac6c4468bf254c1d.jpg: 448x640 5 leaf_healthys, 9.5ms\n",
      "Speed: 1.7ms preprocess, 9.5ms inference, 1.5ms postprocess per image at shape (1, 3, 448, 640)\n"
     ]
    },
    {
     "name": "stderr",
     "output_type": "stream",
     "text": [
      "Processing test:  95%|█████████▍| 1647/1739 [00:20<00:02, 43.74it/s]  "
     ]
    },
    {
     "name": "stdout",
     "output_type": "stream",
     "text": [
      "\n",
      "image 1/1 /workspace/dataset/maskDaun/test/images/healthy_test_183_jpg.rf.b0845e2bcbe175c75be5bb2759eeb04e.jpg: 448x640 4 leaf_healthys, 10.5ms\n",
      "Speed: 1.7ms preprocess, 10.5ms inference, 1.7ms postprocess per image at shape (1, 3, 448, 640)\n"
     ]
    },
    {
     "name": "stderr",
     "output_type": "stream",
     "text": [
      "Processing test:  95%|█████████▍| 1648/1739 [00:21<00:02, 40.70it/s]"
     ]
    },
    {
     "name": "stdout",
     "output_type": "stream",
     "text": [
      "\n",
      "image 1/1 /workspace/dataset/maskDaun/test/images/healthy_test_180_jpg.rf.3220c8722ae7c746a3ae104b1962dc41.jpg: 448x640 1 leaf_rust, 9.5ms\n",
      "Speed: 1.6ms preprocess, 9.5ms inference, 1.7ms postprocess per image at shape (1, 3, 448, 640)\n",
      "\n",
      "image 1/1 /workspace/dataset/maskDaun/test/images/healthy_test_181_jpg.rf.ad2ea9a45d8792c0100902b44840e10d.jpg: 448x640 10 leaf_healthys, 9.3ms\n",
      "Speed: 1.7ms preprocess, 9.3ms inference, 1.6ms postprocess per image at shape (1, 3, 448, 640)\n",
      "\n",
      "image 1/1 /workspace/dataset/maskDaun/test/images/healthy_test_182_jpg.rf.0b556232e9aa5303ff53552d968e35dd.jpg: 448x640 5 leaf_healthys, 10.5ms\n",
      "Speed: 1.7ms preprocess, 10.5ms inference, 1.7ms postprocess per image at shape (1, 3, 448, 640)\n",
      "\n",
      "image 1/1 /workspace/dataset/maskDaun/test/images/healthy_test_17_jpg.rf.a9925673cacc35d6b06812ad16197231.jpg: 448x640 5 leaf_healthys, 10.0ms\n",
      "Speed: 1.8ms preprocess, 10.0ms inference, 1.6ms postprocess per image at shape (1, 3, 448, 640)\n",
      "\n",
      "image 1/1 /workspace/dataset/maskDaun/test/images/healthy_test_179_jpg.rf.cfb9b2da001ca751763366ab295a21fe.jpg: 448x640 2 leaf_healthys, 9.5ms\n",
      "Speed: 1.6ms preprocess, 9.5ms inference, 1.6ms postprocess per image at shape (1, 3, 448, 640)\n",
      "\n",
      "image 1/1 /workspace/dataset/maskDaun/test/images/healthy_test_178_jpg.rf.1c98886dfc6a216ddc66f85284bae2df.jpg: 448x640 2 leaf_healthys, 9.7ms\n",
      "Speed: 1.7ms preprocess, 9.7ms inference, 1.5ms postprocess per image at shape (1, 3, 448, 640)\n",
      "\n",
      "image 1/1 /workspace/dataset/maskDaun/test/images/healthy_test_177_jpg.rf.80a79d1ea518b4027d434abedb1c4e6e.jpg: 448x640 7 leaf_healthys, 9.3ms\n",
      "Speed: 1.6ms preprocess, 9.3ms inference, 1.6ms postprocess per image at shape (1, 3, 448, 640)\n",
      "\n",
      "image 1/1 /workspace/dataset/maskDaun/test/images/healthy_test_176_jpg.rf.5711dfb9c395ed5eac8bed59f3f4a104.jpg: 448x640 6 leaf_healthys, 9.4ms\n",
      "Speed: 1.6ms preprocess, 9.4ms inference, 1.5ms postprocess per image at shape (1, 3, 448, 640)\n",
      "\n",
      "image 1/1 /workspace/dataset/maskDaun/test/images/healthy_test_175_jpg.rf.76a2f8d69c0072c6e6a612d94dd71792.jpg: 448x640 1 leaf_rust, 9.5ms\n",
      "Speed: 1.6ms preprocess, 9.5ms inference, 1.5ms postprocess per image at shape (1, 3, 448, 640)\n",
      "\n",
      "image 1/1 /workspace/dataset/maskDaun/test/images/healthy_test_174_jpg.rf.196e50fbb7404b652aa7d8ada9b84026.jpg: 448x640 5 leaf_healthys, 9.5ms\n",
      "Speed: 1.6ms preprocess, 9.5ms inference, 1.5ms postprocess per image at shape (1, 3, 448, 640)\n",
      "\n",
      "image 1/1 /workspace/dataset/maskDaun/test/images/healthy_test_173_jpg.rf.4574c5f236b4bfd098def3020f15f248.jpg: 448x640 1 leaf_healthy, 9.9ms\n",
      "Speed: 1.7ms preprocess, 9.9ms inference, 1.5ms postprocess per image at shape (1, 3, 448, 640)\n",
      "\n",
      "image 1/1 /workspace/dataset/maskDaun/test/images/healthy_test_172_jpg.rf.132a44be58bb0f066c44fb5482e6950b.jpg: 448x640 5 leaf_healthys, 9.4ms\n",
      "Speed: 1.5ms preprocess, 9.4ms inference, 1.5ms postprocess per image at shape (1, 3, 448, 640)\n",
      "\n",
      "image 1/1 /workspace/dataset/maskDaun/test/images/healthy_test_170_jpg.rf.c2b21d1eb272b046f4abb498750e5fce.jpg: 448x640 7 leaf_healthys, 10.3ms\n",
      "Speed: 1.7ms preprocess, 10.3ms inference, 1.7ms postprocess per image at shape (1, 3, 448, 640)\n",
      "\n",
      "image 1/1 /workspace/dataset/maskDaun/test/images/healthy_test_171_jpg.rf.b4ac1d752d3fd04ac76eed11f0f19d91.jpg: 448x640 6 leaf_healthys, 9.7ms\n",
      "Speed: 1.6ms preprocess, 9.7ms inference, 1.6ms postprocess per image at shape (1, 3, 448, 640)\n",
      "\n",
      "image 1/1 /workspace/dataset/maskDaun/test/images/healthy_test_16_jpg.rf.b027ada902288bd426e4a2e830333d21.jpg: 448x640 4 leaf_healthys, 10.0ms\n",
      "Speed: 1.7ms preprocess, 10.0ms inference, 1.7ms postprocess per image at shape (1, 3, 448, 640)\n",
      "\n",
      "image 1/1 /workspace/dataset/maskDaun/test/images/healthy_test_169_jpg.rf.5a21a5465738a0cbc015cff66e6b010c.jpg: 448x640 2 leaf_healthys, 9.5ms\n",
      "Speed: 1.6ms preprocess, 9.5ms inference, 1.8ms postprocess per image at shape (1, 3, 448, 640)\n",
      "\n",
      "image 1/1 /workspace/dataset/maskDaun/test/images/healthy_test_168_jpg.rf.5bdc01091135cfa02a8a7677fef3786b.jpg: 448x640 1 leaf_healthy, 9.3ms\n",
      "Speed: 1.5ms preprocess, 9.3ms inference, 1.6ms postprocess per image at shape (1, 3, 448, 640)\n"
     ]
    },
    {
     "name": "stderr",
     "output_type": "stream",
     "text": [
      "Processing test:  96%|█████████▌| 1665/1739 [00:40<00:04, 15.63it/s]"
     ]
    },
    {
     "name": "stdout",
     "output_type": "stream",
     "text": [
      "\n",
      "image 1/1 /workspace/dataset/maskDaun/test/images/healthy_test_167_jpg.rf.6d7a20043c1a570f6d1200003a5f5791.jpg: 448x640 3 leaf_healthys, 2 leaf_scabs, 9.1ms\n",
      "Speed: 1.5ms preprocess, 9.1ms inference, 1.5ms postprocess per image at shape (1, 3, 448, 640)\n"
     ]
    },
    {
     "name": "stderr",
     "output_type": "stream",
     "text": [
      "Processing test:  96%|█████████▌| 1666/1739 [00:41<00:04, 14.84it/s]"
     ]
    },
    {
     "name": "stdout",
     "output_type": "stream",
     "text": [
      "\n",
      "image 1/1 /workspace/dataset/maskDaun/test/images/healthy_test_166_jpg.rf.39ab7eab63f4acef02a6872d59e683cf.jpg: 448x640 7 leaf_healthys, 9.5ms\n",
      "Speed: 1.6ms preprocess, 9.5ms inference, 1.6ms postprocess per image at shape (1, 3, 448, 640)\n",
      "\n",
      "image 1/1 /workspace/dataset/maskDaun/test/images/healthy_test_165_jpg.rf.4bd4e5f2e088f8900207065fbfa6e222.jpg: 448x640 4 leaf_healthys, 9.5ms\n",
      "Speed: 1.8ms preprocess, 9.5ms inference, 1.6ms postprocess per image at shape (1, 3, 448, 640)\n",
      "\n",
      "image 1/1 /workspace/dataset/maskDaun/test/images/healthy_test_164_jpg.rf.d1dabf216854557efcd08656c538a878.jpg: 448x640 4 leaf_healthys, 10.6ms\n",
      "Speed: 1.7ms preprocess, 10.6ms inference, 1.7ms postprocess per image at shape (1, 3, 448, 640)\n",
      "\n",
      "image 1/1 /workspace/dataset/maskDaun/test/images/healthy_test_162_jpg.rf.26e45fdc0280464ffeb2ec63ac12cc0d.jpg: 448x640 3 leaf_healthys, 9.4ms\n",
      "Speed: 1.5ms preprocess, 9.4ms inference, 1.5ms postprocess per image at shape (1, 3, 448, 640)\n",
      "\n",
      "image 1/1 /workspace/dataset/maskDaun/test/images/healthy_test_163_jpg.rf.0955f49fc40d3573457cf4a787d3d2a3.jpg: 448x640 2 leaf_healthys, 10.4ms\n",
      "Speed: 1.7ms preprocess, 10.4ms inference, 2.0ms postprocess per image at shape (1, 3, 448, 640)\n",
      "\n",
      "image 1/1 /workspace/dataset/maskDaun/test/images/healthy_test_161_jpg.rf.a82419fdc4749108835695ba82be1cba.jpg: 448x640 1 leaf_healthy, 2 leaf_scabs, 9.6ms\n",
      "Speed: 1.6ms preprocess, 9.6ms inference, 1.5ms postprocess per image at shape (1, 3, 448, 640)\n",
      "\n",
      "image 1/1 /workspace/dataset/maskDaun/test/images/healthy_test_160_jpg.rf.d3e201f0efc353e141e4eb81a341a592.jpg: 448x640 4 leaf_healthys, 10.0ms\n",
      "Speed: 1.6ms preprocess, 10.0ms inference, 1.7ms postprocess per image at shape (1, 3, 448, 640)\n",
      "\n",
      "image 1/1 /workspace/dataset/maskDaun/test/images/healthy_test_15_jpg.rf.df3b4a2432bd320dfe7ef0bd976fe67f.jpg: 448x640 4 leaf_healthys, 9.4ms\n",
      "Speed: 1.6ms preprocess, 9.4ms inference, 1.6ms postprocess per image at shape (1, 3, 448, 640)\n",
      "\n",
      "image 1/1 /workspace/dataset/maskDaun/test/images/healthy_test_159_jpg.rf.a72677415bd55ec6cbda7141dc572487.jpg: 448x640 1 leaf_scab, 9.4ms\n",
      "Speed: 1.6ms preprocess, 9.4ms inference, 1.6ms postprocess per image at shape (1, 3, 448, 640)\n",
      "\n",
      "image 1/1 /workspace/dataset/maskDaun/test/images/healthy_test_158_jpg.rf.576504d7c96291fd76adf71253b20ddc.jpg: 448x640 3 leaf_healthys, 9.6ms\n",
      "Speed: 1.6ms preprocess, 9.6ms inference, 1.6ms postprocess per image at shape (1, 3, 448, 640)\n",
      "\n",
      "image 1/1 /workspace/dataset/maskDaun/test/images/healthy_test_157_jpg.rf.5f26d012294eb9b2e7943dcb03ed24a1.jpg: 448x640 6 leaf_healthys, 10.2ms\n",
      "Speed: 1.6ms preprocess, 10.2ms inference, 1.7ms postprocess per image at shape (1, 3, 448, 640)\n",
      "\n",
      "image 1/1 /workspace/dataset/maskDaun/test/images/healthy_test_156_jpg.rf.d7b4c35f98fda701bec0a70b0861a991.jpg: 448x640 10 leaf_healthys, 9.0ms\n",
      "Speed: 1.7ms preprocess, 9.0ms inference, 1.7ms postprocess per image at shape (1, 3, 448, 640)\n",
      "\n",
      "image 1/1 /workspace/dataset/maskDaun/test/images/healthy_test_155_jpg.rf.271251c4fc6bbdcf2395fc5cf375d63a.jpg: 448x640 2 leaf_healthys, 9.2ms\n",
      "Speed: 1.6ms preprocess, 9.2ms inference, 1.5ms postprocess per image at shape (1, 3, 448, 640)\n",
      "\n",
      "image 1/1 /workspace/dataset/maskDaun/test/images/healthy_test_154_jpg.rf.9d54f560b45af204253845da608aa597.jpg: 448x640 3 leaf_healthys, 9.9ms\n",
      "Speed: 1.7ms preprocess, 9.9ms inference, 1.7ms postprocess per image at shape (1, 3, 448, 640)\n",
      "\n",
      "image 1/1 /workspace/dataset/maskDaun/test/images/healthy_test_153_jpg.rf.a210133ea81558d3814163e95c8dce2a.jpg: 448x640 2 leaf_healthys, 9.3ms\n",
      "Speed: 1.6ms preprocess, 9.3ms inference, 1.7ms postprocess per image at shape (1, 3, 448, 640)\n",
      "\n",
      "image 1/1 /workspace/dataset/maskDaun/test/images/healthy_test_151_jpg.rf.0dd078c668ffffe02ce428408d3aa237.jpg: 448x640 2 leaf_healthys, 9.7ms\n",
      "Speed: 1.6ms preprocess, 9.7ms inference, 1.6ms postprocess per image at shape (1, 3, 448, 640)\n",
      "\n",
      "image 1/1 /workspace/dataset/maskDaun/test/images/healthy_test_152_jpg.rf.acb217578abc00e856acf5bea7fd1aef.jpg: 448x640 3 leaf_healthys, 9.4ms\n",
      "Speed: 1.7ms preprocess, 9.4ms inference, 1.5ms postprocess per image at shape (1, 3, 448, 640)\n"
     ]
    },
    {
     "name": "stderr",
     "output_type": "stream",
     "text": [
      "Processing test:  97%|█████████▋| 1683/1739 [01:00<00:07,  7.10it/s]"
     ]
    },
    {
     "name": "stdout",
     "output_type": "stream",
     "text": [
      "\n",
      "image 1/1 /workspace/dataset/maskDaun/test/images/healthy_test_150_jpg.rf.4638fb0cb6221e9099251e8dde790f60.jpg: 448x640 5 leaf_healthys, 9.5ms\n",
      "Speed: 1.7ms preprocess, 9.5ms inference, 1.6ms postprocess per image at shape (1, 3, 448, 640)\n"
     ]
    },
    {
     "name": "stderr",
     "output_type": "stream",
     "text": [
      "Processing test:  97%|█████████▋| 1684/1739 [01:01<00:08,  6.82it/s]"
     ]
    },
    {
     "name": "stdout",
     "output_type": "stream",
     "text": [
      "\n",
      "image 1/1 /workspace/dataset/maskDaun/test/images/healthy_test_14_jpg.rf.c7d2ddcabc5f78c0254866a05cf909b1.jpg: 448x640 2 leaf_healthys, 9.4ms\n",
      "Speed: 1.6ms preprocess, 9.4ms inference, 1.6ms postprocess per image at shape (1, 3, 448, 640)\n",
      "\n",
      "image 1/1 /workspace/dataset/maskDaun/test/images/healthy_test_149_jpg.rf.9ea1116639589904416746e649efff55.jpg: 448x640 11 leaf_healthys, 9.6ms\n",
      "Speed: 1.7ms preprocess, 9.6ms inference, 1.6ms postprocess per image at shape (1, 3, 448, 640)\n",
      "\n",
      "image 1/1 /workspace/dataset/maskDaun/test/images/healthy_test_148_jpg.rf.5c69c3455ece634b79ce4ededea91518.jpg: 448x640 4 leaf_healthys, 9.3ms\n",
      "Speed: 1.6ms preprocess, 9.3ms inference, 1.5ms postprocess per image at shape (1, 3, 448, 640)\n",
      "\n",
      "image 1/1 /workspace/dataset/maskDaun/test/images/healthy_test_147_jpg.rf.7178f86ef4b4d55a17680db0668b3d09.jpg: 448x640 6 leaf_healthys, 2 leaf_scabs, 9.3ms\n",
      "Speed: 1.7ms preprocess, 9.3ms inference, 1.6ms postprocess per image at shape (1, 3, 448, 640)\n",
      "\n",
      "image 1/1 /workspace/dataset/maskDaun/test/images/healthy_test_146_jpg.rf.a1018f95727ef90278fdd41bd84e79b5.jpg: 448x640 3 leaf_healthys, 9.5ms\n",
      "Speed: 1.7ms preprocess, 9.5ms inference, 1.6ms postprocess per image at shape (1, 3, 448, 640)\n",
      "\n",
      "image 1/1 /workspace/dataset/maskDaun/test/images/healthy_test_145_jpg.rf.bc5f8ae2fe778da9620b83971b3b0692.jpg: 448x640 4 leaf_healthys, 9.8ms\n",
      "Speed: 1.6ms preprocess, 9.8ms inference, 1.5ms postprocess per image at shape (1, 3, 448, 640)\n",
      "\n",
      "image 1/1 /workspace/dataset/maskDaun/test/images/healthy_test_144_jpg.rf.98c700912a2d27e64fdbe191209391c4.jpg: 448x640 4 leaf_healthys, 9.7ms\n",
      "Speed: 1.6ms preprocess, 9.7ms inference, 1.6ms postprocess per image at shape (1, 3, 448, 640)\n",
      "\n",
      "image 1/1 /workspace/dataset/maskDaun/test/images/healthy_test_143_jpg.rf.9f03e6dcaa53e5ea83bd36772384a7eb.jpg: 448x640 1 leaf_healthy, 1 leaf_scab, 10.4ms\n",
      "Speed: 1.9ms preprocess, 10.4ms inference, 1.8ms postprocess per image at shape (1, 3, 448, 640)\n",
      "\n",
      "image 1/1 /workspace/dataset/maskDaun/test/images/healthy_test_142_jpg.rf.a3f472762e0cca9a7ff7f4e95b2cd16f.jpg: 448x640 2 leaf_healthys, 9.8ms\n",
      "Speed: 2.0ms preprocess, 9.8ms inference, 1.6ms postprocess per image at shape (1, 3, 448, 640)\n",
      "\n",
      "image 1/1 /workspace/dataset/maskDaun/test/images/healthy_test_141_jpg.rf.3cd508b89fcc9a4c958b199037b30a8a.jpg: 448x640 3 leaf_healthys, 9.2ms\n",
      "Speed: 1.7ms preprocess, 9.2ms inference, 1.5ms postprocess per image at shape (1, 3, 448, 640)\n",
      "\n",
      "image 1/1 /workspace/dataset/maskDaun/test/images/healthy_test_140_jpg.rf.32a4521e295301542c8edfc248df9e5b.jpg: 448x640 14 leaf_healthys, 9.9ms\n",
      "Speed: 1.7ms preprocess, 9.9ms inference, 2.0ms postprocess per image at shape (1, 3, 448, 640)\n",
      "\n",
      "image 1/1 /workspace/dataset/maskDaun/test/images/healthy_test_139_jpg.rf.dcf0bd46ea29c723d065ea5aaec45948.jpg: 448x640 3 leaf_healthys, 1 leaf_scab, 9.5ms\n",
      "Speed: 1.7ms preprocess, 9.5ms inference, 1.6ms postprocess per image at shape (1, 3, 448, 640)\n",
      "\n",
      "image 1/1 /workspace/dataset/maskDaun/test/images/healthy_test_13_jpg.rf.38189d9bfad696db5febc33c40434b59.jpg: 448x640 9 leaf_healthys, 9.7ms\n",
      "Speed: 1.6ms preprocess, 9.7ms inference, 1.6ms postprocess per image at shape (1, 3, 448, 640)\n",
      "\n",
      "image 1/1 /workspace/dataset/maskDaun/test/images/healthy_test_138_jpg.rf.149a337a3fec2a4d91d2946eb589d0ef.jpg: 448x640 2 leaf_healthys, 9.5ms\n",
      "Speed: 1.7ms preprocess, 9.5ms inference, 1.6ms postprocess per image at shape (1, 3, 448, 640)\n",
      "\n",
      "image 1/1 /workspace/dataset/maskDaun/test/images/healthy_test_137_jpg.rf.93bf30d48e902738e8772bd7e43629b5.jpg: 448x640 3 leaf_healthys, 2 leaf_rusts, 9.4ms\n",
      "Speed: 1.6ms preprocess, 9.4ms inference, 1.5ms postprocess per image at shape (1, 3, 448, 640)\n",
      "\n",
      "image 1/1 /workspace/dataset/maskDaun/test/images/healthy_test_136_jpg.rf.83ec5c364d4c582c6edd4f36dd760ff8.jpg: 448x640 6 leaf_healthys, 9.5ms\n",
      "Speed: 1.6ms preprocess, 9.5ms inference, 1.6ms postprocess per image at shape (1, 3, 448, 640)\n",
      "\n",
      "image 1/1 /workspace/dataset/maskDaun/test/images/healthy_test_135_jpg.rf.6f47b37bcabfae6d92025735ae7dc9d7.jpg: 448x640 5 leaf_healthys, 9.0ms\n",
      "Speed: 1.6ms preprocess, 9.0ms inference, 1.5ms postprocess per image at shape (1, 3, 448, 640)\n"
     ]
    },
    {
     "name": "stderr",
     "output_type": "stream",
     "text": [
      "Processing test:  98%|█████████▊| 1701/1739 [01:20<00:10,  3.75it/s]"
     ]
    },
    {
     "name": "stdout",
     "output_type": "stream",
     "text": [
      "\n",
      "image 1/1 /workspace/dataset/maskDaun/test/images/healthy_test_133_jpg.rf.d14dccb0c2eeb6f0c5a8cb2eca40a2c2.jpg: 448x640 4 leaf_healthys, 9.4ms\n",
      "Speed: 1.6ms preprocess, 9.4ms inference, 1.5ms postprocess per image at shape (1, 3, 448, 640)\n"
     ]
    },
    {
     "name": "stderr",
     "output_type": "stream",
     "text": [
      "Processing test:  98%|█████████▊| 1702/1739 [01:21<00:10,  3.63it/s]"
     ]
    },
    {
     "name": "stdout",
     "output_type": "stream",
     "text": [
      "\n",
      "image 1/1 /workspace/dataset/maskDaun/test/images/healthy_test_134_jpg.rf.0e75a9e02ee04406bb64cd2968e577e4.jpg: 448x640 4 leaf_healthys, 9.6ms\n",
      "Speed: 1.7ms preprocess, 9.6ms inference, 1.6ms postprocess per image at shape (1, 3, 448, 640)\n",
      "\n",
      "image 1/1 /workspace/dataset/maskDaun/test/images/healthy_test_132_jpg.rf.09f662033fc49cccc3d26ecaab888be8.jpg: 448x640 2 leaf_healthys, 11.9ms\n",
      "Speed: 1.9ms preprocess, 11.9ms inference, 2.1ms postprocess per image at shape (1, 3, 448, 640)\n",
      "\n",
      "image 1/1 /workspace/dataset/maskDaun/test/images/healthy_test_131_jpg.rf.c7d6027ed63640f268204b4a144f9b57.jpg: 448x640 9 leaf_healthys, 12.0ms\n",
      "Speed: 1.9ms preprocess, 12.0ms inference, 2.3ms postprocess per image at shape (1, 3, 448, 640)\n",
      "\n",
      "image 1/1 /workspace/dataset/maskDaun/test/images/healthy_test_130_jpg.rf.396978268ad0d2575f2cda824e35a5fb.jpg: 448x640 5 leaf_healthys, 11.4ms\n",
      "Speed: 1.9ms preprocess, 11.4ms inference, 1.9ms postprocess per image at shape (1, 3, 448, 640)\n",
      "\n",
      "image 1/1 /workspace/dataset/maskDaun/test/images/healthy_test_12_jpg.rf.5b19e3e93dee9dbacc3cac7fab09568f.jpg: 448x640 8 leaf_healthys, 10.5ms\n",
      "Speed: 1.7ms preprocess, 10.5ms inference, 1.8ms postprocess per image at shape (1, 3, 448, 640)\n",
      "\n",
      "image 1/1 /workspace/dataset/maskDaun/test/images/healthy_test_129_jpg.rf.f23d8ebe27d17bb2ea69ef9452d3670b.jpg: 448x640 2 leaf_healthys, 10.5ms\n",
      "Speed: 1.7ms preprocess, 10.5ms inference, 1.9ms postprocess per image at shape (1, 3, 448, 640)\n",
      "\n",
      "image 1/1 /workspace/dataset/maskDaun/test/images/healthy_test_128_jpg.rf.e82e279f22924b0206632d958b685082.jpg: 448x640 3 leaf_healthys, 11.1ms\n",
      "Speed: 1.7ms preprocess, 11.1ms inference, 1.9ms postprocess per image at shape (1, 3, 448, 640)\n",
      "\n",
      "image 1/1 /workspace/dataset/maskDaun/test/images/healthy_test_126_jpg.rf.a74732672d3f24d84ce2fdb1d1ff4220.jpg: 448x640 6 leaf_healthys, 9.6ms\n",
      "Speed: 1.6ms preprocess, 9.6ms inference, 1.6ms postprocess per image at shape (1, 3, 448, 640)\n",
      "\n",
      "image 1/1 /workspace/dataset/maskDaun/test/images/healthy_test_127_jpg.rf.de617a38c30e95b4166f9cc4e1643d4b.jpg: 448x640 5 leaf_healthys, 9.4ms\n",
      "Speed: 1.6ms preprocess, 9.4ms inference, 1.5ms postprocess per image at shape (1, 3, 448, 640)\n",
      "\n",
      "image 1/1 /workspace/dataset/maskDaun/test/images/healthy_test_124_jpg.rf.b46fe0e6bf9e002855a4175972def778.jpg: 448x640 4 leaf_healthys, 11.7ms\n",
      "Speed: 1.8ms preprocess, 11.7ms inference, 1.9ms postprocess per image at shape (1, 3, 448, 640)\n",
      "\n",
      "image 1/1 /workspace/dataset/maskDaun/test/images/healthy_test_125_jpg.rf.c76ffdccd648f0db4e17ea08ba96aaa3.jpg: 448x640 8 leaf_healthys, 10.1ms\n",
      "Speed: 1.6ms preprocess, 10.1ms inference, 1.7ms postprocess per image at shape (1, 3, 448, 640)\n",
      "\n",
      "image 1/1 /workspace/dataset/maskDaun/test/images/healthy_test_122_jpg.rf.58c9ce4948e48cb0c3eedc0415cdc01e.jpg: 448x640 1 leaf_healthy, 9.4ms\n",
      "Speed: 1.5ms preprocess, 9.4ms inference, 1.6ms postprocess per image at shape (1, 3, 448, 640)\n",
      "\n",
      "image 1/1 /workspace/dataset/maskDaun/test/images/healthy_test_123_jpg.rf.e437189f0537eae23efb2e75e29f6455.jpg: 448x640 6 leaf_healthys, 9.3ms\n",
      "Speed: 1.5ms preprocess, 9.3ms inference, 1.5ms postprocess per image at shape (1, 3, 448, 640)\n",
      "\n",
      "image 1/1 /workspace/dataset/maskDaun/test/images/healthy_test_121_jpg.rf.76f75dba861845035ed805c89d302365.jpg: 448x640 5 leaf_healthys, 12.3ms\n",
      "Speed: 2.0ms preprocess, 12.3ms inference, 1.9ms postprocess per image at shape (1, 3, 448, 640)\n",
      "\n",
      "image 1/1 /workspace/dataset/maskDaun/test/images/healthy_test_120_jpg.rf.e7f1ccc76b6ba4ec5b02d4ad058560bd.jpg: 448x640 5 leaf_healthys, 10.4ms\n",
      "Speed: 1.6ms preprocess, 10.4ms inference, 1.8ms postprocess per image at shape (1, 3, 448, 640)\n",
      "\n",
      "image 1/1 /workspace/dataset/maskDaun/test/images/healthy_test_11_jpg.rf.ce9141722b38fe9715b1ab25acc245de.jpg: 448x640 2 leaf_rusts, 9.8ms\n",
      "Speed: 1.7ms preprocess, 9.8ms inference, 1.6ms postprocess per image at shape (1, 3, 448, 640)\n",
      "\n",
      "image 1/1 /workspace/dataset/maskDaun/test/images/healthy_test_119_jpg.rf.fa9c990a977e35a9e2601d33ff43e244.jpg: 448x640 5 leaf_healthys, 9.3ms\n",
      "Speed: 1.9ms preprocess, 9.3ms inference, 1.6ms postprocess per image at shape (1, 3, 448, 640)\n"
     ]
    },
    {
     "name": "stderr",
     "output_type": "stream",
     "text": [
      "Processing test:  99%|█████████▉| 1719/1739 [01:40<00:08,  2.23it/s]"
     ]
    },
    {
     "name": "stdout",
     "output_type": "stream",
     "text": [
      "\n",
      "image 1/1 /workspace/dataset/maskDaun/test/images/healthy_test_118_jpg.rf.b639946a5d2523761fa312c5c9339d8a.jpg: 448x640 2 leaf_healthys, 11.8ms\n",
      "Speed: 1.8ms preprocess, 11.8ms inference, 1.9ms postprocess per image at shape (1, 3, 448, 640)\n"
     ]
    },
    {
     "name": "stderr",
     "output_type": "stream",
     "text": [
      "Processing test:  99%|█████████▉| 1720/1739 [01:41<00:08,  2.17it/s]"
     ]
    },
    {
     "name": "stdout",
     "output_type": "stream",
     "text": [
      "\n",
      "image 1/1 /workspace/dataset/maskDaun/test/images/healthy_test_117_jpg.rf.dcca970bb4f2cee2793b2976013861e4.jpg: 448x640 3 leaf_healthys, 10.1ms\n",
      "Speed: 1.7ms preprocess, 10.1ms inference, 1.7ms postprocess per image at shape (1, 3, 448, 640)\n",
      "\n",
      "image 1/1 /workspace/dataset/maskDaun/test/images/healthy_test_116_jpg.rf.b0548622387627952b11f5c6448d91cc.jpg: 448x640 3 leaf_healthys, 10.0ms\n",
      "Speed: 1.6ms preprocess, 10.0ms inference, 1.6ms postprocess per image at shape (1, 3, 448, 640)\n",
      "\n",
      "image 1/1 /workspace/dataset/maskDaun/test/images/healthy_test_115_jpg.rf.a7bb8cd31a013a918d401a2ae3d9aae1.jpg: 448x640 4 leaf_healthys, 9.7ms\n",
      "Speed: 1.6ms preprocess, 9.7ms inference, 1.7ms postprocess per image at shape (1, 3, 448, 640)\n",
      "\n",
      "image 1/1 /workspace/dataset/maskDaun/test/images/healthy_test_114_jpg.rf.892f7d0730f8f59eab93de756501ce10.jpg: 448x640 2 leaf_scabs, 10.8ms\n",
      "Speed: 1.7ms preprocess, 10.8ms inference, 1.7ms postprocess per image at shape (1, 3, 448, 640)\n",
      "\n",
      "image 1/1 /workspace/dataset/maskDaun/test/images/healthy_test_113_jpg.rf.061a2d26a724656c2a5fb91ace82a95c.jpg: 448x640 6 leaf_healthys, 10.8ms\n",
      "Speed: 1.8ms preprocess, 10.8ms inference, 1.8ms postprocess per image at shape (1, 3, 448, 640)\n",
      "\n",
      "image 1/1 /workspace/dataset/maskDaun/test/images/healthy_test_112_jpg.rf.56c6c3b71aefa58216e3b5ac9ac4a9bc.jpg: 448x640 3 leaf_healthys, 10.0ms\n",
      "Speed: 1.7ms preprocess, 10.0ms inference, 1.7ms postprocess per image at shape (1, 3, 448, 640)\n",
      "\n",
      "image 1/1 /workspace/dataset/maskDaun/test/images/healthy_test_111_jpg.rf.7f417b2b2d0df75205097dde4ad0a7e7.jpg: 448x640 5 leaf_healthys, 9.7ms\n",
      "Speed: 1.6ms preprocess, 9.7ms inference, 1.7ms postprocess per image at shape (1, 3, 448, 640)\n",
      "\n",
      "image 1/1 /workspace/dataset/maskDaun/test/images/healthy_test_110_jpg.rf.df61fec533d7f3730063774d0c35c68a.jpg: 448x640 11 leaf_healthys, 9.9ms\n",
      "Speed: 1.6ms preprocess, 9.9ms inference, 1.6ms postprocess per image at shape (1, 3, 448, 640)\n",
      "\n",
      "image 1/1 /workspace/dataset/maskDaun/test/images/healthy_test_10_jpg.rf.1dc02cc869f36b0696785ccd6c629290.jpg: 448x640 4 leaf_healthys, 10.6ms\n",
      "Speed: 2.1ms preprocess, 10.6ms inference, 1.7ms postprocess per image at shape (1, 3, 448, 640)\n",
      "\n",
      "image 1/1 /workspace/dataset/maskDaun/test/images/healthy_test_109_jpg.rf.826f35c730a5e56a5f4778a00d703cbb.jpg: 448x640 2 leaf_healthys, 9.9ms\n",
      "Speed: 1.7ms preprocess, 9.9ms inference, 1.6ms postprocess per image at shape (1, 3, 448, 640)\n",
      "\n",
      "image 1/1 /workspace/dataset/maskDaun/test/images/healthy_test_108_jpg.rf.24d3a7314f05ce44f85a77da20cdec7e.jpg: 448x640 3 leaf_healthys, 9.4ms\n",
      "Speed: 1.6ms preprocess, 9.4ms inference, 1.6ms postprocess per image at shape (1, 3, 448, 640)\n",
      "\n",
      "image 1/1 /workspace/dataset/maskDaun/test/images/healthy_test_107_jpg.rf.0ba8ee6e9cde8cbfa951f2c97eb67e52.jpg: 448x640 4 leaf_healthys, 9.5ms\n",
      "Speed: 1.6ms preprocess, 9.5ms inference, 1.5ms postprocess per image at shape (1, 3, 448, 640)\n",
      "\n",
      "image 1/1 /workspace/dataset/maskDaun/test/images/healthy_test_106_jpg.rf.44211c5e581b36deac7af35d97c6eeef.jpg: 448x640 4 leaf_healthys, 9.5ms\n",
      "Speed: 1.6ms preprocess, 9.5ms inference, 1.6ms postprocess per image at shape (1, 3, 448, 640)\n",
      "\n",
      "image 1/1 /workspace/dataset/maskDaun/test/images/healthy_test_105_jpg.rf.5fa504856a01ceb007c0b6d7b9c434e2.jpg: 448x640 4 leaf_healthys, 10.5ms\n",
      "Speed: 1.7ms preprocess, 10.5ms inference, 1.8ms postprocess per image at shape (1, 3, 448, 640)\n",
      "\n",
      "image 1/1 /workspace/dataset/maskDaun/test/images/healthy_test_104_jpg.rf.9bbc32acf8a1a9543bd77cbb916a3c06.jpg: 448x640 4 leaf_healthys, 10.3ms\n",
      "Speed: 1.7ms preprocess, 10.3ms inference, 1.7ms postprocess per image at shape (1, 3, 448, 640)\n",
      "\n",
      "image 1/1 /workspace/dataset/maskDaun/test/images/healthy_test_103_jpg.rf.40b9e4bad6ed3c534d699e55f7dbc57e.jpg: 448x640 4 leaf_healthys, 9.0ms\n",
      "Speed: 1.6ms preprocess, 9.0ms inference, 1.6ms postprocess per image at shape (1, 3, 448, 640)\n",
      "\n"
     ]
    },
    {
     "name": "stderr",
     "output_type": "stream",
     "text": [
      "Processing test:  99%|█████████▉| 1720/1739 [02:00<00:08,  2.17it/s]"
     ]
    },
    {
     "name": "stdout",
     "output_type": "stream",
     "text": [
      "image 1/1 /workspace/dataset/maskDaun/test/images/healthy_test_102_jpg.rf.295c3e1658832037e8b98f9e57a93fb1.jpg: 448x640 2 leaf_healthys, 9.4ms\n",
      "Speed: 1.6ms preprocess, 9.4ms inference, 1.6ms postprocess per image at shape (1, 3, 448, 640)\n"
     ]
    },
    {
     "name": "stderr",
     "output_type": "stream",
     "text": [
      "Processing test: 100%|█████████▉| 1737/1739 [02:01<00:01,  1.53it/s]"
     ]
    },
    {
     "name": "stdout",
     "output_type": "stream",
     "text": [
      "\n",
      "image 1/1 /workspace/dataset/maskDaun/test/images/healthy_test_101_jpg.rf.e3d192646352805ac0c1dd7b5a03237e.jpg: 448x640 2 leaf_healthys, 9.7ms\n",
      "Speed: 1.6ms preprocess, 9.7ms inference, 1.6ms postprocess per image at shape (1, 3, 448, 640)\n"
     ]
    },
    {
     "name": "stderr",
     "output_type": "stream",
     "text": [
      "Processing test: 100%|█████████▉| 1738/1739 [02:02<00:00,  1.50it/s]"
     ]
    },
    {
     "name": "stdout",
     "output_type": "stream",
     "text": [
      "\n",
      "image 1/1 /workspace/dataset/maskDaun/test/images/healthy_test_100_jpg.rf.e1a62c8829771ce4a544178acf5b9645.jpg: 448x640 1 leaf_healthy, 1 leaf_rust, 1 leaf_scab, 10.9ms\n",
      "Speed: 1.8ms preprocess, 10.9ms inference, 1.8ms postprocess per image at shape (1, 3, 448, 640)\n"
     ]
    },
    {
     "name": "stderr",
     "output_type": "stream",
     "text": [
      "Processing test: 100%|██████████| 1739/1739 [02:03<00:00, 14.10it/s]"
     ]
    },
    {
     "name": "stdout",
     "output_type": "stream",
     "text": [
      "✅  Selesai memproses split test. Hasil disimpan di: view/maskDaun/test\n",
      "\n",
      "🎉 Semua proses telah selesai!\n"
     ]
    },
    {
     "name": "stderr",
     "output_type": "stream",
     "text": [
      "\n"
     ]
    }
   ],
   "source": [
    "import os\n",
    "import cv2\n",
    "import numpy as np\n",
    "import matplotlib.pyplot as plt\n",
    "from ultralytics import YOLO\n",
    "from pathlib import Path\n",
    "from tqdm import tqdm\n",
    "\n",
    "def process_and_visualize_split(split_name, base_dataset_dir, model, base_output_dir):\n",
    "    \"\"\"\n",
    "    Memproses semua gambar dalam satu set data (train, val, atau test)\n",
    "    dan menyimpan visualisasi perbandingannya. Jika visualisasi sudah ada,\n",
    "    proses akan dilewati.\n",
    "\n",
    "    Args:\n",
    "        split_name (str): Nama set data ('train', 'val', 'test').\n",
    "        base_dataset_dir (Path): Path objek ke direktori dasar dataset.\n",
    "        model (YOLO): Objek model YOLO yang sudah dimuat.\n",
    "        base_output_dir (Path): Path objek ke direktori dasar output.\n",
    "    \"\"\"\n",
    "    print(f\"\\n{'='*25}\\nProcessing split: {split_name.upper()}\\n{'='*25}\")\n",
    "\n",
    "    # 1. Definisikan semua path yang relevan untuk split ini\n",
    "    image_dir = base_dataset_dir / 'maskDaun' / split_name / 'images'\n",
    "    mask_label_dir = base_dataset_dir / 'maskDaun' / split_name / 'labels'\n",
    "    bbox_label_dir = base_dataset_dir / 'objectDetection' / split_name / 'labels'\n",
    "    output_dir = base_output_dir / split_name\n",
    "\n",
    "    output_dir.mkdir(parents=True, exist_ok=True)\n",
    "\n",
    "    image_files = list(image_dir.glob('*.jpg')) + list(image_dir.glob('*.jpeg')) + list(image_dir.glob('*.png'))\n",
    "\n",
    "    if not image_files:\n",
    "        print(f\"⚠️  Peringatan: Tidak ada gambar ditemukan di {image_dir}, melewati split ini.\")\n",
    "        return\n",
    "\n",
    "    # 2. Loop melalui setiap gambar dalam direktori dengan progress bar\n",
    "    for image_path in tqdm(image_files, desc=f\"Processing {split_name}\"):\n",
    "        base_name = image_path.stem\n",
    "        \n",
    "        # --- MODIFIKASI DIMULAI DI SINI ---\n",
    "        \n",
    "        # Tentukan path output terlebih dahulu\n",
    "        output_filename = f\"komparasi_{base_name}.png\"\n",
    "        output_path = output_dir / output_filename\n",
    "\n",
    "        # Jika file output sudah ada, lewati (skip) proses untuk gambar ini\n",
    "        if output_path.exists():\n",
    "            continue # Lanjut ke file berikutnya di dalam loop\n",
    "\n",
    "        # --- AKHIR MODIFIKASI ---\n",
    "\n",
    "        image = cv2.imread(str(image_path))\n",
    "        if image is None:\n",
    "            tqdm.write(f\"❌ Gagal membaca {image_path.name}, dilewati.\")\n",
    "            continue\n",
    "\n",
    "        image_rgb = cv2.cvtColor(image, cv2.COLOR_BGR2RGB)\n",
    "        h, w, _ = image.shape\n",
    "        \n",
    "        image_with_bbox = image_rgb.copy()\n",
    "        image_for_mask = image_rgb.copy()\n",
    "\n",
    "        # 3. Gambar Ground Truth Bounding Box\n",
    "        bbox_label_path = bbox_label_dir / f\"{base_name}.txt\"\n",
    "        if bbox_label_path.exists():\n",
    "            with open(bbox_label_path, 'r') as f:\n",
    "                for line in f:\n",
    "                    parts = line.strip().split()\n",
    "                    _, x_c, y_c, w_norm, h_norm = map(float, parts)\n",
    "                    x1, y1 = int((x_c - w_norm / 2) * w), int((y_c - h_norm / 2) * h)\n",
    "                    x2, y2 = int((x_c + w_norm / 2) * w), int((y_c + h_norm / 2) * h)\n",
    "                    cv2.rectangle(image_with_bbox, (x1, y1), (x2, y2), color=(255, 0, 0), thickness=2)\n",
    "        \n",
    "        # 4. Gambar Ground Truth Mask\n",
    "        mask_label_path = mask_label_dir / f\"{base_name}.txt\"\n",
    "        if mask_label_path.exists():\n",
    "            mask_overlay = image_for_mask.copy()\n",
    "            with open(mask_label_path, 'r') as f:\n",
    "                for line in f:\n",
    "                    polygon_norm = np.array(line.strip().split()[1:], dtype=np.float32).reshape(-1, 2)\n",
    "                    polygon_pixels = (polygon_norm * np.array([w, h])).astype(np.int32)\n",
    "                    cv2.fillPoly(mask_overlay, [polygon_pixels], color=(0, 255, 0))\n",
    "            image_with_mask = cv2.addWeighted(mask_overlay, 0.5, image_for_mask, 0.5, 0)\n",
    "        else:\n",
    "            image_with_mask = image_for_mask\n",
    "\n",
    "        # 5. Lakukan Prediksi dengan Model (hanya jika file output belum ada)\n",
    "        results = model.predict(source=str(image_path))\n",
    "        predicted_image_bgr = results[0].plot()\n",
    "        predicted_image_rgb = cv2.cvtColor(predicted_image_bgr, cv2.COLOR_BGR2RGB)\n",
    "\n",
    "        # 6. Buat dan simpan plot 3 panel\n",
    "        fig, axes = plt.subplots(1, 3, figsize=(24, 8))\n",
    "        fig.suptitle(f\"Perbandingan Anotasi untuk: {image_path.name}\", fontsize=16)\n",
    "\n",
    "        axes[0].imshow(image_with_bbox)\n",
    "        axes[0].set_title(\"Ground Truth (Bounding Box)\")\n",
    "        axes[0].axis('off')\n",
    "\n",
    "        axes[1].imshow(image_with_mask)\n",
    "        axes[1].set_title(\"Ground Truth (Mask)\")\n",
    "        axes[1].axis('off')\n",
    "        \n",
    "        axes[2].imshow(predicted_image_rgb)\n",
    "        axes[2].set_title(\"Hasil Prediksi Model\")\n",
    "        axes[2].axis('off')\n",
    "\n",
    "        plt.tight_layout(rect=[0, 0.03, 1, 0.95])\n",
    "        \n",
    "        # Simpan file ke path yang telah ditentukan di awal loop\n",
    "        plt.savefig(output_path)\n",
    "        plt.close(fig)\n",
    "\n",
    "    print(f\"✅  Selesai memproses split {split_name}. Hasil disimpan di: {output_dir}\")\n",
    "\n",
    "# --- Main Execution Block ---\n",
    "if __name__ == \"__main__\":\n",
    "    # Tentukan path utama. Gunakan Path() untuk konsistensi antar OS.\n",
    "    # Diasumsikan skrip ini ada di folder di level yang sama dengan 'dataset' dan 'results'.\n",
    "    BASE_DATASET_DIR = Path('dataset')\n",
    "    MODEL_PATH = Path('best.pt')\n",
    "    BASE_OUTPUT_DIR = Path('view/maskDaun')\n",
    "\n",
    "    # Periksa keberadaan model sebelum memulai\n",
    "    if not MODEL_PATH.exists():\n",
    "        print(f\"❌ KESALAHAN FATAL: File model tidak ditemukan di {MODEL_PATH}\")\n",
    "        print(\"Pastikan path model sudah benar sebelum menjalankan skrip.\")\n",
    "    else:\n",
    "        print(\"Memuat model YOLO. Mohon tunggu...\")\n",
    "        yolo_model = YOLO(MODEL_PATH)\n",
    "        print(\"Model berhasil dimuat.\")\n",
    "\n",
    "        # splits_to_process = ['train']\n",
    "        splits_to_process = ['test']\n",
    "        # splits_to_process = ['valid']\n",
    "        for split in splits_to_process:\n",
    "            process_and_visualize_split(split, BASE_DATASET_DIR, yolo_model, BASE_OUTPUT_DIR)\n",
    "\n",
    "        print(\"\\n🎉 Semua proses telah selesai!\")"
   ]
  },
  {
   "cell_type": "code",
   "execution_count": 3,
   "id": "085ec8b1-46ca-4525-a370-78007a85b0cf",
   "metadata": {},
   "outputs": [
    {
     "name": "stdout",
     "output_type": "stream",
     "text": [
      "✅ GPU terdeteksi! Menggunakan 'cuda'.\n",
      "   - Jumlah GPU: 1\n",
      "   - Nama GPU: NVIDIA GeForce RTX 4090\n"
     ]
    }
   ],
   "source": [
    "import torch\n",
    "if torch.cuda.is_available():\n",
    "    device = 'cuda'\n",
    "    gpu_count = torch.cuda.device_count()\n",
    "    gpu_name = torch.cuda.get_device_name(0)\n",
    "    print(f\"✅ GPU terdeteksi! Menggunakan '{device}'.\")\n",
    "    print(f\"   - Jumlah GPU: {gpu_count}\")\n",
    "    print(f\"   - Nama GPU: {gpu_name}\")\n",
    "else:\n",
    "    device = 'cpu'\n",
    "    print(\"⚠️ Peringatan: GPU tidak ditemukan. Menggunakan 'cpu'.\")\n",
    "    print(\"   Proses prediksi akan berjalan jauh lebih lambat.\")"
   ]
  }
 ],
 "metadata": {
  "kernelspec": {
   "display_name": "Python 3 (ipykernel)",
   "language": "python",
   "name": "python3"
  },
  "language_info": {
   "codemirror_mode": {
    "name": "ipython",
    "version": 3
   },
   "file_extension": ".py",
   "mimetype": "text/x-python",
   "name": "python",
   "nbconvert_exporter": "python",
   "pygments_lexer": "ipython3",
   "version": "3.11.10"
  }
 },
 "nbformat": 4,
 "nbformat_minor": 5
}
