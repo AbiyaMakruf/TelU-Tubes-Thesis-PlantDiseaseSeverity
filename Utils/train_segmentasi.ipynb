{
 "cells": [
  {
   "cell_type": "code",
   "execution_count": 1,
   "id": "290592d9",
   "metadata": {
    "scrolled": true
   },
   "outputs": [
    {
     "name": "stdout",
     "output_type": "stream",
     "text": [
      "Collecting ultralytics\n",
      "  Downloading ultralytics-8.3.162-py3-none-any.whl.metadata (37 kB)\n",
      "Requirement already satisfied: numpy>=1.23.0 in /usr/local/lib/python3.11/dist-packages (from ultralytics) (1.26.3)\n",
      "Collecting matplotlib>=3.3.0 (from ultralytics)\n",
      "  Downloading matplotlib-3.10.3-cp311-cp311-manylinux_2_17_x86_64.manylinux2014_x86_64.whl.metadata (11 kB)\n",
      "Collecting opencv-python>=4.6.0 (from ultralytics)\n",
      "  Downloading opencv_python-4.11.0.86-cp37-abi3-manylinux_2_17_x86_64.manylinux2014_x86_64.whl.metadata (20 kB)\n",
      "Requirement already satisfied: pillow>=7.1.2 in /usr/local/lib/python3.11/dist-packages (from ultralytics) (10.2.0)\n",
      "Requirement already satisfied: pyyaml>=5.3.1 in /usr/local/lib/python3.11/dist-packages (from ultralytics) (6.0.2)\n",
      "Requirement already satisfied: requests>=2.23.0 in /usr/local/lib/python3.11/dist-packages (from ultralytics) (2.32.3)\n",
      "Collecting scipy>=1.4.1 (from ultralytics)\n",
      "  Downloading scipy-1.16.0-cp311-cp311-manylinux2014_x86_64.manylinux_2_17_x86_64.whl.metadata (61 kB)\n",
      "Requirement already satisfied: torch>=1.8.0 in /usr/local/lib/python3.11/dist-packages (from ultralytics) (2.4.1+cu124)\n",
      "Requirement already satisfied: torchvision>=0.9.0 in /usr/local/lib/python3.11/dist-packages (from ultralytics) (0.19.1+cu124)\n",
      "Collecting tqdm>=4.64.0 (from ultralytics)\n",
      "  Downloading tqdm-4.67.1-py3-none-any.whl.metadata (57 kB)\n",
      "Requirement already satisfied: psutil in /usr/local/lib/python3.11/dist-packages (from ultralytics) (6.0.0)\n",
      "Collecting py-cpuinfo (from ultralytics)\n",
      "  Downloading py_cpuinfo-9.0.0-py3-none-any.whl.metadata (794 bytes)\n",
      "Collecting pandas>=1.1.4 (from ultralytics)\n",
      "  Downloading pandas-2.3.0-cp311-cp311-manylinux_2_17_x86_64.manylinux2014_x86_64.whl.metadata (91 kB)\n",
      "Collecting ultralytics-thop>=2.0.0 (from ultralytics)\n",
      "  Downloading ultralytics_thop-2.0.14-py3-none-any.whl.metadata (9.4 kB)\n",
      "Collecting contourpy>=1.0.1 (from matplotlib>=3.3.0->ultralytics)\n",
      "  Downloading contourpy-1.3.2-cp311-cp311-manylinux_2_17_x86_64.manylinux2014_x86_64.whl.metadata (5.5 kB)\n",
      "Collecting cycler>=0.10 (from matplotlib>=3.3.0->ultralytics)\n",
      "  Downloading cycler-0.12.1-py3-none-any.whl.metadata (3.8 kB)\n",
      "Collecting fonttools>=4.22.0 (from matplotlib>=3.3.0->ultralytics)\n",
      "  Downloading fonttools-4.58.5-cp311-cp311-manylinux2014_x86_64.manylinux_2_17_x86_64.whl.metadata (106 kB)\n",
      "Collecting kiwisolver>=1.3.1 (from matplotlib>=3.3.0->ultralytics)\n",
      "  Downloading kiwisolver-1.4.8-cp311-cp311-manylinux_2_17_x86_64.manylinux2014_x86_64.whl.metadata (6.2 kB)\n",
      "Requirement already satisfied: packaging>=20.0 in /usr/local/lib/python3.11/dist-packages (from matplotlib>=3.3.0->ultralytics) (24.1)\n",
      "Requirement already satisfied: pyparsing>=2.3.1 in /usr/lib/python3/dist-packages (from matplotlib>=3.3.0->ultralytics) (2.4.7)\n",
      "Requirement already satisfied: python-dateutil>=2.7 in /usr/local/lib/python3.11/dist-packages (from matplotlib>=3.3.0->ultralytics) (2.9.0.post0)\n",
      "Collecting pytz>=2020.1 (from pandas>=1.1.4->ultralytics)\n",
      "  Downloading pytz-2025.2-py2.py3-none-any.whl.metadata (22 kB)\n",
      "Collecting tzdata>=2022.7 (from pandas>=1.1.4->ultralytics)\n",
      "  Downloading tzdata-2025.2-py2.py3-none-any.whl.metadata (1.4 kB)\n",
      "Requirement already satisfied: charset-normalizer<4,>=2 in /usr/local/lib/python3.11/dist-packages (from requests>=2.23.0->ultralytics) (3.3.2)\n",
      "Requirement already satisfied: idna<4,>=2.5 in /usr/local/lib/python3.11/dist-packages (from requests>=2.23.0->ultralytics) (3.10)\n",
      "Requirement already satisfied: urllib3<3,>=1.21.1 in /usr/local/lib/python3.11/dist-packages (from requests>=2.23.0->ultralytics) (2.2.3)\n",
      "Requirement already satisfied: certifi>=2017.4.17 in /usr/local/lib/python3.11/dist-packages (from requests>=2.23.0->ultralytics) (2024.8.30)\n",
      "Requirement already satisfied: filelock in /usr/local/lib/python3.11/dist-packages (from torch>=1.8.0->ultralytics) (3.13.1)\n",
      "Requirement already satisfied: typing-extensions>=4.8.0 in /usr/local/lib/python3.11/dist-packages (from torch>=1.8.0->ultralytics) (4.9.0)\n",
      "Requirement already satisfied: sympy in /usr/local/lib/python3.11/dist-packages (from torch>=1.8.0->ultralytics) (1.12)\n",
      "Requirement already satisfied: networkx in /usr/local/lib/python3.11/dist-packages (from torch>=1.8.0->ultralytics) (3.2.1)\n",
      "Requirement already satisfied: jinja2 in /usr/local/lib/python3.11/dist-packages (from torch>=1.8.0->ultralytics) (3.1.3)\n",
      "Requirement already satisfied: fsspec in /usr/local/lib/python3.11/dist-packages (from torch>=1.8.0->ultralytics) (2024.2.0)\n",
      "Requirement already satisfied: nvidia-cuda-nvrtc-cu12==12.4.99 in /usr/local/lib/python3.11/dist-packages (from torch>=1.8.0->ultralytics) (12.4.99)\n",
      "Requirement already satisfied: nvidia-cuda-runtime-cu12==12.4.99 in /usr/local/lib/python3.11/dist-packages (from torch>=1.8.0->ultralytics) (12.4.99)\n",
      "Requirement already satisfied: nvidia-cuda-cupti-cu12==12.4.99 in /usr/local/lib/python3.11/dist-packages (from torch>=1.8.0->ultralytics) (12.4.99)\n",
      "Requirement already satisfied: nvidia-cudnn-cu12==9.1.0.70 in /usr/local/lib/python3.11/dist-packages (from torch>=1.8.0->ultralytics) (9.1.0.70)\n",
      "Requirement already satisfied: nvidia-cublas-cu12==12.4.2.65 in /usr/local/lib/python3.11/dist-packages (from torch>=1.8.0->ultralytics) (12.4.2.65)\n",
      "Requirement already satisfied: nvidia-cufft-cu12==11.2.0.44 in /usr/local/lib/python3.11/dist-packages (from torch>=1.8.0->ultralytics) (11.2.0.44)\n",
      "Requirement already satisfied: nvidia-curand-cu12==10.3.5.119 in /usr/local/lib/python3.11/dist-packages (from torch>=1.8.0->ultralytics) (10.3.5.119)\n",
      "Requirement already satisfied: nvidia-cusolver-cu12==11.6.0.99 in /usr/local/lib/python3.11/dist-packages (from torch>=1.8.0->ultralytics) (11.6.0.99)\n",
      "Requirement already satisfied: nvidia-cusparse-cu12==12.3.0.142 in /usr/local/lib/python3.11/dist-packages (from torch>=1.8.0->ultralytics) (12.3.0.142)\n",
      "Requirement already satisfied: nvidia-nccl-cu12==2.20.5 in /usr/local/lib/python3.11/dist-packages (from torch>=1.8.0->ultralytics) (2.20.5)\n",
      "Requirement already satisfied: nvidia-nvtx-cu12==12.4.99 in /usr/local/lib/python3.11/dist-packages (from torch>=1.8.0->ultralytics) (12.4.99)\n",
      "Requirement already satisfied: nvidia-nvjitlink-cu12==12.4.99 in /usr/local/lib/python3.11/dist-packages (from torch>=1.8.0->ultralytics) (12.4.99)\n",
      "Requirement already satisfied: triton==3.0.0 in /usr/local/lib/python3.11/dist-packages (from torch>=1.8.0->ultralytics) (3.0.0)\n",
      "Requirement already satisfied: six>=1.5 in /usr/lib/python3/dist-packages (from python-dateutil>=2.7->matplotlib>=3.3.0->ultralytics) (1.16.0)\n",
      "Requirement already satisfied: MarkupSafe>=2.0 in /usr/local/lib/python3.11/dist-packages (from jinja2->torch>=1.8.0->ultralytics) (2.1.5)\n",
      "Requirement already satisfied: mpmath>=0.19 in /usr/local/lib/python3.11/dist-packages (from sympy->torch>=1.8.0->ultralytics) (1.3.0)\n",
      "Downloading ultralytics-8.3.162-py3-none-any.whl (1.0 MB)\n",
      "\u001b[2K   \u001b[90m━━━━━━━━━━━━━━━━━━━━━━━━━━━━━━━━━━━━━━━━\u001b[0m \u001b[32m1.0/1.0 MB\u001b[0m \u001b[31m64.6 MB/s\u001b[0m eta \u001b[36m0:00:00\u001b[0m\n",
      "\u001b[?25hDownloading matplotlib-3.10.3-cp311-cp311-manylinux_2_17_x86_64.manylinux2014_x86_64.whl (8.6 MB)\n",
      "\u001b[2K   \u001b[90m━━━━━━━━━━━━━━━━━━━━━━━━━━━━━━━━━━━━━━━━\u001b[0m \u001b[32m8.6/8.6 MB\u001b[0m \u001b[31m244.8 MB/s\u001b[0m eta \u001b[36m0:00:00\u001b[0m\n",
      "\u001b[?25hDownloading opencv_python-4.11.0.86-cp37-abi3-manylinux_2_17_x86_64.manylinux2014_x86_64.whl (63.0 MB)\n",
      "\u001b[2K   \u001b[90m━━━━━━━━━━━━━━━━━━━━━━━━━━━━━━━━━━━━━━━━\u001b[0m \u001b[32m63.0/63.0 MB\u001b[0m \u001b[31m352.5 MB/s\u001b[0m eta \u001b[36m0:00:00\u001b[0m\n",
      "\u001b[?25hDownloading pandas-2.3.0-cp311-cp311-manylinux_2_17_x86_64.manylinux2014_x86_64.whl (12.4 MB)\n",
      "\u001b[2K   \u001b[90m━━━━━━━━━━━━━━━━━━━━━━━━━━━━━━━━━━━━━━━━\u001b[0m \u001b[32m12.4/12.4 MB\u001b[0m \u001b[31m370.0 MB/s\u001b[0m eta \u001b[36m0:00:00\u001b[0m\n",
      "\u001b[?25hDownloading scipy-1.16.0-cp311-cp311-manylinux2014_x86_64.manylinux_2_17_x86_64.whl (35.3 MB)\n",
      "\u001b[2K   \u001b[90m━━━━━━━━━━━━━━━━━━━━━━━━━━━━━━━━━━━━━━━━\u001b[0m \u001b[32m35.3/35.3 MB\u001b[0m \u001b[31m338.0 MB/s\u001b[0m eta \u001b[36m0:00:00\u001b[0m\n",
      "\u001b[?25hDownloading tqdm-4.67.1-py3-none-any.whl (78 kB)\n",
      "Downloading ultralytics_thop-2.0.14-py3-none-any.whl (26 kB)\n",
      "Downloading py_cpuinfo-9.0.0-py3-none-any.whl (22 kB)\n",
      "Downloading contourpy-1.3.2-cp311-cp311-manylinux_2_17_x86_64.manylinux2014_x86_64.whl (326 kB)\n",
      "Downloading cycler-0.12.1-py3-none-any.whl (8.3 kB)\n",
      "Downloading fonttools-4.58.5-cp311-cp311-manylinux2014_x86_64.manylinux_2_17_x86_64.whl (5.0 MB)\n",
      "\u001b[2K   \u001b[90m━━━━━━━━━━━━━━━━━━━━━━━━━━━━━━━━━━━━━━━━\u001b[0m \u001b[32m5.0/5.0 MB\u001b[0m \u001b[31m295.0 MB/s\u001b[0m eta \u001b[36m0:00:00\u001b[0m\n",
      "\u001b[?25hDownloading kiwisolver-1.4.8-cp311-cp311-manylinux_2_17_x86_64.manylinux2014_x86_64.whl (1.4 MB)\n",
      "\u001b[2K   \u001b[90m━━━━━━━━━━━━━━━━━━━━━━━━━━━━━━━━━━━━━━━━\u001b[0m \u001b[32m1.4/1.4 MB\u001b[0m \u001b[31m309.8 MB/s\u001b[0m eta \u001b[36m0:00:00\u001b[0m\n",
      "\u001b[?25hDownloading pytz-2025.2-py2.py3-none-any.whl (509 kB)\n",
      "Downloading tzdata-2025.2-py2.py3-none-any.whl (347 kB)\n",
      "Installing collected packages: pytz, py-cpuinfo, tzdata, tqdm, scipy, opencv-python, kiwisolver, fonttools, cycler, contourpy, pandas, matplotlib, ultralytics-thop, ultralytics\n",
      "Successfully installed contourpy-1.3.2 cycler-0.12.1 fonttools-4.58.5 kiwisolver-1.4.8 matplotlib-3.10.3 opencv-python-4.11.0.86 pandas-2.3.0 py-cpuinfo-9.0.0 pytz-2025.2 scipy-1.16.0 tqdm-4.67.1 tzdata-2025.2 ultralytics-8.3.162 ultralytics-thop-2.0.14\n",
      "\u001b[33mWARNING: Running pip as the 'root' user can result in broken permissions and conflicting behaviour with the system package manager, possibly rendering your system unusable.It is recommended to use a virtual environment instead: https://pip.pypa.io/warnings/venv. Use the --root-user-action option if you know what you are doing and want to suppress this warning.\u001b[0m\u001b[33m\n",
      "\u001b[0m\n",
      "\u001b[1m[\u001b[0m\u001b[34;49mnotice\u001b[0m\u001b[1;39;49m]\u001b[0m\u001b[39;49m A new release of pip is available: \u001b[0m\u001b[31;49m24.2\u001b[0m\u001b[39;49m -> \u001b[0m\u001b[32;49m25.1.1\u001b[0m\n",
      "\u001b[1m[\u001b[0m\u001b[34;49mnotice\u001b[0m\u001b[1;39;49m]\u001b[0m\u001b[39;49m To update, run: \u001b[0m\u001b[32;49mpython -m pip install --upgrade pip\u001b[0m\n",
      "Collecting roboflow\n",
      "  Downloading roboflow-1.2.0-py3-none-any.whl.metadata (9.7 kB)\n",
      "Requirement already satisfied: certifi in /usr/local/lib/python3.11/dist-packages (from roboflow) (2024.8.30)\n",
      "Collecting idna==3.7 (from roboflow)\n",
      "  Downloading idna-3.7-py3-none-any.whl.metadata (9.9 kB)\n",
      "Requirement already satisfied: cycler in /usr/local/lib/python3.11/dist-packages (from roboflow) (0.12.1)\n",
      "Requirement already satisfied: kiwisolver>=1.3.1 in /usr/local/lib/python3.11/dist-packages (from roboflow) (1.4.8)\n",
      "Requirement already satisfied: matplotlib in /usr/local/lib/python3.11/dist-packages (from roboflow) (3.10.3)\n",
      "Requirement already satisfied: numpy>=1.18.5 in /usr/local/lib/python3.11/dist-packages (from roboflow) (1.26.3)\n",
      "Collecting opencv-python-headless==4.10.0.84 (from roboflow)\n",
      "  Downloading opencv_python_headless-4.10.0.84-cp37-abi3-manylinux_2_17_x86_64.manylinux2014_x86_64.whl.metadata (20 kB)\n",
      "Requirement already satisfied: Pillow>=7.1.2 in /usr/local/lib/python3.11/dist-packages (from roboflow) (10.2.0)\n",
      "Collecting pillow-heif<2 (from roboflow)\n",
      "  Downloading pillow_heif-1.0.0-cp311-cp311-manylinux_2_17_x86_64.manylinux2014_x86_64.whl.metadata (9.6 kB)\n",
      "Collecting pillow-avif-plugin<2 (from roboflow)\n",
      "  Downloading pillow_avif_plugin-1.5.2-cp311-cp311-manylinux_2_28_x86_64.whl.metadata (2.1 kB)\n",
      "Requirement already satisfied: python-dateutil in /usr/local/lib/python3.11/dist-packages (from roboflow) (2.9.0.post0)\n",
      "Collecting python-dotenv (from roboflow)\n",
      "  Downloading python_dotenv-1.1.1-py3-none-any.whl.metadata (24 kB)\n",
      "Requirement already satisfied: requests in /usr/local/lib/python3.11/dist-packages (from roboflow) (2.32.3)\n",
      "Requirement already satisfied: six in /usr/lib/python3/dist-packages (from roboflow) (1.16.0)\n",
      "Requirement already satisfied: urllib3>=1.26.6 in /usr/local/lib/python3.11/dist-packages (from roboflow) (2.2.3)\n",
      "Requirement already satisfied: tqdm>=4.41.0 in /usr/local/lib/python3.11/dist-packages (from roboflow) (4.67.1)\n",
      "Requirement already satisfied: PyYAML>=5.3.1 in /usr/local/lib/python3.11/dist-packages (from roboflow) (6.0.2)\n",
      "Collecting requests-toolbelt (from roboflow)\n",
      "  Downloading requests_toolbelt-1.0.0-py2.py3-none-any.whl.metadata (14 kB)\n",
      "Collecting filetype (from roboflow)\n",
      "  Downloading filetype-1.2.0-py2.py3-none-any.whl.metadata (6.5 kB)\n",
      "Collecting Pillow>=7.1.2 (from roboflow)\n",
      "  Downloading pillow-11.3.0-cp311-cp311-manylinux_2_27_x86_64.manylinux_2_28_x86_64.whl.metadata (9.0 kB)\n",
      "Requirement already satisfied: contourpy>=1.0.1 in /usr/local/lib/python3.11/dist-packages (from matplotlib->roboflow) (1.3.2)\n",
      "Requirement already satisfied: fonttools>=4.22.0 in /usr/local/lib/python3.11/dist-packages (from matplotlib->roboflow) (4.58.5)\n",
      "Requirement already satisfied: packaging>=20.0 in /usr/local/lib/python3.11/dist-packages (from matplotlib->roboflow) (24.1)\n",
      "Requirement already satisfied: pyparsing>=2.3.1 in /usr/lib/python3/dist-packages (from matplotlib->roboflow) (2.4.7)\n",
      "Requirement already satisfied: charset-normalizer<4,>=2 in /usr/local/lib/python3.11/dist-packages (from requests->roboflow) (3.3.2)\n",
      "Downloading roboflow-1.2.0-py3-none-any.whl (86 kB)\n",
      "Downloading idna-3.7-py3-none-any.whl (66 kB)\n",
      "Downloading opencv_python_headless-4.10.0.84-cp37-abi3-manylinux_2_17_x86_64.manylinux2014_x86_64.whl (49.9 MB)\n",
      "\u001b[2K   \u001b[90m━━━━━━━━━━━━━━━━━━━━━━━━━━━━━━━━━━━━━━━━\u001b[0m \u001b[32m49.9/49.9 MB\u001b[0m \u001b[31m198.6 MB/s\u001b[0m eta \u001b[36m0:00:00\u001b[0ma \u001b[36m0:00:01\u001b[0m\n",
      "\u001b[?25hDownloading pillow_avif_plugin-1.5.2-cp311-cp311-manylinux_2_28_x86_64.whl (4.2 MB)\n",
      "\u001b[2K   \u001b[90m━━━━━━━━━━━━━━━━━━━━━━━━━━━━━━━━━━━━━━━━\u001b[0m \u001b[32m4.2/4.2 MB\u001b[0m \u001b[31m215.4 MB/s\u001b[0m eta \u001b[36m0:00:00\u001b[0m\n",
      "\u001b[?25hDownloading pillow_heif-1.0.0-cp311-cp311-manylinux_2_17_x86_64.manylinux2014_x86_64.whl (4.9 MB)\n",
      "\u001b[2K   \u001b[90m━━━━━━━━━━━━━━━━━━━━━━━━━━━━━━━━━━━━━━━━\u001b[0m \u001b[32m4.9/4.9 MB\u001b[0m \u001b[31m60.3 MB/s\u001b[0m eta \u001b[36m0:00:00\u001b[0m\n",
      "\u001b[?25hDownloading pillow-11.3.0-cp311-cp311-manylinux_2_27_x86_64.manylinux_2_28_x86_64.whl (6.6 MB)\n",
      "\u001b[2K   \u001b[90m━━━━━━━━━━━━━━━━━━━━━━━━━━━━━━━━━━━━━━━━\u001b[0m \u001b[32m6.6/6.6 MB\u001b[0m \u001b[31m323.2 MB/s\u001b[0m eta \u001b[36m0:00:00\u001b[0m\n",
      "\u001b[?25hDownloading filetype-1.2.0-py2.py3-none-any.whl (19 kB)\n",
      "Downloading python_dotenv-1.1.1-py3-none-any.whl (20 kB)\n",
      "Downloading requests_toolbelt-1.0.0-py2.py3-none-any.whl (54 kB)\n",
      "Installing collected packages: pillow-avif-plugin, filetype, python-dotenv, Pillow, opencv-python-headless, idna, pillow-heif, requests-toolbelt, roboflow\n",
      "  Attempting uninstall: Pillow\n",
      "    Found existing installation: pillow 10.2.0\n",
      "    Uninstalling pillow-10.2.0:\n",
      "      Successfully uninstalled pillow-10.2.0\n",
      "  Attempting uninstall: idna\n",
      "    Found existing installation: idna 3.10\n",
      "    Uninstalling idna-3.10:\n",
      "      Successfully uninstalled idna-3.10\n",
      "Successfully installed Pillow-11.3.0 filetype-1.2.0 idna-3.7 opencv-python-headless-4.10.0.84 pillow-avif-plugin-1.5.2 pillow-heif-1.0.0 python-dotenv-1.1.1 requests-toolbelt-1.0.0 roboflow-1.2.0\n",
      "\u001b[33mWARNING: Running pip as the 'root' user can result in broken permissions and conflicting behaviour with the system package manager, possibly rendering your system unusable.It is recommended to use a virtual environment instead: https://pip.pypa.io/warnings/venv. Use the --root-user-action option if you know what you are doing and want to suppress this warning.\u001b[0m\u001b[33m\n",
      "\u001b[0m\n",
      "\u001b[1m[\u001b[0m\u001b[34;49mnotice\u001b[0m\u001b[1;39;49m]\u001b[0m\u001b[39;49m A new release of pip is available: \u001b[0m\u001b[31;49m24.2\u001b[0m\u001b[39;49m -> \u001b[0m\u001b[32;49m25.1.1\u001b[0m\n",
      "\u001b[1m[\u001b[0m\u001b[34;49mnotice\u001b[0m\u001b[1;39;49m]\u001b[0m\u001b[39;49m To update, run: \u001b[0m\u001b[32;49mpython -m pip install --upgrade pip\u001b[0m\n",
      "WARNING ⚠️ user config directory '/root/.config/Ultralytics' is not writeable, defaulting to '/tmp' or CWD.Alternatively you can define a YOLO_CONFIG_DIR environment variable for this path.\n",
      "Creating new Ultralytics Settings v0.0.6 file ✅ \n",
      "View Ultralytics Settings with 'yolo settings' or at '/tmp/Ultralytics/settings.json'\n",
      "Update Settings with 'yolo settings key=value', i.e. 'yolo settings runs_dir=path/to/dir'. For help see https://docs.ultralytics.com/quickstart/#ultralytics-settings.\n"
     ]
    }
   ],
   "source": [
    "!pip install ultralytics\n",
    "!pip install roboflow\n",
    "from roboflow import Roboflow\n",
    "from ultralytics import YOLO\n",
    "from ultralytics.data.annotator import auto_annotate\n",
    "import time"
   ]
  },
  {
   "cell_type": "code",
   "execution_count": 2,
   "id": "effda7b0",
   "metadata": {},
   "outputs": [
    {
     "name": "stdout",
     "output_type": "stream",
     "text": [
      "loading Roboflow workspace...\n",
      "loading Roboflow project...\n"
     ]
    },
    {
     "name": "stderr",
     "output_type": "stream",
     "text": [
      "Downloading Dataset Version Zip in Plant-Pathology-Anotation-7 to yolov11:: 100%|██████████| 766187/766187 [00:51<00:00, 14835.98it/s]"
     ]
    },
    {
     "name": "stdout",
     "output_type": "stream",
     "text": [
      "\n"
     ]
    },
    {
     "name": "stderr",
     "output_type": "stream",
     "text": [
      "\n",
      "Extracting Dataset Version Zip to Plant-Pathology-Anotation-7 in yolov11:: 100%|██████████| 6950/6950 [00:39<00:00, 175.19it/s]\n"
     ]
    }
   ],
   "source": [
    "rf = Roboflow(api_key=\"m1DZYxXInBZk9zMy3jDT\")\n",
    "project = rf.workspace(\"abiya\").project(\"plant-pathology-anotation\")\n",
    "version = project.version(7)\n",
    "dataset = version.download(\"yolov11\")"
   ]
  },
  {
   "cell_type": "markdown",
   "id": "c4aa6e7f",
   "metadata": {},
   "source": [
    "# Delete Label Terlebih Dahulu"
   ]
  },
  {
   "cell_type": "markdown",
   "id": "662f2007",
   "metadata": {},
   "source": [
    "# Copy Best Model"
   ]
  },
  {
   "cell_type": "code",
   "execution_count": 4,
   "id": "83cc8730",
   "metadata": {
    "scrolled": true
   },
   "outputs": [
    {
     "name": "stderr",
     "output_type": "stream",
     "text": [
      "You are using `torch.load` with `weights_only=False` (the current default value), which uses the default pickle module implicitly. It is possible to construct malicious pickle data which will execute arbitrary code during unpickling (See https://github.com/pytorch/pytorch/blob/main/SECURITY.md#untrusted-models for more details). In a future release, the default value for `weights_only` will be flipped to `True`. This limits the functions that could be executed during unpickling. Arbitrary objects will no longer be allowed to be loaded via this mode unless they are explicitly allowlisted by the user via `torch.serialization.add_safe_globals`. We recommend you start setting `weights_only=True` for any use case where you don't have full control of the loaded file. Please open an issue on GitHub for any issues related to this experimental feature.\n"
     ]
    },
    {
     "name": "stdout",
     "output_type": "stream",
     "text": [
      "\n",
      "image 1/1557 /workspace/Plant-Pathology-Anotation-7/train/images/healthy_train_100_jpg.rf.70a71d45c044dfee48c83c1d0512ec62.jpg: 448x640 4 leaf_healthys, 8.7ms\n",
      "image 2/1557 /workspace/Plant-Pathology-Anotation-7/train/images/healthy_train_101_jpg.rf.dc3bab9ba484fb3950315355eab85338.jpg: 448x640 11 leaf_healthys, 8.5ms\n",
      "image 3/1557 /workspace/Plant-Pathology-Anotation-7/train/images/healthy_train_102_jpg.rf.88faddf5101d69a9f3d97c4e795a5c7d.jpg: 448x640 2 leaf_healthys, 8.5ms\n",
      "image 4/1557 /workspace/Plant-Pathology-Anotation-7/train/images/healthy_train_103_jpg.rf.e81cdde2e71064c27eda96d9d0eee3c8.jpg: 448x640 3 leaf_healthys, 9.1ms\n",
      "image 5/1557 /workspace/Plant-Pathology-Anotation-7/train/images/healthy_train_105_jpg.rf.b90a827a1f68a430f94d275d15f4248c.jpg: 448x640 4 leaf_healthys, 8.4ms\n",
      "image 6/1557 /workspace/Plant-Pathology-Anotation-7/train/images/healthy_train_108_jpg.rf.ab98bb8cca726540e99c84de793281a6.jpg: 448x640 3 leaf_healthys, 8.8ms\n",
      "image 7/1557 /workspace/Plant-Pathology-Anotation-7/train/images/healthy_train_10_jpg.rf.f95487c113a19a7aaed484a3c98912e0.jpg: 448x640 5 leaf_healthys, 8.4ms\n",
      "image 8/1557 /workspace/Plant-Pathology-Anotation-7/train/images/healthy_train_110_jpg.rf.576f649453bbf65477fe9cc12e7f41db.jpg: 448x640 5 leaf_healthys, 8.8ms\n",
      "image 9/1557 /workspace/Plant-Pathology-Anotation-7/train/images/healthy_train_111_jpg.rf.a8a93add886db998e81d53e8c3f27ddc.jpg: 448x640 5 leaf_healthys, 8.5ms\n",
      "image 10/1557 /workspace/Plant-Pathology-Anotation-7/train/images/healthy_train_112_jpg.rf.5bd3a1ae74f001c23b82f690e3142b55.jpg: 448x640 1 leaf_healthy, 8.9ms\n",
      "image 11/1557 /workspace/Plant-Pathology-Anotation-7/train/images/healthy_train_113_jpg.rf.de8c6dd8afd0e2f4f55b073b41ab2675.jpg: 448x640 3 leaf_healthys, 8.5ms\n",
      "image 12/1557 /workspace/Plant-Pathology-Anotation-7/train/images/healthy_train_114_jpg.rf.c519efef8022bebabe82971d5a61fb6b.jpg: 448x640 5 leaf_healthys, 8.5ms\n",
      "image 13/1557 /workspace/Plant-Pathology-Anotation-7/train/images/healthy_train_115_jpg.rf.00b9a9c6212a95caef7fada42a7e0b33.jpg: 448x640 3 leaf_healthys, 8.8ms\n",
      "image 14/1557 /workspace/Plant-Pathology-Anotation-7/train/images/healthy_train_116_jpg.rf.89d8cb24e74f432f88b5312d7ef79c84.jpg: 448x640 2 leaf_healthys, 8.4ms\n",
      "image 15/1557 /workspace/Plant-Pathology-Anotation-7/train/images/healthy_train_117_jpg.rf.30eef63ceac9677fc4025abbfaaee6cc.jpg: 448x640 6 leaf_healthys, 9.2ms\n",
      "image 16/1557 /workspace/Plant-Pathology-Anotation-7/train/images/healthy_train_118_jpg.rf.42851fe284f971f607eed1b0d0c4059b.jpg: 448x640 4 leaf_healthys, 8.4ms\n",
      "image 17/1557 /workspace/Plant-Pathology-Anotation-7/train/images/healthy_train_119_jpg.rf.80fc953885a12859ca952978d1eb04c7.jpg: 448x640 2 leaf_healthys, 8.8ms\n",
      "image 18/1557 /workspace/Plant-Pathology-Anotation-7/train/images/healthy_train_11_jpg.rf.2dc8bfacc01659f8159d8b2f203e8fc2.jpg: 448x640 2 leaf_healthys, 8.8ms\n",
      "image 19/1557 /workspace/Plant-Pathology-Anotation-7/train/images/healthy_train_120_jpg.rf.40cb0e92e06436b04593b36e20773de3.jpg: 448x640 2 leaf_healthys, 9.2ms\n",
      "image 20/1557 /workspace/Plant-Pathology-Anotation-7/train/images/healthy_train_121_jpg.rf.fc38a38c924c8248b8d6fa26dbb2b844.jpg: 448x640 2 leaf_healthys, 8.7ms\n",
      "image 21/1557 /workspace/Plant-Pathology-Anotation-7/train/images/healthy_train_122_jpg.rf.4c22caa45d19c7fadb3500e9832a1ba7.jpg: 448x640 5 leaf_healthys, 9.1ms\n",
      "image 22/1557 /workspace/Plant-Pathology-Anotation-7/train/images/healthy_train_123_jpg.rf.361d3fb3fbdab614763fd7fb22cd7c38.jpg: 448x640 4 leaf_healthys, 8.7ms\n",
      "image 23/1557 /workspace/Plant-Pathology-Anotation-7/train/images/healthy_train_124_jpg.rf.bf484e82ff02a53d393a2c9f92070d47.jpg: 448x640 2 leaf_healthys, 9.2ms\n",
      "image 24/1557 /workspace/Plant-Pathology-Anotation-7/train/images/healthy_train_125_jpg.rf.beb054f4064af1c8420d0fed89075967.jpg: 448x640 5 leaf_healthys, 8.7ms\n",
      "image 25/1557 /workspace/Plant-Pathology-Anotation-7/train/images/healthy_train_126_jpg.rf.bf90458ed8b3375134145169b031b7a0.jpg: 448x640 4 leaf_healthys, 9.0ms\n",
      "image 26/1557 /workspace/Plant-Pathology-Anotation-7/train/images/healthy_train_127_jpg.rf.2b7bb3fb7305b4e7624be1b06756f86d.jpg: 448x640 4 leaf_healthys, 8.7ms\n",
      "image 27/1557 /workspace/Plant-Pathology-Anotation-7/train/images/healthy_train_128_jpg.rf.739ed9ae388559d3141120d5c1d98936.jpg: 448x640 7 leaf_healthys, 9.0ms\n",
      "image 28/1557 /workspace/Plant-Pathology-Anotation-7/train/images/healthy_train_129_jpg.rf.14585c59de9039cdc2b81fdb33a33c20.jpg: 448x640 5 leaf_healthys, 8.7ms\n",
      "image 29/1557 /workspace/Plant-Pathology-Anotation-7/train/images/healthy_train_12_jpg.rf.4dcc1e7466c06fb0fd813f864c73dfee.jpg: 448x640 4 leaf_healthys, 8.9ms\n",
      "image 30/1557 /workspace/Plant-Pathology-Anotation-7/train/images/healthy_train_130_jpg.rf.eab134350f14062305bc802847c637fd.jpg: 448x640 1 leaf_healthy, 8.7ms\n",
      "image 31/1557 /workspace/Plant-Pathology-Anotation-7/train/images/healthy_train_131_jpg.rf.cfe1e9d5ccc9aacbb44893fec31e92a5.jpg: 448x640 6 leaf_healthys, 8.8ms\n",
      "image 32/1557 /workspace/Plant-Pathology-Anotation-7/train/images/healthy_train_132_jpg.rf.df3319fd6c49b59b1cca7069880e9d2b.jpg: 448x640 3 leaf_healthys, 8.8ms\n",
      "image 33/1557 /workspace/Plant-Pathology-Anotation-7/train/images/healthy_train_133_jpg.rf.e33e320c4138aff2240836288297e7f7.jpg: 448x640 3 leaf_healthys, 9.3ms\n",
      "image 34/1557 /workspace/Plant-Pathology-Anotation-7/train/images/healthy_train_134_jpg.rf.fa01cd9a54b58c7e2ef685f0ec57da2b.jpg: 448x640 5 leaf_healthys, 8.6ms\n",
      "image 35/1557 /workspace/Plant-Pathology-Anotation-7/train/images/healthy_train_135_jpg.rf.d716fecd11c2f41611b6690d20e857ae.jpg: 448x640 8 leaf_healthys, 9.4ms\n",
      "image 36/1557 /workspace/Plant-Pathology-Anotation-7/train/images/healthy_train_136_jpg.rf.7865d7edae488ee7f781b515a7e9a3a4.jpg: 448x640 4 leaf_healthys, 8.8ms\n",
      "image 37/1557 /workspace/Plant-Pathology-Anotation-7/train/images/healthy_train_137_jpg.rf.6755961c549bfe5d6a6396a93a6fa227.jpg: 448x640 4 leaf_healthys, 9.1ms\n",
      "image 38/1557 /workspace/Plant-Pathology-Anotation-7/train/images/healthy_train_138_jpg.rf.049d12ce3063741b4b2382849e0b28e7.jpg: 448x640 2 leaf_healthys, 8.7ms\n",
      "image 39/1557 /workspace/Plant-Pathology-Anotation-7/train/images/healthy_train_13_jpg.rf.ee0c58a460a7858944acebcd8d821165.jpg: 448x640 5 leaf_healthys, 8.8ms\n",
      "image 40/1557 /workspace/Plant-Pathology-Anotation-7/train/images/healthy_train_140_jpg.rf.97c2ce8ff843212a0868c334ae96e95f.jpg: 448x640 9 leaf_healthys, 8.6ms\n",
      "image 41/1557 /workspace/Plant-Pathology-Anotation-7/train/images/healthy_train_141_jpg.rf.0341eadcf073c6e23229f1dd164c6bbb.jpg: 448x640 5 leaf_healthys, 8.9ms\n",
      "image 42/1557 /workspace/Plant-Pathology-Anotation-7/train/images/healthy_train_142_jpg.rf.7586a2a154e723c29574a9c77a796d3c.jpg: 448x640 7 leaf_healthys, 8.6ms\n",
      "image 43/1557 /workspace/Plant-Pathology-Anotation-7/train/images/healthy_train_144_jpg.rf.9614c206297614895cb8795ad2fa07b0.jpg: 448x640 1 leaf_healthy, 14.7ms\n",
      "image 44/1557 /workspace/Plant-Pathology-Anotation-7/train/images/healthy_train_145_jpg.rf.85733a6ca4fdf65fafa90f41ecadfea1.jpg: 448x640 2 leaf_healthys, 8.8ms\n",
      "image 45/1557 /workspace/Plant-Pathology-Anotation-7/train/images/healthy_train_146_jpg.rf.fd5ef2fddb096390156b378384b3766d.jpg: 448x640 5 leaf_healthys, 8.6ms\n",
      "image 46/1557 /workspace/Plant-Pathology-Anotation-7/train/images/healthy_train_147_jpg.rf.17df10f238ebe2be9abe19b4520538d3.jpg: 448x640 3 leaf_healthys, 9.0ms\n",
      "image 47/1557 /workspace/Plant-Pathology-Anotation-7/train/images/healthy_train_148_jpg.rf.3e18cdcc24cd4a11bb0c426ab4ea533d.jpg: 448x640 3 leaf_healthys, 8.5ms\n",
      "image 48/1557 /workspace/Plant-Pathology-Anotation-7/train/images/healthy_train_150_jpg.rf.4d7c848aedfc39d9f2b63f4601d7e3c2.jpg: 448x640 4 leaf_healthys, 8.8ms\n",
      "image 49/1557 /workspace/Plant-Pathology-Anotation-7/train/images/healthy_train_151_jpg.rf.32e342481f7dd46e1bb9d9a5ac355c48.jpg: 448x640 7 leaf_healthys, 8.6ms\n",
      "image 50/1557 /workspace/Plant-Pathology-Anotation-7/train/images/healthy_train_152_jpg.rf.78ffbedfcc85eb8630a64394832ddfce.jpg: 448x640 7 leaf_healthys, 8.9ms\n",
      "image 51/1557 /workspace/Plant-Pathology-Anotation-7/train/images/healthy_train_153_jpg.rf.853aa3b2b43a870d7e913dfed8482def.jpg: 448x640 12 leaf_healthys, 8.6ms\n",
      "image 52/1557 /workspace/Plant-Pathology-Anotation-7/train/images/healthy_train_154_jpg.rf.020a62d61265158858614418dcfb7095.jpg: 448x640 3 leaf_healthys, 8.8ms\n",
      "image 53/1557 /workspace/Plant-Pathology-Anotation-7/train/images/healthy_train_155_jpg.rf.d9e1298c74b981014578df03414f856d.jpg: 448x640 3 leaf_healthys, 8.4ms\n",
      "image 54/1557 /workspace/Plant-Pathology-Anotation-7/train/images/healthy_train_156_jpg.rf.c362204c0c8ee07d1f1f487c8bd3bee4.jpg: 448x640 3 leaf_healthys, 9.1ms\n",
      "image 55/1557 /workspace/Plant-Pathology-Anotation-7/train/images/healthy_train_157_jpg.rf.35547daf0412a54c75cec3012f96a3b0.jpg: 448x640 12 leaf_healthys, 8.6ms\n",
      "image 56/1557 /workspace/Plant-Pathology-Anotation-7/train/images/healthy_train_158_jpg.rf.c2f7b6484d446784585dea7254521317.jpg: 448x640 1 leaf_healthy, 8.5ms\n",
      "image 57/1557 /workspace/Plant-Pathology-Anotation-7/train/images/healthy_train_159_jpg.rf.0e897d2c33ad14cd62b37be4ab3bd706.jpg: 448x640 2 leaf_healthys, 8.5ms\n",
      "image 58/1557 /workspace/Plant-Pathology-Anotation-7/train/images/healthy_train_160_jpg.rf.bd7f7e6dd4aa14c89af38dca6a048cc9.jpg: 448x640 5 leaf_healthys, 8.5ms\n",
      "image 59/1557 /workspace/Plant-Pathology-Anotation-7/train/images/healthy_train_161_jpg.rf.c0f77fc7a044c63d5309d836b4ea0bc9.jpg: 448x640 6 leaf_healthys, 8.9ms\n",
      "image 60/1557 /workspace/Plant-Pathology-Anotation-7/train/images/healthy_train_162_jpg.rf.5291e2bdaa510b5b820258524c2caf81.jpg: 448x640 3 leaf_healthys, 8.5ms\n",
      "image 61/1557 /workspace/Plant-Pathology-Anotation-7/train/images/healthy_train_163_jpg.rf.01e497ccac0db7ea83f4637188efed1b.jpg: 448x640 3 leaf_healthys, 8.8ms\n",
      "image 62/1557 /workspace/Plant-Pathology-Anotation-7/train/images/healthy_train_164_jpg.rf.508d7f055ebd26652d722148367155e0.jpg: 448x640 7 leaf_healthys, 8.3ms\n",
      "image 63/1557 /workspace/Plant-Pathology-Anotation-7/train/images/healthy_train_165_jpg.rf.e66502a3265894491cbdf36479d4513d.jpg: 448x640 3 leaf_healthys, 8.6ms\n",
      "image 64/1557 /workspace/Plant-Pathology-Anotation-7/train/images/healthy_train_166_jpg.rf.e3edb252498cc02880a9c0fc2bb44409.jpg: 448x640 10 leaf_healthys, 8.1ms\n",
      "image 65/1557 /workspace/Plant-Pathology-Anotation-7/train/images/healthy_train_168_jpg.rf.d32412233ec8049b4fba175805aa56f1.jpg: 448x640 5 leaf_healthys, 8.6ms\n",
      "image 66/1557 /workspace/Plant-Pathology-Anotation-7/train/images/healthy_train_169_jpg.rf.10ce3c567395bc634baa6aa540e2527b.jpg: 448x640 6 leaf_healthys, 9.0ms\n",
      "image 67/1557 /workspace/Plant-Pathology-Anotation-7/train/images/healthy_train_16_jpg.rf.c145406eb77b0969c11e8da6b43feff1.jpg: 448x640 4 leaf_healthys, 8.5ms\n",
      "image 68/1557 /workspace/Plant-Pathology-Anotation-7/train/images/healthy_train_170_jpg.rf.2aa2cc63a2c36c2dfa4cad5933b7cde1.jpg: 448x640 3 leaf_healthys, 8.8ms\n",
      "image 69/1557 /workspace/Plant-Pathology-Anotation-7/train/images/healthy_train_171_jpg.rf.0333dbe4fb7556b81fbabc01729bed15.jpg: 448x640 3 leaf_healthys, 8.5ms\n",
      "image 70/1557 /workspace/Plant-Pathology-Anotation-7/train/images/healthy_train_172_jpg.rf.f7fd29e7092aa5d2da514869725c97b6.jpg: 448x640 5 leaf_healthys, 9.1ms\n",
      "image 71/1557 /workspace/Plant-Pathology-Anotation-7/train/images/healthy_train_173_jpg.rf.02805a90d1218440816490aceffa3376.jpg: 448x640 3 leaf_healthys, 8.5ms\n",
      "image 72/1557 /workspace/Plant-Pathology-Anotation-7/train/images/healthy_train_174_jpg.rf.60efe09da023d610cd28a6409b537eee.jpg: 448x640 4 leaf_healthys, 9.2ms\n",
      "image 73/1557 /workspace/Plant-Pathology-Anotation-7/train/images/healthy_train_175_jpg.rf.af92479f65555c7a6a6990bf5e0cefb8.jpg: 448x640 3 leaf_healthys, 8.5ms\n",
      "image 74/1557 /workspace/Plant-Pathology-Anotation-7/train/images/healthy_train_176_jpg.rf.2d70d980fb20479fb62333e57b920c15.jpg: 448x640 7 leaf_healthys, 9.1ms\n",
      "image 75/1557 /workspace/Plant-Pathology-Anotation-7/train/images/healthy_train_177_jpg.rf.9f9e472a0b0b32fcc23962e7e22c25d7.jpg: 448x640 8 leaf_healthys, 8.5ms\n",
      "image 76/1557 /workspace/Plant-Pathology-Anotation-7/train/images/healthy_train_178_jpg.rf.7bb4f4980e0238d0b94b6ba0059987d6.jpg: 448x640 4 leaf_healthys, 8.9ms\n",
      "image 77/1557 /workspace/Plant-Pathology-Anotation-7/train/images/healthy_train_179_jpg.rf.18e3b14fc5c9a8fe0fa6471595b54b17.jpg: 448x640 2 leaf_healthys, 8.9ms\n",
      "image 78/1557 /workspace/Plant-Pathology-Anotation-7/train/images/healthy_train_17_jpg.rf.cdcf4f2723b1eedba730c333026aff86.jpg: 448x640 4 leaf_healthys, 9.3ms\n",
      "image 79/1557 /workspace/Plant-Pathology-Anotation-7/train/images/healthy_train_180_jpg.rf.30d3b54a462855f6a659ff8b3750e447.jpg: 448x640 3 leaf_healthys, 8.5ms\n",
      "image 80/1557 /workspace/Plant-Pathology-Anotation-7/train/images/healthy_train_181_jpg.rf.01da7ceec7a896f0821555aad7017997.jpg: 448x640 1 leaf_healthy, 9.2ms\n",
      "image 81/1557 /workspace/Plant-Pathology-Anotation-7/train/images/healthy_train_182_jpg.rf.d167b1dde91ef44797b81d5e2c90effb.jpg: 448x640 2 leaf_healthys, 8.5ms\n",
      "image 82/1557 /workspace/Plant-Pathology-Anotation-7/train/images/healthy_train_183_jpg.rf.74549646ba84d259ffcdbbb5bcddfcac.jpg: 448x640 3 leaf_healthys, 8.4ms\n",
      "image 83/1557 /workspace/Plant-Pathology-Anotation-7/train/images/healthy_train_184_jpg.rf.4c152ec752b003c7e62c1501e9af1f0e.jpg: 448x640 2 leaf_healthys, 9.5ms\n",
      "image 84/1557 /workspace/Plant-Pathology-Anotation-7/train/images/healthy_train_185_jpg.rf.6e82519e3299a1141225e46126ec87d6.jpg: 448x640 1 leaf_healthy, 8.4ms\n",
      "image 85/1557 /workspace/Plant-Pathology-Anotation-7/train/images/healthy_train_186_jpg.rf.eb116379ac0ab60466c598449ac74290.jpg: 448x640 6 leaf_healthys, 8.6ms\n",
      "image 86/1557 /workspace/Plant-Pathology-Anotation-7/train/images/healthy_train_187_jpg.rf.6b968c9f6ebadecd32aa6a524870a714.jpg: 448x640 13 leaf_healthys, 1 leaf_rust, 8.6ms\n",
      "image 87/1557 /workspace/Plant-Pathology-Anotation-7/train/images/healthy_train_188_jpg.rf.c73515eb14092670d80e55399f3dc1a6.jpg: 448x640 9 leaf_healthys, 8.8ms\n",
      "image 88/1557 /workspace/Plant-Pathology-Anotation-7/train/images/healthy_train_189_jpg.rf.e7c0669e3b271e79740776a7ff7d7773.jpg: 448x640 7 leaf_healthys, 8.5ms\n",
      "image 89/1557 /workspace/Plant-Pathology-Anotation-7/train/images/healthy_train_18_jpg.rf.895dbf14f089ef563c8a098d59c899d9.jpg: 448x640 9 leaf_healthys, 8.9ms\n",
      "image 90/1557 /workspace/Plant-Pathology-Anotation-7/train/images/healthy_train_190_jpg.rf.75836c1a59b29badf78bd01c2f36c711.jpg: 448x640 4 leaf_healthys, 8.6ms\n",
      "image 91/1557 /workspace/Plant-Pathology-Anotation-7/train/images/healthy_train_191_jpg.rf.950881675a06047771bf1e55e40e8a05.jpg: 448x640 3 leaf_healthys, 8.8ms\n",
      "image 92/1557 /workspace/Plant-Pathology-Anotation-7/train/images/healthy_train_192_jpg.rf.1611c2a1d7526fd0b687e596244e29c3.jpg: 448x640 2 leaf_healthys, 8.4ms\n",
      "image 93/1557 /workspace/Plant-Pathology-Anotation-7/train/images/healthy_train_193_jpg.rf.1b9465ba796d99c1fa4ac3807bec2292.jpg: 448x640 7 leaf_healthys, 8.9ms\n",
      "image 94/1557 /workspace/Plant-Pathology-Anotation-7/train/images/healthy_train_194_jpg.rf.02fd0794a589b3ec695e39d2ed20e22b.jpg: 448x640 10 leaf_healthys, 8.5ms\n",
      "image 95/1557 /workspace/Plant-Pathology-Anotation-7/train/images/healthy_train_195_jpg.rf.64950a773003b4115e58233f7b58b524.jpg: 448x640 5 leaf_healthys, 8.9ms\n",
      "image 96/1557 /workspace/Plant-Pathology-Anotation-7/train/images/healthy_train_196_jpg.rf.9d29ea8e933724bf5e49b0c348340c9f.jpg: 448x640 2 leaf_healthys, 8.6ms\n",
      "image 97/1557 /workspace/Plant-Pathology-Anotation-7/train/images/healthy_train_197_jpg.rf.b37f25f6b0fd2c640688b79e053d9af9.jpg: 448x640 3 leaf_healthys, 9.1ms\n",
      "image 98/1557 /workspace/Plant-Pathology-Anotation-7/train/images/healthy_train_198_jpg.rf.5179c4c2d2c5af10c628d478e4628587.jpg: 448x640 3 leaf_healthys, 8.4ms\n",
      "image 99/1557 /workspace/Plant-Pathology-Anotation-7/train/images/healthy_train_199_jpg.rf.f3a102ce2ae7efc1ed5961e3acc2fa31.jpg: 448x640 6 leaf_healthys, 9.3ms\n",
      "image 100/1557 /workspace/Plant-Pathology-Anotation-7/train/images/healthy_train_19_jpg.rf.9b3c0b0522351e39b0c5538fd0ff1273.jpg: 448x640 3 leaf_healthys, 8.5ms\n",
      "image 101/1557 /workspace/Plant-Pathology-Anotation-7/train/images/healthy_train_1_jpg.rf.981f1951f71a869e9144fb2368b1959e.jpg: 448x640 6 leaf_healthys, 9.0ms\n",
      "image 102/1557 /workspace/Plant-Pathology-Anotation-7/train/images/healthy_train_200_jpg.rf.18afa59330b94eab227809822cc99d1a.jpg: 448x640 6 leaf_healthys, 8.5ms\n",
      "image 103/1557 /workspace/Plant-Pathology-Anotation-7/train/images/healthy_train_201_jpg.rf.2b2a1a2a5c5232b08c05de7062b8e1b2.jpg: 448x640 3 leaf_healthys, 8.8ms\n",
      "image 104/1557 /workspace/Plant-Pathology-Anotation-7/train/images/healthy_train_202_jpg.rf.d95f2b4fefcd51f38ec5c9301b364ef7.jpg: 448x640 2 leaf_healthys, 8.5ms\n",
      "image 105/1557 /workspace/Plant-Pathology-Anotation-7/train/images/healthy_train_203_jpg.rf.a42640becbee29f7f7c630292338c2c7.jpg: 448x640 2 leaf_healthys, 8.9ms\n",
      "image 106/1557 /workspace/Plant-Pathology-Anotation-7/train/images/healthy_train_204_jpg.rf.ff6be8a65cc5f42dfa78e6f8bd6cf5c9.jpg: 448x640 2 leaf_healthys, 8.5ms\n",
      "image 107/1557 /workspace/Plant-Pathology-Anotation-7/train/images/healthy_train_206_jpg.rf.1a3e98e9cc537cd6bb2b7124a3fa0911.jpg: 448x640 2 leaf_healthys, 9.3ms\n",
      "image 108/1557 /workspace/Plant-Pathology-Anotation-7/train/images/healthy_train_207_jpg.rf.eb97cac4f7adb5ba6fd2c0a4fa05ecd9.jpg: 448x640 4 leaf_healthys, 8.4ms\n",
      "image 109/1557 /workspace/Plant-Pathology-Anotation-7/train/images/healthy_train_208_jpg.rf.3f9c859bc81e10652909609f63900486.jpg: 448x640 1 leaf_healthy, 9.3ms\n",
      "image 110/1557 /workspace/Plant-Pathology-Anotation-7/train/images/healthy_train_209_jpg.rf.6296466018437d06f2804fee199db3ee.jpg: 448x640 6 leaf_healthys, 8.8ms\n",
      "image 111/1557 /workspace/Plant-Pathology-Anotation-7/train/images/healthy_train_20_jpg.rf.c401e5d01b2ebed926262b06e3ac6ef9.jpg: 448x640 1 leaf_healthy, 8.6ms\n",
      "image 112/1557 /workspace/Plant-Pathology-Anotation-7/train/images/healthy_train_210_jpg.rf.bf1844c438da71807f72a9612de062bf.jpg: 448x640 6 leaf_healthys, 8.4ms\n",
      "image 113/1557 /workspace/Plant-Pathology-Anotation-7/train/images/healthy_train_211_jpg.rf.8cdef60ef6d73c0133b6ea79c3b9da4f.jpg: 448x640 4 leaf_healthys, 8.5ms\n",
      "image 114/1557 /workspace/Plant-Pathology-Anotation-7/train/images/healthy_train_212_jpg.rf.b7ac7128ef68b016ebac3a196ede2f8f.jpg: 448x640 7 leaf_healthys, 8.9ms\n",
      "image 115/1557 /workspace/Plant-Pathology-Anotation-7/train/images/healthy_train_214_jpg.rf.0df26b59fb46af46fea0d828c961fab1.jpg: 448x640 7 leaf_healthys, 8.5ms\n",
      "image 116/1557 /workspace/Plant-Pathology-Anotation-7/train/images/healthy_train_215_jpg.rf.388b00f53d59133cdfd5d61e6b83c8c0.jpg: 448x640 6 leaf_healthys, 9.4ms\n",
      "image 117/1557 /workspace/Plant-Pathology-Anotation-7/train/images/healthy_train_216_jpg.rf.19ea6952da5f6655122950163c9f0f02.jpg: 448x640 5 leaf_healthys, 8.5ms\n",
      "image 118/1557 /workspace/Plant-Pathology-Anotation-7/train/images/healthy_train_217_jpg.rf.11d955f4f38e57e5369734c51402920e.jpg: 448x640 4 leaf_healthys, 8.9ms\n",
      "image 119/1557 /workspace/Plant-Pathology-Anotation-7/train/images/healthy_train_218_jpg.rf.5fde3002e402cd7e0ed3c08fb5ef6307.jpg: 448x640 4 leaf_healthys, 8.5ms\n",
      "image 120/1557 /workspace/Plant-Pathology-Anotation-7/train/images/healthy_train_219_jpg.rf.50cb9a208bb8a197ec5cd9955fad83ca.jpg: 448x640 2 leaf_healthys, 8.9ms\n",
      "image 121/1557 /workspace/Plant-Pathology-Anotation-7/train/images/healthy_train_220_jpg.rf.7711052ab21e4f45eb607d202e182777.jpg: 448x640 2 leaf_healthys, 8.5ms\n",
      "image 122/1557 /workspace/Plant-Pathology-Anotation-7/train/images/healthy_train_221_jpg.rf.3f7cdea8ce9afc44097eb1aa250bb448.jpg: 448x640 5 leaf_healthys, 9.2ms\n",
      "image 123/1557 /workspace/Plant-Pathology-Anotation-7/train/images/healthy_train_222_jpg.rf.c0555d611ebeda4226786b6e803935c4.jpg: 448x640 6 leaf_healthys, 8.5ms\n",
      "image 124/1557 /workspace/Plant-Pathology-Anotation-7/train/images/healthy_train_223_jpg.rf.5f9b93453a1e1bc0213275db4733b142.jpg: 448x640 2 leaf_healthys, 8.8ms\n",
      "image 125/1557 /workspace/Plant-Pathology-Anotation-7/train/images/healthy_train_224_jpg.rf.eff57fd59a9006d0d55372d3889939cd.jpg: 448x640 9 leaf_healthys, 8.5ms\n",
      "image 126/1557 /workspace/Plant-Pathology-Anotation-7/train/images/healthy_train_225_jpg.rf.e042458c73d7589bf3e6236b71b9429f.jpg: 448x640 2 leaf_healthys, 8.6ms\n",
      "image 127/1557 /workspace/Plant-Pathology-Anotation-7/train/images/healthy_train_226_jpg.rf.1fc576cc19e3810834b5347bdf43fd11.jpg: 448x640 4 leaf_healthys, 9.1ms\n",
      "image 128/1557 /workspace/Plant-Pathology-Anotation-7/train/images/healthy_train_227_jpg.rf.83358a951d10e1fa875b68c3426fc4a6.jpg: 448x640 5 leaf_healthys, 8.5ms\n",
      "image 129/1557 /workspace/Plant-Pathology-Anotation-7/train/images/healthy_train_228_jpg.rf.d5f48651ab1b1d37a89cafaf5aa91718.jpg: 448x640 11 leaf_healthys, 8.5ms\n",
      "image 130/1557 /workspace/Plant-Pathology-Anotation-7/train/images/healthy_train_229_jpg.rf.e931f327f59c6c5f5903d33cd926a6a1.jpg: 448x640 1 leaf_healthy, 9.0ms\n",
      "image 131/1557 /workspace/Plant-Pathology-Anotation-7/train/images/healthy_train_22_jpg.rf.434e0844b9b43b6a537dab07585bfcbb.jpg: 448x640 7 leaf_healthys, 8.4ms\n",
      "image 132/1557 /workspace/Plant-Pathology-Anotation-7/train/images/healthy_train_230_jpg.rf.855b301b3c5c981b4c8ef93d71f159a3.jpg: 448x640 1 leaf_healthy, 8.5ms\n",
      "image 133/1557 /workspace/Plant-Pathology-Anotation-7/train/images/healthy_train_232_jpg.rf.eb13aef843659a37b3934286250eee4b.jpg: 448x640 2 leaf_healthys, 8.8ms\n",
      "image 134/1557 /workspace/Plant-Pathology-Anotation-7/train/images/healthy_train_233_jpg.rf.a219294ed08615b76ed03543b5708ae2.jpg: 448x640 2 leaf_healthys, 8.4ms\n",
      "image 135/1557 /workspace/Plant-Pathology-Anotation-7/train/images/healthy_train_234_jpg.rf.61befaa682f0dc1095cf82c47badd43b.jpg: 448x640 2 leaf_healthys, 8.6ms\n",
      "image 136/1557 /workspace/Plant-Pathology-Anotation-7/train/images/healthy_train_235_jpg.rf.b607f327ae11a6ddaa67228713b91e59.jpg: 448x640 10 leaf_healthys, 8.5ms\n",
      "image 137/1557 /workspace/Plant-Pathology-Anotation-7/train/images/healthy_train_236_jpg.rf.fd014bde6e58c0f1fcb09ebf9bcb9bfb.jpg: 448x640 3 leaf_healthys, 8.5ms\n",
      "image 138/1557 /workspace/Plant-Pathology-Anotation-7/train/images/healthy_train_237_jpg.rf.661f4f581233181b1ecea3edd432ed89.jpg: 448x640 2 leaf_healthys, 8.7ms\n",
      "image 139/1557 /workspace/Plant-Pathology-Anotation-7/train/images/healthy_train_238_jpg.rf.bfadc36624a9b6f8c7468cd1fea38586.jpg: 448x640 2 leaf_healthys, 8.4ms\n",
      "image 140/1557 /workspace/Plant-Pathology-Anotation-7/train/images/healthy_train_239_jpg.rf.675b9b3d04f5694c7eae6600033aae0a.jpg: 448x640 4 leaf_healthys, 8.9ms\n",
      "image 141/1557 /workspace/Plant-Pathology-Anotation-7/train/images/healthy_train_240_jpg.rf.0dec49670aeba43dddb4649ad33bc231.jpg: 448x640 3 leaf_healthys, 8.5ms\n",
      "image 142/1557 /workspace/Plant-Pathology-Anotation-7/train/images/healthy_train_242_jpg.rf.290e51b0f0dce05118eff6bcca874595.jpg: 448x640 3 leaf_healthys, 9.3ms\n",
      "image 143/1557 /workspace/Plant-Pathology-Anotation-7/train/images/healthy_train_243_jpg.rf.f2a4a6383da6512aa1cab27991257f53.jpg: 448x640 2 leaf_healthys, 8.5ms\n",
      "image 144/1557 /workspace/Plant-Pathology-Anotation-7/train/images/healthy_train_244_jpg.rf.d4355cc73b8ed7dc8da19930b46fbb4a.jpg: 448x640 3 leaf_healthys, 9.5ms\n",
      "image 145/1557 /workspace/Plant-Pathology-Anotation-7/train/images/healthy_train_245_jpg.rf.c7a99433dd52ca533749f38110b2740f.jpg: 448x640 4 leaf_healthys, 8.4ms\n",
      "image 146/1557 /workspace/Plant-Pathology-Anotation-7/train/images/healthy_train_246_jpg.rf.cda907c0d2c38813e56765eb61745bae.jpg: 448x640 4 leaf_healthys, 9.2ms\n",
      "image 147/1557 /workspace/Plant-Pathology-Anotation-7/train/images/healthy_train_248_jpg.rf.974caaa018bc5b57eedbaf2240f8c4e8.jpg: 448x640 2 leaf_healthys, 8.5ms\n",
      "image 148/1557 /workspace/Plant-Pathology-Anotation-7/train/images/healthy_train_249_jpg.rf.4d001178ff09962674d847d3c8231feb.jpg: 448x640 1 leaf_healthy, 8.9ms\n",
      "image 149/1557 /workspace/Plant-Pathology-Anotation-7/train/images/healthy_train_24_jpg.rf.79d5ecef260ba06af7e4ad24db4d1609.jpg: 448x640 3 leaf_healthys, 8.5ms\n",
      "image 150/1557 /workspace/Plant-Pathology-Anotation-7/train/images/healthy_train_250_jpg.rf.26ebf813622695310e20c7c8e9e33091.jpg: 448x640 4 leaf_healthys, 8.4ms\n",
      "image 151/1557 /workspace/Plant-Pathology-Anotation-7/train/images/healthy_train_251_jpg.rf.42e66b5b0ada9ade38a9ff919771920b.jpg: 448x640 2 leaf_healthys, 9.2ms\n",
      "image 152/1557 /workspace/Plant-Pathology-Anotation-7/train/images/healthy_train_252_jpg.rf.9328a7818cac507eddf8857c5adeaf45.jpg: 448x640 9 leaf_healthys, 8.4ms\n",
      "image 153/1557 /workspace/Plant-Pathology-Anotation-7/train/images/healthy_train_253_jpg.rf.62885c799c4b30b9743b66c5ce350817.jpg: 448x640 1 leaf_healthy, 8.6ms\n",
      "image 154/1557 /workspace/Plant-Pathology-Anotation-7/train/images/healthy_train_255_jpg.rf.d9d1cf31bd717f54a64bec1e171824dc.jpg: 448x640 1 leaf_healthy, 8.8ms\n",
      "image 155/1557 /workspace/Plant-Pathology-Anotation-7/train/images/healthy_train_258_jpg.rf.a8951ce87640a897b2b95e69b62ae58f.jpg: 448x640 1 leaf_healthy, 1 leaf_rust, 8.4ms\n",
      "image 156/1557 /workspace/Plant-Pathology-Anotation-7/train/images/healthy_train_259_jpg.rf.e58b8e4e5012882a99310d7b2ac2e18c.jpg: 448x640 5 leaf_healthys, 8.5ms\n",
      "image 157/1557 /workspace/Plant-Pathology-Anotation-7/train/images/healthy_train_25_jpg.rf.fb386b4b97501b867008ae4054763a67.jpg: 448x640 7 leaf_healthys, 9.0ms\n",
      "image 158/1557 /workspace/Plant-Pathology-Anotation-7/train/images/healthy_train_261_jpg.rf.d87522d149a1488f3b614cdaff845f70.jpg: 448x640 3 leaf_healthys, 8.6ms\n",
      "image 159/1557 /workspace/Plant-Pathology-Anotation-7/train/images/healthy_train_262_jpg.rf.2094a07901eeb99581b8b831e82ed994.jpg: 448x640 4 leaf_healthys, 9.1ms\n",
      "image 160/1557 /workspace/Plant-Pathology-Anotation-7/train/images/healthy_train_264_jpg.rf.6e940eb428d8c6f48d99196465eb0d44.jpg: 448x640 7 leaf_healthys, 8.4ms\n",
      "image 161/1557 /workspace/Plant-Pathology-Anotation-7/train/images/healthy_train_265_jpg.rf.9f376d57b9ef347eb3c8e8ce0e8d081c.jpg: 448x640 4 leaf_healthys, 8.9ms\n",
      "image 162/1557 /workspace/Plant-Pathology-Anotation-7/train/images/healthy_train_266_jpg.rf.5bc76ee2c9f882f95240154f8ebd8e5c.jpg: 448x640 3 leaf_healthys, 8.5ms\n",
      "image 163/1557 /workspace/Plant-Pathology-Anotation-7/train/images/healthy_train_267_jpg.rf.b9e3e4ca54f86547d26c0ec48bdad259.jpg: 448x640 3 leaf_healthys, 8.7ms\n",
      "image 164/1557 /workspace/Plant-Pathology-Anotation-7/train/images/healthy_train_268_jpg.rf.350bfc01c24381ec69343274de903e68.jpg: 448x640 2 leaf_healthys, 8.4ms\n",
      "image 165/1557 /workspace/Plant-Pathology-Anotation-7/train/images/healthy_train_269_jpg.rf.616df0cb067a20cc895fd95b1c68a325.jpg: 448x640 8 leaf_healthys, 8.9ms\n",
      "image 166/1557 /workspace/Plant-Pathology-Anotation-7/train/images/healthy_train_26_jpg.rf.b579e517d093ae4bfb48fbdda36d7da1.jpg: 448x640 4 leaf_healthys, 8.5ms\n",
      "image 167/1557 /workspace/Plant-Pathology-Anotation-7/train/images/healthy_train_270_jpg.rf.7d1079405c11e845c1439e122d73466e.jpg: 448x640 2 leaf_healthys, 8.9ms\n",
      "image 168/1557 /workspace/Plant-Pathology-Anotation-7/train/images/healthy_train_271_jpg.rf.df92101e2efeba1b5cdfc631b33ac039.jpg: 448x640 2 leaf_healthys, 8.5ms\n",
      "image 169/1557 /workspace/Plant-Pathology-Anotation-7/train/images/healthy_train_272_jpg.rf.84fac2ebfa263e30d5ecf11c01b0926e.jpg: 448x640 2 leaf_healthys, 9.4ms\n",
      "image 170/1557 /workspace/Plant-Pathology-Anotation-7/train/images/healthy_train_274_jpg.rf.c42da0a87c887df959d736f4d06dfe45.jpg: 448x640 4 leaf_healthys, 9.8ms\n",
      "image 171/1557 /workspace/Plant-Pathology-Anotation-7/train/images/healthy_train_275_jpg.rf.65820a1c0345b09ccd8ea84f7fa2c3ed.jpg: 448x640 7 leaf_healthys, 10.9ms\n",
      "image 172/1557 /workspace/Plant-Pathology-Anotation-7/train/images/healthy_train_276_jpg.rf.10eece10aea7760461281809cb575118.jpg: 448x640 5 leaf_healthys, 9.7ms\n",
      "image 173/1557 /workspace/Plant-Pathology-Anotation-7/train/images/healthy_train_277_jpg.rf.202f2b21cb48750995414a6bc8029c67.jpg: 448x640 2 leaf_healthys, 9.5ms\n",
      "image 174/1557 /workspace/Plant-Pathology-Anotation-7/train/images/healthy_train_278_jpg.rf.1f55136717b7b36e77429252bd93cfeb.jpg: 448x640 3 leaf_healthys, 11.1ms\n",
      "image 175/1557 /workspace/Plant-Pathology-Anotation-7/train/images/healthy_train_279_jpg.rf.e367c67c39172e771793197b738a4c23.jpg: 448x640 5 leaf_healthys, 9.7ms\n",
      "image 176/1557 /workspace/Plant-Pathology-Anotation-7/train/images/healthy_train_27_jpg.rf.e421b540d40a17fb4ed4fad0b20f16db.jpg: 448x640 4 leaf_healthys, 11.2ms\n",
      "image 177/1557 /workspace/Plant-Pathology-Anotation-7/train/images/healthy_train_280_jpg.rf.b46d70b13ec7b4691d10a5adc614e307.jpg: 448x640 5 leaf_healthys, 9.9ms\n",
      "image 178/1557 /workspace/Plant-Pathology-Anotation-7/train/images/healthy_train_281_jpg.rf.810ffdb8a2e60ea85ee2fb706e712c44.jpg: 448x640 2 leaf_healthys, 14.7ms\n",
      "image 179/1557 /workspace/Plant-Pathology-Anotation-7/train/images/healthy_train_282_jpg.rf.67ad139e96ab89e7c27bd01a629a71ae.jpg: 448x640 2 leaf_healthys, 9.6ms\n",
      "image 180/1557 /workspace/Plant-Pathology-Anotation-7/train/images/healthy_train_283_jpg.rf.de5292551071760446d4424538e27215.jpg: 448x640 4 leaf_healthys, 11.6ms\n",
      "image 181/1557 /workspace/Plant-Pathology-Anotation-7/train/images/healthy_train_284_jpg.rf.f273804193ebd2930dd65df755ddfd90.jpg: 448x640 2 leaf_healthys, 9.5ms\n",
      "image 182/1557 /workspace/Plant-Pathology-Anotation-7/train/images/healthy_train_286_jpg.rf.8d0de43faca456346ae1edc0fc9c249e.jpg: 448x640 9 leaf_healthys, 10.6ms\n",
      "image 183/1557 /workspace/Plant-Pathology-Anotation-7/train/images/healthy_train_287_jpg.rf.efb8b00faaf5697b5c57691d72216fc6.jpg: 448x640 2 leaf_healthys, 8.8ms\n",
      "image 184/1557 /workspace/Plant-Pathology-Anotation-7/train/images/healthy_train_288_jpg.rf.bfe59506350723a62c4746953530b84e.jpg: 448x640 2 leaf_healthys, 10.6ms\n",
      "image 185/1557 /workspace/Plant-Pathology-Anotation-7/train/images/healthy_train_289_jpg.rf.28943fd479fc7271190fceecf47611e5.jpg: 448x640 6 leaf_healthys, 9.7ms\n",
      "image 186/1557 /workspace/Plant-Pathology-Anotation-7/train/images/healthy_train_28_jpg.rf.f207c5da93025b5f23a1b77f858eb6d8.jpg: 448x640 2 leaf_healthys, 10.9ms\n",
      "image 187/1557 /workspace/Plant-Pathology-Anotation-7/train/images/healthy_train_290_jpg.rf.9cecd1a7608e120fabfd1bcec8242afa.jpg: 448x640 2 leaf_healthys, 9.7ms\n",
      "image 188/1557 /workspace/Plant-Pathology-Anotation-7/train/images/healthy_train_291_jpg.rf.90abcd6449ad59e97fbc3d47a6552e46.jpg: 448x640 7 leaf_healthys, 10.7ms\n",
      "image 189/1557 /workspace/Plant-Pathology-Anotation-7/train/images/healthy_train_292_jpg.rf.a5304b868ed41bba42e62a68c3c9d2e1.jpg: 448x640 4 leaf_healthys, 9.2ms\n",
      "image 190/1557 /workspace/Plant-Pathology-Anotation-7/train/images/healthy_train_293_jpg.rf.7406fa9bb23211d3ef492b603867b7ef.jpg: 448x640 5 leaf_healthys, 10.8ms\n",
      "image 191/1557 /workspace/Plant-Pathology-Anotation-7/train/images/healthy_train_294_jpg.rf.a11fa27ef8daeb05e888d8ddf0a97d6a.jpg: 448x640 7 leaf_healthys, 9.4ms\n",
      "image 192/1557 /workspace/Plant-Pathology-Anotation-7/train/images/healthy_train_295_jpg.rf.06706547a4518a53283e61aa5e130ebe.jpg: 448x640 6 leaf_healthys, 9.4ms\n",
      "image 193/1557 /workspace/Plant-Pathology-Anotation-7/train/images/healthy_train_296_jpg.rf.6a96d6fae84b1e0a274cf927a0b49bc3.jpg: 448x640 3 leaf_healthys, 9.2ms\n",
      "image 194/1557 /workspace/Plant-Pathology-Anotation-7/train/images/healthy_train_297_jpg.rf.ec0bfd29c7740bc932d5899019450077.jpg: 448x640 2 leaf_healthys, 11.4ms\n",
      "image 195/1557 /workspace/Plant-Pathology-Anotation-7/train/images/healthy_train_298_jpg.rf.313bc4d8b50603bf23f3de5c2a7ba6fb.jpg: 448x640 3 leaf_healthys, 9.2ms\n",
      "image 196/1557 /workspace/Plant-Pathology-Anotation-7/train/images/healthy_train_299_jpg.rf.16b3995bcf94abc95ef68097a1d9a871.jpg: 448x640 4 leaf_healthys, 11.1ms\n",
      "image 197/1557 /workspace/Plant-Pathology-Anotation-7/train/images/healthy_train_29_jpg.rf.d6613d400eb3af96cbca8070d2aebdb0.jpg: 448x640 3 leaf_healthys, 9.2ms\n",
      "image 198/1557 /workspace/Plant-Pathology-Anotation-7/train/images/healthy_train_300_jpg.rf.16070c80734cb108e7943e8ee981383a.jpg: 448x640 4 leaf_healthys, 9.1ms\n",
      "image 199/1557 /workspace/Plant-Pathology-Anotation-7/train/images/healthy_train_301_jpg.rf.3166aeceb5de388c6fa757270e92238e.jpg: 448x640 2 leaf_healthys, 10.4ms\n",
      "image 200/1557 /workspace/Plant-Pathology-Anotation-7/train/images/healthy_train_302_jpg.rf.041685dbbe0ad80b1076665677a646f8.jpg: 448x640 5 leaf_healthys, 9.1ms\n",
      "image 201/1557 /workspace/Plant-Pathology-Anotation-7/train/images/healthy_train_303_jpg.rf.bd8eab328b01994c911c323fd3a5c005.jpg: 448x640 1 leaf_healthy, 10.6ms\n",
      "image 202/1557 /workspace/Plant-Pathology-Anotation-7/train/images/healthy_train_304_jpg.rf.14e2daf15da284939bcc191a7fe259b7.jpg: 448x640 11 leaf_healthys, 9.0ms\n",
      "image 203/1557 /workspace/Plant-Pathology-Anotation-7/train/images/healthy_train_305_jpg.rf.ce3898fe66c0ff7fa9db6e3a25306e14.jpg: 448x640 5 leaf_healthys, 9.0ms\n",
      "image 204/1557 /workspace/Plant-Pathology-Anotation-7/train/images/healthy_train_307_jpg.rf.0fa42d40d1f76f8827c0744e6acc8f1c.jpg: 448x640 10 leaf_healthys, 9.0ms\n",
      "image 205/1557 /workspace/Plant-Pathology-Anotation-7/train/images/healthy_train_308_jpg.rf.dff49772a9186932dbda53eeff2bcd86.jpg: 448x640 4 leaf_healthys, 10.1ms\n",
      "image 206/1557 /workspace/Plant-Pathology-Anotation-7/train/images/healthy_train_309_jpg.rf.76395e7cf17b0297544b58c3fc99fd58.jpg: 448x640 1 leaf_healthy, 8.8ms\n",
      "image 207/1557 /workspace/Plant-Pathology-Anotation-7/train/images/healthy_train_30_jpg.rf.884df50075308264aa170673356614ca.jpg: 448x640 4 leaf_healthys, 9.6ms\n",
      "image 208/1557 /workspace/Plant-Pathology-Anotation-7/train/images/healthy_train_310_jpg.rf.f10702d94d4fd0feafe19a875e1b62e9.jpg: 448x640 2 leaf_healthys, 8.8ms\n",
      "image 209/1557 /workspace/Plant-Pathology-Anotation-7/train/images/healthy_train_311_jpg.rf.9eb1ae374e8d5f47196fa9595aa43e44.jpg: 448x640 1 leaf_healthy, 10.1ms\n",
      "image 210/1557 /workspace/Plant-Pathology-Anotation-7/train/images/healthy_train_312_jpg.rf.ef5df42d46f611e0c56a272972ced852.jpg: 448x640 4 leaf_healthys, 8.7ms\n",
      "image 211/1557 /workspace/Plant-Pathology-Anotation-7/train/images/healthy_train_313_jpg.rf.90c8750a6eba1e49408a6d68ade7b430.jpg: 448x640 2 leaf_healthys, 10.2ms\n",
      "image 212/1557 /workspace/Plant-Pathology-Anotation-7/train/images/healthy_train_314_jpg.rf.a73da0fe08b1eb6b0880004147bd7f90.jpg: 448x640 3 leaf_healthys, 8.9ms\n",
      "image 213/1557 /workspace/Plant-Pathology-Anotation-7/train/images/healthy_train_315_jpg.rf.67db45acb09013684dd278f0b6860765.jpg: 448x640 2 leaf_healthys, 9.5ms\n",
      "image 214/1557 /workspace/Plant-Pathology-Anotation-7/train/images/healthy_train_316_jpg.rf.4db2f42aa3dff34a271ad1f1d4972796.jpg: 448x640 3 leaf_healthys, 8.6ms\n",
      "image 215/1557 /workspace/Plant-Pathology-Anotation-7/train/images/healthy_train_317_jpg.rf.51fa57a7549e1a08f77db793cc6c21eb.jpg: 448x640 2 leaf_healthys, 9.8ms\n",
      "image 216/1557 /workspace/Plant-Pathology-Anotation-7/train/images/healthy_train_318_jpg.rf.76eedb8b46cd86a34c2f7385ac3113b9.jpg: 448x640 9 leaf_healthys, 9.1ms\n",
      "image 217/1557 /workspace/Plant-Pathology-Anotation-7/train/images/healthy_train_319_jpg.rf.63efebd55fedc1191c5d3a1354e7c4a6.jpg: 448x640 3 leaf_healthys, 9.5ms\n",
      "image 218/1557 /workspace/Plant-Pathology-Anotation-7/train/images/healthy_train_31_jpg.rf.38dbda173d44192c9bdbd9221712b599.jpg: 448x640 3 leaf_healthys, 8.8ms\n",
      "image 219/1557 /workspace/Plant-Pathology-Anotation-7/train/images/healthy_train_320_jpg.rf.fe15c80347b21db36612e36875b16c41.jpg: 448x640 4 leaf_healthys, 8.8ms\n",
      "image 220/1557 /workspace/Plant-Pathology-Anotation-7/train/images/healthy_train_321_jpg.rf.cdeb769245a02388ad44b06937ef66a3.jpg: 448x640 2 leaf_healthys, 8.9ms\n",
      "image 221/1557 /workspace/Plant-Pathology-Anotation-7/train/images/healthy_train_322_jpg.rf.795bf0ae579cd43aacd3f6b975be2c8a.jpg: 448x640 3 leaf_healthys, 8.8ms\n",
      "image 222/1557 /workspace/Plant-Pathology-Anotation-7/train/images/healthy_train_323_jpg.rf.c05ced93731a701aeb832a38013acf75.jpg: 448x640 4 leaf_healthys, 8.9ms\n",
      "image 223/1557 /workspace/Plant-Pathology-Anotation-7/train/images/healthy_train_324_jpg.rf.9e907fdcb4b04d88dad7dc26cae1c941.jpg: 448x640 3 leaf_healthys, 8.8ms\n",
      "image 224/1557 /workspace/Plant-Pathology-Anotation-7/train/images/healthy_train_325_jpg.rf.ea91f0a96cedaa828ada05d54825e4bf.jpg: 448x640 3 leaf_healthys, 8.7ms\n",
      "image 225/1557 /workspace/Plant-Pathology-Anotation-7/train/images/healthy_train_326_jpg.rf.e1dc40b8e6b13c79e1b4e7ac43e56484.jpg: 448x640 4 leaf_healthys, 8.5ms\n",
      "image 226/1557 /workspace/Plant-Pathology-Anotation-7/train/images/healthy_train_327_jpg.rf.ad76c10c2bfcd0e7fac221c708d555cb.jpg: 448x640 3 leaf_healthys, 9.4ms\n",
      "image 227/1557 /workspace/Plant-Pathology-Anotation-7/train/images/healthy_train_328_jpg.rf.1b027488f0afcf472284f1f7b95bd35a.jpg: 448x640 1 leaf_healthy, 8.5ms\n",
      "image 228/1557 /workspace/Plant-Pathology-Anotation-7/train/images/healthy_train_329_jpg.rf.0a453fb6acec1317b42d2e0e48bed983.jpg: 448x640 2 leaf_healthys, 8.4ms\n",
      "image 229/1557 /workspace/Plant-Pathology-Anotation-7/train/images/healthy_train_32_jpg.rf.fb10702a5c81c9a4859b69c89e9dffe7.jpg: 448x640 2 leaf_healthys, 8.5ms\n",
      "image 230/1557 /workspace/Plant-Pathology-Anotation-7/train/images/healthy_train_330_jpg.rf.f89a2e7b0d2c91dd2a14a5bc29ae7ced.jpg: 448x640 2 leaf_healthys, 8.8ms\n",
      "image 231/1557 /workspace/Plant-Pathology-Anotation-7/train/images/healthy_train_331_jpg.rf.1e9593e4842a3fda1cdabb88e96cbfa9.jpg: 448x640 2 leaf_healthys, 8.4ms\n",
      "image 232/1557 /workspace/Plant-Pathology-Anotation-7/train/images/healthy_train_332_jpg.rf.c7be310c95b7bfe17bd39bf3e9e72a2b.jpg: 448x640 9 leaf_healthys, 8.5ms\n",
      "image 233/1557 /workspace/Plant-Pathology-Anotation-7/train/images/healthy_train_333_jpg.rf.0b1bce32d32c87a6dd49b6ed9acd05ad.jpg: 448x640 3 leaf_healthys, 8.6ms\n",
      "image 234/1557 /workspace/Plant-Pathology-Anotation-7/train/images/healthy_train_334_jpg.rf.4bb0c1697d2e2dbd395e1e59f09bba78.jpg: 448x640 3 leaf_healthys, 8.7ms\n",
      "image 235/1557 /workspace/Plant-Pathology-Anotation-7/train/images/healthy_train_336_jpg.rf.58f8a08e85f9ed705d53ca2b4eb7a9ad.jpg: 448x640 2 leaf_healthys, 8.6ms\n",
      "image 236/1557 /workspace/Plant-Pathology-Anotation-7/train/images/healthy_train_337_jpg.rf.9a83bb4bdacfbed7a5ca99bb008a84eb.jpg: 448x640 4 leaf_healthys, 9.1ms\n",
      "image 237/1557 /workspace/Plant-Pathology-Anotation-7/train/images/healthy_train_338_jpg.rf.b1319e8163c58d36123c2aa604695830.jpg: 448x640 5 leaf_healthys, 8.6ms\n",
      "image 238/1557 /workspace/Plant-Pathology-Anotation-7/train/images/healthy_train_339_jpg.rf.235f107929ff235067ba401c151e4e21.jpg: 448x640 1 leaf_healthy, 8.6ms\n",
      "image 239/1557 /workspace/Plant-Pathology-Anotation-7/train/images/healthy_train_33_jpg.rf.c281cc3f0df13553d5e359aa5f952f58.jpg: 448x640 2 leaf_healthys, 8.7ms\n",
      "image 240/1557 /workspace/Plant-Pathology-Anotation-7/train/images/healthy_train_340_jpg.rf.9ee22cfc7d5082d1e8aaffba0ecb1638.jpg: 448x640 4 leaf_healthys, 8.5ms\n",
      "image 241/1557 /workspace/Plant-Pathology-Anotation-7/train/images/healthy_train_341_jpg.rf.f738e1cf6ff926967fb9bcfef342f7f9.jpg: 448x640 6 leaf_healthys, 8.5ms\n",
      "image 242/1557 /workspace/Plant-Pathology-Anotation-7/train/images/healthy_train_342_jpg.rf.6e7d319700f9c3b2b83951bfd301869a.jpg: 448x640 2 leaf_healthys, 9.0ms\n",
      "image 243/1557 /workspace/Plant-Pathology-Anotation-7/train/images/healthy_train_343_jpg.rf.689b0c91975c5bd436ceb557a9a6cad5.jpg: 448x640 10 leaf_healthys, 8.5ms\n",
      "image 244/1557 /workspace/Plant-Pathology-Anotation-7/train/images/healthy_train_344_jpg.rf.c200a04e66bc5c1eeecb8d97205f4339.jpg: 448x640 1 leaf_healthy, 8.6ms\n",
      "image 245/1557 /workspace/Plant-Pathology-Anotation-7/train/images/healthy_train_345_jpg.rf.b4e11a552bfd94c232ff9d2fe57c9264.jpg: 448x640 2 leaf_healthys, 8.4ms\n",
      "image 246/1557 /workspace/Plant-Pathology-Anotation-7/train/images/healthy_train_346_jpg.rf.9bfc5cc1d489f902a62223606591d290.jpg: 448x640 3 leaf_healthys, 8.9ms\n",
      "image 247/1557 /workspace/Plant-Pathology-Anotation-7/train/images/healthy_train_347_jpg.rf.1daa2887bac9f2b035264a748edb3bb4.jpg: 448x640 2 leaf_healthys, 1 leaf_scab, 9.4ms\n",
      "image 248/1557 /workspace/Plant-Pathology-Anotation-7/train/images/healthy_train_348_jpg.rf.e533d9b13b2b750ff2b830fd9f6e1682.jpg: 448x640 2 leaf_healthys, 8.9ms\n",
      "image 249/1557 /workspace/Plant-Pathology-Anotation-7/train/images/healthy_train_349_jpg.rf.eaaacc97a6d83e27f82ac5df9c60ef52.jpg: 448x640 10 leaf_healthys, 8.5ms\n",
      "image 250/1557 /workspace/Plant-Pathology-Anotation-7/train/images/healthy_train_34_jpg.rf.d706f4db015ecd9f0ca0d372350f2317.jpg: 448x640 4 leaf_healthys, 9.2ms\n",
      "image 251/1557 /workspace/Plant-Pathology-Anotation-7/train/images/healthy_train_350_jpg.rf.db2bf8d29f3705bddd715c4c07aa3024.jpg: 448x640 3 leaf_healthys, 8.6ms\n",
      "image 252/1557 /workspace/Plant-Pathology-Anotation-7/train/images/healthy_train_351_jpg.rf.6b77dc2b1cc6fbbc17b8bfa1997f78a1.jpg: 448x640 2 leaf_healthys, 8.6ms\n",
      "image 253/1557 /workspace/Plant-Pathology-Anotation-7/train/images/healthy_train_352_jpg.rf.f5a046624f0bab8ac056819a9d54ef42.jpg: 448x640 7 leaf_healthys, 8.9ms\n",
      "image 254/1557 /workspace/Plant-Pathology-Anotation-7/train/images/healthy_train_353_jpg.rf.284f7564f4cdd83aa621e4d0488071f5.jpg: 448x640 8 leaf_healthys, 8.5ms\n",
      "image 255/1557 /workspace/Plant-Pathology-Anotation-7/train/images/healthy_train_354_jpg.rf.9d56fa2bd49ec3cea8b362cedfcf7c48.jpg: 448x640 2 leaf_healthys, 9.0ms\n",
      "image 256/1557 /workspace/Plant-Pathology-Anotation-7/train/images/healthy_train_355_jpg.rf.2c3c3897bc6df90b3bce8eb50a513dac.jpg: 448x640 2 leaf_healthys, 8.7ms\n",
      "image 257/1557 /workspace/Plant-Pathology-Anotation-7/train/images/healthy_train_356_jpg.rf.4a5a14a089ff1b68471612fb988035a6.jpg: 448x640 3 leaf_healthys, 9.0ms\n",
      "image 258/1557 /workspace/Plant-Pathology-Anotation-7/train/images/healthy_train_357_jpg.rf.a49e8a54a3638b7b860a66493d37f868.jpg: 448x640 5 leaf_healthys, 8.6ms\n",
      "image 259/1557 /workspace/Plant-Pathology-Anotation-7/train/images/healthy_train_358_jpg.rf.d217f7e9eeaaf6e3963115064ebc212a.jpg: 448x640 5 leaf_healthys, 8.9ms\n",
      "image 260/1557 /workspace/Plant-Pathology-Anotation-7/train/images/healthy_train_359_jpg.rf.fd91b7b13881b3817ca1c646a9c53978.jpg: 448x640 10 leaf_healthys, 8.6ms\n",
      "image 261/1557 /workspace/Plant-Pathology-Anotation-7/train/images/healthy_train_35_jpg.rf.1edb578b365144d69fde28b646eb36e1.jpg: 448x640 5 leaf_healthys, 8.6ms\n",
      "image 262/1557 /workspace/Plant-Pathology-Anotation-7/train/images/healthy_train_360_jpg.rf.093d88e88344c9e258603298835e507d.jpg: 448x640 1 leaf_healthy, 8.6ms\n",
      "image 263/1557 /workspace/Plant-Pathology-Anotation-7/train/images/healthy_train_361_jpg.rf.e6c22b7f99a75045540e3e16213c75f4.jpg: 448x640 3 leaf_healthys, 8.7ms\n",
      "image 264/1557 /workspace/Plant-Pathology-Anotation-7/train/images/healthy_train_362_jpg.rf.e40f815b503c0ca0b264f91b74cf99a3.jpg: 448x640 1 leaf_healthy, 8.5ms\n",
      "image 265/1557 /workspace/Plant-Pathology-Anotation-7/train/images/healthy_train_363_jpg.rf.214f213fd8790f2e56753eeccfc9ecb1.jpg: 448x640 3 leaf_healthys, 8.4ms\n",
      "image 266/1557 /workspace/Plant-Pathology-Anotation-7/train/images/healthy_train_364_jpg.rf.e7fab2c16049ed0ccaff1d47d6c48186.jpg: 448x640 7 leaf_healthys, 8.5ms\n",
      "image 267/1557 /workspace/Plant-Pathology-Anotation-7/train/images/healthy_train_365_jpg.rf.bac9625f9f5a01268eadc5d9be98715c.jpg: 448x640 2 leaf_healthys, 8.5ms\n",
      "image 268/1557 /workspace/Plant-Pathology-Anotation-7/train/images/healthy_train_366_jpg.rf.a1351b683d1860d4399db98aa2655c55.jpg: 448x640 5 leaf_healthys, 8.5ms\n",
      "image 269/1557 /workspace/Plant-Pathology-Anotation-7/train/images/healthy_train_367_jpg.rf.a3a51c922a5a8c758363c65340fabbbe.jpg: 448x640 7 leaf_healthys, 8.8ms\n",
      "image 270/1557 /workspace/Plant-Pathology-Anotation-7/train/images/healthy_train_368_jpg.rf.b01d97ea17a6dbafcd7be2cbe4509ea2.jpg: 448x640 4 leaf_healthys, 8.5ms\n",
      "image 271/1557 /workspace/Plant-Pathology-Anotation-7/train/images/healthy_train_369_jpg.rf.27b82c77cf9d1e1c615d03d7f3aecfc5.jpg: 448x640 3 leaf_healthys, 8.8ms\n",
      "image 272/1557 /workspace/Plant-Pathology-Anotation-7/train/images/healthy_train_36_jpg.rf.fde288a8adaa6e4ac4d59b95452498ad.jpg: 448x640 1 leaf_healthy, 8.5ms\n",
      "image 273/1557 /workspace/Plant-Pathology-Anotation-7/train/images/healthy_train_370_jpg.rf.a489b54f32ed2676a8a80aead6b5385c.jpg: 448x640 2 leaf_healthys, 8.7ms\n",
      "image 274/1557 /workspace/Plant-Pathology-Anotation-7/train/images/healthy_train_371_jpg.rf.9d107623242a47da0b4f4a7278d9427c.jpg: 448x640 3 leaf_healthys, 8.5ms\n",
      "image 275/1557 /workspace/Plant-Pathology-Anotation-7/train/images/healthy_train_372_jpg.rf.c4f8d31fe4293cd239529af6e1342826.jpg: 448x640 5 leaf_healthys, 8.8ms\n",
      "image 276/1557 /workspace/Plant-Pathology-Anotation-7/train/images/healthy_train_373_jpg.rf.ff7093a979c95bff758dc357d8c056d3.jpg: 448x640 10 leaf_healthys, 8.5ms\n",
      "image 277/1557 /workspace/Plant-Pathology-Anotation-7/train/images/healthy_train_374_jpg.rf.2e8555fa39af0bdd2435153719bbcf85.jpg: 448x640 3 leaf_healthys, 8.1ms\n",
      "image 278/1557 /workspace/Plant-Pathology-Anotation-7/train/images/healthy_train_376_jpg.rf.131e613f6896502fefc7ccd82dcf16b2.jpg: 448x640 6 leaf_healthys, 8.9ms\n",
      "image 279/1557 /workspace/Plant-Pathology-Anotation-7/train/images/healthy_train_377_jpg.rf.4a00d0deca25423eca81e7d94dcb8531.jpg: 448x640 2 leaf_healthys, 8.6ms\n",
      "image 280/1557 /workspace/Plant-Pathology-Anotation-7/train/images/healthy_train_378_jpg.rf.beb986d56ea207d2a59d0325eab6431a.jpg: 448x640 5 leaf_healthys, 8.9ms\n",
      "image 281/1557 /workspace/Plant-Pathology-Anotation-7/train/images/healthy_train_379_jpg.rf.9e9d23760528e9a42c3fcaa63db5baee.jpg: 448x640 4 leaf_healthys, 8.5ms\n",
      "image 282/1557 /workspace/Plant-Pathology-Anotation-7/train/images/healthy_train_37_jpg.rf.d889ea095e09e53db5196805b0e765eb.jpg: 448x640 7 leaf_healthys, 8.8ms\n",
      "image 283/1557 /workspace/Plant-Pathology-Anotation-7/train/images/healthy_train_381_jpg.rf.d0f8697d0f67ff1331b21820d7ad13f3.jpg: 448x640 2 leaf_healthys, 1 leaf_scab, 9.0ms\n",
      "image 284/1557 /workspace/Plant-Pathology-Anotation-7/train/images/healthy_train_382_jpg.rf.3095d3259ae38fbc1585286f71caf076.jpg: 448x640 4 leaf_healthys, 8.5ms\n",
      "image 285/1557 /workspace/Plant-Pathology-Anotation-7/train/images/healthy_train_383_jpg.rf.c241f43d98bbb35404917259003dc480.jpg: 448x640 5 leaf_healthys, 9.0ms\n",
      "image 286/1557 /workspace/Plant-Pathology-Anotation-7/train/images/healthy_train_384_jpg.rf.c8ccef7739002e75b59d06bedc4b16d3.jpg: 448x640 1 leaf_healthy, 8.6ms\n",
      "image 287/1557 /workspace/Plant-Pathology-Anotation-7/train/images/healthy_train_385_jpg.rf.fe329114171fa348e138af53d0333585.jpg: 448x640 2 leaf_healthys, 8.4ms\n",
      "image 288/1557 /workspace/Plant-Pathology-Anotation-7/train/images/healthy_train_386_jpg.rf.9abb3d10eac14d35410fcb1b2133ba6e.jpg: 448x640 3 leaf_healthys, 9.0ms\n",
      "image 289/1557 /workspace/Plant-Pathology-Anotation-7/train/images/healthy_train_387_jpg.rf.61ac3c9204f82cfeb4e3d11678a6c204.jpg: 448x640 3 leaf_healthys, 8.9ms\n",
      "image 290/1557 /workspace/Plant-Pathology-Anotation-7/train/images/healthy_train_388_jpg.rf.0d24fa38deed52602678a4304c4fbca6.jpg: 448x640 5 leaf_healthys, 8.5ms\n",
      "image 291/1557 /workspace/Plant-Pathology-Anotation-7/train/images/healthy_train_389_jpg.rf.c785ac48e1e9a1b8c2247cfb73823397.jpg: 448x640 8 leaf_healthys, 9.0ms\n",
      "image 292/1557 /workspace/Plant-Pathology-Anotation-7/train/images/healthy_train_38_jpg.rf.abd1a7e105c297fd0faa77adb24abd6c.jpg: 448x640 4 leaf_healthys, 8.5ms\n",
      "image 293/1557 /workspace/Plant-Pathology-Anotation-7/train/images/healthy_train_390_jpg.rf.2029281980528709681b9f912d8d8600.jpg: 448x640 2 leaf_healthys, 8.8ms\n",
      "image 294/1557 /workspace/Plant-Pathology-Anotation-7/train/images/healthy_train_391_jpg.rf.0d50028cd38f1dc22170eac7a21a0df0.jpg: 448x640 6 leaf_healthys, 9.3ms\n",
      "image 295/1557 /workspace/Plant-Pathology-Anotation-7/train/images/healthy_train_392_jpg.rf.e6d3d3922d55c9dc8cde17de962913fb.jpg: 448x640 5 leaf_healthys, 9.0ms\n",
      "image 296/1557 /workspace/Plant-Pathology-Anotation-7/train/images/healthy_train_393_jpg.rf.29512417b6e9fc0ac11c554537eaea36.jpg: 448x640 4 leaf_healthys, 8.5ms\n",
      "image 297/1557 /workspace/Plant-Pathology-Anotation-7/train/images/healthy_train_394_jpg.rf.e7bf7459bcdc87418f6ae1fa523252bf.jpg: 448x640 12 leaf_healthys, 8.8ms\n",
      "image 298/1557 /workspace/Plant-Pathology-Anotation-7/train/images/healthy_train_395_jpg.rf.79da8604e631b3f80f07b449e519d6b2.jpg: 448x640 3 leaf_healthys, 8.5ms\n",
      "image 299/1557 /workspace/Plant-Pathology-Anotation-7/train/images/healthy_train_396_jpg.rf.a2bc9837785714bdaa75f2437b6d1222.jpg: 448x640 4 leaf_healthys, 9.6ms\n",
      "image 300/1557 /workspace/Plant-Pathology-Anotation-7/train/images/healthy_train_397_jpg.rf.8fc231c2be14ca110083665c4175baab.jpg: 448x640 5 leaf_healthys, 9.2ms\n",
      "image 301/1557 /workspace/Plant-Pathology-Anotation-7/train/images/healthy_train_398_jpg.rf.b251b5682b807bfe6c6889d44ffbd5ff.jpg: 448x640 2 leaf_healthys, 8.5ms\n",
      "image 302/1557 /workspace/Plant-Pathology-Anotation-7/train/images/healthy_train_399_jpg.rf.cb7f9ff002c316ec3e537a172ad95fa5.jpg: 448x640 6 leaf_healthys, 9.1ms\n",
      "image 303/1557 /workspace/Plant-Pathology-Anotation-7/train/images/healthy_train_39_jpg.rf.42c76c88fabb8f1a71dea7fb33fce658.jpg: 448x640 3 leaf_healthys, 9.1ms\n",
      "image 304/1557 /workspace/Plant-Pathology-Anotation-7/train/images/healthy_train_400_jpg.rf.899ee5ddb517dc1239b55ca8009deb66.jpg: 448x640 2 leaf_healthys, 8.8ms\n",
      "image 305/1557 /workspace/Plant-Pathology-Anotation-7/train/images/healthy_train_401_jpg.rf.c3720787a0aa2b951b882ab437ca4c46.jpg: 448x640 3 leaf_healthys, 8.5ms\n",
      "image 306/1557 /workspace/Plant-Pathology-Anotation-7/train/images/healthy_train_404_jpg.rf.5af44bf67fa43492bc103a85cb0552e1.jpg: 448x640 3 leaf_healthys, 9.1ms\n",
      "image 307/1557 /workspace/Plant-Pathology-Anotation-7/train/images/healthy_train_405_jpg.rf.967e09ee8c979290a6ec5052a6115db0.jpg: 448x640 2 leaf_healthys, 9.0ms\n",
      "image 308/1557 /workspace/Plant-Pathology-Anotation-7/train/images/healthy_train_406_jpg.rf.340ab8806df3cb1e271a9558a6cbad7e.jpg: 448x640 5 leaf_healthys, 8.8ms\n",
      "image 309/1557 /workspace/Plant-Pathology-Anotation-7/train/images/healthy_train_407_jpg.rf.7be77306a8e598752856dc9f95064ff0.jpg: 448x640 8 leaf_healthys, 8.5ms\n",
      "image 310/1557 /workspace/Plant-Pathology-Anotation-7/train/images/healthy_train_408_jpg.rf.44eb723af5e967d40faa5d9af0d59a3f.jpg: 448x640 4 leaf_healthys, 8.9ms\n",
      "image 311/1557 /workspace/Plant-Pathology-Anotation-7/train/images/healthy_train_409_jpg.rf.0abac6c5ddf1176f122f07bdb6bbe1a1.jpg: 448x640 4 leaf_healthys, 8.6ms\n",
      "image 312/1557 /workspace/Plant-Pathology-Anotation-7/train/images/healthy_train_40_jpg.rf.202c29ad7fe8f1c4d3a8acc4d6535042.jpg: 448x640 2 leaf_healthys, 9.3ms\n",
      "image 313/1557 /workspace/Plant-Pathology-Anotation-7/train/images/healthy_train_410_jpg.rf.6e3ee2b23cb5bc7dc15cbcd32a4df718.jpg: 448x640 1 leaf_healthy, 8.5ms\n",
      "image 314/1557 /workspace/Plant-Pathology-Anotation-7/train/images/healthy_train_411_jpg.rf.c4226fe0800c03225a4e0318601369ac.jpg: 448x640 3 leaf_healthys, 9.4ms\n",
      "image 315/1557 /workspace/Plant-Pathology-Anotation-7/train/images/healthy_train_412_jpg.rf.9eee33b78d52674c3f3017a062d095e5.jpg: 448x640 2 leaf_healthys, 8.4ms\n",
      "image 316/1557 /workspace/Plant-Pathology-Anotation-7/train/images/healthy_train_413_jpg.rf.2e8ac531b613dad6d6ae84943a1e7f33.jpg: 448x640 3 leaf_healthys, 8.5ms\n",
      "image 317/1557 /workspace/Plant-Pathology-Anotation-7/train/images/healthy_train_414_jpg.rf.66663dd2a1338935da7e4da86b98ab1f.jpg: 448x640 2 leaf_healthys, 9.0ms\n",
      "image 318/1557 /workspace/Plant-Pathology-Anotation-7/train/images/healthy_train_415_jpg.rf.25acdb9b0af118ce54870712c58df211.jpg: 448x640 3 leaf_healthys, 8.5ms\n",
      "image 319/1557 /workspace/Plant-Pathology-Anotation-7/train/images/healthy_train_416_jpg.rf.cd11b05671eba06429cc1c488954637c.jpg: 448x640 5 leaf_healthys, 8.7ms\n",
      "image 320/1557 /workspace/Plant-Pathology-Anotation-7/train/images/healthy_train_418_jpg.rf.522b1b75ec169a9be87bea231b917432.jpg: 448x640 5 leaf_healthys, 8.6ms\n",
      "image 321/1557 /workspace/Plant-Pathology-Anotation-7/train/images/healthy_train_419_jpg.rf.defeb8059e778c318f2707fe4bc1940d.jpg: 448x640 3 leaf_healthys, 9.1ms\n",
      "image 322/1557 /workspace/Plant-Pathology-Anotation-7/train/images/healthy_train_41_jpg.rf.f53e179f18edae220cdfa1b1e296b873.jpg: 448x640 1 leaf_healthy, 9.1ms\n",
      "image 323/1557 /workspace/Plant-Pathology-Anotation-7/train/images/healthy_train_420_jpg.rf.342ce0e61b8d0855a4c2580b10bb5791.jpg: 448x640 1 leaf_healthy, 8.6ms\n",
      "image 324/1557 /workspace/Plant-Pathology-Anotation-7/train/images/healthy_train_422_jpg.rf.30684cc5b218f045ba556eaf9bba7c27.jpg: 448x640 7 leaf_healthys, 8.6ms\n",
      "image 325/1557 /workspace/Plant-Pathology-Anotation-7/train/images/healthy_train_424_jpg.rf.40bd168d1fea6ee3946f62892f799b1c.jpg: 448x640 4 leaf_healthys, 8.6ms\n",
      "image 326/1557 /workspace/Plant-Pathology-Anotation-7/train/images/healthy_train_425_jpg.rf.ffd04ee808c5b55fe3d7f21db1154d80.jpg: 448x640 6 leaf_healthys, 9.2ms\n",
      "image 327/1557 /workspace/Plant-Pathology-Anotation-7/train/images/healthy_train_427_jpg.rf.4c7b11f0f197024d1e7e0295165764f6.jpg: 448x640 4 leaf_healthys, 8.8ms\n",
      "image 328/1557 /workspace/Plant-Pathology-Anotation-7/train/images/healthy_train_428_jpg.rf.6dc70ad25a4ec322a158f2a7947a5794.jpg: 448x640 2 leaf_healthys, 8.5ms\n",
      "image 329/1557 /workspace/Plant-Pathology-Anotation-7/train/images/healthy_train_429_jpg.rf.1fedae9d226db31982f5c7dcb26bbfb0.jpg: 448x640 6 leaf_healthys, 8.7ms\n",
      "image 330/1557 /workspace/Plant-Pathology-Anotation-7/train/images/healthy_train_431_jpg.rf.782696d3aadd62a7dd6ffc63db449225.jpg: 448x640 6 leaf_healthys, 8.4ms\n",
      "image 331/1557 /workspace/Plant-Pathology-Anotation-7/train/images/healthy_train_433_jpg.rf.9448bfb6625229ecfd8a8696391266ec.jpg: 448x640 3 leaf_healthys, 8.8ms\n",
      "image 332/1557 /workspace/Plant-Pathology-Anotation-7/train/images/healthy_train_435_jpg.rf.20f9ec7e63060fab7811f7734689dec8.jpg: 448x640 1 leaf_healthy, 8.5ms\n",
      "image 333/1557 /workspace/Plant-Pathology-Anotation-7/train/images/healthy_train_436_jpg.rf.2dbaeb921314831194643c42b9e2f6e3.jpg: 448x640 7 leaf_healthys, 9.2ms\n",
      "image 334/1557 /workspace/Plant-Pathology-Anotation-7/train/images/healthy_train_437_jpg.rf.b0e6d0c3070392ddf488de88eb3d3ff3.jpg: 448x640 2 leaf_healthys, 8.2ms\n",
      "image 335/1557 /workspace/Plant-Pathology-Anotation-7/train/images/healthy_train_438_jpg.rf.63aa581733ccb01558d44be02b074ec2.jpg: 448x640 4 leaf_healthys, 8.8ms\n",
      "image 336/1557 /workspace/Plant-Pathology-Anotation-7/train/images/healthy_train_439_jpg.rf.cb642c94a240ad57238ef0930e9a7021.jpg: 448x640 3 leaf_healthys, 8.5ms\n",
      "image 337/1557 /workspace/Plant-Pathology-Anotation-7/train/images/healthy_train_43_jpg.rf.51661b9567bf8d1c834686edfd6f406b.jpg: 448x640 4 leaf_healthys, 8.8ms\n",
      "image 338/1557 /workspace/Plant-Pathology-Anotation-7/train/images/healthy_train_440_jpg.rf.aa534bc92d473efc870395e5f1d55fb6.jpg: 448x640 5 leaf_healthys, 8.5ms\n",
      "image 339/1557 /workspace/Plant-Pathology-Anotation-7/train/images/healthy_train_441_jpg.rf.206ed16fd98f0eb7d05fe86684b44888.jpg: 448x640 1 leaf_healthy, 9.0ms\n",
      "image 340/1557 /workspace/Plant-Pathology-Anotation-7/train/images/healthy_train_442_jpg.rf.d579f0c2748c37d728c83f3a6f3a3cb2.jpg: 448x640 6 leaf_healthys, 8.6ms\n",
      "image 341/1557 /workspace/Plant-Pathology-Anotation-7/train/images/healthy_train_443_jpg.rf.a632fe6f938280bd3035f4b8af0e9f02.jpg: 448x640 1 leaf_rust, 8.5ms\n",
      "image 342/1557 /workspace/Plant-Pathology-Anotation-7/train/images/healthy_train_445_jpg.rf.ce44fb4aed0f674f6676475ff8363510.jpg: 448x640 2 leaf_healthys, 9.1ms\n",
      "image 343/1557 /workspace/Plant-Pathology-Anotation-7/train/images/healthy_train_446_jpg.rf.0e1aba26337e494bb6a7aaf7f47e9014.jpg: 448x640 3 leaf_healthys, 8.5ms\n",
      "image 344/1557 /workspace/Plant-Pathology-Anotation-7/train/images/healthy_train_448_jpg.rf.a65210085b46b4e549ff0d2312b9cbeb.jpg: 448x640 4 leaf_healthys, 9.2ms\n",
      "image 345/1557 /workspace/Plant-Pathology-Anotation-7/train/images/healthy_train_449_jpg.rf.f826d0914b85827830ac2236d7b1831c.jpg: 448x640 5 leaf_healthys, 8.5ms\n",
      "image 346/1557 /workspace/Plant-Pathology-Anotation-7/train/images/healthy_train_44_jpg.rf.1db8534240dc329698918db5b5fabad9.jpg: 448x640 3 leaf_healthys, 8.8ms\n",
      "image 347/1557 /workspace/Plant-Pathology-Anotation-7/train/images/healthy_train_450_jpg.rf.6a2e72f0bc0fe7119a15a2d5cad4dda6.jpg: 448x640 3 leaf_healthys, 8.5ms\n",
      "image 348/1557 /workspace/Plant-Pathology-Anotation-7/train/images/healthy_train_451_jpg.rf.abf90d934e1037c932fc13dbcf82158d.jpg: 448x640 2 leaf_healthys, 8.8ms\n",
      "image 349/1557 /workspace/Plant-Pathology-Anotation-7/train/images/healthy_train_452_jpg.rf.6c324d3e0ca2b2f6a488162901ff3082.jpg: 448x640 3 leaf_healthys, 8.6ms\n",
      "image 350/1557 /workspace/Plant-Pathology-Anotation-7/train/images/healthy_train_453_jpg.rf.e0e118f999b4b59e04d4c831fdb4f1f5.jpg: 448x640 11 leaf_healthys, 9.2ms\n",
      "image 351/1557 /workspace/Plant-Pathology-Anotation-7/train/images/healthy_train_454_jpg.rf.10841d68d631a90af78f0314fa252fcc.jpg: 448x640 8 leaf_healthys, 8.6ms\n",
      "image 352/1557 /workspace/Plant-Pathology-Anotation-7/train/images/healthy_train_455_jpg.rf.ce8151a2fe9a0d7d0a1413c9aaa7a8ba.jpg: 448x640 5 leaf_healthys, 8.1ms\n",
      "image 353/1557 /workspace/Plant-Pathology-Anotation-7/train/images/healthy_train_457_jpg.rf.35269d8b197f08c5dc2e35d18cb7d5d1.jpg: 448x640 2 leaf_healthys, 8.7ms\n",
      "image 354/1557 /workspace/Plant-Pathology-Anotation-7/train/images/healthy_train_458_jpg.rf.c5b22c9a501437589ca0b1cd9188d378.jpg: 448x640 2 leaf_healthys, 8.6ms\n",
      "image 355/1557 /workspace/Plant-Pathology-Anotation-7/train/images/healthy_train_459_jpg.rf.325cec48307eca6fc594683ef7ccf6c4.jpg: 448x640 2 leaf_healthys, 9.1ms\n",
      "image 356/1557 /workspace/Plant-Pathology-Anotation-7/train/images/healthy_train_45_jpg.rf.8976042d932abded351f39c0ad17a393.jpg: 448x640 4 leaf_healthys, 8.6ms\n",
      "image 357/1557 /workspace/Plant-Pathology-Anotation-7/train/images/healthy_train_460_jpg.rf.ba33d4a6b23cbf52860d61d667bb0034.jpg: 448x640 3 leaf_healthys, 9.1ms\n",
      "image 358/1557 /workspace/Plant-Pathology-Anotation-7/train/images/healthy_train_461_jpg.rf.7e44d8dd6008c74bcfb6a036cb685929.jpg: 448x640 7 leaf_healthys, 8.5ms\n",
      "image 359/1557 /workspace/Plant-Pathology-Anotation-7/train/images/healthy_train_462_jpg.rf.121fe382536828cd37c1ced16f6d9b3e.jpg: 448x640 5 leaf_healthys, 8.9ms\n",
      "image 360/1557 /workspace/Plant-Pathology-Anotation-7/train/images/healthy_train_463_jpg.rf.381fc07a20b8621c204fd5df8c82d095.jpg: 448x640 11 leaf_healthys, 8.9ms\n",
      "image 361/1557 /workspace/Plant-Pathology-Anotation-7/train/images/healthy_train_464_jpg.rf.c0b2cf7ec9e136a56724392a0a0d9c51.jpg: 448x640 7 leaf_healthys, 8.2ms\n",
      "image 362/1557 /workspace/Plant-Pathology-Anotation-7/train/images/healthy_train_465_jpg.rf.c47b6b8286a5c4833f68ff70a947583a.jpg: 448x640 1 leaf_healthy, 8.5ms\n",
      "image 363/1557 /workspace/Plant-Pathology-Anotation-7/train/images/healthy_train_466_jpg.rf.36bf0d7a3067f3a87dad16303e44ca98.jpg: 448x640 4 leaf_healthys, 9.5ms\n",
      "image 364/1557 /workspace/Plant-Pathology-Anotation-7/train/images/healthy_train_467_jpg.rf.e5a63f84895702900cdefdf13b573d59.jpg: 448x640 3 leaf_healthys, 8.7ms\n",
      "image 365/1557 /workspace/Plant-Pathology-Anotation-7/train/images/healthy_train_468_jpg.rf.990d50665620149e29f5470abf8b8f5f.jpg: 448x640 3 leaf_healthys, 9.1ms\n",
      "image 366/1557 /workspace/Plant-Pathology-Anotation-7/train/images/healthy_train_469_jpg.rf.0e67490bc330866487dfa0f114342e19.jpg: 448x640 4 leaf_healthys, 8.6ms\n",
      "image 367/1557 /workspace/Plant-Pathology-Anotation-7/train/images/healthy_train_46_jpg.rf.fa49e4e14b85fae85fbb4b3862eef5f1.jpg: 448x640 7 leaf_healthys, 9.3ms\n",
      "image 368/1557 /workspace/Plant-Pathology-Anotation-7/train/images/healthy_train_470_jpg.rf.08d99903144891670d04828b56edd198.jpg: 448x640 2 leaf_healthys, 8.7ms\n",
      "image 369/1557 /workspace/Plant-Pathology-Anotation-7/train/images/healthy_train_471_jpg.rf.b40846c502cb1657741169393958de2f.jpg: 448x640 9 leaf_healthys, 9.1ms\n",
      "image 370/1557 /workspace/Plant-Pathology-Anotation-7/train/images/healthy_train_472_jpg.rf.cd9256f24d37e50373c9aa88faf24f00.jpg: 448x640 2 leaf_healthys, 8.6ms\n",
      "image 371/1557 /workspace/Plant-Pathology-Anotation-7/train/images/healthy_train_473_jpg.rf.b896d06edd57f60bc154a9fee454e3fc.jpg: 448x640 7 leaf_healthys, 8.7ms\n",
      "image 372/1557 /workspace/Plant-Pathology-Anotation-7/train/images/healthy_train_474_jpg.rf.21fac9e6a50263b39b784c74627ea5ab.jpg: 448x640 6 leaf_healthys, 9.0ms\n",
      "image 373/1557 /workspace/Plant-Pathology-Anotation-7/train/images/healthy_train_475_jpg.rf.357264b4dc5720dc7c1b78e721c3d507.jpg: 448x640 2 leaf_healthys, 1 leaf_scab, 8.7ms\n",
      "image 374/1557 /workspace/Plant-Pathology-Anotation-7/train/images/healthy_train_476_jpg.rf.3e305a25206158950d1321618c175a1d.jpg: 448x640 5 leaf_healthys, 8.4ms\n",
      "image 375/1557 /workspace/Plant-Pathology-Anotation-7/train/images/healthy_train_477_jpg.rf.e49d6c428ff4fdd4afedc3d6e1b0c68c.jpg: 448x640 2 leaf_healthys, 9.2ms\n",
      "image 376/1557 /workspace/Plant-Pathology-Anotation-7/train/images/healthy_train_478_jpg.rf.18f51d1281d6a57e574997b5d7ba3d6d.jpg: 448x640 7 leaf_healthys, 8.6ms\n",
      "image 377/1557 /workspace/Plant-Pathology-Anotation-7/train/images/healthy_train_479_jpg.rf.307ed1b942fd716736b6001456c58c07.jpg: 448x640 2 leaf_healthys, 8.2ms\n",
      "image 378/1557 /workspace/Plant-Pathology-Anotation-7/train/images/healthy_train_47_jpg.rf.87d2ba59096b9bd621827537b35d3658.jpg: 448x640 3 leaf_healthys, 9.2ms\n",
      "image 379/1557 /workspace/Plant-Pathology-Anotation-7/train/images/healthy_train_480_jpg.rf.e74b54f6500b3c2ee8e51c539d725a70.jpg: 448x640 12 leaf_healthys, 8.5ms\n",
      "image 380/1557 /workspace/Plant-Pathology-Anotation-7/train/images/healthy_train_481_jpg.rf.5e64df82fb563b882601ac51dbb51dfa.jpg: 448x640 3 leaf_healthys, 8.5ms\n",
      "image 381/1557 /workspace/Plant-Pathology-Anotation-7/train/images/healthy_train_482_jpg.rf.0e80f6f3d1d0c873fda26ce679fe831b.jpg: 448x640 2 leaf_healthys, 13.7ms\n",
      "image 382/1557 /workspace/Plant-Pathology-Anotation-7/train/images/healthy_train_483_jpg.rf.e375202d44da9c46050d1bea9b8902ef.jpg: 448x640 6 leaf_healthys, 8.6ms\n",
      "image 383/1557 /workspace/Plant-Pathology-Anotation-7/train/images/healthy_train_484_jpg.rf.1ea7e6fb7ea2838df936e2ea5a9dfbeb.jpg: 448x640 7 leaf_healthys, 8.2ms\n",
      "image 384/1557 /workspace/Plant-Pathology-Anotation-7/train/images/healthy_train_485_jpg.rf.ef7f0645767ce318315f4b5ed16728e8.jpg: 448x640 11 leaf_healthys, 8.6ms\n",
      "image 385/1557 /workspace/Plant-Pathology-Anotation-7/train/images/healthy_train_486_jpg.rf.af1e7c55db066223a78b98cd0c53d14f.jpg: 448x640 7 leaf_healthys, 8.6ms\n",
      "image 386/1557 /workspace/Plant-Pathology-Anotation-7/train/images/healthy_train_487_jpg.rf.3c51f28bebc23fe046bd9745815f8ad7.jpg: 448x640 16 leaf_healthys, 9.5ms\n",
      "image 387/1557 /workspace/Plant-Pathology-Anotation-7/train/images/healthy_train_488_jpg.rf.1ec5bd3146c74e31e5e70e024470e2c1.jpg: 448x640 5 leaf_healthys, 8.6ms\n",
      "image 388/1557 /workspace/Plant-Pathology-Anotation-7/train/images/healthy_train_48_jpg.rf.8bb64405a440d5984b0faa6c252fb740.jpg: 448x640 10 leaf_healthys, 8.5ms\n",
      "image 389/1557 /workspace/Plant-Pathology-Anotation-7/train/images/healthy_train_490_jpg.rf.ab0cd96e763cca85d57c2c8a757328a0.jpg: 448x640 2 leaf_healthys, 8.4ms\n",
      "image 390/1557 /workspace/Plant-Pathology-Anotation-7/train/images/healthy_train_491_jpg.rf.5d6f5953e18bcb13edebab249b9a9ed2.jpg: 448x640 6 leaf_healthys, 8.7ms\n",
      "image 391/1557 /workspace/Plant-Pathology-Anotation-7/train/images/healthy_train_492_jpg.rf.c51677c9f1e0f9d84926ae3b47abb3d9.jpg: 448x640 3 leaf_healthys, 9.3ms\n",
      "image 392/1557 /workspace/Plant-Pathology-Anotation-7/train/images/healthy_train_493_jpg.rf.2f412362b71517c317ecceb61f9c6bbf.jpg: 448x640 2 leaf_healthys, 8.6ms\n",
      "image 393/1557 /workspace/Plant-Pathology-Anotation-7/train/images/healthy_train_494_jpg.rf.3e3cda0de2c91e26e47ba9ad37c2c137.jpg: 448x640 3 leaf_healthys, 9.3ms\n",
      "image 394/1557 /workspace/Plant-Pathology-Anotation-7/train/images/healthy_train_495_jpg.rf.41ce688b411a4c3d55ce0a835b7733b3.jpg: 448x640 14 leaf_healthys, 10.3ms\n",
      "image 395/1557 /workspace/Plant-Pathology-Anotation-7/train/images/healthy_train_496_jpg.rf.f06960a54ed8f82fd14373d24daee21d.jpg: 448x640 4 leaf_healthys, 8.6ms\n",
      "image 396/1557 /workspace/Plant-Pathology-Anotation-7/train/images/healthy_train_497_jpg.rf.b0db43e5185f804ccf19e9eff069ed18.jpg: 448x640 4 leaf_healthys, 8.6ms\n",
      "image 397/1557 /workspace/Plant-Pathology-Anotation-7/train/images/healthy_train_498_jpg.rf.ddbe2d836491ba5c1686d8378a7199ed.jpg: 448x640 2 leaf_healthys, 9.2ms\n",
      "image 398/1557 /workspace/Plant-Pathology-Anotation-7/train/images/healthy_train_499_jpg.rf.5ead2faef58f16fdd6260c74060dc8c8.jpg: 448x640 3 leaf_healthys, 8.5ms\n",
      "image 399/1557 /workspace/Plant-Pathology-Anotation-7/train/images/healthy_train_49_jpg.rf.4b6d71add80684a2c6ce0826bed48b88.jpg: 448x640 9 leaf_healthys, 10.4ms\n",
      "image 400/1557 /workspace/Plant-Pathology-Anotation-7/train/images/healthy_train_4_jpg.rf.999dcfc130848053cddbb2b47c3cfc52.jpg: 448x640 11 leaf_healthys, 8.5ms\n",
      "image 401/1557 /workspace/Plant-Pathology-Anotation-7/train/images/healthy_train_500_jpg.rf.fe96ec7c59a9ec6d10f8005bad805986.jpg: 448x640 1 leaf_healthy, 8.5ms\n",
      "image 402/1557 /workspace/Plant-Pathology-Anotation-7/train/images/healthy_train_501_jpg.rf.351a8e424d4419049777c4d20df2f418.jpg: 448x640 1 leaf_healthy, 8.7ms\n",
      "image 403/1557 /workspace/Plant-Pathology-Anotation-7/train/images/healthy_train_502_jpg.rf.abbb34615b902165db9ae190373d44be.jpg: 448x640 6 leaf_healthys, 8.6ms\n",
      "image 404/1557 /workspace/Plant-Pathology-Anotation-7/train/images/healthy_train_503_jpg.rf.e9fe7ea0c4c75a8cf5945a19cde623ce.jpg: 448x640 2 leaf_healthys, 9.0ms\n",
      "image 405/1557 /workspace/Plant-Pathology-Anotation-7/train/images/healthy_train_504_jpg.rf.6178a82b7e24ea29bc179b295922c6fa.jpg: 448x640 2 leaf_healthys, 9.2ms\n",
      "image 406/1557 /workspace/Plant-Pathology-Anotation-7/train/images/healthy_train_505_jpg.rf.fd8d3daa3349b9019d826bedb4915515.jpg: 448x640 3 leaf_healthys, 8.5ms\n",
      "image 407/1557 /workspace/Plant-Pathology-Anotation-7/train/images/healthy_train_506_jpg.rf.193c9fb0eae47f4b995bb31ee6fc916f.jpg: 448x640 10 leaf_healthys, 9.0ms\n",
      "image 408/1557 /workspace/Plant-Pathology-Anotation-7/train/images/healthy_train_507_jpg.rf.f2a9be86405eb1b89a3411c24049a222.jpg: 448x640 4 leaf_healthys, 8.2ms\n",
      "image 409/1557 /workspace/Plant-Pathology-Anotation-7/train/images/healthy_train_50_jpg.rf.5e46a18e89e0b2219a9251bbe1a1601b.jpg: 448x640 2 leaf_healthys, 8.8ms\n",
      "image 410/1557 /workspace/Plant-Pathology-Anotation-7/train/images/healthy_train_510_jpg.rf.0b2226eab88ef69de135bb0aee03b626.jpg: 448x640 5 leaf_healthys, 8.9ms\n",
      "image 411/1557 /workspace/Plant-Pathology-Anotation-7/train/images/healthy_train_511_jpg.rf.80bec50dd43f0de41b416b87c78bfcd1.jpg: 448x640 5 leaf_healthys, 8.8ms\n",
      "image 412/1557 /workspace/Plant-Pathology-Anotation-7/train/images/healthy_train_512_jpg.rf.14c66c5655c13a810c4768ee9b650408.jpg: 448x640 4 leaf_healthys, 8.5ms\n",
      "image 413/1557 /workspace/Plant-Pathology-Anotation-7/train/images/healthy_train_513_jpg.rf.dad4c514a090ad1bb1d22cbea52e0422.jpg: 448x640 7 leaf_healthys, 8.9ms\n",
      "image 414/1557 /workspace/Plant-Pathology-Anotation-7/train/images/healthy_train_514_jpg.rf.cadff473161ca6f0b7e292e3648db0eb.jpg: 448x640 9 leaf_healthys, 8.6ms\n",
      "image 415/1557 /workspace/Plant-Pathology-Anotation-7/train/images/healthy_train_515_jpg.rf.0a3653240779cf66e5cd2d87c9d58ad0.jpg: 448x640 8 leaf_healthys, 8.6ms\n",
      "image 416/1557 /workspace/Plant-Pathology-Anotation-7/train/images/healthy_train_51_jpg.rf.48ed530570ba963a09addb2f39136091.jpg: 448x640 2 leaf_healthys, 8.2ms\n",
      "image 417/1557 /workspace/Plant-Pathology-Anotation-7/train/images/healthy_train_52_jpg.rf.0141e8a86ab8bb38f0be271e9c532e3c.jpg: 448x640 5 leaf_healthys, 9.0ms\n",
      "image 418/1557 /workspace/Plant-Pathology-Anotation-7/train/images/healthy_train_53_jpg.rf.88c0fd4cbbd402537f6b6363bd8a8823.jpg: 448x640 5 leaf_healthys, 8.4ms\n",
      "image 419/1557 /workspace/Plant-Pathology-Anotation-7/train/images/healthy_train_54_jpg.rf.25c449d1cde1f93a5689cbc41d600567.jpg: 448x640 4 leaf_healthys, 9.1ms\n",
      "image 420/1557 /workspace/Plant-Pathology-Anotation-7/train/images/healthy_train_55_jpg.rf.049fcb0d93a2a55fd2489bfafa239f66.jpg: 448x640 4 leaf_healthys, 8.5ms\n",
      "image 421/1557 /workspace/Plant-Pathology-Anotation-7/train/images/healthy_train_56_jpg.rf.84cf96d3b62eaf4325f2180f306b14e5.jpg: 448x640 2 leaf_healthys, 8.3ms\n",
      "image 422/1557 /workspace/Plant-Pathology-Anotation-7/train/images/healthy_train_57_jpg.rf.fc77a90112e19260b66bf210d953e746.jpg: 448x640 1 leaf_healthy, 8.6ms\n",
      "image 423/1557 /workspace/Plant-Pathology-Anotation-7/train/images/healthy_train_58_jpg.rf.59bc454bb3bfc7a9bdade7f1b8e6cb6b.jpg: 448x640 5 leaf_healthys, 9.0ms\n",
      "image 424/1557 /workspace/Plant-Pathology-Anotation-7/train/images/healthy_train_59_jpg.rf.746a683e42079905bc3df6e4199f7096.jpg: 448x640 6 leaf_healthys, 8.7ms\n",
      "image 425/1557 /workspace/Plant-Pathology-Anotation-7/train/images/healthy_train_5_jpg.rf.a7277adba27a932f721a1f1312262fb2.jpg: 448x640 3 leaf_healthys, 8.5ms\n",
      "image 426/1557 /workspace/Plant-Pathology-Anotation-7/train/images/healthy_train_60_jpg.rf.acd844131d9dc19f3d44533acfe1d4e9.jpg: 448x640 1 leaf_healthy, 8.4ms\n",
      "image 427/1557 /workspace/Plant-Pathology-Anotation-7/train/images/healthy_train_61_jpg.rf.f34fbbe8be160562ff230fe486729f24.jpg: 448x640 13 leaf_healthys, 9.8ms\n",
      "image 428/1557 /workspace/Plant-Pathology-Anotation-7/train/images/healthy_train_62_jpg.rf.b2be4ef1b2c19556a0e6466a5d8abf9a.jpg: 448x640 7 leaf_healthys, 8.6ms\n",
      "image 429/1557 /workspace/Plant-Pathology-Anotation-7/train/images/healthy_train_63_jpg.rf.6bfa79b5d9e7305c84af6f0b336de8b8.jpg: 448x640 8 leaf_healthys, 8.5ms\n",
      "image 430/1557 /workspace/Plant-Pathology-Anotation-7/train/images/healthy_train_64_jpg.rf.042b58e873183fddced89443756c6d85.jpg: 448x640 3 leaf_healthys, 8.4ms\n",
      "image 431/1557 /workspace/Plant-Pathology-Anotation-7/train/images/healthy_train_65_jpg.rf.3907c9369d0ffa6490dd63e4ff45dae4.jpg: 448x640 3 leaf_healthys, 8.6ms\n",
      "image 432/1557 /workspace/Plant-Pathology-Anotation-7/train/images/healthy_train_66_jpg.rf.ab8df62367e389df95fc53fc6ab853b2.jpg: 448x640 4 leaf_healthys, 9.1ms\n",
      "image 433/1557 /workspace/Plant-Pathology-Anotation-7/train/images/healthy_train_68_jpg.rf.c2de1781ea32c34b2bfcfb7fdaebfca8.jpg: 448x640 2 leaf_healthys, 8.5ms\n",
      "image 434/1557 /workspace/Plant-Pathology-Anotation-7/train/images/healthy_train_6_jpg.rf.d3b8d89e83e9c2bb7ae8e94266f516dc.jpg: 448x640 15 leaf_healthys, 9.1ms\n",
      "image 435/1557 /workspace/Plant-Pathology-Anotation-7/train/images/healthy_train_70_jpg.rf.7f1859b05eb96ae76aff7efd4b6df72d.jpg: 448x640 4 leaf_healthys, 8.4ms\n",
      "image 436/1557 /workspace/Plant-Pathology-Anotation-7/train/images/healthy_train_71_jpg.rf.3032c11d7324140a2908aad0e52943f1.jpg: 448x640 1 leaf_healthy, 8.5ms\n",
      "image 437/1557 /workspace/Plant-Pathology-Anotation-7/train/images/healthy_train_72_jpg.rf.4b7aa97da629215e77e9673fb958a7d9.jpg: 448x640 5 leaf_healthys, 8.7ms\n",
      "image 438/1557 /workspace/Plant-Pathology-Anotation-7/train/images/healthy_train_74_jpg.rf.c229fc471a7a61b183d0e10b5cafdccc.jpg: 448x640 3 leaf_healthys, 8.5ms\n",
      "image 439/1557 /workspace/Plant-Pathology-Anotation-7/train/images/healthy_train_75_jpg.rf.f1f893104e13b8f2427c9538c4c37cd4.jpg: 448x640 4 leaf_healthys, 8.5ms\n",
      "image 440/1557 /workspace/Plant-Pathology-Anotation-7/train/images/healthy_train_76_jpg.rf.3977a39f7cdb953653958ada46d10cae.jpg: 448x640 3 leaf_healthys, 9.3ms\n",
      "image 441/1557 /workspace/Plant-Pathology-Anotation-7/train/images/healthy_train_78_jpg.rf.c4a331460db6c4199e4fbb88b7999f6c.jpg: 448x640 7 leaf_healthys, 8.5ms\n",
      "image 442/1557 /workspace/Plant-Pathology-Anotation-7/train/images/healthy_train_79_jpg.rf.a2e83dd2a5b14953322c07169a5f2f6a.jpg: 448x640 1 leaf_healthy, 8.9ms\n",
      "image 443/1557 /workspace/Plant-Pathology-Anotation-7/train/images/healthy_train_7_jpg.rf.39dba4a7a9b88421d31757636dd265a0.jpg: 448x640 5 leaf_healthys, 8.5ms\n",
      "image 444/1557 /workspace/Plant-Pathology-Anotation-7/train/images/healthy_train_80_jpg.rf.62ca6dbb949683a3df60923169c0c7a7.jpg: 448x640 2 leaf_healthys, 8.5ms\n",
      "image 445/1557 /workspace/Plant-Pathology-Anotation-7/train/images/healthy_train_81_jpg.rf.604361d7e0ea1d05394f0ab7e54e039a.jpg: 448x640 4 leaf_healthys, 9.2ms\n",
      "image 446/1557 /workspace/Plant-Pathology-Anotation-7/train/images/healthy_train_82_jpg.rf.b620bc18494edb5778461dcd851c75da.jpg: 448x640 2 leaf_healthys, 8.7ms\n",
      "image 447/1557 /workspace/Plant-Pathology-Anotation-7/train/images/healthy_train_83_jpg.rf.eb3f92524b421d48669e988b7559adac.jpg: 448x640 5 leaf_healthys, 8.9ms\n",
      "image 448/1557 /workspace/Plant-Pathology-Anotation-7/train/images/healthy_train_84_jpg.rf.a2cbc4f9ca45c373d9f1f981e2654beb.jpg: 448x640 5 leaf_healthys, 8.6ms\n",
      "image 449/1557 /workspace/Plant-Pathology-Anotation-7/train/images/healthy_train_85_jpg.rf.ae1def051c9c9ee49e33a07e434ecf58.jpg: 448x640 3 leaf_healthys, 8.6ms\n",
      "image 450/1557 /workspace/Plant-Pathology-Anotation-7/train/images/healthy_train_87_jpg.rf.916716664ffdbb47eb11d28828766de3.jpg: 448x640 2 leaf_healthys, 8.9ms\n",
      "image 451/1557 /workspace/Plant-Pathology-Anotation-7/train/images/healthy_train_88_jpg.rf.32c3cb4324b7c83c529d2a2509961489.jpg: 448x640 7 leaf_healthys, 8.5ms\n",
      "image 452/1557 /workspace/Plant-Pathology-Anotation-7/train/images/healthy_train_89_jpg.rf.6e69130c6af247b1c17540c93c4defb7.jpg: 448x640 6 leaf_healthys, 8.5ms\n",
      "image 453/1557 /workspace/Plant-Pathology-Anotation-7/train/images/healthy_train_8_jpg.rf.d701aea613447cca580809e483f6eeac.jpg: 448x640 1 leaf_healthy, 8.9ms\n",
      "image 454/1557 /workspace/Plant-Pathology-Anotation-7/train/images/healthy_train_90_jpg.rf.8e50907c0871edf44996038e1a9493aa.jpg: 448x640 4 leaf_healthys, 8.6ms\n",
      "image 455/1557 /workspace/Plant-Pathology-Anotation-7/train/images/healthy_train_91_jpg.rf.e4eb9f50a5e4d4e629dba453f53f1619.jpg: 448x640 3 leaf_healthys, 9.0ms\n",
      "image 456/1557 /workspace/Plant-Pathology-Anotation-7/train/images/healthy_train_92_jpg.rf.c76e86a7a9e3d157bd1bf82d959f8f0d.jpg: 448x640 2 leaf_healthys, 9.0ms\n",
      "image 457/1557 /workspace/Plant-Pathology-Anotation-7/train/images/healthy_train_93_jpg.rf.b9588dd07e961f4f48d37ddab71f693c.jpg: 448x640 3 leaf_healthys, 8.5ms\n",
      "image 458/1557 /workspace/Plant-Pathology-Anotation-7/train/images/healthy_train_94_jpg.rf.1f38c5badffa7cfc6dc18ae76797900c.jpg: 448x640 6 leaf_healthys, 9.1ms\n",
      "image 459/1557 /workspace/Plant-Pathology-Anotation-7/train/images/healthy_train_95_jpg.rf.e222ef98a69bc373224822bc8e6a07e6.jpg: 448x640 6 leaf_healthys, 8.5ms\n",
      "image 460/1557 /workspace/Plant-Pathology-Anotation-7/train/images/healthy_train_96_jpg.rf.f126e3d3c386518536bccb4a22942536.jpg: 448x640 6 leaf_healthys, 8.5ms\n",
      "image 461/1557 /workspace/Plant-Pathology-Anotation-7/train/images/healthy_train_97_jpg.rf.1d9f3d6eeb65328eacdc6a9027ef61d5.jpg: 448x640 4 leaf_healthys, 8.9ms\n",
      "image 462/1557 /workspace/Plant-Pathology-Anotation-7/train/images/healthy_train_98_jpg.rf.570165148e23d0928aa838d14246a3a4.jpg: 448x640 7 leaf_healthys, 9.0ms\n",
      "image 463/1557 /workspace/Plant-Pathology-Anotation-7/train/images/healthy_train_99_jpg.rf.d22a45de44a73483cd6731b93b277d7f.jpg: 448x640 3 leaf_healthys, 8.5ms\n",
      "image 464/1557 /workspace/Plant-Pathology-Anotation-7/train/images/healthy_train_9_jpg.rf.f081adbb48701ccf73f83c6a9a1c7da6.jpg: 448x640 2 leaf_healthys, 8.7ms\n",
      "image 465/1557 /workspace/Plant-Pathology-Anotation-7/train/images/rust_train_100_jpg.rf.48dc8faec071915166a709baf6f9ca19.jpg: 448x640 1 leaf_rust, 8.6ms\n",
      "image 466/1557 /workspace/Plant-Pathology-Anotation-7/train/images/rust_train_101_jpg.rf.5dde35ebcbed08cbe0180e375432cede.jpg: 448x640 1 leaf_rust, 8.8ms\n",
      "image 467/1557 /workspace/Plant-Pathology-Anotation-7/train/images/rust_train_102_jpg.rf.d52404b01be53582f83bc0a2caaf0edc.jpg: 448x640 1 leaf_rust, 8.7ms\n",
      "image 468/1557 /workspace/Plant-Pathology-Anotation-7/train/images/rust_train_103_jpg.rf.e901abfaead112db826cb88c897ae395.jpg: 448x640 3 leaf_rusts, 8.6ms\n",
      "image 469/1557 /workspace/Plant-Pathology-Anotation-7/train/images/rust_train_104_jpg.rf.85225d6fb23573157aecc9a1640ea8f9.jpg: 448x640 2 leaf_rusts, 8.6ms\n",
      "image 470/1557 /workspace/Plant-Pathology-Anotation-7/train/images/rust_train_105_jpg.rf.c19395f51278f11eb7c4f6bc2be209ec.jpg: 448x640 1 leaf_rust, 9.3ms\n",
      "image 471/1557 /workspace/Plant-Pathology-Anotation-7/train/images/rust_train_106_jpg.rf.713d7720b50c591aa469d1ccdb4d2d3b.jpg: 448x640 1 leaf_rust, 8.7ms\n",
      "image 472/1557 /workspace/Plant-Pathology-Anotation-7/train/images/rust_train_108_jpg.rf.2e8033d95ab40e3ea9dc11bc0557ee61.jpg: 448x640 1 leaf_rust, 8.5ms\n",
      "image 473/1557 /workspace/Plant-Pathology-Anotation-7/train/images/rust_train_10_jpg.rf.20c4989e6ec5c4c425bb1138fbb77014.jpg: 448x640 1 leaf_rust, 8.5ms\n",
      "image 474/1557 /workspace/Plant-Pathology-Anotation-7/train/images/rust_train_110_jpg.rf.554c9cf34710478dd7dfca4d874100c0.jpg: 448x640 3 leaf_rusts, 8.5ms\n",
      "image 475/1557 /workspace/Plant-Pathology-Anotation-7/train/images/rust_train_111_jpg.rf.61c8e0249eb30fe8577d2a73ad4666e3.jpg: 448x640 1 leaf_rust, 8.6ms\n",
      "image 476/1557 /workspace/Plant-Pathology-Anotation-7/train/images/rust_train_112_jpg.rf.172673d667b7c04862293a8a7901e91d.jpg: 448x640 1 leaf_rust, 8.8ms\n",
      "image 477/1557 /workspace/Plant-Pathology-Anotation-7/train/images/rust_train_113_jpg.rf.4c09571b94b46cf44e8eab501f06d660.jpg: 448x640 1 leaf_rust, 8.6ms\n",
      "image 478/1557 /workspace/Plant-Pathology-Anotation-7/train/images/rust_train_114_jpg.rf.5f0ed71f2edcf78cd8bcd8bb8d9e0d9b.jpg: 448x640 1 leaf_rust, 9.4ms\n",
      "image 479/1557 /workspace/Plant-Pathology-Anotation-7/train/images/rust_train_115_jpg.rf.43bdb1a8d0e5b8255f5750ba1658e594.jpg: 448x640 2 leaf_rusts, 8.7ms\n",
      "image 480/1557 /workspace/Plant-Pathology-Anotation-7/train/images/rust_train_116_jpg.rf.a5c55ea214751a157e2f72ea791356e3.jpg: 448x640 1 leaf_rust, 8.6ms\n",
      "image 481/1557 /workspace/Plant-Pathology-Anotation-7/train/images/rust_train_117_jpg.rf.00f6b359b07ffceb3bb473a0c4eacd97.jpg: 448x640 1 leaf_rust, 8.8ms\n",
      "image 482/1557 /workspace/Plant-Pathology-Anotation-7/train/images/rust_train_118_jpg.rf.d2f67c1f998f44137cc607612624fe5c.jpg: 448x640 1 leaf_rust, 8.4ms\n",
      "image 483/1557 /workspace/Plant-Pathology-Anotation-7/train/images/rust_train_119_jpg.rf.45e9b9d610c3b6047480b209f0f75b22.jpg: 448x640 1 leaf_rust, 8.3ms\n",
      "image 484/1557 /workspace/Plant-Pathology-Anotation-7/train/images/rust_train_11_jpg.rf.746e16649776f1c719dd9a6f9c0532af.jpg: 448x640 2 leaf_rusts, 9.4ms\n",
      "image 485/1557 /workspace/Plant-Pathology-Anotation-7/train/images/rust_train_120_jpg.rf.20c8d17f1acbf06a28b535e87e68ce1e.jpg: 448x640 1 leaf_rust, 8.8ms\n",
      "image 486/1557 /workspace/Plant-Pathology-Anotation-7/train/images/rust_train_121_jpg.rf.60fc8d0c83a65a1eb82fe1970433ac16.jpg: 448x640 1 leaf_rust, 8.3ms\n",
      "image 487/1557 /workspace/Plant-Pathology-Anotation-7/train/images/rust_train_122_jpg.rf.8ffa8c063284b27710595e0acbbf439b.jpg: 448x640 1 leaf_rust, 8.5ms\n",
      "image 488/1557 /workspace/Plant-Pathology-Anotation-7/train/images/rust_train_123_jpg.rf.1e6f6cbb2b7fbc6129e4e7ed2ec3c5bd.jpg: 448x640 1 leaf_rust, 8.9ms\n",
      "image 489/1557 /workspace/Plant-Pathology-Anotation-7/train/images/rust_train_124_jpg.rf.9fbc41d18a529440d1a10ed1f3cb7262.jpg: 448x640 1 leaf_rust, 8.6ms\n",
      "image 490/1557 /workspace/Plant-Pathology-Anotation-7/train/images/rust_train_126_jpg.rf.55fa987aa56a37c19231e582c95dca52.jpg: 448x640 1 leaf_rust, 8.5ms\n",
      "image 491/1557 /workspace/Plant-Pathology-Anotation-7/train/images/rust_train_127_jpg.rf.256ccf95a8455e825f2ce8af6b8c6c6e.jpg: 448x640 1 leaf_rust, 9.9ms\n",
      "image 492/1557 /workspace/Plant-Pathology-Anotation-7/train/images/rust_train_129_jpg.rf.420af3c55a68a325bbb319625a9f345b.jpg: 448x640 1 leaf_rust, 8.3ms\n",
      "image 493/1557 /workspace/Plant-Pathology-Anotation-7/train/images/rust_train_12_jpg.rf.6e3595a19619ca4787b876c17b5192bd.jpg: 448x640 1 leaf_rust, 8.5ms\n",
      "image 494/1557 /workspace/Plant-Pathology-Anotation-7/train/images/rust_train_130_jpg.rf.795e3c10ff82df8b880bcb0b9900427c.jpg: 448x640 1 leaf_rust, 8.3ms\n",
      "image 495/1557 /workspace/Plant-Pathology-Anotation-7/train/images/rust_train_131_jpg.rf.da4170867eadd007447af2488871464c.jpg: 448x640 3 leaf_rusts, 8.7ms\n",
      "image 496/1557 /workspace/Plant-Pathology-Anotation-7/train/images/rust_train_132_jpg.rf.cf68bf2ff362eea7e456bf1e2122ea77.jpg: 448x640 1 leaf_rust, 1 leaf_scab, 8.5ms\n",
      "image 497/1557 /workspace/Plant-Pathology-Anotation-7/train/images/rust_train_133_jpg.rf.6dd27908880cfb418467aa4d282e512a.jpg: 448x640 1 leaf_rust, 9.1ms\n",
      "image 498/1557 /workspace/Plant-Pathology-Anotation-7/train/images/rust_train_134_jpg.rf.41246a609a68fe31fb86809a62ccc04b.jpg: 448x640 1 leaf_rust, 8.6ms\n",
      "image 499/1557 /workspace/Plant-Pathology-Anotation-7/train/images/rust_train_135_jpg.rf.e2b48cd2e00f2b257e0a7b815f588dae.jpg: 448x640 2 leaf_rusts, 8.3ms\n",
      "image 500/1557 /workspace/Plant-Pathology-Anotation-7/train/images/rust_train_136_jpg.rf.ec077ab6d05896c49d33d1ec2d58f4f0.jpg: 448x640 2 leaf_rusts, 8.7ms\n",
      "image 501/1557 /workspace/Plant-Pathology-Anotation-7/train/images/rust_train_137_jpg.rf.9b42cd55f793ba27abcf9c8a90c33f82.jpg: 448x640 2 leaf_rusts, 8.4ms\n",
      "image 502/1557 /workspace/Plant-Pathology-Anotation-7/train/images/rust_train_138_jpg.rf.fa8f00f00179b7abcbdbc0a5ff2db045.jpg: 448x640 2 leaf_rusts, 9.2ms\n",
      "image 503/1557 /workspace/Plant-Pathology-Anotation-7/train/images/rust_train_139_jpg.rf.4c041050f9076670fd4cf8dd171f7db2.jpg: 448x640 1 leaf_rust, 8.5ms\n",
      "image 504/1557 /workspace/Plant-Pathology-Anotation-7/train/images/rust_train_13_jpg.rf.9541063783f9b37b6a3262c532bf9057.jpg: 448x640 1 leaf_rust, 8.6ms\n",
      "image 505/1557 /workspace/Plant-Pathology-Anotation-7/train/images/rust_train_140_jpg.rf.55d5f5411c9b3833771c4a579fc45656.jpg: 448x640 1 leaf_rust, 9.3ms\n",
      "image 506/1557 /workspace/Plant-Pathology-Anotation-7/train/images/rust_train_141_jpg.rf.2d027fe8af819f26be37a1093ba8f524.jpg: 448x640 1 leaf_rust, 8.7ms\n",
      "image 507/1557 /workspace/Plant-Pathology-Anotation-7/train/images/rust_train_142_jpg.rf.0e781fc7a31f22bf3f0523a9ba59d901.jpg: 448x640 1 leaf_rust, 8.6ms\n",
      "image 508/1557 /workspace/Plant-Pathology-Anotation-7/train/images/rust_train_143_jpg.rf.f6eb1ad1e2eebfc9facb66e56a920ba2.jpg: 448x640 2 leaf_rusts, 8.5ms\n",
      "image 509/1557 /workspace/Plant-Pathology-Anotation-7/train/images/rust_train_144_jpg.rf.4e00bbc6025ad6229932dfbc84fc2aae.jpg: 448x640 1 leaf_rust, 8.4ms\n",
      "image 510/1557 /workspace/Plant-Pathology-Anotation-7/train/images/rust_train_145_jpg.rf.cf1cf8343202ee554e9d020094b5f7af.jpg: 448x640 1 leaf_rust, 8.6ms\n",
      "image 511/1557 /workspace/Plant-Pathology-Anotation-7/train/images/rust_train_146_jpg.rf.7a2cf95c0e878eb7680755ff0624d0c9.jpg: 448x640 2 leaf_rusts, 8.8ms\n",
      "image 512/1557 /workspace/Plant-Pathology-Anotation-7/train/images/rust_train_147_jpg.rf.baa5cd52dc8787f3f4ecebb84b664dc1.jpg: 448x640 1 leaf_rust, 8.5ms\n",
      "image 513/1557 /workspace/Plant-Pathology-Anotation-7/train/images/rust_train_149_jpg.rf.79dff9d333d5f46c39a8f500d7364981.jpg: 448x640 1 leaf_rust, 9.7ms\n",
      "image 514/1557 /workspace/Plant-Pathology-Anotation-7/train/images/rust_train_14_jpg.rf.188ad57e7153acb7d5cbdf770e55c683.jpg: 448x640 1 leaf_rust, 8.4ms\n",
      "image 515/1557 /workspace/Plant-Pathology-Anotation-7/train/images/rust_train_150_jpg.rf.9e2a902f47c0625a1b9b14cf0050d45f.jpg: 448x640 2 leaf_rusts, 9.1ms\n",
      "image 516/1557 /workspace/Plant-Pathology-Anotation-7/train/images/rust_train_151_jpg.rf.4594f00bbb11fe8887643849cf71dfbc.jpg: 448x640 4 leaf_rusts, 8.6ms\n",
      "image 517/1557 /workspace/Plant-Pathology-Anotation-7/train/images/rust_train_152_jpg.rf.bc4b7a13a065cf0be2ff1dc3fcee4269.jpg: 448x640 2 leaf_rusts, 8.8ms\n",
      "image 518/1557 /workspace/Plant-Pathology-Anotation-7/train/images/rust_train_153_jpg.rf.b42655c7ac8328d7fc3efe58de51fa86.jpg: 448x640 1 leaf_rust, 8.5ms\n",
      "image 519/1557 /workspace/Plant-Pathology-Anotation-7/train/images/rust_train_154_jpg.rf.d5ebae55da28d2a964398c779441a361.jpg: 448x640 1 leaf_rust, 9.1ms\n",
      "image 520/1557 /workspace/Plant-Pathology-Anotation-7/train/images/rust_train_155_jpg.rf.4e7661e94bb7294b9b6764ba0c0ec9e3.jpg: 448x640 1 leaf_healthy, 2 leaf_rusts, 8.5ms\n",
      "image 521/1557 /workspace/Plant-Pathology-Anotation-7/train/images/rust_train_156_jpg.rf.040331941f77c68347f5845cb4c91775.jpg: 448x640 1 leaf_rust, 8.6ms\n",
      "image 522/1557 /workspace/Plant-Pathology-Anotation-7/train/images/rust_train_158_jpg.rf.577281b0614684c056346821a9fe2e88.jpg: 448x640 2 leaf_rusts, 9.5ms\n",
      "image 523/1557 /workspace/Plant-Pathology-Anotation-7/train/images/rust_train_159_jpg.rf.93063c69b866540a0e77276065046bcc.jpg: 448x640 1 leaf_rust, 8.6ms\n",
      "image 524/1557 /workspace/Plant-Pathology-Anotation-7/train/images/rust_train_15_jpg.rf.92cfb19b47c16acfdda8e9e256140675.jpg: 448x640 1 leaf_rust, 8.8ms\n",
      "image 525/1557 /workspace/Plant-Pathology-Anotation-7/train/images/rust_train_160_jpg.rf.f58b34cc392ac748707c5dcbb12ca961.jpg: 448x640 1 leaf_rust, 8.7ms\n",
      "image 526/1557 /workspace/Plant-Pathology-Anotation-7/train/images/rust_train_161_jpg.rf.9d37dfeb3875c318007e0bb5791fd9c6.jpg: 448x640 1 leaf_rust, 8.5ms\n",
      "image 527/1557 /workspace/Plant-Pathology-Anotation-7/train/images/rust_train_162_jpg.rf.3cb78cd84813bf2976514d950a878e1f.jpg: 448x640 1 leaf_rust, 8.5ms\n",
      "image 528/1557 /workspace/Plant-Pathology-Anotation-7/train/images/rust_train_163_jpg.rf.6b11b163c868e59a7a386dc39d0048f6.jpg: 448x640 1 leaf_rust, 8.5ms\n",
      "image 529/1557 /workspace/Plant-Pathology-Anotation-7/train/images/rust_train_164_jpg.rf.cd7edc265afc383a75e90aa628dd5854.jpg: 448x640 1 leaf_rust, 8.5ms\n",
      "image 530/1557 /workspace/Plant-Pathology-Anotation-7/train/images/rust_train_165_jpg.rf.aa6c3bdaa4d9eac9cbb129785104e21a.jpg: 448x640 1 leaf_rust, 8.9ms\n",
      "image 531/1557 /workspace/Plant-Pathology-Anotation-7/train/images/rust_train_166_jpg.rf.cd1319800573e8e69187c38fe1fdf6bc.jpg: 448x640 2 leaf_rusts, 8.5ms\n",
      "image 532/1557 /workspace/Plant-Pathology-Anotation-7/train/images/rust_train_168_jpg.rf.38ed29d80407b4ee142f2cf00ec868e9.jpg: 448x640 2 leaf_rusts, 8.5ms\n",
      "image 533/1557 /workspace/Plant-Pathology-Anotation-7/train/images/rust_train_169_jpg.rf.79c3f63bc450f1ab4aecc41a73ff5e25.jpg: 448x640 1 leaf_rust, 8.9ms\n",
      "image 534/1557 /workspace/Plant-Pathology-Anotation-7/train/images/rust_train_16_jpg.rf.e2ed49e6ddd2e12eee957bbe240b26bf.jpg: 448x640 2 leaf_rusts, 8.7ms\n",
      "image 535/1557 /workspace/Plant-Pathology-Anotation-7/train/images/rust_train_170_jpg.rf.68a05c7a7d33ed74c98410dbe889f705.jpg: 448x640 1 leaf_rust, 8.4ms\n",
      "image 536/1557 /workspace/Plant-Pathology-Anotation-7/train/images/rust_train_171_jpg.rf.28f461a1ce88e2d982364e10d7a383e2.jpg: 448x640 1 leaf_rust, 8.9ms\n",
      "image 537/1557 /workspace/Plant-Pathology-Anotation-7/train/images/rust_train_172_jpg.rf.b7d92f02b6a09e1406f065c4407171ae.jpg: 448x640 1 leaf_rust, 8.5ms\n",
      "image 538/1557 /workspace/Plant-Pathology-Anotation-7/train/images/rust_train_173_jpg.rf.d4bf9d4460132d1bd7b31b367e36c3d5.jpg: 448x640 1 leaf_rust, 8.6ms\n",
      "image 539/1557 /workspace/Plant-Pathology-Anotation-7/train/images/rust_train_174_jpg.rf.b2df67d8c564aaf1d577756b1a43f206.jpg: 448x640 1 leaf_rust, 8.6ms\n",
      "image 540/1557 /workspace/Plant-Pathology-Anotation-7/train/images/rust_train_175_jpg.rf.5fa9b0649c41c4a70c9336dc19d02771.jpg: 448x640 1 leaf_rust, 8.5ms\n",
      "image 541/1557 /workspace/Plant-Pathology-Anotation-7/train/images/rust_train_176_jpg.rf.f28f95372908dcb19045274f53915b41.jpg: 448x640 2 leaf_rusts, 8.3ms\n",
      "image 542/1557 /workspace/Plant-Pathology-Anotation-7/train/images/rust_train_177_jpg.rf.db33099d5be2dfefb9a9e9794d293995.jpg: 448x640 1 leaf_rust, 9.1ms\n",
      "image 543/1557 /workspace/Plant-Pathology-Anotation-7/train/images/rust_train_179_jpg.rf.b4688271a5e6985d69fb5aa6a0658175.jpg: 448x640 1 leaf_rust, 8.7ms\n",
      "image 544/1557 /workspace/Plant-Pathology-Anotation-7/train/images/rust_train_17_jpg.rf.d1cc03a5858680725a8617d1bb740f5e.jpg: 448x640 1 leaf_rust, 8.7ms\n",
      "image 545/1557 /workspace/Plant-Pathology-Anotation-7/train/images/rust_train_180_jpg.rf.ac748f091f33ee3e484ee1914c080af4.jpg: 448x640 2 leaf_rusts, 8.6ms\n",
      "image 546/1557 /workspace/Plant-Pathology-Anotation-7/train/images/rust_train_181_jpg.rf.1dffee819c3aa5b0b1ed2860955b00aa.jpg: 448x640 1 leaf_rust, 10.5ms\n",
      "image 547/1557 /workspace/Plant-Pathology-Anotation-7/train/images/rust_train_182_jpg.rf.888dea1a996cbceacc1bd376038e5748.jpg: 448x640 1 leaf_rust, 8.9ms\n",
      "image 548/1557 /workspace/Plant-Pathology-Anotation-7/train/images/rust_train_183_jpg.rf.aa939e883e7fa047defab185223a1330.jpg: 448x640 1 leaf_rust, 8.5ms\n",
      "image 549/1557 /workspace/Plant-Pathology-Anotation-7/train/images/rust_train_186_jpg.rf.79eb1cdf302380faf9cd9b08743bd1fa.jpg: 448x640 1 leaf_rust, 8.5ms\n",
      "image 550/1557 /workspace/Plant-Pathology-Anotation-7/train/images/rust_train_187_jpg.rf.590d5b1bc6bb1eb6c377cbeea0cf6d08.jpg: 448x640 1 leaf_rust, 8.5ms\n",
      "image 551/1557 /workspace/Plant-Pathology-Anotation-7/train/images/rust_train_188_jpg.rf.c8362596541254b502a38d35a8b2a25f.jpg: 448x640 1 leaf_rust, 8.6ms\n",
      "image 552/1557 /workspace/Plant-Pathology-Anotation-7/train/images/rust_train_189_jpg.rf.7735fbd326f05c46c16f151b787b2669.jpg: 448x640 1 leaf_rust, 9.1ms\n",
      "image 553/1557 /workspace/Plant-Pathology-Anotation-7/train/images/rust_train_18_jpg.rf.5327410bc828af81d0fff9712c4cc8d2.jpg: 448x640 1 leaf_rust, 8.3ms\n",
      "image 554/1557 /workspace/Plant-Pathology-Anotation-7/train/images/rust_train_190_jpg.rf.a5c69345f8916b86e4ebdab4692a866f.jpg: 448x640 2 leaf_rusts, 9.1ms\n",
      "image 555/1557 /workspace/Plant-Pathology-Anotation-7/train/images/rust_train_191_jpg.rf.f266dd8ea8cc4f5bee7313f234a0d63c.jpg: 448x640 2 leaf_rusts, 8.8ms\n",
      "image 556/1557 /workspace/Plant-Pathology-Anotation-7/train/images/rust_train_192_jpg.rf.aaad9c6d05870c48f535182110327492.jpg: 448x640 4 leaf_rusts, 8.9ms\n",
      "image 557/1557 /workspace/Plant-Pathology-Anotation-7/train/images/rust_train_193_jpg.rf.f836bfb69b7bf8dc6e987ad89a7a3c6b.jpg: 448x640 1 leaf_rust, 8.5ms\n",
      "image 558/1557 /workspace/Plant-Pathology-Anotation-7/train/images/rust_train_194_jpg.rf.31632b3751509426d1dfe65f6029c242.jpg: 448x640 1 leaf_rust, 9.2ms\n",
      "image 559/1557 /workspace/Plant-Pathology-Anotation-7/train/images/rust_train_195_jpg.rf.74cf37a95e322766fd7cf743d313e14f.jpg: 448x640 1 leaf_rust, 8.7ms\n",
      "image 560/1557 /workspace/Plant-Pathology-Anotation-7/train/images/rust_train_196_jpg.rf.da49f114c0bcb4394857e76b8e9275f9.jpg: 448x640 1 leaf_rust, 8.7ms\n",
      "image 561/1557 /workspace/Plant-Pathology-Anotation-7/train/images/rust_train_197_jpg.rf.1cf80a24aed1d42725f272e74977c637.jpg: 448x640 1 leaf_rust, 8.7ms\n",
      "image 562/1557 /workspace/Plant-Pathology-Anotation-7/train/images/rust_train_198_jpg.rf.91dd15bbbb6e1c1af63494b0742c450d.jpg: 448x640 1 leaf_rust, 8.9ms\n",
      "image 563/1557 /workspace/Plant-Pathology-Anotation-7/train/images/rust_train_199_jpg.rf.4bf1c906b202e37a85daaab4d980ffce.jpg: 448x640 1 leaf_rust, 8.8ms\n",
      "image 564/1557 /workspace/Plant-Pathology-Anotation-7/train/images/rust_train_19_jpg.rf.7fcba1190beab98f56e8fd1a8a8e22e0.jpg: 448x640 1 leaf_rust, 8.6ms\n",
      "image 565/1557 /workspace/Plant-Pathology-Anotation-7/train/images/rust_train_200_jpg.rf.556b6d1a64389feddf026cf8949dea75.jpg: 448x640 1 leaf_rust, 8.6ms\n",
      "image 566/1557 /workspace/Plant-Pathology-Anotation-7/train/images/rust_train_201_jpg.rf.e5b86e9458ef5810738711c4c66d9e47.jpg: 448x640 1 leaf_rust, 8.7ms\n",
      "image 567/1557 /workspace/Plant-Pathology-Anotation-7/train/images/rust_train_202_jpg.rf.e775accd777f43bdf9ca34e9f6243662.jpg: 448x640 1 leaf_rust, 8.3ms\n",
      "image 568/1557 /workspace/Plant-Pathology-Anotation-7/train/images/rust_train_203_jpg.rf.23a35bc21b758aeea801e9ba4db35e32.jpg: 448x640 1 leaf_rust, 8.7ms\n",
      "image 569/1557 /workspace/Plant-Pathology-Anotation-7/train/images/rust_train_204_jpg.rf.02c495c9c76bf5e2635ad69d027d06e1.jpg: 448x640 3 leaf_rusts, 8.7ms\n",
      "image 570/1557 /workspace/Plant-Pathology-Anotation-7/train/images/rust_train_205_jpg.rf.74a5f121d62e14ad16c10ce413253f7b.jpg: 448x640 1 leaf_rust, 8.5ms\n",
      "image 571/1557 /workspace/Plant-Pathology-Anotation-7/train/images/rust_train_206_jpg.rf.deac836abe47f44a683c2e58d1e95a5e.jpg: 448x640 1 leaf_rust, 9.3ms\n",
      "image 572/1557 /workspace/Plant-Pathology-Anotation-7/train/images/rust_train_207_jpg.rf.81b373186d8b25319abd0dbeb2a510db.jpg: 448x640 1 leaf_rust, 8.8ms\n",
      "image 573/1557 /workspace/Plant-Pathology-Anotation-7/train/images/rust_train_209_jpg.rf.8f2b9fd630b60584af7f60bdffdf1b51.jpg: 448x640 1 leaf_rust, 8.8ms\n",
      "image 574/1557 /workspace/Plant-Pathology-Anotation-7/train/images/rust_train_20_jpg.rf.ba794f1abc37a4ee142d971a03228868.jpg: 448x640 1 leaf_rust, 8.6ms\n",
      "image 575/1557 /workspace/Plant-Pathology-Anotation-7/train/images/rust_train_210_jpg.rf.14a7cc2463a9fd47f2c67131b40a8d72.jpg: 448x640 1 leaf_rust, 8.7ms\n",
      "image 576/1557 /workspace/Plant-Pathology-Anotation-7/train/images/rust_train_211_jpg.rf.8f647158c52b57c3969b2970791a267c.jpg: 448x640 1 leaf_rust, 8.5ms\n",
      "image 577/1557 /workspace/Plant-Pathology-Anotation-7/train/images/rust_train_212_jpg.rf.3a99aa122df1af37ca4f352565f101c9.jpg: 448x640 1 leaf_rust, 8.4ms\n",
      "image 578/1557 /workspace/Plant-Pathology-Anotation-7/train/images/rust_train_213_jpg.rf.ce823d9bb0822bab3082db39d0aa7115.jpg: 448x640 1 leaf_rust, 8.7ms\n",
      "image 579/1557 /workspace/Plant-Pathology-Anotation-7/train/images/rust_train_214_jpg.rf.9af6035c171d93c1ac78bf7ff08e90fb.jpg: 448x640 3 leaf_rusts, 8.7ms\n",
      "image 580/1557 /workspace/Plant-Pathology-Anotation-7/train/images/rust_train_215_jpg.rf.d1e886f158f2c4bfa0c9fdcc30f115ea.jpg: 448x640 1 leaf_rust, 8.5ms\n",
      "image 581/1557 /workspace/Plant-Pathology-Anotation-7/train/images/rust_train_216_jpg.rf.e31102e00448405c07b46749ed40da97.jpg: 448x640 2 leaf_rusts, 8.7ms\n",
      "image 582/1557 /workspace/Plant-Pathology-Anotation-7/train/images/rust_train_217_jpg.rf.a9e85a522c88da77818de4c33adddd97.jpg: 448x640 1 leaf_rust, 9.0ms\n",
      "image 583/1557 /workspace/Plant-Pathology-Anotation-7/train/images/rust_train_218_jpg.rf.dcd48d2ceeed1e026701a8976d9a5d7c.jpg: 448x640 2 leaf_rusts, 8.8ms\n",
      "image 584/1557 /workspace/Plant-Pathology-Anotation-7/train/images/rust_train_219_jpg.rf.179d9f1e5b02d368853933e18bb2698c.jpg: 448x640 1 leaf_rust, 8.5ms\n",
      "image 585/1557 /workspace/Plant-Pathology-Anotation-7/train/images/rust_train_21_jpg.rf.543472a3a0273cf658ac6730318cf993.jpg: 448x640 1 leaf_rust, 8.8ms\n",
      "image 586/1557 /workspace/Plant-Pathology-Anotation-7/train/images/rust_train_220_jpg.rf.fac3a92d6011c98ddb6a42caed6d9998.jpg: 448x640 1 leaf_rust, 8.5ms\n",
      "image 587/1557 /workspace/Plant-Pathology-Anotation-7/train/images/rust_train_221_jpg.rf.1297c294d9e8740c26ff269ae54d5b87.jpg: 448x640 2 leaf_rusts, 8.6ms\n",
      "image 588/1557 /workspace/Plant-Pathology-Anotation-7/train/images/rust_train_222_jpg.rf.dea6fa4b8ce7f85962863c1176ee4340.jpg: 448x640 3 leaf_rusts, 8.6ms\n",
      "image 589/1557 /workspace/Plant-Pathology-Anotation-7/train/images/rust_train_223_jpg.rf.f39c2e7222ff6431ba787d5aa642cead.jpg: 448x640 1 leaf_rust, 9.1ms\n",
      "image 590/1557 /workspace/Plant-Pathology-Anotation-7/train/images/rust_train_224_jpg.rf.4b4faf45a639dbf3eaeec12e66ab1061.jpg: 448x640 1 leaf_rust, 8.6ms\n",
      "image 591/1557 /workspace/Plant-Pathology-Anotation-7/train/images/rust_train_226_jpg.rf.3838c30d37c0b3759f2a3e5d03358e38.jpg: 448x640 1 leaf_rust, 8.7ms\n",
      "image 592/1557 /workspace/Plant-Pathology-Anotation-7/train/images/rust_train_227_jpg.rf.0ca273c7b24405a5a9f7b68dbe084513.jpg: 448x640 1 leaf_rust, 9.0ms\n",
      "image 593/1557 /workspace/Plant-Pathology-Anotation-7/train/images/rust_train_228_jpg.rf.8a7309b159dae3f0a911b4738b96c55d.jpg: 448x640 1 leaf_rust, 8.3ms\n",
      "image 594/1557 /workspace/Plant-Pathology-Anotation-7/train/images/rust_train_229_jpg.rf.4295d6c2a4fa611f9a4bf0e9afb8aa06.jpg: 448x640 1 leaf_rust, 8.7ms\n",
      "image 595/1557 /workspace/Plant-Pathology-Anotation-7/train/images/rust_train_22_jpg.rf.4d2e5d7512abbed1848ef79e44d9ecc5.jpg: 448x640 1 leaf_rust, 8.6ms\n",
      "image 596/1557 /workspace/Plant-Pathology-Anotation-7/train/images/rust_train_230_jpg.rf.a0a0cbcfff136fd3d8e1e7bd0b1907f5.jpg: 448x640 2 leaf_rusts, 8.5ms\n",
      "image 597/1557 /workspace/Plant-Pathology-Anotation-7/train/images/rust_train_231_jpg.rf.0e4654380fc94231438971d2b6aa3411.jpg: 448x640 1 leaf_rust, 8.5ms\n",
      "image 598/1557 /workspace/Plant-Pathology-Anotation-7/train/images/rust_train_232_jpg.rf.402d9b0ebbd9b13ac515e0d86752ae47.jpg: 448x640 1 leaf_rust, 8.8ms\n",
      "image 599/1557 /workspace/Plant-Pathology-Anotation-7/train/images/rust_train_233_jpg.rf.43422ae21ee2457e6ac477288982a261.jpg: 448x640 1 leaf_rust, 8.5ms\n",
      "image 600/1557 /workspace/Plant-Pathology-Anotation-7/train/images/rust_train_234_jpg.rf.1580fed745c09b72c5684f755c97dad0.jpg: 448x640 2 leaf_rusts, 8.7ms\n",
      "image 601/1557 /workspace/Plant-Pathology-Anotation-7/train/images/rust_train_235_jpg.rf.52635ec1b98409ec05fc9dbf28c44087.jpg: 448x640 1 leaf_rust, 8.5ms\n",
      "image 602/1557 /workspace/Plant-Pathology-Anotation-7/train/images/rust_train_237_jpg.rf.f1115d988987be5ddc04a85a962161b7.jpg: 448x640 1 leaf_rust, 9.1ms\n",
      "image 603/1557 /workspace/Plant-Pathology-Anotation-7/train/images/rust_train_238_jpg.rf.338ac8c872e0b53be688b5d458150632.jpg: 448x640 1 leaf_rust, 8.7ms\n",
      "image 604/1557 /workspace/Plant-Pathology-Anotation-7/train/images/rust_train_239_jpg.rf.bc5e0aa0de252ca3f4fb3d31b68f7bad.jpg: 448x640 1 leaf_rust, 8.5ms\n",
      "image 605/1557 /workspace/Plant-Pathology-Anotation-7/train/images/rust_train_23_jpg.rf.a4fb71f4b37825765276cecc298702aa.jpg: 448x640 1 leaf_rust, 8.8ms\n",
      "image 606/1557 /workspace/Plant-Pathology-Anotation-7/train/images/rust_train_242_jpg.rf.9ffd928fba5aad440f17b22853a16960.jpg: 448x640 1 leaf_rust, 8.7ms\n",
      "image 607/1557 /workspace/Plant-Pathology-Anotation-7/train/images/rust_train_243_jpg.rf.e1a3e63128dcb2b330839ac27e39c446.jpg: 448x640 1 leaf_rust, 8.3ms\n",
      "image 608/1557 /workspace/Plant-Pathology-Anotation-7/train/images/rust_train_244_jpg.rf.a242e23ab4ccd70171c9beb57b1d5d21.jpg: 448x640 1 leaf_rust, 8.7ms\n",
      "image 609/1557 /workspace/Plant-Pathology-Anotation-7/train/images/rust_train_245_jpg.rf.2cc1ed1eba7fa7a389402486a30634a0.jpg: 448x640 1 leaf_rust, 8.5ms\n",
      "image 610/1557 /workspace/Plant-Pathology-Anotation-7/train/images/rust_train_246_jpg.rf.6bb476a382948302ee5eb665a320e67e.jpg: 448x640 1 leaf_rust, 8.6ms\n",
      "image 611/1557 /workspace/Plant-Pathology-Anotation-7/train/images/rust_train_247_jpg.rf.3f8f41c0ca20cdc2affdf06a1f6269f7.jpg: 448x640 1 leaf_rust, 8.7ms\n",
      "image 612/1557 /workspace/Plant-Pathology-Anotation-7/train/images/rust_train_249_jpg.rf.8e61963eb0e26684a5863d9250bbe4b6.jpg: 448x640 1 leaf_rust, 9.1ms\n",
      "image 613/1557 /workspace/Plant-Pathology-Anotation-7/train/images/rust_train_24_jpg.rf.9c49a0916c72e873f46edd99975252fd.jpg: 448x640 2 leaf_rusts, 8.5ms\n",
      "image 614/1557 /workspace/Plant-Pathology-Anotation-7/train/images/rust_train_252_jpg.rf.078cfe89c5436e51675a8bcce1711b67.jpg: 448x640 1 leaf_rust, 8.6ms\n",
      "image 615/1557 /workspace/Plant-Pathology-Anotation-7/train/images/rust_train_253_jpg.rf.44dadaeaccec196dadfbfefcdfaad742.jpg: 448x640 1 leaf_rust, 8.9ms\n",
      "image 616/1557 /workspace/Plant-Pathology-Anotation-7/train/images/rust_train_255_jpg.rf.720a897252f809d2f1427408e462494a.jpg: 448x640 2 leaf_rusts, 8.7ms\n",
      "image 617/1557 /workspace/Plant-Pathology-Anotation-7/train/images/rust_train_256_jpg.rf.cb7e447f88ce2b944516a966c41bcbf9.jpg: 448x640 1 leaf_rust, 8.5ms\n",
      "image 618/1557 /workspace/Plant-Pathology-Anotation-7/train/images/rust_train_258_jpg.rf.c0b571f0d63fff77ae79adabb8f2f3e8.jpg: 448x640 1 leaf_rust, 8.8ms\n",
      "image 619/1557 /workspace/Plant-Pathology-Anotation-7/train/images/rust_train_259_jpg.rf.9ba8d383850f9c2754a450e02df9f4ff.jpg: 448x640 1 leaf_rust, 8.5ms\n",
      "image 620/1557 /workspace/Plant-Pathology-Anotation-7/train/images/rust_train_25_jpg.rf.9170c8b90838ab634acfd4936dbe54d3.jpg: 448x640 1 leaf_rust, 8.7ms\n",
      "image 621/1557 /workspace/Plant-Pathology-Anotation-7/train/images/rust_train_260_jpg.rf.6e605a6738564a5add463bbe30653ebd.jpg: 448x640 4 leaf_rusts, 8.6ms\n",
      "image 622/1557 /workspace/Plant-Pathology-Anotation-7/train/images/rust_train_261_jpg.rf.c692d3071f745c20eb35c08f23c4e38a.jpg: 448x640 1 leaf_rust, 9.5ms\n",
      "image 623/1557 /workspace/Plant-Pathology-Anotation-7/train/images/rust_train_262_jpg.rf.1bc01262a98c2c41174e092c55a2dc4a.jpg: 448x640 4 leaf_rusts, 8.7ms\n",
      "image 624/1557 /workspace/Plant-Pathology-Anotation-7/train/images/rust_train_263_jpg.rf.c821f790ddf2a7b64ca768f6d2e75318.jpg: 448x640 2 leaf_rusts, 8.7ms\n",
      "image 625/1557 /workspace/Plant-Pathology-Anotation-7/train/images/rust_train_264_jpg.rf.755a0c7547035e1b0aaed769efe64143.jpg: 448x640 1 leaf_rust, 9.0ms\n",
      "image 626/1557 /workspace/Plant-Pathology-Anotation-7/train/images/rust_train_265_jpg.rf.11f73d3ea1385934a5066be4d110882d.jpg: 448x640 2 leaf_rusts, 8.6ms\n",
      "image 627/1557 /workspace/Plant-Pathology-Anotation-7/train/images/rust_train_266_jpg.rf.9037959b682acc0b3a2b5e0917c35f81.jpg: 448x640 1 leaf_rust, 8.5ms\n",
      "image 628/1557 /workspace/Plant-Pathology-Anotation-7/train/images/rust_train_267_jpg.rf.8e8b63dd0db54a118634ec95a70715ff.jpg: 448x640 1 leaf_rust, 8.9ms\n",
      "image 629/1557 /workspace/Plant-Pathology-Anotation-7/train/images/rust_train_268_jpg.rf.59ec20980284bbaa4fddda86a191dd87.jpg: 448x640 1 leaf_rust, 8.4ms\n",
      "image 630/1557 /workspace/Plant-Pathology-Anotation-7/train/images/rust_train_269_jpg.rf.4820376491251c5dd85d79cf81af14e8.jpg: 448x640 1 leaf_rust, 8.7ms\n",
      "image 631/1557 /workspace/Plant-Pathology-Anotation-7/train/images/rust_train_271_jpg.rf.f34ae1a070371270cf09e81f8bcf9c1e.jpg: 448x640 1 leaf_rust, 9.1ms\n",
      "image 632/1557 /workspace/Plant-Pathology-Anotation-7/train/images/rust_train_272_jpg.rf.b3fb2395f02843c0ccfb4c5b23ff908a.jpg: 448x640 1 leaf_rust, 9.7ms\n",
      "image 633/1557 /workspace/Plant-Pathology-Anotation-7/train/images/rust_train_273_jpg.rf.a369cd56ac060ecaddfc13784a417cd7.jpg: 448x640 1 leaf_rust, 8.6ms\n",
      "image 634/1557 /workspace/Plant-Pathology-Anotation-7/train/images/rust_train_274_jpg.rf.13f71ce34b8648facdb67012e12d649f.jpg: 448x640 1 leaf_rust, 8.6ms\n",
      "image 635/1557 /workspace/Plant-Pathology-Anotation-7/train/images/rust_train_275_jpg.rf.d2a35cc7aa229dbf518d144ed8e003af.jpg: 448x640 1 leaf_rust, 8.4ms\n",
      "image 636/1557 /workspace/Plant-Pathology-Anotation-7/train/images/rust_train_276_jpg.rf.dd2683d6b984d2326e7d9239493f432e.jpg: 448x640 1 leaf_rust, 8.8ms\n",
      "image 637/1557 /workspace/Plant-Pathology-Anotation-7/train/images/rust_train_277_jpg.rf.27e9afdc24956ed9b89f0d1a23e9cdbb.jpg: 448x640 1 leaf_rust, 8.7ms\n",
      "image 638/1557 /workspace/Plant-Pathology-Anotation-7/train/images/rust_train_278_jpg.rf.ab5e9f312a1f47c4dc329a18515fb55f.jpg: 448x640 1 leaf_rust, 8.5ms\n",
      "image 639/1557 /workspace/Plant-Pathology-Anotation-7/train/images/rust_train_279_jpg.rf.9a4d8cf594a8d364d789fc2e0e1a4687.jpg: 448x640 1 leaf_rust, 8.7ms\n",
      "image 640/1557 /workspace/Plant-Pathology-Anotation-7/train/images/rust_train_27_jpg.rf.bb3f7f873a5acd019f336219c67fd738.jpg: 448x640 1 leaf_rust, 8.8ms\n",
      "image 641/1557 /workspace/Plant-Pathology-Anotation-7/train/images/rust_train_280_jpg.rf.09daee4c8e7250c2e4091e5b76b91759.jpg: 448x640 1 leaf_rust, 8.6ms\n",
      "image 642/1557 /workspace/Plant-Pathology-Anotation-7/train/images/rust_train_282_jpg.rf.9a3529551e70e5f77ca0c189bc7861b5.jpg: 448x640 1 leaf_rust, 9.0ms\n",
      "image 643/1557 /workspace/Plant-Pathology-Anotation-7/train/images/rust_train_283_jpg.rf.48d552daeaea3703eb5b438cc312f2ad.jpg: 448x640 2 leaf_rusts, 8.7ms\n",
      "image 644/1557 /workspace/Plant-Pathology-Anotation-7/train/images/rust_train_284_jpg.rf.6af511b49b36e70b3c99770ceecfa1f8.jpg: 448x640 2 leaf_rusts, 8.5ms\n",
      "image 645/1557 /workspace/Plant-Pathology-Anotation-7/train/images/rust_train_285_jpg.rf.5159b5b548ee69712d0b401dcbcf830a.jpg: 448x640 1 leaf_rust, 8.8ms\n",
      "image 646/1557 /workspace/Plant-Pathology-Anotation-7/train/images/rust_train_286_jpg.rf.7c6a4c0e479163345dcd119702d522ce.jpg: 448x640 2 leaf_rusts, 8.7ms\n",
      "image 647/1557 /workspace/Plant-Pathology-Anotation-7/train/images/rust_train_287_jpg.rf.dc5925e6fab3c570d08c223e2510d67d.jpg: 448x640 1 leaf_rust, 8.6ms\n",
      "image 648/1557 /workspace/Plant-Pathology-Anotation-7/train/images/rust_train_288_jpg.rf.9023e543f288348c6e6c3f0544777cb3.jpg: 448x640 2 leaf_rusts, 8.9ms\n",
      "image 649/1557 /workspace/Plant-Pathology-Anotation-7/train/images/rust_train_289_jpg.rf.7da5e200e05e1d0dc3e85fdb7062f654.jpg: 448x640 1 leaf_rust, 8.6ms\n",
      "image 650/1557 /workspace/Plant-Pathology-Anotation-7/train/images/rust_train_28_jpg.rf.7df28f43068b1f88a76537691a3c1d6a.jpg: 448x640 1 leaf_rust, 8.8ms\n",
      "image 651/1557 /workspace/Plant-Pathology-Anotation-7/train/images/rust_train_290_jpg.rf.81b52ceafea403856a5a6c7fa79b4de0.jpg: 448x640 1 leaf_rust, 8.6ms\n",
      "image 652/1557 /workspace/Plant-Pathology-Anotation-7/train/images/rust_train_291_jpg.rf.655c95cba0e3b07f2de5568d454cece4.jpg: 448x640 1 leaf_rust, 8.7ms\n",
      "image 653/1557 /workspace/Plant-Pathology-Anotation-7/train/images/rust_train_292_jpg.rf.ca36752ab2ea100adc495aaa85bcc6be.jpg: 448x640 1 leaf_rust, 8.5ms\n",
      "image 654/1557 /workspace/Plant-Pathology-Anotation-7/train/images/rust_train_293_jpg.rf.2796cac2cd30cdfcc92a44eb6d6f8395.jpg: 448x640 3 leaf_rusts, 8.8ms\n",
      "image 655/1557 /workspace/Plant-Pathology-Anotation-7/train/images/rust_train_294_jpg.rf.79835ae621310eb10e5ff2a887e04d9b.jpg: 448x640 1 leaf_rust, 8.5ms\n",
      "image 656/1557 /workspace/Plant-Pathology-Anotation-7/train/images/rust_train_295_jpg.rf.a035432064b63bbaadf97d258de44e86.jpg: 448x640 1 leaf_rust, 8.7ms\n",
      "image 657/1557 /workspace/Plant-Pathology-Anotation-7/train/images/rust_train_296_jpg.rf.1d1b43e07ba517b023d37c80a7725f1d.jpg: 448x640 1 leaf_rust, 8.7ms\n",
      "image 658/1557 /workspace/Plant-Pathology-Anotation-7/train/images/rust_train_297_jpg.rf.c75332142e4d1c2155fd5928db92a1a2.jpg: 448x640 1 leaf_rust, 8.5ms\n",
      "image 659/1557 /workspace/Plant-Pathology-Anotation-7/train/images/rust_train_298_jpg.rf.846fb0e9d7796f3977cc93bb7a72b0fb.jpg: 448x640 1 leaf_rust, 9.3ms\n",
      "image 660/1557 /workspace/Plant-Pathology-Anotation-7/train/images/rust_train_299_jpg.rf.e85801df374373b08dbc3cb0be202661.jpg: 448x640 1 leaf_rust, 10.2ms\n",
      "image 661/1557 /workspace/Plant-Pathology-Anotation-7/train/images/rust_train_29_jpg.rf.2679ea16b388b5c89f6b1e277cc9ef18.jpg: 448x640 1 leaf_rust, 11.2ms\n",
      "image 662/1557 /workspace/Plant-Pathology-Anotation-7/train/images/rust_train_2_jpg.rf.5fe692633a814bf4ce4117183f5fd68f.jpg: 448x640 1 leaf_rust, 10.4ms\n",
      "image 663/1557 /workspace/Plant-Pathology-Anotation-7/train/images/rust_train_301_jpg.rf.ca17f38c08bff6e0412eca0574704c33.jpg: 448x640 1 leaf_rust, 9.6ms\n",
      "image 664/1557 /workspace/Plant-Pathology-Anotation-7/train/images/rust_train_302_jpg.rf.9ac773084434c726eaf5f3ce07af08e6.jpg: 448x640 1 leaf_rust, 9.5ms\n",
      "image 665/1557 /workspace/Plant-Pathology-Anotation-7/train/images/rust_train_303_jpg.rf.bb9fafebf4b58af8e82e1a522ba7190d.jpg: 448x640 1 leaf_rust, 9.4ms\n",
      "image 666/1557 /workspace/Plant-Pathology-Anotation-7/train/images/rust_train_304_jpg.rf.bc21a0702366a3d2448a1a8e2d7cb664.jpg: 448x640 1 leaf_healthy, 1 leaf_rust, 9.7ms\n",
      "image 667/1557 /workspace/Plant-Pathology-Anotation-7/train/images/rust_train_305_jpg.rf.4367427ec7a23c0356afe4dee9ab029a.jpg: 448x640 2 leaf_rusts, 9.0ms\n",
      "image 668/1557 /workspace/Plant-Pathology-Anotation-7/train/images/rust_train_307_jpg.rf.402843a784be7886300869169ac37a47.jpg: 448x640 1 leaf_rust, 10.4ms\n",
      "image 669/1557 /workspace/Plant-Pathology-Anotation-7/train/images/rust_train_308_jpg.rf.61af7468e9fe08702d05ae7349d9551c.jpg: 448x640 1 leaf_rust, 10.5ms\n",
      "image 670/1557 /workspace/Plant-Pathology-Anotation-7/train/images/rust_train_30_jpg.rf.598572335d63656c3250718e4a937bdb.jpg: 448x640 1 leaf_rust, 9.1ms\n",
      "image 671/1557 /workspace/Plant-Pathology-Anotation-7/train/images/rust_train_310_jpg.rf.84bfc9f48300acdaf30286b6d72585e0.jpg: 448x640 2 leaf_rusts, 9.1ms\n",
      "image 672/1557 /workspace/Plant-Pathology-Anotation-7/train/images/rust_train_311_jpg.rf.5ad8edc16e184273c7e7caaec4b72afc.jpg: 448x640 1 leaf_rust, 8.7ms\n",
      "image 673/1557 /workspace/Plant-Pathology-Anotation-7/train/images/rust_train_312_jpg.rf.eb812e7241b2f72fa79140136165dea6.jpg: 448x640 2 leaf_rusts, 9.8ms\n",
      "image 674/1557 /workspace/Plant-Pathology-Anotation-7/train/images/rust_train_313_jpg.rf.f91f33c2a8b783f4a4b2c49b6418d2f6.jpg: 448x640 2 leaf_rusts, 8.7ms\n",
      "image 675/1557 /workspace/Plant-Pathology-Anotation-7/train/images/rust_train_314_jpg.rf.16a2deaf02c98e308b58024e081cc1fe.jpg: 448x640 1 leaf_rust, 9.1ms\n",
      "image 676/1557 /workspace/Plant-Pathology-Anotation-7/train/images/rust_train_315_jpg.rf.290dc6285de44268cef4d619be3530e0.jpg: 448x640 1 leaf_rust, 8.5ms\n",
      "image 677/1557 /workspace/Plant-Pathology-Anotation-7/train/images/rust_train_316_jpg.rf.e5dfff8661778830e1cb9cca8305ce81.jpg: 448x640 1 leaf_rust, 9.0ms\n",
      "image 678/1557 /workspace/Plant-Pathology-Anotation-7/train/images/rust_train_317_jpg.rf.7d24a0c0438e2c51c51191c55fdec203.jpg: 448x640 2 leaf_rusts, 8.9ms\n",
      "image 679/1557 /workspace/Plant-Pathology-Anotation-7/train/images/rust_train_318_jpg.rf.d4a3202e106103e5be5bf8e29cc7a73f.jpg: 448x640 1 leaf_rust, 8.6ms\n",
      "image 680/1557 /workspace/Plant-Pathology-Anotation-7/train/images/rust_train_319_jpg.rf.8d564f26e8a08e4d2c1ec26607dec969.jpg: 448x640 1 leaf_rust, 9.4ms\n",
      "image 681/1557 /workspace/Plant-Pathology-Anotation-7/train/images/rust_train_31_jpg.rf.2a9cd02ebfb27c4745b2757263202a4e.jpg: 448x640 1 leaf_rust, 8.9ms\n",
      "image 682/1557 /workspace/Plant-Pathology-Anotation-7/train/images/rust_train_320_jpg.rf.726a5b0810542296a0c27b1ea00cd024.jpg: 448x640 2 leaf_rusts, 9.0ms\n",
      "image 683/1557 /workspace/Plant-Pathology-Anotation-7/train/images/rust_train_321_jpg.rf.48946cda278f71cafb1a9800625a0a21.jpg: 448x640 1 leaf_rust, 8.5ms\n",
      "image 684/1557 /workspace/Plant-Pathology-Anotation-7/train/images/rust_train_322_jpg.rf.e242f5f4c3776ab0522e71e696edfee5.jpg: 448x640 1 leaf_rust, 8.9ms\n",
      "image 685/1557 /workspace/Plant-Pathology-Anotation-7/train/images/rust_train_323_jpg.rf.3dbd470ccf17c01dae2183fe45e2d15f.jpg: 448x640 1 leaf_rust, 8.9ms\n",
      "image 686/1557 /workspace/Plant-Pathology-Anotation-7/train/images/rust_train_324_jpg.rf.1dc43965731f0e72552da079445277a8.jpg: 448x640 1 leaf_rust, 8.7ms\n",
      "image 687/1557 /workspace/Plant-Pathology-Anotation-7/train/images/rust_train_325_jpg.rf.9bc57d09e124eb33853ed7a1689731ad.jpg: 448x640 2 leaf_rusts, 8.6ms\n",
      "image 688/1557 /workspace/Plant-Pathology-Anotation-7/train/images/rust_train_326_jpg.rf.e41c48a6b63d3f60d7fabdc3ea9ec964.jpg: 448x640 1 leaf_rust, 8.9ms\n",
      "image 689/1557 /workspace/Plant-Pathology-Anotation-7/train/images/rust_train_327_jpg.rf.c949d4295974dfab7ccd537ccaa28a48.jpg: 448x640 1 leaf_rust, 9.1ms\n",
      "image 690/1557 /workspace/Plant-Pathology-Anotation-7/train/images/rust_train_328_jpg.rf.3bf542e5cff91629156cc101db571224.jpg: 448x640 1 leaf_rust, 9.0ms\n",
      "image 691/1557 /workspace/Plant-Pathology-Anotation-7/train/images/rust_train_329_jpg.rf.b52b27d9a12878a69e0db8adf05d5c00.jpg: 448x640 2 leaf_rusts, 8.6ms\n",
      "image 692/1557 /workspace/Plant-Pathology-Anotation-7/train/images/rust_train_330_jpg.rf.eccf41479a30faf034ddfb509bb63458.jpg: 448x640 1 leaf_rust, 10.8ms\n",
      "image 693/1557 /workspace/Plant-Pathology-Anotation-7/train/images/rust_train_331_jpg.rf.fa219d16a138ea42ae0beca10a11f074.jpg: 448x640 1 leaf_rust, 8.4ms\n",
      "image 694/1557 /workspace/Plant-Pathology-Anotation-7/train/images/rust_train_332_jpg.rf.7a83eca93103d57ca8a98e376b8b71f8.jpg: 448x640 3 leaf_rusts, 9.2ms\n",
      "image 695/1557 /workspace/Plant-Pathology-Anotation-7/train/images/rust_train_333_jpg.rf.cddeae7f065603ce8a0f8813a98b29c5.jpg: 448x640 2 leaf_rusts, 8.5ms\n",
      "image 696/1557 /workspace/Plant-Pathology-Anotation-7/train/images/rust_train_334_jpg.rf.6bb0b23e53f246a1769fa6ac19d84671.jpg: 448x640 1 leaf_rust, 9.6ms\n",
      "image 697/1557 /workspace/Plant-Pathology-Anotation-7/train/images/rust_train_335_jpg.rf.722e16a728509ea6fa65f84d76eb4ac8.jpg: 448x640 1 leaf_rust, 8.7ms\n",
      "image 698/1557 /workspace/Plant-Pathology-Anotation-7/train/images/rust_train_336_jpg.rf.fb1f711c17da9dee088b87f60d3319b6.jpg: 448x640 1 leaf_rust, 8.8ms\n",
      "image 699/1557 /workspace/Plant-Pathology-Anotation-7/train/images/rust_train_338_jpg.rf.14bc19a2cde4bce27f61fce8b6a5311d.jpg: 448x640 1 leaf_rust, 8.5ms\n",
      "image 700/1557 /workspace/Plant-Pathology-Anotation-7/train/images/rust_train_339_jpg.rf.b72157dbb98bf12126d0a6cf23140b8c.jpg: 448x640 1 leaf_rust, 8.6ms\n",
      "image 701/1557 /workspace/Plant-Pathology-Anotation-7/train/images/rust_train_33_jpg.rf.557b0fd1240a33f7fc6b4dc8d361f60e.jpg: 448x640 1 leaf_rust, 8.5ms\n",
      "image 702/1557 /workspace/Plant-Pathology-Anotation-7/train/images/rust_train_340_jpg.rf.d2d59834e8371cfba4030dff416da300.jpg: 448x640 2 leaf_rusts, 8.9ms\n",
      "image 703/1557 /workspace/Plant-Pathology-Anotation-7/train/images/rust_train_341_jpg.rf.70de0f9fd9ff20d684121071d4ad4dd9.jpg: 448x640 2 leaf_rusts, 8.5ms\n",
      "image 704/1557 /workspace/Plant-Pathology-Anotation-7/train/images/rust_train_342_jpg.rf.673fb2e65124f1d5e6a12a9fa146cb9b.jpg: 448x640 1 leaf_rust, 9.6ms\n",
      "image 705/1557 /workspace/Plant-Pathology-Anotation-7/train/images/rust_train_343_jpg.rf.d5da3b8f8e8ec325692f1bab2673e4b2.jpg: 448x640 1 leaf_rust, 8.8ms\n",
      "image 706/1557 /workspace/Plant-Pathology-Anotation-7/train/images/rust_train_344_jpg.rf.ec161e32b356468cfcb4b7219d6dc256.jpg: 448x640 1 leaf_rust, 8.8ms\n",
      "image 707/1557 /workspace/Plant-Pathology-Anotation-7/train/images/rust_train_345_jpg.rf.f1de68495bdc4facd70eb20f015dcd2b.jpg: 448x640 1 leaf_rust, 8.6ms\n",
      "image 708/1557 /workspace/Plant-Pathology-Anotation-7/train/images/rust_train_346_jpg.rf.4e8513480a55a6ae0ade46988dd38ac9.jpg: 448x640 3 leaf_rusts, 8.7ms\n",
      "image 709/1557 /workspace/Plant-Pathology-Anotation-7/train/images/rust_train_347_jpg.rf.8957383546eabd55027418530eddeac5.jpg: 448x640 2 leaf_rusts, 9.1ms\n",
      "image 710/1557 /workspace/Plant-Pathology-Anotation-7/train/images/rust_train_348_jpg.rf.2e646bc74806baa45c141a62b87ae4f5.jpg: 448x640 1 leaf_rust, 8.5ms\n",
      "image 711/1557 /workspace/Plant-Pathology-Anotation-7/train/images/rust_train_349_jpg.rf.39bdbddf80f51a9d170c02f235d094de.jpg: 448x640 2 leaf_rusts, 9.0ms\n",
      "image 712/1557 /workspace/Plant-Pathology-Anotation-7/train/images/rust_train_34_jpg.rf.391c1ba8755ee1d114a5b5a732f03c2a.jpg: 448x640 1 leaf_rust, 8.4ms\n",
      "image 713/1557 /workspace/Plant-Pathology-Anotation-7/train/images/rust_train_350_jpg.rf.8ed9d60d43af3360fd3d3dd566e3943b.jpg: 448x640 1 leaf_rust, 9.5ms\n",
      "image 714/1557 /workspace/Plant-Pathology-Anotation-7/train/images/rust_train_351_jpg.rf.016234f4ade0051046121d2d406fdd06.jpg: 448x640 1 leaf_rust, 8.4ms\n",
      "image 715/1557 /workspace/Plant-Pathology-Anotation-7/train/images/rust_train_352_jpg.rf.8b82bd8e08e5d998d3f2c8c70571b9ca.jpg: 448x640 1 leaf_rust, 8.8ms\n",
      "image 716/1557 /workspace/Plant-Pathology-Anotation-7/train/images/rust_train_353_jpg.rf.644bfce13232e4a0145a3cb295a2c264.jpg: 448x640 1 leaf_rust, 8.4ms\n",
      "image 717/1557 /workspace/Plant-Pathology-Anotation-7/train/images/rust_train_354_jpg.rf.9e20b420c4b701c74c7676e7b0d7905b.jpg: 448x640 2 leaf_rusts, 8.6ms\n",
      "image 718/1557 /workspace/Plant-Pathology-Anotation-7/train/images/rust_train_355_jpg.rf.e9a04d4b4a531b0426b613eaac1ff65e.jpg: 448x640 1 leaf_rust, 8.4ms\n",
      "image 719/1557 /workspace/Plant-Pathology-Anotation-7/train/images/rust_train_356_jpg.rf.3ed0a7fc90168a848e29df551189af7d.jpg: 448x640 1 leaf_rust, 9.0ms\n",
      "image 720/1557 /workspace/Plant-Pathology-Anotation-7/train/images/rust_train_357_jpg.rf.e3795a623f0712a84cb4d016cc3f39e5.jpg: 448x640 4 leaf_rusts, 8.6ms\n",
      "image 721/1557 /workspace/Plant-Pathology-Anotation-7/train/images/rust_train_358_jpg.rf.3cf3816b03df6d6001661c93298cc546.jpg: 448x640 1 leaf_rust, 8.6ms\n",
      "image 722/1557 /workspace/Plant-Pathology-Anotation-7/train/images/rust_train_359_jpg.rf.8fc372a2863d87505f275024744e0aac.jpg: 448x640 2 leaf_rusts, 9.2ms\n",
      "image 723/1557 /workspace/Plant-Pathology-Anotation-7/train/images/rust_train_35_jpg.rf.6f7a7a290dcf1518242168503f7d9d99.jpg: 448x640 1 leaf_rust, 8.7ms\n",
      "image 724/1557 /workspace/Plant-Pathology-Anotation-7/train/images/rust_train_360_jpg.rf.3034e442a70daf27db01783711bbf187.jpg: 448x640 1 leaf_rust, 8.6ms\n",
      "image 725/1557 /workspace/Plant-Pathology-Anotation-7/train/images/rust_train_362_jpg.rf.ebec610b098bbadb6317285f7f3d0d57.jpg: 448x640 2 leaf_rusts, 9.0ms\n",
      "image 726/1557 /workspace/Plant-Pathology-Anotation-7/train/images/rust_train_363_jpg.rf.c64e31a18febe004f04250afe27b6620.jpg: 448x640 1 leaf_rust, 8.3ms\n",
      "image 727/1557 /workspace/Plant-Pathology-Anotation-7/train/images/rust_train_364_jpg.rf.4ccd431a682a271ecf7a6d380c6468e8.jpg: 448x640 1 leaf_rust, 8.3ms\n",
      "image 728/1557 /workspace/Plant-Pathology-Anotation-7/train/images/rust_train_365_jpg.rf.7e2860b0a0879914dd6833b46a24d77c.jpg: 448x640 1 leaf_rust, 8.9ms\n",
      "image 729/1557 /workspace/Plant-Pathology-Anotation-7/train/images/rust_train_366_jpg.rf.a7a91fc1f7ea85bb4d2ec74083005f04.jpg: 448x640 1 leaf_rust, 8.4ms\n",
      "image 730/1557 /workspace/Plant-Pathology-Anotation-7/train/images/rust_train_367_jpg.rf.60ece56ed779ce06fa311a9f7d53139a.jpg: 448x640 1 leaf_rust, 8.3ms\n",
      "image 731/1557 /workspace/Plant-Pathology-Anotation-7/train/images/rust_train_368_jpg.rf.54b9e0751f4697dc8fb3c1b0586a84a3.jpg: 448x640 1 leaf_rust, 8.4ms\n",
      "image 732/1557 /workspace/Plant-Pathology-Anotation-7/train/images/rust_train_369_jpg.rf.be32fb423c0ec8d8fa696072b39c3c32.jpg: 448x640 2 leaf_rusts, 8.2ms\n",
      "image 733/1557 /workspace/Plant-Pathology-Anotation-7/train/images/rust_train_36_jpg.rf.3b8a64b675743827dd4463c5f9c77d16.jpg: 448x640 1 leaf_rust, 8.4ms\n",
      "image 734/1557 /workspace/Plant-Pathology-Anotation-7/train/images/rust_train_370_jpg.rf.81c7cb78c3ac9196bbb1edeb82fe756a.jpg: 448x640 1 leaf_rust, 9.5ms\n",
      "image 735/1557 /workspace/Plant-Pathology-Anotation-7/train/images/rust_train_371_jpg.rf.0d2ecee362bd586249f8e834fbb52aca.jpg: 448x640 1 leaf_rust, 8.5ms\n",
      "image 736/1557 /workspace/Plant-Pathology-Anotation-7/train/images/rust_train_372_jpg.rf.db83f29b2c2e4a5ccb45c631c9572a83.jpg: 448x640 2 leaf_rusts, 8.5ms\n",
      "image 737/1557 /workspace/Plant-Pathology-Anotation-7/train/images/rust_train_373_jpg.rf.705bd67dc891c73acfe7c7e345589f69.jpg: 448x640 1 leaf_rust, 8.6ms\n",
      "image 738/1557 /workspace/Plant-Pathology-Anotation-7/train/images/rust_train_374_jpg.rf.c6d9396779f963b0cdd7d8e02db3cbc4.jpg: 448x640 1 leaf_rust, 8.7ms\n",
      "image 739/1557 /workspace/Plant-Pathology-Anotation-7/train/images/rust_train_375_jpg.rf.5931251c289a17592dedee6a612f8da5.jpg: 448x640 1 leaf_rust, 8.2ms\n",
      "image 740/1557 /workspace/Plant-Pathology-Anotation-7/train/images/rust_train_376_jpg.rf.e9a7b1ab264b1f87ed38ff6c571acf5e.jpg: 448x640 1 leaf_rust, 8.1ms\n",
      "image 741/1557 /workspace/Plant-Pathology-Anotation-7/train/images/rust_train_377_jpg.rf.2f79cca41e46f18423da64eb675e1cbd.jpg: 448x640 2 leaf_rusts, 8.2ms\n",
      "image 742/1557 /workspace/Plant-Pathology-Anotation-7/train/images/rust_train_379_jpg.rf.3c6327f7756995d2f13a789346c79a44.jpg: 448x640 1 leaf_rust, 8.5ms\n",
      "image 743/1557 /workspace/Plant-Pathology-Anotation-7/train/images/rust_train_37_jpg.rf.d4686db3adf3f1d0b9d2e8d19393660c.jpg: 448x640 1 leaf_rust, 8.7ms\n",
      "image 744/1557 /workspace/Plant-Pathology-Anotation-7/train/images/rust_train_380_jpg.rf.6c25a73c92f1f084be8873817fed31e1.jpg: 448x640 1 leaf_rust, 8.3ms\n",
      "image 745/1557 /workspace/Plant-Pathology-Anotation-7/train/images/rust_train_381_jpg.rf.ae80ab40a91bb6a7e045670bd4615838.jpg: 448x640 3 leaf_rusts, 8.5ms\n",
      "image 746/1557 /workspace/Plant-Pathology-Anotation-7/train/images/rust_train_382_jpg.rf.d47b16d89a2a1f4d90ef885ab516f3a5.jpg: 448x640 1 leaf_rust, 8.8ms\n",
      "image 747/1557 /workspace/Plant-Pathology-Anotation-7/train/images/rust_train_383_jpg.rf.189e4810cb1f08ab3f1b98c1ed077ea8.jpg: 448x640 1 leaf_rust, 8.7ms\n",
      "image 748/1557 /workspace/Plant-Pathology-Anotation-7/train/images/rust_train_384_jpg.rf.c9aad37c9d87eef9bfe2b1c625697ae3.jpg: 448x640 1 leaf_rust, 9.5ms\n",
      "image 749/1557 /workspace/Plant-Pathology-Anotation-7/train/images/rust_train_385_jpg.rf.9e06da3daeb1e47a4b0e0c8d8d5d49eb.jpg: 448x640 1 leaf_rust, 10.6ms\n",
      "image 750/1557 /workspace/Plant-Pathology-Anotation-7/train/images/rust_train_386_jpg.rf.96feb646599a763ce08789ad223367d1.jpg: 448x640 1 leaf_rust, 8.6ms\n",
      "image 751/1557 /workspace/Plant-Pathology-Anotation-7/train/images/rust_train_387_jpg.rf.bad090871af080ba438a3aaf79c65a82.jpg: 448x640 1 leaf_rust, 8.4ms\n",
      "image 752/1557 /workspace/Plant-Pathology-Anotation-7/train/images/rust_train_388_jpg.rf.0a87b45b8a55d958efb10f022b6de682.jpg: 448x640 1 leaf_rust, 8.9ms\n",
      "image 753/1557 /workspace/Plant-Pathology-Anotation-7/train/images/rust_train_389_jpg.rf.cd79e476738301c10f6d2d6819becc34.jpg: 448x640 1 leaf_rust, 9.1ms\n",
      "image 754/1557 /workspace/Plant-Pathology-Anotation-7/train/images/rust_train_390_jpg.rf.2df73edf9ba8a58a365b3f0b6651ba16.jpg: 448x640 1 leaf_rust, 8.6ms\n",
      "image 755/1557 /workspace/Plant-Pathology-Anotation-7/train/images/rust_train_391_jpg.rf.07cfc88e6fcc105effed729b674cc18f.jpg: 448x640 1 leaf_rust, 8.5ms\n",
      "image 756/1557 /workspace/Plant-Pathology-Anotation-7/train/images/rust_train_394_jpg.rf.ce258089f86eceeb9ab8abdaa484aab4.jpg: 448x640 1 leaf_rust, 8.5ms\n",
      "image 757/1557 /workspace/Plant-Pathology-Anotation-7/train/images/rust_train_395_jpg.rf.e333ec3d6d1e4b3885c18854f6d372eb.jpg: 448x640 1 leaf_rust, 8.8ms\n",
      "image 758/1557 /workspace/Plant-Pathology-Anotation-7/train/images/rust_train_396_jpg.rf.74038ff6cb54c3f7f464829728f506c9.jpg: 448x640 1 leaf_rust, 8.4ms\n",
      "image 759/1557 /workspace/Plant-Pathology-Anotation-7/train/images/rust_train_397_jpg.rf.dffd2677f0f064ef4cd1c56ee43af185.jpg: 448x640 1 leaf_rust, 9.6ms\n",
      "image 760/1557 /workspace/Plant-Pathology-Anotation-7/train/images/rust_train_398_jpg.rf.ddded8e35c33ce1cb6cf13837eb44632.jpg: 448x640 1 leaf_rust, 8.7ms\n",
      "image 761/1557 /workspace/Plant-Pathology-Anotation-7/train/images/rust_train_399_jpg.rf.0fc0fd00a97ba1207cab7fcc73bca59e.jpg: 448x640 1 leaf_rust, 8.8ms\n",
      "image 762/1557 /workspace/Plant-Pathology-Anotation-7/train/images/rust_train_39_jpg.rf.021b0f8e0a20a00662e670ea5c47c6ab.jpg: 448x640 2 leaf_rusts, 8.4ms\n",
      "image 763/1557 /workspace/Plant-Pathology-Anotation-7/train/images/rust_train_400_jpg.rf.1e57042dcd3d9ef893831ac4fb6a0e0d.jpg: 448x640 1 leaf_rust, 8.7ms\n",
      "image 764/1557 /workspace/Plant-Pathology-Anotation-7/train/images/rust_train_401_jpg.rf.135553961918967a0d728a21f17bca15.jpg: 448x640 1 leaf_rust, 8.7ms\n",
      "image 765/1557 /workspace/Plant-Pathology-Anotation-7/train/images/rust_train_402_jpg.rf.1a91d4ec32c41063f19a4457c813a972.jpg: 448x640 1 leaf_rust, 8.3ms\n",
      "image 766/1557 /workspace/Plant-Pathology-Anotation-7/train/images/rust_train_403_jpg.rf.d14267625dc3ebab60082a78ba55f8ad.jpg: 448x640 1 leaf_rust, 8.9ms\n",
      "image 767/1557 /workspace/Plant-Pathology-Anotation-7/train/images/rust_train_404_jpg.rf.2a97e60deca72e6ab6b4ed2e8b61a308.jpg: 448x640 1 leaf_rust, 8.8ms\n",
      "image 768/1557 /workspace/Plant-Pathology-Anotation-7/train/images/rust_train_405_jpg.rf.1ca3474f79e625a5d92fa9af5db164ac.jpg: 448x640 1 leaf_rust, 8.4ms\n",
      "image 769/1557 /workspace/Plant-Pathology-Anotation-7/train/images/rust_train_406_jpg.rf.b6207ca5dbf09801582c6d192a5b918b.jpg: 448x640 2 leaf_rusts, 8.4ms\n",
      "image 770/1557 /workspace/Plant-Pathology-Anotation-7/train/images/rust_train_407_jpg.rf.358388fdbf2fd5062e18995cbaea7ffe.jpg: 448x640 1 leaf_rust, 8.7ms\n",
      "image 771/1557 /workspace/Plant-Pathology-Anotation-7/train/images/rust_train_408_jpg.rf.dd3e544f2a0370c8aefe7b8e8d9c9f9e.jpg: 448x640 1 leaf_rust, 8.5ms\n",
      "image 772/1557 /workspace/Plant-Pathology-Anotation-7/train/images/rust_train_409_jpg.rf.755df59a0e0d2781f4482bbdad808ef5.jpg: 448x640 2 leaf_rusts, 8.4ms\n",
      "image 773/1557 /workspace/Plant-Pathology-Anotation-7/train/images/rust_train_40_jpg.rf.237efc57f9ac730a45916e13fa691f03.jpg: 448x640 1 leaf_rust, 8.5ms\n",
      "image 774/1557 /workspace/Plant-Pathology-Anotation-7/train/images/rust_train_411_jpg.rf.979a98e632dba1582e5ac4a9d4435666.jpg: 448x640 1 leaf_rust, 8.9ms\n",
      "image 775/1557 /workspace/Plant-Pathology-Anotation-7/train/images/rust_train_413_jpg.rf.affdd22305a2ff10fa9e31028ef9cc1e.jpg: 448x640 1 leaf_rust, 9.0ms\n",
      "image 776/1557 /workspace/Plant-Pathology-Anotation-7/train/images/rust_train_414_jpg.rf.882a6914ea920f9f80688f74dd6d8745.jpg: 448x640 1 leaf_rust, 8.7ms\n",
      "image 777/1557 /workspace/Plant-Pathology-Anotation-7/train/images/rust_train_416_jpg.rf.1a1c3f1b90a2e29ae3a43b8e12840e47.jpg: 448x640 1 leaf_rust, 8.6ms\n",
      "image 778/1557 /workspace/Plant-Pathology-Anotation-7/train/images/rust_train_417_jpg.rf.ea65de25f2832352fa153fbeaf23c91c.jpg: 448x640 1 leaf_rust, 9.0ms\n",
      "image 779/1557 /workspace/Plant-Pathology-Anotation-7/train/images/rust_train_418_jpg.rf.8b11d0907f90e933e3140652e6635740.jpg: 448x640 2 leaf_rusts, 9.0ms\n",
      "image 780/1557 /workspace/Plant-Pathology-Anotation-7/train/images/rust_train_419_jpg.rf.d1f23017a9fe6bb2d814b082a85d50ec.jpg: 448x640 1 leaf_rust, 8.6ms\n",
      "image 781/1557 /workspace/Plant-Pathology-Anotation-7/train/images/rust_train_41_jpg.rf.e5640084def94341fc1c19885009b8e5.jpg: 448x640 1 leaf_rust, 8.7ms\n",
      "image 782/1557 /workspace/Plant-Pathology-Anotation-7/train/images/rust_train_420_jpg.rf.f54742a970c72f84b0a9b2fb5434ed0a.jpg: 448x640 1 leaf_rust, 8.9ms\n",
      "image 783/1557 /workspace/Plant-Pathology-Anotation-7/train/images/rust_train_421_jpg.rf.fcb9770037737607778dd9fb4ba283e2.jpg: 448x640 1 leaf_rust, 8.8ms\n",
      "image 784/1557 /workspace/Plant-Pathology-Anotation-7/train/images/rust_train_422_jpg.rf.edd258fcd1f580252388ccab361fbe0f.jpg: 448x640 1 leaf_rust, 8.7ms\n",
      "image 785/1557 /workspace/Plant-Pathology-Anotation-7/train/images/rust_train_423_jpg.rf.321ede62258ec9929973b4bb555351a7.jpg: 448x640 1 leaf_rust, 8.7ms\n",
      "image 786/1557 /workspace/Plant-Pathology-Anotation-7/train/images/rust_train_424_jpg.rf.2555e897b60e54a7548682a64fc8d812.jpg: 448x640 1 leaf_rust, 8.6ms\n",
      "image 787/1557 /workspace/Plant-Pathology-Anotation-7/train/images/rust_train_426_jpg.rf.e1b472995c40f012ba6f680a568093c1.jpg: 448x640 1 leaf_rust, 8.7ms\n",
      "image 788/1557 /workspace/Plant-Pathology-Anotation-7/train/images/rust_train_427_jpg.rf.22e81f3363daf50a1de42647cfef2928.jpg: 448x640 2 leaf_rusts, 8.8ms\n",
      "image 789/1557 /workspace/Plant-Pathology-Anotation-7/train/images/rust_train_428_jpg.rf.f713540955a3853d506819f35383ce0d.jpg: 448x640 1 leaf_rust, 8.5ms\n",
      "image 790/1557 /workspace/Plant-Pathology-Anotation-7/train/images/rust_train_429_jpg.rf.5d18bc478aa8ba70dcc25b0328c35122.jpg: 448x640 1 leaf_rust, 9.6ms\n",
      "image 791/1557 /workspace/Plant-Pathology-Anotation-7/train/images/rust_train_42_jpg.rf.fd699ca599e2d4033deae7f0d0d4f603.jpg: 448x640 1 leaf_rust, 8.5ms\n",
      "image 792/1557 /workspace/Plant-Pathology-Anotation-7/train/images/rust_train_431_jpg.rf.dd71140c8b5acb110b4783dd8361d1b1.jpg: 448x640 1 leaf_rust, 8.5ms\n",
      "image 793/1557 /workspace/Plant-Pathology-Anotation-7/train/images/rust_train_432_jpg.rf.c93a734d004f21266f8930e79043893a.jpg: 448x640 2 leaf_rusts, 8.7ms\n",
      "image 794/1557 /workspace/Plant-Pathology-Anotation-7/train/images/rust_train_433_jpg.rf.024cd5c66222a4da33d0f57d8c1375d6.jpg: 448x640 1 leaf_rust, 8.8ms\n",
      "image 795/1557 /workspace/Plant-Pathology-Anotation-7/train/images/rust_train_434_jpg.rf.80c876bbadbf5f8fc1f344a0e722b9a5.jpg: 448x640 2 leaf_rusts, 8.5ms\n",
      "image 796/1557 /workspace/Plant-Pathology-Anotation-7/train/images/rust_train_435_jpg.rf.5fe181b1667789b0f03f1ae5b8e06198.jpg: 448x640 1 leaf_rust, 8.6ms\n",
      "image 797/1557 /workspace/Plant-Pathology-Anotation-7/train/images/rust_train_436_jpg.rf.97dcd4cfd84e57c857331269f44ad267.jpg: 448x640 1 leaf_rust, 8.9ms\n",
      "image 798/1557 /workspace/Plant-Pathology-Anotation-7/train/images/rust_train_438_jpg.rf.53e09c7db9106ec950e1fdf695d6f886.jpg: 448x640 1 leaf_rust, 8.5ms\n",
      "image 799/1557 /workspace/Plant-Pathology-Anotation-7/train/images/rust_train_439_jpg.rf.6efb81c78ae033cd420481692146a4e4.jpg: 448x640 2 leaf_rusts, 8.4ms\n",
      "image 800/1557 /workspace/Plant-Pathology-Anotation-7/train/images/rust_train_43_jpg.rf.3d6570dd0cac321a1b5a3b1da2374fd3.jpg: 448x640 1 leaf_rust, 8.5ms\n",
      "image 801/1557 /workspace/Plant-Pathology-Anotation-7/train/images/rust_train_440_jpg.rf.8af306c4805fcfade9ec9d0621b4370b.jpg: 448x640 1 leaf_rust, 8.6ms\n",
      "image 802/1557 /workspace/Plant-Pathology-Anotation-7/train/images/rust_train_441_jpg.rf.59a203ac667187583ba012c6c31bc9d4.jpg: 448x640 1 leaf_rust, 8.8ms\n",
      "image 803/1557 /workspace/Plant-Pathology-Anotation-7/train/images/rust_train_442_jpg.rf.737b9eeeceedb7eb3a294234c1beeb30.jpg: 448x640 2 leaf_rusts, 8.7ms\n",
      "image 804/1557 /workspace/Plant-Pathology-Anotation-7/train/images/rust_train_443_jpg.rf.44255169804f60366af71bfd53e723f8.jpg: 448x640 1 leaf_rust, 8.5ms\n",
      "image 805/1557 /workspace/Plant-Pathology-Anotation-7/train/images/rust_train_445_jpg.rf.34ab0d067cb77a64ff6d0c4d74fac62b.jpg: 448x640 1 leaf_rust, 9.2ms\n",
      "image 806/1557 /workspace/Plant-Pathology-Anotation-7/train/images/rust_train_446_jpg.rf.7d07a6a84be7a1eaa1e129d10b3109e7.jpg: 448x640 1 leaf_rust, 8.7ms\n",
      "image 807/1557 /workspace/Plant-Pathology-Anotation-7/train/images/rust_train_447_jpg.rf.c481b2f23fc08ce2e8b2f596fbd9d30f.jpg: 448x640 1 leaf_rust, 8.8ms\n",
      "image 808/1557 /workspace/Plant-Pathology-Anotation-7/train/images/rust_train_448_jpg.rf.f3408aae8ad2004465eecd2609716d96.jpg: 448x640 1 leaf_rust, 8.5ms\n",
      "image 809/1557 /workspace/Plant-Pathology-Anotation-7/train/images/rust_train_44_jpg.rf.4fb3a0c26113c8540a700732ffe2932d.jpg: 448x640 1 leaf_rust, 8.4ms\n",
      "image 810/1557 /workspace/Plant-Pathology-Anotation-7/train/images/rust_train_450_jpg.rf.c98f54c1d7fc9dc8e62e52fb834500b3.jpg: 448x640 1 leaf_rust, 8.7ms\n",
      "image 811/1557 /workspace/Plant-Pathology-Anotation-7/train/images/rust_train_451_jpg.rf.c4633f09fae6f662cc202f9dd4f8b64d.jpg: 448x640 1 leaf_rust, 8.7ms\n",
      "image 812/1557 /workspace/Plant-Pathology-Anotation-7/train/images/rust_train_452_jpg.rf.cfb1aac4c5ae723ca5d290d17d81bd2f.jpg: 448x640 1 leaf_rust, 8.8ms\n",
      "image 813/1557 /workspace/Plant-Pathology-Anotation-7/train/images/rust_train_453_jpg.rf.57a237fcc703451129759aff7fcb9752.jpg: 448x640 1 leaf_rust, 8.6ms\n",
      "image 814/1557 /workspace/Plant-Pathology-Anotation-7/train/images/rust_train_454_jpg.rf.ff75707e2a2e985a457494d5a1958074.jpg: 448x640 1 leaf_rust, 8.6ms\n",
      "image 815/1557 /workspace/Plant-Pathology-Anotation-7/train/images/rust_train_455_jpg.rf.ff6fb1562d49a542652ad72d4349faa5.jpg: 448x640 1 leaf_rust, 8.6ms\n",
      "image 816/1557 /workspace/Plant-Pathology-Anotation-7/train/images/rust_train_456_jpg.rf.452e79dd6cf5b0c0a7242f08ca7570ab.jpg: 448x640 1 leaf_rust, 9.0ms\n",
      "image 817/1557 /workspace/Plant-Pathology-Anotation-7/train/images/rust_train_457_jpg.rf.411fc5cf5cc97af6b9a4320cca974fa1.jpg: 448x640 1 leaf_rust, 8.7ms\n",
      "image 818/1557 /workspace/Plant-Pathology-Anotation-7/train/images/rust_train_458_jpg.rf.a081212a3dd421e03810665691360775.jpg: 448x640 1 leaf_rust, 8.9ms\n",
      "image 819/1557 /workspace/Plant-Pathology-Anotation-7/train/images/rust_train_459_jpg.rf.604f9f4190f4d565a8e697969fd52827.jpg: 448x640 2 leaf_rusts, 8.6ms\n",
      "image 820/1557 /workspace/Plant-Pathology-Anotation-7/train/images/rust_train_45_jpg.rf.280d65b31782c8f2b167ed47fd1427e3.jpg: 448x640 1 leaf_rust, 8.5ms\n",
      "image 821/1557 /workspace/Plant-Pathology-Anotation-7/train/images/rust_train_460_jpg.rf.6d210b51ba6dc76226c1841c23fea0d7.jpg: 448x640 1 leaf_rust, 8.9ms\n",
      "image 822/1557 /workspace/Plant-Pathology-Anotation-7/train/images/rust_train_461_jpg.rf.a63eedb6dbc4375322ab94bc7e0f0c07.jpg: 448x640 1 leaf_rust, 8.4ms\n",
      "image 823/1557 /workspace/Plant-Pathology-Anotation-7/train/images/rust_train_462_jpg.rf.bbcaed1bd87d67b8b9b9087e6f3b3e5c.jpg: 448x640 2 leaf_rusts, 8.6ms\n",
      "image 824/1557 /workspace/Plant-Pathology-Anotation-7/train/images/rust_train_463_jpg.rf.6521e7752072c48eecf66b2b924a000c.jpg: 448x640 2 leaf_rusts, 8.6ms\n",
      "image 825/1557 /workspace/Plant-Pathology-Anotation-7/train/images/rust_train_465_jpg.rf.25ddbd35d7a7059b782fb3c301b57310.jpg: 448x640 1 leaf_rust, 8.9ms\n",
      "image 826/1557 /workspace/Plant-Pathology-Anotation-7/train/images/rust_train_466_jpg.rf.f00b15046cb33066c03dc85741972bb7.jpg: 448x640 1 leaf_rust, 9.3ms\n",
      "image 827/1557 /workspace/Plant-Pathology-Anotation-7/train/images/rust_train_468_jpg.rf.0085c8c3cd26369ce8d04cf846db7b65.jpg: 448x640 1 leaf_rust, 8.4ms\n",
      "image 828/1557 /workspace/Plant-Pathology-Anotation-7/train/images/rust_train_46_jpg.rf.fba072fc9b015ea0d116b9860bd01955.jpg: 448x640 1 leaf_rust, 8.5ms\n",
      "image 829/1557 /workspace/Plant-Pathology-Anotation-7/train/images/rust_train_470_jpg.rf.def011c4fd608ba148c36e53b807c46d.jpg: 448x640 1 leaf_rust, 8.5ms\n",
      "image 830/1557 /workspace/Plant-Pathology-Anotation-7/train/images/rust_train_471_jpg.rf.9586d5cd00661bc918c932ed83cc41ae.jpg: 448x640 1 leaf_rust, 8.5ms\n",
      "image 831/1557 /workspace/Plant-Pathology-Anotation-7/train/images/rust_train_472_jpg.rf.a53dd352144bb961ce707cfc3e2de738.jpg: 448x640 1 leaf_rust, 8.8ms\n",
      "image 832/1557 /workspace/Plant-Pathology-Anotation-7/train/images/rust_train_473_jpg.rf.8ef4a3e4996405bd15fb12286ac43bd7.jpg: 448x640 1 leaf_rust, 8.6ms\n",
      "image 833/1557 /workspace/Plant-Pathology-Anotation-7/train/images/rust_train_474_jpg.rf.f367d8c3dd07fae1e663f0373853e5d1.jpg: 448x640 1 leaf_rust, 8.5ms\n",
      "image 834/1557 /workspace/Plant-Pathology-Anotation-7/train/images/rust_train_475_jpg.rf.aa669ce6a4e8c8f028cf822d83886827.jpg: 448x640 2 leaf_rusts, 8.7ms\n",
      "image 835/1557 /workspace/Plant-Pathology-Anotation-7/train/images/rust_train_477_jpg.rf.3251b573b1107f81cf29214278820b9b.jpg: 448x640 1 leaf_rust, 8.5ms\n",
      "image 836/1557 /workspace/Plant-Pathology-Anotation-7/train/images/rust_train_478_jpg.rf.e814093a017e03eb805a0a74d4f89c94.jpg: 448x640 1 leaf_rust, 8.6ms\n",
      "image 837/1557 /workspace/Plant-Pathology-Anotation-7/train/images/rust_train_479_jpg.rf.9d38711fedb5ecee9994e54b5d3a9754.jpg: 448x640 1 leaf_rust, 8.5ms\n",
      "image 838/1557 /workspace/Plant-Pathology-Anotation-7/train/images/rust_train_47_jpg.rf.220582d024776d7989cfc5cf2d3c8dc5.jpg: 448x640 1 leaf_rust, 8.5ms\n",
      "image 839/1557 /workspace/Plant-Pathology-Anotation-7/train/images/rust_train_481_jpg.rf.ba9bb7a6487300123ac11a2b92a82ee9.jpg: 448x640 1 leaf_rust, 8.7ms\n",
      "image 840/1557 /workspace/Plant-Pathology-Anotation-7/train/images/rust_train_483_jpg.rf.028e394038857e285acaebe5598b5249.jpg: 448x640 2 leaf_rusts, 8.5ms\n",
      "image 841/1557 /workspace/Plant-Pathology-Anotation-7/train/images/rust_train_484_jpg.rf.660c67a09c3bdbf577c0acb79486f144.jpg: 448x640 1 leaf_rust, 8.7ms\n",
      "image 842/1557 /workspace/Plant-Pathology-Anotation-7/train/images/rust_train_485_jpg.rf.d56775b2107d2032d8028e4e5b64ae78.jpg: 448x640 1 leaf_rust, 8.5ms\n",
      "image 843/1557 /workspace/Plant-Pathology-Anotation-7/train/images/rust_train_487_jpg.rf.75781f52cd5f9ce375cb4b201d428ffa.jpg: 448x640 1 leaf_rust, 8.5ms\n",
      "image 844/1557 /workspace/Plant-Pathology-Anotation-7/train/images/rust_train_488_jpg.rf.f5519747f0b0827a93fb71f5818db765.jpg: 448x640 1 leaf_rust, 8.6ms\n",
      "image 845/1557 /workspace/Plant-Pathology-Anotation-7/train/images/rust_train_489_jpg.rf.8800e8ae8ed8eb946f89d454c763bba3.jpg: 448x640 2 leaf_rusts, 8.6ms\n",
      "image 846/1557 /workspace/Plant-Pathology-Anotation-7/train/images/rust_train_48_jpg.rf.f0de0a4781a7d2373d0a1fb8a9bd4316.jpg: 448x640 2 leaf_rusts, 9.1ms\n",
      "image 847/1557 /workspace/Plant-Pathology-Anotation-7/train/images/rust_train_490_jpg.rf.ad6d19ac0be502fec65351a657f75441.jpg: 448x640 1 leaf_rust, 9.3ms\n",
      "image 848/1557 /workspace/Plant-Pathology-Anotation-7/train/images/rust_train_491_jpg.rf.12c1a892cbf91aaf754b27e1d4becdf8.jpg: 448x640 1 leaf_rust, 8.4ms\n",
      "image 849/1557 /workspace/Plant-Pathology-Anotation-7/train/images/rust_train_492_jpg.rf.50be6c8f4812b6ff17009b290e044fec.jpg: 448x640 3 leaf_rusts, 8.7ms\n",
      "image 850/1557 /workspace/Plant-Pathology-Anotation-7/train/images/rust_train_493_jpg.rf.ba8d1d0a4865ea929760788be1f6934b.jpg: 448x640 1 leaf_rust, 8.5ms\n",
      "image 851/1557 /workspace/Plant-Pathology-Anotation-7/train/images/rust_train_494_jpg.rf.c3208ec2f5eff2e195647b2c511eda2d.jpg: 448x640 1 leaf_rust, 8.7ms\n",
      "image 852/1557 /workspace/Plant-Pathology-Anotation-7/train/images/rust_train_495_jpg.rf.05e6e45ed8dc9ab59122a09d9f20edec.jpg: 448x640 1 leaf_rust, 9.0ms\n",
      "image 853/1557 /workspace/Plant-Pathology-Anotation-7/train/images/rust_train_496_jpg.rf.cfa120b84bcbba9cd39faf2134c7d520.jpg: 448x640 1 leaf_rust, 8.5ms\n",
      "image 854/1557 /workspace/Plant-Pathology-Anotation-7/train/images/rust_train_497_jpg.rf.22b27d74529f013c4f868d114e3f86ca.jpg: 448x640 2 leaf_rusts, 9.0ms\n",
      "image 855/1557 /workspace/Plant-Pathology-Anotation-7/train/images/rust_train_499_jpg.rf.f1b4b693e4c6bc99f36236059293afef.jpg: 448x640 1 leaf_rust, 8.4ms\n",
      "image 856/1557 /workspace/Plant-Pathology-Anotation-7/train/images/rust_train_49_jpg.rf.93e6d86fbcd19bc8f256068d7edd2e8a.jpg: 448x640 1 leaf_rust, 8.7ms\n",
      "image 857/1557 /workspace/Plant-Pathology-Anotation-7/train/images/rust_train_4_jpg.rf.ba9148df14bc155905029f041ff2cdae.jpg: 448x640 1 leaf_rust, 8.5ms\n",
      "image 858/1557 /workspace/Plant-Pathology-Anotation-7/train/images/rust_train_500_jpg.rf.3207a414ededacef88d1dc76e26fb271.jpg: 448x640 2 leaf_rusts, 8.9ms\n",
      "image 859/1557 /workspace/Plant-Pathology-Anotation-7/train/images/rust_train_501_jpg.rf.b5d18b0a40aef573fa66404996a079db.jpg: 448x640 1 leaf_rust, 9.1ms\n",
      "image 860/1557 /workspace/Plant-Pathology-Anotation-7/train/images/rust_train_502_jpg.rf.c680975b5c1a750efa5eff1a1f52e5df.jpg: 448x640 1 leaf_rust, 8.8ms\n",
      "image 861/1557 /workspace/Plant-Pathology-Anotation-7/train/images/rust_train_503_jpg.rf.edd253533446ef17ea119ed33421437a.jpg: 448x640 1 leaf_rust, 8.5ms\n",
      "image 862/1557 /workspace/Plant-Pathology-Anotation-7/train/images/rust_train_504_jpg.rf.70d78dead166d7bfc0fce10428178e9e.jpg: 448x640 1 leaf_rust, 8.5ms\n",
      "image 863/1557 /workspace/Plant-Pathology-Anotation-7/train/images/rust_train_505_jpg.rf.962508d189281aa51285fdd80a720d12.jpg: 448x640 1 leaf_rust, 8.4ms\n",
      "image 864/1557 /workspace/Plant-Pathology-Anotation-7/train/images/rust_train_506_jpg.rf.dfb4654642c67ba9e301c07b1b85d74f.jpg: 448x640 2 leaf_rusts, 8.6ms\n",
      "image 865/1557 /workspace/Plant-Pathology-Anotation-7/train/images/rust_train_508_jpg.rf.d3259761cd3a9c047640b8d2bc4e9cb6.jpg: 448x640 1 leaf_rust, 8.4ms\n",
      "image 866/1557 /workspace/Plant-Pathology-Anotation-7/train/images/rust_train_509_jpg.rf.e9b2a911c1ba1c0f78964ddce9926ec5.jpg: 448x640 1 leaf_rust, 8.5ms\n",
      "image 867/1557 /workspace/Plant-Pathology-Anotation-7/train/images/rust_train_510_jpg.rf.09ecfc29a1483be89e5c2d963248c561.jpg: 448x640 1 leaf_rust, 9.3ms\n",
      "image 868/1557 /workspace/Plant-Pathology-Anotation-7/train/images/rust_train_511_jpg.rf.dc5df314e86a659c5760aed7f7429c09.jpg: 448x640 1 leaf_rust, 8.5ms\n",
      "image 869/1557 /workspace/Plant-Pathology-Anotation-7/train/images/rust_train_512_jpg.rf.d77e07975aee54c6a8180ce8b96e021d.jpg: 448x640 1 leaf_rust, 8.3ms\n",
      "image 870/1557 /workspace/Plant-Pathology-Anotation-7/train/images/rust_train_513_jpg.rf.6ed16364e9195f07c4bdcae596f794ca.jpg: 448x640 1 leaf_rust, 9.1ms\n",
      "image 871/1557 /workspace/Plant-Pathology-Anotation-7/train/images/rust_train_514_jpg.rf.8fcfcc8bcd86b88581f0b0731e5da2c7.jpg: 448x640 1 leaf_rust, 8.4ms\n",
      "image 872/1557 /workspace/Plant-Pathology-Anotation-7/train/images/rust_train_515_jpg.rf.70e40b63ba33dfa6ca4eca464a4f27fc.jpg: 448x640 1 leaf_rust, 8.4ms\n",
      "image 873/1557 /workspace/Plant-Pathology-Anotation-7/train/images/rust_train_516_jpg.rf.83a1194482ea68b1cfa8d429ede4c810.jpg: 448x640 1 leaf_rust, 8.8ms\n",
      "image 874/1557 /workspace/Plant-Pathology-Anotation-7/train/images/rust_train_517_jpg.rf.210dd512b2adf38cea594d3868e52b67.jpg: 448x640 1 leaf_rust, 8.4ms\n",
      "image 875/1557 /workspace/Plant-Pathology-Anotation-7/train/images/rust_train_518_jpg.rf.c08942ea91f51359de0b02a0b1ea61da.jpg: 448x640 2 leaf_rusts, 8.5ms\n",
      "image 876/1557 /workspace/Plant-Pathology-Anotation-7/train/images/rust_train_519_jpg.rf.4e9844ff9141ba91e510eb70eb6423db.jpg: 448x640 1 leaf_rust, 8.8ms\n",
      "image 877/1557 /workspace/Plant-Pathology-Anotation-7/train/images/rust_train_51_jpg.rf.9e3543b155b48b426052100110db5253.jpg: 448x640 1 leaf_rust, 8.5ms\n",
      "image 878/1557 /workspace/Plant-Pathology-Anotation-7/train/images/rust_train_520_jpg.rf.0c1593bed0339ace85ed9836ce0371d4.jpg: 448x640 1 leaf_rust, 8.5ms\n",
      "image 879/1557 /workspace/Plant-Pathology-Anotation-7/train/images/rust_train_521_jpg.rf.71f058eef86ee2b11db7e9724e988455.jpg: 448x640 1 leaf_rust, 8.3ms\n",
      "image 880/1557 /workspace/Plant-Pathology-Anotation-7/train/images/rust_train_522_jpg.rf.68e6eee9c7b5aa98b0791d1c23f844bf.jpg: 448x640 1 leaf_rust, 8.3ms\n",
      "image 881/1557 /workspace/Plant-Pathology-Anotation-7/train/images/rust_train_523_jpg.rf.be23bbf2843c074db5444acbcb8805b1.jpg: 448x640 1 leaf_rust, 8.5ms\n",
      "image 882/1557 /workspace/Plant-Pathology-Anotation-7/train/images/rust_train_524_jpg.rf.55378a3cb9b94f0152bdb4a78078bfda.jpg: 448x640 2 leaf_rusts, 8.6ms\n",
      "image 883/1557 /workspace/Plant-Pathology-Anotation-7/train/images/rust_train_526_jpg.rf.ec43041d6c5c9019463580d9605432c0.jpg: 448x640 2 leaf_rusts, 8.5ms\n",
      "image 884/1557 /workspace/Plant-Pathology-Anotation-7/train/images/rust_train_527_jpg.rf.c6a2c39d1fa10a0aeee560026fad85f6.jpg: 448x640 1 leaf_rust, 8.9ms\n",
      "image 885/1557 /workspace/Plant-Pathology-Anotation-7/train/images/rust_train_528_jpg.rf.a5417daea56b44ab5968dcb793967d1a.jpg: 448x640 1 leaf_rust, 8.3ms\n",
      "image 886/1557 /workspace/Plant-Pathology-Anotation-7/train/images/rust_train_529_jpg.rf.15e2ba167395369c231ac5ad5d932103.jpg: 448x640 1 leaf_rust, 8.2ms\n",
      "image 887/1557 /workspace/Plant-Pathology-Anotation-7/train/images/rust_train_530_jpg.rf.ba2e6db9d9ee0c24b0976014c2eb37e2.jpg: 448x640 2 leaf_rusts, 8.3ms\n",
      "image 888/1557 /workspace/Plant-Pathology-Anotation-7/train/images/rust_train_531_jpg.rf.2ef4d5472389cee7b5321b55830d1e9a.jpg: 448x640 1 leaf_rust, 9.3ms\n",
      "image 889/1557 /workspace/Plant-Pathology-Anotation-7/train/images/rust_train_532_jpg.rf.4431bb45d4e3c79b01f2579394f10035.jpg: 448x640 2 leaf_rusts, 8.4ms\n",
      "image 890/1557 /workspace/Plant-Pathology-Anotation-7/train/images/rust_train_533_jpg.rf.84656d65fd7a318d80cb624439d64174.jpg: 448x640 1 leaf_rust, 8.8ms\n",
      "image 891/1557 /workspace/Plant-Pathology-Anotation-7/train/images/rust_train_534_jpg.rf.55ca03b5c2f18edf8e781843f7a7970e.jpg: 448x640 1 leaf_rust, 8.8ms\n",
      "image 892/1557 /workspace/Plant-Pathology-Anotation-7/train/images/rust_train_535_jpg.rf.604bf96f2426cf72c92b6165f5e4514f.jpg: 448x640 2 leaf_rusts, 8.4ms\n",
      "image 893/1557 /workspace/Plant-Pathology-Anotation-7/train/images/rust_train_536_jpg.rf.ca4d0eaa0bc1d393b20ffc0c8d328749.jpg: 448x640 1 leaf_rust, 8.4ms\n",
      "image 894/1557 /workspace/Plant-Pathology-Anotation-7/train/images/rust_train_537_jpg.rf.d59e81f193fa8895230b7c9e6b084d92.jpg: 448x640 1 leaf_rust, 8.5ms\n",
      "image 895/1557 /workspace/Plant-Pathology-Anotation-7/train/images/rust_train_538_jpg.rf.09b1e9caa50946dc56638079d615e01b.jpg: 448x640 1 leaf_rust, 8.7ms\n",
      "image 896/1557 /workspace/Plant-Pathology-Anotation-7/train/images/rust_train_539_jpg.rf.a19853c3f31c0342a1ee902cfa1d6d60.jpg: 448x640 2 leaf_rusts, 9.6ms\n",
      "image 897/1557 /workspace/Plant-Pathology-Anotation-7/train/images/rust_train_53_jpg.rf.0a1a63a4b7c346b8fd367d0023d7608e.jpg: 448x640 2 leaf_rusts, 9.1ms\n",
      "image 898/1557 /workspace/Plant-Pathology-Anotation-7/train/images/rust_train_540_jpg.rf.9f1014d8a05a535b37ad18b80e4db7c2.jpg: 448x640 3 leaf_rusts, 9.2ms\n",
      "image 899/1557 /workspace/Plant-Pathology-Anotation-7/train/images/rust_train_541_jpg.rf.16ca2c8d8870ef21f8156a086556fd07.jpg: 448x640 2 leaf_rusts, 8.6ms\n",
      "image 900/1557 /workspace/Plant-Pathology-Anotation-7/train/images/rust_train_542_jpg.rf.0fdb514c78b185168acef76609a1ca6e.jpg: 448x640 1 leaf_rust, 9.3ms\n",
      "image 901/1557 /workspace/Plant-Pathology-Anotation-7/train/images/rust_train_544_jpg.rf.7225ac7850e931ea9306f8cd99a3a5c1.jpg: 448x640 1 leaf_rust, 9.2ms\n",
      "image 902/1557 /workspace/Plant-Pathology-Anotation-7/train/images/rust_train_545_jpg.rf.f3e862e90a0c6e9a0f456409ba9341e0.jpg: 448x640 1 leaf_rust, 8.6ms\n",
      "image 903/1557 /workspace/Plant-Pathology-Anotation-7/train/images/rust_train_546_jpg.rf.b0e5af9f4386f726cc69fa2fdf584d12.jpg: 448x640 1 leaf_rust, 8.6ms\n",
      "image 904/1557 /workspace/Plant-Pathology-Anotation-7/train/images/rust_train_547_jpg.rf.f322f155edf9058384390a1c5443da28.jpg: 448x640 2 leaf_rusts, 8.6ms\n",
      "image 905/1557 /workspace/Plant-Pathology-Anotation-7/train/images/rust_train_548_jpg.rf.db552295e69d1a36a7eda9e5f0118b55.jpg: 448x640 1 leaf_rust, 8.5ms\n",
      "image 906/1557 /workspace/Plant-Pathology-Anotation-7/train/images/rust_train_549_jpg.rf.ca87c8419fadf27c5d6d3688388dc225.jpg: 448x640 1 leaf_rust, 8.8ms\n",
      "image 907/1557 /workspace/Plant-Pathology-Anotation-7/train/images/rust_train_54_jpg.rf.8a4de89a516de0cfd2389d46b3acafdb.jpg: 448x640 1 leaf_rust, 8.6ms\n",
      "image 908/1557 /workspace/Plant-Pathology-Anotation-7/train/images/rust_train_550_jpg.rf.1d551ab2166d187e15df82ec2e366260.jpg: 448x640 1 leaf_rust, 9.0ms\n",
      "image 909/1557 /workspace/Plant-Pathology-Anotation-7/train/images/rust_train_551_jpg.rf.13980d4a3c34248482ebd65b7db8f6f5.jpg: 448x640 1 leaf_rust, 8.3ms\n",
      "image 910/1557 /workspace/Plant-Pathology-Anotation-7/train/images/rust_train_552_jpg.rf.3fae19541becfe16839f6048a2282b20.jpg: 448x640 1 leaf_rust, 8.3ms\n",
      "image 911/1557 /workspace/Plant-Pathology-Anotation-7/train/images/rust_train_554_jpg.rf.5e17383e9e71e766546248fd80a6d01b.jpg: 448x640 1 leaf_rust, 8.5ms\n",
      "image 912/1557 /workspace/Plant-Pathology-Anotation-7/train/images/rust_train_555_jpg.rf.b19b5de4de9f9cfbe3086b84ea97dcf4.jpg: 448x640 1 leaf_rust, 8.6ms\n",
      "image 913/1557 /workspace/Plant-Pathology-Anotation-7/train/images/rust_train_556_jpg.rf.2b29286ed92c7f4c02d5a215594cd0e3.jpg: 448x640 1 leaf_rust, 8.5ms\n",
      "image 914/1557 /workspace/Plant-Pathology-Anotation-7/train/images/rust_train_557_jpg.rf.9b5a9ecd499cd0f8b68cc114b8871be2.jpg: 448x640 2 leaf_rusts, 8.5ms\n",
      "image 915/1557 /workspace/Plant-Pathology-Anotation-7/train/images/rust_train_558_jpg.rf.af557c2e39fd0474bb60b2c1ebbd0f1f.jpg: 448x640 2 leaf_rusts, 9.0ms\n",
      "image 916/1557 /workspace/Plant-Pathology-Anotation-7/train/images/rust_train_559_jpg.rf.d94933036cfc088554962acc48f09a1e.jpg: 448x640 1 leaf_rust, 8.7ms\n",
      "image 917/1557 /workspace/Plant-Pathology-Anotation-7/train/images/rust_train_55_jpg.rf.3a5f7a9d13e5cf8464d0d85fabe47b10.jpg: 448x640 4 leaf_rusts, 8.3ms\n",
      "image 918/1557 /workspace/Plant-Pathology-Anotation-7/train/images/rust_train_560_jpg.rf.45f4313e5b5d43eb40fcc8fad8834d13.jpg: 448x640 2 leaf_rusts, 8.5ms\n",
      "image 919/1557 /workspace/Plant-Pathology-Anotation-7/train/images/rust_train_561_jpg.rf.cb42eee7d32ffdfd66f3979be722251f.jpg: 448x640 2 leaf_rusts, 9.1ms\n",
      "image 920/1557 /workspace/Plant-Pathology-Anotation-7/train/images/rust_train_562_jpg.rf.baede4a529a1594a0e534cef5d426c5c.jpg: 448x640 2 leaf_rusts, 8.4ms\n",
      "image 921/1557 /workspace/Plant-Pathology-Anotation-7/train/images/rust_train_563_jpg.rf.d9ae112cea367fbf6dab4365a9527896.jpg: 448x640 3 leaf_rusts, 8.6ms\n",
      "image 922/1557 /workspace/Plant-Pathology-Anotation-7/train/images/rust_train_564_jpg.rf.eb128448a467890ae03d6cf5ae601ea6.jpg: 448x640 2 leaf_rusts, 9.4ms\n",
      "image 923/1557 /workspace/Plant-Pathology-Anotation-7/train/images/rust_train_565_jpg.rf.4d6916541d1dd32cb03fd79a6d71b718.jpg: 448x640 1 leaf_rust, 8.6ms\n",
      "image 924/1557 /workspace/Plant-Pathology-Anotation-7/train/images/rust_train_566_jpg.rf.3ae5f67d0539fe0575724cd0fbf3b792.jpg: 448x640 1 leaf_rust, 8.3ms\n",
      "image 925/1557 /workspace/Plant-Pathology-Anotation-7/train/images/rust_train_567_jpg.rf.8e3def4d197bed27899c468729e72d32.jpg: 448x640 2 leaf_rusts, 8.5ms\n",
      "image 926/1557 /workspace/Plant-Pathology-Anotation-7/train/images/rust_train_568_jpg.rf.ee6cd415075641fb21c556612f59f488.jpg: 448x640 1 leaf_rust, 8.4ms\n",
      "image 927/1557 /workspace/Plant-Pathology-Anotation-7/train/images/rust_train_569_jpg.rf.93e342cdd1474b0ecc559c3c83644104.jpg: 448x640 1 leaf_rust, 8.6ms\n",
      "image 928/1557 /workspace/Plant-Pathology-Anotation-7/train/images/rust_train_56_jpg.rf.23ad9da2c4aeb5842c8eb6191989ed83.jpg: 448x640 4 leaf_rusts, 8.6ms\n",
      "image 929/1557 /workspace/Plant-Pathology-Anotation-7/train/images/rust_train_570_jpg.rf.e194e091065efd49c6557294e5ad8c17.jpg: 448x640 1 leaf_rust, 8.9ms\n",
      "image 930/1557 /workspace/Plant-Pathology-Anotation-7/train/images/rust_train_571_jpg.rf.d412345d280791e06808f4f63df21653.jpg: 448x640 1 leaf_rust, 8.6ms\n",
      "image 931/1557 /workspace/Plant-Pathology-Anotation-7/train/images/rust_train_572_jpg.rf.fa3ca0943de37164bf2433e6efba68c7.jpg: 448x640 1 leaf_rust, 9.0ms\n",
      "image 932/1557 /workspace/Plant-Pathology-Anotation-7/train/images/rust_train_573_jpg.rf.1331b55514f31c24f8fab58a8f808e3f.jpg: 448x640 1 leaf_rust, 8.4ms\n",
      "image 933/1557 /workspace/Plant-Pathology-Anotation-7/train/images/rust_train_574_jpg.rf.31f0179012dffb04ae9a511ed1f2052f.jpg: 448x640 1 leaf_rust, 8.3ms\n",
      "image 934/1557 /workspace/Plant-Pathology-Anotation-7/train/images/rust_train_575_jpg.rf.f4cc49c321477a6795573b881f4ab4db.jpg: 448x640 1 leaf_rust, 8.4ms\n",
      "image 935/1557 /workspace/Plant-Pathology-Anotation-7/train/images/rust_train_576_jpg.rf.639026d9e6d2e04a3f0aefb3c2bda198.jpg: 448x640 1 leaf_rust, 8.5ms\n",
      "image 936/1557 /workspace/Plant-Pathology-Anotation-7/train/images/rust_train_577_jpg.rf.e84cf3463878e622b94720f49aa2860b.jpg: 448x640 1 leaf_rust, 8.7ms\n",
      "image 937/1557 /workspace/Plant-Pathology-Anotation-7/train/images/rust_train_578_jpg.rf.f103829ae9f37c2d3501eff807761036.jpg: 448x640 1 leaf_rust, 8.5ms\n",
      "image 938/1557 /workspace/Plant-Pathology-Anotation-7/train/images/rust_train_579_jpg.rf.29aff421beadabc2d9e0b514d7e7ec9a.jpg: 448x640 1 leaf_rust, 8.6ms\n",
      "image 939/1557 /workspace/Plant-Pathology-Anotation-7/train/images/rust_train_57_jpg.rf.cad78c4f15c031691e9087539558ba5d.jpg: 448x640 2 leaf_rusts, 8.4ms\n",
      "image 940/1557 /workspace/Plant-Pathology-Anotation-7/train/images/rust_train_580_jpg.rf.abf321097262a1fa5258aecd6d15789b.jpg: 448x640 1 leaf_rust, 8.4ms\n",
      "image 941/1557 /workspace/Plant-Pathology-Anotation-7/train/images/rust_train_581_jpg.rf.3d62916e46443ba1628f59cbac133c84.jpg: 448x640 2 leaf_rusts, 8.6ms\n",
      "image 942/1557 /workspace/Plant-Pathology-Anotation-7/train/images/rust_train_582_jpg.rf.1fabae4f9bde7c0c170716fb3e76a997.jpg: 448x640 3 leaf_rusts, 8.3ms\n",
      "image 943/1557 /workspace/Plant-Pathology-Anotation-7/train/images/rust_train_583_jpg.rf.36a7e848e6b999b052f2062d7a37b17b.jpg: 448x640 1 leaf_rust, 9.4ms\n",
      "image 944/1557 /workspace/Plant-Pathology-Anotation-7/train/images/rust_train_584_jpg.rf.af9548840801404fe7e53e47d51a357b.jpg: 448x640 1 leaf_rust, 8.5ms\n",
      "image 945/1557 /workspace/Plant-Pathology-Anotation-7/train/images/rust_train_585_jpg.rf.1f15293c271a462a1c80fcc8a8b95816.jpg: 448x640 1 leaf_rust, 8.4ms\n",
      "image 946/1557 /workspace/Plant-Pathology-Anotation-7/train/images/rust_train_586_jpg.rf.c2ee09a8ffc78347e1c2b53bb094dc8e.jpg: 448x640 1 leaf_rust, 8.8ms\n",
      "image 947/1557 /workspace/Plant-Pathology-Anotation-7/train/images/rust_train_587_jpg.rf.d6d2e98ef386cf54a076c07d6d211a5e.jpg: 448x640 1 leaf_rust, 8.3ms\n",
      "image 948/1557 /workspace/Plant-Pathology-Anotation-7/train/images/rust_train_588_jpg.rf.a1e8f43a1621015f8f7211fcd5ad51a4.jpg: 448x640 1 leaf_rust, 8.3ms\n",
      "image 949/1557 /workspace/Plant-Pathology-Anotation-7/train/images/rust_train_589_jpg.rf.4113a4cb435545fa1be638406250a768.jpg: 448x640 1 leaf_rust, 8.3ms\n",
      "image 950/1557 /workspace/Plant-Pathology-Anotation-7/train/images/rust_train_58_jpg.rf.af576a39981e9d2f5fc2b8d837f03488.jpg: 448x640 1 leaf_rust, 8.5ms\n",
      "image 951/1557 /workspace/Plant-Pathology-Anotation-7/train/images/rust_train_590_jpg.rf.02d616930a509040f640a91cd972b6a3.jpg: 448x640 1 leaf_rust, 9.2ms\n",
      "image 952/1557 /workspace/Plant-Pathology-Anotation-7/train/images/rust_train_591_jpg.rf.bc89105d1e4dd26bfb62622587b2bb9b.jpg: 448x640 2 leaf_rusts, 8.5ms\n",
      "image 953/1557 /workspace/Plant-Pathology-Anotation-7/train/images/rust_train_592_jpg.rf.52bc3d1b5af13f52d03ca2890fc788b8.jpg: 448x640 2 leaf_rusts, 8.5ms\n",
      "image 954/1557 /workspace/Plant-Pathology-Anotation-7/train/images/rust_train_593_jpg.rf.d67814c809067302181156637a50ec0d.jpg: 448x640 2 leaf_rusts, 8.7ms\n",
      "image 955/1557 /workspace/Plant-Pathology-Anotation-7/train/images/rust_train_594_jpg.rf.9fe3e1477742cc4203113e347a94380c.jpg: 448x640 1 leaf_rust, 8.4ms\n",
      "image 956/1557 /workspace/Plant-Pathology-Anotation-7/train/images/rust_train_595_jpg.rf.919f1906b8f6f8d1d76fdd042375b347.jpg: 448x640 1 leaf_rust, 8.5ms\n",
      "image 957/1557 /workspace/Plant-Pathology-Anotation-7/train/images/rust_train_596_jpg.rf.16886ef4223928c3d29d7631db5bd864.jpg: 448x640 1 leaf_rust, 8.6ms\n",
      "image 958/1557 /workspace/Plant-Pathology-Anotation-7/train/images/rust_train_597_jpg.rf.31bb440544e3dd1958ac0e962b6f3c3b.jpg: 448x640 1 leaf_rust, 8.6ms\n",
      "image 959/1557 /workspace/Plant-Pathology-Anotation-7/train/images/rust_train_598_jpg.rf.71f7f0cf3d159b1a79897c8645e4e86d.jpg: 448x640 1 leaf_rust, 8.9ms\n",
      "image 960/1557 /workspace/Plant-Pathology-Anotation-7/train/images/rust_train_599_jpg.rf.eba2f38e948c7412e85c1cb51622e46b.jpg: 448x640 2 leaf_rusts, 8.8ms\n",
      "image 961/1557 /workspace/Plant-Pathology-Anotation-7/train/images/rust_train_59_jpg.rf.659847362510546a8af267537f8326ad.jpg: 448x640 2 leaf_rusts, 8.5ms\n",
      "image 962/1557 /workspace/Plant-Pathology-Anotation-7/train/images/rust_train_600_jpg.rf.93ca4c7cb636a782d5f626dcb19c1bc1.jpg: 448x640 1 leaf_rust, 8.5ms\n",
      "image 963/1557 /workspace/Plant-Pathology-Anotation-7/train/images/rust_train_601_jpg.rf.bc2b787eb02ca0e46f3419be6828686a.jpg: 448x640 1 leaf_rust, 8.6ms\n",
      "image 964/1557 /workspace/Plant-Pathology-Anotation-7/train/images/rust_train_602_jpg.rf.a5952fabe6c1df28cc74f6df7069d4c9.jpg: 448x640 1 leaf_rust, 8.4ms\n",
      "image 965/1557 /workspace/Plant-Pathology-Anotation-7/train/images/rust_train_603_jpg.rf.0c06c7f8538825202b418d591473fa88.jpg: 448x640 2 leaf_rusts, 8.4ms\n",
      "image 966/1557 /workspace/Plant-Pathology-Anotation-7/train/images/rust_train_604_jpg.rf.c10472f5b932d7e51f403033d69f92cb.jpg: 448x640 1 leaf_rust, 8.5ms\n",
      "image 967/1557 /workspace/Plant-Pathology-Anotation-7/train/images/rust_train_605_jpg.rf.2af84c5391f3ef1e72885c45731a7900.jpg: 448x640 1 leaf_rust, 8.8ms\n",
      "image 968/1557 /workspace/Plant-Pathology-Anotation-7/train/images/rust_train_606_jpg.rf.deb678d8999f5e9f2cbc2d0fe2b48030.jpg: 448x640 1 leaf_rust, 9.1ms\n",
      "image 969/1557 /workspace/Plant-Pathology-Anotation-7/train/images/rust_train_607_jpg.rf.75b3f640984125ff476a8998f87892ca.jpg: 448x640 1 leaf_rust, 8.8ms\n",
      "image 970/1557 /workspace/Plant-Pathology-Anotation-7/train/images/rust_train_608_jpg.rf.5f7c57aabb7f3033b08a4f074418aead.jpg: 448x640 3 leaf_rusts, 9.1ms\n",
      "image 971/1557 /workspace/Plant-Pathology-Anotation-7/train/images/rust_train_609_jpg.rf.c6f2d12354c2d13b6c983524ee1e3b4d.jpg: 448x640 1 leaf_rust, 8.5ms\n",
      "image 972/1557 /workspace/Plant-Pathology-Anotation-7/train/images/rust_train_60_jpg.rf.52f03a47df35f29bad9d4d06d9b1333b.jpg: 448x640 1 leaf_rust, 8.8ms\n",
      "image 973/1557 /workspace/Plant-Pathology-Anotation-7/train/images/rust_train_610_jpg.rf.b3bf5da71f07b59828d0172f618ff324.jpg: 448x640 2 leaf_rusts, 8.3ms\n",
      "image 974/1557 /workspace/Plant-Pathology-Anotation-7/train/images/rust_train_611_jpg.rf.605d239ee34be792c169fb3a00144c1c.jpg: 448x640 2 leaf_rusts, 8.9ms\n",
      "image 975/1557 /workspace/Plant-Pathology-Anotation-7/train/images/rust_train_612_jpg.rf.01772e715526d41ea71ed07cd5a32113.jpg: 448x640 1 leaf_rust, 8.5ms\n",
      "image 976/1557 /workspace/Plant-Pathology-Anotation-7/train/images/rust_train_613_jpg.rf.f4c7e0f7776a84fe7beeb8dfec022a24.jpg: 448x640 1 leaf_rust, 9.4ms\n",
      "image 977/1557 /workspace/Plant-Pathology-Anotation-7/train/images/rust_train_614_jpg.rf.9c5dd1d5402614af40607c4e76a3ad67.jpg: 448x640 1 leaf_rust, 8.4ms\n",
      "image 978/1557 /workspace/Plant-Pathology-Anotation-7/train/images/rust_train_615_jpg.rf.3c06bd0ef7b7eebc067a2e5164c8b32f.jpg: 448x640 1 leaf_rust, 8.6ms\n",
      "image 979/1557 /workspace/Plant-Pathology-Anotation-7/train/images/rust_train_617_jpg.rf.f29fab94e7feb2a57f10308047b7e0c5.jpg: 448x640 4 leaf_rusts, 8.7ms\n",
      "image 980/1557 /workspace/Plant-Pathology-Anotation-7/train/images/rust_train_618_jpg.rf.4769a174224accaffb8329e45cf2241d.jpg: 448x640 1 leaf_rust, 8.5ms\n",
      "image 981/1557 /workspace/Plant-Pathology-Anotation-7/train/images/rust_train_619_jpg.rf.e010d25c8d4e7bfdbc06c6ac563e1ab5.jpg: 448x640 2 leaf_rusts, 8.7ms\n",
      "image 982/1557 /workspace/Plant-Pathology-Anotation-7/train/images/rust_train_620_jpg.rf.cc78cabc16ff1f5208c0f7ab674f80bc.jpg: 448x640 2 leaf_rusts, 8.5ms\n",
      "image 983/1557 /workspace/Plant-Pathology-Anotation-7/train/images/rust_train_621_jpg.rf.f280662c255b0d52a158cacf3d0f287d.jpg: 448x640 2 leaf_rusts, 8.8ms\n",
      "image 984/1557 /workspace/Plant-Pathology-Anotation-7/train/images/rust_train_622_jpg.rf.9ef5641f19d260e735bb4f08fcec1cb7.jpg: 448x640 1 leaf_rust, 8.6ms\n",
      "image 985/1557 /workspace/Plant-Pathology-Anotation-7/train/images/rust_train_62_jpg.rf.8715040e156c7bef88f09a0e567a5f2b.jpg: 448x640 1 leaf_rust, 9.2ms\n",
      "image 986/1557 /workspace/Plant-Pathology-Anotation-7/train/images/rust_train_63_jpg.rf.8baaa6ecfe75c15acbf41de7e213d34a.jpg: 448x640 1 leaf_rust, 8.4ms\n",
      "image 987/1557 /workspace/Plant-Pathology-Anotation-7/train/images/rust_train_64_jpg.rf.58dfc94f1c3bd81561c30877f57bc9f9.jpg: 448x640 1 leaf_rust, 8.4ms\n",
      "image 988/1557 /workspace/Plant-Pathology-Anotation-7/train/images/rust_train_65_jpg.rf.a5f1e54fb88c4cdbad36792a8069563e.jpg: 448x640 1 leaf_rust, 8.8ms\n",
      "image 989/1557 /workspace/Plant-Pathology-Anotation-7/train/images/rust_train_66_jpg.rf.15eba380a79f629eef4cdca9a934787f.jpg: 448x640 1 leaf_rust, 8.6ms\n",
      "image 990/1557 /workspace/Plant-Pathology-Anotation-7/train/images/rust_train_67_jpg.rf.5db6e770e604754a1980ec8ee8fefd61.jpg: 448x640 1 leaf_rust, 8.5ms\n",
      "image 991/1557 /workspace/Plant-Pathology-Anotation-7/train/images/rust_train_68_jpg.rf.1789a61a47f83319fe64762212e74753.jpg: 448x640 2 leaf_rusts, 8.3ms\n",
      "image 992/1557 /workspace/Plant-Pathology-Anotation-7/train/images/rust_train_69_jpg.rf.fdfaf0652198a34984b51e8544ed408b.jpg: 448x640 1 leaf_rust, 8.8ms\n",
      "image 993/1557 /workspace/Plant-Pathology-Anotation-7/train/images/rust_train_6_jpg.rf.5fd5465c1a07bcdc473d744460720e45.jpg: 448x640 1 leaf_rust, 8.6ms\n",
      "image 994/1557 /workspace/Plant-Pathology-Anotation-7/train/images/rust_train_70_jpg.rf.f1eb48e45eae6c71db8e7c3af5417f26.jpg: 448x640 2 leaf_rusts, 8.8ms\n",
      "image 995/1557 /workspace/Plant-Pathology-Anotation-7/train/images/rust_train_71_jpg.rf.0378480861b0cfda6afa13b68f64d1c2.jpg: 448x640 1 leaf_rust, 8.5ms\n",
      "image 996/1557 /workspace/Plant-Pathology-Anotation-7/train/images/rust_train_72_jpg.rf.201f2ea7fb1fbfc784a9d5a635d2896b.jpg: 448x640 1 leaf_rust, 8.5ms\n",
      "image 997/1557 /workspace/Plant-Pathology-Anotation-7/train/images/rust_train_73_jpg.rf.801d730eeb5eb8bcda395c5ad062bfc4.jpg: 448x640 1 leaf_rust, 8.5ms\n",
      "image 998/1557 /workspace/Plant-Pathology-Anotation-7/train/images/rust_train_74_jpg.rf.d306a729dcea9063acba9a2cd4fafdf7.jpg: 448x640 1 leaf_rust, 8.4ms\n",
      "image 999/1557 /workspace/Plant-Pathology-Anotation-7/train/images/rust_train_75_jpg.rf.01f220ee773fcffe2c14d7f8706f58f2.jpg: 448x640 1 leaf_rust, 8.2ms\n",
      "image 1000/1557 /workspace/Plant-Pathology-Anotation-7/train/images/rust_train_76_jpg.rf.25904af89c334a42a34b4d5723afedf2.jpg: 448x640 2 leaf_rusts, 8.2ms\n",
      "image 1001/1557 /workspace/Plant-Pathology-Anotation-7/train/images/rust_train_77_jpg.rf.3a45a034df107e76821a66e8f131c0ba.jpg: 448x640 1 leaf_rust, 8.4ms\n",
      "image 1002/1557 /workspace/Plant-Pathology-Anotation-7/train/images/rust_train_78_jpg.rf.81a93cec7539470399f188f6147ad45a.jpg: 448x640 2 leaf_rusts, 8.5ms\n",
      "image 1003/1557 /workspace/Plant-Pathology-Anotation-7/train/images/rust_train_7_jpg.rf.7bf580afe103459d7a16e6b51a306082.jpg: 448x640 2 leaf_rusts, 8.4ms\n",
      "image 1004/1557 /workspace/Plant-Pathology-Anotation-7/train/images/rust_train_80_jpg.rf.e8e97210bc59403a800bd080cebc70f0.jpg: 448x640 2 leaf_rusts, 9.0ms\n",
      "image 1005/1557 /workspace/Plant-Pathology-Anotation-7/train/images/rust_train_81_jpg.rf.00b13d3c670728879a117d9e12b46cdd.jpg: 448x640 1 leaf_rust, 8.5ms\n",
      "image 1006/1557 /workspace/Plant-Pathology-Anotation-7/train/images/rust_train_82_jpg.rf.07eee06d96b3e22a49baed397edeb8ef.jpg: 448x640 1 leaf_rust, 8.7ms\n",
      "image 1007/1557 /workspace/Plant-Pathology-Anotation-7/train/images/rust_train_84_jpg.rf.f1ed163a76e774e258037404d54c1db4.jpg: 448x640 2 leaf_rusts, 8.4ms\n",
      "image 1008/1557 /workspace/Plant-Pathology-Anotation-7/train/images/rust_train_85_jpg.rf.478f9dd7ca7911c000616b74dc50e07a.jpg: 448x640 4 leaf_rusts, 8.4ms\n",
      "image 1009/1557 /workspace/Plant-Pathology-Anotation-7/train/images/rust_train_86_jpg.rf.e6fcc809f58e3f6f3afff405f659bcc8.jpg: 448x640 1 leaf_rust, 8.8ms\n",
      "image 1010/1557 /workspace/Plant-Pathology-Anotation-7/train/images/rust_train_87_jpg.rf.d3c2fe3088318117d63c6921ed215e19.jpg: 448x640 1 leaf_rust, 8.3ms\n",
      "image 1011/1557 /workspace/Plant-Pathology-Anotation-7/train/images/rust_train_88_jpg.rf.10869513ffc39da1f32328183049eb2e.jpg: 448x640 1 leaf_rust, 8.7ms\n",
      "image 1012/1557 /workspace/Plant-Pathology-Anotation-7/train/images/rust_train_89_jpg.rf.4f31c7380f5c6c18f01f2c1fc65d5038.jpg: 448x640 1 leaf_rust, 8.3ms\n",
      "image 1013/1557 /workspace/Plant-Pathology-Anotation-7/train/images/rust_train_8_jpg.rf.099dc33e3913f02bedbd972f55b9091f.jpg: 448x640 1 leaf_rust, 8.4ms\n",
      "image 1014/1557 /workspace/Plant-Pathology-Anotation-7/train/images/rust_train_90_jpg.rf.db4a2878a2dddad14a08660510435bbe.jpg: 448x640 2 leaf_rusts, 8.3ms\n",
      "image 1015/1557 /workspace/Plant-Pathology-Anotation-7/train/images/rust_train_91_jpg.rf.9baf04bc89f4ec33b942e293ec087d95.jpg: 448x640 1 leaf_rust, 8.3ms\n",
      "image 1016/1557 /workspace/Plant-Pathology-Anotation-7/train/images/rust_train_92_jpg.rf.524fedfb479a4569428ed0a0f9a02551.jpg: 448x640 1 leaf_rust, 8.5ms\n",
      "image 1017/1557 /workspace/Plant-Pathology-Anotation-7/train/images/rust_train_93_jpg.rf.f4dcb2d38e7886ebaa3225e77b6fbfbb.jpg: 448x640 5 leaf_rusts, 8.4ms\n",
      "image 1018/1557 /workspace/Plant-Pathology-Anotation-7/train/images/rust_train_94_jpg.rf.720252f437cbf654a9901661fe694a54.jpg: 448x640 1 leaf_rust, 8.5ms\n",
      "image 1019/1557 /workspace/Plant-Pathology-Anotation-7/train/images/rust_train_95_jpg.rf.99ad52aeeacefa8f7a02dd020992e7cf.jpg: 448x640 1 leaf_rust, 8.5ms\n",
      "image 1020/1557 /workspace/Plant-Pathology-Anotation-7/train/images/rust_train_96_jpg.rf.35dcbecb819e0dd3d3694768463aabec.jpg: 448x640 1 leaf_rust, 9.5ms\n",
      "image 1021/1557 /workspace/Plant-Pathology-Anotation-7/train/images/rust_train_97_jpg.rf.91e23d0ff914ce9444b03a45cd257c22.jpg: 448x640 1 leaf_rust, 8.7ms\n",
      "image 1022/1557 /workspace/Plant-Pathology-Anotation-7/train/images/rust_train_98_jpg.rf.9c048c7948a25f8230a7dce340f45260.jpg: 448x640 2 leaf_rusts, 8.6ms\n",
      "image 1023/1557 /workspace/Plant-Pathology-Anotation-7/train/images/rust_train_99_jpg.rf.ce5f7fb85752f5c31b62e71bb6d44f00.jpg: 448x640 1 leaf_rust, 8.5ms\n",
      "image 1024/1557 /workspace/Plant-Pathology-Anotation-7/train/images/rust_train_9_jpg.rf.63dc0252b1e07c53f9fd84161d2cf936.jpg: 448x640 1 leaf_rust, 9.1ms\n",
      "image 1025/1557 /workspace/Plant-Pathology-Anotation-7/train/images/scab_train_101_jpg.rf.f68944bbdb4b084ec228130bbd92782c.jpg: 448x640 1 leaf_scab, 8.3ms\n",
      "image 1026/1557 /workspace/Plant-Pathology-Anotation-7/train/images/scab_train_102_jpg.rf.30fca8f8523d5dfbd7b0c99dd941d0f4.jpg: 448x640 1 leaf_scab, 8.3ms\n",
      "image 1027/1557 /workspace/Plant-Pathology-Anotation-7/train/images/scab_train_104_jpg.rf.741c65ac96ebcbb77f77435c67fafce1.jpg: 448x640 1 leaf_scab, 8.5ms\n",
      "image 1028/1557 /workspace/Plant-Pathology-Anotation-7/train/images/scab_train_105_jpg.rf.6d6efc09a2fd1594e24b9e99c1d1ab96.jpg: 448x640 1 leaf_healthy, 1 leaf_scab, 8.4ms\n",
      "image 1029/1557 /workspace/Plant-Pathology-Anotation-7/train/images/scab_train_106_jpg.rf.c98d83d6aabf4d617948183b2dc7278f.jpg: 448x640 1 leaf_scab, 8.6ms\n",
      "image 1030/1557 /workspace/Plant-Pathology-Anotation-7/train/images/scab_train_107_jpg.rf.c1a1bc68fe4e59d32578785df337fbc7.jpg: 448x640 1 leaf_scab, 8.7ms\n",
      "image 1031/1557 /workspace/Plant-Pathology-Anotation-7/train/images/scab_train_108_jpg.rf.54beb5a055da210a4c06db9cd98ff8a2.jpg: 448x640 1 leaf_scab, 8.9ms\n",
      "image 1032/1557 /workspace/Plant-Pathology-Anotation-7/train/images/scab_train_109_jpg.rf.96fb194419d32bc3e360297413f43c6e.jpg: 448x640 1 leaf_scab, 8.6ms\n",
      "image 1033/1557 /workspace/Plant-Pathology-Anotation-7/train/images/scab_train_10_jpg.rf.b55573501d3187d24bcabb04926940e7.jpg: 448x640 1 leaf_scab, 8.6ms\n",
      "image 1034/1557 /workspace/Plant-Pathology-Anotation-7/train/images/scab_train_110_jpg.rf.9089b01d1210e9c73975ce873b995073.jpg: 448x640 1 leaf_scab, 8.7ms\n",
      "image 1035/1557 /workspace/Plant-Pathology-Anotation-7/train/images/scab_train_111_jpg.rf.30682a7975a8bacd0b658a31bb7a6acd.jpg: 448x640 2 leaf_scabs, 8.6ms\n",
      "image 1036/1557 /workspace/Plant-Pathology-Anotation-7/train/images/scab_train_112_jpg.rf.68aab91b29cf363664a7a0c3ea58a445.jpg: 448x640 1 leaf_scab, 8.4ms\n",
      "image 1037/1557 /workspace/Plant-Pathology-Anotation-7/train/images/scab_train_113_jpg.rf.90161ac2b8801b20ba8313b79e94d015.jpg: 448x640 1 leaf_scab, 8.8ms\n",
      "image 1038/1557 /workspace/Plant-Pathology-Anotation-7/train/images/scab_train_114_jpg.rf.3fdb82aa9852c784741d106abcb7f1a7.jpg: 448x640 1 leaf_scab, 8.3ms\n",
      "image 1039/1557 /workspace/Plant-Pathology-Anotation-7/train/images/scab_train_115_jpg.rf.967eedea8a34d86e5941ff8fa8b0234e.jpg: 448x640 1 leaf_scab, 8.8ms\n",
      "image 1040/1557 /workspace/Plant-Pathology-Anotation-7/train/images/scab_train_116_jpg.rf.6c008635049605f154591efb9b33dca2.jpg: 448x640 1 leaf_scab, 8.4ms\n",
      "image 1041/1557 /workspace/Plant-Pathology-Anotation-7/train/images/scab_train_117_jpg.rf.fcb334c766f333e18736f308398061c9.jpg: 448x640 1 leaf_scab, 8.9ms\n",
      "image 1042/1557 /workspace/Plant-Pathology-Anotation-7/train/images/scab_train_118_jpg.rf.e8ea60194874203b4534f37f4b1eb7d3.jpg: 448x640 1 leaf_scab, 8.6ms\n",
      "image 1043/1557 /workspace/Plant-Pathology-Anotation-7/train/images/scab_train_119_jpg.rf.6e24c8521d8faef59b84a8ec0f162574.jpg: 448x640 1 leaf_scab, 8.8ms\n",
      "image 1044/1557 /workspace/Plant-Pathology-Anotation-7/train/images/scab_train_11_jpg.rf.096f1d717410f854f13fe96d8f624801.jpg: 448x640 1 leaf_scab, 8.5ms\n",
      "image 1045/1557 /workspace/Plant-Pathology-Anotation-7/train/images/scab_train_120_jpg.rf.7b3343c2e057313e8650d66da3786010.jpg: 448x640 1 leaf_healthy, 1 leaf_scab, 8.5ms\n",
      "image 1046/1557 /workspace/Plant-Pathology-Anotation-7/train/images/scab_train_121_jpg.rf.4b77c3932dd1a659b6398fbf8fb67c17.jpg: 448x640 1 leaf_scab, 8.4ms\n",
      "image 1047/1557 /workspace/Plant-Pathology-Anotation-7/train/images/scab_train_123_jpg.rf.0bb53754cd74de9aa2a886f634b535bd.jpg: 448x640 1 leaf_scab, 8.5ms\n",
      "image 1048/1557 /workspace/Plant-Pathology-Anotation-7/train/images/scab_train_125_jpg.rf.4b946648d0e03dd7466ee5c83f828b5b.jpg: 448x640 1 leaf_scab, 8.5ms\n",
      "image 1049/1557 /workspace/Plant-Pathology-Anotation-7/train/images/scab_train_126_jpg.rf.993f428492fc7ef26a6c8c5a6b4653be.jpg: 448x640 1 leaf_scab, 8.3ms\n",
      "image 1050/1557 /workspace/Plant-Pathology-Anotation-7/train/images/scab_train_127_jpg.rf.b170cd5093626a2abddaa96142dd59f6.jpg: 448x640 1 leaf_scab, 8.4ms\n",
      "image 1051/1557 /workspace/Plant-Pathology-Anotation-7/train/images/scab_train_128_jpg.rf.bb6b26e6df574c5c50940194c17ce275.jpg: 448x640 1 leaf_scab, 8.5ms\n",
      "image 1052/1557 /workspace/Plant-Pathology-Anotation-7/train/images/scab_train_129_jpg.rf.51c36ac34de25b1f85de2bda1f208494.jpg: 448x640 1 leaf_scab, 8.5ms\n",
      "image 1053/1557 /workspace/Plant-Pathology-Anotation-7/train/images/scab_train_12_jpg.rf.9c48453ad52748f43582bea16d08291f.jpg: 448x640 1 leaf_scab, 8.6ms\n",
      "image 1054/1557 /workspace/Plant-Pathology-Anotation-7/train/images/scab_train_130_jpg.rf.e8c2c4b1987181021fd83095cd8eaf2d.jpg: 448x640 1 leaf_scab, 8.3ms\n",
      "image 1055/1557 /workspace/Plant-Pathology-Anotation-7/train/images/scab_train_131_jpg.rf.71ded3e89a6f2a3a677b1478c44656eb.jpg: 448x640 1 leaf_scab, 8.4ms\n",
      "image 1056/1557 /workspace/Plant-Pathology-Anotation-7/train/images/scab_train_132_jpg.rf.1a820066de4c0ef7817496605aeaee0c.jpg: 448x640 1 leaf_scab, 8.4ms\n",
      "image 1057/1557 /workspace/Plant-Pathology-Anotation-7/train/images/scab_train_133_jpg.rf.ed83a94493b14ea2235ba3afc664adba.jpg: 448x640 1 leaf_scab, 8.5ms\n",
      "image 1058/1557 /workspace/Plant-Pathology-Anotation-7/train/images/scab_train_134_jpg.rf.c69e3aa6670a44636d3959ba3bf87c92.jpg: 448x640 2 leaf_scabs, 8.4ms\n",
      "image 1059/1557 /workspace/Plant-Pathology-Anotation-7/train/images/scab_train_135_jpg.rf.a3bda3966a4e2d585feb5aad1c22b23a.jpg: 448x640 1 leaf_scab, 8.3ms\n",
      "image 1060/1557 /workspace/Plant-Pathology-Anotation-7/train/images/scab_train_136_jpg.rf.0fc5a9e7472be7c985b962a954d4ccdb.jpg: 448x640 1 leaf_scab, 11.2ms\n",
      "image 1061/1557 /workspace/Plant-Pathology-Anotation-7/train/images/scab_train_137_jpg.rf.4a89915430322fdf7f1455be9ea47d1f.jpg: 448x640 1 leaf_scab, 8.4ms\n",
      "image 1062/1557 /workspace/Plant-Pathology-Anotation-7/train/images/scab_train_138_jpg.rf.6e63263420fc68636f2cdc797a45d6cf.jpg: 448x640 1 leaf_scab, 8.4ms\n",
      "image 1063/1557 /workspace/Plant-Pathology-Anotation-7/train/images/scab_train_140_jpg.rf.e32750b8ee042b1808707a21e525f664.jpg: 448x640 1 leaf_scab, 8.7ms\n",
      "image 1064/1557 /workspace/Plant-Pathology-Anotation-7/train/images/scab_train_141_jpg.rf.de03ec618c2888f54045f34f394ab24b.jpg: 448x640 1 leaf_scab, 8.4ms\n",
      "image 1065/1557 /workspace/Plant-Pathology-Anotation-7/train/images/scab_train_142_jpg.rf.7a828a24e03458f191d3605af6039614.jpg: 448x640 3 leaf_scabs, 8.4ms\n",
      "image 1066/1557 /workspace/Plant-Pathology-Anotation-7/train/images/scab_train_143_jpg.rf.8e1d31a56d9313944400a470867b3d41.jpg: 448x640 1 leaf_scab, 8.5ms\n",
      "image 1067/1557 /workspace/Plant-Pathology-Anotation-7/train/images/scab_train_144_jpg.rf.33ac7fd9d56af522b524e77f9d47f33c.jpg: 448x640 1 leaf_scab, 8.4ms\n",
      "image 1068/1557 /workspace/Plant-Pathology-Anotation-7/train/images/scab_train_145_jpg.rf.b3d9e15b3f65d6a098a1301ed50b3371.jpg: 448x640 1 leaf_scab, 8.4ms\n",
      "image 1069/1557 /workspace/Plant-Pathology-Anotation-7/train/images/scab_train_146_jpg.rf.fcc468470ceeea7a644ebd0f7d3f80df.jpg: 448x640 2 leaf_scabs, 8.4ms\n",
      "image 1070/1557 /workspace/Plant-Pathology-Anotation-7/train/images/scab_train_147_jpg.rf.dd1f706d5d0d4c5993c7cc9623c0b62e.jpg: 448x640 3 leaf_scabs, 8.4ms\n",
      "image 1071/1557 /workspace/Plant-Pathology-Anotation-7/train/images/scab_train_148_jpg.rf.e9ed4a0a0e7cdd8d921876a135991cfb.jpg: 448x640 2 leaf_scabs, 9.1ms\n",
      "image 1072/1557 /workspace/Plant-Pathology-Anotation-7/train/images/scab_train_149_jpg.rf.1bd2f20dc731437f864a47b01e7533de.jpg: 448x640 1 leaf_scab, 8.6ms\n",
      "image 1073/1557 /workspace/Plant-Pathology-Anotation-7/train/images/scab_train_14_jpg.rf.b6258dbd2c9d141f4e8148dfa8226741.jpg: 448x640 1 leaf_scab, 8.7ms\n",
      "image 1074/1557 /workspace/Plant-Pathology-Anotation-7/train/images/scab_train_150_jpg.rf.0310c57f6eeb5afc39517ff11ef523a1.jpg: 448x640 1 leaf_scab, 8.6ms\n",
      "image 1075/1557 /workspace/Plant-Pathology-Anotation-7/train/images/scab_train_151_jpg.rf.9473b1cc92c979f17b74bd22c858f8e2.jpg: 448x640 1 leaf_scab, 8.4ms\n",
      "image 1076/1557 /workspace/Plant-Pathology-Anotation-7/train/images/scab_train_152_jpg.rf.0b49b646ce0111fe2f1ecd1e4fd5a64f.jpg: 448x640 1 leaf_scab, 8.6ms\n",
      "image 1077/1557 /workspace/Plant-Pathology-Anotation-7/train/images/scab_train_153_jpg.rf.fdd2407ffa467da07c4181d1536abede.jpg: 448x640 1 leaf_scab, 8.6ms\n",
      "image 1078/1557 /workspace/Plant-Pathology-Anotation-7/train/images/scab_train_154_jpg.rf.02f232907c41199ce5af5b5b7e3935b2.jpg: 448x640 1 leaf_scab, 8.3ms\n",
      "image 1079/1557 /workspace/Plant-Pathology-Anotation-7/train/images/scab_train_155_jpg.rf.fef74d47ebad7bc61c9d75719d0ce14c.jpg: 448x640 1 leaf_scab, 8.4ms\n",
      "image 1080/1557 /workspace/Plant-Pathology-Anotation-7/train/images/scab_train_156_jpg.rf.cedb41b82f51bfc39592d8bc81e0b93b.jpg: 448x640 1 leaf_scab, 8.7ms\n",
      "image 1081/1557 /workspace/Plant-Pathology-Anotation-7/train/images/scab_train_157_jpg.rf.24d145c6a691f335515108488784fa29.jpg: 448x640 1 leaf_scab, 8.7ms\n",
      "image 1082/1557 /workspace/Plant-Pathology-Anotation-7/train/images/scab_train_158_jpg.rf.634d4c44c4faecf1f20ad4f53ac58c63.jpg: 448x640 1 leaf_scab, 8.6ms\n",
      "image 1083/1557 /workspace/Plant-Pathology-Anotation-7/train/images/scab_train_159_jpg.rf.58632428cf48a96d33a6307b43f1fe01.jpg: 448x640 2 leaf_scabs, 8.8ms\n",
      "image 1084/1557 /workspace/Plant-Pathology-Anotation-7/train/images/scab_train_15_jpg.rf.8fb0fd259a9eb4d6b60810cf2b01143f.jpg: 448x640 2 leaf_scabs, 8.5ms\n",
      "image 1085/1557 /workspace/Plant-Pathology-Anotation-7/train/images/scab_train_160_jpg.rf.c7fc1175134488981dc3805354598c06.jpg: 448x640 1 leaf_scab, 9.2ms\n",
      "image 1086/1557 /workspace/Plant-Pathology-Anotation-7/train/images/scab_train_162_jpg.rf.7cbdc541a17356a7a623e8ce29b9292b.jpg: 448x640 1 leaf_scab, 8.7ms\n",
      "image 1087/1557 /workspace/Plant-Pathology-Anotation-7/train/images/scab_train_163_jpg.rf.713f63d715cc97f9c94da05ec06f7eb3.jpg: 448x640 1 leaf_scab, 8.6ms\n",
      "image 1088/1557 /workspace/Plant-Pathology-Anotation-7/train/images/scab_train_164_jpg.rf.85d2d361840c96a0e458d246ddc15b0e.jpg: 448x640 1 leaf_scab, 8.6ms\n",
      "image 1089/1557 /workspace/Plant-Pathology-Anotation-7/train/images/scab_train_165_jpg.rf.88fd43e42bccdfb750ae8b7b94537bed.jpg: 448x640 1 leaf_scab, 8.5ms\n",
      "image 1090/1557 /workspace/Plant-Pathology-Anotation-7/train/images/scab_train_166_jpg.rf.c4e74670fe803e8caabd9d1e9c8b7e9c.jpg: 448x640 1 leaf_scab, 8.5ms\n",
      "image 1091/1557 /workspace/Plant-Pathology-Anotation-7/train/images/scab_train_167_jpg.rf.afd9e80b7d180300aa6b313387567b8c.jpg: 448x640 1 leaf_scab, 8.6ms\n",
      "image 1092/1557 /workspace/Plant-Pathology-Anotation-7/train/images/scab_train_169_jpg.rf.15d12e38bebf5a4f5c66a81f5f516581.jpg: 448x640 2 leaf_scabs, 8.6ms\n",
      "image 1093/1557 /workspace/Plant-Pathology-Anotation-7/train/images/scab_train_16_jpg.rf.32a65f9500c052ae70f58ec2bc82929e.jpg: 448x640 1 leaf_scab, 8.4ms\n",
      "image 1094/1557 /workspace/Plant-Pathology-Anotation-7/train/images/scab_train_170_jpg.rf.7d7c2c89623444906e71935f2ab1cdbf.jpg: 448x640 1 leaf_scab, 8.7ms\n",
      "image 1095/1557 /workspace/Plant-Pathology-Anotation-7/train/images/scab_train_171_jpg.rf.52a5aa1ff6e8bb9094207e4a2183ef61.jpg: 448x640 1 leaf_scab, 8.7ms\n",
      "image 1096/1557 /workspace/Plant-Pathology-Anotation-7/train/images/scab_train_173_jpg.rf.e50fb6ec0ea12785bf7e6992bcd2a87c.jpg: 448x640 2 leaf_scabs, 8.5ms\n",
      "image 1097/1557 /workspace/Plant-Pathology-Anotation-7/train/images/scab_train_174_jpg.rf.36c6dda0d7b07f41c5ca779783e02c8a.jpg: 448x640 2 leaf_scabs, 8.5ms\n",
      "image 1098/1557 /workspace/Plant-Pathology-Anotation-7/train/images/scab_train_175_jpg.rf.1c455004cee370f4a56569d3a7b27af4.jpg: 448x640 1 leaf_scab, 9.3ms\n",
      "image 1099/1557 /workspace/Plant-Pathology-Anotation-7/train/images/scab_train_176_jpg.rf.c8dfb3160b15c0517f0511a0ae735e69.jpg: 448x640 1 leaf_scab, 8.5ms\n",
      "image 1100/1557 /workspace/Plant-Pathology-Anotation-7/train/images/scab_train_178_jpg.rf.ea3883d8579b3edfca18522576cedcc3.jpg: 448x640 1 leaf_scab, 8.6ms\n",
      "image 1101/1557 /workspace/Plant-Pathology-Anotation-7/train/images/scab_train_17_jpg.rf.6b1eb934c19fd6c39ae9b00a136c87cc.jpg: 448x640 1 leaf_scab, 8.7ms\n",
      "image 1102/1557 /workspace/Plant-Pathology-Anotation-7/train/images/scab_train_180_jpg.rf.a77a0d53d1d8b7a4eac8d1537d2711ae.jpg: 448x640 1 leaf_scab, 8.5ms\n",
      "image 1103/1557 /workspace/Plant-Pathology-Anotation-7/train/images/scab_train_181_jpg.rf.e217f6e2376d30b11cef2ef4d0e934d0.jpg: 448x640 1 leaf_scab, 9.0ms\n",
      "image 1104/1557 /workspace/Plant-Pathology-Anotation-7/train/images/scab_train_182_jpg.rf.f68ce5a8f6f857662abac0308ae7433d.jpg: 448x640 1 leaf_scab, 8.5ms\n",
      "image 1105/1557 /workspace/Plant-Pathology-Anotation-7/train/images/scab_train_183_jpg.rf.ee9c1cbca6b5770ab9a93ba1861a4187.jpg: 448x640 1 leaf_scab, 8.4ms\n",
      "image 1106/1557 /workspace/Plant-Pathology-Anotation-7/train/images/scab_train_184_jpg.rf.93c48c22acdcdd97635996a34c6005c8.jpg: 448x640 1 leaf_scab, 8.5ms\n",
      "image 1107/1557 /workspace/Plant-Pathology-Anotation-7/train/images/scab_train_185_jpg.rf.858fd3e52e0fb8ef0b7bd63f8973c8ae.jpg: 448x640 1 leaf_scab, 8.4ms\n",
      "image 1108/1557 /workspace/Plant-Pathology-Anotation-7/train/images/scab_train_186_jpg.rf.e4b41e581aad7abfe1adf3483b6f79a6.jpg: 448x640 1 leaf_scab, 8.7ms\n",
      "image 1109/1557 /workspace/Plant-Pathology-Anotation-7/train/images/scab_train_187_jpg.rf.859953923e6351f15d4fd16b293c1a4e.jpg: 448x640 1 leaf_scab, 8.7ms\n",
      "image 1110/1557 /workspace/Plant-Pathology-Anotation-7/train/images/scab_train_188_jpg.rf.3b0b1b69ed345ac23400f69865451103.jpg: 448x640 1 leaf_scab, 8.4ms\n",
      "image 1111/1557 /workspace/Plant-Pathology-Anotation-7/train/images/scab_train_189_jpg.rf.b705fb79c32805107ca97c0ad083c815.jpg: 448x640 2 leaf_scabs, 8.2ms\n",
      "image 1112/1557 /workspace/Plant-Pathology-Anotation-7/train/images/scab_train_18_jpg.rf.ff67408f42245f4f024c855f6b7698be.jpg: 448x640 1 leaf_scab, 8.9ms\n",
      "image 1113/1557 /workspace/Plant-Pathology-Anotation-7/train/images/scab_train_190_jpg.rf.dd197d31f105bbbd47bbd23185354252.jpg: 448x640 1 leaf_scab, 8.4ms\n",
      "image 1114/1557 /workspace/Plant-Pathology-Anotation-7/train/images/scab_train_191_jpg.rf.74f8740030a802409ad148f1c9d61fe6.jpg: 448x640 1 leaf_scab, 8.8ms\n",
      "image 1115/1557 /workspace/Plant-Pathology-Anotation-7/train/images/scab_train_192_jpg.rf.cd82a58ce2be01b24b424466ed29c552.jpg: 448x640 1 leaf_scab, 8.3ms\n",
      "image 1116/1557 /workspace/Plant-Pathology-Anotation-7/train/images/scab_train_193_jpg.rf.fd988dba79fc9cd97e82b83fb2739ab7.jpg: 448x640 1 leaf_scab, 8.2ms\n",
      "image 1117/1557 /workspace/Plant-Pathology-Anotation-7/train/images/scab_train_195_jpg.rf.4a39b7be5527668d3dae54495bfdae33.jpg: 448x640 1 leaf_scab, 7.9ms\n",
      "image 1118/1557 /workspace/Plant-Pathology-Anotation-7/train/images/scab_train_196_jpg.rf.335d1d279ec88f4aadab3628dd3fa227.jpg: 448x640 1 leaf_scab, 8.2ms\n",
      "image 1119/1557 /workspace/Plant-Pathology-Anotation-7/train/images/scab_train_197_jpg.rf.8b81fd1dfa9040424fb6908a26ef15b5.jpg: 448x640 1 leaf_scab, 8.1ms\n",
      "image 1120/1557 /workspace/Plant-Pathology-Anotation-7/train/images/scab_train_198_jpg.rf.a697b94ca68dabbc5b509da39699b85e.jpg: 448x640 1 leaf_scab, 8.2ms\n",
      "image 1121/1557 /workspace/Plant-Pathology-Anotation-7/train/images/scab_train_199_jpg.rf.23915573b12081718fbf5dcdc57792d6.jpg: 448x640 1 leaf_scab, 8.1ms\n",
      "image 1122/1557 /workspace/Plant-Pathology-Anotation-7/train/images/scab_train_19_jpg.rf.8e1b7fd53a1b111a9f6a7f6ecc683436.jpg: 448x640 1 leaf_scab, 10.1ms\n",
      "image 1123/1557 /workspace/Plant-Pathology-Anotation-7/train/images/scab_train_1_jpg.rf.99f1f6ba4e94ca64c25c9b3e4f8f7b50.jpg: 448x640 1 leaf_scab, 9.1ms\n",
      "image 1124/1557 /workspace/Plant-Pathology-Anotation-7/train/images/scab_train_200_jpg.rf.b699e8b250a2b99d89dadb0cbb245450.jpg: 448x640 1 leaf_scab, 8.2ms\n",
      "image 1125/1557 /workspace/Plant-Pathology-Anotation-7/train/images/scab_train_201_jpg.rf.16a91565d20def3790ef08482aded45c.jpg: 448x640 1 leaf_scab, 8.2ms\n",
      "image 1126/1557 /workspace/Plant-Pathology-Anotation-7/train/images/scab_train_202_jpg.rf.febefc3963784f10b7086993ea3cf0c9.jpg: 448x640 1 leaf_scab, 8.2ms\n",
      "image 1127/1557 /workspace/Plant-Pathology-Anotation-7/train/images/scab_train_205_jpg.rf.10ea88b23a40a70903ea6a0b071eff1a.jpg: 448x640 1 leaf_scab, 8.1ms\n",
      "image 1128/1557 /workspace/Plant-Pathology-Anotation-7/train/images/scab_train_206_jpg.rf.4c2376bd30be63862dc7a6e7411a56b5.jpg: 448x640 1 leaf_scab, 8.8ms\n",
      "image 1129/1557 /workspace/Plant-Pathology-Anotation-7/train/images/scab_train_207_jpg.rf.3f8e88cd2a4128291fcd7163671d2c49.jpg: 448x640 1 leaf_scab, 8.4ms\n",
      "image 1130/1557 /workspace/Plant-Pathology-Anotation-7/train/images/scab_train_208_jpg.rf.00ef268cf4b1fc50fc10f736760789dd.jpg: 448x640 1 leaf_scab, 8.3ms\n",
      "image 1131/1557 /workspace/Plant-Pathology-Anotation-7/train/images/scab_train_209_jpg.rf.891067c4c312127d621b0b5d47ed110d.jpg: 448x640 1 leaf_scab, 8.6ms\n",
      "image 1132/1557 /workspace/Plant-Pathology-Anotation-7/train/images/scab_train_20_jpg.rf.30ff0b479254b0ff27148b89628c0bd1.jpg: 448x640 1 leaf_scab, 8.4ms\n",
      "image 1133/1557 /workspace/Plant-Pathology-Anotation-7/train/images/scab_train_210_jpg.rf.986c1363219651e42574cf150fb0cee3.jpg: 448x640 1 leaf_scab, 8.3ms\n",
      "image 1134/1557 /workspace/Plant-Pathology-Anotation-7/train/images/scab_train_212_jpg.rf.3ff6eb83fcc0c60d1f6942e900b76d58.jpg: 448x640 1 leaf_scab, 8.2ms\n",
      "image 1135/1557 /workspace/Plant-Pathology-Anotation-7/train/images/scab_train_213_jpg.rf.4b19d8b1e5845798d488ac3a006d2ea7.jpg: 448x640 1 leaf_scab, 8.2ms\n",
      "image 1136/1557 /workspace/Plant-Pathology-Anotation-7/train/images/scab_train_214_jpg.rf.7c415c923295707f86f3ef77707c4748.jpg: 448x640 1 leaf_scab, 8.2ms\n",
      "image 1137/1557 /workspace/Plant-Pathology-Anotation-7/train/images/scab_train_216_jpg.rf.9f55a63de60ab04f81f0f15528dd411b.jpg: 448x640 1 leaf_scab, 8.2ms\n",
      "image 1138/1557 /workspace/Plant-Pathology-Anotation-7/train/images/scab_train_217_jpg.rf.3925cbe1a1fe5f9343d8eb92e648016a.jpg: 448x640 3 leaf_scabs, 8.4ms\n",
      "image 1139/1557 /workspace/Plant-Pathology-Anotation-7/train/images/scab_train_218_jpg.rf.ac872017b7816ccb3f4db9f049a1f373.jpg: 448x640 1 leaf_scab, 8.3ms\n",
      "image 1140/1557 /workspace/Plant-Pathology-Anotation-7/train/images/scab_train_220_jpg.rf.69abcf0094f40ffe94d51e75aa6b0d55.jpg: 448x640 1 leaf_scab, 8.9ms\n",
      "image 1141/1557 /workspace/Plant-Pathology-Anotation-7/train/images/scab_train_221_jpg.rf.9b6d4d6eb729c20a510f2608e6e66fa1.jpg: 448x640 2 leaf_scabs, 8.1ms\n",
      "image 1142/1557 /workspace/Plant-Pathology-Anotation-7/train/images/scab_train_222_jpg.rf.799bdc8d89e4945da7698b53e63bdd64.jpg: 448x640 1 leaf_scab, 8.4ms\n",
      "image 1143/1557 /workspace/Plant-Pathology-Anotation-7/train/images/scab_train_224_jpg.rf.aee7e0c4c82b6930df375c34a50ac5e0.jpg: 448x640 1 leaf_scab, 8.4ms\n",
      "image 1144/1557 /workspace/Plant-Pathology-Anotation-7/train/images/scab_train_226_jpg.rf.75eb0fd59ee39ef0b40cddecfcf1f13f.jpg: 448x640 1 leaf_scab, 8.4ms\n",
      "image 1145/1557 /workspace/Plant-Pathology-Anotation-7/train/images/scab_train_227_jpg.rf.55fa044d2e130cd02a382427aa643859.jpg: 448x640 2 leaf_scabs, 8.4ms\n",
      "image 1146/1557 /workspace/Plant-Pathology-Anotation-7/train/images/scab_train_228_jpg.rf.5fe6620f872159d369d4ba4fb318cd3a.jpg: 448x640 1 leaf_scab, 8.4ms\n",
      "image 1147/1557 /workspace/Plant-Pathology-Anotation-7/train/images/scab_train_229_jpg.rf.a310f8947326f01eeb85944ef040f671.jpg: 448x640 1 leaf_scab, 8.8ms\n",
      "image 1148/1557 /workspace/Plant-Pathology-Anotation-7/train/images/scab_train_22_jpg.rf.68ca46f40c9bf89dbc8cea020f19b79c.jpg: 448x640 2 leaf_scabs, 8.4ms\n",
      "image 1149/1557 /workspace/Plant-Pathology-Anotation-7/train/images/scab_train_230_jpg.rf.899c348dc4d8fbd8843cfc162d90edad.jpg: 448x640 1 leaf_rust, 2 leaf_scabs, 8.6ms\n",
      "image 1150/1557 /workspace/Plant-Pathology-Anotation-7/train/images/scab_train_231_jpg.rf.642f95d282da42b4e25d055e36376317.jpg: 448x640 1 leaf_scab, 8.4ms\n",
      "image 1151/1557 /workspace/Plant-Pathology-Anotation-7/train/images/scab_train_232_jpg.rf.813964a0db965ec9e0b16a63ba3a72d2.jpg: 448x640 1 leaf_scab, 8.4ms\n",
      "image 1152/1557 /workspace/Plant-Pathology-Anotation-7/train/images/scab_train_234_jpg.rf.d1f297754b6853fe0ba9dbd19c3b88a8.jpg: 448x640 1 leaf_scab, 9.5ms\n",
      "image 1153/1557 /workspace/Plant-Pathology-Anotation-7/train/images/scab_train_235_jpg.rf.06def3110dbcc7d6f28f0172f597d565.jpg: 448x640 6 leaf_healthys, 1 leaf_scab, 8.4ms\n",
      "image 1154/1557 /workspace/Plant-Pathology-Anotation-7/train/images/scab_train_236_jpg.rf.3b9effffca0089934c0534e6e43c718e.jpg: 448x640 1 leaf_scab, 8.5ms\n",
      "image 1155/1557 /workspace/Plant-Pathology-Anotation-7/train/images/scab_train_237_jpg.rf.2796d8ba313f5878ae17dd83aaf0db64.jpg: 448x640 1 leaf_scab, 8.8ms\n",
      "image 1156/1557 /workspace/Plant-Pathology-Anotation-7/train/images/scab_train_238_jpg.rf.51c258c49645133a656ac66164851ef0.jpg: 448x640 1 leaf_scab, 8.6ms\n",
      "image 1157/1557 /workspace/Plant-Pathology-Anotation-7/train/images/scab_train_239_jpg.rf.3adc4200301c8fc02e3069541524b6d7.jpg: 448x640 1 leaf_scab, 8.5ms\n",
      "image 1158/1557 /workspace/Plant-Pathology-Anotation-7/train/images/scab_train_23_jpg.rf.7745480698153c927bb44230491d642c.jpg: 448x640 2 leaf_scabs, 8.5ms\n",
      "image 1159/1557 /workspace/Plant-Pathology-Anotation-7/train/images/scab_train_240_jpg.rf.ac64b8a130a8f108669ba9bb80499fdb.jpg: 448x640 2 leaf_scabs, 8.5ms\n",
      "image 1160/1557 /workspace/Plant-Pathology-Anotation-7/train/images/scab_train_241_jpg.rf.9ab03083da942c3578eec63a702f72ff.jpg: 448x640 1 leaf_scab, 8.8ms\n",
      "image 1161/1557 /workspace/Plant-Pathology-Anotation-7/train/images/scab_train_242_jpg.rf.80398c17e7d951fb35d5e8cf32efa32a.jpg: 448x640 1 leaf_scab, 8.5ms\n",
      "image 1162/1557 /workspace/Plant-Pathology-Anotation-7/train/images/scab_train_243_jpg.rf.a82c33d2358fde7fa9e11a3149f912a1.jpg: 448x640 2 leaf_scabs, 8.3ms\n",
      "image 1163/1557 /workspace/Plant-Pathology-Anotation-7/train/images/scab_train_244_jpg.rf.47a9bd30a138d830140e3437dd02bdee.jpg: 448x640 1 leaf_scab, 8.8ms\n",
      "image 1164/1557 /workspace/Plant-Pathology-Anotation-7/train/images/scab_train_245_jpg.rf.8b4bd7d293cbf4837efdd1dec58d0c48.jpg: 448x640 1 leaf_rust, 1 leaf_scab, 9.0ms\n",
      "image 1165/1557 /workspace/Plant-Pathology-Anotation-7/train/images/scab_train_246_jpg.rf.6a264c470baccb4bc2b2664bf783ad39.jpg: 448x640 1 leaf_scab, 8.5ms\n",
      "image 1166/1557 /workspace/Plant-Pathology-Anotation-7/train/images/scab_train_247_jpg.rf.c6b999b9b9a253227b721e367bb339d7.jpg: 448x640 1 leaf_scab, 8.5ms\n",
      "image 1167/1557 /workspace/Plant-Pathology-Anotation-7/train/images/scab_train_248_jpg.rf.830ff2d37972e01445e1ba78d987a5c9.jpg: 448x640 1 leaf_scab, 8.5ms\n",
      "image 1168/1557 /workspace/Plant-Pathology-Anotation-7/train/images/scab_train_249_jpg.rf.3492d3fe5c79f7e8c9b3f11d6b4daae2.jpg: 448x640 1 leaf_scab, 8.5ms\n",
      "image 1169/1557 /workspace/Plant-Pathology-Anotation-7/train/images/scab_train_24_jpg.rf.995cfedc25907b6a23399a4afa2e71ea.jpg: 448x640 1 leaf_scab, 8.6ms\n",
      "image 1170/1557 /workspace/Plant-Pathology-Anotation-7/train/images/scab_train_250_jpg.rf.671ba804fcf5e776e49e416423652a9c.jpg: 448x640 1 leaf_scab, 8.7ms\n",
      "image 1171/1557 /workspace/Plant-Pathology-Anotation-7/train/images/scab_train_251_jpg.rf.9530d066698847f99a299c1110f44880.jpg: 448x640 1 leaf_scab, 8.5ms\n",
      "image 1172/1557 /workspace/Plant-Pathology-Anotation-7/train/images/scab_train_252_jpg.rf.372d1dde2bf780c528258e0247c1cf77.jpg: 448x640 1 leaf_scab, 8.4ms\n",
      "image 1173/1557 /workspace/Plant-Pathology-Anotation-7/train/images/scab_train_253_jpg.rf.dfc47970a4b11ac11ef52c27792fa99d.jpg: 448x640 1 leaf_scab, 8.4ms\n",
      "image 1174/1557 /workspace/Plant-Pathology-Anotation-7/train/images/scab_train_254_jpg.rf.483e15ab4d58fc50bc89d139c637d5ef.jpg: 448x640 1 leaf_scab, 8.4ms\n",
      "image 1175/1557 /workspace/Plant-Pathology-Anotation-7/train/images/scab_train_255_jpg.rf.3eea3836ba6fee3f0055873aa195da4f.jpg: 448x640 1 leaf_scab, 8.7ms\n",
      "image 1176/1557 /workspace/Plant-Pathology-Anotation-7/train/images/scab_train_256_jpg.rf.a2f26d5f5d964a3cf5f92883bea357f2.jpg: 448x640 1 leaf_scab, 8.6ms\n",
      "image 1177/1557 /workspace/Plant-Pathology-Anotation-7/train/images/scab_train_257_jpg.rf.22d7381de87e31973a8f4220eb62108e.jpg: 448x640 1 leaf_scab, 8.3ms\n",
      "image 1178/1557 /workspace/Plant-Pathology-Anotation-7/train/images/scab_train_258_jpg.rf.c43d2436f67aa1d8cfc1783425ab3f70.jpg: 448x640 1 leaf_scab, 8.5ms\n",
      "image 1179/1557 /workspace/Plant-Pathology-Anotation-7/train/images/scab_train_259_jpg.rf.397266f5161c89850bb8d52a2cac000a.jpg: 448x640 1 leaf_rust, 2 leaf_scabs, 8.4ms\n",
      "image 1180/1557 /workspace/Plant-Pathology-Anotation-7/train/images/scab_train_25_jpg.rf.d8563b41cfc880c6a8a6f1f2cd0751dc.jpg: 448x640 2 leaf_scabs, 8.5ms\n",
      "image 1181/1557 /workspace/Plant-Pathology-Anotation-7/train/images/scab_train_260_jpg.rf.b9fa628123ef931bd1f5484be59c8689.jpg: 448x640 1 leaf_scab, 9.0ms\n",
      "image 1182/1557 /workspace/Plant-Pathology-Anotation-7/train/images/scab_train_261_jpg.rf.6d12c4757aaba35689e579142253e3c9.jpg: 448x640 1 leaf_scab, 8.7ms\n",
      "image 1183/1557 /workspace/Plant-Pathology-Anotation-7/train/images/scab_train_262_jpg.rf.ea366fa7392f6c050103e156b788cc55.jpg: 448x640 1 leaf_scab, 8.6ms\n",
      "image 1184/1557 /workspace/Plant-Pathology-Anotation-7/train/images/scab_train_264_jpg.rf.57258019cecd101ab70cfce367ea2d8a.jpg: 448x640 1 leaf_scab, 8.8ms\n",
      "image 1185/1557 /workspace/Plant-Pathology-Anotation-7/train/images/scab_train_265_jpg.rf.58846ee801701621287f03970b77fe57.jpg: 448x640 2 leaf_scabs, 8.5ms\n",
      "image 1186/1557 /workspace/Plant-Pathology-Anotation-7/train/images/scab_train_266_jpg.rf.51e74a91f11a9c21add95f500ecda4d2.jpg: 448x640 1 leaf_scab, 8.5ms\n",
      "image 1187/1557 /workspace/Plant-Pathology-Anotation-7/train/images/scab_train_267_jpg.rf.551335d3fbc0531818e42bd410397e7b.jpg: 448x640 1 leaf_scab, 8.6ms\n",
      "image 1188/1557 /workspace/Plant-Pathology-Anotation-7/train/images/scab_train_269_jpg.rf.c4610a165c025fccea0ef12545315e95.jpg: 448x640 1 leaf_scab, 8.6ms\n",
      "image 1189/1557 /workspace/Plant-Pathology-Anotation-7/train/images/scab_train_26_jpg.rf.4adaf17b9d8cff871c7b94cc16575257.jpg: 448x640 1 leaf_scab, 8.5ms\n",
      "image 1190/1557 /workspace/Plant-Pathology-Anotation-7/train/images/scab_train_270_jpg.rf.db7d23a854d08393dfa452acfa0e9e6c.jpg: 448x640 2 leaf_scabs, 9.5ms\n",
      "image 1191/1557 /workspace/Plant-Pathology-Anotation-7/train/images/scab_train_271_jpg.rf.595f55788c00ff4ecae8989d5a35f596.jpg: 448x640 1 leaf_scab, 11.0ms\n",
      "image 1192/1557 /workspace/Plant-Pathology-Anotation-7/train/images/scab_train_273_jpg.rf.f9b4a7134ab3b3df43a71ca2f6f976c2.jpg: 448x640 1 leaf_scab, 8.3ms\n",
      "image 1193/1557 /workspace/Plant-Pathology-Anotation-7/train/images/scab_train_274_jpg.rf.aa3b5fcc41d73dad61438fac11f24189.jpg: 448x640 1 leaf_scab, 8.6ms\n",
      "image 1194/1557 /workspace/Plant-Pathology-Anotation-7/train/images/scab_train_275_jpg.rf.dfadb56a48e4c9bd524cdcd02f9bc3c3.jpg: 448x640 1 leaf_scab, 8.4ms\n",
      "image 1195/1557 /workspace/Plant-Pathology-Anotation-7/train/images/scab_train_276_jpg.rf.78e69c4a8e7e1df3e68bb6af7326e855.jpg: 448x640 1 leaf_scab, 8.2ms\n",
      "image 1196/1557 /workspace/Plant-Pathology-Anotation-7/train/images/scab_train_277_jpg.rf.5a8bd37defa9fae28e40602d14f1b202.jpg: 448x640 1 leaf_scab, 8.5ms\n",
      "image 1197/1557 /workspace/Plant-Pathology-Anotation-7/train/images/scab_train_278_jpg.rf.92ec747aebd960a9a9bbb42cbad37985.jpg: 448x640 1 leaf_scab, 8.8ms\n",
      "image 1198/1557 /workspace/Plant-Pathology-Anotation-7/train/images/scab_train_279_jpg.rf.59db8b6230d9f1501e4b7cb43ad356d6.jpg: 448x640 1 leaf_scab, 8.0ms\n",
      "image 1199/1557 /workspace/Plant-Pathology-Anotation-7/train/images/scab_train_27_jpg.rf.1214ffe3e82eb3f479c181cc20f2bd1c.jpg: 448x640 1 leaf_scab, 7.9ms\n",
      "image 1200/1557 /workspace/Plant-Pathology-Anotation-7/train/images/scab_train_280_jpg.rf.f633dcc01a8e87eae24afd9aa9dd20e5.jpg: 448x640 1 leaf_scab, 8.5ms\n",
      "image 1201/1557 /workspace/Plant-Pathology-Anotation-7/train/images/scab_train_281_jpg.rf.c9b4b2c92b19960b6c984dc28cef826a.jpg: 448x640 2 leaf_scabs, 8.7ms\n",
      "image 1202/1557 /workspace/Plant-Pathology-Anotation-7/train/images/scab_train_284_jpg.rf.bf0db8c9d65b35f3ec2f0a4845f5d620.jpg: 448x640 1 leaf_scab, 8.1ms\n",
      "image 1203/1557 /workspace/Plant-Pathology-Anotation-7/train/images/scab_train_285_jpg.rf.533e0a36f3c9cfcfd1adeedd14ff2abe.jpg: 448x640 1 leaf_scab, 8.1ms\n",
      "image 1204/1557 /workspace/Plant-Pathology-Anotation-7/train/images/scab_train_286_jpg.rf.d4aca56515fb464bb4b81787449dfbd1.jpg: 448x640 1 leaf_scab, 8.0ms\n",
      "image 1205/1557 /workspace/Plant-Pathology-Anotation-7/train/images/scab_train_287_jpg.rf.aad56991af8b83628357899559930d03.jpg: 448x640 1 leaf_scab, 8.4ms\n",
      "image 1206/1557 /workspace/Plant-Pathology-Anotation-7/train/images/scab_train_288_jpg.rf.e33d4dedaf5b3c9974e906c29e875b32.jpg: 448x640 1 leaf_scab, 8.2ms\n",
      "image 1207/1557 /workspace/Plant-Pathology-Anotation-7/train/images/scab_train_289_jpg.rf.cc9aeaa58448e2f8ab03dba74b76ba84.jpg: 448x640 1 leaf_scab, 9.1ms\n",
      "image 1208/1557 /workspace/Plant-Pathology-Anotation-7/train/images/scab_train_28_jpg.rf.1a4997be7840c350328d808325968323.jpg: 448x640 1 leaf_scab, 8.5ms\n",
      "image 1209/1557 /workspace/Plant-Pathology-Anotation-7/train/images/scab_train_290_jpg.rf.a097534fb3846e62d9c852542daa6544.jpg: 448x640 1 leaf_scab, 8.6ms\n",
      "image 1210/1557 /workspace/Plant-Pathology-Anotation-7/train/images/scab_train_291_jpg.rf.dcdd2c90063cfecd26bdaa043775304f.jpg: 448x640 1 leaf_scab, 8.3ms\n",
      "image 1211/1557 /workspace/Plant-Pathology-Anotation-7/train/images/scab_train_292_jpg.rf.801bf35d7e7f77f5ee0a5697bc9d0032.jpg: 448x640 1 leaf_scab, 8.4ms\n",
      "image 1212/1557 /workspace/Plant-Pathology-Anotation-7/train/images/scab_train_293_jpg.rf.93e29906ca211ebe53ca283348c22bba.jpg: 448x640 1 leaf_scab, 8.0ms\n",
      "image 1213/1557 /workspace/Plant-Pathology-Anotation-7/train/images/scab_train_294_jpg.rf.0da8f032f3d8d9a022488bc6fd50356a.jpg: 448x640 1 leaf_scab, 7.9ms\n",
      "image 1214/1557 /workspace/Plant-Pathology-Anotation-7/train/images/scab_train_295_jpg.rf.c98054620083771cbf486ed2433e59da.jpg: 448x640 1 leaf_scab, 8.0ms\n",
      "image 1215/1557 /workspace/Plant-Pathology-Anotation-7/train/images/scab_train_296_jpg.rf.7c898a71a2543c322ea22c2ae2b0a6f0.jpg: 448x640 1 leaf_scab, 8.1ms\n",
      "image 1216/1557 /workspace/Plant-Pathology-Anotation-7/train/images/scab_train_297_jpg.rf.dd4b0748aec75b3083d9cc4f94dda9d3.jpg: 448x640 1 leaf_scab, 7.8ms\n",
      "image 1217/1557 /workspace/Plant-Pathology-Anotation-7/train/images/scab_train_298_jpg.rf.3f6568be3f9b632b09c7e45bfb3a00b8.jpg: 448x640 1 leaf_scab, 8.0ms\n",
      "image 1218/1557 /workspace/Plant-Pathology-Anotation-7/train/images/scab_train_299_jpg.rf.e8f8852b9cfb6ff6a0beb2f51f095c1a.jpg: 448x640 1 leaf_scab, 8.1ms\n",
      "image 1219/1557 /workspace/Plant-Pathology-Anotation-7/train/images/scab_train_29_jpg.rf.bbfbe87d3fa9a74a4e8be490abf9e34e.jpg: 448x640 2 leaf_scabs, 8.0ms\n",
      "image 1220/1557 /workspace/Plant-Pathology-Anotation-7/train/images/scab_train_300_jpg.rf.9794f8f1bf1de336d39f0b1a2abf0d19.jpg: 448x640 1 leaf_scab, 8.1ms\n",
      "image 1221/1557 /workspace/Plant-Pathology-Anotation-7/train/images/scab_train_301_jpg.rf.7c1e378767cf6eaa0e3ef83b55f0267c.jpg: 448x640 1 leaf_scab, 8.6ms\n",
      "image 1222/1557 /workspace/Plant-Pathology-Anotation-7/train/images/scab_train_302_jpg.rf.63fd443020a1e134ca9719901a35f5d6.jpg: 448x640 1 leaf_scab, 7.9ms\n",
      "image 1223/1557 /workspace/Plant-Pathology-Anotation-7/train/images/scab_train_303_jpg.rf.7709dff7d633aee2154a107357b1db61.jpg: 448x640 1 leaf_scab, 7.9ms\n",
      "image 1224/1557 /workspace/Plant-Pathology-Anotation-7/train/images/scab_train_304_jpg.rf.eae1b8d4075540d1f82891ff99f72dc2.jpg: 448x640 1 leaf_scab, 8.3ms\n",
      "image 1225/1557 /workspace/Plant-Pathology-Anotation-7/train/images/scab_train_305_jpg.rf.977a27315ed66b6d51ef3098c142c5b8.jpg: 448x640 1 leaf_scab, 8.3ms\n",
      "image 1226/1557 /workspace/Plant-Pathology-Anotation-7/train/images/scab_train_306_jpg.rf.697bb23a19269ed2b08c6fbcb56dd4ff.jpg: 448x640 1 leaf_scab, 8.0ms\n",
      "image 1227/1557 /workspace/Plant-Pathology-Anotation-7/train/images/scab_train_307_jpg.rf.d6e599338d125bbbfaa589069f86b623.jpg: 448x640 5 leaf_scabs, 8.1ms\n",
      "image 1228/1557 /workspace/Plant-Pathology-Anotation-7/train/images/scab_train_308_jpg.rf.c43970e244eb92b3345c6852576225e3.jpg: 448x640 2 leaf_scabs, 8.2ms\n",
      "image 1229/1557 /workspace/Plant-Pathology-Anotation-7/train/images/scab_train_309_jpg.rf.6f502250b3344c039a34eb12d7bb745f.jpg: 448x640 1 leaf_scab, 8.1ms\n",
      "image 1230/1557 /workspace/Plant-Pathology-Anotation-7/train/images/scab_train_30_jpg.rf.da1aebc047c8ac162ebe9ee98722827c.jpg: 448x640 1 leaf_scab, 8.2ms\n",
      "image 1231/1557 /workspace/Plant-Pathology-Anotation-7/train/images/scab_train_310_jpg.rf.ab3e5ea02ed88fe0d0c5e923c1bd5aa2.jpg: 448x640 1 leaf_scab, 8.0ms\n",
      "image 1232/1557 /workspace/Plant-Pathology-Anotation-7/train/images/scab_train_311_jpg.rf.b092cb40eb6b094dd6bb20f385a911f8.jpg: 448x640 1 leaf_scab, 8.0ms\n",
      "image 1233/1557 /workspace/Plant-Pathology-Anotation-7/train/images/scab_train_312_jpg.rf.78238c4154efb1abb1a0d9ff6a942959.jpg: 448x640 1 leaf_scab, 8.2ms\n",
      "image 1234/1557 /workspace/Plant-Pathology-Anotation-7/train/images/scab_train_313_jpg.rf.4c4f438c79111336f8d11c36a6d10ff5.jpg: 448x640 1 leaf_scab, 8.6ms\n",
      "image 1235/1557 /workspace/Plant-Pathology-Anotation-7/train/images/scab_train_314_jpg.rf.4fa1494e2633c6a8eaf2fb17d2662164.jpg: 448x640 1 leaf_scab, 8.5ms\n",
      "image 1236/1557 /workspace/Plant-Pathology-Anotation-7/train/images/scab_train_315_jpg.rf.54cedf87939369c8ced4812451dd4d02.jpg: 448x640 2 leaf_scabs, 8.2ms\n",
      "image 1237/1557 /workspace/Plant-Pathology-Anotation-7/train/images/scab_train_316_jpg.rf.bc5248f1c8087cad8c6897562b266fe4.jpg: 448x640 2 leaf_scabs, 8.1ms\n",
      "image 1238/1557 /workspace/Plant-Pathology-Anotation-7/train/images/scab_train_317_jpg.rf.711e4f70ea6f21f25846ca58e48eec17.jpg: 448x640 1 leaf_scab, 8.6ms\n",
      "image 1239/1557 /workspace/Plant-Pathology-Anotation-7/train/images/scab_train_319_jpg.rf.4797e13643bc917bbbc87fe34f4c416c.jpg: 448x640 1 leaf_scab, 8.0ms\n",
      "image 1240/1557 /workspace/Plant-Pathology-Anotation-7/train/images/scab_train_31_jpg.rf.5f56465059c4f16356e6def06d5e060b.jpg: 448x640 1 leaf_scab, 8.2ms\n",
      "image 1241/1557 /workspace/Plant-Pathology-Anotation-7/train/images/scab_train_320_jpg.rf.afedd23a544cb471930edce8eeeec1e4.jpg: 448x640 2 leaf_scabs, 8.0ms\n",
      "image 1242/1557 /workspace/Plant-Pathology-Anotation-7/train/images/scab_train_321_jpg.rf.a4b0a4903631e2b51cadeb958e35d440.jpg: 448x640 1 leaf_scab, 8.1ms\n",
      "image 1243/1557 /workspace/Plant-Pathology-Anotation-7/train/images/scab_train_322_jpg.rf.1a62e7f0f94bed1beae2c9a506d4374b.jpg: 448x640 1 leaf_scab, 8.1ms\n",
      "image 1244/1557 /workspace/Plant-Pathology-Anotation-7/train/images/scab_train_323_jpg.rf.e17f96731508789effceb24d0f20e3ea.jpg: 448x640 1 leaf_scab, 8.2ms\n",
      "image 1245/1557 /workspace/Plant-Pathology-Anotation-7/train/images/scab_train_324_jpg.rf.4a8ae0bde08082cbdb9bdc8c317be129.jpg: 448x640 1 leaf_scab, 8.1ms\n",
      "image 1246/1557 /workspace/Plant-Pathology-Anotation-7/train/images/scab_train_325_jpg.rf.d96c687d0e5791a33982d3bfaab4667d.jpg: 448x640 1 leaf_scab, 8.0ms\n",
      "image 1247/1557 /workspace/Plant-Pathology-Anotation-7/train/images/scab_train_326_jpg.rf.c9a104ab31517a7cad715e1488b31799.jpg: 448x640 1 leaf_scab, 8.1ms\n",
      "image 1248/1557 /workspace/Plant-Pathology-Anotation-7/train/images/scab_train_327_jpg.rf.45854538824418d86470ab7d94b0624a.jpg: 448x640 1 leaf_scab, 8.3ms\n",
      "image 1249/1557 /workspace/Plant-Pathology-Anotation-7/train/images/scab_train_328_jpg.rf.21a158ff818e15bfaa3f8da76d3abc0a.jpg: 448x640 1 leaf_scab, 8.0ms\n",
      "image 1250/1557 /workspace/Plant-Pathology-Anotation-7/train/images/scab_train_329_jpg.rf.36b169bc454527f48bea7cc67f5d8593.jpg: 448x640 2 leaf_scabs, 8.2ms\n",
      "image 1251/1557 /workspace/Plant-Pathology-Anotation-7/train/images/scab_train_32_jpg.rf.c3cddb93f24c28477f6cbd92b144863e.jpg: 448x640 2 leaf_scabs, 8.0ms\n",
      "image 1252/1557 /workspace/Plant-Pathology-Anotation-7/train/images/scab_train_331_jpg.rf.863d6d897b2c02eb9e2c2b7b01829c1f.jpg: 448x640 1 leaf_scab, 8.5ms\n",
      "image 1253/1557 /workspace/Plant-Pathology-Anotation-7/train/images/scab_train_333_jpg.rf.eb135f9d93dc0356e53c0e8048652fe6.jpg: 448x640 1 leaf_scab, 8.1ms\n",
      "image 1254/1557 /workspace/Plant-Pathology-Anotation-7/train/images/scab_train_334_jpg.rf.363296be0be9227ceba624a200b32f2f.jpg: 448x640 1 leaf_scab, 8.8ms\n",
      "image 1255/1557 /workspace/Plant-Pathology-Anotation-7/train/images/scab_train_336_jpg.rf.6763e4b4ed3aa12913bc63d5a6feb315.jpg: 448x640 1 leaf_scab, 8.0ms\n",
      "image 1256/1557 /workspace/Plant-Pathology-Anotation-7/train/images/scab_train_337_jpg.rf.9de690235be30bc7ea6155a3a4a26db6.jpg: 448x640 1 leaf_scab, 8.2ms\n",
      "image 1257/1557 /workspace/Plant-Pathology-Anotation-7/train/images/scab_train_338_jpg.rf.af3fbb479db3bef98bf512738a8de95f.jpg: 448x640 2 leaf_scabs, 8.1ms\n",
      "image 1258/1557 /workspace/Plant-Pathology-Anotation-7/train/images/scab_train_339_jpg.rf.e3fa801f7465a1dd34fa3c12387e8ad7.jpg: 448x640 1 leaf_scab, 8.2ms\n",
      "image 1259/1557 /workspace/Plant-Pathology-Anotation-7/train/images/scab_train_340_jpg.rf.4082899f7048dc6fbcd36ccd7a4317ae.jpg: 448x640 1 leaf_scab, 7.9ms\n",
      "image 1260/1557 /workspace/Plant-Pathology-Anotation-7/train/images/scab_train_341_jpg.rf.a8b1bd2df80d7d5f524455ede3c2073b.jpg: 448x640 1 leaf_scab, 8.1ms\n",
      "image 1261/1557 /workspace/Plant-Pathology-Anotation-7/train/images/scab_train_342_jpg.rf.d0b420b8f84cda958674dcb9309e498e.jpg: 448x640 1 leaf_scab, 8.3ms\n",
      "image 1262/1557 /workspace/Plant-Pathology-Anotation-7/train/images/scab_train_343_jpg.rf.6c2e32a6381c1a7dbab12cf99252ca92.jpg: 448x640 1 leaf_scab, 8.1ms\n",
      "image 1263/1557 /workspace/Plant-Pathology-Anotation-7/train/images/scab_train_345_jpg.rf.6f0d67fbb2aa5e479c2bc575ee9c77ec.jpg: 448x640 1 leaf_scab, 8.1ms\n",
      "image 1264/1557 /workspace/Plant-Pathology-Anotation-7/train/images/scab_train_346_jpg.rf.a75b55453f33f35a45ad4812e8c71b38.jpg: 448x640 1 leaf_scab, 8.3ms\n",
      "image 1265/1557 /workspace/Plant-Pathology-Anotation-7/train/images/scab_train_347_jpg.rf.a0b58b6e268170edd343eca68909acb6.jpg: 448x640 1 leaf_scab, 8.0ms\n",
      "image 1266/1557 /workspace/Plant-Pathology-Anotation-7/train/images/scab_train_348_jpg.rf.fbc73f5cd3e43a50063123a6bc23e73f.jpg: 448x640 1 leaf_scab, 8.4ms\n",
      "image 1267/1557 /workspace/Plant-Pathology-Anotation-7/train/images/scab_train_349_jpg.rf.6e3d6473ca295acec9b86c18d2c8c0f7.jpg: 448x640 1 leaf_scab, 8.3ms\n",
      "image 1268/1557 /workspace/Plant-Pathology-Anotation-7/train/images/scab_train_34_jpg.rf.38ee3ed15bfa9ea522b5429b8b4b7250.jpg: 448x640 1 leaf_scab, 8.6ms\n",
      "image 1269/1557 /workspace/Plant-Pathology-Anotation-7/train/images/scab_train_351_jpg.rf.7e043c7768c199da6b252198f76a0466.jpg: 448x640 1 leaf_scab, 8.1ms\n",
      "image 1270/1557 /workspace/Plant-Pathology-Anotation-7/train/images/scab_train_352_jpg.rf.da1bda99fe75a49b73405a70a67e1c72.jpg: 448x640 1 leaf_scab, 8.3ms\n",
      "image 1271/1557 /workspace/Plant-Pathology-Anotation-7/train/images/scab_train_353_jpg.rf.979ccf07a208b3e2f4e0c8565b594e23.jpg: 448x640 1 leaf_scab, 8.2ms\n",
      "image 1272/1557 /workspace/Plant-Pathology-Anotation-7/train/images/scab_train_354_jpg.rf.d9f98d9b392259d32700676e99138807.jpg: 448x640 1 leaf_scab, 8.1ms\n",
      "image 1273/1557 /workspace/Plant-Pathology-Anotation-7/train/images/scab_train_355_jpg.rf.660589e8100b8104f4d2f5fd6b8c79cc.jpg: 448x640 1 leaf_scab, 8.0ms\n",
      "image 1274/1557 /workspace/Plant-Pathology-Anotation-7/train/images/scab_train_356_jpg.rf.c3743761e174be7878668bc3454ab2fd.jpg: 448x640 1 leaf_scab, 8.0ms\n",
      "image 1275/1557 /workspace/Plant-Pathology-Anotation-7/train/images/scab_train_357_jpg.rf.4adf54dd42179e1469032724fe5b29fc.jpg: 448x640 1 leaf_scab, 8.6ms\n",
      "image 1276/1557 /workspace/Plant-Pathology-Anotation-7/train/images/scab_train_358_jpg.rf.159619eaede57883c3e58a0266d79693.jpg: 448x640 1 leaf_scab, 8.3ms\n",
      "image 1277/1557 /workspace/Plant-Pathology-Anotation-7/train/images/scab_train_359_jpg.rf.5c25903b9f54fb679df36b9af731b6ce.jpg: 448x640 1 leaf_scab, 8.1ms\n",
      "image 1278/1557 /workspace/Plant-Pathology-Anotation-7/train/images/scab_train_35_jpg.rf.037fd0bdb0c31bfcbf577d328581d0ea.jpg: 448x640 1 leaf_scab, 8.3ms\n",
      "image 1279/1557 /workspace/Plant-Pathology-Anotation-7/train/images/scab_train_360_jpg.rf.ff915132a80529e34d387047276b3997.jpg: 448x640 1 leaf_scab, 8.0ms\n",
      "image 1280/1557 /workspace/Plant-Pathology-Anotation-7/train/images/scab_train_361_jpg.rf.0e629d0a937aebc52c98c39403f5997f.jpg: 448x640 2 leaf_scabs, 8.3ms\n",
      "image 1281/1557 /workspace/Plant-Pathology-Anotation-7/train/images/scab_train_362_jpg.rf.820845d8a91044cd97a7b6c693108c3f.jpg: 448x640 1 leaf_healthy, 8.1ms\n",
      "image 1282/1557 /workspace/Plant-Pathology-Anotation-7/train/images/scab_train_363_jpg.rf.1c0a41fa03320d96eda2f30d4c9d80f7.jpg: 448x640 1 leaf_scab, 8.0ms\n",
      "image 1283/1557 /workspace/Plant-Pathology-Anotation-7/train/images/scab_train_366_jpg.rf.126913d17a3c58488f3ab6ea4d340fa2.jpg: 448x640 1 leaf_scab, 8.1ms\n",
      "image 1284/1557 /workspace/Plant-Pathology-Anotation-7/train/images/scab_train_367_jpg.rf.0c497ab9808fdd372896bbca19a0ff79.jpg: 448x640 1 leaf_scab, 8.4ms\n",
      "image 1285/1557 /workspace/Plant-Pathology-Anotation-7/train/images/scab_train_368_jpg.rf.fe94f8c8fafcc3fe824eb80ec68355aa.jpg: 448x640 2 leaf_scabs, 8.1ms\n",
      "image 1286/1557 /workspace/Plant-Pathology-Anotation-7/train/images/scab_train_369_jpg.rf.b090b601ede8319818f5903a41825069.jpg: 448x640 1 leaf_scab, 8.2ms\n",
      "image 1287/1557 /workspace/Plant-Pathology-Anotation-7/train/images/scab_train_36_jpg.rf.fdcc34013417d88f11ccbdaa2d242fe4.jpg: 448x640 1 leaf_scab, 8.3ms\n",
      "image 1288/1557 /workspace/Plant-Pathology-Anotation-7/train/images/scab_train_370_jpg.rf.a470be3039d06e11330e9f5c72f7f14e.jpg: 448x640 1 leaf_scab, 8.1ms\n",
      "image 1289/1557 /workspace/Plant-Pathology-Anotation-7/train/images/scab_train_371_jpg.rf.95d6896105e3aaf4939ff448a765cf46.jpg: 448x640 1 leaf_scab, 8.1ms\n",
      "image 1290/1557 /workspace/Plant-Pathology-Anotation-7/train/images/scab_train_372_jpg.rf.6de89d547947210880980be399dd4f92.jpg: 448x640 1 leaf_scab, 8.2ms\n",
      "image 1291/1557 /workspace/Plant-Pathology-Anotation-7/train/images/scab_train_373_jpg.rf.6e6339d7f2a6193fdeee022f55a3411f.jpg: 448x640 1 leaf_scab, 8.5ms\n",
      "image 1292/1557 /workspace/Plant-Pathology-Anotation-7/train/images/scab_train_374_jpg.rf.b0ed3324803024fbfe88535f4e643f8e.jpg: 448x640 1 leaf_scab, 8.0ms\n",
      "image 1293/1557 /workspace/Plant-Pathology-Anotation-7/train/images/scab_train_376_jpg.rf.d7bdaecbfcbf41440985e3aac55a501f.jpg: 448x640 1 leaf_scab, 8.3ms\n",
      "image 1294/1557 /workspace/Plant-Pathology-Anotation-7/train/images/scab_train_377_jpg.rf.3e3a78a895f1978d625fc576db3f7b07.jpg: 448x640 2 leaf_scabs, 8.0ms\n",
      "image 1295/1557 /workspace/Plant-Pathology-Anotation-7/train/images/scab_train_378_jpg.rf.ec3b1c03bb07b2a297dc8ac9e9ddd929.jpg: 448x640 1 leaf_scab, 8.0ms\n",
      "image 1296/1557 /workspace/Plant-Pathology-Anotation-7/train/images/scab_train_37_jpg.rf.5f0794e3282f837697780e745ee7b39f.jpg: 448x640 1 leaf_rust, 1 leaf_scab, 8.1ms\n",
      "image 1297/1557 /workspace/Plant-Pathology-Anotation-7/train/images/scab_train_380_jpg.rf.a02de5765166d8f3835adc84d7ddb8ed.jpg: 448x640 1 leaf_scab, 7.8ms\n",
      "image 1298/1557 /workspace/Plant-Pathology-Anotation-7/train/images/scab_train_381_jpg.rf.0b49c7a35e7c2e0588aca93f65db080f.jpg: 448x640 1 leaf_scab, 8.3ms\n",
      "image 1299/1557 /workspace/Plant-Pathology-Anotation-7/train/images/scab_train_382_jpg.rf.86f00e796946526a231d0a2748f4f8a8.jpg: 448x640 1 leaf_scab, 8.1ms\n",
      "image 1300/1557 /workspace/Plant-Pathology-Anotation-7/train/images/scab_train_383_jpg.rf.f785d499648871a53793ad3c6b1cd2ee.jpg: 448x640 1 leaf_scab, 9.2ms\n",
      "image 1301/1557 /workspace/Plant-Pathology-Anotation-7/train/images/scab_train_384_jpg.rf.30e9c848519ce24417394bab471651ab.jpg: 448x640 1 leaf_scab, 8.2ms\n",
      "image 1302/1557 /workspace/Plant-Pathology-Anotation-7/train/images/scab_train_385_jpg.rf.46c641d3c1a69ab6b32900fab184b7d2.jpg: 448x640 1 leaf_scab, 8.3ms\n",
      "image 1303/1557 /workspace/Plant-Pathology-Anotation-7/train/images/scab_train_386_jpg.rf.c94a4df3a816079cbdf33918caa23788.jpg: 448x640 2 leaf_scabs, 7.8ms\n",
      "image 1304/1557 /workspace/Plant-Pathology-Anotation-7/train/images/scab_train_387_jpg.rf.f4d43c44efff46a4d9160972e868cb25.jpg: 448x640 2 leaf_scabs, 8.0ms\n",
      "image 1305/1557 /workspace/Plant-Pathology-Anotation-7/train/images/scab_train_388_jpg.rf.c5b726809605835740ede3b4a0ace7ef.jpg: 448x640 2 leaf_scabs, 8.3ms\n",
      "image 1306/1557 /workspace/Plant-Pathology-Anotation-7/train/images/scab_train_389_jpg.rf.7b34db05d2c872428589b77791d0eb5b.jpg: 448x640 1 leaf_scab, 8.0ms\n",
      "image 1307/1557 /workspace/Plant-Pathology-Anotation-7/train/images/scab_train_38_jpg.rf.815dabb76d7be6aefab21ba3ad5408b4.jpg: 448x640 1 leaf_scab, 8.2ms\n",
      "image 1308/1557 /workspace/Plant-Pathology-Anotation-7/train/images/scab_train_390_jpg.rf.0f00df551d872e8b0becb844e5b03bbb.jpg: 448x640 2 leaf_scabs, 8.0ms\n",
      "image 1309/1557 /workspace/Plant-Pathology-Anotation-7/train/images/scab_train_391_jpg.rf.f696dd51f94d36f709bdfa47f2029e2c.jpg: 448x640 1 leaf_healthy, 1 leaf_scab, 8.0ms\n",
      "image 1310/1557 /workspace/Plant-Pathology-Anotation-7/train/images/scab_train_392_jpg.rf.fd09cb5fcea70d8485ea407822cf2e80.jpg: 448x640 1 leaf_scab, 8.6ms\n",
      "image 1311/1557 /workspace/Plant-Pathology-Anotation-7/train/images/scab_train_393_jpg.rf.15760735a4aeddd8fde41fe2bb535d7f.jpg: 448x640 1 leaf_scab, 8.2ms\n",
      "image 1312/1557 /workspace/Plant-Pathology-Anotation-7/train/images/scab_train_395_jpg.rf.6cdfcbc7c4972a80d81d94f848b9ecba.jpg: 448x640 1 leaf_scab, 8.4ms\n",
      "image 1313/1557 /workspace/Plant-Pathology-Anotation-7/train/images/scab_train_396_jpg.rf.8565f5bed71d7849bb50b1b234c7cb1b.jpg: 448x640 1 leaf_scab, 8.0ms\n",
      "image 1314/1557 /workspace/Plant-Pathology-Anotation-7/train/images/scab_train_397_jpg.rf.40e4025ccd61bda81c925e3aea169da3.jpg: 448x640 1 leaf_scab, 8.2ms\n",
      "image 1315/1557 /workspace/Plant-Pathology-Anotation-7/train/images/scab_train_398_jpg.rf.91746414f824385d602cf2030edb54b6.jpg: 448x640 2 leaf_scabs, 8.8ms\n",
      "image 1316/1557 /workspace/Plant-Pathology-Anotation-7/train/images/scab_train_399_jpg.rf.5b119178b4d58ec718a8689b313be36a.jpg: 448x640 1 leaf_scab, 8.0ms\n",
      "image 1317/1557 /workspace/Plant-Pathology-Anotation-7/train/images/scab_train_39_jpg.rf.6ed238aeb64f6e42884e53408c42db6a.jpg: 448x640 1 leaf_scab, 8.2ms\n",
      "image 1318/1557 /workspace/Plant-Pathology-Anotation-7/train/images/scab_train_400_jpg.rf.c9aedb52323ea90c56723f2b576f22ba.jpg: 448x640 1 leaf_scab, 8.1ms\n",
      "image 1319/1557 /workspace/Plant-Pathology-Anotation-7/train/images/scab_train_401_jpg.rf.bc513030686bc6f7b6a926d3c455eb20.jpg: 448x640 1 leaf_scab, 8.1ms\n",
      "image 1320/1557 /workspace/Plant-Pathology-Anotation-7/train/images/scab_train_402_jpg.rf.6c704276fc08b950989a92ca32ad1568.jpg: 448x640 1 leaf_scab, 8.1ms\n",
      "image 1321/1557 /workspace/Plant-Pathology-Anotation-7/train/images/scab_train_403_jpg.rf.563bd1963908c4d60b5ece978e0e48ea.jpg: 448x640 1 leaf_scab, 8.2ms\n",
      "image 1322/1557 /workspace/Plant-Pathology-Anotation-7/train/images/scab_train_404_jpg.rf.0e35f260321d54eca02e63240b40f808.jpg: 448x640 1 leaf_scab, 8.2ms\n",
      "image 1323/1557 /workspace/Plant-Pathology-Anotation-7/train/images/scab_train_405_jpg.rf.ae2e0c0316a54f3fd8fb8f0478c56235.jpg: 448x640 1 leaf_scab, 8.2ms\n",
      "image 1324/1557 /workspace/Plant-Pathology-Anotation-7/train/images/scab_train_408_jpg.rf.e65e92dd06a916d474b0a5b318bb18d7.jpg: 448x640 1 leaf_scab, 8.1ms\n",
      "image 1325/1557 /workspace/Plant-Pathology-Anotation-7/train/images/scab_train_409_jpg.rf.302591a11bac76c25a91b7344f0ae54d.jpg: 448x640 1 leaf_scab, 8.0ms\n",
      "image 1326/1557 /workspace/Plant-Pathology-Anotation-7/train/images/scab_train_40_jpg.rf.79ead89f12decd85a7f27c486a6b2485.jpg: 448x640 1 leaf_scab, 8.4ms\n",
      "image 1327/1557 /workspace/Plant-Pathology-Anotation-7/train/images/scab_train_410_jpg.rf.3dc2d9761d6a3bbf1ce92fa696d0bdb5.jpg: 448x640 1 leaf_scab, 8.1ms\n",
      "image 1328/1557 /workspace/Plant-Pathology-Anotation-7/train/images/scab_train_412_jpg.rf.63c4a50a0789fa5f36285c2bfa3f7e66.jpg: 448x640 1 leaf_scab, 8.0ms\n",
      "image 1329/1557 /workspace/Plant-Pathology-Anotation-7/train/images/scab_train_413_jpg.rf.c66ab1649ea6a2b01a75cb11cff67fdc.jpg: 448x640 1 leaf_scab, 8.4ms\n",
      "image 1330/1557 /workspace/Plant-Pathology-Anotation-7/train/images/scab_train_414_jpg.rf.686f83d08b77df2be5c48506d507f667.jpg: 448x640 1 leaf_scab, 8.4ms\n",
      "image 1331/1557 /workspace/Plant-Pathology-Anotation-7/train/images/scab_train_415_jpg.rf.cfd96860c06717e37339873b3267ea47.jpg: 448x640 1 leaf_scab, 8.1ms\n",
      "image 1332/1557 /workspace/Plant-Pathology-Anotation-7/train/images/scab_train_416_jpg.rf.d310ae8cfd8bec9ef2aa84efcabf1f07.jpg: 448x640 1 leaf_scab, 8.2ms\n",
      "image 1333/1557 /workspace/Plant-Pathology-Anotation-7/train/images/scab_train_418_jpg.rf.50bfb3348d9c9b583d55aa68a5b417e5.jpg: 448x640 1 leaf_scab, 7.8ms\n",
      "image 1334/1557 /workspace/Plant-Pathology-Anotation-7/train/images/scab_train_419_jpg.rf.2f69c62212add3c879a3997bd25d627f.jpg: 448x640 1 leaf_scab, 8.5ms\n",
      "image 1335/1557 /workspace/Plant-Pathology-Anotation-7/train/images/scab_train_41_jpg.rf.f77029f32d23fe7375c5efa9f3cfcb52.jpg: 448x640 2 leaf_scabs, 8.2ms\n",
      "image 1336/1557 /workspace/Plant-Pathology-Anotation-7/train/images/scab_train_420_jpg.rf.3fb4826243cdf8aedfbe5b77bdcc6e1f.jpg: 448x640 1 leaf_scab, 7.9ms\n",
      "image 1337/1557 /workspace/Plant-Pathology-Anotation-7/train/images/scab_train_421_jpg.rf.eac3a25c942777faafe3916d8c182291.jpg: 448x640 1 leaf_scab, 7.9ms\n",
      "image 1338/1557 /workspace/Plant-Pathology-Anotation-7/train/images/scab_train_423_jpg.rf.f72de7ca6ef1e149d9d7c3c71257d97d.jpg: 448x640 1 leaf_scab, 7.9ms\n",
      "image 1339/1557 /workspace/Plant-Pathology-Anotation-7/train/images/scab_train_424_jpg.rf.6d0747a3e02d0493a6dac21192db029f.jpg: 448x640 1 leaf_scab, 8.2ms\n",
      "image 1340/1557 /workspace/Plant-Pathology-Anotation-7/train/images/scab_train_425_jpg.rf.4b18cbb4e14f083681787935b9540b4f.jpg: 448x640 1 leaf_scab, 8.2ms\n",
      "image 1341/1557 /workspace/Plant-Pathology-Anotation-7/train/images/scab_train_426_jpg.rf.94ee629f72350162d945cec660a1fadd.jpg: 448x640 1 leaf_scab, 8.2ms\n",
      "image 1342/1557 /workspace/Plant-Pathology-Anotation-7/train/images/scab_train_427_jpg.rf.15461a69d772c533e3527096f36ef0d8.jpg: 448x640 1 leaf_scab, 8.1ms\n",
      "image 1343/1557 /workspace/Plant-Pathology-Anotation-7/train/images/scab_train_428_jpg.rf.e850825bdb59b02a2ea4352d446a9d6e.jpg: 448x640 1 leaf_scab, 7.9ms\n",
      "image 1344/1557 /workspace/Plant-Pathology-Anotation-7/train/images/scab_train_429_jpg.rf.c53f48e28240f32e85a2089041ff45d4.jpg: 448x640 1 leaf_scab, 8.5ms\n",
      "image 1345/1557 /workspace/Plant-Pathology-Anotation-7/train/images/scab_train_42_jpg.rf.f24f2ddab9b9b4d5f872ec99873a6fbf.jpg: 448x640 3 leaf_scabs, 8.3ms\n",
      "image 1346/1557 /workspace/Plant-Pathology-Anotation-7/train/images/scab_train_430_jpg.rf.59a8175bf584c8987479cfa653627d8b.jpg: 448x640 2 leaf_scabs, 8.0ms\n",
      "image 1347/1557 /workspace/Plant-Pathology-Anotation-7/train/images/scab_train_431_jpg.rf.dcd3b727cf80e6ef3c5991922bd90336.jpg: 448x640 1 leaf_scab, 8.6ms\n",
      "image 1348/1557 /workspace/Plant-Pathology-Anotation-7/train/images/scab_train_432_jpg.rf.2a6b364e78c75ea9223a2d8f4fac9582.jpg: 448x640 1 leaf_scab, 8.0ms\n",
      "image 1349/1557 /workspace/Plant-Pathology-Anotation-7/train/images/scab_train_433_jpg.rf.040f1a67256d9faf5aae193fd155e34a.jpg: 448x640 1 leaf_scab, 8.0ms\n",
      "image 1350/1557 /workspace/Plant-Pathology-Anotation-7/train/images/scab_train_434_jpg.rf.8063295a4f65fcfe913d83dcc1a468c3.jpg: 448x640 1 leaf_scab, 8.1ms\n",
      "image 1351/1557 /workspace/Plant-Pathology-Anotation-7/train/images/scab_train_435_jpg.rf.055fdd51af069ab31f9a85607dbb55c7.jpg: 448x640 1 leaf_scab, 8.5ms\n",
      "image 1352/1557 /workspace/Plant-Pathology-Anotation-7/train/images/scab_train_436_jpg.rf.b7ae43c5dbcf31a463ddf99ff69187bc.jpg: 448x640 1 leaf_scab, 8.1ms\n",
      "image 1353/1557 /workspace/Plant-Pathology-Anotation-7/train/images/scab_train_438_jpg.rf.569ffe3804ea68120fe66f0d8344c883.jpg: 448x640 2 leaf_scabs, 8.4ms\n",
      "image 1354/1557 /workspace/Plant-Pathology-Anotation-7/train/images/scab_train_439_jpg.rf.2060cd7c6c61febc6509ce59e6265935.jpg: 448x640 1 leaf_scab, 8.0ms\n",
      "image 1355/1557 /workspace/Plant-Pathology-Anotation-7/train/images/scab_train_43_jpg.rf.a1ec2b63f9d8c1e8d8df60ebd5708919.jpg: 448x640 1 leaf_scab, 7.8ms\n",
      "image 1356/1557 /workspace/Plant-Pathology-Anotation-7/train/images/scab_train_441_jpg.rf.433c224b7a5b2732ef8f6a4ee4b75394.jpg: 448x640 1 leaf_scab, 8.2ms\n",
      "image 1357/1557 /workspace/Plant-Pathology-Anotation-7/train/images/scab_train_443_jpg.rf.7da385104698fbcb195851e7d103f51f.jpg: 448x640 1 leaf_scab, 8.4ms\n",
      "image 1358/1557 /workspace/Plant-Pathology-Anotation-7/train/images/scab_train_444_jpg.rf.1706a65925a71f7bc12439f847539438.jpg: 448x640 1 leaf_scab, 8.3ms\n",
      "image 1359/1557 /workspace/Plant-Pathology-Anotation-7/train/images/scab_train_445_jpg.rf.693eadcd7ac0b3bca8d455abf5055937.jpg: 448x640 1 leaf_scab, 8.6ms\n",
      "image 1360/1557 /workspace/Plant-Pathology-Anotation-7/train/images/scab_train_446_jpg.rf.43d077e3b7d0f005e7484e8b55a4ff9e.jpg: 448x640 1 leaf_scab, 8.8ms\n",
      "image 1361/1557 /workspace/Plant-Pathology-Anotation-7/train/images/scab_train_447_jpg.rf.6878119de070fff7bb50274fa191f830.jpg: 448x640 2 leaf_scabs, 8.1ms\n",
      "image 1362/1557 /workspace/Plant-Pathology-Anotation-7/train/images/scab_train_448_jpg.rf.0967e335a90111960aae2c0b117cf591.jpg: 448x640 1 leaf_scab, 8.1ms\n",
      "image 1363/1557 /workspace/Plant-Pathology-Anotation-7/train/images/scab_train_449_jpg.rf.00a3fa874d2187a6fff31db45e219776.jpg: 448x640 1 leaf_scab, 8.8ms\n",
      "image 1364/1557 /workspace/Plant-Pathology-Anotation-7/train/images/scab_train_44_jpg.rf.b0bd3db1794af460ab6fb0ae41b5a8f8.jpg: 448x640 1 leaf_scab, 8.4ms\n",
      "image 1365/1557 /workspace/Plant-Pathology-Anotation-7/train/images/scab_train_450_jpg.rf.d94386e762e69a59e68d26aeb23ce61f.jpg: 448x640 1 leaf_scab, 8.5ms\n",
      "image 1366/1557 /workspace/Plant-Pathology-Anotation-7/train/images/scab_train_451_jpg.rf.e25b4af423c8f2aef38961a276e2c24c.jpg: 448x640 1 leaf_scab, 8.3ms\n",
      "image 1367/1557 /workspace/Plant-Pathology-Anotation-7/train/images/scab_train_452_jpg.rf.5dd04768d8c73594fd818a518191da30.jpg: 448x640 1 leaf_scab, 8.3ms\n",
      "image 1368/1557 /workspace/Plant-Pathology-Anotation-7/train/images/scab_train_453_jpg.rf.f252db4a8ab41293113d2264ff57a78b.jpg: 448x640 1 leaf_scab, 8.6ms\n",
      "image 1369/1557 /workspace/Plant-Pathology-Anotation-7/train/images/scab_train_454_jpg.rf.8d0605cd985280c36b97767d74605748.jpg: 448x640 1 leaf_scab, 8.3ms\n",
      "image 1370/1557 /workspace/Plant-Pathology-Anotation-7/train/images/scab_train_455_jpg.rf.85d774fb8c37f69c88ec626eb1d6de24.jpg: 448x640 1 leaf_scab, 8.3ms\n",
      "image 1371/1557 /workspace/Plant-Pathology-Anotation-7/train/images/scab_train_456_jpg.rf.76fec545590316b1dbff0b395938ab8e.jpg: 448x640 1 leaf_scab, 8.3ms\n",
      "image 1372/1557 /workspace/Plant-Pathology-Anotation-7/train/images/scab_train_457_jpg.rf.03f302715b204f8489ad2ff25c3b4805.jpg: 448x640 2 leaf_scabs, 8.5ms\n",
      "image 1373/1557 /workspace/Plant-Pathology-Anotation-7/train/images/scab_train_458_jpg.rf.d0e8c32203f68fdcf2d51a40a0a4da51.jpg: 448x640 1 leaf_scab, 8.2ms\n",
      "image 1374/1557 /workspace/Plant-Pathology-Anotation-7/train/images/scab_train_45_jpg.rf.ac85b8d3416badcc60db58cdcd4aad04.jpg: 448x640 2 leaf_scabs, 9.6ms\n",
      "image 1375/1557 /workspace/Plant-Pathology-Anotation-7/train/images/scab_train_460_jpg.rf.7fea909b573108c6812f7f6bcbd11bbb.jpg: 448x640 1 leaf_scab, 8.2ms\n",
      "image 1376/1557 /workspace/Plant-Pathology-Anotation-7/train/images/scab_train_461_jpg.rf.41e3a8d589d56e9ab6142bd68a1d715a.jpg: 448x640 2 leaf_scabs, 8.3ms\n",
      "image 1377/1557 /workspace/Plant-Pathology-Anotation-7/train/images/scab_train_462_jpg.rf.ee06ed7dd53c240cbb7e5ed42de104e2.jpg: 448x640 1 leaf_scab, 8.2ms\n",
      "image 1378/1557 /workspace/Plant-Pathology-Anotation-7/train/images/scab_train_463_jpg.rf.c770e34ffdf2e9bc056a87c2ce5a87ba.jpg: 448x640 1 leaf_scab, 8.4ms\n",
      "image 1379/1557 /workspace/Plant-Pathology-Anotation-7/train/images/scab_train_464_jpg.rf.cc6e909dd16d46da2d85b8443a5c9981.jpg: 448x640 1 leaf_scab, 8.3ms\n",
      "image 1380/1557 /workspace/Plant-Pathology-Anotation-7/train/images/scab_train_465_jpg.rf.48a37195b4f47461f30a4da1fdcf79a9.jpg: 448x640 1 leaf_scab, 8.5ms\n",
      "image 1381/1557 /workspace/Plant-Pathology-Anotation-7/train/images/scab_train_466_jpg.rf.0409c7761bcc95944422d3c603dc3467.jpg: 448x640 2 leaf_scabs, 8.3ms\n",
      "image 1382/1557 /workspace/Plant-Pathology-Anotation-7/train/images/scab_train_467_jpg.rf.fabec67950924a341798725b83a161ec.jpg: 448x640 1 leaf_scab, 8.3ms\n",
      "image 1383/1557 /workspace/Plant-Pathology-Anotation-7/train/images/scab_train_468_jpg.rf.6702e8ef35a68bf8785679f7cc0ed1a7.jpg: 448x640 1 leaf_scab, 8.9ms\n",
      "image 1384/1557 /workspace/Plant-Pathology-Anotation-7/train/images/scab_train_469_jpg.rf.6867c402d8309f212eb533b78077242b.jpg: 448x640 2 leaf_scabs, 8.3ms\n",
      "image 1385/1557 /workspace/Plant-Pathology-Anotation-7/train/images/scab_train_46_jpg.rf.bbe9a673dcc20b966c13e4f24d60b745.jpg: 448x640 1 leaf_scab, 8.2ms\n",
      "image 1386/1557 /workspace/Plant-Pathology-Anotation-7/train/images/scab_train_470_jpg.rf.0552732c92a01c4999608af5e96ffeea.jpg: 448x640 1 leaf_scab, 8.5ms\n",
      "image 1387/1557 /workspace/Plant-Pathology-Anotation-7/train/images/scab_train_471_jpg.rf.1cd05cede67de18fa46abd0e4cfa31a0.jpg: 448x640 2 leaf_scabs, 8.7ms\n",
      "image 1388/1557 /workspace/Plant-Pathology-Anotation-7/train/images/scab_train_472_jpg.rf.ecf9240d119895fea5249b2a0032eebc.jpg: 448x640 1 leaf_scab, 8.6ms\n",
      "image 1389/1557 /workspace/Plant-Pathology-Anotation-7/train/images/scab_train_473_jpg.rf.1a19d8ee51d5b525a3d876521cbe6ba1.jpg: 448x640 2 leaf_scabs, 8.5ms\n",
      "image 1390/1557 /workspace/Plant-Pathology-Anotation-7/train/images/scab_train_474_jpg.rf.c81458bf70e08a89f87e9f1e7c700bb0.jpg: 448x640 1 leaf_scab, 8.4ms\n",
      "image 1391/1557 /workspace/Plant-Pathology-Anotation-7/train/images/scab_train_475_jpg.rf.c2792ebf9ba31e943c8a6dacc349b1ad.jpg: 448x640 1 leaf_scab, 8.4ms\n",
      "image 1392/1557 /workspace/Plant-Pathology-Anotation-7/train/images/scab_train_477_jpg.rf.77c9b0d7a5046cfdbb55fc92aea404af.jpg: 448x640 2 leaf_scabs, 8.3ms\n",
      "image 1393/1557 /workspace/Plant-Pathology-Anotation-7/train/images/scab_train_478_jpg.rf.68d3a7fdcbbaac4b983f16168c8d42db.jpg: 448x640 1 leaf_scab, 8.2ms\n",
      "image 1394/1557 /workspace/Plant-Pathology-Anotation-7/train/images/scab_train_479_jpg.rf.cbb37ade3b3c78a8c341e612424d8490.jpg: 448x640 1 leaf_scab, 8.1ms\n",
      "image 1395/1557 /workspace/Plant-Pathology-Anotation-7/train/images/scab_train_47_jpg.rf.9db83c2e7d4a62c67e7ff602f2b034bc.jpg: 448x640 2 leaf_scabs, 8.4ms\n",
      "image 1396/1557 /workspace/Plant-Pathology-Anotation-7/train/images/scab_train_480_jpg.rf.e03931ed2651a42082fb21ed47815384.jpg: 448x640 1 leaf_scab, 8.1ms\n",
      "image 1397/1557 /workspace/Plant-Pathology-Anotation-7/train/images/scab_train_481_jpg.rf.6b6e01a4088d9ddeb6249197c713b955.jpg: 448x640 1 leaf_scab, 8.4ms\n",
      "image 1398/1557 /workspace/Plant-Pathology-Anotation-7/train/images/scab_train_482_jpg.rf.343c17bc4ce6a1a8cad13c4ca606c3ee.jpg: 448x640 1 leaf_scab, 8.3ms\n",
      "image 1399/1557 /workspace/Plant-Pathology-Anotation-7/train/images/scab_train_483_jpg.rf.7d2626fa96e62d49e01902f77234439c.jpg: 448x640 3 leaf_scabs, 8.6ms\n",
      "image 1400/1557 /workspace/Plant-Pathology-Anotation-7/train/images/scab_train_484_jpg.rf.d212aef9f6310d09a49ea1182180a828.jpg: 448x640 2 leaf_scabs, 8.2ms\n",
      "image 1401/1557 /workspace/Plant-Pathology-Anotation-7/train/images/scab_train_485_jpg.rf.27352c43275d6d63b7d9808e56e4aef2.jpg: 448x640 1 leaf_scab, 8.7ms\n",
      "image 1402/1557 /workspace/Plant-Pathology-Anotation-7/train/images/scab_train_486_jpg.rf.275a0c9cbd4e0d3695c6220973d0f2fd.jpg: 448x640 1 leaf_scab, 8.2ms\n",
      "image 1403/1557 /workspace/Plant-Pathology-Anotation-7/train/images/scab_train_487_jpg.rf.05dd8f7046e2484768299ff04a163409.jpg: 448x640 1 leaf_scab, 8.7ms\n",
      "image 1404/1557 /workspace/Plant-Pathology-Anotation-7/train/images/scab_train_488_jpg.rf.fb52a8320ee15cd1174797dc348983f0.jpg: 448x640 1 leaf_scab, 8.3ms\n",
      "image 1405/1557 /workspace/Plant-Pathology-Anotation-7/train/images/scab_train_489_jpg.rf.8ae64d6b25bc554108bbb5613f9ab4e1.jpg: 448x640 1 leaf_scab, 8.3ms\n",
      "image 1406/1557 /workspace/Plant-Pathology-Anotation-7/train/images/scab_train_48_jpg.rf.9d115a724bd41f21f2310b39c8bb1e56.jpg: 448x640 1 leaf_scab, 8.7ms\n",
      "image 1407/1557 /workspace/Plant-Pathology-Anotation-7/train/images/scab_train_490_jpg.rf.599a0b16394fc41185cbfd287b173a36.jpg: 448x640 1 leaf_scab, 8.2ms\n",
      "image 1408/1557 /workspace/Plant-Pathology-Anotation-7/train/images/scab_train_492_jpg.rf.0def2a7838c7ab8a8928bb4446414f24.jpg: 448x640 2 leaf_scabs, 8.6ms\n",
      "image 1409/1557 /workspace/Plant-Pathology-Anotation-7/train/images/scab_train_493_jpg.rf.8585ea12a895d1412d9560ee3b3bc2eb.jpg: 448x640 1 leaf_scab, 8.4ms\n",
      "image 1410/1557 /workspace/Plant-Pathology-Anotation-7/train/images/scab_train_496_jpg.rf.e1a1599a2495bd59ef044bc1f92b4dfc.jpg: 448x640 1 leaf_scab, 8.4ms\n",
      "image 1411/1557 /workspace/Plant-Pathology-Anotation-7/train/images/scab_train_497_jpg.rf.4fbe634a64b60f8a66c1697dd1251bad.jpg: 448x640 1 leaf_scab, 8.1ms\n",
      "image 1412/1557 /workspace/Plant-Pathology-Anotation-7/train/images/scab_train_498_jpg.rf.2ca41702ae209ce947497da70794c798.jpg: 448x640 1 leaf_scab, 8.4ms\n",
      "image 1413/1557 /workspace/Plant-Pathology-Anotation-7/train/images/scab_train_499_jpg.rf.f6f83c11b227b15398ad93f050cfa2c2.jpg: 448x640 1 leaf_scab, 8.2ms\n",
      "image 1414/1557 /workspace/Plant-Pathology-Anotation-7/train/images/scab_train_49_jpg.rf.887170578c95d867713820bd16d293e6.jpg: 448x640 1 leaf_scab, 8.3ms\n",
      "image 1415/1557 /workspace/Plant-Pathology-Anotation-7/train/images/scab_train_4_jpg.rf.44744fc3f57497152a8fda46ef378673.jpg: 448x640 1 leaf_scab, 8.4ms\n",
      "image 1416/1557 /workspace/Plant-Pathology-Anotation-7/train/images/scab_train_500_jpg.rf.850e9effcf96b1d1a120ba09488b9d6f.jpg: 448x640 1 leaf_scab, 8.3ms\n",
      "image 1417/1557 /workspace/Plant-Pathology-Anotation-7/train/images/scab_train_501_jpg.rf.f4e32e636052b4037878ec3599b27d35.jpg: 448x640 1 leaf_scab, 8.6ms\n",
      "image 1418/1557 /workspace/Plant-Pathology-Anotation-7/train/images/scab_train_502_jpg.rf.27c2cceb6bac3a0f101899106b1424d0.jpg: 448x640 1 leaf_scab, 8.2ms\n",
      "image 1419/1557 /workspace/Plant-Pathology-Anotation-7/train/images/scab_train_503_jpg.rf.07eb384c51b489e8240442b3f6c949d1.jpg: 448x640 2 leaf_scabs, 8.1ms\n",
      "image 1420/1557 /workspace/Plant-Pathology-Anotation-7/train/images/scab_train_504_jpg.rf.38aa0e3b553ecdabb8699c440f051eaf.jpg: 448x640 1 leaf_scab, 8.3ms\n",
      "image 1421/1557 /workspace/Plant-Pathology-Anotation-7/train/images/scab_train_505_jpg.rf.cddba92de5858e2fb46bb454615296be.jpg: 448x640 1 leaf_scab, 8.5ms\n",
      "image 1422/1557 /workspace/Plant-Pathology-Anotation-7/train/images/scab_train_506_jpg.rf.8c731f14792b5eb52cf2b43619ce2f66.jpg: 448x640 2 leaf_scabs, 8.2ms\n",
      "image 1423/1557 /workspace/Plant-Pathology-Anotation-7/train/images/scab_train_508_jpg.rf.12232b28e67795d1eadc7f923e216a28.jpg: 448x640 1 leaf_scab, 8.2ms\n",
      "image 1424/1557 /workspace/Plant-Pathology-Anotation-7/train/images/scab_train_509_jpg.rf.bfb849ea70033fc91f9c3eae95559557.jpg: 448x640 1 leaf_scab, 8.3ms\n",
      "image 1425/1557 /workspace/Plant-Pathology-Anotation-7/train/images/scab_train_50_jpg.rf.23a485f7d0da996ba36769967de758c7.jpg: 448x640 1 leaf_scab, 8.3ms\n",
      "image 1426/1557 /workspace/Plant-Pathology-Anotation-7/train/images/scab_train_510_jpg.rf.143056934e5eb8d1729bb8235a29de1b.jpg: 448x640 1 leaf_scab, 8.5ms\n",
      "image 1427/1557 /workspace/Plant-Pathology-Anotation-7/train/images/scab_train_511_jpg.rf.2ce6cf8ca641b2aad945360ca1144c9c.jpg: 448x640 1 leaf_scab, 8.2ms\n",
      "image 1428/1557 /workspace/Plant-Pathology-Anotation-7/train/images/scab_train_512_jpg.rf.fccad496a3f76bc0883a8e8238bd3099.jpg: 448x640 1 leaf_scab, 8.5ms\n",
      "image 1429/1557 /workspace/Plant-Pathology-Anotation-7/train/images/scab_train_513_jpg.rf.7a23ecae9e21a494116987b136de1f5d.jpg: 448x640 1 leaf_scab, 8.2ms\n",
      "image 1430/1557 /workspace/Plant-Pathology-Anotation-7/train/images/scab_train_514_jpg.rf.1e5179884efaf132b53009ba6b7ad5e6.jpg: 448x640 1 leaf_scab, 8.2ms\n",
      "image 1431/1557 /workspace/Plant-Pathology-Anotation-7/train/images/scab_train_515_jpg.rf.61ee7fb4b67b14eb92885bc3cafa9e5a.jpg: 448x640 1 leaf_scab, 8.2ms\n",
      "image 1432/1557 /workspace/Plant-Pathology-Anotation-7/train/images/scab_train_516_jpg.rf.df5beaef528933c15c5d5a3deb1d725b.jpg: 448x640 1 leaf_scab, 8.5ms\n",
      "image 1433/1557 /workspace/Plant-Pathology-Anotation-7/train/images/scab_train_517_jpg.rf.614800b056ad9143e228dd3d1674f0ff.jpg: 448x640 1 leaf_scab, 8.2ms\n",
      "image 1434/1557 /workspace/Plant-Pathology-Anotation-7/train/images/scab_train_518_jpg.rf.60d3fc591ffd6fe4587e485d2b6fcd0b.jpg: 448x640 1 leaf_scab, 8.3ms\n",
      "image 1435/1557 /workspace/Plant-Pathology-Anotation-7/train/images/scab_train_519_jpg.rf.8c59708c5949ebd467ebd72f937181e7.jpg: 448x640 1 leaf_scab, 8.2ms\n",
      "image 1436/1557 /workspace/Plant-Pathology-Anotation-7/train/images/scab_train_51_jpg.rf.6d7d5ec583d03a37b603f35158c84819.jpg: 448x640 1 leaf_scab, 8.5ms\n",
      "image 1437/1557 /workspace/Plant-Pathology-Anotation-7/train/images/scab_train_520_jpg.rf.efe57b5a15d206fa23d6ed199fdeb950.jpg: 448x640 1 leaf_scab, 8.0ms\n",
      "image 1438/1557 /workspace/Plant-Pathology-Anotation-7/train/images/scab_train_521_jpg.rf.ef1bbff7b454fcef874216b2dd907309.jpg: 448x640 1 leaf_scab, 8.8ms\n",
      "image 1439/1557 /workspace/Plant-Pathology-Anotation-7/train/images/scab_train_522_jpg.rf.e791a168f64f85ba2a22da73000c97ff.jpg: 448x640 1 leaf_scab, 8.2ms\n",
      "image 1440/1557 /workspace/Plant-Pathology-Anotation-7/train/images/scab_train_523_jpg.rf.92ccb2f2d10b4530960770b6defad7fc.jpg: 448x640 2 leaf_scabs, 8.6ms\n",
      "image 1441/1557 /workspace/Plant-Pathology-Anotation-7/train/images/scab_train_524_jpg.rf.c76e52ebb6f5ca2952107fc0d11a3a69.jpg: 448x640 1 leaf_scab, 8.2ms\n",
      "image 1442/1557 /workspace/Plant-Pathology-Anotation-7/train/images/scab_train_525_jpg.rf.4544e1eede22e4793b39d242b7d23b88.jpg: 448x640 1 leaf_scab, 8.3ms\n",
      "image 1443/1557 /workspace/Plant-Pathology-Anotation-7/train/images/scab_train_526_jpg.rf.c985f486ef25813f0cb88d78f4eb05d7.jpg: 448x640 1 leaf_scab, 8.2ms\n",
      "image 1444/1557 /workspace/Plant-Pathology-Anotation-7/train/images/scab_train_527_jpg.rf.956ed4b5c711809540fa19babe0a5e38.jpg: 448x640 1 leaf_scab, 8.5ms\n",
      "image 1445/1557 /workspace/Plant-Pathology-Anotation-7/train/images/scab_train_528_jpg.rf.cc783413b1daaf254b14746e49f444aa.jpg: 448x640 1 leaf_scab, 8.0ms\n",
      "image 1446/1557 /workspace/Plant-Pathology-Anotation-7/train/images/scab_train_529_jpg.rf.3308bce99c932ffd8a783e343a2d49b2.jpg: 448x640 1 leaf_scab, 8.2ms\n",
      "image 1447/1557 /workspace/Plant-Pathology-Anotation-7/train/images/scab_train_52_jpg.rf.8824f09ca8ac321c21938aab6d72d205.jpg: 448x640 1 leaf_scab, 8.6ms\n",
      "image 1448/1557 /workspace/Plant-Pathology-Anotation-7/train/images/scab_train_530_jpg.rf.c7cfd3df47ec6bc9ebc1d9f9238c9397.jpg: 448x640 1 leaf_scab, 8.2ms\n",
      "image 1449/1557 /workspace/Plant-Pathology-Anotation-7/train/images/scab_train_531_jpg.rf.2a77a9d903048d89e4dc6fba81d67d2c.jpg: 448x640 1 leaf_scab, 8.2ms\n",
      "image 1450/1557 /workspace/Plant-Pathology-Anotation-7/train/images/scab_train_532_jpg.rf.7d96233d0b114a15cdc68db719e603f8.jpg: 448x640 1 leaf_scab, 8.2ms\n",
      "image 1451/1557 /workspace/Plant-Pathology-Anotation-7/train/images/scab_train_533_jpg.rf.c04fcbb378278439bae4f727e490c9f0.jpg: 448x640 2 leaf_scabs, 8.1ms\n",
      "image 1452/1557 /workspace/Plant-Pathology-Anotation-7/train/images/scab_train_534_jpg.rf.b6a8df75018a6716d94fec6387cf73b7.jpg: 448x640 1 leaf_scab, 8.3ms\n",
      "image 1453/1557 /workspace/Plant-Pathology-Anotation-7/train/images/scab_train_535_jpg.rf.f6eb2222d60ebdb7c5a57ee56c0ef158.jpg: 448x640 1 leaf_scab, 8.4ms\n",
      "image 1454/1557 /workspace/Plant-Pathology-Anotation-7/train/images/scab_train_536_jpg.rf.713633cf30e8a4c14eaa90480605cd05.jpg: 448x640 2 leaf_scabs, 8.3ms\n",
      "image 1455/1557 /workspace/Plant-Pathology-Anotation-7/train/images/scab_train_537_jpg.rf.018c1d98bf819f9f7b97e9eb9c66c41c.jpg: 448x640 1 leaf_scab, 8.3ms\n",
      "image 1456/1557 /workspace/Plant-Pathology-Anotation-7/train/images/scab_train_538_jpg.rf.c2f347d60ccb2011c7d78e70391d1c34.jpg: 448x640 1 leaf_scab, 8.4ms\n",
      "image 1457/1557 /workspace/Plant-Pathology-Anotation-7/train/images/scab_train_539_jpg.rf.527645fd9d10b8d09d03ff7af1ae57e6.jpg: 448x640 1 leaf_scab, 8.3ms\n",
      "image 1458/1557 /workspace/Plant-Pathology-Anotation-7/train/images/scab_train_53_jpg.rf.b5103b536b154e0037c9da7f21db80fa.jpg: 448x640 1 leaf_scab, 8.5ms\n",
      "image 1459/1557 /workspace/Plant-Pathology-Anotation-7/train/images/scab_train_540_jpg.rf.cba6cde86ba843f5e624e9db1ef8ca46.jpg: 448x640 1 leaf_scab, 8.7ms\n",
      "image 1460/1557 /workspace/Plant-Pathology-Anotation-7/train/images/scab_train_541_jpg.rf.cb2dcd02475f7282d88d7e6952f00b6f.jpg: 448x640 1 leaf_scab, 8.3ms\n",
      "image 1461/1557 /workspace/Plant-Pathology-Anotation-7/train/images/scab_train_543_jpg.rf.2217c5572454a0465ecce4630bebfa6a.jpg: 448x640 1 leaf_scab, 8.3ms\n",
      "image 1462/1557 /workspace/Plant-Pathology-Anotation-7/train/images/scab_train_544_jpg.rf.4d5acb904377215c94d1e17402c4dc02.jpg: 448x640 1 leaf_scab, 9.3ms\n",
      "image 1463/1557 /workspace/Plant-Pathology-Anotation-7/train/images/scab_train_545_jpg.rf.4a4ca8813ed8a6fb961859ee083c9881.jpg: 448x640 1 leaf_scab, 8.2ms\n",
      "image 1464/1557 /workspace/Plant-Pathology-Anotation-7/train/images/scab_train_546_jpg.rf.c737fbde7d82522f7f217e3d19cc4db8.jpg: 448x640 1 leaf_scab, 8.2ms\n",
      "image 1465/1557 /workspace/Plant-Pathology-Anotation-7/train/images/scab_train_547_jpg.rf.cef21d5489aa1822b679955d9f83e660.jpg: 448x640 1 leaf_scab, 8.4ms\n",
      "image 1466/1557 /workspace/Plant-Pathology-Anotation-7/train/images/scab_train_548_jpg.rf.fc85f146f1d32a2cc761f521e7de5caa.jpg: 448x640 1 leaf_scab, 8.1ms\n",
      "image 1467/1557 /workspace/Plant-Pathology-Anotation-7/train/images/scab_train_549_jpg.rf.e8e1393a33a11fa1c14781c6d94a7d3e.jpg: 448x640 1 leaf_scab, 8.5ms\n",
      "image 1468/1557 /workspace/Plant-Pathology-Anotation-7/train/images/scab_train_54_jpg.rf.2c212442c47fdea8d7edef12df996b81.jpg: 448x640 1 leaf_scab, 8.1ms\n",
      "image 1469/1557 /workspace/Plant-Pathology-Anotation-7/train/images/scab_train_550_jpg.rf.54b8175ec886f300ee3c19daa05bb17d.jpg: 448x640 1 leaf_scab, 8.2ms\n",
      "image 1470/1557 /workspace/Plant-Pathology-Anotation-7/train/images/scab_train_551_jpg.rf.6afd60049bf20cbcd34f9dc63c070e3a.jpg: 448x640 1 leaf_scab, 8.1ms\n",
      "image 1471/1557 /workspace/Plant-Pathology-Anotation-7/train/images/scab_train_552_jpg.rf.f2cbbf4a542dc6d0a5c522114188afba.jpg: 448x640 1 leaf_scab, 8.2ms\n",
      "image 1472/1557 /workspace/Plant-Pathology-Anotation-7/train/images/scab_train_553_jpg.rf.69c280e590c51396770674947ebda11a.jpg: 448x640 1 leaf_scab, 8.1ms\n",
      "image 1473/1557 /workspace/Plant-Pathology-Anotation-7/train/images/scab_train_554_jpg.rf.7b3e5138614a76fa603611c88b49c136.jpg: 448x640 1 leaf_scab, 8.1ms\n",
      "image 1474/1557 /workspace/Plant-Pathology-Anotation-7/train/images/scab_train_555_jpg.rf.450b9691197a38b4f5a27dd4b19d7e08.jpg: 448x640 1 leaf_scab, 8.6ms\n",
      "image 1475/1557 /workspace/Plant-Pathology-Anotation-7/train/images/scab_train_556_jpg.rf.34e5e8e093e16ff065c36dc7e2841787.jpg: 448x640 1 leaf_scab, 8.1ms\n",
      "image 1476/1557 /workspace/Plant-Pathology-Anotation-7/train/images/scab_train_557_jpg.rf.288b2583902cfa8a7c9d94f6a4706d1c.jpg: 448x640 1 leaf_scab, 8.4ms\n",
      "image 1477/1557 /workspace/Plant-Pathology-Anotation-7/train/images/scab_train_558_jpg.rf.559724221fa02e88a5da4a864b5315b6.jpg: 448x640 2 leaf_scabs, 8.0ms\n",
      "image 1478/1557 /workspace/Plant-Pathology-Anotation-7/train/images/scab_train_559_jpg.rf.7442a8d8cfdf246ef0520e32ff4fbd8d.jpg: 448x640 1 leaf_scab, 8.0ms\n",
      "image 1479/1557 /workspace/Plant-Pathology-Anotation-7/train/images/scab_train_55_jpg.rf.8990e93bdd2debed60dacb4ec7252583.jpg: 448x640 1 leaf_scab, 8.3ms\n",
      "image 1480/1557 /workspace/Plant-Pathology-Anotation-7/train/images/scab_train_560_jpg.rf.70bf1ac39dae4bfcbf75981355d56f00.jpg: 448x640 1 leaf_scab, 8.3ms\n",
      "image 1481/1557 /workspace/Plant-Pathology-Anotation-7/train/images/scab_train_561_jpg.rf.88d511155d0ca1d17e3a0420935599ac.jpg: 448x640 1 leaf_scab, 8.7ms\n",
      "image 1482/1557 /workspace/Plant-Pathology-Anotation-7/train/images/scab_train_562_jpg.rf.ff8b3211e160b5fb55d799996bdb01fc.jpg: 448x640 1 leaf_scab, 8.0ms\n",
      "image 1483/1557 /workspace/Plant-Pathology-Anotation-7/train/images/scab_train_563_jpg.rf.d30173d7b1ea119a37bc1bf3e2ecae90.jpg: 448x640 1 leaf_scab, 8.5ms\n",
      "image 1484/1557 /workspace/Plant-Pathology-Anotation-7/train/images/scab_train_565_jpg.rf.bd19a6747fe661aba7e4830f2b87949f.jpg: 448x640 1 leaf_scab, 8.3ms\n",
      "image 1485/1557 /workspace/Plant-Pathology-Anotation-7/train/images/scab_train_566_jpg.rf.d87c730ce0407c530355e4977cbb65b0.jpg: 448x640 1 leaf_scab, 8.2ms\n",
      "image 1486/1557 /workspace/Plant-Pathology-Anotation-7/train/images/scab_train_567_jpg.rf.2e73e34f1711f55de8eb844d1be617b2.jpg: 448x640 1 leaf_scab, 8.2ms\n",
      "image 1487/1557 /workspace/Plant-Pathology-Anotation-7/train/images/scab_train_568_jpg.rf.59218f34028969759b5a908d0031ced1.jpg: 448x640 2 leaf_scabs, 8.2ms\n",
      "image 1488/1557 /workspace/Plant-Pathology-Anotation-7/train/images/scab_train_569_jpg.rf.3c5bdd18a90fb0200e1b4851e9ceaf98.jpg: 448x640 1 leaf_rust, 1 leaf_scab, 8.0ms\n",
      "image 1489/1557 /workspace/Plant-Pathology-Anotation-7/train/images/scab_train_56_jpg.rf.bc9d3ab21d5ba93fa104a59339dd33e0.jpg: 448x640 1 leaf_scab, 8.5ms\n",
      "image 1490/1557 /workspace/Plant-Pathology-Anotation-7/train/images/scab_train_570_jpg.rf.977378f3272b01fb81a53d6e96519674.jpg: 448x640 1 leaf_scab, 8.1ms\n",
      "image 1491/1557 /workspace/Plant-Pathology-Anotation-7/train/images/scab_train_571_jpg.rf.6f170005e7dc4cb6aa1026fc49099ae0.jpg: 448x640 1 leaf_scab, 8.4ms\n",
      "image 1492/1557 /workspace/Plant-Pathology-Anotation-7/train/images/scab_train_572_jpg.rf.3204c936f27027b5d23bb02e7b52a75c.jpg: 448x640 1 leaf_scab, 8.1ms\n",
      "image 1493/1557 /workspace/Plant-Pathology-Anotation-7/train/images/scab_train_573_jpg.rf.53364ec7f75d9c383561c8d5f80f91c3.jpg: 448x640 1 leaf_scab, 8.3ms\n",
      "image 1494/1557 /workspace/Plant-Pathology-Anotation-7/train/images/scab_train_574_jpg.rf.ca8ce92e3645bb5fc9bde9cc1f8ad518.jpg: 448x640 1 leaf_scab, 8.1ms\n",
      "image 1495/1557 /workspace/Plant-Pathology-Anotation-7/train/images/scab_train_576_jpg.rf.7ca9a91e79e8cf2f4b204bdce5631950.jpg: 448x640 1 leaf_scab, 8.6ms\n",
      "image 1496/1557 /workspace/Plant-Pathology-Anotation-7/train/images/scab_train_577_jpg.rf.b11e4912b3979c678d10c2c0be1436a2.jpg: 448x640 2 leaf_scabs, 8.2ms\n",
      "image 1497/1557 /workspace/Plant-Pathology-Anotation-7/train/images/scab_train_578_jpg.rf.7498cd41ae62e5a1e6a1f3e7d62cc198.jpg: 448x640 1 leaf_scab, 8.1ms\n",
      "image 1498/1557 /workspace/Plant-Pathology-Anotation-7/train/images/scab_train_579_jpg.rf.f6a76c19a0455bf0ddf70ca57e4f2385.jpg: 448x640 1 leaf_scab, 8.4ms\n",
      "image 1499/1557 /workspace/Plant-Pathology-Anotation-7/train/images/scab_train_57_jpg.rf.287cf651a30fe39837431d8bf1a38856.jpg: 448x640 1 leaf_scab, 8.2ms\n",
      "image 1500/1557 /workspace/Plant-Pathology-Anotation-7/train/images/scab_train_580_jpg.rf.66e2ebb786dbc3bed01e4b164245e7a9.jpg: 448x640 1 leaf_scab, 8.4ms\n",
      "image 1501/1557 /workspace/Plant-Pathology-Anotation-7/train/images/scab_train_581_jpg.rf.c29d08f8fee0b86d87ddefbb607cb31f.jpg: 448x640 1 leaf_scab, 8.1ms\n",
      "image 1502/1557 /workspace/Plant-Pathology-Anotation-7/train/images/scab_train_582_jpg.rf.fde72a1af0ac9b89146765f557e37c4d.jpg: 448x640 1 leaf_scab, 8.4ms\n",
      "image 1503/1557 /workspace/Plant-Pathology-Anotation-7/train/images/scab_train_583_jpg.rf.1c63e504dee8c4d8653465bc0a27922b.jpg: 448x640 1 leaf_scab, 8.3ms\n",
      "image 1504/1557 /workspace/Plant-Pathology-Anotation-7/train/images/scab_train_584_jpg.rf.59be903fa2ff53f1922dd17ca7ef2099.jpg: 448x640 1 leaf_scab, 8.5ms\n",
      "image 1505/1557 /workspace/Plant-Pathology-Anotation-7/train/images/scab_train_585_jpg.rf.f88fbff07be3ee627a83ac6d32cced93.jpg: 448x640 1 leaf_scab, 8.1ms\n",
      "image 1506/1557 /workspace/Plant-Pathology-Anotation-7/train/images/scab_train_586_jpg.rf.eaecd0a90bee78811d3217bd216b2908.jpg: 448x640 1 leaf_scab, 8.6ms\n",
      "image 1507/1557 /workspace/Plant-Pathology-Anotation-7/train/images/scab_train_587_jpg.rf.335accfec5df62037b5fb40a726ea730.jpg: 448x640 1 leaf_scab, 8.2ms\n",
      "image 1508/1557 /workspace/Plant-Pathology-Anotation-7/train/images/scab_train_588_jpg.rf.1d37c10de1f5ff6727c912c07c36cc04.jpg: 448x640 1 leaf_scab, 8.5ms\n",
      "image 1509/1557 /workspace/Plant-Pathology-Anotation-7/train/images/scab_train_589_jpg.rf.f5972242704a7aef628c40ee47789001.jpg: 448x640 1 leaf_scab, 10.1ms\n",
      "image 1510/1557 /workspace/Plant-Pathology-Anotation-7/train/images/scab_train_58_jpg.rf.1417a85f15ecac4c3ad991b79039bea9.jpg: 448x640 1 leaf_scab, 8.4ms\n",
      "image 1511/1557 /workspace/Plant-Pathology-Anotation-7/train/images/scab_train_590_jpg.rf.e7f49faf919cd33c663efd1c9f0d5532.jpg: 448x640 2 leaf_scabs, 8.5ms\n",
      "image 1512/1557 /workspace/Plant-Pathology-Anotation-7/train/images/scab_train_591_jpg.rf.1ba5f089df0aaf6e21cde0222706813a.jpg: 448x640 3 leaf_scabs, 8.2ms\n",
      "image 1513/1557 /workspace/Plant-Pathology-Anotation-7/train/images/scab_train_592_jpg.rf.10b1ed6d9df281e2efe97f2168a7d9de.jpg: 448x640 1 leaf_scab, 8.6ms\n",
      "image 1514/1557 /workspace/Plant-Pathology-Anotation-7/train/images/scab_train_59_jpg.rf.2246d16af7b8fcbc74c68bdcc13bb952.jpg: 448x640 2 leaf_scabs, 7.9ms\n",
      "image 1515/1557 /workspace/Plant-Pathology-Anotation-7/train/images/scab_train_5_jpg.rf.c84a368d3576b95387b7668a0b6512ac.jpg: 448x640 1 leaf_scab, 8.2ms\n",
      "image 1516/1557 /workspace/Plant-Pathology-Anotation-7/train/images/scab_train_60_jpg.rf.bf36c3e79b3e20f288b62a80a629985a.jpg: 448x640 1 leaf_scab, 7.8ms\n",
      "image 1517/1557 /workspace/Plant-Pathology-Anotation-7/train/images/scab_train_61_jpg.rf.fddba189058de08db41d964cb79829f6.jpg: 640x448 1 leaf_scab, 38.7ms\n",
      "image 1518/1557 /workspace/Plant-Pathology-Anotation-7/train/images/scab_train_62_jpg.rf.c8fe35632752264b23ee0e5111af7973.jpg: 448x640 2 leaf_scabs, 8.5ms\n",
      "image 1519/1557 /workspace/Plant-Pathology-Anotation-7/train/images/scab_train_63_jpg.rf.163266d96e8a73baafc9d5e5c4758448.jpg: 448x640 1 leaf_scab, 8.0ms\n",
      "image 1520/1557 /workspace/Plant-Pathology-Anotation-7/train/images/scab_train_65_jpg.rf.e41bc7ad402dc1036a192cf8f575405e.jpg: 448x640 1 leaf_scab, 8.4ms\n",
      "image 1521/1557 /workspace/Plant-Pathology-Anotation-7/train/images/scab_train_66_jpg.rf.5931bda688d864119b7cf917881e9aa9.jpg: 448x640 1 leaf_scab, 8.2ms\n",
      "image 1522/1557 /workspace/Plant-Pathology-Anotation-7/train/images/scab_train_67_jpg.rf.1e2de824156f4276942d8ae227887774.jpg: 448x640 1 leaf_scab, 8.3ms\n",
      "image 1523/1557 /workspace/Plant-Pathology-Anotation-7/train/images/scab_train_68_jpg.rf.ce78b9789c670c17f844e35a6de18ac9.jpg: 448x640 1 leaf_scab, 8.1ms\n",
      "image 1524/1557 /workspace/Plant-Pathology-Anotation-7/train/images/scab_train_69_jpg.rf.709599d24e7a1744c158173dc46bb216.jpg: 448x640 1 leaf_scab, 8.5ms\n",
      "image 1525/1557 /workspace/Plant-Pathology-Anotation-7/train/images/scab_train_6_jpg.rf.f169e73b36e562e332cb43ff22505f2e.jpg: 448x640 1 leaf_scab, 8.2ms\n",
      "image 1526/1557 /workspace/Plant-Pathology-Anotation-7/train/images/scab_train_70_jpg.rf.addb706083c60fef6139453037e21c40.jpg: 448x640 1 leaf_scab, 8.5ms\n",
      "image 1527/1557 /workspace/Plant-Pathology-Anotation-7/train/images/scab_train_71_jpg.rf.59b82d6547e4ea20a65eb5df31b3a07a.jpg: 448x640 1 leaf_scab, 8.4ms\n",
      "image 1528/1557 /workspace/Plant-Pathology-Anotation-7/train/images/scab_train_72_jpg.rf.64e4156afb8b032edd5f6785cb4b84d0.jpg: 448x640 1 leaf_scab, 8.0ms\n",
      "image 1529/1557 /workspace/Plant-Pathology-Anotation-7/train/images/scab_train_73_jpg.rf.197a3bcdf20ce8e434443a2e6bba1e3f.jpg: 448x640 1 leaf_scab, 8.1ms\n",
      "image 1530/1557 /workspace/Plant-Pathology-Anotation-7/train/images/scab_train_74_jpg.rf.299f76378381a3632804411936d9ff9a.jpg: 448x640 1 leaf_scab, 8.9ms\n",
      "image 1531/1557 /workspace/Plant-Pathology-Anotation-7/train/images/scab_train_75_jpg.rf.5708cdbeb41c41ac6d04e375e3752eba.jpg: 448x640 1 leaf_scab, 8.3ms\n",
      "image 1532/1557 /workspace/Plant-Pathology-Anotation-7/train/images/scab_train_76_jpg.rf.137e93e780fd53c4da2fcf34146a3809.jpg: 448x640 1 leaf_scab, 8.0ms\n",
      "image 1533/1557 /workspace/Plant-Pathology-Anotation-7/train/images/scab_train_77_jpg.rf.bce2163cb4468c5171e4456ca52c1ed5.jpg: 448x640 1 leaf_scab, 8.3ms\n",
      "image 1534/1557 /workspace/Plant-Pathology-Anotation-7/train/images/scab_train_78_jpg.rf.fc2731b22321a0147a5a0d89efe5a2ab.jpg: 448x640 1 leaf_scab, 8.0ms\n",
      "image 1535/1557 /workspace/Plant-Pathology-Anotation-7/train/images/scab_train_79_jpg.rf.b207a127746e98e43eaf78747b87d617.jpg: 448x640 1 leaf_scab, 8.5ms\n",
      "image 1536/1557 /workspace/Plant-Pathology-Anotation-7/train/images/scab_train_7_jpg.rf.38c0c5d82a5a7deaac593f9611eb0b38.jpg: 448x640 1 leaf_scab, 8.3ms\n",
      "image 1537/1557 /workspace/Plant-Pathology-Anotation-7/train/images/scab_train_80_jpg.rf.36ea9a73281b9321c8fa4a8b0f1870ea.jpg: 448x640 1 leaf_scab, 8.0ms\n",
      "image 1538/1557 /workspace/Plant-Pathology-Anotation-7/train/images/scab_train_81_jpg.rf.d09dee8490eb2523f4cc553a61fc36ea.jpg: 448x640 1 leaf_scab, 8.0ms\n",
      "image 1539/1557 /workspace/Plant-Pathology-Anotation-7/train/images/scab_train_82_jpg.rf.fca689666992a82ce093a3b535cf8524.jpg: 448x640 1 leaf_scab, 8.0ms\n",
      "image 1540/1557 /workspace/Plant-Pathology-Anotation-7/train/images/scab_train_83_jpg.rf.679437457a479cebc347471348b6267a.jpg: 448x640 1 leaf_scab, 8.0ms\n",
      "image 1541/1557 /workspace/Plant-Pathology-Anotation-7/train/images/scab_train_84_jpg.rf.c65c26f0cc0758cc28599b64845b386e.jpg: 448x640 2 leaf_scabs, 8.0ms\n",
      "image 1542/1557 /workspace/Plant-Pathology-Anotation-7/train/images/scab_train_85_jpg.rf.d0f863818bc32ab5d6bce89bdc9a3f32.jpg: 448x640 1 leaf_scab, 8.1ms\n",
      "image 1543/1557 /workspace/Plant-Pathology-Anotation-7/train/images/scab_train_86_jpg.rf.ef42575d34958b61acaa911b249f6aab.jpg: 448x640 1 leaf_scab, 8.2ms\n",
      "image 1544/1557 /workspace/Plant-Pathology-Anotation-7/train/images/scab_train_87_jpg.rf.97d8d6f6287154c6a0f24db36df70dca.jpg: 448x640 1 leaf_scab, 8.5ms\n",
      "image 1545/1557 /workspace/Plant-Pathology-Anotation-7/train/images/scab_train_88_jpg.rf.ab4ce82b5b683e87c1000f6dd11245b2.jpg: 448x640 1 leaf_scab, 8.3ms\n",
      "image 1546/1557 /workspace/Plant-Pathology-Anotation-7/train/images/scab_train_89_jpg.rf.886271a70555a2804cf24c060760b88f.jpg: 448x640 1 leaf_scab, 8.1ms\n",
      "image 1547/1557 /workspace/Plant-Pathology-Anotation-7/train/images/scab_train_8_jpg.rf.9806e34da5f6e2a2ed43a2f7f6280101.jpg: 448x640 1 leaf_scab, 8.1ms\n",
      "image 1548/1557 /workspace/Plant-Pathology-Anotation-7/train/images/scab_train_90_jpg.rf.3d10dee3a469758075c2a3841afa1204.jpg: 448x640 1 leaf_scab, 8.4ms\n",
      "image 1549/1557 /workspace/Plant-Pathology-Anotation-7/train/images/scab_train_91_jpg.rf.4dbff1512dc6cce8ec3d2d10b42c4e57.jpg: 448x640 1 leaf_scab, 8.1ms\n",
      "image 1550/1557 /workspace/Plant-Pathology-Anotation-7/train/images/scab_train_92_jpg.rf.a2e4ba94aee89d1cff07040923eebded.jpg: 448x640 1 leaf_scab, 8.1ms\n",
      "image 1551/1557 /workspace/Plant-Pathology-Anotation-7/train/images/scab_train_93_jpg.rf.b5c5d91f94294780aaaf1eeabe06468d.jpg: 448x640 1 leaf_scab, 8.1ms\n",
      "image 1552/1557 /workspace/Plant-Pathology-Anotation-7/train/images/scab_train_94_jpg.rf.d73438cde2020dd03a33ea0ab79eb29e.jpg: 448x640 1 leaf_scab, 8.2ms\n",
      "image 1553/1557 /workspace/Plant-Pathology-Anotation-7/train/images/scab_train_95_jpg.rf.6bffa1a76696add57da1f9adfb25066c.jpg: 448x640 1 leaf_scab, 8.1ms\n",
      "image 1554/1557 /workspace/Plant-Pathology-Anotation-7/train/images/scab_train_96_jpg.rf.189b79df7e874ead8a20275593955b77.jpg: 448x640 1 leaf_scab, 8.5ms\n",
      "image 1555/1557 /workspace/Plant-Pathology-Anotation-7/train/images/scab_train_97_jpg.rf.cacf4f64dc20801617682f8b535f2d42.jpg: 448x640 1 leaf_scab, 8.1ms\n",
      "image 1556/1557 /workspace/Plant-Pathology-Anotation-7/train/images/scab_train_99_jpg.rf.b79d4b950815eb6412bc27f5afef8f56.jpg: 448x640 1 leaf_scab, 8.1ms\n",
      "image 1557/1557 /workspace/Plant-Pathology-Anotation-7/train/images/scab_train_9_jpg.rf.fdf0f48d34023880b0dddd2909c22c23.jpg: 448x640 2 leaf_scabs, 8.9ms\n",
      "Speed: 1.6ms preprocess, 8.7ms inference, 1.1ms postprocess per image at shape (1, 3, 448, 640)\n"
     ]
    }
   ],
   "source": [
    "auto_annotate(data=\"Plant-Pathology-Anotation-7/train/images/\", det_model=\"model/best.pt\", sam_model=\"sam2_b.pt\", output_dir=\"Plant-Pathology-Anotation-7/train/labels/\")"
   ]
  },
  {
   "cell_type": "code",
   "execution_count": 5,
   "id": "f7fc6dff",
   "metadata": {
    "scrolled": true
   },
   "outputs": [
    {
     "name": "stdout",
     "output_type": "stream",
     "text": [
      "\n",
      "image 1/1739 /workspace/Plant-Pathology-Anotation-7/test/images/healthy_test_100_jpg.rf.e1a62c8829771ce4a544178acf5b9645.jpg: 448x640 1 leaf_rust, 1 leaf_scab, 8.1ms\n",
      "image 2/1739 /workspace/Plant-Pathology-Anotation-7/test/images/healthy_test_101_jpg.rf.e3d192646352805ac0c1dd7b5a03237e.jpg: 448x640 3 leaf_healthys, 8.2ms\n",
      "image 3/1739 /workspace/Plant-Pathology-Anotation-7/test/images/healthy_test_102_jpg.rf.295c3e1658832037e8b98f9e57a93fb1.jpg: 448x640 2 leaf_healthys, 8.5ms\n",
      "image 4/1739 /workspace/Plant-Pathology-Anotation-7/test/images/healthy_test_103_jpg.rf.40b9e4bad6ed3c534d699e55f7dbc57e.jpg: 448x640 3 leaf_healthys, 8.5ms\n",
      "image 5/1739 /workspace/Plant-Pathology-Anotation-7/test/images/healthy_test_104_jpg.rf.9bbc32acf8a1a9543bd77cbb916a3c06.jpg: 448x640 3 leaf_healthys, 8.2ms\n",
      "image 6/1739 /workspace/Plant-Pathology-Anotation-7/test/images/healthy_test_105_jpg.rf.5fa504856a01ceb007c0b6d7b9c434e2.jpg: 448x640 4 leaf_healthys, 8.4ms\n",
      "image 7/1739 /workspace/Plant-Pathology-Anotation-7/test/images/healthy_test_106_jpg.rf.44211c5e581b36deac7af35d97c6eeef.jpg: 448x640 4 leaf_healthys, 8.2ms\n",
      "image 8/1739 /workspace/Plant-Pathology-Anotation-7/test/images/healthy_test_107_jpg.rf.0ba8ee6e9cde8cbfa951f2c97eb67e52.jpg: 448x640 3 leaf_healthys, 8.6ms\n",
      "image 9/1739 /workspace/Plant-Pathology-Anotation-7/test/images/healthy_test_108_jpg.rf.24d3a7314f05ce44f85a77da20cdec7e.jpg: 448x640 2 leaf_healthys, 8.2ms\n",
      "image 10/1739 /workspace/Plant-Pathology-Anotation-7/test/images/healthy_test_109_jpg.rf.826f35c730a5e56a5f4778a00d703cbb.jpg: 448x640 2 leaf_healthys, 8.4ms\n",
      "image 11/1739 /workspace/Plant-Pathology-Anotation-7/test/images/healthy_test_10_jpg.rf.1dc02cc869f36b0696785ccd6c629290.jpg: 448x640 4 leaf_healthys, 8.1ms\n",
      "image 12/1739 /workspace/Plant-Pathology-Anotation-7/test/images/healthy_test_110_jpg.rf.df61fec533d7f3730063774d0c35c68a.jpg: 448x640 8 leaf_healthys, 8.8ms\n",
      "image 13/1739 /workspace/Plant-Pathology-Anotation-7/test/images/healthy_test_111_jpg.rf.7f417b2b2d0df75205097dde4ad0a7e7.jpg: 448x640 4 leaf_healthys, 8.1ms\n",
      "image 14/1739 /workspace/Plant-Pathology-Anotation-7/test/images/healthy_test_112_jpg.rf.56c6c3b71aefa58216e3b5ac9ac4a9bc.jpg: 448x640 2 leaf_healthys, 8.5ms\n",
      "image 15/1739 /workspace/Plant-Pathology-Anotation-7/test/images/healthy_test_113_jpg.rf.061a2d26a724656c2a5fb91ace82a95c.jpg: 448x640 6 leaf_healthys, 8.5ms\n",
      "image 16/1739 /workspace/Plant-Pathology-Anotation-7/test/images/healthy_test_114_jpg.rf.892f7d0730f8f59eab93de756501ce10.jpg: 448x640 1 leaf_scab, 8.6ms\n",
      "image 17/1739 /workspace/Plant-Pathology-Anotation-7/test/images/healthy_test_115_jpg.rf.a7bb8cd31a013a918d401a2ae3d9aae1.jpg: 448x640 2 leaf_healthys, 8.2ms\n",
      "image 18/1739 /workspace/Plant-Pathology-Anotation-7/test/images/healthy_test_116_jpg.rf.b0548622387627952b11f5c6448d91cc.jpg: 448x640 3 leaf_healthys, 8.0ms\n",
      "image 19/1739 /workspace/Plant-Pathology-Anotation-7/test/images/healthy_test_117_jpg.rf.dcca970bb4f2cee2793b2976013861e4.jpg: 448x640 1 leaf_healthy, 8.7ms\n",
      "image 20/1739 /workspace/Plant-Pathology-Anotation-7/test/images/healthy_test_118_jpg.rf.b639946a5d2523761fa312c5c9339d8a.jpg: 448x640 2 leaf_healthys, 1 leaf_rust, 8.1ms\n",
      "image 21/1739 /workspace/Plant-Pathology-Anotation-7/test/images/healthy_test_119_jpg.rf.fa9c990a977e35a9e2601d33ff43e244.jpg: 448x640 4 leaf_healthys, 8.1ms\n",
      "image 22/1739 /workspace/Plant-Pathology-Anotation-7/test/images/healthy_test_11_jpg.rf.ce9141722b38fe9715b1ab25acc245de.jpg: 448x640 1 leaf_rust, 8.5ms\n",
      "image 23/1739 /workspace/Plant-Pathology-Anotation-7/test/images/healthy_test_120_jpg.rf.e7f1ccc76b6ba4ec5b02d4ad058560bd.jpg: 448x640 4 leaf_healthys, 8.3ms\n",
      "image 24/1739 /workspace/Plant-Pathology-Anotation-7/test/images/healthy_test_121_jpg.rf.76f75dba861845035ed805c89d302365.jpg: 448x640 5 leaf_healthys, 8.2ms\n",
      "image 25/1739 /workspace/Plant-Pathology-Anotation-7/test/images/healthy_test_122_jpg.rf.58c9ce4948e48cb0c3eedc0415cdc01e.jpg: 448x640 1 leaf_healthy, 8.6ms\n",
      "image 26/1739 /workspace/Plant-Pathology-Anotation-7/test/images/healthy_test_123_jpg.rf.e437189f0537eae23efb2e75e29f6455.jpg: 448x640 6 leaf_healthys, 8.2ms\n",
      "image 27/1739 /workspace/Plant-Pathology-Anotation-7/test/images/healthy_test_124_jpg.rf.b46fe0e6bf9e002855a4175972def778.jpg: 448x640 5 leaf_healthys, 8.2ms\n",
      "image 28/1739 /workspace/Plant-Pathology-Anotation-7/test/images/healthy_test_125_jpg.rf.c76ffdccd648f0db4e17ea08ba96aaa3.jpg: 448x640 4 leaf_healthys, 8.7ms\n",
      "image 29/1739 /workspace/Plant-Pathology-Anotation-7/test/images/healthy_test_126_jpg.rf.a74732672d3f24d84ce2fdb1d1ff4220.jpg: 448x640 6 leaf_healthys, 8.1ms\n",
      "image 30/1739 /workspace/Plant-Pathology-Anotation-7/test/images/healthy_test_127_jpg.rf.de617a38c30e95b4166f9cc4e1643d4b.jpg: 448x640 5 leaf_healthys, 8.6ms\n",
      "image 31/1739 /workspace/Plant-Pathology-Anotation-7/test/images/healthy_test_128_jpg.rf.e82e279f22924b0206632d958b685082.jpg: 448x640 2 leaf_healthys, 8.2ms\n",
      "image 32/1739 /workspace/Plant-Pathology-Anotation-7/test/images/healthy_test_129_jpg.rf.f23d8ebe27d17bb2ea69ef9452d3670b.jpg: 448x640 2 leaf_healthys, 8.4ms\n",
      "image 33/1739 /workspace/Plant-Pathology-Anotation-7/test/images/healthy_test_12_jpg.rf.5b19e3e93dee9dbacc3cac7fab09568f.jpg: 448x640 4 leaf_healthys, 1 leaf_rust, 8.2ms\n",
      "image 34/1739 /workspace/Plant-Pathology-Anotation-7/test/images/healthy_test_130_jpg.rf.396978268ad0d2575f2cda824e35a5fb.jpg: 448x640 3 leaf_healthys, 8.7ms\n",
      "image 35/1739 /workspace/Plant-Pathology-Anotation-7/test/images/healthy_test_131_jpg.rf.c7d6027ed63640f268204b4a144f9b57.jpg: 448x640 6 leaf_healthys, 8.5ms\n",
      "image 36/1739 /workspace/Plant-Pathology-Anotation-7/test/images/healthy_test_132_jpg.rf.09f662033fc49cccc3d26ecaab888be8.jpg: 448x640 2 leaf_healthys, 8.6ms\n",
      "image 37/1739 /workspace/Plant-Pathology-Anotation-7/test/images/healthy_test_133_jpg.rf.d14dccb0c2eeb6f0c5a8cb2eca40a2c2.jpg: 448x640 4 leaf_healthys, 8.1ms\n",
      "image 38/1739 /workspace/Plant-Pathology-Anotation-7/test/images/healthy_test_134_jpg.rf.0e75a9e02ee04406bb64cd2968e577e4.jpg: 448x640 4 leaf_healthys, 8.7ms\n",
      "image 39/1739 /workspace/Plant-Pathology-Anotation-7/test/images/healthy_test_135_jpg.rf.6f47b37bcabfae6d92025735ae7dc9d7.jpg: 448x640 3 leaf_healthys, 8.2ms\n",
      "image 40/1739 /workspace/Plant-Pathology-Anotation-7/test/images/healthy_test_136_jpg.rf.83ec5c364d4c582c6edd4f36dd760ff8.jpg: 448x640 6 leaf_healthys, 8.5ms\n",
      "image 41/1739 /workspace/Plant-Pathology-Anotation-7/test/images/healthy_test_137_jpg.rf.93bf30d48e902738e8772bd7e43629b5.jpg: 448x640 2 leaf_healthys, 1 leaf_rust, 8.1ms\n",
      "image 42/1739 /workspace/Plant-Pathology-Anotation-7/test/images/healthy_test_138_jpg.rf.149a337a3fec2a4d91d2946eb589d0ef.jpg: 448x640 2 leaf_healthys, 8.6ms\n",
      "image 43/1739 /workspace/Plant-Pathology-Anotation-7/test/images/healthy_test_139_jpg.rf.dcf0bd46ea29c723d065ea5aaec45948.jpg: 448x640 3 leaf_healthys, 8.1ms\n",
      "image 44/1739 /workspace/Plant-Pathology-Anotation-7/test/images/healthy_test_13_jpg.rf.38189d9bfad696db5febc33c40434b59.jpg: 448x640 7 leaf_healthys, 8.7ms\n",
      "image 45/1739 /workspace/Plant-Pathology-Anotation-7/test/images/healthy_test_140_jpg.rf.32a4521e295301542c8edfc248df9e5b.jpg: 448x640 12 leaf_healthys, 8.1ms\n",
      "image 46/1739 /workspace/Plant-Pathology-Anotation-7/test/images/healthy_test_141_jpg.rf.3cd508b89fcc9a4c958b199037b30a8a.jpg: 448x640 3 leaf_healthys, 8.4ms\n",
      "image 47/1739 /workspace/Plant-Pathology-Anotation-7/test/images/healthy_test_142_jpg.rf.a3f472762e0cca9a7ff7f4e95b2cd16f.jpg: 448x640 2 leaf_healthys, 8.1ms\n",
      "image 48/1739 /workspace/Plant-Pathology-Anotation-7/test/images/healthy_test_143_jpg.rf.9f03e6dcaa53e5ea83bd36772384a7eb.jpg: 448x640 1 leaf_healthy, 1 leaf_rust, 8.6ms\n",
      "image 49/1739 /workspace/Plant-Pathology-Anotation-7/test/images/healthy_test_144_jpg.rf.98c700912a2d27e64fdbe191209391c4.jpg: 448x640 4 leaf_healthys, 8.1ms\n",
      "image 50/1739 /workspace/Plant-Pathology-Anotation-7/test/images/healthy_test_145_jpg.rf.bc5f8ae2fe778da9620b83971b3b0692.jpg: 448x640 3 leaf_healthys, 8.5ms\n",
      "image 51/1739 /workspace/Plant-Pathology-Anotation-7/test/images/healthy_test_146_jpg.rf.a1018f95727ef90278fdd41bd84e79b5.jpg: 448x640 1 leaf_healthy, 8.2ms\n",
      "image 52/1739 /workspace/Plant-Pathology-Anotation-7/test/images/healthy_test_147_jpg.rf.7178f86ef4b4d55a17680db0668b3d09.jpg: 448x640 6 leaf_healthys, 8.3ms\n",
      "image 53/1739 /workspace/Plant-Pathology-Anotation-7/test/images/healthy_test_148_jpg.rf.5c69c3455ece634b79ce4ededea91518.jpg: 448x640 4 leaf_healthys, 8.2ms\n",
      "image 54/1739 /workspace/Plant-Pathology-Anotation-7/test/images/healthy_test_149_jpg.rf.9ea1116639589904416746e649efff55.jpg: 448x640 6 leaf_healthys, 8.7ms\n",
      "image 55/1739 /workspace/Plant-Pathology-Anotation-7/test/images/healthy_test_14_jpg.rf.c7d2ddcabc5f78c0254866a05cf909b1.jpg: 448x640 2 leaf_healthys, 8.5ms\n",
      "image 56/1739 /workspace/Plant-Pathology-Anotation-7/test/images/healthy_test_150_jpg.rf.4638fb0cb6221e9099251e8dde790f60.jpg: 448x640 5 leaf_healthys, 8.5ms\n",
      "image 57/1739 /workspace/Plant-Pathology-Anotation-7/test/images/healthy_test_151_jpg.rf.0dd078c668ffffe02ce428408d3aa237.jpg: 448x640 1 leaf_healthy, 8.1ms\n",
      "image 58/1739 /workspace/Plant-Pathology-Anotation-7/test/images/healthy_test_152_jpg.rf.acb217578abc00e856acf5bea7fd1aef.jpg: 448x640 2 leaf_healthys, 8.2ms\n",
      "image 59/1739 /workspace/Plant-Pathology-Anotation-7/test/images/healthy_test_153_jpg.rf.a210133ea81558d3814163e95c8dce2a.jpg: 448x640 2 leaf_healthys, 8.6ms\n",
      "image 60/1739 /workspace/Plant-Pathology-Anotation-7/test/images/healthy_test_154_jpg.rf.9d54f560b45af204253845da608aa597.jpg: 448x640 3 leaf_healthys, 9.0ms\n",
      "image 61/1739 /workspace/Plant-Pathology-Anotation-7/test/images/healthy_test_155_jpg.rf.271251c4fc6bbdcf2395fc5cf375d63a.jpg: 448x640 1 leaf_healthy, 8.2ms\n",
      "image 62/1739 /workspace/Plant-Pathology-Anotation-7/test/images/healthy_test_156_jpg.rf.d7b4c35f98fda701bec0a70b0861a991.jpg: 448x640 7 leaf_healthys, 8.5ms\n",
      "image 63/1739 /workspace/Plant-Pathology-Anotation-7/test/images/healthy_test_157_jpg.rf.5f26d012294eb9b2e7943dcb03ed24a1.jpg: 448x640 5 leaf_healthys, 8.1ms\n",
      "image 64/1739 /workspace/Plant-Pathology-Anotation-7/test/images/healthy_test_158_jpg.rf.576504d7c96291fd76adf71253b20ddc.jpg: 448x640 2 leaf_healthys, 1 leaf_rust, 8.5ms\n",
      "image 65/1739 /workspace/Plant-Pathology-Anotation-7/test/images/healthy_test_159_jpg.rf.a72677415bd55ec6cbda7141dc572487.jpg: 448x640 1 leaf_scab, 8.5ms\n",
      "image 66/1739 /workspace/Plant-Pathology-Anotation-7/test/images/healthy_test_15_jpg.rf.df3b4a2432bd320dfe7ef0bd976fe67f.jpg: 448x640 3 leaf_healthys, 8.3ms\n",
      "image 67/1739 /workspace/Plant-Pathology-Anotation-7/test/images/healthy_test_160_jpg.rf.d3e201f0efc353e141e4eb81a341a592.jpg: 448x640 2 leaf_healthys, 8.5ms\n",
      "image 68/1739 /workspace/Plant-Pathology-Anotation-7/test/images/healthy_test_161_jpg.rf.a82419fdc4749108835695ba82be1cba.jpg: 448x640 5 leaf_healthys, 8.5ms\n",
      "image 69/1739 /workspace/Plant-Pathology-Anotation-7/test/images/healthy_test_162_jpg.rf.26e45fdc0280464ffeb2ec63ac12cc0d.jpg: 448x640 2 leaf_healthys, 8.5ms\n",
      "image 70/1739 /workspace/Plant-Pathology-Anotation-7/test/images/healthy_test_163_jpg.rf.0955f49fc40d3573457cf4a787d3d2a3.jpg: 448x640 2 leaf_healthys, 8.9ms\n",
      "image 71/1739 /workspace/Plant-Pathology-Anotation-7/test/images/healthy_test_164_jpg.rf.d1dabf216854557efcd08656c538a878.jpg: 448x640 3 leaf_healthys, 8.0ms\n",
      "image 72/1739 /workspace/Plant-Pathology-Anotation-7/test/images/healthy_test_165_jpg.rf.4bd4e5f2e088f8900207065fbfa6e222.jpg: 448x640 3 leaf_healthys, 8.9ms\n",
      "image 73/1739 /workspace/Plant-Pathology-Anotation-7/test/images/healthy_test_166_jpg.rf.39ab7eab63f4acef02a6872d59e683cf.jpg: 448x640 5 leaf_healthys, 8.1ms\n",
      "image 74/1739 /workspace/Plant-Pathology-Anotation-7/test/images/healthy_test_167_jpg.rf.6d7a20043c1a570f6d1200003a5f5791.jpg: 448x640 4 leaf_healthys, 1 leaf_scab, 8.8ms\n",
      "image 75/1739 /workspace/Plant-Pathology-Anotation-7/test/images/healthy_test_168_jpg.rf.5bdc01091135cfa02a8a7677fef3786b.jpg: 448x640 1 leaf_healthy, 8.1ms\n",
      "image 76/1739 /workspace/Plant-Pathology-Anotation-7/test/images/healthy_test_169_jpg.rf.5a21a5465738a0cbc015cff66e6b010c.jpg: 448x640 1 leaf_healthy, 9.1ms\n",
      "image 77/1739 /workspace/Plant-Pathology-Anotation-7/test/images/healthy_test_16_jpg.rf.b027ada902288bd426e4a2e830333d21.jpg: 448x640 4 leaf_healthys, 8.4ms\n",
      "image 78/1739 /workspace/Plant-Pathology-Anotation-7/test/images/healthy_test_170_jpg.rf.c2b21d1eb272b046f4abb498750e5fce.jpg: 448x640 6 leaf_healthys, 9.4ms\n",
      "image 79/1739 /workspace/Plant-Pathology-Anotation-7/test/images/healthy_test_171_jpg.rf.b4ac1d752d3fd04ac76eed11f0f19d91.jpg: 448x640 4 leaf_healthys, 8.5ms\n",
      "image 80/1739 /workspace/Plant-Pathology-Anotation-7/test/images/healthy_test_172_jpg.rf.132a44be58bb0f066c44fb5482e6950b.jpg: 448x640 5 leaf_healthys, 9.3ms\n",
      "image 81/1739 /workspace/Plant-Pathology-Anotation-7/test/images/healthy_test_173_jpg.rf.4574c5f236b4bfd098def3020f15f248.jpg: 448x640 1 leaf_rust, 8.2ms\n",
      "image 82/1739 /workspace/Plant-Pathology-Anotation-7/test/images/healthy_test_174_jpg.rf.196e50fbb7404b652aa7d8ada9b84026.jpg: 448x640 4 leaf_healthys, 8.2ms\n",
      "image 83/1739 /workspace/Plant-Pathology-Anotation-7/test/images/healthy_test_175_jpg.rf.76a2f8d69c0072c6e6a612d94dd71792.jpg: 448x640 1 leaf_rust, 8.2ms\n",
      "image 84/1739 /workspace/Plant-Pathology-Anotation-7/test/images/healthy_test_176_jpg.rf.5711dfb9c395ed5eac8bed59f3f4a104.jpg: 448x640 4 leaf_healthys, 8.6ms\n",
      "image 85/1739 /workspace/Plant-Pathology-Anotation-7/test/images/healthy_test_177_jpg.rf.80a79d1ea518b4027d434abedb1c4e6e.jpg: 448x640 5 leaf_healthys, 8.3ms\n",
      "image 86/1739 /workspace/Plant-Pathology-Anotation-7/test/images/healthy_test_178_jpg.rf.1c98886dfc6a216ddc66f85284bae2df.jpg: 448x640 2 leaf_healthys, 8.9ms\n",
      "image 87/1739 /workspace/Plant-Pathology-Anotation-7/test/images/healthy_test_179_jpg.rf.cfb9b2da001ca751763366ab295a21fe.jpg: 448x640 1 leaf_healthy, 1 leaf_rust, 8.1ms\n",
      "image 88/1739 /workspace/Plant-Pathology-Anotation-7/test/images/healthy_test_17_jpg.rf.a9925673cacc35d6b06812ad16197231.jpg: 448x640 2 leaf_healthys, 8.4ms\n",
      "image 89/1739 /workspace/Plant-Pathology-Anotation-7/test/images/healthy_test_180_jpg.rf.3220c8722ae7c746a3ae104b1962dc41.jpg: 448x640 1 leaf_rust, 8.1ms\n",
      "image 90/1739 /workspace/Plant-Pathology-Anotation-7/test/images/healthy_test_181_jpg.rf.ad2ea9a45d8792c0100902b44840e10d.jpg: 448x640 7 leaf_healthys, 8.2ms\n",
      "image 91/1739 /workspace/Plant-Pathology-Anotation-7/test/images/healthy_test_182_jpg.rf.0b556232e9aa5303ff53552d968e35dd.jpg: 448x640 5 leaf_healthys, 8.1ms\n",
      "image 92/1739 /workspace/Plant-Pathology-Anotation-7/test/images/healthy_test_183_jpg.rf.b0845e2bcbe175c75be5bb2759eeb04e.jpg: 448x640 4 leaf_healthys, 8.4ms\n",
      "image 93/1739 /workspace/Plant-Pathology-Anotation-7/test/images/healthy_test_184_jpg.rf.2f46d3f262753df7ac6c4468bf254c1d.jpg: 448x640 4 leaf_healthys, 8.3ms\n",
      "image 94/1739 /workspace/Plant-Pathology-Anotation-7/test/images/healthy_test_185_jpg.rf.3972ac6ac4285f4fdcd34c3ebbe7a266.jpg: 448x640 6 leaf_healthys, 9.2ms\n",
      "image 95/1739 /workspace/Plant-Pathology-Anotation-7/test/images/healthy_test_186_jpg.rf.bd8e42be9d11252632ac22c1e91896e6.jpg: 448x640 2 leaf_healthys, 8.2ms\n",
      "image 96/1739 /workspace/Plant-Pathology-Anotation-7/test/images/healthy_test_187_jpg.rf.1c3c49d8222e52b12eed4e238fb87e7d.jpg: 448x640 2 leaf_healthys, 8.9ms\n",
      "image 97/1739 /workspace/Plant-Pathology-Anotation-7/test/images/healthy_test_188_jpg.rf.d108a6267d488581b9dceb966392ae0c.jpg: 448x640 1 leaf_healthy, 8.0ms\n",
      "image 98/1739 /workspace/Plant-Pathology-Anotation-7/test/images/healthy_test_189_jpg.rf.694d82e9913deb7388e1d60de9d3cc10.jpg: 448x640 4 leaf_healthys, 8.2ms\n",
      "image 99/1739 /workspace/Plant-Pathology-Anotation-7/test/images/healthy_test_18_jpg.rf.2fbc0a3917ab15a7a919ec65c96b9ce6.jpg: 448x640 4 leaf_healthys, 8.1ms\n",
      "image 100/1739 /workspace/Plant-Pathology-Anotation-7/test/images/healthy_test_190_jpg.rf.e3a56cd5be25636d4b5be7385c062168.jpg: 448x640 6 leaf_healthys, 9.4ms\n",
      "image 101/1739 /workspace/Plant-Pathology-Anotation-7/test/images/healthy_test_191_jpg.rf.51e158a06b49b1940ccdc4f326a85904.jpg: 448x640 4 leaf_healthys, 8.2ms\n",
      "image 102/1739 /workspace/Plant-Pathology-Anotation-7/test/images/healthy_test_192_jpg.rf.8fb47b9b453b9849d0fc22eea52a1f3e.jpg: 448x640 1 leaf_healthy, 8.9ms\n",
      "image 103/1739 /workspace/Plant-Pathology-Anotation-7/test/images/healthy_test_193_jpg.rf.d8d202af79caebfb063ea754bbf48c6b.jpg: 448x640 4 leaf_healthys, 9.0ms\n",
      "image 104/1739 /workspace/Plant-Pathology-Anotation-7/test/images/healthy_test_194_jpg.rf.b6831e66b49f13ade955040e2f5979d7.jpg: 448x640 1 leaf_healthy, 9.3ms\n",
      "image 105/1739 /workspace/Plant-Pathology-Anotation-7/test/images/healthy_test_195_jpg.rf.927a1dfbef83c5a37d9741eb4e4efca8.jpg: 448x640 2 leaf_healthys, 9.1ms\n",
      "image 106/1739 /workspace/Plant-Pathology-Anotation-7/test/images/healthy_test_196_jpg.rf.964bb600850e029067dddb255d359973.jpg: 448x640 3 leaf_healthys, 8.1ms\n",
      "image 107/1739 /workspace/Plant-Pathology-Anotation-7/test/images/healthy_test_197_jpg.rf.edfa20d7ce39da81e86889fc8d864dae.jpg: 448x640 3 leaf_healthys, 8.6ms\n",
      "image 108/1739 /workspace/Plant-Pathology-Anotation-7/test/images/healthy_test_198_jpg.rf.af9f91fcec183a7ac30b9d98b59f2de8.jpg: 448x640 1 leaf_scab, 8.2ms\n",
      "image 109/1739 /workspace/Plant-Pathology-Anotation-7/test/images/healthy_test_199_jpg.rf.5d8f75739aa067efb60f872844ecfbe4.jpg: 448x640 2 leaf_healthys, 8.4ms\n",
      "image 110/1739 /workspace/Plant-Pathology-Anotation-7/test/images/healthy_test_19_jpg.rf.18f51971835cd09f75a47946751a7c43.jpg: 448x640 2 leaf_healthys, 8.2ms\n",
      "image 111/1739 /workspace/Plant-Pathology-Anotation-7/test/images/healthy_test_1_jpg.rf.2f14303a9abbb5910e230b907081c5c7.jpg: 448x640 6 leaf_healthys, 8.7ms\n",
      "image 112/1739 /workspace/Plant-Pathology-Anotation-7/test/images/healthy_test_200_jpg.rf.428f2a1fccfea20f8a9200748e585d37.jpg: 448x640 7 leaf_healthys, 8.1ms\n",
      "image 113/1739 /workspace/Plant-Pathology-Anotation-7/test/images/healthy_test_201_jpg.rf.a8265a59d47e396688c9768a8d42cc33.jpg: 448x640 1 leaf_healthy, 9.0ms\n",
      "image 114/1739 /workspace/Plant-Pathology-Anotation-7/test/images/healthy_test_202_jpg.rf.9f8e9bc069fd0ccebb27ca54246d24c9.jpg: 448x640 1 leaf_healthy, 8.4ms\n",
      "image 115/1739 /workspace/Plant-Pathology-Anotation-7/test/images/healthy_test_203_jpg.rf.a68f8ff90cf1214c62533cb7dbd0d44a.jpg: 448x640 5 leaf_healthys, 8.2ms\n",
      "image 116/1739 /workspace/Plant-Pathology-Anotation-7/test/images/healthy_test_204_jpg.rf.9d44658324eb9ac778bdb3c096778f4e.jpg: 448x640 7 leaf_healthys, 8.1ms\n",
      "image 117/1739 /workspace/Plant-Pathology-Anotation-7/test/images/healthy_test_205_jpg.rf.3707801d691622a87cd8eb2c91ead59a.jpg: 448x640 4 leaf_healthys, 8.5ms\n",
      "image 118/1739 /workspace/Plant-Pathology-Anotation-7/test/images/healthy_test_206_jpg.rf.27eb75f7147b52db956bf6ff85c29614.jpg: 448x640 2 leaf_healthys, 8.3ms\n",
      "image 119/1739 /workspace/Plant-Pathology-Anotation-7/test/images/healthy_test_207_jpg.rf.afedefeda21b8eaaba62acbc4c4759cf.jpg: 448x640 4 leaf_healthys, 8.4ms\n",
      "image 120/1739 /workspace/Plant-Pathology-Anotation-7/test/images/healthy_test_208_jpg.rf.af6027fb0a7d99fc12029571d1d93b90.jpg: 448x640 2 leaf_rusts, 8.5ms\n",
      "image 121/1739 /workspace/Plant-Pathology-Anotation-7/test/images/healthy_test_209_jpg.rf.4cc8acb1151fd1d9d9fc6c69128bb6d6.jpg: 448x640 4 leaf_healthys, 8.5ms\n",
      "image 122/1739 /workspace/Plant-Pathology-Anotation-7/test/images/healthy_test_20_jpg.rf.7f2b0afc5258a8c342cb12b690bf5844.jpg: 448x640 4 leaf_healthys, 1 leaf_rust, 8.5ms\n",
      "image 123/1739 /workspace/Plant-Pathology-Anotation-7/test/images/healthy_test_210_jpg.rf.a21d8ee6d18264b851db4aed7ad2709d.jpg: 448x640 3 leaf_healthys, 8.8ms\n",
      "image 124/1739 /workspace/Plant-Pathology-Anotation-7/test/images/healthy_test_211_jpg.rf.60851c0885eee2892ff0645c5bab2736.jpg: 448x640 6 leaf_healthys, 8.5ms\n",
      "image 125/1739 /workspace/Plant-Pathology-Anotation-7/test/images/healthy_test_212_jpg.rf.a4a7a06e320c8fb713167197c5422278.jpg: 448x640 7 leaf_healthys, 8.5ms\n",
      "image 126/1739 /workspace/Plant-Pathology-Anotation-7/test/images/healthy_test_213_jpg.rf.d5950490764a4a84287cb76ae56ac003.jpg: 448x640 5 leaf_healthys, 8.6ms\n",
      "image 127/1739 /workspace/Plant-Pathology-Anotation-7/test/images/healthy_test_214_jpg.rf.13bc04c9ddaef30399d974e7744524ca.jpg: 448x640 5 leaf_healthys, 8.5ms\n",
      "image 128/1739 /workspace/Plant-Pathology-Anotation-7/test/images/healthy_test_215_jpg.rf.806e7c62aa6258591594c83173358c58.jpg: 448x640 2 leaf_healthys, 8.6ms\n",
      "image 129/1739 /workspace/Plant-Pathology-Anotation-7/test/images/healthy_test_216_jpg.rf.ea226ab996145564ee052d9079ca7a2d.jpg: 448x640 5 leaf_healthys, 8.6ms\n",
      "image 130/1739 /workspace/Plant-Pathology-Anotation-7/test/images/healthy_test_217_jpg.rf.95e351d23119d8c274c801505215ac1c.jpg: 448x640 5 leaf_healthys, 8.5ms\n",
      "image 131/1739 /workspace/Plant-Pathology-Anotation-7/test/images/healthy_test_218_jpg.rf.3ca77d40c024515cb9e7cf74933e61ea.jpg: 448x640 3 leaf_healthys, 8.9ms\n",
      "image 132/1739 /workspace/Plant-Pathology-Anotation-7/test/images/healthy_test_219_jpg.rf.89e10ca7203dbf5ddc9fe7c0f54e2936.jpg: 448x640 1 leaf_healthy, 8.5ms\n",
      "image 133/1739 /workspace/Plant-Pathology-Anotation-7/test/images/healthy_test_21_jpg.rf.af91fb0dff85109b7be9071951e341b2.jpg: 448x640 3 leaf_healthys, 8.8ms\n",
      "image 134/1739 /workspace/Plant-Pathology-Anotation-7/test/images/healthy_test_220_jpg.rf.0bd610d232452a81f440496a06a2dd5b.jpg: 448x640 2 leaf_rusts, 8.5ms\n",
      "image 135/1739 /workspace/Plant-Pathology-Anotation-7/test/images/healthy_test_221_jpg.rf.1ca8ea9614c4dea5a6e87eae7f1c89fd.jpg: 448x640 1 leaf_scab, 8.7ms\n",
      "image 136/1739 /workspace/Plant-Pathology-Anotation-7/test/images/healthy_test_222_jpg.rf.36c4da58279c2f459b454deddfe5121e.jpg: 448x640 13 leaf_healthys, 8.4ms\n",
      "image 137/1739 /workspace/Plant-Pathology-Anotation-7/test/images/healthy_test_223_jpg.rf.e6da1fcb28bdcf7318773ec955faa5c0.jpg: 448x640 3 leaf_healthys, 8.5ms\n",
      "image 138/1739 /workspace/Plant-Pathology-Anotation-7/test/images/healthy_test_224_jpg.rf.c98375d74a699893d4ad9a1a40437b8e.jpg: 448x640 3 leaf_healthys, 8.6ms\n",
      "image 139/1739 /workspace/Plant-Pathology-Anotation-7/test/images/healthy_test_225_jpg.rf.ef4db6bea27e057be067363e2b8422f6.jpg: 448x640 2 leaf_healthys, 9.2ms\n",
      "image 140/1739 /workspace/Plant-Pathology-Anotation-7/test/images/healthy_test_226_jpg.rf.2f65c18adc4ade7ff70cbe47311eb742.jpg: 448x640 1 leaf_healthy, 8.4ms\n",
      "image 141/1739 /workspace/Plant-Pathology-Anotation-7/test/images/healthy_test_227_jpg.rf.21230539a0ac8ea88b084646f897ac16.jpg: 448x640 1 leaf_healthy, 8.7ms\n",
      "image 142/1739 /workspace/Plant-Pathology-Anotation-7/test/images/healthy_test_228_jpg.rf.ddef1815711ee40e81a84cd87d4ee45c.jpg: 448x640 6 leaf_healthys, 8.5ms\n",
      "image 143/1739 /workspace/Plant-Pathology-Anotation-7/test/images/healthy_test_229_jpg.rf.50ed7b39cfdb7b3e5a53790e714fc1f4.jpg: 448x640 3 leaf_healthys, 8.5ms\n",
      "image 144/1739 /workspace/Plant-Pathology-Anotation-7/test/images/healthy_test_22_jpg.rf.0fc77c17b9dd2db7e153ff4ff02bd15d.jpg: 448x640 2 leaf_rusts, 8.6ms\n",
      "image 145/1739 /workspace/Plant-Pathology-Anotation-7/test/images/healthy_test_230_jpg.rf.887fd7eaa42e2e1340262bcba4c49cd3.jpg: 448x640 6 leaf_healthys, 8.5ms\n",
      "image 146/1739 /workspace/Plant-Pathology-Anotation-7/test/images/healthy_test_231_jpg.rf.d80717dc738a0e5623c629e6f98d7d70.jpg: 448x640 1 leaf_healthy, 8.5ms\n",
      "image 147/1739 /workspace/Plant-Pathology-Anotation-7/test/images/healthy_test_232_jpg.rf.2ded55d1400c20d8b48e5b31355624dd.jpg: 448x640 6 leaf_healthys, 8.8ms\n",
      "image 148/1739 /workspace/Plant-Pathology-Anotation-7/test/images/healthy_test_233_jpg.rf.d8cf323cc5fe457563e6e3041ca24e4c.jpg: 448x640 9 leaf_healthys, 8.5ms\n",
      "image 149/1739 /workspace/Plant-Pathology-Anotation-7/test/images/healthy_test_234_jpg.rf.5ace9b584d97a4a5cedf266cc5bb522b.jpg: 448x640 4 leaf_healthys, 8.8ms\n",
      "image 150/1739 /workspace/Plant-Pathology-Anotation-7/test/images/healthy_test_235_jpg.rf.3107a4b18415daa9c30226e367c03350.jpg: 448x640 5 leaf_healthys, 8.5ms\n",
      "image 151/1739 /workspace/Plant-Pathology-Anotation-7/test/images/healthy_test_236_jpg.rf.63fe291073d2545b7fb74f07da695d9a.jpg: 448x640 3 leaf_healthys, 8.9ms\n",
      "image 152/1739 /workspace/Plant-Pathology-Anotation-7/test/images/healthy_test_237_jpg.rf.53e75450be81345318fa1989d6b9aa57.jpg: 448x640 3 leaf_healthys, 8.5ms\n",
      "image 153/1739 /workspace/Plant-Pathology-Anotation-7/test/images/healthy_test_238_jpg.rf.a1eba9a3aace44aed800f494a435404e.jpg: 448x640 9 leaf_healthys, 8.0ms\n",
      "image 154/1739 /workspace/Plant-Pathology-Anotation-7/test/images/healthy_test_239_jpg.rf.0035a04b66724ddddb736951b60b236b.jpg: 448x640 4 leaf_healthys, 8.1ms\n",
      "image 155/1739 /workspace/Plant-Pathology-Anotation-7/test/images/healthy_test_23_jpg.rf.2aea9e853d7bee8474829a6798cbda35.jpg: 448x640 3 leaf_healthys, 8.8ms\n",
      "image 156/1739 /workspace/Plant-Pathology-Anotation-7/test/images/healthy_test_240_jpg.rf.1f490211da0141b5377cfcb8b92a6e2e.jpg: 448x640 4 leaf_healthys, 8.5ms\n",
      "image 157/1739 /workspace/Plant-Pathology-Anotation-7/test/images/healthy_test_241_jpg.rf.c9c18efd225c6e3cd9bb48da94bc8a03.jpg: 448x640 1 leaf_scab, 8.8ms\n",
      "image 158/1739 /workspace/Plant-Pathology-Anotation-7/test/images/healthy_test_242_jpg.rf.2e8b1db6a0a1057d23e127702b2af465.jpg: 448x640 4 leaf_healthys, 8.9ms\n",
      "image 159/1739 /workspace/Plant-Pathology-Anotation-7/test/images/healthy_test_243_jpg.rf.a6d51f4fab3fd542b3d8b9239b401d56.jpg: 448x640 1 leaf_rust, 8.5ms\n",
      "image 160/1739 /workspace/Plant-Pathology-Anotation-7/test/images/healthy_test_244_jpg.rf.fce0f1185dc45077421491bf6a7b32c8.jpg: 448x640 3 leaf_healthys, 8.9ms\n",
      "image 161/1739 /workspace/Plant-Pathology-Anotation-7/test/images/healthy_test_245_jpg.rf.f443415ce5bdce37901259fe7ddc2acc.jpg: 448x640 6 leaf_healthys, 8.5ms\n",
      "image 162/1739 /workspace/Plant-Pathology-Anotation-7/test/images/healthy_test_246_jpg.rf.741efbcad01f3e071802c24201302416.jpg: 448x640 4 leaf_healthys, 9.0ms\n",
      "image 163/1739 /workspace/Plant-Pathology-Anotation-7/test/images/healthy_test_247_jpg.rf.36a62a2001b18b8bfa253fa7a91ec8e1.jpg: 448x640 3 leaf_healthys, 8.5ms\n",
      "image 164/1739 /workspace/Plant-Pathology-Anotation-7/test/images/healthy_test_248_jpg.rf.7413289deaa3134643f63d3644b133c7.jpg: 448x640 1 leaf_rust, 1 leaf_scab, 8.8ms\n",
      "image 165/1739 /workspace/Plant-Pathology-Anotation-7/test/images/healthy_test_249_jpg.rf.431b495fc5427b62f63cd0240045c64a.jpg: 448x640 5 leaf_healthys, 8.5ms\n",
      "image 166/1739 /workspace/Plant-Pathology-Anotation-7/test/images/healthy_test_24_jpg.rf.75e1f96b47c182ee04f8d5f7aed8dd53.jpg: 448x640 1 leaf_scab, 8.9ms\n",
      "image 167/1739 /workspace/Plant-Pathology-Anotation-7/test/images/healthy_test_250_jpg.rf.6178d4b5a3efa1bebd7699e0abcc4cdd.jpg: 448x640 5 leaf_healthys, 8.4ms\n",
      "image 168/1739 /workspace/Plant-Pathology-Anotation-7/test/images/healthy_test_251_jpg.rf.470d0829be851c38800cfb9b4c209935.jpg: 448x640 4 leaf_healthys, 8.5ms\n",
      "image 169/1739 /workspace/Plant-Pathology-Anotation-7/test/images/healthy_test_252_jpg.rf.f90f6e6d5606e00dc313fa9761389c65.jpg: 448x640 1 leaf_healthy, 8.9ms\n",
      "image 170/1739 /workspace/Plant-Pathology-Anotation-7/test/images/healthy_test_253_jpg.rf.62279ea08d5147168df2d83065c070e7.jpg: 448x640 4 leaf_healthys, 8.6ms\n",
      "image 171/1739 /workspace/Plant-Pathology-Anotation-7/test/images/healthy_test_254_jpg.rf.fb963bf2be4063c5bed564bafcc77f05.jpg: 448x640 1 leaf_scab, 8.5ms\n",
      "image 172/1739 /workspace/Plant-Pathology-Anotation-7/test/images/healthy_test_255_jpg.rf.b4f77f330368d126d8cc1e7620e6dd25.jpg: 448x640 4 leaf_healthys, 8.8ms\n",
      "image 173/1739 /workspace/Plant-Pathology-Anotation-7/test/images/healthy_test_256_jpg.rf.003eac8faa958a738f50189a69bc294d.jpg: 448x640 4 leaf_healthys, 8.5ms\n",
      "image 174/1739 /workspace/Plant-Pathology-Anotation-7/test/images/healthy_test_257_jpg.rf.99275ebc4719fc517defcce6f10f6537.jpg: 448x640 10 leaf_healthys, 9.0ms\n",
      "image 175/1739 /workspace/Plant-Pathology-Anotation-7/test/images/healthy_test_258_jpg.rf.c4a9672fa80604c652ba9277810f8527.jpg: 448x640 1 leaf_healthy, 1 leaf_scab, 8.6ms\n",
      "image 176/1739 /workspace/Plant-Pathology-Anotation-7/test/images/healthy_test_259_jpg.rf.5cbb4d2f370ceaead14850bcdd0ffa6c.jpg: 448x640 2 leaf_healthys, 8.8ms\n",
      "image 177/1739 /workspace/Plant-Pathology-Anotation-7/test/images/healthy_test_25_jpg.rf.f79319c2f5da765a7cabcd87a32cde78.jpg: 448x640 2 leaf_healthys, 8.5ms\n",
      "image 178/1739 /workspace/Plant-Pathology-Anotation-7/test/images/healthy_test_260_jpg.rf.e993fce229e321ba16cb5ea4b7c9ad7f.jpg: 448x640 5 leaf_healthys, 9.0ms\n",
      "image 179/1739 /workspace/Plant-Pathology-Anotation-7/test/images/healthy_test_261_jpg.rf.61570df9920d69599bd6da186055f94f.jpg: 448x640 6 leaf_healthys, 8.6ms\n",
      "image 180/1739 /workspace/Plant-Pathology-Anotation-7/test/images/healthy_test_262_jpg.rf.00222b506b5fc5c6025cc323c4aad29a.jpg: 448x640 7 leaf_healthys, 8.5ms\n",
      "image 181/1739 /workspace/Plant-Pathology-Anotation-7/test/images/healthy_test_263_jpg.rf.afab46760cf9e2bfef33eb5707a1f667.jpg: 448x640 1 leaf_scab, 8.6ms\n",
      "image 182/1739 /workspace/Plant-Pathology-Anotation-7/test/images/healthy_test_264_jpg.rf.edbeff2baeb157d1adea2734775d8fd6.jpg: 448x640 7 leaf_healthys, 8.7ms\n",
      "image 183/1739 /workspace/Plant-Pathology-Anotation-7/test/images/healthy_test_265_jpg.rf.6951e1202d0ff4e2b5c385d49277434b.jpg: 448x640 2 leaf_healthys, 8.5ms\n",
      "image 184/1739 /workspace/Plant-Pathology-Anotation-7/test/images/healthy_test_266_jpg.rf.3392abac1a5a58d7409b8340684ede06.jpg: 448x640 1 leaf_rust, 8.7ms\n",
      "image 185/1739 /workspace/Plant-Pathology-Anotation-7/test/images/healthy_test_267_jpg.rf.14e0f0e539f6ddd0a1778a5f0a8850b7.jpg: 448x640 1 leaf_healthy, 2 leaf_scabs, 8.6ms\n",
      "image 186/1739 /workspace/Plant-Pathology-Anotation-7/test/images/healthy_test_268_jpg.rf.86d5286a6a1356eddac5fd7bacd7a404.jpg: 448x640 4 leaf_healthys, 8.6ms\n",
      "image 187/1739 /workspace/Plant-Pathology-Anotation-7/test/images/healthy_test_269_jpg.rf.86dc5eb809dd2f2afbb3e46f786cbd3d.jpg: 448x640 1 leaf_scab, 8.5ms\n",
      "image 188/1739 /workspace/Plant-Pathology-Anotation-7/test/images/healthy_test_26_jpg.rf.3488f2f3e1424d035353e4e7291ca1f9.jpg: 448x640 6 leaf_healthys, 8.4ms\n",
      "image 189/1739 /workspace/Plant-Pathology-Anotation-7/test/images/healthy_test_270_jpg.rf.e4f72d611f6a23506f8006b0423b9422.jpg: 448x640 2 leaf_healthys, 8.5ms\n",
      "image 190/1739 /workspace/Plant-Pathology-Anotation-7/test/images/healthy_test_271_jpg.rf.6fc404cd43d1357b9a2fcbd72b21e14e.jpg: 448x640 7 leaf_healthys, 8.8ms\n",
      "image 191/1739 /workspace/Plant-Pathology-Anotation-7/test/images/healthy_test_272_jpg.rf.0603e1a671a4694515b8fc3356e0aecc.jpg: 448x640 3 leaf_healthys, 8.5ms\n",
      "image 192/1739 /workspace/Plant-Pathology-Anotation-7/test/images/healthy_test_273_jpg.rf.c0bdc056046ef36daca7095dc1f1442a.jpg: 448x640 1 leaf_rust, 8.9ms\n",
      "image 193/1739 /workspace/Plant-Pathology-Anotation-7/test/images/healthy_test_274_jpg.rf.8552d599db5f750ebf9381233be0dbfe.jpg: 448x640 3 leaf_healthys, 8.6ms\n",
      "image 194/1739 /workspace/Plant-Pathology-Anotation-7/test/images/healthy_test_275_jpg.rf.93559bcbf041211731a5f16407c8fe6d.jpg: 448x640 7 leaf_healthys, 8.5ms\n",
      "image 195/1739 /workspace/Plant-Pathology-Anotation-7/test/images/healthy_test_276_jpg.rf.d667b447e955358805afb6b0aec03284.jpg: 448x640 6 leaf_healthys, 8.5ms\n",
      "image 196/1739 /workspace/Plant-Pathology-Anotation-7/test/images/healthy_test_277_jpg.rf.dfadc53e96177dea71663705e12249ae.jpg: 448x640 3 leaf_healthys, 9.0ms\n",
      "image 197/1739 /workspace/Plant-Pathology-Anotation-7/test/images/healthy_test_278_jpg.rf.595b48f7267fe15af662acee096f5dd7.jpg: 448x640 1 leaf_healthy, 8.5ms\n",
      "image 198/1739 /workspace/Plant-Pathology-Anotation-7/test/images/healthy_test_279_jpg.rf.293238bc55fa332cab4ab231412a68da.jpg: 448x640 4 leaf_healthys, 8.6ms\n",
      "image 199/1739 /workspace/Plant-Pathology-Anotation-7/test/images/healthy_test_27_jpg.rf.21f1a2a040a5cdc50d9a17500542f4cb.jpg: 448x640 2 leaf_healthys, 8.5ms\n",
      "image 200/1739 /workspace/Plant-Pathology-Anotation-7/test/images/healthy_test_280_jpg.rf.3ac18b7d6ae6785f185fe8691801ffbc.jpg: 448x640 3 leaf_healthys, 9.0ms\n",
      "image 201/1739 /workspace/Plant-Pathology-Anotation-7/test/images/healthy_test_281_jpg.rf.9eb797bab59096fc3c55efd9a1d4860e.jpg: 448x640 10 leaf_healthys, 8.5ms\n",
      "image 202/1739 /workspace/Plant-Pathology-Anotation-7/test/images/healthy_test_282_jpg.rf.19bc3ce9e41c24b5b0e4e4d653a87cac.jpg: 448x640 4 leaf_healthys, 8.5ms\n",
      "image 203/1739 /workspace/Plant-Pathology-Anotation-7/test/images/healthy_test_283_jpg.rf.491060d5258284fb63b86b52c494a022.jpg: 448x640 4 leaf_healthys, 9.0ms\n",
      "image 204/1739 /workspace/Plant-Pathology-Anotation-7/test/images/healthy_test_284_jpg.rf.0d558e1d4abe096718619c22925a36da.jpg: 448x640 2 leaf_healthys, 8.6ms\n",
      "image 205/1739 /workspace/Plant-Pathology-Anotation-7/test/images/healthy_test_285_jpg.rf.456d93361ea8e37cf43aff613dd8bcca.jpg: 448x640 4 leaf_healthys, 1 leaf_rust, 9.0ms\n",
      "image 206/1739 /workspace/Plant-Pathology-Anotation-7/test/images/healthy_test_286_jpg.rf.7b89e706fb0fca0e5532f2060d464367.jpg: 448x640 2 leaf_healthys, 8.6ms\n",
      "image 207/1739 /workspace/Plant-Pathology-Anotation-7/test/images/healthy_test_287_jpg.rf.d1b2852064f12454303ff3d83dbdc62c.jpg: 448x640 1 leaf_rust, 1 leaf_scab, 8.9ms\n",
      "image 208/1739 /workspace/Plant-Pathology-Anotation-7/test/images/healthy_test_288_jpg.rf.268182a197eea608a3df185b36e71040.jpg: 448x640 1 leaf_rust, 8.2ms\n",
      "image 209/1739 /workspace/Plant-Pathology-Anotation-7/test/images/healthy_test_289_jpg.rf.cd46eb730d5e0632c9171dedb949b35a.jpg: 448x640 2 leaf_healthys, 8.6ms\n",
      "image 210/1739 /workspace/Plant-Pathology-Anotation-7/test/images/healthy_test_28_jpg.rf.90d0aaf04f559977a85c472fb390c9db.jpg: 448x640 3 leaf_healthys, 8.5ms\n",
      "image 211/1739 /workspace/Plant-Pathology-Anotation-7/test/images/healthy_test_290_jpg.rf.d35ba4c2987d5963524f132d75241874.jpg: 448x640 3 leaf_healthys, 9.1ms\n",
      "image 212/1739 /workspace/Plant-Pathology-Anotation-7/test/images/healthy_test_291_jpg.rf.8ff7d2265f0569a896f474356546650b.jpg: 448x640 7 leaf_healthys, 8.5ms\n",
      "image 213/1739 /workspace/Plant-Pathology-Anotation-7/test/images/healthy_test_292_jpg.rf.890d7874112235ce7371a1c558e5f5d1.jpg: 448x640 7 leaf_healthys, 9.2ms\n",
      "image 214/1739 /workspace/Plant-Pathology-Anotation-7/test/images/healthy_test_293_jpg.rf.4dd87ff78c668243ef7e45cd02409421.jpg: 448x640 3 leaf_healthys, 8.9ms\n",
      "image 215/1739 /workspace/Plant-Pathology-Anotation-7/test/images/healthy_test_294_jpg.rf.6743fe9b280b80bee5d0c8ffa25975c1.jpg: 448x640 1 leaf_scab, 8.6ms\n",
      "image 216/1739 /workspace/Plant-Pathology-Anotation-7/test/images/healthy_test_295_jpg.rf.4bf6399a8b974cf15a12233b2c02f5fa.jpg: 448x640 1 leaf_scab, 8.5ms\n",
      "image 217/1739 /workspace/Plant-Pathology-Anotation-7/test/images/healthy_test_296_jpg.rf.97a7ae0ccd2077c8774b856ef741d85e.jpg: 448x640 4 leaf_healthys, 8.4ms\n",
      "image 218/1739 /workspace/Plant-Pathology-Anotation-7/test/images/healthy_test_297_jpg.rf.0fb7ac3249a935e4bc2f0d29e918c268.jpg: 640x448 10 leaf_healthys, 9.3ms\n",
      "image 219/1739 /workspace/Plant-Pathology-Anotation-7/test/images/healthy_test_298_jpg.rf.455a8bf07ba9912267b26b309dccb33e.jpg: 448x640 6 leaf_healthys, 9.3ms\n",
      "image 220/1739 /workspace/Plant-Pathology-Anotation-7/test/images/healthy_test_299_jpg.rf.6f50583d85758f3e4c6d7865512b1668.jpg: 448x640 3 leaf_healthys, 8.6ms\n",
      "image 221/1739 /workspace/Plant-Pathology-Anotation-7/test/images/healthy_test_29_jpg.rf.7405e96d57e99239c4a2dd89ee2951dc.jpg: 448x640 1 leaf_scab, 8.8ms\n",
      "image 222/1739 /workspace/Plant-Pathology-Anotation-7/test/images/healthy_test_2_jpg.rf.492627eaa08ad0b3deb9c39ae461b372.jpg: 448x640 2 leaf_healthys, 8.6ms\n",
      "image 223/1739 /workspace/Plant-Pathology-Anotation-7/test/images/healthy_test_300_jpg.rf.174f6ccfa5f1845574f0342317a69dd1.jpg: 448x640 2 leaf_healthys, 8.5ms\n",
      "image 224/1739 /workspace/Plant-Pathology-Anotation-7/test/images/healthy_test_301_jpg.rf.f59fbdbe44051651eaa46467c8cb9a00.jpg: 448x640 1 leaf_healthy, 1 leaf_rust, 9.0ms\n",
      "image 225/1739 /workspace/Plant-Pathology-Anotation-7/test/images/healthy_test_302_jpg.rf.8c871dc3f1b877b0ad89284c17b4ec78.jpg: 448x640 2 leaf_healthys, 8.4ms\n",
      "image 226/1739 /workspace/Plant-Pathology-Anotation-7/test/images/healthy_test_303_jpg.rf.49998c991ffe6cc1b3e904cf9aca253a.jpg: 448x640 2 leaf_healthys, 8.7ms\n",
      "image 227/1739 /workspace/Plant-Pathology-Anotation-7/test/images/healthy_test_304_jpg.rf.dcd0953dfe7ee26d8155917d397d071f.jpg: 448x640 5 leaf_healthys, 8.5ms\n",
      "image 228/1739 /workspace/Plant-Pathology-Anotation-7/test/images/healthy_test_305_jpg.rf.925fb7cc83395b4b5ccafc854c9cb78d.jpg: 448x640 (no detections), 9.1ms\n",
      "image 229/1739 /workspace/Plant-Pathology-Anotation-7/test/images/healthy_test_306_jpg.rf.11c17504815ee9a6b9aef99562b82fac.jpg: 448x640 2 leaf_healthys, 8.1ms\n",
      "image 230/1739 /workspace/Plant-Pathology-Anotation-7/test/images/healthy_test_307_jpg.rf.d1b14d5114ba0494909338c3ab6ce0af.jpg: 448x640 2 leaf_healthys, 8.5ms\n",
      "image 231/1739 /workspace/Plant-Pathology-Anotation-7/test/images/healthy_test_308_jpg.rf.2bd1399b0ecec1fd7c0e03faac759f0c.jpg: 448x640 4 leaf_healthys, 9.0ms\n",
      "image 232/1739 /workspace/Plant-Pathology-Anotation-7/test/images/healthy_test_309_jpg.rf.1820a3a89304cb7c31ec101e484badf5.jpg: 448x640 6 leaf_healthys, 8.5ms\n",
      "image 233/1739 /workspace/Plant-Pathology-Anotation-7/test/images/healthy_test_30_jpg.rf.f7bb3259030a0975f9a5ec24ca256c65.jpg: 448x640 6 leaf_healthys, 9.0ms\n",
      "image 234/1739 /workspace/Plant-Pathology-Anotation-7/test/images/healthy_test_310_jpg.rf.bc3b0fdf3f9c3126ec9dd79791e336cc.jpg: 448x640 2 leaf_scabs, 8.5ms\n",
      "image 235/1739 /workspace/Plant-Pathology-Anotation-7/test/images/healthy_test_311_jpg.rf.29a42280c6333bb84b6b755baa1a68f0.jpg: 448x640 1 leaf_scab, 8.7ms\n",
      "image 236/1739 /workspace/Plant-Pathology-Anotation-7/test/images/healthy_test_312_jpg.rf.2a8914706c381878ccaa1a1dd49e5ccf.jpg: 448x640 8 leaf_healthys, 8.7ms\n",
      "image 237/1739 /workspace/Plant-Pathology-Anotation-7/test/images/healthy_test_313_jpg.rf.91b2a858e5a5b4ad7f39a22c41b66e0c.jpg: 448x640 4 leaf_healthys, 8.5ms\n",
      "image 238/1739 /workspace/Plant-Pathology-Anotation-7/test/images/healthy_test_314_jpg.rf.91e38b321d6f864afdacec6a444bacfb.jpg: 448x640 5 leaf_healthys, 9.0ms\n",
      "image 239/1739 /workspace/Plant-Pathology-Anotation-7/test/images/healthy_test_315_jpg.rf.f814ff6e90c9f629ce245312f94ac405.jpg: 448x640 4 leaf_healthys, 8.5ms\n",
      "image 240/1739 /workspace/Plant-Pathology-Anotation-7/test/images/healthy_test_316_jpg.rf.b09d9d2c0b071635f3467d04bbed0f3c.jpg: 448x640 1 leaf_healthy, 1 leaf_scab, 9.0ms\n",
      "image 241/1739 /workspace/Plant-Pathology-Anotation-7/test/images/healthy_test_317_jpg.rf.072bae1ab756c8cdb3abdfa3dd0a424c.jpg: 448x640 4 leaf_healthys, 8.7ms\n",
      "image 242/1739 /workspace/Plant-Pathology-Anotation-7/test/images/healthy_test_318_jpg.rf.0cafb0699f9c2f97f7510bbe571ec84c.jpg: 448x640 1 leaf_scab, 9.3ms\n",
      "image 243/1739 /workspace/Plant-Pathology-Anotation-7/test/images/healthy_test_319_jpg.rf.9629a7579200822d1cea7a5a6373070c.jpg: 448x640 4 leaf_healthys, 8.7ms\n",
      "image 244/1739 /workspace/Plant-Pathology-Anotation-7/test/images/healthy_test_31_jpg.rf.6d7a6f3b2cf12e03a29a6b55cbcd624a.jpg: 448x640 5 leaf_healthys, 8.7ms\n",
      "image 245/1739 /workspace/Plant-Pathology-Anotation-7/test/images/healthy_test_320_jpg.rf.348301359df314f41b12902e5f893be5.jpg: 448x640 8 leaf_healthys, 9.0ms\n",
      "image 246/1739 /workspace/Plant-Pathology-Anotation-7/test/images/healthy_test_321_jpg.rf.7b4a6bc8dff08182bcb8a364f6512035.jpg: 448x640 1 leaf_healthy, 8.7ms\n",
      "image 247/1739 /workspace/Plant-Pathology-Anotation-7/test/images/healthy_test_322_jpg.rf.79e631fb5ca43e9b53977fefde8b90e5.jpg: 448x640 2 leaf_healthys, 9.3ms\n",
      "image 248/1739 /workspace/Plant-Pathology-Anotation-7/test/images/healthy_test_323_jpg.rf.147e2b06fe2e082638c657be334364c2.jpg: 448x640 4 leaf_healthys, 8.7ms\n",
      "image 249/1739 /workspace/Plant-Pathology-Anotation-7/test/images/healthy_test_324_jpg.rf.d4b5fe7b0a3f5f0be4e5f7b047cb6fbd.jpg: 448x640 2 leaf_healthys, 9.1ms\n",
      "image 250/1739 /workspace/Plant-Pathology-Anotation-7/test/images/healthy_test_325_jpg.rf.6f4d1cb0829cff007dc1a781eb292382.jpg: 448x640 4 leaf_healthys, 8.6ms\n",
      "image 251/1739 /workspace/Plant-Pathology-Anotation-7/test/images/healthy_test_326_jpg.rf.2744ecbb84ba739f4ae5b8f0cb263528.jpg: 448x640 6 leaf_healthys, 8.9ms\n",
      "image 252/1739 /workspace/Plant-Pathology-Anotation-7/test/images/healthy_test_327_jpg.rf.b2fa32dd13d93a93ddd25a6ba0ffc4d3.jpg: 448x640 3 leaf_healthys, 8.2ms\n",
      "image 253/1739 /workspace/Plant-Pathology-Anotation-7/test/images/healthy_test_328_jpg.rf.6dbb7973a0e83da9600b120895049485.jpg: 448x640 3 leaf_healthys, 8.7ms\n",
      "image 254/1739 /workspace/Plant-Pathology-Anotation-7/test/images/healthy_test_329_jpg.rf.a419f0fb0a063b5607554ed90902e029.jpg: 448x640 5 leaf_healthys, 8.3ms\n",
      "image 255/1739 /workspace/Plant-Pathology-Anotation-7/test/images/healthy_test_32_jpg.rf.df950320f1abb5e0cf7a42c417df8d14.jpg: 448x640 4 leaf_healthys, 8.6ms\n",
      "image 256/1739 /workspace/Plant-Pathology-Anotation-7/test/images/healthy_test_330_jpg.rf.ada14afa6fb68f106403038ae8e97527.jpg: 448x640 6 leaf_healthys, 8.6ms\n",
      "image 257/1739 /workspace/Plant-Pathology-Anotation-7/test/images/healthy_test_331_jpg.rf.a9e0a0198616209c12746e772eb8de22.jpg: 448x640 3 leaf_healthys, 8.7ms\n",
      "image 258/1739 /workspace/Plant-Pathology-Anotation-7/test/images/healthy_test_332_jpg.rf.f3267da27dea93d6513f034736aa1aad.jpg: 448x640 2 leaf_healthys, 8.8ms\n",
      "image 259/1739 /workspace/Plant-Pathology-Anotation-7/test/images/healthy_test_333_jpg.rf.d9219e2d0e4e1e3e2d2f81599e23dd87.jpg: 448x640 1 leaf_healthy, 8.5ms\n",
      "image 260/1739 /workspace/Plant-Pathology-Anotation-7/test/images/healthy_test_334_jpg.rf.ea171cd764a09d2db49b7fdb49c4505d.jpg: 448x640 6 leaf_healthys, 8.3ms\n",
      "image 261/1739 /workspace/Plant-Pathology-Anotation-7/test/images/healthy_test_335_jpg.rf.c94ab134ffd33a7f2b1ffcf28b7cf0a7.jpg: 448x640 6 leaf_healthys, 8.5ms\n",
      "image 262/1739 /workspace/Plant-Pathology-Anotation-7/test/images/healthy_test_336_jpg.rf.b85784521c92afcbf7afa7bde76e02e4.jpg: 448x640 14 leaf_healthys, 8.5ms\n",
      "image 263/1739 /workspace/Plant-Pathology-Anotation-7/test/images/healthy_test_337_jpg.rf.6e8bc7f8e797eb0b7970f7607cae5f72.jpg: 448x640 4 leaf_healthys, 1 leaf_scab, 8.7ms\n",
      "image 264/1739 /workspace/Plant-Pathology-Anotation-7/test/images/healthy_test_338_jpg.rf.2eef16660276e719814cf18aa8cdc84c.jpg: 448x640 4 leaf_healthys, 8.6ms\n",
      "image 265/1739 /workspace/Plant-Pathology-Anotation-7/test/images/healthy_test_339_jpg.rf.814cd3092f3df849c04370ff8782bcde.jpg: 448x640 1 leaf_scab, 9.0ms\n",
      "image 266/1739 /workspace/Plant-Pathology-Anotation-7/test/images/healthy_test_33_jpg.rf.803083a53b2a668af84576ef7152fbe1.jpg: 448x640 1 leaf_scab, 8.7ms\n",
      "image 267/1739 /workspace/Plant-Pathology-Anotation-7/test/images/healthy_test_340_jpg.rf.b126a0a806fc83bdc9b51d5e9d1b38ab.jpg: 448x640 4 leaf_healthys, 8.4ms\n",
      "image 268/1739 /workspace/Plant-Pathology-Anotation-7/test/images/healthy_test_341_jpg.rf.2024f548a07b455ea1f657269fc8f47d.jpg: 448x640 3 leaf_healthys, 8.5ms\n",
      "image 269/1739 /workspace/Plant-Pathology-Anotation-7/test/images/healthy_test_342_jpg.rf.0835e73cd5ccb3b8bd40fe5ccee5f24e.jpg: 448x640 5 leaf_healthys, 9.0ms\n",
      "image 270/1739 /workspace/Plant-Pathology-Anotation-7/test/images/healthy_test_343_jpg.rf.5f99c4b8ddc52930298fd5daefe249cd.jpg: 448x640 4 leaf_healthys, 8.2ms\n",
      "image 271/1739 /workspace/Plant-Pathology-Anotation-7/test/images/healthy_test_344_jpg.rf.12ced98926e1ced62271156c3ed4a784.jpg: 448x640 1 leaf_healthy, 9.2ms\n",
      "image 272/1739 /workspace/Plant-Pathology-Anotation-7/test/images/healthy_test_345_jpg.rf.6d281515271be02e3370555ebe70041f.jpg: 448x640 6 leaf_healthys, 8.7ms\n",
      "image 273/1739 /workspace/Plant-Pathology-Anotation-7/test/images/healthy_test_346_jpg.rf.3fcadadf03c40b18ff9859bc1c7b2799.jpg: 448x640 2 leaf_healthys, 8.5ms\n",
      "image 274/1739 /workspace/Plant-Pathology-Anotation-7/test/images/healthy_test_347_jpg.rf.f556b0e2b32ed067a8f00475683af538.jpg: 448x640 3 leaf_healthys, 8.8ms\n",
      "image 275/1739 /workspace/Plant-Pathology-Anotation-7/test/images/healthy_test_348_jpg.rf.22c5dec3439b7c9768aeb442bb9b2c9f.jpg: 448x640 5 leaf_healthys, 8.5ms\n",
      "image 276/1739 /workspace/Plant-Pathology-Anotation-7/test/images/healthy_test_349_jpg.rf.5838cf9c1bead2c7445e6c0a8d732b87.jpg: 448x640 5 leaf_healthys, 1 leaf_scab, 8.9ms\n",
      "image 277/1739 /workspace/Plant-Pathology-Anotation-7/test/images/healthy_test_34_jpg.rf.c235ee9d7c755b7b7ce53d60907626e5.jpg: 448x640 3 leaf_healthys, 10.2ms\n",
      "image 278/1739 /workspace/Plant-Pathology-Anotation-7/test/images/healthy_test_350_jpg.rf.748554a52438a27f484d7ee0dba481d2.jpg: 448x640 1 leaf_healthy, 10.6ms\n",
      "image 279/1739 /workspace/Plant-Pathology-Anotation-7/test/images/healthy_test_351_jpg.rf.984819aa0b9880313bcf297ed72c27d7.jpg: 448x640 1 leaf_scab, 8.7ms\n",
      "image 280/1739 /workspace/Plant-Pathology-Anotation-7/test/images/healthy_test_352_jpg.rf.e35e54ee5d7aebd7a6dfe15041add19f.jpg: 448x640 1 leaf_healthy, 8.9ms\n",
      "image 281/1739 /workspace/Plant-Pathology-Anotation-7/test/images/healthy_test_353_jpg.rf.c212e892b3314c3e8a91d1cff958deac.jpg: 448x640 2 leaf_healthys, 8.7ms\n",
      "image 282/1739 /workspace/Plant-Pathology-Anotation-7/test/images/healthy_test_354_jpg.rf.0b08fa03ea126f6775c56c12f722a938.jpg: 448x640 1 leaf_healthy, 1 leaf_rust, 8.4ms\n",
      "image 283/1739 /workspace/Plant-Pathology-Anotation-7/test/images/healthy_test_355_jpg.rf.ee67600b554f7057ac65c9074b2d19db.jpg: 448x640 7 leaf_healthys, 8.9ms\n",
      "image 284/1739 /workspace/Plant-Pathology-Anotation-7/test/images/healthy_test_356_jpg.rf.5410f353d9fbf83c302a56766f257d47.jpg: 448x640 5 leaf_healthys, 9.1ms\n",
      "image 285/1739 /workspace/Plant-Pathology-Anotation-7/test/images/healthy_test_357_jpg.rf.331796dbb495314dcbfa4d18e32e2317.jpg: 448x640 1 leaf_scab, 8.8ms\n",
      "image 286/1739 /workspace/Plant-Pathology-Anotation-7/test/images/healthy_test_358_jpg.rf.ead8b039f232e30375308d486123763c.jpg: 448x640 2 leaf_healthys, 8.6ms\n",
      "image 287/1739 /workspace/Plant-Pathology-Anotation-7/test/images/healthy_test_359_jpg.rf.ced49df1ef88adcf37a07cdc1a04cff6.jpg: 448x640 7 leaf_healthys, 8.5ms\n",
      "image 288/1739 /workspace/Plant-Pathology-Anotation-7/test/images/healthy_test_35_jpg.rf.c2589ee3375de3fafc26b9643bc0f096.jpg: 448x640 9 leaf_healthys, 8.4ms\n",
      "image 289/1739 /workspace/Plant-Pathology-Anotation-7/test/images/healthy_test_360_jpg.rf.5cbdcecb7f090c45a23cbec4bf254247.jpg: 448x640 1 leaf_scab, 9.2ms\n",
      "image 290/1739 /workspace/Plant-Pathology-Anotation-7/test/images/healthy_test_361_jpg.rf.6d0f59cf8bd4857eeae9bf33bda854b8.jpg: 448x640 3 leaf_healthys, 8.5ms\n",
      "image 291/1739 /workspace/Plant-Pathology-Anotation-7/test/images/healthy_test_362_jpg.rf.9a86752f2d78906b1e09f5d67f3dca14.jpg: 448x640 4 leaf_healthys, 8.5ms\n",
      "image 292/1739 /workspace/Plant-Pathology-Anotation-7/test/images/healthy_test_363_jpg.rf.0660118f64bd979c8634eaf331794f01.jpg: 448x640 5 leaf_healthys, 8.9ms\n",
      "image 293/1739 /workspace/Plant-Pathology-Anotation-7/test/images/healthy_test_364_jpg.rf.8c46ddc5feb77696514c954d9929d8c7.jpg: 448x640 3 leaf_healthys, 8.6ms\n",
      "image 294/1739 /workspace/Plant-Pathology-Anotation-7/test/images/healthy_test_365_jpg.rf.af49532b332ecad247aa6c35a7278705.jpg: 448x640 1 leaf_healthy, 8.9ms\n",
      "image 295/1739 /workspace/Plant-Pathology-Anotation-7/test/images/healthy_test_366_jpg.rf.9d2a2f2a464887564d761320bc7730a9.jpg: 448x640 3 leaf_healthys, 8.6ms\n",
      "image 296/1739 /workspace/Plant-Pathology-Anotation-7/test/images/healthy_test_367_jpg.rf.9f2794b25d5df07d2aea55a7dfe09bc1.jpg: 448x640 1 leaf_scab, 8.6ms\n",
      "image 297/1739 /workspace/Plant-Pathology-Anotation-7/test/images/healthy_test_368_jpg.rf.f371f4000e66ebef3653ebb00335846a.jpg: 448x640 1 leaf_healthy, 8.9ms\n",
      "image 298/1739 /workspace/Plant-Pathology-Anotation-7/test/images/healthy_test_369_jpg.rf.f296711ddbd09e901d06c55502ad0a4c.jpg: 448x640 2 leaf_healthys, 8.6ms\n",
      "image 299/1739 /workspace/Plant-Pathology-Anotation-7/test/images/healthy_test_36_jpg.rf.57b446d272d5ce7d669c4e632dfa588d.jpg: 448x640 4 leaf_healthys, 8.6ms\n",
      "image 300/1739 /workspace/Plant-Pathology-Anotation-7/test/images/healthy_test_370_jpg.rf.21d464c67ed3950cb9e8cb9947b21a53.jpg: 448x640 5 leaf_healthys, 9.0ms\n",
      "image 301/1739 /workspace/Plant-Pathology-Anotation-7/test/images/healthy_test_371_jpg.rf.fc7e0c6c3ea6868503506d0dc6dff8a9.jpg: 448x640 7 leaf_healthys, 8.7ms\n",
      "image 302/1739 /workspace/Plant-Pathology-Anotation-7/test/images/healthy_test_372_jpg.rf.3e2f63998173d3cd20c0482e574d3afb.jpg: 448x640 1 leaf_scab, 9.1ms\n",
      "image 303/1739 /workspace/Plant-Pathology-Anotation-7/test/images/healthy_test_373_jpg.rf.e062781c245b3aa93c03a3340ebed976.jpg: 448x640 1 leaf_rust, 9.9ms\n",
      "image 304/1739 /workspace/Plant-Pathology-Anotation-7/test/images/healthy_test_374_jpg.rf.6509f84f5f8da895380b86a4cc88093a.jpg: 448x640 2 leaf_healthys, 9.8ms\n",
      "image 305/1739 /workspace/Plant-Pathology-Anotation-7/test/images/healthy_test_375_jpg.rf.f203ca8184d7a90ad896118144cba548.jpg: 448x640 1 leaf_healthy, 9.8ms\n",
      "image 306/1739 /workspace/Plant-Pathology-Anotation-7/test/images/healthy_test_376_jpg.rf.f62e707087214e33165117ae00be5b9c.jpg: 448x640 7 leaf_healthys, 10.2ms\n",
      "image 307/1739 /workspace/Plant-Pathology-Anotation-7/test/images/healthy_test_377_jpg.rf.0a1b0c299db08c016439836cb4966057.jpg: 448x640 2 leaf_healthys, 10.2ms\n",
      "image 308/1739 /workspace/Plant-Pathology-Anotation-7/test/images/healthy_test_378_jpg.rf.36d5ae56fb140d712e2016e183d166bc.jpg: 448x640 1 leaf_healthy, 10.8ms\n",
      "image 309/1739 /workspace/Plant-Pathology-Anotation-7/test/images/healthy_test_379_jpg.rf.cdee1a8969270d5e8fa45be2ab0f5b4d.jpg: 448x640 1 leaf_rust, 1 leaf_scab, 11.0ms\n",
      "image 310/1739 /workspace/Plant-Pathology-Anotation-7/test/images/healthy_test_37_jpg.rf.a9c9d5904102e7ef68a632000fa0d17f.jpg: 448x640 1 leaf_scab, 10.1ms\n",
      "image 311/1739 /workspace/Plant-Pathology-Anotation-7/test/images/healthy_test_380_jpg.rf.5504c5c8b18316477099e04ca5339f3a.jpg: 448x640 2 leaf_healthys, 10.3ms\n",
      "image 312/1739 /workspace/Plant-Pathology-Anotation-7/test/images/healthy_test_381_jpg.rf.b82c350f24b944c693c710629d0d0d48.jpg: 448x640 1 leaf_scab, 10.2ms\n",
      "image 313/1739 /workspace/Plant-Pathology-Anotation-7/test/images/healthy_test_382_jpg.rf.de366168b740928fda23175c2e0bdef2.jpg: 448x640 6 leaf_healthys, 8.6ms\n",
      "image 314/1739 /workspace/Plant-Pathology-Anotation-7/test/images/healthy_test_383_jpg.rf.baba07fb44983a318fe9788e14364984.jpg: 448x640 2 leaf_healthys, 8.5ms\n",
      "image 315/1739 /workspace/Plant-Pathology-Anotation-7/test/images/healthy_test_384_jpg.rf.1463e1d55fd73bf6f17460be1ad2c200.jpg: 448x640 1 leaf_scab, 9.0ms\n",
      "image 316/1739 /workspace/Plant-Pathology-Anotation-7/test/images/healthy_test_385_jpg.rf.47a2947b08afdec5b9fded0790efa5b0.jpg: 448x640 1 leaf_rust, 8.6ms\n",
      "image 317/1739 /workspace/Plant-Pathology-Anotation-7/test/images/healthy_test_386_jpg.rf.7ae5d25bee46458ce3b916c11171eb0d.jpg: 448x640 1 leaf_healthy, 8.8ms\n",
      "image 318/1739 /workspace/Plant-Pathology-Anotation-7/test/images/healthy_test_387_jpg.rf.21c3e9f3c8131c2d3dd46eea1f901ed3.jpg: 448x640 2 leaf_healthys, 8.7ms\n",
      "image 319/1739 /workspace/Plant-Pathology-Anotation-7/test/images/healthy_test_388_jpg.rf.071470fd331ff0e7d1d3972eb3b54670.jpg: 448x640 2 leaf_rusts, 8.5ms\n",
      "image 320/1739 /workspace/Plant-Pathology-Anotation-7/test/images/healthy_test_389_jpg.rf.1ddb3e46a5ea94e95c0bcfbffd41b676.jpg: 448x640 7 leaf_healthys, 9.0ms\n",
      "image 321/1739 /workspace/Plant-Pathology-Anotation-7/test/images/healthy_test_38_jpg.rf.0f679efa49efc67032f6c5efa14b23a5.jpg: 448x640 1 leaf_healthy, 8.5ms\n",
      "image 322/1739 /workspace/Plant-Pathology-Anotation-7/test/images/healthy_test_390_jpg.rf.91da5f4f9a0171ebc82873a9d9d9f7f2.jpg: 448x640 12 leaf_healthys, 8.8ms\n",
      "image 323/1739 /workspace/Plant-Pathology-Anotation-7/test/images/healthy_test_391_jpg.rf.ef34190fd169d6d72f9ca494ea30e345.jpg: 640x448 5 leaf_healthys, 1 leaf_rust, 9.1ms\n",
      "image 324/1739 /workspace/Plant-Pathology-Anotation-7/test/images/healthy_test_392_jpg.rf.7a1079f8bd0031b2ccd520a333e485ee.jpg: 448x640 1 leaf_scab, 10.2ms\n",
      "image 325/1739 /workspace/Plant-Pathology-Anotation-7/test/images/healthy_test_393_jpg.rf.aa5535c4fdbb40ecce56d1818c32896b.jpg: 448x640 2 leaf_healthys, 10.0ms\n",
      "image 326/1739 /workspace/Plant-Pathology-Anotation-7/test/images/healthy_test_394_jpg.rf.92f6b8cb3701a3083303f1bb5a149bda.jpg: 448x640 7 leaf_healthys, 9.8ms\n",
      "image 327/1739 /workspace/Plant-Pathology-Anotation-7/test/images/healthy_test_395_jpg.rf.734ec8c9d9beee9cb8e0cda8715d1e5e.jpg: 448x640 5 leaf_healthys, 9.8ms\n",
      "image 328/1739 /workspace/Plant-Pathology-Anotation-7/test/images/healthy_test_396_jpg.rf.ba7da44b25b62f47a5d2644e8d8d7755.jpg: 448x640 1 leaf_healthy, 10.3ms\n",
      "image 329/1739 /workspace/Plant-Pathology-Anotation-7/test/images/healthy_test_397_jpg.rf.5d4025d3f93c1a21b9c3760fa38e61f8.jpg: 448x640 5 leaf_healthys, 9.9ms\n",
      "image 330/1739 /workspace/Plant-Pathology-Anotation-7/test/images/healthy_test_398_jpg.rf.58890f0f6d862d1eb24c7118d3587acc.jpg: 448x640 2 leaf_healthys, 9.5ms\n",
      "image 331/1739 /workspace/Plant-Pathology-Anotation-7/test/images/healthy_test_399_jpg.rf.ef57490bb20c618cb6a2aae8bb52ca7f.jpg: 448x640 2 leaf_healthys, 10.4ms\n",
      "image 332/1739 /workspace/Plant-Pathology-Anotation-7/test/images/healthy_test_39_jpg.rf.45b77daa0bcd6abcb32f44ad5bcad125.jpg: 448x640 8 leaf_healthys, 9.9ms\n",
      "image 333/1739 /workspace/Plant-Pathology-Anotation-7/test/images/healthy_test_3_jpg.rf.b38ed4282d8eef699ba21109db02722d.jpg: 448x640 1 leaf_healthy, 9.8ms\n",
      "image 334/1739 /workspace/Plant-Pathology-Anotation-7/test/images/healthy_test_400_jpg.rf.a21d7c5979a470a0b87e91e37833c859.jpg: 448x640 1 leaf_scab, 10.5ms\n",
      "image 335/1739 /workspace/Plant-Pathology-Anotation-7/test/images/healthy_test_401_jpg.rf.b9930d7ac5a69cb57622f06650a4c4ac.jpg: 448x640 1 leaf_healthy, 10.0ms\n",
      "image 336/1739 /workspace/Plant-Pathology-Anotation-7/test/images/healthy_test_402_jpg.rf.b8e78847aeea6b1a94cf50407bfd55e3.jpg: 448x640 1 leaf_rust, 10.1ms\n",
      "image 337/1739 /workspace/Plant-Pathology-Anotation-7/test/images/healthy_test_403_jpg.rf.66f001657695479006fc91d4a03c3c20.jpg: 448x640 4 leaf_healthys, 8.6ms\n",
      "image 338/1739 /workspace/Plant-Pathology-Anotation-7/test/images/healthy_test_404_jpg.rf.88ec03407d092908d1c9bf3d04b52cdf.jpg: 448x640 5 leaf_healthys, 8.6ms\n",
      "image 339/1739 /workspace/Plant-Pathology-Anotation-7/test/images/healthy_test_405_jpg.rf.3cf5eb8b747a2c52ea8df31f23aefc10.jpg: 448x640 4 leaf_healthys, 9.4ms\n",
      "image 340/1739 /workspace/Plant-Pathology-Anotation-7/test/images/healthy_test_406_jpg.rf.bace71c58e7f90d203eb6794416193f5.jpg: 448x640 2 leaf_healthys, 8.6ms\n",
      "image 341/1739 /workspace/Plant-Pathology-Anotation-7/test/images/healthy_test_407_jpg.rf.37237d7b3e05dc1f2a3691a5c948e517.jpg: 448x640 2 leaf_healthys, 9.2ms\n",
      "image 342/1739 /workspace/Plant-Pathology-Anotation-7/test/images/healthy_test_408_jpg.rf.764e28d01fbcc2bb1fd7859a4482539c.jpg: 448x640 3 leaf_healthys, 8.5ms\n",
      "image 343/1739 /workspace/Plant-Pathology-Anotation-7/test/images/healthy_test_409_jpg.rf.29529a0b9fc1aa9095328605bf2afae3.jpg: 448x640 4 leaf_healthys, 9.2ms\n",
      "image 344/1739 /workspace/Plant-Pathology-Anotation-7/test/images/healthy_test_40_jpg.rf.9086b7a1f2c8e1f835279b049068fa48.jpg: 448x640 1 leaf_healthy, 8.6ms\n",
      "image 345/1739 /workspace/Plant-Pathology-Anotation-7/test/images/healthy_test_410_jpg.rf.d3d8a2d009c5f88835da0329f22426f9.jpg: 448x640 4 leaf_healthys, 8.6ms\n",
      "image 346/1739 /workspace/Plant-Pathology-Anotation-7/test/images/healthy_test_411_jpg.rf.9610fa5d24ef84f5c38b7f4489cc06e8.jpg: 448x640 5 leaf_healthys, 8.6ms\n",
      "image 347/1739 /workspace/Plant-Pathology-Anotation-7/test/images/healthy_test_412_jpg.rf.8f8d5370f3fbbe99b866a966ef4d1fa3.jpg: 448x640 3 leaf_healthys, 8.9ms\n",
      "image 348/1739 /workspace/Plant-Pathology-Anotation-7/test/images/healthy_test_413_jpg.rf.4ff078cfe9ef7b57a81bae3fc44cbeee.jpg: 448x640 5 leaf_healthys, 8.9ms\n",
      "image 349/1739 /workspace/Plant-Pathology-Anotation-7/test/images/healthy_test_414_jpg.rf.5ed1a3d25838e42221a32f4c8c040be4.jpg: 448x640 6 leaf_healthys, 1 leaf_scab, 9.3ms\n",
      "image 350/1739 /workspace/Plant-Pathology-Anotation-7/test/images/healthy_test_415_jpg.rf.80441fe29da5dad01f8210d162716081.jpg: 448x640 15 leaf_healthys, 1 leaf_rust, 8.5ms\n",
      "image 351/1739 /workspace/Plant-Pathology-Anotation-7/test/images/healthy_test_416_jpg.rf.dda13758982895eeb706a0fb10e04dec.jpg: 448x640 8 leaf_healthys, 8.5ms\n",
      "image 352/1739 /workspace/Plant-Pathology-Anotation-7/test/images/healthy_test_417_jpg.rf.2d6c5685a4786374c59eccb5e28d5ebb.jpg: 448x640 5 leaf_healthys, 8.1ms\n",
      "image 353/1739 /workspace/Plant-Pathology-Anotation-7/test/images/healthy_test_418_jpg.rf.a85f8351ac5c16d3f5104f046d1da2e2.jpg: 448x640 5 leaf_healthys, 8.8ms\n",
      "image 354/1739 /workspace/Plant-Pathology-Anotation-7/test/images/healthy_test_419_jpg.rf.a1c92d7d9cea102457efd988b9f3f332.jpg: 448x640 3 leaf_healthys, 8.5ms\n",
      "image 355/1739 /workspace/Plant-Pathology-Anotation-7/test/images/healthy_test_41_jpg.rf.f71379fc2530f82b18a8b0f359a5434e.jpg: 448x640 6 leaf_healthys, 8.6ms\n",
      "image 356/1739 /workspace/Plant-Pathology-Anotation-7/test/images/healthy_test_420_jpg.rf.9372f9a2e1707f5a255629e716beb1e7.jpg: 448x640 2 leaf_healthys, 8.4ms\n",
      "image 357/1739 /workspace/Plant-Pathology-Anotation-7/test/images/healthy_test_421_jpg.rf.debed764ab74d2580df617a0829dba82.jpg: 448x640 2 leaf_healthys, 8.8ms\n",
      "image 358/1739 /workspace/Plant-Pathology-Anotation-7/test/images/healthy_test_422_jpg.rf.abfc53bb740800fd549d6fcef9f4476f.jpg: 448x640 3 leaf_healthys, 8.1ms\n",
      "image 359/1739 /workspace/Plant-Pathology-Anotation-7/test/images/healthy_test_423_jpg.rf.e6497571e9a3a7d0abf21bf40256f90c.jpg: 448x640 4 leaf_healthys, 8.8ms\n",
      "image 360/1739 /workspace/Plant-Pathology-Anotation-7/test/images/healthy_test_424_jpg.rf.aded4376253dbb054e24bcce20c54f30.jpg: 448x640 4 leaf_healthys, 8.1ms\n",
      "image 361/1739 /workspace/Plant-Pathology-Anotation-7/test/images/healthy_test_425_jpg.rf.4868d1072dedf2020b0b91b7bae4acd8.jpg: 448x640 1 leaf_rust, 9.4ms\n",
      "image 362/1739 /workspace/Plant-Pathology-Anotation-7/test/images/healthy_test_426_jpg.rf.0118025e6839b3b6c4384c8f1b061d68.jpg: 448x640 2 leaf_rusts, 8.6ms\n",
      "image 363/1739 /workspace/Plant-Pathology-Anotation-7/test/images/healthy_test_42_jpg.rf.c718712a2c2baa9121d54a761c51870f.jpg: 448x640 3 leaf_healthys, 8.6ms\n",
      "image 364/1739 /workspace/Plant-Pathology-Anotation-7/test/images/healthy_test_43_jpg.rf.42e6ea03aec3dbdb83a8b08e3891f30e.jpg: 448x640 1 leaf_scab, 8.8ms\n",
      "image 365/1739 /workspace/Plant-Pathology-Anotation-7/test/images/healthy_test_44_jpg.rf.9f623e57462342130bf048ad4edb2593.jpg: 448x640 2 leaf_healthys, 1 leaf_rust, 8.7ms\n",
      "image 366/1739 /workspace/Plant-Pathology-Anotation-7/test/images/healthy_test_45_jpg.rf.30fc8b29e92b40a87ef454f0c75f80e7.jpg: 448x640 1 leaf_scab, 8.5ms\n",
      "image 367/1739 /workspace/Plant-Pathology-Anotation-7/test/images/healthy_test_46_jpg.rf.019b584ca914005c00b255874bfb2d81.jpg: 448x640 1 leaf_scab, 8.6ms\n",
      "image 368/1739 /workspace/Plant-Pathology-Anotation-7/test/images/healthy_test_47_jpg.rf.4d5cee01bbc1215b582c716c87cf2d95.jpg: 448x640 4 leaf_healthys, 8.6ms\n",
      "image 369/1739 /workspace/Plant-Pathology-Anotation-7/test/images/healthy_test_48_jpg.rf.e917d9b5a2f46016165729cd1c43dd6d.jpg: 448x640 2 leaf_healthys, 8.6ms\n",
      "image 370/1739 /workspace/Plant-Pathology-Anotation-7/test/images/healthy_test_49_jpg.rf.d5474fd8251c1d2d4faba46636cd7d6a.jpg: 448x640 1 leaf_healthy, 9.0ms\n",
      "image 371/1739 /workspace/Plant-Pathology-Anotation-7/test/images/healthy_test_4_jpg.rf.6cbd2b16873494bdad6f1ba9aaff09e6.jpg: 448x640 3 leaf_healthys, 8.6ms\n",
      "image 372/1739 /workspace/Plant-Pathology-Anotation-7/test/images/healthy_test_50_jpg.rf.38553fe62939edd15f62a5d86c4c25db.jpg: 448x640 2 leaf_healthys, 8.5ms\n",
      "image 373/1739 /workspace/Plant-Pathology-Anotation-7/test/images/healthy_test_51_jpg.rf.55d641cccca76edcdfed33a91e8950a8.jpg: 448x640 (no detections), 9.4ms\n",
      "image 374/1739 /workspace/Plant-Pathology-Anotation-7/test/images/healthy_test_52_jpg.rf.892cb4443bf6d27d33a6932247915b1e.jpg: 448x640 1 leaf_rust, 1 leaf_scab, 8.1ms\n",
      "image 375/1739 /workspace/Plant-Pathology-Anotation-7/test/images/healthy_test_53_jpg.rf.a3e0b8094a61d93ee071c71bc0daa234.jpg: 448x640 2 leaf_healthys, 8.6ms\n",
      "image 376/1739 /workspace/Plant-Pathology-Anotation-7/test/images/healthy_test_54_jpg.rf.9a48e14b770d9bcd03906665089ba7d2.jpg: 448x640 2 leaf_healthys, 9.8ms\n",
      "image 377/1739 /workspace/Plant-Pathology-Anotation-7/test/images/healthy_test_55_jpg.rf.298f1f4bbcaad2e4ae1cadbd5094a8e5.jpg: 448x640 5 leaf_healthys, 9.5ms\n",
      "image 378/1739 /workspace/Plant-Pathology-Anotation-7/test/images/healthy_test_56_jpg.rf.a75677664c6bc9cf728729788eaaf2c7.jpg: 448x640 1 leaf_rust, 9.7ms\n",
      "image 379/1739 /workspace/Plant-Pathology-Anotation-7/test/images/healthy_test_57_jpg.rf.9fcf852597610eead62d893a2b585513.jpg: 448x640 1 leaf_scab, 9.9ms\n",
      "image 380/1739 /workspace/Plant-Pathology-Anotation-7/test/images/healthy_test_58_jpg.rf.93790495615a650c93dfeb0eef88d641.jpg: 448x640 1 leaf_scab, 9.5ms\n",
      "image 381/1739 /workspace/Plant-Pathology-Anotation-7/test/images/healthy_test_59_jpg.rf.491d0bb4825bd8c8307088bc8dbd4a23.jpg: 448x640 8 leaf_healthys, 9.5ms\n",
      "image 382/1739 /workspace/Plant-Pathology-Anotation-7/test/images/healthy_test_5_jpg.rf.29600639302bc86bf600194bff70be49.jpg: 448x640 3 leaf_healthys, 9.4ms\n",
      "image 383/1739 /workspace/Plant-Pathology-Anotation-7/test/images/healthy_test_60_jpg.rf.371049db029a7c4c262492810b30b9f6.jpg: 448x640 2 leaf_healthys, 9.7ms\n",
      "image 384/1739 /workspace/Plant-Pathology-Anotation-7/test/images/healthy_test_61_jpg.rf.779a4bf77122eb1c159e370d9548bb65.jpg: 448x640 5 leaf_healthys, 9.4ms\n",
      "image 385/1739 /workspace/Plant-Pathology-Anotation-7/test/images/healthy_test_62_jpg.rf.742bea4e26f694d6aaed19f933758b32.jpg: 448x640 1 leaf_scab, 9.8ms\n",
      "image 386/1739 /workspace/Plant-Pathology-Anotation-7/test/images/healthy_test_63_jpg.rf.04cd8ee93d084a952fbd4009a14000e3.jpg: 448x640 7 leaf_healthys, 9.6ms\n",
      "image 387/1739 /workspace/Plant-Pathology-Anotation-7/test/images/healthy_test_64_jpg.rf.0c4a6a4b7a1fdc1bd801f77d88620cf8.jpg: 448x640 1 leaf_rust, 9.8ms\n",
      "image 388/1739 /workspace/Plant-Pathology-Anotation-7/test/images/healthy_test_66_jpg.rf.ed858517c064081d2cbc7819cfd599b8.jpg: 448x640 3 leaf_healthys, 9.8ms\n",
      "image 389/1739 /workspace/Plant-Pathology-Anotation-7/test/images/healthy_test_67_jpg.rf.db91462016f20674a0bfcbb215643135.jpg: 448x640 7 leaf_healthys, 9.6ms\n",
      "image 390/1739 /workspace/Plant-Pathology-Anotation-7/test/images/healthy_test_68_jpg.rf.7724bf60a3cc7f300076549b9a7a8bb7.jpg: 448x640 4 leaf_healthys, 9.5ms\n",
      "image 391/1739 /workspace/Plant-Pathology-Anotation-7/test/images/healthy_test_69_jpg.rf.5bac77158e7b598bfb84df8a7dbe8591.jpg: 448x640 1 leaf_rust, 10.2ms\n",
      "image 392/1739 /workspace/Plant-Pathology-Anotation-7/test/images/healthy_test_6_jpg.rf.f81ee4724c4cdb12a63a7bd65f0bcd5a.jpg: 448x640 4 leaf_healthys, 8.6ms\n",
      "image 393/1739 /workspace/Plant-Pathology-Anotation-7/test/images/healthy_test_70_jpg.rf.afad06961303310251720952655ca9be.jpg: 448x640 3 leaf_healthys, 8.5ms\n",
      "image 394/1739 /workspace/Plant-Pathology-Anotation-7/test/images/healthy_test_71_jpg.rf.67cbfeb71cc641cfff3895cd4fdf02cd.jpg: 448x640 4 leaf_healthys, 8.7ms\n",
      "image 395/1739 /workspace/Plant-Pathology-Anotation-7/test/images/healthy_test_72_jpg.rf.eaba656387beeeb5af2af26e1d85dfcb.jpg: 448x640 9 leaf_healthys, 8.1ms\n",
      "image 396/1739 /workspace/Plant-Pathology-Anotation-7/test/images/healthy_test_73_jpg.rf.07207cad792f7a0fbb62a0989f61dfa1.jpg: 448x640 1 leaf_healthy, 1 leaf_scab, 8.5ms\n",
      "image 397/1739 /workspace/Plant-Pathology-Anotation-7/test/images/healthy_test_74_jpg.rf.d79a33dafeb89b669c2db7a444f66437.jpg: 448x640 4 leaf_healthys, 8.7ms\n",
      "image 398/1739 /workspace/Plant-Pathology-Anotation-7/test/images/healthy_test_75_jpg.rf.ee64539570964a0851ad6c0244837d35.jpg: 448x640 6 leaf_healthys, 8.2ms\n",
      "image 399/1739 /workspace/Plant-Pathology-Anotation-7/test/images/healthy_test_76_jpg.rf.22eba49b07a053b61a9f8a1f0d69e44c.jpg: 448x640 1 leaf_healthy, 8.4ms\n",
      "image 400/1739 /workspace/Plant-Pathology-Anotation-7/test/images/healthy_test_77_jpg.rf.ac4d283c8dd08865a469d8a00da06d78.jpg: 448x640 4 leaf_healthys, 8.2ms\n",
      "image 401/1739 /workspace/Plant-Pathology-Anotation-7/test/images/healthy_test_78_jpg.rf.331ecb8f5c0331f20e56ef8516a9293c.jpg: 448x640 1 leaf_healthy, 8.5ms\n",
      "image 402/1739 /workspace/Plant-Pathology-Anotation-7/test/images/healthy_test_79_jpg.rf.715d320d69562ac5c1d59b8122b16dea.jpg: 448x640 2 leaf_healthys, 9.2ms\n",
      "image 403/1739 /workspace/Plant-Pathology-Anotation-7/test/images/healthy_test_7_jpg.rf.15b2776c0270228b71d298b979d9bdf8.jpg: 448x640 4 leaf_healthys, 10.2ms\n",
      "image 404/1739 /workspace/Plant-Pathology-Anotation-7/test/images/healthy_test_80_jpg.rf.2bb738890b2ed797b72354eb6a37c885.jpg: 448x640 1 leaf_healthy, 8.5ms\n",
      "image 405/1739 /workspace/Plant-Pathology-Anotation-7/test/images/healthy_test_81_jpg.rf.7cfaa1c096ff0d524a7615f9c9943136.jpg: 448x640 4 leaf_healthys, 8.7ms\n",
      "image 406/1739 /workspace/Plant-Pathology-Anotation-7/test/images/healthy_test_82_jpg.rf.98b3d3f5fc65d6ef9d0841ed6e7d512c.jpg: 448x640 5 leaf_healthys, 8.5ms\n",
      "image 407/1739 /workspace/Plant-Pathology-Anotation-7/test/images/healthy_test_83_jpg.rf.8ab8a8f184aa488d399db1493cda072b.jpg: 448x640 1 leaf_healthy, 9.5ms\n",
      "image 408/1739 /workspace/Plant-Pathology-Anotation-7/test/images/healthy_test_84_jpg.rf.b84356697111dc0edb9bc669efb08f6b.jpg: 448x640 4 leaf_healthys, 8.6ms\n",
      "image 409/1739 /workspace/Plant-Pathology-Anotation-7/test/images/healthy_test_85_jpg.rf.d6300aa95f5f99843dd6c505dcbac2e5.jpg: 448x640 5 leaf_healthys, 8.5ms\n",
      "image 410/1739 /workspace/Plant-Pathology-Anotation-7/test/images/healthy_test_86_jpg.rf.fc4042b58c23a0b80f83fc732112ac42.jpg: 448x640 1 leaf_scab, 8.9ms\n",
      "image 411/1739 /workspace/Plant-Pathology-Anotation-7/test/images/healthy_test_87_jpg.rf.e692c6cb028d237a3ad0bf5b65f39431.jpg: 448x640 2 leaf_healthys, 8.7ms\n",
      "image 412/1739 /workspace/Plant-Pathology-Anotation-7/test/images/healthy_test_88_jpg.rf.48d217ae44ff066e4c869e4ed06dfa15.jpg: 448x640 5 leaf_healthys, 8.5ms\n",
      "image 413/1739 /workspace/Plant-Pathology-Anotation-7/test/images/healthy_test_89_jpg.rf.d7ea21281d595ffc3864132ab5066a9e.jpg: 448x640 3 leaf_healthys, 8.9ms\n",
      "image 414/1739 /workspace/Plant-Pathology-Anotation-7/test/images/healthy_test_8_jpg.rf.1787e5cb7d3c07e756c70cf5eea88023.jpg: 448x640 2 leaf_healthys, 8.6ms\n",
      "image 415/1739 /workspace/Plant-Pathology-Anotation-7/test/images/healthy_test_90_jpg.rf.0a309d967416f1786d5e9280f64443ba.jpg: 448x640 2 leaf_healthys, 9.0ms\n",
      "image 416/1739 /workspace/Plant-Pathology-Anotation-7/test/images/healthy_test_91_jpg.rf.0cf86687d9c109a1331b2792747442e7.jpg: 448x640 4 leaf_healthys, 8.6ms\n",
      "image 417/1739 /workspace/Plant-Pathology-Anotation-7/test/images/healthy_test_92_jpg.rf.7a31122f32024b1ffe47ececc4137275.jpg: 448x640 2 leaf_healthys, 8.9ms\n",
      "image 418/1739 /workspace/Plant-Pathology-Anotation-7/test/images/healthy_test_93_jpg.rf.f6c57bb4ff15065a3b2201fdbc2cb4cb.jpg: 448x640 6 leaf_healthys, 8.5ms\n",
      "image 419/1739 /workspace/Plant-Pathology-Anotation-7/test/images/healthy_test_94_jpg.rf.9b130007000c1ac942f987d2085cfd85.jpg: 448x640 8 leaf_healthys, 8.9ms\n",
      "image 420/1739 /workspace/Plant-Pathology-Anotation-7/test/images/healthy_test_95_jpg.rf.48040bafc96cdfd0bae0a34e43888660.jpg: 448x640 4 leaf_healthys, 8.6ms\n",
      "image 421/1739 /workspace/Plant-Pathology-Anotation-7/test/images/healthy_test_96_jpg.rf.da3f94fe828f96c0fb3ecc79cfc24d5d.jpg: 448x640 3 leaf_healthys, 9.2ms\n",
      "image 422/1739 /workspace/Plant-Pathology-Anotation-7/test/images/healthy_test_97_jpg.rf.2869684294cd64d00b37d8253c6c4316.jpg: 448x640 3 leaf_healthys, 8.5ms\n",
      "image 423/1739 /workspace/Plant-Pathology-Anotation-7/test/images/healthy_test_98_jpg.rf.a7d7a4b5bf934b485aba96727bd265b7.jpg: 448x640 2 leaf_healthys, 1 leaf_scab, 9.1ms\n",
      "image 424/1739 /workspace/Plant-Pathology-Anotation-7/test/images/healthy_test_99_jpg.rf.e98a695defae157ac82fa7bbb30615ac.jpg: 448x640 1 leaf_scab, 8.6ms\n",
      "image 425/1739 /workspace/Plant-Pathology-Anotation-7/test/images/healthy_test_9_jpg.rf.bda2991a071f14b12aa79277a42085a2.jpg: 448x640 1 leaf_healthy, 8.9ms\n",
      "image 426/1739 /workspace/Plant-Pathology-Anotation-7/test/images/rust_test_100_jpg.rf.31ed190c9f7cfdd58a792a41133bf2dc.jpg: 448x640 2 leaf_rusts, 9.0ms\n",
      "image 427/1739 /workspace/Plant-Pathology-Anotation-7/test/images/rust_test_101_jpg.rf.da0a247c13f0b19f54267448fc1f96cc.jpg: 448x640 1 leaf_rust, 8.7ms\n",
      "image 428/1739 /workspace/Plant-Pathology-Anotation-7/test/images/rust_test_102_jpg.rf.275d620082db9846b6bf2e40893bbda5.jpg: 448x640 1 leaf_rust, 8.7ms\n",
      "image 429/1739 /workspace/Plant-Pathology-Anotation-7/test/images/rust_test_103_jpg.rf.344671565843446703496379d8573a76.jpg: 448x640 2 leaf_rusts, 8.6ms\n",
      "image 430/1739 /workspace/Plant-Pathology-Anotation-7/test/images/rust_test_104_jpg.rf.708b019f2eb7eb13e4b75db8dad5efc4.jpg: 448x640 2 leaf_rusts, 8.4ms\n",
      "image 431/1739 /workspace/Plant-Pathology-Anotation-7/test/images/rust_test_105_jpg.rf.402fdc10998e995e4c9c8d6a762f5507.jpg: 448x640 1 leaf_rust, 8.9ms\n",
      "image 432/1739 /workspace/Plant-Pathology-Anotation-7/test/images/rust_test_106_jpg.rf.8e7349a320f474618aa57a769247d3e5.jpg: 448x640 1 leaf_rust, 8.8ms\n",
      "image 433/1739 /workspace/Plant-Pathology-Anotation-7/test/images/rust_test_107_jpg.rf.7971c0809ee9c1c8e7a7f4aa04b4115d.jpg: 448x640 1 leaf_rust, 8.6ms\n",
      "image 434/1739 /workspace/Plant-Pathology-Anotation-7/test/images/rust_test_108_jpg.rf.bc5f8d4851f629149bbb2ca6f28d9c68.jpg: 448x640 1 leaf_rust, 8.6ms\n",
      "image 435/1739 /workspace/Plant-Pathology-Anotation-7/test/images/rust_test_109_jpg.rf.ffbf3c75ecc4d5762e84bf439e7dc568.jpg: 448x640 1 leaf_rust, 8.6ms\n",
      "image 436/1739 /workspace/Plant-Pathology-Anotation-7/test/images/rust_test_10_jpg.rf.442a308f76bca3d4816555632a8d3ef5.jpg: 448x640 1 leaf_rust, 8.6ms\n",
      "image 437/1739 /workspace/Plant-Pathology-Anotation-7/test/images/rust_test_110_jpg.rf.d125aed895e683b0d578118d99462fa4.jpg: 448x640 1 leaf_rust, 8.6ms\n",
      "image 438/1739 /workspace/Plant-Pathology-Anotation-7/test/images/rust_test_111_jpg.rf.d6f33eae420c5335424db0b8f3725e2e.jpg: 448x640 1 leaf_rust, 8.6ms\n",
      "image 439/1739 /workspace/Plant-Pathology-Anotation-7/test/images/rust_test_112_jpg.rf.06cabcf6eae002bb5d44fa39b73e5ad3.jpg: 448x640 7 leaf_rusts, 8.6ms\n",
      "image 440/1739 /workspace/Plant-Pathology-Anotation-7/test/images/rust_test_113_jpg.rf.77a712ae592d439a9fc56a19028dd08d.jpg: 448x640 1 leaf_rust, 8.5ms\n",
      "image 441/1739 /workspace/Plant-Pathology-Anotation-7/test/images/rust_test_114_jpg.rf.320e1ddbe7cf2c90e0eb0676b2e89a27.jpg: 448x640 1 leaf_rust, 8.9ms\n",
      "image 442/1739 /workspace/Plant-Pathology-Anotation-7/test/images/rust_test_115_jpg.rf.51b8f6d1a3d2d0f5b19054771aa287f9.jpg: 448x640 1 leaf_rust, 8.7ms\n",
      "image 443/1739 /workspace/Plant-Pathology-Anotation-7/test/images/rust_test_116_jpg.rf.fafdcd0ea39ee7cdc10b51bdceafeeb5.jpg: 448x640 1 leaf_rust, 8.8ms\n",
      "image 444/1739 /workspace/Plant-Pathology-Anotation-7/test/images/rust_test_117_jpg.rf.49e30beb1574c00267ce7a66ca8cc2e5.jpg: 448x640 1 leaf_rust, 8.5ms\n",
      "image 445/1739 /workspace/Plant-Pathology-Anotation-7/test/images/rust_test_118_jpg.rf.08b4095b61710b2fc71faf599cb8b24d.jpg: 448x640 3 leaf_rusts, 8.7ms\n",
      "image 446/1739 /workspace/Plant-Pathology-Anotation-7/test/images/rust_test_119_jpg.rf.29f3e3484eacaf54a0ab6eccb2ff885b.jpg: 448x640 1 leaf_rust, 8.5ms\n",
      "image 447/1739 /workspace/Plant-Pathology-Anotation-7/test/images/rust_test_11_jpg.rf.8238a38a2e47df529f53f5b97d9a1698.jpg: 448x640 1 leaf_rust, 8.7ms\n",
      "image 448/1739 /workspace/Plant-Pathology-Anotation-7/test/images/rust_test_120_jpg.rf.962f45881004a5c4fe88055f5a2131c3.jpg: 448x640 1 leaf_rust, 8.4ms\n",
      "image 449/1739 /workspace/Plant-Pathology-Anotation-7/test/images/rust_test_121_jpg.rf.2f37272b93bb2ee60e4650c27975af9b.jpg: 448x640 4 leaf_rusts, 8.6ms\n",
      "image 450/1739 /workspace/Plant-Pathology-Anotation-7/test/images/rust_test_122_jpg.rf.295e9afb7c24dc6584b7b30dfc0d3d4a.jpg: 448x640 1 leaf_rust, 8.6ms\n",
      "image 451/1739 /workspace/Plant-Pathology-Anotation-7/test/images/rust_test_123_jpg.rf.67f2af22aed3adafb235cfc6926ff433.jpg: 448x640 1 leaf_rust, 8.6ms\n",
      "image 452/1739 /workspace/Plant-Pathology-Anotation-7/test/images/rust_test_124_jpg.rf.43a7a3c7c0ce29a5c01ad1208ab7e173.jpg: 448x640 1 leaf_rust, 9.1ms\n",
      "image 453/1739 /workspace/Plant-Pathology-Anotation-7/test/images/rust_test_125_jpg.rf.d6e41557472cf873a0dedf0336414a5e.jpg: 448x640 1 leaf_rust, 8.7ms\n",
      "image 454/1739 /workspace/Plant-Pathology-Anotation-7/test/images/rust_test_126_jpg.rf.3c91e2656b86176d1deb2b592d6722f7.jpg: 448x640 1 leaf_rust, 8.7ms\n",
      "image 455/1739 /workspace/Plant-Pathology-Anotation-7/test/images/rust_test_127_jpg.rf.31d3e28aa0619398c7b936cd551d96a0.jpg: 448x640 1 leaf_rust, 8.7ms\n",
      "image 456/1739 /workspace/Plant-Pathology-Anotation-7/test/images/rust_test_128_jpg.rf.1662c7077e2114089b8bf359e8c3a55b.jpg: 448x640 2 leaf_rusts, 8.7ms\n",
      "image 457/1739 /workspace/Plant-Pathology-Anotation-7/test/images/rust_test_129_jpg.rf.03569c837120016e1618134520850aa0.jpg: 448x640 1 leaf_rust, 8.6ms\n",
      "image 458/1739 /workspace/Plant-Pathology-Anotation-7/test/images/rust_test_12_jpg.rf.992b2926a9921639094107acbf08e890.jpg: 448x640 1 leaf_rust, 8.8ms\n",
      "image 459/1739 /workspace/Plant-Pathology-Anotation-7/test/images/rust_test_130_jpg.rf.dae9e08436e6c9489c72993bd360cb4e.jpg: 448x640 1 leaf_rust, 1 leaf_scab, 8.7ms\n",
      "image 460/1739 /workspace/Plant-Pathology-Anotation-7/test/images/rust_test_131_jpg.rf.f0cb4e634cfc75b821333e971119ad8f.jpg: 448x640 1 leaf_rust, 8.6ms\n",
      "image 461/1739 /workspace/Plant-Pathology-Anotation-7/test/images/rust_test_132_jpg.rf.5f9526a5aaa7b25ea9053060086fddd7.jpg: 448x640 2 leaf_rusts, 8.7ms\n",
      "image 462/1739 /workspace/Plant-Pathology-Anotation-7/test/images/rust_test_133_jpg.rf.c830e198bcea4eff5d4a8a13e2349742.jpg: 448x640 1 leaf_rust, 8.6ms\n",
      "image 463/1739 /workspace/Plant-Pathology-Anotation-7/test/images/rust_test_134_jpg.rf.464539842a878f271b9bda787450ff51.jpg: 448x640 2 leaf_rusts, 8.8ms\n",
      "image 464/1739 /workspace/Plant-Pathology-Anotation-7/test/images/rust_test_135_jpg.rf.6a36926c20fd0ea8ce1d4e5e75521007.jpg: 448x640 1 leaf_rust, 1 leaf_scab, 8.5ms\n",
      "image 465/1739 /workspace/Plant-Pathology-Anotation-7/test/images/rust_test_136_jpg.rf.501f363c247064cc1d7cf99548ae423d.jpg: 448x640 3 leaf_rusts, 8.7ms\n",
      "image 466/1739 /workspace/Plant-Pathology-Anotation-7/test/images/rust_test_137_jpg.rf.5cb96de34c2d8912a7df913bd9672aa3.jpg: 448x640 1 leaf_rust, 8.1ms\n",
      "image 467/1739 /workspace/Plant-Pathology-Anotation-7/test/images/rust_test_138_jpg.rf.73eedb32df0f598ff77d163ae388d487.jpg: 448x640 1 leaf_rust, 9.5ms\n",
      "image 468/1739 /workspace/Plant-Pathology-Anotation-7/test/images/rust_test_139_jpg.rf.ec7368a8ac3733f83478f196de87185b.jpg: 448x640 1 leaf_rust, 8.9ms\n",
      "image 469/1739 /workspace/Plant-Pathology-Anotation-7/test/images/rust_test_13_jpg.rf.829fa3c6c31c6677f6c81691f4791434.jpg: 448x640 1 leaf_rust, 8.8ms\n",
      "image 470/1739 /workspace/Plant-Pathology-Anotation-7/test/images/rust_test_140_jpg.rf.11ac0c5ee7fcf1de3b8f2734ca6672e9.jpg: 640x448 2 leaf_rusts, 9.4ms\n",
      "image 471/1739 /workspace/Plant-Pathology-Anotation-7/test/images/rust_test_141_jpg.rf.a6db137c67260b294b356e97f462484a.jpg: 448x640 2 leaf_rusts, 8.9ms\n",
      "image 472/1739 /workspace/Plant-Pathology-Anotation-7/test/images/rust_test_142_jpg.rf.037a2c205281acd278261225430581ea.jpg: 448x640 1 leaf_rust, 8.6ms\n",
      "image 473/1739 /workspace/Plant-Pathology-Anotation-7/test/images/rust_test_143_jpg.rf.d9ff64cc3982b602c6c03e2844019970.jpg: 448x640 1 leaf_rust, 8.3ms\n",
      "image 474/1739 /workspace/Plant-Pathology-Anotation-7/test/images/rust_test_144_jpg.rf.1af5bfd95eaaa7427878ba21752ffa6b.jpg: 448x640 1 leaf_rust, 8.5ms\n",
      "image 475/1739 /workspace/Plant-Pathology-Anotation-7/test/images/rust_test_145_jpg.rf.a51292c4ac9b4f1bcf82fb779ebe46fd.jpg: 448x640 2 leaf_rusts, 8.7ms\n",
      "image 476/1739 /workspace/Plant-Pathology-Anotation-7/test/images/rust_test_146_jpg.rf.8d5c413b948903539932c4a875e54e3e.jpg: 448x640 2 leaf_rusts, 8.6ms\n",
      "image 477/1739 /workspace/Plant-Pathology-Anotation-7/test/images/rust_test_147_jpg.rf.9ec48ddb2be7207ae8d973e741bb12b6.jpg: 448x640 1 leaf_rust, 9.0ms\n",
      "image 478/1739 /workspace/Plant-Pathology-Anotation-7/test/images/rust_test_148_jpg.rf.f3304ada443624b9595c44f49ca07f80.jpg: 448x640 1 leaf_rust, 8.7ms\n",
      "image 479/1739 /workspace/Plant-Pathology-Anotation-7/test/images/rust_test_149_jpg.rf.cfbf550a3edc39ad018ab0905f5677b2.jpg: 448x640 3 leaf_rusts, 8.8ms\n",
      "image 480/1739 /workspace/Plant-Pathology-Anotation-7/test/images/rust_test_14_jpg.rf.d179d4c48ae7865dae52e4160f76cbcf.jpg: 448x640 2 leaf_rusts, 8.5ms\n",
      "image 481/1739 /workspace/Plant-Pathology-Anotation-7/test/images/rust_test_150_jpg.rf.0e9064e9ba2e7208250f9e8c523e593f.jpg: 448x640 2 leaf_rusts, 8.8ms\n",
      "image 482/1739 /workspace/Plant-Pathology-Anotation-7/test/images/rust_test_151_jpg.rf.1c9394de697e7d1675dff4c93aeca188.jpg: 448x640 2 leaf_rusts, 8.5ms\n",
      "image 483/1739 /workspace/Plant-Pathology-Anotation-7/test/images/rust_test_152_jpg.rf.1963f4a7c5a6f551a839d261a48be353.jpg: 448x640 1 leaf_rust, 9.1ms\n",
      "image 484/1739 /workspace/Plant-Pathology-Anotation-7/test/images/rust_test_153_jpg.rf.828ca3a70e151250a577edc4afeeff9d.jpg: 448x640 1 leaf_rust, 8.6ms\n",
      "image 485/1739 /workspace/Plant-Pathology-Anotation-7/test/images/rust_test_154_jpg.rf.006acc51126a983ebfd8e600790869f6.jpg: 448x640 1 leaf_rust, 8.7ms\n",
      "image 486/1739 /workspace/Plant-Pathology-Anotation-7/test/images/rust_test_155_jpg.rf.36994b1278a321acae468b655e9cc1e5.jpg: 448x640 4 leaf_rusts, 8.5ms\n",
      "image 487/1739 /workspace/Plant-Pathology-Anotation-7/test/images/rust_test_156_jpg.rf.185a72d723e8851c456ac9e3133ac1d6.jpg: 448x640 1 leaf_rust, 8.4ms\n",
      "image 488/1739 /workspace/Plant-Pathology-Anotation-7/test/images/rust_test_157_jpg.rf.3242c34d4ea8eb5955a871cca1e0502e.jpg: 448x640 1 leaf_rust, 8.9ms\n",
      "image 489/1739 /workspace/Plant-Pathology-Anotation-7/test/images/rust_test_158_jpg.rf.bf3b1a07a413c6444c66ed11ad29eb5b.jpg: 448x640 1 leaf_rust, 8.4ms\n",
      "image 490/1739 /workspace/Plant-Pathology-Anotation-7/test/images/rust_test_159_jpg.rf.21ee66c746a235aff4d4765ffc78b5e2.jpg: 448x640 1 leaf_rust, 8.7ms\n",
      "image 491/1739 /workspace/Plant-Pathology-Anotation-7/test/images/rust_test_15_jpg.rf.5d24e93386fab9daa34058513124f158.jpg: 448x640 2 leaf_rusts, 8.6ms\n",
      "image 492/1739 /workspace/Plant-Pathology-Anotation-7/test/images/rust_test_160_jpg.rf.d88d98c19bde8e4085aa2153c6865522.jpg: 448x640 2 leaf_rusts, 8.5ms\n",
      "image 493/1739 /workspace/Plant-Pathology-Anotation-7/test/images/rust_test_161_jpg.rf.b9820165cc68ba1dd17eb285b1d2b80d.jpg: 448x640 1 leaf_rust, 9.1ms\n",
      "image 494/1739 /workspace/Plant-Pathology-Anotation-7/test/images/rust_test_162_jpg.rf.95b7da5dd5678d2a7fb1d774afa50626.jpg: 448x640 1 leaf_rust, 2 leaf_scabs, 10.0ms\n",
      "image 495/1739 /workspace/Plant-Pathology-Anotation-7/test/images/rust_test_163_jpg.rf.97bd2633c77f76a3b425a0e9baf12707.jpg: 448x640 1 leaf_rust, 10.1ms\n",
      "image 496/1739 /workspace/Plant-Pathology-Anotation-7/test/images/rust_test_164_jpg.rf.3ecd372d8d19babdbb19344e57a8d086.jpg: 448x640 1 leaf_rust, 10.0ms\n",
      "image 497/1739 /workspace/Plant-Pathology-Anotation-7/test/images/rust_test_165_jpg.rf.7e413b704877f441a48f8edd95bc3440.jpg: 448x640 2 leaf_rusts, 9.8ms\n",
      "image 498/1739 /workspace/Plant-Pathology-Anotation-7/test/images/rust_test_166_jpg.rf.efcf8b22c43a90154d4ad6ce4d00bca4.jpg: 448x640 1 leaf_rust, 10.2ms\n",
      "image 499/1739 /workspace/Plant-Pathology-Anotation-7/test/images/rust_test_167_jpg.rf.e43c8baf5441623e05062910f1e5d97f.jpg: 448x640 1 leaf_rust, 10.6ms\n",
      "image 500/1739 /workspace/Plant-Pathology-Anotation-7/test/images/rust_test_168_jpg.rf.75e411797b04d355b43b9987fcdbf085.jpg: 640x448 3 leaf_healthys, 2 leaf_rusts, 9.4ms\n",
      "image 501/1739 /workspace/Plant-Pathology-Anotation-7/test/images/rust_test_169_jpg.rf.5b18b7039f42d02e748e615026aa57fb.jpg: 448x640 1 leaf_rust, 9.0ms\n",
      "image 502/1739 /workspace/Plant-Pathology-Anotation-7/test/images/rust_test_16_jpg.rf.6cee9d92d09b5500ffdec4386c6d7837.jpg: 448x640 1 leaf_rust, 9.3ms\n",
      "image 503/1739 /workspace/Plant-Pathology-Anotation-7/test/images/rust_test_170_jpg.rf.3b74e3a7a7713ff9e9df647551914190.jpg: 448x640 2 leaf_rusts, 8.6ms\n",
      "image 504/1739 /workspace/Plant-Pathology-Anotation-7/test/images/rust_test_171_jpg.rf.7d8b5e933445ce21fc24e99eb95b986d.jpg: 448x640 2 leaf_rusts, 8.7ms\n",
      "image 505/1739 /workspace/Plant-Pathology-Anotation-7/test/images/rust_test_172_jpg.rf.10245cc93cbb588fb33bf5a6a3cfa32b.jpg: 448x640 1 leaf_rust, 9.1ms\n",
      "image 506/1739 /workspace/Plant-Pathology-Anotation-7/test/images/rust_test_173_jpg.rf.92e258a745fe8bb126c61de0e99f451c.jpg: 448x640 2 leaf_rusts, 1 leaf_scab, 8.8ms\n",
      "image 507/1739 /workspace/Plant-Pathology-Anotation-7/test/images/rust_test_174_jpg.rf.0d9e3943bb99b7c50b032ad2c9d396ca.jpg: 448x640 1 leaf_rust, 8.6ms\n",
      "image 508/1739 /workspace/Plant-Pathology-Anotation-7/test/images/rust_test_175_jpg.rf.77d49b9dd7b07a7d416cd202ee1bd270.jpg: 448x640 1 leaf_rust, 11.2ms\n",
      "image 509/1739 /workspace/Plant-Pathology-Anotation-7/test/images/rust_test_176_jpg.rf.9c409e80fbfb74dc68de0cf677f9b3db.jpg: 448x640 4 leaf_rusts, 8.9ms\n",
      "image 510/1739 /workspace/Plant-Pathology-Anotation-7/test/images/rust_test_177_jpg.rf.08e02d2ace4dddafd2f7423deb5ddddd.jpg: 448x640 1 leaf_rust, 8.7ms\n",
      "image 511/1739 /workspace/Plant-Pathology-Anotation-7/test/images/rust_test_178_jpg.rf.ee8f19d674c59900f8d20ce3c9067d82.jpg: 448x640 1 leaf_rust, 8.9ms\n",
      "image 512/1739 /workspace/Plant-Pathology-Anotation-7/test/images/rust_test_179_jpg.rf.afb798c650a8786fafc31f6151347329.jpg: 448x640 1 leaf_rust, 8.7ms\n",
      "image 513/1739 /workspace/Plant-Pathology-Anotation-7/test/images/rust_test_17_jpg.rf.9b35a7797b6b4c801079ff7df5b51827.jpg: 448x640 1 leaf_rust, 8.5ms\n",
      "image 514/1739 /workspace/Plant-Pathology-Anotation-7/test/images/rust_test_180_jpg.rf.dd19c2e3a908c29c3f2aacbf7db2c676.jpg: 448x640 2 leaf_rusts, 8.6ms\n",
      "image 515/1739 /workspace/Plant-Pathology-Anotation-7/test/images/rust_test_181_jpg.rf.aedcd7e207a9bd59fde89099ee9d84a5.jpg: 448x640 1 leaf_rust, 8.7ms\n",
      "image 516/1739 /workspace/Plant-Pathology-Anotation-7/test/images/rust_test_182_jpg.rf.4947f65efc39d7143b1bd8cf2c3b33ec.jpg: 448x640 1 leaf_rust, 8.6ms\n",
      "image 517/1739 /workspace/Plant-Pathology-Anotation-7/test/images/rust_test_183_jpg.rf.16d70f1915bbf3670be72138418d9cc5.jpg: 448x640 2 leaf_rusts, 8.5ms\n",
      "image 518/1739 /workspace/Plant-Pathology-Anotation-7/test/images/rust_test_184_jpg.rf.5138630bf5fe5bc2af0ad0bf2c45d98d.jpg: 448x640 4 leaf_rusts, 8.3ms\n",
      "image 519/1739 /workspace/Plant-Pathology-Anotation-7/test/images/rust_test_185_jpg.rf.f8f22e0f908a101a686519f8db7a19b4.jpg: 448x640 1 leaf_rust, 8.8ms\n",
      "image 520/1739 /workspace/Plant-Pathology-Anotation-7/test/images/rust_test_186_jpg.rf.1bf8cd18ea5777e35c8f9948c6f7d693.jpg: 448x640 1 leaf_rust, 9.1ms\n",
      "image 521/1739 /workspace/Plant-Pathology-Anotation-7/test/images/rust_test_187_jpg.rf.1f7d05c4b91958732444b9ebbffde9e0.jpg: 448x640 2 leaf_rusts, 8.6ms\n",
      "image 522/1739 /workspace/Plant-Pathology-Anotation-7/test/images/rust_test_188_jpg.rf.c1b8c47526b529b58821c1c5a8f4194b.jpg: 448x640 1 leaf_rust, 8.7ms\n",
      "image 523/1739 /workspace/Plant-Pathology-Anotation-7/test/images/rust_test_189_jpg.rf.873cdb634e5d0509d1f96427b05c1da3.jpg: 448x640 1 leaf_rust, 8.8ms\n",
      "image 524/1739 /workspace/Plant-Pathology-Anotation-7/test/images/rust_test_18_jpg.rf.e24ff41c0bb4b86f19ec49a373f271a4.jpg: 448x640 3 leaf_rusts, 8.3ms\n",
      "image 525/1739 /workspace/Plant-Pathology-Anotation-7/test/images/rust_test_190_jpg.rf.7e5d918f40c78c3781e43f3ee2446d75.jpg: 448x640 1 leaf_rust, 9.0ms\n",
      "image 526/1739 /workspace/Plant-Pathology-Anotation-7/test/images/rust_test_191_jpg.rf.81a332f0151cc358550ed5f849048a94.jpg: 448x640 6 leaf_rusts, 8.3ms\n",
      "image 527/1739 /workspace/Plant-Pathology-Anotation-7/test/images/rust_test_192_jpg.rf.d6468d49296ed27e36defc98d954b57e.jpg: 448x640 1 leaf_rust, 8.5ms\n",
      "image 528/1739 /workspace/Plant-Pathology-Anotation-7/test/images/rust_test_193_jpg.rf.cf25d8b33769d4b6e050f44de0d1a225.jpg: 448x640 1 leaf_rust, 1 leaf_scab, 8.6ms\n",
      "image 529/1739 /workspace/Plant-Pathology-Anotation-7/test/images/rust_test_194_jpg.rf.9ffac217372b812e46232449a3940577.jpg: 448x640 1 leaf_rust, 8.5ms\n",
      "image 530/1739 /workspace/Plant-Pathology-Anotation-7/test/images/rust_test_195_jpg.rf.3620ddb8bff764d403e8bd144ca230b0.jpg: 448x640 1 leaf_rust, 8.5ms\n",
      "image 531/1739 /workspace/Plant-Pathology-Anotation-7/test/images/rust_test_196_jpg.rf.859df055c7e086ecba13e1be638f188a.jpg: 448x640 1 leaf_rust, 8.7ms\n",
      "image 532/1739 /workspace/Plant-Pathology-Anotation-7/test/images/rust_test_197_jpg.rf.d0c37e00d1080a47d86f24d6f8e159ef.jpg: 448x640 1 leaf_rust, 8.5ms\n",
      "image 533/1739 /workspace/Plant-Pathology-Anotation-7/test/images/rust_test_198_jpg.rf.48e28b549e67c15b0e7c70dfcb84bb22.jpg: 448x640 2 leaf_rusts, 9.0ms\n",
      "image 534/1739 /workspace/Plant-Pathology-Anotation-7/test/images/rust_test_199_jpg.rf.af2b16c35375782d442d4648caecda8c.jpg: 448x640 1 leaf_rust, 8.4ms\n",
      "image 535/1739 /workspace/Plant-Pathology-Anotation-7/test/images/rust_test_19_jpg.rf.5a9710efef9d4a20116e25d179bed08d.jpg: 448x640 2 leaf_rusts, 8.7ms\n",
      "image 536/1739 /workspace/Plant-Pathology-Anotation-7/test/images/rust_test_1_jpg.rf.76c9e77784f61d42871dafd0bcc98cd0.jpg: 448x640 1 leaf_rust, 8.4ms\n",
      "image 537/1739 /workspace/Plant-Pathology-Anotation-7/test/images/rust_test_200_jpg.rf.be0302b7a4fb7d2667205f80138288ba.jpg: 448x640 1 leaf_rust, 8.9ms\n",
      "image 538/1739 /workspace/Plant-Pathology-Anotation-7/test/images/rust_test_201_jpg.rf.dd8c512a3e6c9e442fceb3a6248eeb32.jpg: 448x640 2 leaf_rusts, 8.5ms\n",
      "image 539/1739 /workspace/Plant-Pathology-Anotation-7/test/images/rust_test_202_jpg.rf.7322ab6d3620db310417cb2cd5f3a9e2.jpg: 448x640 4 leaf_rusts, 8.4ms\n",
      "image 540/1739 /workspace/Plant-Pathology-Anotation-7/test/images/rust_test_203_jpg.rf.87ab2b42b4efbf73b6a89d0998782770.jpg: 448x640 1 leaf_rust, 9.1ms\n",
      "image 541/1739 /workspace/Plant-Pathology-Anotation-7/test/images/rust_test_204_jpg.rf.556516e01e4cc1de4dfee19db97e08dd.jpg: 448x640 4 leaf_rusts, 8.5ms\n",
      "image 542/1739 /workspace/Plant-Pathology-Anotation-7/test/images/rust_test_205_jpg.rf.e29526e3d81afc4fc8b076fe5b11f6f9.jpg: 448x640 1 leaf_rust, 8.4ms\n",
      "image 543/1739 /workspace/Plant-Pathology-Anotation-7/test/images/rust_test_206_jpg.rf.4a8249a93f9f92d39c21e88f30773361.jpg: 448x640 1 leaf_rust, 8.7ms\n",
      "image 544/1739 /workspace/Plant-Pathology-Anotation-7/test/images/rust_test_207_jpg.rf.a0653a6df5c917144e7d991c4477c9a9.jpg: 448x640 1 leaf_rust, 8.7ms\n",
      "image 545/1739 /workspace/Plant-Pathology-Anotation-7/test/images/rust_test_208_jpg.rf.79cb920f9e9c10880b284ac43f7c6e85.jpg: 448x640 1 leaf_rust, 8.5ms\n",
      "image 546/1739 /workspace/Plant-Pathology-Anotation-7/test/images/rust_test_209_jpg.rf.c2832207db8bfc67577578a572073ecb.jpg: 448x640 1 leaf_rust, 9.0ms\n",
      "image 547/1739 /workspace/Plant-Pathology-Anotation-7/test/images/rust_test_20_jpg.rf.5556a7e027a3488ec207607bd2c5f6d9.jpg: 448x640 1 leaf_rust, 8.4ms\n",
      "image 548/1739 /workspace/Plant-Pathology-Anotation-7/test/images/rust_test_210_jpg.rf.75186b885574dace828d5f17daa4d29d.jpg: 448x640 2 leaf_rusts, 8.7ms\n",
      "image 549/1739 /workspace/Plant-Pathology-Anotation-7/test/images/rust_test_211_jpg.rf.1c992347ac7e9b5095aba2171b9c80ff.jpg: 448x640 1 leaf_rust, 8.5ms\n",
      "image 550/1739 /workspace/Plant-Pathology-Anotation-7/test/images/rust_test_212_jpg.rf.466a29e32cca5dc566111b29eecafbe0.jpg: 448x640 1 leaf_rust, 9.2ms\n",
      "image 551/1739 /workspace/Plant-Pathology-Anotation-7/test/images/rust_test_213_jpg.rf.88e18c394a2990f53985757323342547.jpg: 448x640 1 leaf_rust, 8.6ms\n",
      "image 552/1739 /workspace/Plant-Pathology-Anotation-7/test/images/rust_test_214_jpg.rf.da87e5ddce9b801e7f7ef0558856a01e.jpg: 448x640 1 leaf_rust, 8.4ms\n",
      "image 553/1739 /workspace/Plant-Pathology-Anotation-7/test/images/rust_test_215_jpg.rf.5a95556bf7b525266e7838c1076614ab.jpg: 448x640 1 leaf_rust, 9.0ms\n",
      "image 554/1739 /workspace/Plant-Pathology-Anotation-7/test/images/rust_test_216_jpg.rf.74b807ca6b575c89aca9a850339cc7d7.jpg: 448x640 3 leaf_rusts, 9.0ms\n",
      "image 555/1739 /workspace/Plant-Pathology-Anotation-7/test/images/rust_test_217_jpg.rf.e815227cf465906f495a9063109366f5.jpg: 448x640 1 leaf_rust, 8.4ms\n",
      "image 556/1739 /workspace/Plant-Pathology-Anotation-7/test/images/rust_test_218_jpg.rf.7f960c27bbcb827645939610264dea15.jpg: 448x640 2 leaf_rusts, 9.1ms\n",
      "image 557/1739 /workspace/Plant-Pathology-Anotation-7/test/images/rust_test_219_jpg.rf.b175099b256397ac0833a751a165f502.jpg: 448x640 1 leaf_rust, 8.5ms\n",
      "image 558/1739 /workspace/Plant-Pathology-Anotation-7/test/images/rust_test_21_jpg.rf.0d9286839e656abb9e23b91fb905dc6d.jpg: 448x640 1 leaf_rust, 8.9ms\n",
      "image 559/1739 /workspace/Plant-Pathology-Anotation-7/test/images/rust_test_220_jpg.rf.0b91fa3ffcdda50e3613362859104775.jpg: 448x640 1 leaf_rust, 8.7ms\n",
      "image 560/1739 /workspace/Plant-Pathology-Anotation-7/test/images/rust_test_221_jpg.rf.0a3f0378f0c3bb873f7fc158f45e5872.jpg: 448x640 1 leaf_rust, 8.1ms\n",
      "image 561/1739 /workspace/Plant-Pathology-Anotation-7/test/images/rust_test_222_jpg.rf.f89168af978bae3f4a827c86d0b7adbe.jpg: 448x640 1 leaf_rust, 8.3ms\n",
      "image 562/1739 /workspace/Plant-Pathology-Anotation-7/test/images/rust_test_223_jpg.rf.6cd64de24aa5eb412e98348d6008c866.jpg: 448x640 1 leaf_rust, 9.0ms\n",
      "image 563/1739 /workspace/Plant-Pathology-Anotation-7/test/images/rust_test_224_jpg.rf.eac3a2aa04c34718276dd4b6a06cbc5f.jpg: 448x640 2 leaf_rusts, 8.5ms\n",
      "image 564/1739 /workspace/Plant-Pathology-Anotation-7/test/images/rust_test_225_jpg.rf.3c5724966e0b6b1fbf1c3ae594c1f9e0.jpg: 448x640 1 leaf_rust, 8.5ms\n",
      "image 565/1739 /workspace/Plant-Pathology-Anotation-7/test/images/rust_test_226_jpg.rf.81bb5cd7c44c573515e1e573e6618fed.jpg: 448x640 4 leaf_rusts, 8.7ms\n",
      "image 566/1739 /workspace/Plant-Pathology-Anotation-7/test/images/rust_test_227_jpg.rf.e2e925477628037e4bee3b9099211598.jpg: 448x640 1 leaf_rust, 8.5ms\n",
      "image 567/1739 /workspace/Plant-Pathology-Anotation-7/test/images/rust_test_228_jpg.rf.4fe4f7ed6e5edb05a318ec62c08c2290.jpg: 448x640 1 leaf_rust, 8.5ms\n",
      "image 568/1739 /workspace/Plant-Pathology-Anotation-7/test/images/rust_test_229_jpg.rf.0a1497ce6f1e2d09089a9a8481ee1ae1.jpg: 448x640 1 leaf_rust, 8.3ms\n",
      "image 569/1739 /workspace/Plant-Pathology-Anotation-7/test/images/rust_test_22_jpg.rf.d9274e06bd3c0d70043495c99b137724.jpg: 448x640 2 leaf_rusts, 8.6ms\n",
      "image 570/1739 /workspace/Plant-Pathology-Anotation-7/test/images/rust_test_230_jpg.rf.c752247843c04da03ec963a5f0d9b3fe.jpg: 448x640 1 leaf_rust, 8.2ms\n",
      "image 571/1739 /workspace/Plant-Pathology-Anotation-7/test/images/rust_test_231_jpg.rf.66aa45d5542dbeca52dd85b05a11d65f.jpg: 448x640 1 leaf_rust, 8.3ms\n",
      "image 572/1739 /workspace/Plant-Pathology-Anotation-7/test/images/rust_test_232_jpg.rf.5b97ab3769c876f78e8579a98c6caf80.jpg: 448x640 2 leaf_rusts, 8.0ms\n",
      "image 573/1739 /workspace/Plant-Pathology-Anotation-7/test/images/rust_test_233_jpg.rf.05223514f0c61ee232af11a0a915d92e.jpg: 448x640 2 leaf_rusts, 8.1ms\n",
      "image 574/1739 /workspace/Plant-Pathology-Anotation-7/test/images/rust_test_234_jpg.rf.a1e8de7d99f96f7f29eeb985c535cd25.jpg: 448x640 4 leaf_rusts, 8.6ms\n",
      "image 575/1739 /workspace/Plant-Pathology-Anotation-7/test/images/rust_test_235_jpg.rf.2b2adb0c4a1101bca63a0ecbcf1e525f.jpg: 448x640 1 leaf_rust, 8.9ms\n",
      "image 576/1739 /workspace/Plant-Pathology-Anotation-7/test/images/rust_test_236_jpg.rf.40175d57f4b3933e8ae3895c5d219a77.jpg: 448x640 2 leaf_rusts, 1 leaf_scab, 8.3ms\n",
      "image 577/1739 /workspace/Plant-Pathology-Anotation-7/test/images/rust_test_237_jpg.rf.d311e233d3988067cd7a6822ff43a73a.jpg: 448x640 1 leaf_rust, 8.8ms\n",
      "image 578/1739 /workspace/Plant-Pathology-Anotation-7/test/images/rust_test_238_jpg.rf.13bc8c9b546746f233f431e01dbd569d.jpg: 448x640 2 leaf_rusts, 1 leaf_scab, 8.5ms\n",
      "image 579/1739 /workspace/Plant-Pathology-Anotation-7/test/images/rust_test_239_jpg.rf.64d24fc0d86c513027c1c22fdb13553f.jpg: 448x640 2 leaf_rusts, 2 leaf_scabs, 8.5ms\n",
      "image 580/1739 /workspace/Plant-Pathology-Anotation-7/test/images/rust_test_23_jpg.rf.dc89adf04698b125fd6c9e2e797d5c1c.jpg: 448x640 2 leaf_rusts, 9.6ms\n",
      "image 581/1739 /workspace/Plant-Pathology-Anotation-7/test/images/rust_test_240_jpg.rf.b111361c58fd0c2bea4841a71115262b.jpg: 448x640 2 leaf_rusts, 8.2ms\n",
      "image 582/1739 /workspace/Plant-Pathology-Anotation-7/test/images/rust_test_241_jpg.rf.58e3ae3423151fb9c78b6d7bf5295d0d.jpg: 448x640 3 leaf_rusts, 8.5ms\n",
      "image 583/1739 /workspace/Plant-Pathology-Anotation-7/test/images/rust_test_242_jpg.rf.e2716f626f684d921bdffd0e630b59b7.jpg: 448x640 3 leaf_rusts, 8.5ms\n",
      "image 584/1739 /workspace/Plant-Pathology-Anotation-7/test/images/rust_test_243_jpg.rf.c2717f22c011c8201d3c533bf9229af6.jpg: 448x640 5 leaf_rusts, 9.0ms\n",
      "image 585/1739 /workspace/Plant-Pathology-Anotation-7/test/images/rust_test_244_jpg.rf.d9c9c41f048040390d962a25dac54e2b.jpg: 448x640 2 leaf_rusts, 8.1ms\n",
      "image 586/1739 /workspace/Plant-Pathology-Anotation-7/test/images/rust_test_245_jpg.rf.6e131ec42f9fabceb6fc8653c759658b.jpg: 448x640 1 leaf_rust, 8.6ms\n",
      "image 587/1739 /workspace/Plant-Pathology-Anotation-7/test/images/rust_test_246_jpg.rf.162a327ac502efb80ebf58ee078e6c8a.jpg: 448x640 3 leaf_rusts, 8.7ms\n",
      "image 588/1739 /workspace/Plant-Pathology-Anotation-7/test/images/rust_test_247_jpg.rf.3c07358761492aaf0bd9fd48e9b251a5.jpg: 448x640 1 leaf_rust, 8.5ms\n",
      "image 589/1739 /workspace/Plant-Pathology-Anotation-7/test/images/rust_test_248_jpg.rf.a04391fa4b3c5db7c65c0ecf73b84a4f.jpg: 448x640 1 leaf_rust, 8.3ms\n",
      "image 590/1739 /workspace/Plant-Pathology-Anotation-7/test/images/rust_test_249_jpg.rf.cb440f5cc29382130816b8340ba9cd3d.jpg: 448x640 4 leaf_rusts, 8.5ms\n",
      "image 591/1739 /workspace/Plant-Pathology-Anotation-7/test/images/rust_test_24_jpg.rf.da6bff530e021bdf638470c12ae663b3.jpg: 448x640 3 leaf_rusts, 8.5ms\n",
      "image 592/1739 /workspace/Plant-Pathology-Anotation-7/test/images/rust_test_250_jpg.rf.d1bda12c2171d79b442fccfa35332015.jpg: 448x640 1 leaf_rust, 9.0ms\n",
      "image 593/1739 /workspace/Plant-Pathology-Anotation-7/test/images/rust_test_251_jpg.rf.cb4304acc3ab5019a8c00405cbc31bfa.jpg: 448x640 1 leaf_rust, 8.7ms\n",
      "image 594/1739 /workspace/Plant-Pathology-Anotation-7/test/images/rust_test_252_jpg.rf.a0585e7f3e88c0e0a4454c19568b5a87.jpg: 448x640 3 leaf_rusts, 8.7ms\n",
      "image 595/1739 /workspace/Plant-Pathology-Anotation-7/test/images/rust_test_253_jpg.rf.4037ab83fbf8db160db86548b2080ca5.jpg: 448x640 3 leaf_rusts, 8.6ms\n",
      "image 596/1739 /workspace/Plant-Pathology-Anotation-7/test/images/rust_test_254_jpg.rf.517d40bb8f6c30a4e10ef6534dc4be2a.jpg: 448x640 1 leaf_rust, 8.7ms\n",
      "image 597/1739 /workspace/Plant-Pathology-Anotation-7/test/images/rust_test_255_jpg.rf.9146bfdc406870c5c695c7c6e27f5bec.jpg: 448x640 2 leaf_rusts, 8.7ms\n",
      "image 598/1739 /workspace/Plant-Pathology-Anotation-7/test/images/rust_test_256_jpg.rf.9d1744811c6cd4227183f830996bb0e2.jpg: 448x640 3 leaf_rusts, 1 leaf_scab, 8.4ms\n",
      "image 599/1739 /workspace/Plant-Pathology-Anotation-7/test/images/rust_test_257_jpg.rf.844801cf846003fd5ff506713a524ef2.jpg: 448x640 3 leaf_rusts, 9.4ms\n",
      "image 600/1739 /workspace/Plant-Pathology-Anotation-7/test/images/rust_test_258_jpg.rf.9a3d1f898e106703e3e2c464851c5eb8.jpg: 448x640 3 leaf_rusts, 8.6ms\n",
      "image 601/1739 /workspace/Plant-Pathology-Anotation-7/test/images/rust_test_259_jpg.rf.41ff428b5ae6708aed5a9dcd4ebe8798.jpg: 448x640 1 leaf_rust, 9.2ms\n",
      "image 602/1739 /workspace/Plant-Pathology-Anotation-7/test/images/rust_test_25_jpg.rf.fa06f6e088118f041386a3ece14150d2.jpg: 448x640 1 leaf_rust, 8.2ms\n",
      "image 603/1739 /workspace/Plant-Pathology-Anotation-7/test/images/rust_test_260_jpg.rf.ec49757c51d95dd6fb94b31f37b8bb93.jpg: 448x640 5 leaf_rusts, 8.8ms\n",
      "image 604/1739 /workspace/Plant-Pathology-Anotation-7/test/images/rust_test_261_jpg.rf.e0dae012b777635a115bcc342de1b46d.jpg: 448x640 1 leaf_rust, 8.6ms\n",
      "image 605/1739 /workspace/Plant-Pathology-Anotation-7/test/images/rust_test_262_jpg.rf.f9978905db0d5b469d9fb8080003d188.jpg: 448x640 1 leaf_rust, 8.9ms\n",
      "image 606/1739 /workspace/Plant-Pathology-Anotation-7/test/images/rust_test_263_jpg.rf.471f808f1033ade119e9b8821585a2d6.jpg: 448x640 1 leaf_rust, 8.8ms\n",
      "image 607/1739 /workspace/Plant-Pathology-Anotation-7/test/images/rust_test_264_jpg.rf.84092254f24e5f175157b439e4ba4f50.jpg: 448x640 3 leaf_rusts, 8.7ms\n",
      "image 608/1739 /workspace/Plant-Pathology-Anotation-7/test/images/rust_test_265_jpg.rf.077990b77f50acd8048d2457558dd3e4.jpg: 448x640 5 leaf_rusts, 8.5ms\n",
      "image 609/1739 /workspace/Plant-Pathology-Anotation-7/test/images/rust_test_266_jpg.rf.e4dc0cc00e7b45210b0f1fb4ffe8568a.jpg: 448x640 1 leaf_healthy, 1 leaf_rust, 9.0ms\n",
      "image 610/1739 /workspace/Plant-Pathology-Anotation-7/test/images/rust_test_267_jpg.rf.d5e33386dd6f9be3018cd7d6e11feb72.jpg: 448x640 3 leaf_rusts, 8.6ms\n",
      "image 611/1739 /workspace/Plant-Pathology-Anotation-7/test/images/rust_test_268_jpg.rf.128bf0565b3944f49c01abbba1bbcad8.jpg: 448x640 2 leaf_rusts, 9.1ms\n",
      "image 612/1739 /workspace/Plant-Pathology-Anotation-7/test/images/rust_test_269_jpg.rf.80db76ff0f765daf2fe5d42e3c167d52.jpg: 448x640 2 leaf_rusts, 8.6ms\n",
      "image 613/1739 /workspace/Plant-Pathology-Anotation-7/test/images/rust_test_26_jpg.rf.cd215d8b192f708fd192931a23a9e535.jpg: 448x640 3 leaf_rusts, 9.2ms\n",
      "image 614/1739 /workspace/Plant-Pathology-Anotation-7/test/images/rust_test_270_jpg.rf.49b9227bc7cba99ab66f09b3559f24f5.jpg: 448x640 2 leaf_rusts, 8.5ms\n",
      "image 615/1739 /workspace/Plant-Pathology-Anotation-7/test/images/rust_test_271_jpg.rf.e72e9dfef22b46885dd816cdeb04fbcc.jpg: 448x640 1 leaf_rust, 1 leaf_scab, 9.2ms\n",
      "image 616/1739 /workspace/Plant-Pathology-Anotation-7/test/images/rust_test_272_jpg.rf.791429c3849c9bda35ce87e3ebe2bc24.jpg: 448x640 1 leaf_rust, 8.5ms\n",
      "image 617/1739 /workspace/Plant-Pathology-Anotation-7/test/images/rust_test_273_jpg.rf.d0de8225cd7e819564c80c14b8c983ab.jpg: 448x640 1 leaf_rust, 8.7ms\n",
      "image 618/1739 /workspace/Plant-Pathology-Anotation-7/test/images/rust_test_274_jpg.rf.1510bb5ce2f2935a428e6657688ec2dd.jpg: 448x640 1 leaf_rust, 8.7ms\n",
      "image 619/1739 /workspace/Plant-Pathology-Anotation-7/test/images/rust_test_275_jpg.rf.c748f2f927dff532b4554cbd338d1dcf.jpg: 448x640 2 leaf_rusts, 8.6ms\n",
      "image 620/1739 /workspace/Plant-Pathology-Anotation-7/test/images/rust_test_276_jpg.rf.186c44e1c7fd199079a84b7a069a7aaf.jpg: 448x640 1 leaf_rust, 8.5ms\n",
      "image 621/1739 /workspace/Plant-Pathology-Anotation-7/test/images/rust_test_277_jpg.rf.f7c8f53f8acd4fb575ca039ec34a7607.jpg: 448x640 2 leaf_rusts, 8.7ms\n",
      "image 622/1739 /workspace/Plant-Pathology-Anotation-7/test/images/rust_test_278_jpg.rf.25683e78125c034fb7ef4ea63472d2ff.jpg: 448x640 1 leaf_rust, 8.6ms\n",
      "image 623/1739 /workspace/Plant-Pathology-Anotation-7/test/images/rust_test_279_jpg.rf.8add03cfcabf599f49a52411c11df8ba.jpg: 448x640 3 leaf_rusts, 8.7ms\n",
      "image 624/1739 /workspace/Plant-Pathology-Anotation-7/test/images/rust_test_27_jpg.rf.85cfc37c5dd1113a1b2c47f5b8e5b6b4.jpg: 448x640 1 leaf_rust, 8.5ms\n",
      "image 625/1739 /workspace/Plant-Pathology-Anotation-7/test/images/rust_test_280_jpg.rf.3c1f1f6c79eb03dbb1b2dc4b28921f0f.jpg: 448x640 3 leaf_rusts, 1 leaf_scab, 8.8ms\n",
      "image 626/1739 /workspace/Plant-Pathology-Anotation-7/test/images/rust_test_281_jpg.rf.9fa86df433ceef41678aa3d80b561772.jpg: 448x640 1 leaf_rust, 8.5ms\n",
      "image 627/1739 /workspace/Plant-Pathology-Anotation-7/test/images/rust_test_282_jpg.rf.3af692988d685d164f18bcc42e75bfdf.jpg: 448x640 1 leaf_rust, 8.7ms\n",
      "image 628/1739 /workspace/Plant-Pathology-Anotation-7/test/images/rust_test_283_jpg.rf.035b004722e2e8cbd5f41d12a61edb04.jpg: 448x640 2 leaf_rusts, 8.7ms\n",
      "image 629/1739 /workspace/Plant-Pathology-Anotation-7/test/images/rust_test_284_jpg.rf.aa744131a84e0598f57f7a0fb26318bf.jpg: 448x640 1 leaf_rust, 8.6ms\n",
      "image 630/1739 /workspace/Plant-Pathology-Anotation-7/test/images/rust_test_285_jpg.rf.3cdec4d1d50ae996a6e432b8b4cfee6f.jpg: 448x640 1 leaf_rust, 8.7ms\n",
      "image 631/1739 /workspace/Plant-Pathology-Anotation-7/test/images/rust_test_286_jpg.rf.bee7b9144b357ed9fd233e41cf6aea5f.jpg: 448x640 2 leaf_rusts, 8.7ms\n",
      "image 632/1739 /workspace/Plant-Pathology-Anotation-7/test/images/rust_test_287_jpg.rf.ebabecd5ca4cdb18761cd616b333eed6.jpg: 448x640 4 leaf_rusts, 8.5ms\n",
      "image 633/1739 /workspace/Plant-Pathology-Anotation-7/test/images/rust_test_288_jpg.rf.ef3bd7336999113769748e90635a5c5d.jpg: 448x640 1 leaf_rust, 9.4ms\n",
      "image 634/1739 /workspace/Plant-Pathology-Anotation-7/test/images/rust_test_289_jpg.rf.5c2ae29671553208cc280b5917d7d732.jpg: 448x640 2 leaf_rusts, 8.7ms\n",
      "image 635/1739 /workspace/Plant-Pathology-Anotation-7/test/images/rust_test_28_jpg.rf.8d221c576f8f1adc9df40645bffad3d2.jpg: 448x640 1 leaf_rust, 8.4ms\n",
      "image 636/1739 /workspace/Plant-Pathology-Anotation-7/test/images/rust_test_290_jpg.rf.ec7b787f1be43eb549eb14d8dab9e926.jpg: 448x640 1 leaf_rust, 8.4ms\n",
      "image 637/1739 /workspace/Plant-Pathology-Anotation-7/test/images/rust_test_291_jpg.rf.df83a9ee942b5c2174e5598f574d1f41.jpg: 448x640 3 leaf_rusts, 8.5ms\n",
      "image 638/1739 /workspace/Plant-Pathology-Anotation-7/test/images/rust_test_292_jpg.rf.68a1127d76892e749d54ee79ade4a5fe.jpg: 448x640 1 leaf_rust, 8.4ms\n",
      "image 639/1739 /workspace/Plant-Pathology-Anotation-7/test/images/rust_test_293_jpg.rf.b883fabe2a75e220f774680093f413b9.jpg: 640x448 1 leaf_rust, 9.5ms\n",
      "image 640/1739 /workspace/Plant-Pathology-Anotation-7/test/images/rust_test_294_jpg.rf.8700417af9584a17a343bd6f5cfa79d1.jpg: 448x640 2 leaf_rusts, 9.0ms\n",
      "image 641/1739 /workspace/Plant-Pathology-Anotation-7/test/images/rust_test_295_jpg.rf.4bebeecd54d8a50bc6496fb8dd3d054e.jpg: 448x640 3 leaf_rusts, 8.6ms\n",
      "image 642/1739 /workspace/Plant-Pathology-Anotation-7/test/images/rust_test_296_jpg.rf.50ced21ef283e7d66243a0f206c769b5.jpg: 448x640 2 leaf_rusts, 9.3ms\n",
      "image 643/1739 /workspace/Plant-Pathology-Anotation-7/test/images/rust_test_297_jpg.rf.29c30b906c80088951c7fa8a7c5c4e27.jpg: 448x640 2 leaf_rusts, 8.6ms\n",
      "image 644/1739 /workspace/Plant-Pathology-Anotation-7/test/images/rust_test_298_jpg.rf.f523e9c05ec6bfde639e2b47bf3fd81e.jpg: 448x640 2 leaf_rusts, 8.9ms\n",
      "image 645/1739 /workspace/Plant-Pathology-Anotation-7/test/images/rust_test_299_jpg.rf.95a1b9c5e7acea19397aac81eeb2bf58.jpg: 448x640 1 leaf_rust, 8.6ms\n",
      "image 646/1739 /workspace/Plant-Pathology-Anotation-7/test/images/rust_test_29_jpg.rf.9f5f0c19a64555f00667b767b54c69a4.jpg: 448x640 2 leaf_rusts, 8.5ms\n",
      "image 647/1739 /workspace/Plant-Pathology-Anotation-7/test/images/rust_test_2_jpg.rf.8a6cd404d41138fa670be7c9e8d4e052.jpg: 448x640 1 leaf_rust, 8.5ms\n",
      "image 648/1739 /workspace/Plant-Pathology-Anotation-7/test/images/rust_test_300_jpg.rf.0683f96dcd5602527781ec78feaf2d71.jpg: 448x640 1 leaf_rust, 9.2ms\n",
      "image 649/1739 /workspace/Plant-Pathology-Anotation-7/test/images/rust_test_301_jpg.rf.9ea8d75c018d5f3ef8e056f7d4b8ccf2.jpg: 448x640 2 leaf_rusts, 8.7ms\n",
      "image 650/1739 /workspace/Plant-Pathology-Anotation-7/test/images/rust_test_302_jpg.rf.d0ebac007b164a1ad6ca74ce8c0120d7.jpg: 448x640 1 leaf_healthy, 1 leaf_rust, 1 leaf_scab, 8.5ms\n",
      "image 651/1739 /workspace/Plant-Pathology-Anotation-7/test/images/rust_test_303_jpg.rf.dd0f077ca080a9e93dcc8258f7744c31.jpg: 448x640 1 leaf_rust, 9.1ms\n",
      "image 652/1739 /workspace/Plant-Pathology-Anotation-7/test/images/rust_test_304_jpg.rf.eaca76e7f0582f4d44a3d3cba5fc827e.jpg: 448x640 2 leaf_rusts, 8.6ms\n",
      "image 653/1739 /workspace/Plant-Pathology-Anotation-7/test/images/rust_test_305_jpg.rf.d78579c8e9bba98201833f97f465d03d.jpg: 448x640 1 leaf_rust, 8.4ms\n",
      "image 654/1739 /workspace/Plant-Pathology-Anotation-7/test/images/rust_test_306_jpg.rf.26b2ee934ced2ff49a164bfe6e5e2fc6.jpg: 448x640 1 leaf_rust, 8.8ms\n",
      "image 655/1739 /workspace/Plant-Pathology-Anotation-7/test/images/rust_test_307_jpg.rf.8a820190d7e5ef226705a1e32632c277.jpg: 448x640 1 leaf_scab, 8.7ms\n",
      "image 656/1739 /workspace/Plant-Pathology-Anotation-7/test/images/rust_test_308_jpg.rf.1d234c8c1b89dbfaa4b1fe4c2acdfc8c.jpg: 448x640 3 leaf_rusts, 9.1ms\n",
      "image 657/1739 /workspace/Plant-Pathology-Anotation-7/test/images/rust_test_309_jpg.rf.d6567a1e1fb5697d88f58ca1c1ebc54f.jpg: 448x640 4 leaf_rusts, 1 leaf_scab, 8.6ms\n",
      "image 658/1739 /workspace/Plant-Pathology-Anotation-7/test/images/rust_test_30_jpg.rf.839bea9a0338fda423ae432ea79d31fd.jpg: 448x640 1 leaf_rust, 8.2ms\n",
      "image 659/1739 /workspace/Plant-Pathology-Anotation-7/test/images/rust_test_310_jpg.rf.715b6e563fa637c3f82e314a6045b499.jpg: 448x640 2 leaf_rusts, 8.2ms\n",
      "image 660/1739 /workspace/Plant-Pathology-Anotation-7/test/images/rust_test_311_jpg.rf.4d691b6ca67d77f4be6ec7f418bf1230.jpg: 448x640 2 leaf_rusts, 8.5ms\n",
      "image 661/1739 /workspace/Plant-Pathology-Anotation-7/test/images/rust_test_312_jpg.rf.4b72376fee5490504d4ac25310f8932f.jpg: 448x640 1 leaf_rust, 9.1ms\n",
      "image 662/1739 /workspace/Plant-Pathology-Anotation-7/test/images/rust_test_313_jpg.rf.d9c473e4a129184f95c178257aa99271.jpg: 448x640 1 leaf_rust, 8.7ms\n",
      "image 663/1739 /workspace/Plant-Pathology-Anotation-7/test/images/rust_test_314_jpg.rf.8e76638f34289e68c00ee527b381709f.jpg: 448x640 4 leaf_rusts, 8.6ms\n",
      "image 664/1739 /workspace/Plant-Pathology-Anotation-7/test/images/rust_test_315_jpg.rf.d15b251d7b12f930d40354b611fbf675.jpg: 448x640 1 leaf_rust, 8.6ms\n",
      "image 665/1739 /workspace/Plant-Pathology-Anotation-7/test/images/rust_test_316_jpg.rf.c8e266fa530b8e1e17a5211f29d8a970.jpg: 448x640 1 leaf_rust, 8.7ms\n",
      "image 666/1739 /workspace/Plant-Pathology-Anotation-7/test/images/rust_test_317_jpg.rf.8230a2705cef040b19e2b63d322868de.jpg: 448x640 3 leaf_rusts, 8.8ms\n",
      "image 667/1739 /workspace/Plant-Pathology-Anotation-7/test/images/rust_test_318_jpg.rf.891eb81f641df73518546e63bfdd8840.jpg: 448x640 1 leaf_rust, 8.5ms\n",
      "image 668/1739 /workspace/Plant-Pathology-Anotation-7/test/images/rust_test_319_jpg.rf.b0ebabfd9178c8eade3417d63fd67b5d.jpg: 448x640 4 leaf_rusts, 8.7ms\n",
      "image 669/1739 /workspace/Plant-Pathology-Anotation-7/test/images/rust_test_31_jpg.rf.4e8b107b700865ca451ad8049c272031.jpg: 448x640 1 leaf_healthy, 3 leaf_rusts, 8.4ms\n",
      "image 670/1739 /workspace/Plant-Pathology-Anotation-7/test/images/rust_test_320_jpg.rf.efc10dffe0aa5744180afa3332856fb7.jpg: 448x640 2 leaf_rusts, 9.0ms\n",
      "image 671/1739 /workspace/Plant-Pathology-Anotation-7/test/images/rust_test_321_jpg.rf.5281449cf99ab316b26b4a7a2bd977fb.jpg: 448x640 1 leaf_rust, 8.4ms\n",
      "image 672/1739 /workspace/Plant-Pathology-Anotation-7/test/images/rust_test_322_jpg.rf.761eb6117541f11adaf88d319b9f56fb.jpg: 448x640 1 leaf_rust, 8.7ms\n",
      "image 673/1739 /workspace/Plant-Pathology-Anotation-7/test/images/rust_test_323_jpg.rf.e1a98044e50aaf05e8a006d06df21939.jpg: 448x640 1 leaf_rust, 8.7ms\n",
      "image 674/1739 /workspace/Plant-Pathology-Anotation-7/test/images/rust_test_324_jpg.rf.1fa415c661c7e2b297b43ea7c6acd466.jpg: 448x640 2 leaf_rusts, 1 leaf_scab, 8.7ms\n",
      "image 675/1739 /workspace/Plant-Pathology-Anotation-7/test/images/rust_test_325_jpg.rf.43ae6b6164505dace831ec48831b93d8.jpg: 448x640 1 leaf_rust, 8.5ms\n",
      "image 676/1739 /workspace/Plant-Pathology-Anotation-7/test/images/rust_test_326_jpg.rf.9e29b855a0481dad76c1796268be6023.jpg: 448x640 1 leaf_rust, 9.0ms\n",
      "image 677/1739 /workspace/Plant-Pathology-Anotation-7/test/images/rust_test_327_jpg.rf.048e75c6f7dd6e1ec4f4bd19f23a189f.jpg: 448x640 1 leaf_healthy, 1 leaf_rust, 1 leaf_scab, 8.4ms\n",
      "image 678/1739 /workspace/Plant-Pathology-Anotation-7/test/images/rust_test_328_jpg.rf.0cb98b1feca1e56000e50d84bdb97a6a.jpg: 448x640 1 leaf_rust, 9.4ms\n",
      "image 679/1739 /workspace/Plant-Pathology-Anotation-7/test/images/rust_test_329_jpg.rf.563316339a1f0adf3041e161d70878fc.jpg: 448x640 1 leaf_rust, 8.3ms\n",
      "image 680/1739 /workspace/Plant-Pathology-Anotation-7/test/images/rust_test_32_jpg.rf.dff26a1e46a903c48e944ae1590ed4fb.jpg: 448x640 2 leaf_rusts, 8.4ms\n",
      "image 681/1739 /workspace/Plant-Pathology-Anotation-7/test/images/rust_test_330_jpg.rf.06d5acffaaaa3e4663c7c30606f28938.jpg: 448x640 1 leaf_rust, 8.4ms\n",
      "image 682/1739 /workspace/Plant-Pathology-Anotation-7/test/images/rust_test_331_jpg.rf.3c4eb205f3522e9053af330117cb1678.jpg: 448x640 1 leaf_rust, 8.7ms\n",
      "image 683/1739 /workspace/Plant-Pathology-Anotation-7/test/images/rust_test_332_jpg.rf.784d17bc6519b3d031b6399f2faa85e4.jpg: 448x640 1 leaf_rust, 8.6ms\n",
      "image 684/1739 /workspace/Plant-Pathology-Anotation-7/test/images/rust_test_333_jpg.rf.d54f22c077d109ecea62632ee2cdd5e0.jpg: 448x640 1 leaf_rust, 8.7ms\n",
      "image 685/1739 /workspace/Plant-Pathology-Anotation-7/test/images/rust_test_334_jpg.rf.7e615fb626ed35b412358c8c899ac17f.jpg: 448x640 4 leaf_rusts, 8.7ms\n",
      "image 686/1739 /workspace/Plant-Pathology-Anotation-7/test/images/rust_test_335_jpg.rf.d648b4baad3e174f176fc5d4e106e80d.jpg: 448x640 2 leaf_rusts, 8.5ms\n",
      "image 687/1739 /workspace/Plant-Pathology-Anotation-7/test/images/rust_test_336_jpg.rf.9471eaefaee68897f5b08ad5f48a49bd.jpg: 448x640 1 leaf_rust, 8.8ms\n",
      "image 688/1739 /workspace/Plant-Pathology-Anotation-7/test/images/rust_test_337_jpg.rf.2a7342ee7ec5046e2726225098a98111.jpg: 448x640 2 leaf_rusts, 8.6ms\n",
      "image 689/1739 /workspace/Plant-Pathology-Anotation-7/test/images/rust_test_338_jpg.rf.4b24b02f651b82b2ea26df6db20f0241.jpg: 448x640 3 leaf_rusts, 8.4ms\n",
      "image 690/1739 /workspace/Plant-Pathology-Anotation-7/test/images/rust_test_339_jpg.rf.9b46e7d92cb288844404344b45d2da8e.jpg: 448x640 1 leaf_rust, 9.0ms\n",
      "image 691/1739 /workspace/Plant-Pathology-Anotation-7/test/images/rust_test_33_jpg.rf.d9a60fafa8a03fc091e470ccda8ee1fa.jpg: 448x640 1 leaf_rust, 8.6ms\n",
      "image 692/1739 /workspace/Plant-Pathology-Anotation-7/test/images/rust_test_340_jpg.rf.761d10bf813e7e4be20af584ae561917.jpg: 448x640 1 leaf_rust, 8.6ms\n",
      "image 693/1739 /workspace/Plant-Pathology-Anotation-7/test/images/rust_test_341_jpg.rf.1d4b55b2d0b0612f58e59a60155731db.jpg: 448x640 1 leaf_rust, 8.5ms\n",
      "image 694/1739 /workspace/Plant-Pathology-Anotation-7/test/images/rust_test_342_jpg.rf.ab97997ad84e9ae3193b503871a2caf5.jpg: 448x640 1 leaf_rust, 9.0ms\n",
      "image 695/1739 /workspace/Plant-Pathology-Anotation-7/test/images/rust_test_343_jpg.rf.6f35e06b0450fcdc976fde7fe5bf44c8.jpg: 448x640 2 leaf_rusts, 8.6ms\n",
      "image 696/1739 /workspace/Plant-Pathology-Anotation-7/test/images/rust_test_344_jpg.rf.2fb5548772fa2d65c6d4b2d910565c45.jpg: 448x640 2 leaf_rusts, 8.4ms\n",
      "image 697/1739 /workspace/Plant-Pathology-Anotation-7/test/images/rust_test_345_jpg.rf.39f3e783f60e5db3509d9376e99f9528.jpg: 448x640 1 leaf_rust, 8.8ms\n",
      "image 698/1739 /workspace/Plant-Pathology-Anotation-7/test/images/rust_test_346_jpg.rf.44fb23581d38c181690ad441bbefe743.jpg: 448x640 1 leaf_rust, 8.6ms\n",
      "image 699/1739 /workspace/Plant-Pathology-Anotation-7/test/images/rust_test_347_jpg.rf.5f1564bd83e6580a317c7aa2e0cb4169.jpg: 448x640 3 leaf_rusts, 8.6ms\n",
      "image 700/1739 /workspace/Plant-Pathology-Anotation-7/test/images/rust_test_348_jpg.rf.1eab40f22f635886bf09168b2edb79f8.jpg: 448x640 2 leaf_rusts, 8.5ms\n",
      "image 701/1739 /workspace/Plant-Pathology-Anotation-7/test/images/rust_test_349_jpg.rf.e47be50ac5add445e597f65d1c1e542b.jpg: 448x640 1 leaf_rust, 9.1ms\n",
      "image 702/1739 /workspace/Plant-Pathology-Anotation-7/test/images/rust_test_34_jpg.rf.e7c0105bc6d75efd4b80e5235407f750.jpg: 448x640 2 leaf_rusts, 8.3ms\n",
      "image 703/1739 /workspace/Plant-Pathology-Anotation-7/test/images/rust_test_350_jpg.rf.9580ef3df1adff68f9d2d2a06303d8ea.jpg: 448x640 1 leaf_rust, 8.8ms\n",
      "image 704/1739 /workspace/Plant-Pathology-Anotation-7/test/images/rust_test_351_jpg.rf.40f2754e6f8e8cc21c3778ad9fd64e93.jpg: 448x640 2 leaf_rusts, 8.6ms\n",
      "image 705/1739 /workspace/Plant-Pathology-Anotation-7/test/images/rust_test_352_jpg.rf.d227f8e1462ad90e3cb4ad5219e1b55e.jpg: 448x640 3 leaf_rusts, 8.5ms\n",
      "image 706/1739 /workspace/Plant-Pathology-Anotation-7/test/images/rust_test_353_jpg.rf.8ef94ab8cfbf9b82f2babcf09d6c9edc.jpg: 448x640 2 leaf_rusts, 9.4ms\n",
      "image 707/1739 /workspace/Plant-Pathology-Anotation-7/test/images/rust_test_354_jpg.rf.a7d7316e35fa806379e53d667a6019e0.jpg: 448x640 1 leaf_healthy, 3 leaf_rusts, 8.5ms\n",
      "image 708/1739 /workspace/Plant-Pathology-Anotation-7/test/images/rust_test_355_jpg.rf.8aaf8fb41029d1262b5efec3c7034b67.jpg: 448x640 1 leaf_rust, 9.6ms\n",
      "image 709/1739 /workspace/Plant-Pathology-Anotation-7/test/images/rust_test_356_jpg.rf.a99d88054e7486bb421ceb6b440e72fa.jpg: 448x640 1 leaf_rust, 8.6ms\n",
      "image 710/1739 /workspace/Plant-Pathology-Anotation-7/test/images/rust_test_357_jpg.rf.1820c5c4e2007ba4a86d3012b443b9b1.jpg: 448x640 1 leaf_rust, 8.6ms\n",
      "image 711/1739 /workspace/Plant-Pathology-Anotation-7/test/images/rust_test_358_jpg.rf.23b52385bbcc43b2f6ffd7939c0cd4fc.jpg: 448x640 1 leaf_rust, 8.7ms\n",
      "image 712/1739 /workspace/Plant-Pathology-Anotation-7/test/images/rust_test_359_jpg.rf.ff258c463fa0df9ee0b1f6d79bc1c66a.jpg: 448x640 7 leaf_healthys, 8.4ms\n",
      "image 713/1739 /workspace/Plant-Pathology-Anotation-7/test/images/rust_test_35_jpg.rf.c6c2627b39ac53a1634214f0854550b7.jpg: 448x640 1 leaf_rust, 8.7ms\n",
      "image 714/1739 /workspace/Plant-Pathology-Anotation-7/test/images/rust_test_360_jpg.rf.5a2dda36e696a2986a31be873a5eec79.jpg: 448x640 1 leaf_rust, 8.5ms\n",
      "image 715/1739 /workspace/Plant-Pathology-Anotation-7/test/images/rust_test_361_jpg.rf.ab30192867b02e229f6b4483d956b558.jpg: 448x640 1 leaf_healthy, 1 leaf_rust, 8.6ms\n",
      "image 716/1739 /workspace/Plant-Pathology-Anotation-7/test/images/rust_test_362_jpg.rf.67ac45b0c078740a7192fcad9abd69e5.jpg: 448x640 1 leaf_rust, 8.5ms\n",
      "image 717/1739 /workspace/Plant-Pathology-Anotation-7/test/images/rust_test_363_jpg.rf.72a00afe3a6bbc600e3d747a9c092784.jpg: 448x640 1 leaf_rust, 8.8ms\n",
      "image 718/1739 /workspace/Plant-Pathology-Anotation-7/test/images/rust_test_364_jpg.rf.fccd5a36023f0c079e0aaeba4410b487.jpg: 448x640 2 leaf_rusts, 8.6ms\n",
      "image 719/1739 /workspace/Plant-Pathology-Anotation-7/test/images/rust_test_365_jpg.rf.125d29a52921d71440dc1d984bbae432.jpg: 448x640 4 leaf_rusts, 8.5ms\n",
      "image 720/1739 /workspace/Plant-Pathology-Anotation-7/test/images/rust_test_366_jpg.rf.56e77ad62e14ad0ec6756a96dc7d4cd8.jpg: 448x640 2 leaf_rusts, 9.4ms\n",
      "image 721/1739 /workspace/Plant-Pathology-Anotation-7/test/images/rust_test_367_jpg.rf.f06287ead1f4efafff950891fc90e8a0.jpg: 448x640 1 leaf_rust, 8.4ms\n",
      "image 722/1739 /workspace/Plant-Pathology-Anotation-7/test/images/rust_test_368_jpg.rf.5962f99ea17f64a547ee38e9b4dab96c.jpg: 448x640 2 leaf_rusts, 8.7ms\n",
      "image 723/1739 /workspace/Plant-Pathology-Anotation-7/test/images/rust_test_369_jpg.rf.43e019698f8e1e139a9da5e8584b2b08.jpg: 448x640 1 leaf_rust, 1 leaf_scab, 8.4ms\n",
      "image 724/1739 /workspace/Plant-Pathology-Anotation-7/test/images/rust_test_36_jpg.rf.dadaad0e27e24f5122d466b5f81b12d0.jpg: 448x640 2 leaf_rusts, 8.8ms\n",
      "image 725/1739 /workspace/Plant-Pathology-Anotation-7/test/images/rust_test_370_jpg.rf.25431a1a1b370d2eba45a392c3373070.jpg: 448x640 1 leaf_rust, 8.5ms\n",
      "image 726/1739 /workspace/Plant-Pathology-Anotation-7/test/images/rust_test_371_jpg.rf.fac17ba1b1fbbb568c3234640e54004d.jpg: 448x640 2 leaf_rusts, 8.6ms\n",
      "image 727/1739 /workspace/Plant-Pathology-Anotation-7/test/images/rust_test_372_jpg.rf.9e7d4d7da34287c881570a915a792f2b.jpg: 448x640 1 leaf_rust, 8.5ms\n",
      "image 728/1739 /workspace/Plant-Pathology-Anotation-7/test/images/rust_test_373_jpg.rf.5cbfb8ea5173704f4bf9190f08f98d9e.jpg: 448x640 2 leaf_rusts, 8.6ms\n",
      "image 729/1739 /workspace/Plant-Pathology-Anotation-7/test/images/rust_test_374_jpg.rf.5347d4d60af48dc8b9895d7bf6b81926.jpg: 448x640 1 leaf_rust, 8.5ms\n",
      "image 730/1739 /workspace/Plant-Pathology-Anotation-7/test/images/rust_test_375_jpg.rf.4b91dba12ef41461553fd9dc58d5ec08.jpg: 448x640 1 leaf_rust, 8.6ms\n",
      "image 731/1739 /workspace/Plant-Pathology-Anotation-7/test/images/rust_test_376_jpg.rf.76617fdb5d239bfdd19a699857414a23.jpg: 448x640 1 leaf_rust, 8.8ms\n",
      "image 732/1739 /workspace/Plant-Pathology-Anotation-7/test/images/rust_test_377_jpg.rf.1e81f2e6079f3fddee2596497432e2c1.jpg: 448x640 2 leaf_rusts, 8.5ms\n",
      "image 733/1739 /workspace/Plant-Pathology-Anotation-7/test/images/rust_test_378_jpg.rf.2db3bc3dcc7b9ef6557b2e532220802d.jpg: 448x640 4 leaf_rusts, 8.4ms\n",
      "image 734/1739 /workspace/Plant-Pathology-Anotation-7/test/images/rust_test_379_jpg.rf.2ab3b0b03fa40f70bcc8ac2dc30373de.jpg: 448x640 1 leaf_rust, 9.2ms\n",
      "image 735/1739 /workspace/Plant-Pathology-Anotation-7/test/images/rust_test_37_jpg.rf.e1133883816f11ddac618ac34dccbb28.jpg: 448x640 1 leaf_rust, 8.6ms\n",
      "image 736/1739 /workspace/Plant-Pathology-Anotation-7/test/images/rust_test_380_jpg.rf.ac3efe66b8feb3f40429ae87fe106487.jpg: 448x640 1 leaf_rust, 8.7ms\n",
      "image 737/1739 /workspace/Plant-Pathology-Anotation-7/test/images/rust_test_381_jpg.rf.7564fbf665c7bfb6318c6620716eb026.jpg: 448x640 1 leaf_rust, 8.5ms\n",
      "image 738/1739 /workspace/Plant-Pathology-Anotation-7/test/images/rust_test_382_jpg.rf.ceb721d9e675b7d598dffa49d3c2019c.jpg: 448x640 3 leaf_rusts, 8.6ms\n",
      "image 739/1739 /workspace/Plant-Pathology-Anotation-7/test/images/rust_test_383_jpg.rf.a486ec9f6fcf3978c25c51f23aa83d7d.jpg: 448x640 1 leaf_rust, 8.5ms\n",
      "image 740/1739 /workspace/Plant-Pathology-Anotation-7/test/images/rust_test_384_jpg.rf.0364656c36117a80babf1f54f224a22d.jpg: 448x640 1 leaf_rust, 9.2ms\n",
      "image 741/1739 /workspace/Plant-Pathology-Anotation-7/test/images/rust_test_385_jpg.rf.3bcf66c73dd2ecda72951e382935050d.jpg: 448x640 1 leaf_rust, 8.3ms\n",
      "image 742/1739 /workspace/Plant-Pathology-Anotation-7/test/images/rust_test_386_jpg.rf.14888c1c7948434ad25a0ec3f330cb32.jpg: 448x640 1 leaf_rust, 8.6ms\n",
      "image 743/1739 /workspace/Plant-Pathology-Anotation-7/test/images/rust_test_387_jpg.rf.d583470110c65d5246ee30b4f2e06489.jpg: 448x640 2 leaf_rusts, 8.5ms\n",
      "image 744/1739 /workspace/Plant-Pathology-Anotation-7/test/images/rust_test_388_jpg.rf.083ff75b80d0b983d7cdef7adefbe630.jpg: 448x640 1 leaf_rust, 8.5ms\n",
      "image 745/1739 /workspace/Plant-Pathology-Anotation-7/test/images/rust_test_389_jpg.rf.3ed34d811d68212cb08cf066ff71a7a9.jpg: 448x640 1 leaf_rust, 8.7ms\n",
      "image 746/1739 /workspace/Plant-Pathology-Anotation-7/test/images/rust_test_38_jpg.rf.1327a76560b32d4708541ff6c914e303.jpg: 448x640 2 leaf_rusts, 8.6ms\n",
      "image 747/1739 /workspace/Plant-Pathology-Anotation-7/test/images/rust_test_390_jpg.rf.83ba86f9b2c294bab1dc994800da2b6c.jpg: 448x640 2 leaf_rusts, 8.4ms\n",
      "image 748/1739 /workspace/Plant-Pathology-Anotation-7/test/images/rust_test_391_jpg.rf.3065593599a3b51986ab06f86c10ea89.jpg: 448x640 1 leaf_rust, 9.3ms\n",
      "image 749/1739 /workspace/Plant-Pathology-Anotation-7/test/images/rust_test_392_jpg.rf.8cd58a6edc9bda4accf7d0c7d5a54277.jpg: 448x640 2 leaf_rusts, 8.3ms\n",
      "image 750/1739 /workspace/Plant-Pathology-Anotation-7/test/images/rust_test_393_jpg.rf.067976aa9c93dc490ad0964225be1437.jpg: 448x640 2 leaf_rusts, 8.8ms\n",
      "image 751/1739 /workspace/Plant-Pathology-Anotation-7/test/images/rust_test_394_jpg.rf.55aab3a1a8c106bdd20cdc11856b68a8.jpg: 448x640 1 leaf_rust, 8.4ms\n",
      "image 752/1739 /workspace/Plant-Pathology-Anotation-7/test/images/rust_test_395_jpg.rf.c0e1999ab0a0b37b8691a1c71f711e82.jpg: 448x640 4 leaf_rusts, 8.9ms\n",
      "image 753/1739 /workspace/Plant-Pathology-Anotation-7/test/images/rust_test_396_jpg.rf.b11d309a6a191c948fb127dfcb8cf0df.jpg: 448x640 1 leaf_rust, 8.4ms\n",
      "image 754/1739 /workspace/Plant-Pathology-Anotation-7/test/images/rust_test_397_jpg.rf.5eac504e16913e2a8607e6c73bf96907.jpg: 448x640 1 leaf_rust, 8.7ms\n",
      "image 755/1739 /workspace/Plant-Pathology-Anotation-7/test/images/rust_test_398_jpg.rf.04d3dbebcd713e4fd5d694ef18237051.jpg: 448x640 2 leaf_rusts, 8.5ms\n",
      "image 756/1739 /workspace/Plant-Pathology-Anotation-7/test/images/rust_test_399_jpg.rf.873c808194bf07fe9778093b7d75692a.jpg: 448x640 3 leaf_rusts, 8.6ms\n",
      "image 757/1739 /workspace/Plant-Pathology-Anotation-7/test/images/rust_test_39_jpg.rf.748b18070c535f127d2200bf5b8a78c8.jpg: 448x640 1 leaf_rust, 9.3ms\n",
      "image 758/1739 /workspace/Plant-Pathology-Anotation-7/test/images/rust_test_3_jpg.rf.60ae8eab161a658a40cc3e3266cf24a3.jpg: 448x640 1 leaf_rust, 8.6ms\n",
      "image 759/1739 /workspace/Plant-Pathology-Anotation-7/test/images/rust_test_400_jpg.rf.557c57c51d9868723067da6d2fbb12cf.jpg: 448x640 1 leaf_rust, 8.3ms\n",
      "image 760/1739 /workspace/Plant-Pathology-Anotation-7/test/images/rust_test_401_jpg.rf.5eded8ef87d76d4dfdca63bfa85dc22b.jpg: 448x640 3 leaf_rusts, 8.7ms\n",
      "image 761/1739 /workspace/Plant-Pathology-Anotation-7/test/images/rust_test_402_jpg.rf.28792bb88fa326904745d832484ed8aa.jpg: 448x640 1 leaf_rust, 8.5ms\n",
      "image 762/1739 /workspace/Plant-Pathology-Anotation-7/test/images/rust_test_403_jpg.rf.812b6031119b278781ac5e1805b515d7.jpg: 448x640 1 leaf_rust, 8.8ms\n",
      "image 763/1739 /workspace/Plant-Pathology-Anotation-7/test/images/rust_test_404_jpg.rf.63563c545364efd58b552d5b877afd3b.jpg: 448x640 2 leaf_rusts, 8.6ms\n",
      "image 764/1739 /workspace/Plant-Pathology-Anotation-7/test/images/rust_test_405_jpg.rf.cf639e8e3ee46b5a470ddf65c339678f.jpg: 448x640 3 leaf_rusts, 8.4ms\n",
      "image 765/1739 /workspace/Plant-Pathology-Anotation-7/test/images/rust_test_406_jpg.rf.237c738fdaa17ed4c31a624745684bfd.jpg: 448x640 1 leaf_scab, 9.0ms\n",
      "image 766/1739 /workspace/Plant-Pathology-Anotation-7/test/images/rust_test_407_jpg.rf.42ec43c6a913a49f2a9c7bb32011e20c.jpg: 448x640 1 leaf_rust, 8.6ms\n",
      "image 767/1739 /workspace/Plant-Pathology-Anotation-7/test/images/rust_test_408_jpg.rf.ed3b73e117ac4c52d0cea8009408c6b2.jpg: 448x640 1 leaf_rust, 8.6ms\n",
      "image 768/1739 /workspace/Plant-Pathology-Anotation-7/test/images/rust_test_409_jpg.rf.9f66ce938bcae029d8a0bc37f5584de9.jpg: 448x640 1 leaf_rust, 1 leaf_scab, 8.6ms\n",
      "image 769/1739 /workspace/Plant-Pathology-Anotation-7/test/images/rust_test_40_jpg.rf.a788719f81f8d5ebdf1df7a6186ae31e.jpg: 448x640 1 leaf_rust, 8.5ms\n",
      "image 770/1739 /workspace/Plant-Pathology-Anotation-7/test/images/rust_test_410_jpg.rf.9f8f95fe3985343c49e4cc9216028b13.jpg: 448x640 4 leaf_rusts, 8.9ms\n",
      "image 771/1739 /workspace/Plant-Pathology-Anotation-7/test/images/rust_test_411_jpg.rf.c4da0d76cb87c44af9a1fb6000c66daa.jpg: 448x640 1 leaf_rust, 8.4ms\n",
      "image 772/1739 /workspace/Plant-Pathology-Anotation-7/test/images/rust_test_412_jpg.rf.41dd48a82549515b5c896c4dd00bfe9b.jpg: 448x640 2 leaf_rusts, 8.8ms\n",
      "image 773/1739 /workspace/Plant-Pathology-Anotation-7/test/images/rust_test_413_jpg.rf.d9ac5036904cac66373fce7e8938cce8.jpg: 448x640 3 leaf_rusts, 8.4ms\n",
      "image 774/1739 /workspace/Plant-Pathology-Anotation-7/test/images/rust_test_414_jpg.rf.138868fee85568369b7c97909dec1930.jpg: 448x640 5 leaf_rusts, 8.8ms\n",
      "image 775/1739 /workspace/Plant-Pathology-Anotation-7/test/images/rust_test_415_jpg.rf.2a2b8510a99acfd876d41834c5940aa4.jpg: 448x640 1 leaf_rust, 8.4ms\n",
      "image 776/1739 /workspace/Plant-Pathology-Anotation-7/test/images/rust_test_416_jpg.rf.2a370f6b78ef3293f8d3306a7932416b.jpg: 448x640 1 leaf_rust, 9.0ms\n",
      "image 777/1739 /workspace/Plant-Pathology-Anotation-7/test/images/rust_test_417_jpg.rf.8be4123a75550aa0286af076dcdb82e1.jpg: 448x640 1 leaf_rust, 8.6ms\n",
      "image 778/1739 /workspace/Plant-Pathology-Anotation-7/test/images/rust_test_418_jpg.rf.5e42b0ab7e934b059966542300ccafdf.jpg: 448x640 1 leaf_rust, 8.3ms\n",
      "image 779/1739 /workspace/Plant-Pathology-Anotation-7/test/images/rust_test_419_jpg.rf.c562b1e8d25dc1cedb6a166456738ba6.jpg: 448x640 1 leaf_rust, 8.9ms\n",
      "image 780/1739 /workspace/Plant-Pathology-Anotation-7/test/images/rust_test_41_jpg.rf.3ccf462c78e4bb5907fd5967ab0f62a2.jpg: 448x640 3 leaf_rusts, 8.6ms\n",
      "image 781/1739 /workspace/Plant-Pathology-Anotation-7/test/images/rust_test_420_jpg.rf.eba254be77780bfefddecceaacbef5f9.jpg: 448x640 2 leaf_rusts, 8.5ms\n",
      "image 782/1739 /workspace/Plant-Pathology-Anotation-7/test/images/rust_test_421_jpg.rf.fecca63368cef1c49d8f5bec072cb72c.jpg: 448x640 3 leaf_rusts, 9.1ms\n",
      "image 783/1739 /workspace/Plant-Pathology-Anotation-7/test/images/rust_test_422_jpg.rf.a2889706820b9996adfd272b1db0d8d0.jpg: 448x640 2 leaf_rusts, 8.5ms\n",
      "image 784/1739 /workspace/Plant-Pathology-Anotation-7/test/images/rust_test_423_jpg.rf.4e2f45acf78703d52fb22c58a478c5c6.jpg: 448x640 1 leaf_rust, 8.6ms\n",
      "image 785/1739 /workspace/Plant-Pathology-Anotation-7/test/images/rust_test_424_jpg.rf.46efae9cc3bbb0716c6ffbf45cea9e4a.jpg: 448x640 2 leaf_rusts, 9.0ms\n",
      "image 786/1739 /workspace/Plant-Pathology-Anotation-7/test/images/rust_test_425_jpg.rf.ba3af8efa0534d938f591d0f7b5b953b.jpg: 448x640 3 leaf_rusts, 8.5ms\n",
      "image 787/1739 /workspace/Plant-Pathology-Anotation-7/test/images/rust_test_426_jpg.rf.e61cec2a2ba041e02ff04c1ac923bfbb.jpg: 448x640 1 leaf_rust, 9.3ms\n",
      "image 788/1739 /workspace/Plant-Pathology-Anotation-7/test/images/rust_test_427_jpg.rf.334a140e80799e3c216f02691cb6f40e.jpg: 448x640 1 leaf_rust, 8.7ms\n",
      "image 789/1739 /workspace/Plant-Pathology-Anotation-7/test/images/rust_test_428_jpg.rf.cb6be22430c3948185ab4e80edba4b8a.jpg: 448x640 2 leaf_rusts, 8.6ms\n",
      "image 790/1739 /workspace/Plant-Pathology-Anotation-7/test/images/rust_test_429_jpg.rf.b0f386e5056d796a12c0d953975fbff5.jpg: 448x640 1 leaf_rust, 8.6ms\n",
      "image 791/1739 /workspace/Plant-Pathology-Anotation-7/test/images/rust_test_42_jpg.rf.57d84e3dbf9b6fd5ab61612882894970.jpg: 448x640 2 leaf_rusts, 8.8ms\n",
      "image 792/1739 /workspace/Plant-Pathology-Anotation-7/test/images/rust_test_430_jpg.rf.bf1716960733fd18844bef9b34cf1771.jpg: 448x640 2 leaf_rusts, 8.5ms\n",
      "image 793/1739 /workspace/Plant-Pathology-Anotation-7/test/images/rust_test_431_jpg.rf.176581171241b2974cd6cf2a46ad0fc1.jpg: 448x640 2 leaf_rusts, 8.9ms\n",
      "image 794/1739 /workspace/Plant-Pathology-Anotation-7/test/images/rust_test_432_jpg.rf.d3a54bfe1a90c7721dfa64b77bbaa84f.jpg: 448x640 2 leaf_rusts, 8.5ms\n",
      "image 795/1739 /workspace/Plant-Pathology-Anotation-7/test/images/rust_test_433_jpg.rf.d3a9bfe9b8a90106386749a999418694.jpg: 448x640 4 leaf_rusts, 9.2ms\n",
      "image 796/1739 /workspace/Plant-Pathology-Anotation-7/test/images/rust_test_434_jpg.rf.e96328bebd10ee853b02e08473df3ae3.jpg: 448x640 2 leaf_rusts, 8.4ms\n",
      "image 797/1739 /workspace/Plant-Pathology-Anotation-7/test/images/rust_test_435_jpg.rf.e92229c67bcb2abfb1b22288295993a7.jpg: 640x448 2 leaf_rusts, 9.7ms\n",
      "image 798/1739 /workspace/Plant-Pathology-Anotation-7/test/images/rust_test_436_jpg.rf.27dbcc9a397d6ada7d259689c1acd001.jpg: 448x640 3 leaf_rusts, 8.9ms\n",
      "image 799/1739 /workspace/Plant-Pathology-Anotation-7/test/images/rust_test_437_jpg.rf.39548b0af8ebaeccceecde72223ff244.jpg: 448x640 1 leaf_rust, 9.0ms\n",
      "image 800/1739 /workspace/Plant-Pathology-Anotation-7/test/images/rust_test_438_jpg.rf.b3a57267c6cb08735f07b3f7460ace73.jpg: 448x640 1 leaf_rust, 8.7ms\n",
      "image 801/1739 /workspace/Plant-Pathology-Anotation-7/test/images/rust_test_439_jpg.rf.6165af2e32fe6e0ddb9d1aecf2e16748.jpg: 448x640 1 leaf_rust, 8.6ms\n",
      "image 802/1739 /workspace/Plant-Pathology-Anotation-7/test/images/rust_test_43_jpg.rf.3d2915b6ec72537172eb9f59a57c4dcb.jpg: 448x640 1 leaf_rust, 8.6ms\n",
      "image 803/1739 /workspace/Plant-Pathology-Anotation-7/test/images/rust_test_440_jpg.rf.f90518050c553388dcd2a7c8170c868f.jpg: 448x640 2 leaf_rusts, 8.5ms\n",
      "image 804/1739 /workspace/Plant-Pathology-Anotation-7/test/images/rust_test_441_jpg.rf.dd9525a64895a5f032151690ffeee0c9.jpg: 448x640 2 leaf_rusts, 8.8ms\n",
      "image 805/1739 /workspace/Plant-Pathology-Anotation-7/test/images/rust_test_442_jpg.rf.08d33691a8b6f91241f3e620a427b6c9.jpg: 448x640 1 leaf_rust, 8.5ms\n",
      "image 806/1739 /workspace/Plant-Pathology-Anotation-7/test/images/rust_test_443_jpg.rf.8411d8c48d0a3d5b3af8beda02a936fe.jpg: 448x640 2 leaf_rusts, 8.7ms\n",
      "image 807/1739 /workspace/Plant-Pathology-Anotation-7/test/images/rust_test_444_jpg.rf.934d5b375b7c59701ee4692f0eec5e22.jpg: 448x640 2 leaf_rusts, 8.5ms\n",
      "image 808/1739 /workspace/Plant-Pathology-Anotation-7/test/images/rust_test_445_jpg.rf.72f57c34d09b9ba280395bcfabb6bf97.jpg: 448x640 2 leaf_rusts, 9.2ms\n",
      "image 809/1739 /workspace/Plant-Pathology-Anotation-7/test/images/rust_test_446_jpg.rf.334152c426087e83a63b0277331fc386.jpg: 448x640 1 leaf_rust, 8.4ms\n",
      "image 810/1739 /workspace/Plant-Pathology-Anotation-7/test/images/rust_test_447_jpg.rf.258d6fe554302fb0ef9d9274cc072c1a.jpg: 448x640 1 leaf_rust, 8.9ms\n",
      "image 811/1739 /workspace/Plant-Pathology-Anotation-7/test/images/rust_test_448_jpg.rf.081ace342d89db05836d491763f37914.jpg: 448x640 1 leaf_rust, 8.6ms\n",
      "image 812/1739 /workspace/Plant-Pathology-Anotation-7/test/images/rust_test_449_jpg.rf.40eda43f8b98312bf7c53943395c1acf.jpg: 448x640 1 leaf_rust, 8.5ms\n",
      "image 813/1739 /workspace/Plant-Pathology-Anotation-7/test/images/rust_test_44_jpg.rf.8329bd004188f3765fecdbc87a15a619.jpg: 448x640 1 leaf_rust, 8.7ms\n",
      "image 814/1739 /workspace/Plant-Pathology-Anotation-7/test/images/rust_test_450_jpg.rf.2d20403da26c36edf06f8308a956421e.jpg: 448x640 2 leaf_rusts, 8.6ms\n",
      "image 815/1739 /workspace/Plant-Pathology-Anotation-7/test/images/rust_test_451_jpg.rf.4280989126cdc28b2b35876ad7a29fc0.jpg: 448x640 9 leaf_rusts, 8.4ms\n",
      "image 816/1739 /workspace/Plant-Pathology-Anotation-7/test/images/rust_test_452_jpg.rf.5b79319db031e21505ea1a4063e450ff.jpg: 448x640 4 leaf_rusts, 8.4ms\n",
      "image 817/1739 /workspace/Plant-Pathology-Anotation-7/test/images/rust_test_453_jpg.rf.8c6e8fa90ea1babaec4ca9b494a5be1d.jpg: 448x640 1 leaf_scab, 8.7ms\n",
      "image 818/1739 /workspace/Plant-Pathology-Anotation-7/test/images/rust_test_454_jpg.rf.0e2c0cc1fa6a49f1c24b385dc84ce553.jpg: 448x640 1 leaf_rust, 9.1ms\n",
      "image 819/1739 /workspace/Plant-Pathology-Anotation-7/test/images/rust_test_455_jpg.rf.2f42ab60853dc14dad093c936b96106b.jpg: 448x640 2 leaf_rusts, 8.7ms\n",
      "image 820/1739 /workspace/Plant-Pathology-Anotation-7/test/images/rust_test_456_jpg.rf.2bcb4ed4e05785def442f09de0bb6737.jpg: 448x640 1 leaf_rust, 8.5ms\n",
      "image 821/1739 /workspace/Plant-Pathology-Anotation-7/test/images/rust_test_457_jpg.rf.390f46820a6f21e9c09066067ae73c17.jpg: 448x640 5 leaf_rusts, 8.7ms\n",
      "image 822/1739 /workspace/Plant-Pathology-Anotation-7/test/images/rust_test_458_jpg.rf.a259314d5260acb2131da61434ff9218.jpg: 448x640 1 leaf_rust, 8.4ms\n",
      "image 823/1739 /workspace/Plant-Pathology-Anotation-7/test/images/rust_test_459_jpg.rf.5dfbdf27912c03bade57e2d28d4ef0b1.jpg: 640x448 1 leaf_rust, 9.3ms\n",
      "image 824/1739 /workspace/Plant-Pathology-Anotation-7/test/images/rust_test_45_jpg.rf.92a8afb0837374a0a81136593adfcc9e.jpg: 448x640 1 leaf_rust, 9.1ms\n",
      "image 825/1739 /workspace/Plant-Pathology-Anotation-7/test/images/rust_test_460_jpg.rf.18bd6b2f4f3188a73fe6c82b5b10bbbc.jpg: 448x640 1 leaf_rust, 8.6ms\n",
      "image 826/1739 /workspace/Plant-Pathology-Anotation-7/test/images/rust_test_461_jpg.rf.60de6e4ad1fc633baeaca9d2efc498d5.jpg: 448x640 1 leaf_rust, 8.6ms\n",
      "image 827/1739 /workspace/Plant-Pathology-Anotation-7/test/images/rust_test_462_jpg.rf.1fb4d35a873eb152fbd9114503619dc7.jpg: 448x640 1 leaf_rust, 8.5ms\n",
      "image 828/1739 /workspace/Plant-Pathology-Anotation-7/test/images/rust_test_463_jpg.rf.68646f5766c73d927306bc75f5bab6e3.jpg: 448x640 1 leaf_rust, 8.7ms\n",
      "image 829/1739 /workspace/Plant-Pathology-Anotation-7/test/images/rust_test_464_jpg.rf.204beef8fbe497fa68953d3533c790a9.jpg: 448x640 3 leaf_rusts, 9.0ms\n",
      "image 830/1739 /workspace/Plant-Pathology-Anotation-7/test/images/rust_test_465_jpg.rf.e458301f661a08593288d779aa7e6cee.jpg: 448x640 1 leaf_rust, 8.4ms\n",
      "image 831/1739 /workspace/Plant-Pathology-Anotation-7/test/images/rust_test_466_jpg.rf.27ed8a6e6fbefd56b812fa219eed00a7.jpg: 448x640 2 leaf_rusts, 8.9ms\n",
      "image 832/1739 /workspace/Plant-Pathology-Anotation-7/test/images/rust_test_467_jpg.rf.7cdfd148813debb9d59a7cfe3dfb2041.jpg: 448x640 1 leaf_rust, 8.4ms\n",
      "image 833/1739 /workspace/Plant-Pathology-Anotation-7/test/images/rust_test_468_jpg.rf.cf844b28266f488c5005e4f04247a0df.jpg: 448x640 1 leaf_rust, 1 leaf_scab, 8.7ms\n",
      "image 834/1739 /workspace/Plant-Pathology-Anotation-7/test/images/rust_test_469_jpg.rf.714995b708d6ef5410a50dcc0d728541.jpg: 448x640 1 leaf_rust, 8.4ms\n",
      "image 835/1739 /workspace/Plant-Pathology-Anotation-7/test/images/rust_test_46_jpg.rf.d2b68ff70b72410760a97abcdfdaa88b.jpg: 448x640 1 leaf_rust, 8.7ms\n",
      "image 836/1739 /workspace/Plant-Pathology-Anotation-7/test/images/rust_test_470_jpg.rf.59aa528f3b598e5992ab21626d7a88a5.jpg: 448x640 4 leaf_rusts, 10.2ms\n",
      "image 837/1739 /workspace/Plant-Pathology-Anotation-7/test/images/rust_test_471_jpg.rf.56d39e4676afceb32c27e8d585e7565c.jpg: 448x640 1 leaf_rust, 8.8ms\n",
      "image 838/1739 /workspace/Plant-Pathology-Anotation-7/test/images/rust_test_472_jpg.rf.fd169d742223ffd3fb0a8611e1fee618.jpg: 448x640 2 leaf_rusts, 9.0ms\n",
      "image 839/1739 /workspace/Plant-Pathology-Anotation-7/test/images/rust_test_473_jpg.rf.7c3ce1ddab068c6a7b78acd4c6bc2931.jpg: 448x640 1 leaf_rust, 8.5ms\n",
      "image 840/1739 /workspace/Plant-Pathology-Anotation-7/test/images/rust_test_474_jpg.rf.db339bde15a8773de0e3d5096578e6d7.jpg: 448x640 1 leaf_rust, 8.6ms\n",
      "image 841/1739 /workspace/Plant-Pathology-Anotation-7/test/images/rust_test_475_jpg.rf.8adb30d65761a9c56d40a8d3b29e7ae9.jpg: 448x640 1 leaf_rust, 8.3ms\n",
      "image 842/1739 /workspace/Plant-Pathology-Anotation-7/test/images/rust_test_476_jpg.rf.76e3d6d67a2becc3e43f57a13c9dbc81.jpg: 448x640 1 leaf_rust, 8.7ms\n",
      "image 843/1739 /workspace/Plant-Pathology-Anotation-7/test/images/rust_test_477_jpg.rf.b714623e08db2cc7ae6ce41cd995894e.jpg: 448x640 2 leaf_rusts, 8.7ms\n",
      "image 844/1739 /workspace/Plant-Pathology-Anotation-7/test/images/rust_test_478_jpg.rf.c7a66589948e6c89cd20596c71397964.jpg: 448x640 1 leaf_rust, 8.4ms\n",
      "image 845/1739 /workspace/Plant-Pathology-Anotation-7/test/images/rust_test_479_jpg.rf.486a1af611d306c2e56d3ce105b55fb8.jpg: 448x640 1 leaf_rust, 8.6ms\n",
      "image 846/1739 /workspace/Plant-Pathology-Anotation-7/test/images/rust_test_47_jpg.rf.5e883fd385bf4198e612b94e9396a8e3.jpg: 448x640 1 leaf_rust, 8.5ms\n",
      "image 847/1739 /workspace/Plant-Pathology-Anotation-7/test/images/rust_test_480_jpg.rf.66fae71c458fa82d356a5ba687987b5e.jpg: 448x640 4 leaf_rusts, 8.5ms\n",
      "image 848/1739 /workspace/Plant-Pathology-Anotation-7/test/images/rust_test_481_jpg.rf.e735d6dfdac94ccf502499acd8c79884.jpg: 448x640 1 leaf_rust, 8.4ms\n",
      "image 849/1739 /workspace/Plant-Pathology-Anotation-7/test/images/rust_test_482_jpg.rf.47f74000b41eae1725d719904ee8852e.jpg: 448x640 2 leaf_rusts, 8.8ms\n",
      "image 850/1739 /workspace/Plant-Pathology-Anotation-7/test/images/rust_test_483_jpg.rf.4da8de91f0dddf76f9eb8501deed807b.jpg: 448x640 4 leaf_rusts, 8.4ms\n",
      "image 851/1739 /workspace/Plant-Pathology-Anotation-7/test/images/rust_test_484_jpg.rf.8124b32e2b2398c83538303ccc0e1f0d.jpg: 448x640 1 leaf_rust, 9.0ms\n",
      "image 852/1739 /workspace/Plant-Pathology-Anotation-7/test/images/rust_test_485_jpg.rf.acb92a651d8261f2a260bf53b0d9057e.jpg: 448x640 4 leaf_rusts, 8.6ms\n",
      "image 853/1739 /workspace/Plant-Pathology-Anotation-7/test/images/rust_test_486_jpg.rf.d60e843e6719683e2181adc51f8539c9.jpg: 448x640 1 leaf_rust, 8.4ms\n",
      "image 854/1739 /workspace/Plant-Pathology-Anotation-7/test/images/rust_test_487_jpg.rf.b69c735ef13d7b3c4a14c0126ab088c2.jpg: 448x640 1 leaf_rust, 8.7ms\n",
      "image 855/1739 /workspace/Plant-Pathology-Anotation-7/test/images/rust_test_488_jpg.rf.2e7d217b956b3dedbf90dd4d7f24c8f3.jpg: 448x640 1 leaf_rust, 8.5ms\n",
      "image 856/1739 /workspace/Plant-Pathology-Anotation-7/test/images/rust_test_489_jpg.rf.16aaba1623d20255149b887d679ebcac.jpg: 448x640 4 leaf_rusts, 8.5ms\n",
      "image 857/1739 /workspace/Plant-Pathology-Anotation-7/test/images/rust_test_48_jpg.rf.f4a1c9f512fd47d88cb544f235c2edf5.jpg: 448x640 2 leaf_rusts, 8.5ms\n",
      "image 858/1739 /workspace/Plant-Pathology-Anotation-7/test/images/rust_test_490_jpg.rf.0f80d6714102c1c41cc990798b1b20ac.jpg: 640x448 1 leaf_healthy, 1 leaf_rust, 9.7ms\n",
      "image 859/1739 /workspace/Plant-Pathology-Anotation-7/test/images/rust_test_491_jpg.rf.3820146c80523fec9e6cebbe0661541b.jpg: 448x640 2 leaf_rusts, 8.8ms\n",
      "image 860/1739 /workspace/Plant-Pathology-Anotation-7/test/images/rust_test_492_jpg.rf.d9e8d52f801de0fecc31e5d6e87ae2fd.jpg: 448x640 2 leaf_rusts, 8.7ms\n",
      "image 861/1739 /workspace/Plant-Pathology-Anotation-7/test/images/rust_test_493_jpg.rf.c30b2bd97dc7fe0a26669c21739f6adb.jpg: 448x640 1 leaf_rust, 8.4ms\n",
      "image 862/1739 /workspace/Plant-Pathology-Anotation-7/test/images/rust_test_494_jpg.rf.301fd57bd658a103a2130b2cb118b3da.jpg: 448x640 1 leaf_rust, 9.0ms\n",
      "image 863/1739 /workspace/Plant-Pathology-Anotation-7/test/images/rust_test_495_jpg.rf.f2ff32d8b8bfdda1571b4fa268c96dd7.jpg: 448x640 3 leaf_rusts, 8.3ms\n",
      "image 864/1739 /workspace/Plant-Pathology-Anotation-7/test/images/rust_test_496_jpg.rf.b56b7beeacab1413a764af955db09757.jpg: 448x640 1 leaf_rust, 8.4ms\n",
      "image 865/1739 /workspace/Plant-Pathology-Anotation-7/test/images/rust_test_497_jpg.rf.74dcacaf2ca19770224e05a72264da7d.jpg: 448x640 1 leaf_rust, 8.9ms\n",
      "image 866/1739 /workspace/Plant-Pathology-Anotation-7/test/images/rust_test_498_jpg.rf.116a80fc8256b3ff3912cd09c81859e0.jpg: 448x640 1 leaf_rust, 8.6ms\n",
      "image 867/1739 /workspace/Plant-Pathology-Anotation-7/test/images/rust_test_499_jpg.rf.1a644f49f22e4b05d8270a5c5d7d15d1.jpg: 448x640 1 leaf_rust, 8.1ms\n",
      "image 868/1739 /workspace/Plant-Pathology-Anotation-7/test/images/rust_test_49_jpg.rf.82157fa83d428547781df5fcc95a32cf.jpg: 448x640 1 leaf_rust, 8.3ms\n",
      "image 869/1739 /workspace/Plant-Pathology-Anotation-7/test/images/rust_test_4_jpg.rf.f9b8c3b1a1410be15b40ce81655b69fe.jpg: 448x640 2 leaf_rusts, 8.5ms\n",
      "image 870/1739 /workspace/Plant-Pathology-Anotation-7/test/images/rust_test_500_jpg.rf.5da6e0b02f36fe2b33f16dd15d4590e6.jpg: 448x640 3 leaf_rusts, 8.7ms\n",
      "image 871/1739 /workspace/Plant-Pathology-Anotation-7/test/images/rust_test_501_jpg.rf.b750e5600bb4a89df4fb05f84c9a0b73.jpg: 448x640 1 leaf_rust, 9.4ms\n",
      "image 872/1739 /workspace/Plant-Pathology-Anotation-7/test/images/rust_test_502_jpg.rf.758a9b6e6f45a47a40f6210f8aa4545b.jpg: 448x640 1 leaf_rust, 8.8ms\n",
      "image 873/1739 /workspace/Plant-Pathology-Anotation-7/test/images/rust_test_503_jpg.rf.befe15e30e35cc918ae418996b0783d0.jpg: 448x640 1 leaf_rust, 8.7ms\n",
      "image 874/1739 /workspace/Plant-Pathology-Anotation-7/test/images/rust_test_504_jpg.rf.eafeb12a9c63345604112ecd7fc7f221.jpg: 448x640 4 leaf_rusts, 8.8ms\n",
      "image 875/1739 /workspace/Plant-Pathology-Anotation-7/test/images/rust_test_505_jpg.rf.e0f9bd4b452689c22840fea2929a598a.jpg: 448x640 2 leaf_rusts, 1 leaf_scab, 8.6ms\n",
      "image 876/1739 /workspace/Plant-Pathology-Anotation-7/test/images/rust_test_506_jpg.rf.cf32ee2b36426981bbc9defaee7e75df.jpg: 448x640 1 leaf_rust, 9.0ms\n",
      "image 877/1739 /workspace/Plant-Pathology-Anotation-7/test/images/rust_test_507_jpg.rf.ccafd00a2bb27c9b4a53e40892e57a22.jpg: 448x640 2 leaf_rusts, 8.4ms\n",
      "image 878/1739 /workspace/Plant-Pathology-Anotation-7/test/images/rust_test_508_jpg.rf.184ad79b79a68101dd10645c197c6036.jpg: 448x640 2 leaf_rusts, 8.4ms\n",
      "image 879/1739 /workspace/Plant-Pathology-Anotation-7/test/images/rust_test_509_jpg.rf.209011058f937de7a7db0680e3daa51d.jpg: 448x640 1 leaf_rust, 8.8ms\n",
      "image 880/1739 /workspace/Plant-Pathology-Anotation-7/test/images/rust_test_50_jpg.rf.f3e340c5a8e4ce1ca54f36eae4e63f9e.jpg: 448x640 4 leaf_rusts, 8.6ms\n",
      "image 881/1739 /workspace/Plant-Pathology-Anotation-7/test/images/rust_test_510_jpg.rf.13bcb10859a6f628b068e542e3ebdee0.jpg: 448x640 1 leaf_rust, 8.6ms\n",
      "image 882/1739 /workspace/Plant-Pathology-Anotation-7/test/images/rust_test_511_jpg.rf.d4d91d43344217db4da30655027feb5c.jpg: 448x640 2 leaf_rusts, 8.8ms\n",
      "image 883/1739 /workspace/Plant-Pathology-Anotation-7/test/images/rust_test_512_jpg.rf.4bc2bab31e78419ba53d0c7e2884eba4.jpg: 448x640 1 leaf_rust, 8.4ms\n",
      "image 884/1739 /workspace/Plant-Pathology-Anotation-7/test/images/rust_test_513_jpg.rf.cfeaea42b09719f866af6bf973ceb086.jpg: 448x640 3 leaf_rusts, 8.8ms\n",
      "image 885/1739 /workspace/Plant-Pathology-Anotation-7/test/images/rust_test_514_jpg.rf.da135f2a8190e46db81d89aec7107426.jpg: 448x640 2 leaf_healthys, 2 leaf_rusts, 8.6ms\n",
      "image 886/1739 /workspace/Plant-Pathology-Anotation-7/test/images/rust_test_515_jpg.rf.5b3d0e901b129676d90edab076f6c3e4.jpg: 448x640 1 leaf_rust, 9.3ms\n",
      "image 887/1739 /workspace/Plant-Pathology-Anotation-7/test/images/rust_test_516_jpg.rf.6af42b0251b43cf4177fbea4e2c8f457.jpg: 448x640 2 leaf_rusts, 8.8ms\n",
      "image 888/1739 /workspace/Plant-Pathology-Anotation-7/test/images/rust_test_517_jpg.rf.db608a6ba5c0e7f4d53cf81174328310.jpg: 448x640 1 leaf_rust, 8.5ms\n",
      "image 889/1739 /workspace/Plant-Pathology-Anotation-7/test/images/rust_test_518_jpg.rf.c5ec7aa0cc1c767664301e371d6be2eb.jpg: 448x640 3 leaf_rusts, 8.4ms\n",
      "image 890/1739 /workspace/Plant-Pathology-Anotation-7/test/images/rust_test_519_jpg.rf.f930304bd431a1251264c8f5050a75f9.jpg: 448x640 2 leaf_rusts, 8.5ms\n",
      "image 891/1739 /workspace/Plant-Pathology-Anotation-7/test/images/rust_test_51_jpg.rf.ec6340ffe0551da2822e8672bf3ad3c4.jpg: 448x640 1 leaf_rust, 9.1ms\n",
      "image 892/1739 /workspace/Plant-Pathology-Anotation-7/test/images/rust_test_520_jpg.rf.7bf45c80a8d08ff3dc8cc881b9ec54e0.jpg: 448x640 1 leaf_rust, 8.7ms\n",
      "image 893/1739 /workspace/Plant-Pathology-Anotation-7/test/images/rust_test_521_jpg.rf.e9c5054fbf00114c05eb7cdc01a1e199.jpg: 448x640 2 leaf_rusts, 8.6ms\n",
      "image 894/1739 /workspace/Plant-Pathology-Anotation-7/test/images/rust_test_522_jpg.rf.2a85f23cc65a88eb420413af14689711.jpg: 448x640 1 leaf_rust, 8.4ms\n",
      "image 895/1739 /workspace/Plant-Pathology-Anotation-7/test/images/rust_test_523_jpg.rf.60d5e1f2c50a7959f7d061526ab58ca5.jpg: 448x640 5 leaf_rusts, 8.7ms\n",
      "image 896/1739 /workspace/Plant-Pathology-Anotation-7/test/images/rust_test_524_jpg.rf.d2db92aeb791c00a56b699b0536fe7f3.jpg: 448x640 1 leaf_rust, 8.5ms\n",
      "image 897/1739 /workspace/Plant-Pathology-Anotation-7/test/images/rust_test_525_jpg.rf.9a99ed12f26842bf964bea44f4828d66.jpg: 448x640 1 leaf_rust, 8.8ms\n",
      "image 898/1739 /workspace/Plant-Pathology-Anotation-7/test/images/rust_test_526_jpg.rf.e615abd20099d3eead12dde292179b14.jpg: 448x640 1 leaf_rust, 8.8ms\n",
      "image 899/1739 /workspace/Plant-Pathology-Anotation-7/test/images/rust_test_527_jpg.rf.4b812f606be2d207b10487e7ba3e3bfe.jpg: 448x640 1 leaf_rust, 9.1ms\n",
      "image 900/1739 /workspace/Plant-Pathology-Anotation-7/test/images/rust_test_528_jpg.rf.d73f8a049cfeaeb3aec6bcd4c3bb6df0.jpg: 448x640 1 leaf_rust, 8.7ms\n",
      "image 901/1739 /workspace/Plant-Pathology-Anotation-7/test/images/rust_test_529_jpg.rf.987cf2d0a0aa2c4326ca6ee4d0a9bd5f.jpg: 448x640 3 leaf_rusts, 1 leaf_scab, 8.5ms\n",
      "image 902/1739 /workspace/Plant-Pathology-Anotation-7/test/images/rust_test_52_jpg.rf.0ca9317e0a194f5542b9ec045f760134.jpg: 448x640 1 leaf_rust, 8.5ms\n",
      "image 903/1739 /workspace/Plant-Pathology-Anotation-7/test/images/rust_test_530_jpg.rf.cbe3df7fe16e9a63b7737e1adb8095cb.jpg: 448x640 1 leaf_rust, 8.7ms\n",
      "image 904/1739 /workspace/Plant-Pathology-Anotation-7/test/images/rust_test_531_jpg.rf.bd21acff88fd8d68b94d92648ae5268f.jpg: 448x640 1 leaf_rust, 8.6ms\n",
      "image 905/1739 /workspace/Plant-Pathology-Anotation-7/test/images/rust_test_532_jpg.rf.c96e1373633a67392857e49b0f7aba6e.jpg: 448x640 1 leaf_healthy, 1 leaf_scab, 8.7ms\n",
      "image 906/1739 /workspace/Plant-Pathology-Anotation-7/test/images/rust_test_533_jpg.rf.3f84d92ab1a683388a4e9d92f311566c.jpg: 448x640 1 leaf_rust, 8.6ms\n",
      "image 907/1739 /workspace/Plant-Pathology-Anotation-7/test/images/rust_test_534_jpg.rf.bbad973ee8a87d3cc7f16a93e64bac06.jpg: 448x640 2 leaf_rusts, 8.7ms\n",
      "image 908/1739 /workspace/Plant-Pathology-Anotation-7/test/images/rust_test_535_jpg.rf.fce08e0588df48792e61ea3d30e8fbc9.jpg: 448x640 1 leaf_rust, 8.5ms\n",
      "image 909/1739 /workspace/Plant-Pathology-Anotation-7/test/images/rust_test_536_jpg.rf.d1d99e671e782ad04054baaa63383c2f.jpg: 448x640 1 leaf_rust, 8.8ms\n",
      "image 910/1739 /workspace/Plant-Pathology-Anotation-7/test/images/rust_test_537_jpg.rf.5f32139d4dda861cae8c2c5c2e1c5444.jpg: 448x640 1 leaf_rust, 8.3ms\n",
      "image 911/1739 /workspace/Plant-Pathology-Anotation-7/test/images/rust_test_538_jpg.rf.b2727df1e07c3957939f08ba7aff652c.jpg: 448x640 8 leaf_rusts, 8.7ms\n",
      "image 912/1739 /workspace/Plant-Pathology-Anotation-7/test/images/rust_test_539_jpg.rf.5dbb4016d833008ef1572137f289afd6.jpg: 448x640 2 leaf_rusts, 8.5ms\n",
      "image 913/1739 /workspace/Plant-Pathology-Anotation-7/test/images/rust_test_53_jpg.rf.1f64da1eedde45ec3d71ae6220b37725.jpg: 448x640 2 leaf_rusts, 9.2ms\n",
      "image 914/1739 /workspace/Plant-Pathology-Anotation-7/test/images/rust_test_540_jpg.rf.5fcd4b2c05feb6fe0490750883d21fbc.jpg: 448x640 2 leaf_rusts, 8.5ms\n",
      "image 915/1739 /workspace/Plant-Pathology-Anotation-7/test/images/rust_test_541_jpg.rf.8354db28497464917eae706d91a8419c.jpg: 448x640 2 leaf_rusts, 9.0ms\n",
      "image 916/1739 /workspace/Plant-Pathology-Anotation-7/test/images/rust_test_542_jpg.rf.c17e809cd707c6ba99d614c2c01db201.jpg: 448x640 1 leaf_rust, 8.3ms\n",
      "image 917/1739 /workspace/Plant-Pathology-Anotation-7/test/images/rust_test_543_jpg.rf.48dc961e6eb42b130deb4e746139b337.jpg: 448x640 1 leaf_rust, 8.3ms\n",
      "image 918/1739 /workspace/Plant-Pathology-Anotation-7/test/images/rust_test_544_jpg.rf.b87085b03f8176b7a57d9168fb583ab3.jpg: 448x640 3 leaf_rusts, 8.7ms\n",
      "image 919/1739 /workspace/Plant-Pathology-Anotation-7/test/images/rust_test_545_jpg.rf.f2d4e288f7e6591fea313866418a5c3e.jpg: 448x640 3 leaf_rusts, 8.5ms\n",
      "image 920/1739 /workspace/Plant-Pathology-Anotation-7/test/images/rust_test_546_jpg.rf.75e2db40c7e5f40af1991e12e24c1622.jpg: 448x640 6 leaf_rusts, 9.0ms\n",
      "image 921/1739 /workspace/Plant-Pathology-Anotation-7/test/images/rust_test_547_jpg.rf.f266c415c292900845a8a3233d581fef.jpg: 448x640 1 leaf_rust, 8.5ms\n",
      "image 922/1739 /workspace/Plant-Pathology-Anotation-7/test/images/rust_test_548_jpg.rf.40f5936c8ac5f20fff888a58a10f4243.jpg: 448x640 2 leaf_rusts, 1 leaf_scab, 8.7ms\n",
      "image 923/1739 /workspace/Plant-Pathology-Anotation-7/test/images/rust_test_549_jpg.rf.2b1c1b8332980303b4a6f4ca190ca764.jpg: 448x640 1 leaf_rust, 8.5ms\n",
      "image 924/1739 /workspace/Plant-Pathology-Anotation-7/test/images/rust_test_54_jpg.rf.1e75e0e7916dda02fa09744db5ec4fc3.jpg: 448x640 1 leaf_rust, 8.8ms\n",
      "image 925/1739 /workspace/Plant-Pathology-Anotation-7/test/images/rust_test_550_jpg.rf.f4026748fff8538f89627fe905d7335a.jpg: 448x640 1 leaf_rust, 8.6ms\n",
      "image 926/1739 /workspace/Plant-Pathology-Anotation-7/test/images/rust_test_551_jpg.rf.25b8ef10dd213e248f32e78102f4c788.jpg: 448x640 1 leaf_rust, 8.6ms\n",
      "image 927/1739 /workspace/Plant-Pathology-Anotation-7/test/images/rust_test_552_jpg.rf.3d40de43b407dc75342d3a804f1ff741.jpg: 448x640 1 leaf_rust, 8.6ms\n",
      "image 928/1739 /workspace/Plant-Pathology-Anotation-7/test/images/rust_test_553_jpg.rf.e9fe47a3f164482b8b6cde2de82f39d3.jpg: 448x640 1 leaf_rust, 8.6ms\n",
      "image 929/1739 /workspace/Plant-Pathology-Anotation-7/test/images/rust_test_554_jpg.rf.0c3f288d2cf5e89c0fd1a145fddc34fc.jpg: 448x640 3 leaf_rusts, 8.1ms\n",
      "image 930/1739 /workspace/Plant-Pathology-Anotation-7/test/images/rust_test_555_jpg.rf.22f63a2e2463aa022008ec0189e53e3d.jpg: 448x640 3 leaf_rusts, 8.4ms\n",
      "image 931/1739 /workspace/Plant-Pathology-Anotation-7/test/images/rust_test_556_jpg.rf.b8d0ec2faad09709d71f51a694b95a86.jpg: 448x640 1 leaf_rust, 8.9ms\n",
      "image 932/1739 /workspace/Plant-Pathology-Anotation-7/test/images/rust_test_557_jpg.rf.fb612e29b270b4070d5da2fb596934d1.jpg: 448x640 2 leaf_rusts, 8.5ms\n",
      "image 933/1739 /workspace/Plant-Pathology-Anotation-7/test/images/rust_test_558_jpg.rf.1b23563e6997a5c0133baa6e73823bad.jpg: 448x640 1 leaf_rust, 8.8ms\n",
      "image 934/1739 /workspace/Plant-Pathology-Anotation-7/test/images/rust_test_559_jpg.rf.1349eecbfbec9e3cea1eeb7458ab1b5c.jpg: 448x640 4 leaf_rusts, 9.5ms\n",
      "image 935/1739 /workspace/Plant-Pathology-Anotation-7/test/images/rust_test_55_jpg.rf.814f4f8eb22b5d8da2d64d27772ebce4.jpg: 448x640 3 leaf_rusts, 8.6ms\n",
      "image 936/1739 /workspace/Plant-Pathology-Anotation-7/test/images/rust_test_560_jpg.rf.c085f80d3a52ff607eafd18268f0c666.jpg: 448x640 1 leaf_rust, 9.1ms\n",
      "image 937/1739 /workspace/Plant-Pathology-Anotation-7/test/images/rust_test_561_jpg.rf.c3e8278e93b7a7f3000aed3006615986.jpg: 448x640 1 leaf_rust, 9.4ms\n",
      "image 938/1739 /workspace/Plant-Pathology-Anotation-7/test/images/rust_test_562_jpg.rf.e376f6816e69e243928dfd58dd476564.jpg: 448x640 1 leaf_rust, 9.0ms\n",
      "image 939/1739 /workspace/Plant-Pathology-Anotation-7/test/images/rust_test_563_jpg.rf.fa067907e408b34b84cb179af9c1348f.jpg: 448x640 2 leaf_rusts, 9.0ms\n",
      "image 940/1739 /workspace/Plant-Pathology-Anotation-7/test/images/rust_test_564_jpg.rf.b6d04753f7365db9b313003123fc7705.jpg: 448x640 1 leaf_rust, 8.7ms\n",
      "image 941/1739 /workspace/Plant-Pathology-Anotation-7/test/images/rust_test_565_jpg.rf.5dad2d413ef1b201d7ec67e6208e2b02.jpg: 448x640 3 leaf_rusts, 9.0ms\n",
      "image 942/1739 /workspace/Plant-Pathology-Anotation-7/test/images/rust_test_566_jpg.rf.ab4182b18817394c2f3e08bdcba2b870.jpg: 448x640 2 leaf_rusts, 1 leaf_scab, 8.7ms\n",
      "image 943/1739 /workspace/Plant-Pathology-Anotation-7/test/images/rust_test_567_jpg.rf.ffc165eb788453c2b9d535f13abfadbe.jpg: 448x640 2 leaf_rusts, 1 leaf_scab, 8.7ms\n",
      "image 944/1739 /workspace/Plant-Pathology-Anotation-7/test/images/rust_test_568_jpg.rf.53806e694e1b1e5692c86a8feb349fd1.jpg: 448x640 1 leaf_rust, 9.4ms\n",
      "image 945/1739 /workspace/Plant-Pathology-Anotation-7/test/images/rust_test_569_jpg.rf.b9bd14643f941e25e105532d63ef1832.jpg: 448x640 3 leaf_rusts, 8.9ms\n",
      "image 946/1739 /workspace/Plant-Pathology-Anotation-7/test/images/rust_test_56_jpg.rf.9c18b9cf36b49977d8c7d8f4c35cc811.jpg: 448x640 1 leaf_rust, 3 leaf_scabs, 8.7ms\n",
      "image 947/1739 /workspace/Plant-Pathology-Anotation-7/test/images/rust_test_570_jpg.rf.b313b9b85591cd570f464bb979cafb6d.jpg: 448x640 1 leaf_rust, 9.0ms\n",
      "image 948/1739 /workspace/Plant-Pathology-Anotation-7/test/images/rust_test_571_jpg.rf.cbd426b0d4268ba2925834de28815940.jpg: 448x640 1 leaf_rust, 8.8ms\n",
      "image 949/1739 /workspace/Plant-Pathology-Anotation-7/test/images/rust_test_572_jpg.rf.33209ca286af8ff02e79b35b79ef003b.jpg: 448x640 1 leaf_rust, 8.9ms\n",
      "image 950/1739 /workspace/Plant-Pathology-Anotation-7/test/images/rust_test_573_jpg.rf.005e70c3cf9c16aab58f697d56b134c1.jpg: 448x640 1 leaf_rust, 9.0ms\n",
      "image 951/1739 /workspace/Plant-Pathology-Anotation-7/test/images/rust_test_574_jpg.rf.80b8bd743f2a2a36cba04c770d9f378d.jpg: 448x640 2 leaf_rusts, 8.8ms\n",
      "image 952/1739 /workspace/Plant-Pathology-Anotation-7/test/images/rust_test_575_jpg.rf.0f49bc8153545b74251a98fa05fc4c83.jpg: 448x640 1 leaf_rust, 8.6ms\n",
      "image 953/1739 /workspace/Plant-Pathology-Anotation-7/test/images/rust_test_576_jpg.rf.3e4bc40718ec09c81bdd048497cec420.jpg: 448x640 1 leaf_rust, 9.0ms\n",
      "image 954/1739 /workspace/Plant-Pathology-Anotation-7/test/images/rust_test_577_jpg.rf.d639952736964d2ef8bf68d83e39d474.jpg: 448x640 1 leaf_rust, 8.7ms\n",
      "image 955/1739 /workspace/Plant-Pathology-Anotation-7/test/images/rust_test_578_jpg.rf.58ad521cde0816a7f69870d4ef274a48.jpg: 448x640 1 leaf_rust, 8.9ms\n",
      "image 956/1739 /workspace/Plant-Pathology-Anotation-7/test/images/rust_test_579_jpg.rf.579d23f860938a1e758220b2b710dffa.jpg: 448x640 2 leaf_rusts, 8.8ms\n",
      "image 957/1739 /workspace/Plant-Pathology-Anotation-7/test/images/rust_test_57_jpg.rf.5d39627e2e3aaa5252d2cf9700ccd78a.jpg: 448x640 1 leaf_rust, 8.6ms\n",
      "image 958/1739 /workspace/Plant-Pathology-Anotation-7/test/images/rust_test_580_jpg.rf.5c5028ef8ee5f3c9bc0106c8541a8ac0.jpg: 448x640 1 leaf_scab, 8.9ms\n",
      "image 959/1739 /workspace/Plant-Pathology-Anotation-7/test/images/rust_test_581_jpg.rf.f038aca7e7bfc9c6174bfbba1872db6a.jpg: 448x640 1 leaf_rust, 8.8ms\n",
      "image 960/1739 /workspace/Plant-Pathology-Anotation-7/test/images/rust_test_582_jpg.rf.78b272920abb16fe9a588e11b2966754.jpg: 448x640 1 leaf_rust, 8.9ms\n",
      "image 961/1739 /workspace/Plant-Pathology-Anotation-7/test/images/rust_test_583_jpg.rf.59976a62af65eb42816a50a991bc1ea8.jpg: 448x640 1 leaf_rust, 8.7ms\n",
      "image 962/1739 /workspace/Plant-Pathology-Anotation-7/test/images/rust_test_584_jpg.rf.35f0e349419033817eb93c9184082d0a.jpg: 448x640 4 leaf_rusts, 8.8ms\n",
      "image 963/1739 /workspace/Plant-Pathology-Anotation-7/test/images/rust_test_585_jpg.rf.8b6fefdabac2b2360f8c23ddbc3ed822.jpg: 448x640 2 leaf_rusts, 8.6ms\n",
      "image 964/1739 /workspace/Plant-Pathology-Anotation-7/test/images/rust_test_586_jpg.rf.13d15493afe2d9aa8fa1d9517ba258f5.jpg: 448x640 1 leaf_rust, 9.4ms\n",
      "image 965/1739 /workspace/Plant-Pathology-Anotation-7/test/images/rust_test_587_jpg.rf.9066e5ad837ff914d561cb4139eed000.jpg: 448x640 1 leaf_rust, 8.9ms\n",
      "image 966/1739 /workspace/Plant-Pathology-Anotation-7/test/images/rust_test_588_jpg.rf.ddc30b55cf0ee38bbc21c8fd876667bc.jpg: 448x640 4 leaf_rusts, 8.6ms\n",
      "image 967/1739 /workspace/Plant-Pathology-Anotation-7/test/images/rust_test_589_jpg.rf.00f68b1b9c7aca3e70959e1e7e424879.jpg: 448x640 4 leaf_rusts, 9.2ms\n",
      "image 968/1739 /workspace/Plant-Pathology-Anotation-7/test/images/rust_test_58_jpg.rf.504265f20ccc7f19645f25fcb532e55f.jpg: 448x640 1 leaf_rust, 8.7ms\n",
      "image 969/1739 /workspace/Plant-Pathology-Anotation-7/test/images/rust_test_590_jpg.rf.a0e05d05315a9d75e505f729ad7da6ae.jpg: 448x640 1 leaf_rust, 9.3ms\n",
      "image 970/1739 /workspace/Plant-Pathology-Anotation-7/test/images/rust_test_591_jpg.rf.b3bf710d0cec022d78bb7e43a2b39d59.jpg: 448x640 5 leaf_rusts, 9.5ms\n",
      "image 971/1739 /workspace/Plant-Pathology-Anotation-7/test/images/rust_test_592_jpg.rf.834c0256c4d4a9573fa5f9e45ec19852.jpg: 448x640 1 leaf_rust, 8.9ms\n",
      "image 972/1739 /workspace/Plant-Pathology-Anotation-7/test/images/rust_test_593_jpg.rf.b7f273b2c8153d9c358446f888feecab.jpg: 448x640 1 leaf_rust, 8.7ms\n",
      "image 973/1739 /workspace/Plant-Pathology-Anotation-7/test/images/rust_test_594_jpg.rf.1165a762b43ed922b16ed19177bfcd04.jpg: 448x640 2 leaf_rusts, 10.9ms\n",
      "image 974/1739 /workspace/Plant-Pathology-Anotation-7/test/images/rust_test_595_jpg.rf.c3b4cfd82bcab371a2cfb07040e2f39e.jpg: 448x640 2 leaf_rusts, 10.1ms\n",
      "image 975/1739 /workspace/Plant-Pathology-Anotation-7/test/images/rust_test_596_jpg.rf.67cffc3fc0059604bf72757229030cfc.jpg: 448x640 2 leaf_rusts, 1 leaf_scab, 10.9ms\n",
      "image 976/1739 /workspace/Plant-Pathology-Anotation-7/test/images/rust_test_597_jpg.rf.35b6ceb02b776f8208348add6d2f1498.jpg: 448x640 1 leaf_rust, 9.9ms\n",
      "image 977/1739 /workspace/Plant-Pathology-Anotation-7/test/images/rust_test_598_jpg.rf.27fd74e2dddd8446385214c5fcd871c1.jpg: 448x640 4 leaf_rusts, 10.5ms\n",
      "image 978/1739 /workspace/Plant-Pathology-Anotation-7/test/images/rust_test_599_jpg.rf.c4bec5fc682c5028d2d58ae4376cc376.jpg: 448x640 2 leaf_rusts, 10.0ms\n",
      "image 979/1739 /workspace/Plant-Pathology-Anotation-7/test/images/rust_test_59_jpg.rf.171c1babca22152abe2bbdf1df2aff05.jpg: 448x640 1 leaf_rust, 10.6ms\n",
      "image 980/1739 /workspace/Plant-Pathology-Anotation-7/test/images/rust_test_5_jpg.rf.ed8c79ea80abdb16ac0d6988193d4146.jpg: 448x640 1 leaf_rust, 9.3ms\n",
      "image 981/1739 /workspace/Plant-Pathology-Anotation-7/test/images/rust_test_600_jpg.rf.dd7834b79bc5ce65dc948d762c3e710f.jpg: 448x640 1 leaf_rust, 10.0ms\n",
      "image 982/1739 /workspace/Plant-Pathology-Anotation-7/test/images/rust_test_601_jpg.rf.72a46b80991cba7deb7901a5e67d8ba6.jpg: 448x640 5 leaf_rusts, 8.3ms\n",
      "image 983/1739 /workspace/Plant-Pathology-Anotation-7/test/images/rust_test_602_jpg.rf.e65077bccaa504a62edefc19c298e787.jpg: 448x640 2 leaf_rusts, 9.2ms\n",
      "image 984/1739 /workspace/Plant-Pathology-Anotation-7/test/images/rust_test_603_jpg.rf.d2a965d9c2197bba04c160f85917e1f3.jpg: 448x640 2 leaf_rusts, 10.0ms\n",
      "image 985/1739 /workspace/Plant-Pathology-Anotation-7/test/images/rust_test_604_jpg.rf.5f752ed949436c58317767cbcc1c36ef.jpg: 448x640 2 leaf_rusts, 10.4ms\n",
      "image 986/1739 /workspace/Plant-Pathology-Anotation-7/test/images/rust_test_605_jpg.rf.bf4d80e369e27ca1f5ae2355f3beaffe.jpg: 448x640 1 leaf_rust, 8.6ms\n",
      "image 987/1739 /workspace/Plant-Pathology-Anotation-7/test/images/rust_test_606_jpg.rf.497afd908e7d3f825a784a3b963c2814.jpg: 448x640 2 leaf_rusts, 8.7ms\n",
      "image 988/1739 /workspace/Plant-Pathology-Anotation-7/test/images/rust_test_607_jpg.rf.e74082ddae7d02dd6af58c0a75cb30a9.jpg: 448x640 1 leaf_rust, 8.6ms\n",
      "image 989/1739 /workspace/Plant-Pathology-Anotation-7/test/images/rust_test_608_jpg.rf.0e252a77e041fa204ffa15eae7167c36.jpg: 448x640 3 leaf_rusts, 8.9ms\n",
      "image 990/1739 /workspace/Plant-Pathology-Anotation-7/test/images/rust_test_609_jpg.rf.562037bbe5c778f7a198a9268fda7db5.jpg: 448x640 1 leaf_rust, 8.7ms\n",
      "image 991/1739 /workspace/Plant-Pathology-Anotation-7/test/images/rust_test_60_jpg.rf.11438a68004d4f789d20fe474865f56e.jpg: 448x640 1 leaf_rust, 8.9ms\n",
      "image 992/1739 /workspace/Plant-Pathology-Anotation-7/test/images/rust_test_610_jpg.rf.876e8296e867e0fb4e7bdfd42ef3b200.jpg: 448x640 1 leaf_rust, 8.8ms\n",
      "image 993/1739 /workspace/Plant-Pathology-Anotation-7/test/images/rust_test_611_jpg.rf.20cbce320fda258944e05816f5ce9970.jpg: 448x640 1 leaf_rust, 8.6ms\n",
      "image 994/1739 /workspace/Plant-Pathology-Anotation-7/test/images/rust_test_612_jpg.rf.da37bed2a78eaeb2c6faff1cf7585ad0.jpg: 448x640 3 leaf_rusts, 8.9ms\n",
      "image 995/1739 /workspace/Plant-Pathology-Anotation-7/test/images/rust_test_613_jpg.rf.2332e9f5a006f2d9153f833b19e2b142.jpg: 448x640 1 leaf_rust, 8.8ms\n",
      "image 996/1739 /workspace/Plant-Pathology-Anotation-7/test/images/rust_test_614_jpg.rf.e9775ca54d8b5edd3d5915b7707b84e5.jpg: 448x640 1 leaf_healthy, 1 leaf_rust, 9.1ms\n",
      "image 997/1739 /workspace/Plant-Pathology-Anotation-7/test/images/rust_test_615_jpg.rf.ba20728b1795a480c655fc75c894d528.jpg: 448x640 1 leaf_rust, 8.7ms\n",
      "image 998/1739 /workspace/Plant-Pathology-Anotation-7/test/images/rust_test_616_jpg.rf.5d7a19c7cf8d67c4e11e8bc0c78c4d8e.jpg: 448x640 1 leaf_rust, 8.8ms\n",
      "image 999/1739 /workspace/Plant-Pathology-Anotation-7/test/images/rust_test_617_jpg.rf.560b4a0db91cd2457759354c324dc1cb.jpg: 448x640 1 leaf_rust, 8.6ms\n",
      "image 1000/1739 /workspace/Plant-Pathology-Anotation-7/test/images/rust_test_618_jpg.rf.e5e86a280f95f632fe41aaf980aef150.jpg: 448x640 1 leaf_rust, 8.5ms\n",
      "image 1001/1739 /workspace/Plant-Pathology-Anotation-7/test/images/rust_test_619_jpg.rf.9ce28a42cb79fcfa72005954e92322f0.jpg: 448x640 1 leaf_rust, 10.0ms\n",
      "image 1002/1739 /workspace/Plant-Pathology-Anotation-7/test/images/rust_test_61_jpg.rf.c888d62ffd8f9f785630550551557e5b.jpg: 448x640 3 leaf_rusts, 8.8ms\n",
      "image 1003/1739 /workspace/Plant-Pathology-Anotation-7/test/images/rust_test_620_jpg.rf.95b61c44623289aafbe83dd00f7207d3.jpg: 448x640 1 leaf_rust, 8.6ms\n",
      "image 1004/1739 /workspace/Plant-Pathology-Anotation-7/test/images/rust_test_621_jpg.rf.ae32ddd5563c5fc1011389c54f0079a8.jpg: 448x640 1 leaf_rust, 9.1ms\n",
      "image 1005/1739 /workspace/Plant-Pathology-Anotation-7/test/images/rust_test_622_jpg.rf.385a7e1a75e04ffc82fa770e81233ae4.jpg: 448x640 1 leaf_rust, 8.8ms\n",
      "image 1006/1739 /workspace/Plant-Pathology-Anotation-7/test/images/rust_test_623_jpg.rf.2df06abbe57e62faaeead14641e640e2.jpg: 448x640 1 leaf_rust, 8.7ms\n",
      "image 1007/1739 /workspace/Plant-Pathology-Anotation-7/test/images/rust_test_624_jpg.rf.c1647dc0c743c2e71e51dfa5e32f6d5d.jpg: 448x640 1 leaf_rust, 8.8ms\n",
      "image 1008/1739 /workspace/Plant-Pathology-Anotation-7/test/images/rust_test_625_jpg.rf.ba5c8702be4fb8171cfd39e9a02ddd59.jpg: 448x640 2 leaf_rusts, 1 leaf_scab, 8.5ms\n",
      "image 1009/1739 /workspace/Plant-Pathology-Anotation-7/test/images/rust_test_626_jpg.rf.aef3d96c03798f96f4a1bb4695dadc33.jpg: 448x640 1 leaf_rust, 1 leaf_scab, 8.5ms\n",
      "image 1010/1739 /workspace/Plant-Pathology-Anotation-7/test/images/rust_test_627_jpg.rf.11876c4b0a576619db7f78de1b3caef5.jpg: 448x640 2 leaf_rusts, 9.3ms\n",
      "image 1011/1739 /workspace/Plant-Pathology-Anotation-7/test/images/rust_test_628_jpg.rf.512b5eca54c446607daabb63949cdcf1.jpg: 448x640 2 leaf_rusts, 8.6ms\n",
      "image 1012/1739 /workspace/Plant-Pathology-Anotation-7/test/images/rust_test_629_jpg.rf.3919345d6393f108bb66c0cd1204555e.jpg: 448x640 1 leaf_rust, 9.5ms\n",
      "image 1013/1739 /workspace/Plant-Pathology-Anotation-7/test/images/rust_test_62_jpg.rf.36ea9d4041ed2d3c4b0183abfea4c456.jpg: 448x640 1 leaf_rust, 8.5ms\n",
      "image 1014/1739 /workspace/Plant-Pathology-Anotation-7/test/images/rust_test_630_jpg.rf.e8e366b779e2e3654366d22115c445e5.jpg: 448x640 3 leaf_rusts, 8.7ms\n",
      "image 1015/1739 /workspace/Plant-Pathology-Anotation-7/test/images/rust_test_631_jpg.rf.c93c63700954724fd1c09c6ee97cbfac.jpg: 448x640 1 leaf_rust, 8.6ms\n",
      "image 1016/1739 /workspace/Plant-Pathology-Anotation-7/test/images/rust_test_632_jpg.rf.2e18540c96be9ce933b5e416b9123052.jpg: 448x640 1 leaf_rust, 9.0ms\n",
      "image 1017/1739 /workspace/Plant-Pathology-Anotation-7/test/images/rust_test_633_jpg.rf.a0114b72414efa7479b44f0792d29d9e.jpg: 448x640 3 leaf_rusts, 8.5ms\n",
      "image 1018/1739 /workspace/Plant-Pathology-Anotation-7/test/images/rust_test_634_jpg.rf.dc18dbb2964cb1683a0e686ede56b01e.jpg: 448x640 2 leaf_rusts, 8.5ms\n",
      "image 1019/1739 /workspace/Plant-Pathology-Anotation-7/test/images/rust_test_635_jpg.rf.44941f420be7c034a8adee30471fb257.jpg: 448x640 1 leaf_rust, 8.9ms\n",
      "image 1020/1739 /workspace/Plant-Pathology-Anotation-7/test/images/rust_test_636_jpg.rf.217f788e9e6d5ef14cd6221affae0c70.jpg: 448x640 1 leaf_rust, 8.5ms\n",
      "image 1021/1739 /workspace/Plant-Pathology-Anotation-7/test/images/rust_test_637_jpg.rf.6ff774888e6288dd4f7c21798c761f1e.jpg: 448x640 7 leaf_rusts, 8.7ms\n",
      "image 1022/1739 /workspace/Plant-Pathology-Anotation-7/test/images/rust_test_638_jpg.rf.03b9ffad0a425b5a84051d5dada3c246.jpg: 448x640 6 leaf_rusts, 8.6ms\n",
      "image 1023/1739 /workspace/Plant-Pathology-Anotation-7/test/images/rust_test_639_jpg.rf.5dc10fda10d637e72b0804388f582bfd.jpg: 448x640 2 leaf_rusts, 8.5ms\n",
      "image 1024/1739 /workspace/Plant-Pathology-Anotation-7/test/images/rust_test_63_jpg.rf.60afd34eedb5ee7a1462e54e2e4cec48.jpg: 448x640 1 leaf_rust, 8.6ms\n",
      "image 1025/1739 /workspace/Plant-Pathology-Anotation-7/test/images/rust_test_640_jpg.rf.55bb8bbb15e92cfc20311b37d1d616ce.jpg: 448x640 1 leaf_rust, 9.0ms\n",
      "image 1026/1739 /workspace/Plant-Pathology-Anotation-7/test/images/rust_test_641_jpg.rf.fe78ca9de47071e3e38dd96c0721eb63.jpg: 448x640 2 leaf_rusts, 8.7ms\n",
      "image 1027/1739 /workspace/Plant-Pathology-Anotation-7/test/images/rust_test_642_jpg.rf.2c0e2700531355fa8373ecf391dec514.jpg: 448x640 2 leaf_rusts, 8.5ms\n",
      "image 1028/1739 /workspace/Plant-Pathology-Anotation-7/test/images/rust_test_643_jpg.rf.8c6c52f4c86225282eead4825150d6ee.jpg: 448x640 1 leaf_rust, 9.0ms\n",
      "image 1029/1739 /workspace/Plant-Pathology-Anotation-7/test/images/rust_test_644_jpg.rf.09ea25f41cfeea7b9f354df6095efb0e.jpg: 448x640 2 leaf_rusts, 8.6ms\n",
      "image 1030/1739 /workspace/Plant-Pathology-Anotation-7/test/images/rust_test_645_jpg.rf.0f9ad8990f02bd704a528aecdbb24703.jpg: 448x640 2 leaf_rusts, 8.8ms\n",
      "image 1031/1739 /workspace/Plant-Pathology-Anotation-7/test/images/rust_test_646_jpg.rf.135844740892f7c8a87126727177dc24.jpg: 448x640 1 leaf_rust, 8.6ms\n",
      "image 1032/1739 /workspace/Plant-Pathology-Anotation-7/test/images/rust_test_647_jpg.rf.c82411d5d0a7ecd7192672f381dbfa4e.jpg: 448x640 1 leaf_rust, 8.8ms\n",
      "image 1033/1739 /workspace/Plant-Pathology-Anotation-7/test/images/rust_test_648_jpg.rf.23673dc92d283bba12e2a5dd00dd6a32.jpg: 448x640 2 leaf_rusts, 8.7ms\n",
      "image 1034/1739 /workspace/Plant-Pathology-Anotation-7/test/images/rust_test_649_jpg.rf.e8c6eb368936db3c7ad3e25c6c6a6a05.jpg: 448x640 1 leaf_rust, 8.5ms\n",
      "image 1035/1739 /workspace/Plant-Pathology-Anotation-7/test/images/rust_test_64_jpg.rf.c6a8ad7e3864c5172058be9f8f7437bc.jpg: 448x640 3 leaf_rusts, 8.9ms\n",
      "image 1036/1739 /workspace/Plant-Pathology-Anotation-7/test/images/rust_test_650_jpg.rf.8320a2c242ad675333d31ae1084cd4d6.jpg: 448x640 1 leaf_rust, 8.5ms\n",
      "image 1037/1739 /workspace/Plant-Pathology-Anotation-7/test/images/rust_test_651_jpg.rf.9e9e7a9025018db47cbf791236f64544.jpg: 448x640 1 leaf_rust, 8.7ms\n",
      "image 1038/1739 /workspace/Plant-Pathology-Anotation-7/test/images/rust_test_652_jpg.rf.d634fd51732d798ecb8378edb36bfbe3.jpg: 448x640 1 leaf_rust, 8.8ms\n",
      "image 1039/1739 /workspace/Plant-Pathology-Anotation-7/test/images/rust_test_653_jpg.rf.759b96dadcadd198601bdf94d8cddbb3.jpg: 448x640 1 leaf_rust, 9.1ms\n",
      "image 1040/1739 /workspace/Plant-Pathology-Anotation-7/test/images/rust_test_654_jpg.rf.7273f99d3e6873b461f6566fc7ce82b8.jpg: 448x640 1 leaf_rust, 8.7ms\n",
      "image 1041/1739 /workspace/Plant-Pathology-Anotation-7/test/images/rust_test_655_jpg.rf.b5d77ad87e6035e41692f1cf9f178ceb.jpg: 448x640 1 leaf_rust, 8.4ms\n",
      "image 1042/1739 /workspace/Plant-Pathology-Anotation-7/test/images/rust_test_656_jpg.rf.30417ff9a2eb25be6e2f4ab56f56d29d.jpg: 448x640 3 leaf_rusts, 8.8ms\n",
      "image 1043/1739 /workspace/Plant-Pathology-Anotation-7/test/images/rust_test_657_jpg.rf.f617d6122bb041ce758c147625e41b77.jpg: 448x640 1 leaf_rust, 1 leaf_scab, 8.5ms\n",
      "image 1044/1739 /workspace/Plant-Pathology-Anotation-7/test/images/rust_test_658_jpg.rf.aed0dd86fad8433879819028d1b32038.jpg: 448x640 1 leaf_rust, 8.9ms\n",
      "image 1045/1739 /workspace/Plant-Pathology-Anotation-7/test/images/rust_test_659_jpg.rf.3ceccf7a187256ef9e90cf8a078b2057.jpg: 448x640 1 leaf_rust, 1 leaf_scab, 8.5ms\n",
      "image 1046/1739 /workspace/Plant-Pathology-Anotation-7/test/images/rust_test_65_jpg.rf.1a035dabdc59cf7bf3724e9e0a3d303b.jpg: 448x640 1 leaf_rust, 8.5ms\n",
      "image 1047/1739 /workspace/Plant-Pathology-Anotation-7/test/images/rust_test_660_jpg.rf.f87f0f08fb3e465d46a047891d7f28bf.jpg: 448x640 4 leaf_rusts, 8.7ms\n",
      "image 1048/1739 /workspace/Plant-Pathology-Anotation-7/test/images/rust_test_661_jpg.rf.dfadde49942a7d18e6ae58668d2fbc7b.jpg: 448x640 3 leaf_rusts, 8.5ms\n",
      "image 1049/1739 /workspace/Plant-Pathology-Anotation-7/test/images/rust_test_662_jpg.rf.13fc52a0b86d451379ffe66bf082c539.jpg: 448x640 1 leaf_rust, 8.9ms\n",
      "image 1050/1739 /workspace/Plant-Pathology-Anotation-7/test/images/rust_test_663_jpg.rf.722c7c4c08eed3f4fbb0837960adb827.jpg: 448x640 1 leaf_rust, 8.8ms\n",
      "image 1051/1739 /workspace/Plant-Pathology-Anotation-7/test/images/rust_test_664_jpg.rf.8b93d7d56b59721343e3bd0057778191.jpg: 448x640 1 leaf_rust, 8.7ms\n",
      "image 1052/1739 /workspace/Plant-Pathology-Anotation-7/test/images/rust_test_665_jpg.rf.583936b926260f9d39814664ea62f557.jpg: 448x640 1 leaf_rust, 8.4ms\n",
      "image 1053/1739 /workspace/Plant-Pathology-Anotation-7/test/images/rust_test_666_jpg.rf.5fb15dee8fd49c33246c292103c1e9be.jpg: 448x640 2 leaf_rusts, 8.9ms\n",
      "image 1054/1739 /workspace/Plant-Pathology-Anotation-7/test/images/rust_test_667_jpg.rf.0ab02043f8d73ada1291414ca0634188.jpg: 448x640 1 leaf_rust, 8.7ms\n",
      "image 1055/1739 /workspace/Plant-Pathology-Anotation-7/test/images/rust_test_668_jpg.rf.e302809a8f283f866941b381ef550bf6.jpg: 448x640 1 leaf_rust, 8.9ms\n",
      "image 1056/1739 /workspace/Plant-Pathology-Anotation-7/test/images/rust_test_669_jpg.rf.4f2ef7f73b9a755992c6fa32ac7e80cc.jpg: 448x640 1 leaf_rust, 8.7ms\n",
      "image 1057/1739 /workspace/Plant-Pathology-Anotation-7/test/images/rust_test_66_jpg.rf.bf5b53c70e5dd67cc9f6e0ecf1927afb.jpg: 448x640 1 leaf_rust, 8.7ms\n",
      "image 1058/1739 /workspace/Plant-Pathology-Anotation-7/test/images/rust_test_670_jpg.rf.581e7bd35b96e250cbd471d566445250.jpg: 448x640 1 leaf_rust, 8.6ms\n",
      "image 1059/1739 /workspace/Plant-Pathology-Anotation-7/test/images/rust_test_671_jpg.rf.2cb4747f3cfd93199cc4aca987186f8a.jpg: 448x640 1 leaf_rust, 8.6ms\n",
      "image 1060/1739 /workspace/Plant-Pathology-Anotation-7/test/images/rust_test_672_jpg.rf.436e11268041d54dd436b07c73afbdf5.jpg: 448x640 1 leaf_rust, 8.7ms\n",
      "image 1061/1739 /workspace/Plant-Pathology-Anotation-7/test/images/rust_test_673_jpg.rf.4a151a642ffa3d14233940c27c07a4d2.jpg: 448x640 3 leaf_rusts, 8.7ms\n",
      "image 1062/1739 /workspace/Plant-Pathology-Anotation-7/test/images/rust_test_674_jpg.rf.d34822206e74026de56007e5812ee131.jpg: 448x640 1 leaf_rust, 8.5ms\n",
      "image 1063/1739 /workspace/Plant-Pathology-Anotation-7/test/images/rust_test_675_jpg.rf.c3115f27172532f37adde28676a5bd67.jpg: 448x640 1 leaf_rust, 9.0ms\n",
      "image 1064/1739 /workspace/Plant-Pathology-Anotation-7/test/images/rust_test_676_jpg.rf.6034a8f4a59432cfc7539300196e2fbb.jpg: 448x640 1 leaf_rust, 8.8ms\n",
      "image 1065/1739 /workspace/Plant-Pathology-Anotation-7/test/images/rust_test_677_jpg.rf.7a1957d9bdfefe5af8767124bb5df8f9.jpg: 448x640 1 leaf_rust, 8.5ms\n",
      "image 1066/1739 /workspace/Plant-Pathology-Anotation-7/test/images/rust_test_678_jpg.rf.1d155f7948a447dbd837164779bbce90.jpg: 448x640 1 leaf_rust, 8.7ms\n",
      "image 1067/1739 /workspace/Plant-Pathology-Anotation-7/test/images/rust_test_679_jpg.rf.2f08071739b1f6981070695b3ce8bb6d.jpg: 448x640 5 leaf_rusts, 8.7ms\n",
      "image 1068/1739 /workspace/Plant-Pathology-Anotation-7/test/images/rust_test_67_jpg.rf.69608846267312b3b700429e284837ad.jpg: 448x640 2 leaf_rusts, 8.5ms\n",
      "image 1069/1739 /workspace/Plant-Pathology-Anotation-7/test/images/rust_test_680_jpg.rf.ff993a7c2fd843cb2081d28e9eab8e6d.jpg: 448x640 1 leaf_rust, 8.8ms\n",
      "image 1070/1739 /workspace/Plant-Pathology-Anotation-7/test/images/rust_test_681_jpg.rf.a276a0a394ce790ca9ab349ee1beff83.jpg: 448x640 1 leaf_rust, 8.7ms\n",
      "image 1071/1739 /workspace/Plant-Pathology-Anotation-7/test/images/rust_test_682_jpg.rf.e94df8c0853dcb38e1e0f3aca505c60b.jpg: 448x640 2 leaf_rusts, 8.7ms\n",
      "image 1072/1739 /workspace/Plant-Pathology-Anotation-7/test/images/rust_test_683_jpg.rf.e73fd9439e7fc2cec995c5aa49271ea7.jpg: 448x640 2 leaf_rusts, 8.6ms\n",
      "image 1073/1739 /workspace/Plant-Pathology-Anotation-7/test/images/rust_test_684_jpg.rf.1a50c7b0725eca41ee9bd5aab4449b5e.jpg: 448x640 1 leaf_rust, 9.3ms\n",
      "image 1074/1739 /workspace/Plant-Pathology-Anotation-7/test/images/rust_test_685_jpg.rf.136294ab892ff4dfd79f992aa825765a.jpg: 448x640 3 leaf_rusts, 8.8ms\n",
      "image 1075/1739 /workspace/Plant-Pathology-Anotation-7/test/images/rust_test_686_jpg.rf.34a81481d17edd79c97772e602569f0b.jpg: 448x640 2 leaf_rusts, 8.6ms\n",
      "image 1076/1739 /workspace/Plant-Pathology-Anotation-7/test/images/rust_test_687_jpg.rf.dc56b0dea5de7a1d6837c5b0b57e08db.jpg: 448x640 6 leaf_rusts, 9.2ms\n",
      "image 1077/1739 /workspace/Plant-Pathology-Anotation-7/test/images/rust_test_688_jpg.rf.ae7302e751d6431ee0fac8205df5033a.jpg: 448x640 2 leaf_rusts, 1 leaf_scab, 8.1ms\n",
      "image 1078/1739 /workspace/Plant-Pathology-Anotation-7/test/images/rust_test_689_jpg.rf.e64891682a3f406297ee72342f2ff43e.jpg: 448x640 1 leaf_rust, 9.2ms\n",
      "image 1079/1739 /workspace/Plant-Pathology-Anotation-7/test/images/rust_test_68_jpg.rf.45faee65dc710b3e321f9c1229421262.jpg: 448x640 2 leaf_rusts, 8.7ms\n",
      "image 1080/1739 /workspace/Plant-Pathology-Anotation-7/test/images/rust_test_690_jpg.rf.ebac150ef766f3ccd1fae77cd31205d5.jpg: 448x640 2 leaf_rusts, 8.6ms\n",
      "image 1081/1739 /workspace/Plant-Pathology-Anotation-7/test/images/rust_test_691_jpg.rf.46a79f2f6ad2aaf49e4f0efb39bb8c8d.jpg: 448x640 1 leaf_rust, 9.0ms\n",
      "image 1082/1739 /workspace/Plant-Pathology-Anotation-7/test/images/rust_test_692_jpg.rf.2ceb8feafb4fee2b41477d0c699a6b66.jpg: 448x640 2 leaf_rusts, 8.8ms\n",
      "image 1083/1739 /workspace/Plant-Pathology-Anotation-7/test/images/rust_test_693_jpg.rf.b3591d9ddd33bfe8a84c2d75260d2f94.jpg: 448x640 3 leaf_rusts, 8.6ms\n",
      "image 1084/1739 /workspace/Plant-Pathology-Anotation-7/test/images/rust_test_694_jpg.rf.44cb17193d6137747e679f090edec5db.jpg: 448x640 1 leaf_rust, 9.3ms\n",
      "image 1085/1739 /workspace/Plant-Pathology-Anotation-7/test/images/rust_test_695_jpg.rf.1222298ac791679cb2fca57fc5108296.jpg: 448x640 1 leaf_rust, 8.5ms\n",
      "image 1086/1739 /workspace/Plant-Pathology-Anotation-7/test/images/rust_test_696_jpg.rf.afb8c0033d17550d33e43e325ba68219.jpg: 448x640 1 leaf_rust, 8.7ms\n",
      "image 1087/1739 /workspace/Plant-Pathology-Anotation-7/test/images/rust_test_697_jpg.rf.e2292db25f440b11329be9581cf0bdcd.jpg: 448x640 2 leaf_rusts, 8.7ms\n",
      "image 1088/1739 /workspace/Plant-Pathology-Anotation-7/test/images/rust_test_698_jpg.rf.cc8e19a0bec449202b398e0cafd65b87.jpg: 448x640 1 leaf_healthy, 1 leaf_rust, 8.5ms\n",
      "image 1089/1739 /workspace/Plant-Pathology-Anotation-7/test/images/rust_test_699_jpg.rf.2541bb9705bdbdfc1437b6afd1d004f0.jpg: 448x640 2 leaf_rusts, 8.8ms\n",
      "image 1090/1739 /workspace/Plant-Pathology-Anotation-7/test/images/rust_test_69_jpg.rf.1c69fdb1b2a70d3c476eaaaa23a9224e.jpg: 448x640 6 leaf_rusts, 8.5ms\n",
      "image 1091/1739 /workspace/Plant-Pathology-Anotation-7/test/images/rust_test_6_jpg.rf.35da24b3e03a5957337ea89d9df4e916.jpg: 448x640 1 leaf_rust, 9.3ms\n",
      "image 1092/1739 /workspace/Plant-Pathology-Anotation-7/test/images/rust_test_700_jpg.rf.5b4d799b23a0836e12c471fe88d1c56f.jpg: 448x640 1 leaf_rust, 8.6ms\n",
      "image 1093/1739 /workspace/Plant-Pathology-Anotation-7/test/images/rust_test_701_jpg.rf.172849a8a36822be6d8a5e17a788135b.jpg: 448x640 1 leaf_rust, 8.7ms\n",
      "image 1094/1739 /workspace/Plant-Pathology-Anotation-7/test/images/rust_test_702_jpg.rf.b57dcc18aba4c5117b8e0bc0c736ad83.jpg: 448x640 1 leaf_rust, 8.7ms\n",
      "image 1095/1739 /workspace/Plant-Pathology-Anotation-7/test/images/rust_test_703_jpg.rf.3e30b01b9e5315e84e3294c04fb72f59.jpg: 448x640 2 leaf_rusts, 8.7ms\n",
      "image 1096/1739 /workspace/Plant-Pathology-Anotation-7/test/images/rust_test_704_jpg.rf.0340c9f6940dbb4f8b0645a5de062db1.jpg: 448x640 1 leaf_rust, 8.5ms\n",
      "image 1097/1739 /workspace/Plant-Pathology-Anotation-7/test/images/rust_test_705_jpg.rf.fa8ef5221258eab12fc2a3d147a1d5f7.jpg: 448x640 1 leaf_rust, 8.7ms\n",
      "image 1098/1739 /workspace/Plant-Pathology-Anotation-7/test/images/rust_test_706_jpg.rf.8ef325255135eb4bff55f6523306aafe.jpg: 448x640 2 leaf_rusts, 8.6ms\n",
      "image 1099/1739 /workspace/Plant-Pathology-Anotation-7/test/images/rust_test_707_jpg.rf.36bc7128c1568d1bbdd322f1dbc1345f.jpg: 448x640 4 leaf_rusts, 8.5ms\n",
      "image 1100/1739 /workspace/Plant-Pathology-Anotation-7/test/images/rust_test_708_jpg.rf.c0680a7149ce0ad4473802c2cf18a3b5.jpg: 448x640 1 leaf_rust, 8.8ms\n",
      "image 1101/1739 /workspace/Plant-Pathology-Anotation-7/test/images/rust_test_709_jpg.rf.29365230f40a87f13ecf0d8145b65ad1.jpg: 448x640 1 leaf_scab, 8.7ms\n",
      "image 1102/1739 /workspace/Plant-Pathology-Anotation-7/test/images/rust_test_70_jpg.rf.8ee05feee4c760ee5d289b493b09a81a.jpg: 448x640 2 leaf_rusts, 8.6ms\n",
      "image 1103/1739 /workspace/Plant-Pathology-Anotation-7/test/images/rust_test_710_jpg.rf.a81504e4468c5e983ecd6d07b2bba6a4.jpg: 448x640 5 leaf_rusts, 8.5ms\n",
      "image 1104/1739 /workspace/Plant-Pathology-Anotation-7/test/images/rust_test_711_jpg.rf.0b54008ce29e0cc26a704351982d453c.jpg: 448x640 2 leaf_healthys, 1 leaf_rust, 8.9ms\n",
      "image 1105/1739 /workspace/Plant-Pathology-Anotation-7/test/images/rust_test_712_jpg.rf.fb1c0d019bf0ac5bcfc34c473950692d.jpg: 448x640 2 leaf_rusts, 8.6ms\n",
      "image 1106/1739 /workspace/Plant-Pathology-Anotation-7/test/images/rust_test_713_jpg.rf.25e2adfdcf941632eb154c5e6a0d2600.jpg: 448x640 1 leaf_scab, 9.1ms\n",
      "image 1107/1739 /workspace/Plant-Pathology-Anotation-7/test/images/rust_test_714_jpg.rf.69f72543fe45ea33384344f8bc3f8712.jpg: 448x640 2 leaf_rusts, 8.7ms\n",
      "image 1108/1739 /workspace/Plant-Pathology-Anotation-7/test/images/rust_test_715_jpg.rf.27b3c6532e85bfad3865a2013598f84d.jpg: 448x640 1 leaf_rust, 8.6ms\n",
      "image 1109/1739 /workspace/Plant-Pathology-Anotation-7/test/images/rust_test_716_jpg.rf.b463a07a3f2ebe78a192b868c06b4ba8.jpg: 448x640 1 leaf_rust, 9.0ms\n",
      "image 1110/1739 /workspace/Plant-Pathology-Anotation-7/test/images/rust_test_717_jpg.rf.eb67a70dfa04214a0460f84f60c63dc3.jpg: 448x640 1 leaf_rust, 8.6ms\n",
      "image 1111/1739 /workspace/Plant-Pathology-Anotation-7/test/images/rust_test_718_jpg.rf.c78fa623d45c9b0f46e29355b4005089.jpg: 448x640 5 leaf_rusts, 8.5ms\n",
      "image 1112/1739 /workspace/Plant-Pathology-Anotation-7/test/images/rust_test_719_jpg.rf.9b9bfe2d914d8cb74503266b445b8bd4.jpg: 448x640 1 leaf_rust, 1 leaf_scab, 8.5ms\n",
      "image 1113/1739 /workspace/Plant-Pathology-Anotation-7/test/images/rust_test_71_jpg.rf.aa641b52c564053b6fa438b1d3f57d04.jpg: 448x640 1 leaf_rust, 9.5ms\n",
      "image 1114/1739 /workspace/Plant-Pathology-Anotation-7/test/images/rust_test_720_jpg.rf.764618edff9a1830a9f7f7439f89398b.jpg: 448x640 1 leaf_rust, 8.8ms\n",
      "image 1115/1739 /workspace/Plant-Pathology-Anotation-7/test/images/rust_test_721_jpg.rf.c2be41d63052ba0b33bb733b41e1f087.jpg: 448x640 1 leaf_rust, 8.4ms\n",
      "image 1116/1739 /workspace/Plant-Pathology-Anotation-7/test/images/rust_test_722_jpg.rf.b80a6c9e8d93b79c3fa6c25e0d68f795.jpg: 448x640 1 leaf_rust, 8.6ms\n",
      "image 1117/1739 /workspace/Plant-Pathology-Anotation-7/test/images/rust_test_723_jpg.rf.73640acf32b16767fa974ca4407a0ab0.jpg: 448x640 1 leaf_rust, 8.7ms\n",
      "image 1118/1739 /workspace/Plant-Pathology-Anotation-7/test/images/rust_test_724_jpg.rf.0672d9c8675f00caadf6ac993e62131c.jpg: 448x640 1 leaf_rust, 8.7ms\n",
      "image 1119/1739 /workspace/Plant-Pathology-Anotation-7/test/images/rust_test_725_jpg.rf.e371bc80640e16786a6b7971753a0b66.jpg: 448x640 3 leaf_rusts, 8.7ms\n",
      "image 1120/1739 /workspace/Plant-Pathology-Anotation-7/test/images/rust_test_726_jpg.rf.8b111c5e9ed8ec8caa70089fe8c01d1f.jpg: 448x640 2 leaf_rusts, 8.6ms\n",
      "image 1121/1739 /workspace/Plant-Pathology-Anotation-7/test/images/rust_test_727_jpg.rf.67ae3ec1f518e05bc9ad8631047c301b.jpg: 448x640 1 leaf_rust, 9.3ms\n",
      "image 1122/1739 /workspace/Plant-Pathology-Anotation-7/test/images/rust_test_728_jpg.rf.87b3d08a066e52c9ab46f40435ccf4f8.jpg: 448x640 1 leaf_scab, 8.7ms\n",
      "image 1123/1739 /workspace/Plant-Pathology-Anotation-7/test/images/rust_test_729_jpg.rf.0aec8553d3f7edc05d7268434d84aba9.jpg: 448x640 1 leaf_rust, 8.7ms\n",
      "image 1124/1739 /workspace/Plant-Pathology-Anotation-7/test/images/rust_test_72_jpg.rf.183dcac996d9e639f40c9598724358c2.jpg: 448x640 1 leaf_rust, 8.6ms\n",
      "image 1125/1739 /workspace/Plant-Pathology-Anotation-7/test/images/rust_test_730_jpg.rf.febf4c2e56295d99c6ae6e69a84e99d6.jpg: 448x640 1 leaf_rust, 8.5ms\n",
      "image 1126/1739 /workspace/Plant-Pathology-Anotation-7/test/images/rust_test_73_jpg.rf.b54ffc48d3be2de659e3169300da80f8.jpg: 448x640 1 leaf_rust, 8.8ms\n",
      "image 1127/1739 /workspace/Plant-Pathology-Anotation-7/test/images/rust_test_74_jpg.rf.4ab32e9d3a4ee413a0182e7f24191df4.jpg: 448x640 1 leaf_rust, 8.6ms\n",
      "image 1128/1739 /workspace/Plant-Pathology-Anotation-7/test/images/rust_test_75_jpg.rf.c4c979d11d71c5d7e441a63692edd8b6.jpg: 448x640 1 leaf_rust, 8.6ms\n",
      "image 1129/1739 /workspace/Plant-Pathology-Anotation-7/test/images/rust_test_76_jpg.rf.1ffb64dab442782a7b756d8b284ccc27.jpg: 448x640 2 leaf_rusts, 8.6ms\n",
      "image 1130/1739 /workspace/Plant-Pathology-Anotation-7/test/images/rust_test_77_jpg.rf.b91c4ef61c4b95a6ca77a2194a45cf15.jpg: 448x640 1 leaf_rust, 8.5ms\n",
      "image 1131/1739 /workspace/Plant-Pathology-Anotation-7/test/images/rust_test_78_jpg.rf.7f09282bf5d95d501771fb76eaeeb698.jpg: 448x640 3 leaf_rusts, 8.6ms\n",
      "image 1132/1739 /workspace/Plant-Pathology-Anotation-7/test/images/rust_test_79_jpg.rf.f4825730fdff4637b7376c66d5b59207.jpg: 448x640 2 leaf_rusts, 8.5ms\n",
      "image 1133/1739 /workspace/Plant-Pathology-Anotation-7/test/images/rust_test_7_jpg.rf.8c0de86e3ee35aa631c2ba8b75a7e1cc.jpg: 448x640 2 leaf_rusts, 9.4ms\n",
      "image 1134/1739 /workspace/Plant-Pathology-Anotation-7/test/images/rust_test_80_jpg.rf.a8ee24e8e5b02917c643a3b66da57fcf.jpg: 448x640 1 leaf_rust, 8.5ms\n",
      "image 1135/1739 /workspace/Plant-Pathology-Anotation-7/test/images/rust_test_81_jpg.rf.ef5132a22cb4715b734db0b9dc58c590.jpg: 448x640 1 leaf_rust, 8.8ms\n",
      "image 1136/1739 /workspace/Plant-Pathology-Anotation-7/test/images/rust_test_82_jpg.rf.9fa1260d710dedabc4fd6accd5de46f4.jpg: 448x640 1 leaf_healthy, 2 leaf_rusts, 8.6ms\n",
      "image 1137/1739 /workspace/Plant-Pathology-Anotation-7/test/images/rust_test_83_jpg.rf.a81e799cba374c0ed96828e5722b70e9.jpg: 448x640 1 leaf_rust, 8.5ms\n",
      "image 1138/1739 /workspace/Plant-Pathology-Anotation-7/test/images/rust_test_84_jpg.rf.f86e49569fb5cf67c3a296cd9a279c9e.jpg: 448x640 1 leaf_rust, 8.6ms\n",
      "image 1139/1739 /workspace/Plant-Pathology-Anotation-7/test/images/rust_test_85_jpg.rf.283e8e22aaca17eb3d471570b7951309.jpg: 448x640 1 leaf_rust, 8.6ms\n",
      "image 1140/1739 /workspace/Plant-Pathology-Anotation-7/test/images/rust_test_86_jpg.rf.4d3355e0e1cb61b706af4442291d5fde.jpg: 448x640 1 leaf_rust, 8.6ms\n",
      "image 1141/1739 /workspace/Plant-Pathology-Anotation-7/test/images/rust_test_87_jpg.rf.0d9abad78e856747f85d50e94681a4aa.jpg: 448x640 1 leaf_rust, 8.6ms\n",
      "image 1142/1739 /workspace/Plant-Pathology-Anotation-7/test/images/rust_test_88_jpg.rf.ec1ea27c1249afb5822ebfea38bdea4b.jpg: 448x640 2 leaf_rusts, 8.6ms\n",
      "image 1143/1739 /workspace/Plant-Pathology-Anotation-7/test/images/rust_test_89_jpg.rf.13f6247bc956a2da6d49a6361e4d85b3.jpg: 448x640 1 leaf_rust, 8.5ms\n",
      "image 1144/1739 /workspace/Plant-Pathology-Anotation-7/test/images/rust_test_8_jpg.rf.2cb0e993a7261234bad2ad38fd74e90e.jpg: 448x640 3 leaf_rusts, 9.0ms\n",
      "image 1145/1739 /workspace/Plant-Pathology-Anotation-7/test/images/rust_test_90_jpg.rf.6632fdaf7622f4ecd592d5fc235c3f92.jpg: 448x640 1 leaf_rust, 8.5ms\n",
      "image 1146/1739 /workspace/Plant-Pathology-Anotation-7/test/images/rust_test_91_jpg.rf.4c0052d9e805434ffbf8b71dc127b69c.jpg: 448x640 1 leaf_rust, 8.9ms\n",
      "image 1147/1739 /workspace/Plant-Pathology-Anotation-7/test/images/rust_test_92_jpg.rf.43ec462147c4df1010c4cd47fbefb11d.jpg: 448x640 1 leaf_rust, 8.6ms\n",
      "image 1148/1739 /workspace/Plant-Pathology-Anotation-7/test/images/rust_test_93_jpg.rf.2b6ad13ab0e1d33ae1c28004f4aa8644.jpg: 448x640 2 leaf_rusts, 8.6ms\n",
      "image 1149/1739 /workspace/Plant-Pathology-Anotation-7/test/images/rust_test_94_jpg.rf.afe1cb4fd82048f0f9036fc762506862.jpg: 448x640 2 leaf_rusts, 8.4ms\n",
      "image 1150/1739 /workspace/Plant-Pathology-Anotation-7/test/images/rust_test_95_jpg.rf.3d11d4e9aed38626cf0a913659b979b3.jpg: 448x640 1 leaf_rust, 9.0ms\n",
      "image 1151/1739 /workspace/Plant-Pathology-Anotation-7/test/images/rust_test_96_jpg.rf.0f7cacb3a5c662c667f9f06ae69a62af.jpg: 448x640 1 leaf_rust, 1 leaf_scab, 8.7ms\n",
      "image 1152/1739 /workspace/Plant-Pathology-Anotation-7/test/images/rust_test_97_jpg.rf.bd1a1602673cc3b0f9b90913315bad6f.jpg: 448x640 1 leaf_rust, 8.5ms\n",
      "image 1153/1739 /workspace/Plant-Pathology-Anotation-7/test/images/rust_test_98_jpg.rf.c26dfa4c748814350bfea8e5f1327e5c.jpg: 448x640 1 leaf_rust, 9.5ms\n",
      "image 1154/1739 /workspace/Plant-Pathology-Anotation-7/test/images/rust_test_99_jpg.rf.3c6cda30cf600fc55228bee0fa975d51.jpg: 448x640 3 leaf_rusts, 8.5ms\n",
      "image 1155/1739 /workspace/Plant-Pathology-Anotation-7/test/images/rust_test_9_jpg.rf.45b0270cba68135ac7be29c956e1aabe.jpg: 448x640 2 leaf_rusts, 8.5ms\n",
      "image 1156/1739 /workspace/Plant-Pathology-Anotation-7/test/images/scab_test_100_jpg.rf.3475464f66d5340c9684e76bd9c64039.jpg: 448x640 2 leaf_healthys, 9.0ms\n",
      "image 1157/1739 /workspace/Plant-Pathology-Anotation-7/test/images/scab_test_101_jpg.rf.0294cea4e5bb9b033813b8766415110e.jpg: 448x640 1 leaf_scab, 8.5ms\n",
      "image 1158/1739 /workspace/Plant-Pathology-Anotation-7/test/images/scab_test_102_jpg.rf.61caf0ba98da3af8390486e82724386c.jpg: 448x640 1 leaf_scab, 8.7ms\n",
      "image 1159/1739 /workspace/Plant-Pathology-Anotation-7/test/images/scab_test_103_jpg.rf.f1509810fe51424f6ae0e9fe4d60d428.jpg: 448x640 (no detections), 8.7ms\n",
      "image 1160/1739 /workspace/Plant-Pathology-Anotation-7/test/images/scab_test_104_jpg.rf.402561cc1dba8198e77bae1e563964c3.jpg: 448x640 1 leaf_scab, 8.0ms\n",
      "image 1161/1739 /workspace/Plant-Pathology-Anotation-7/test/images/scab_test_105_jpg.rf.603d8fd8966a5cd3c565ed0f00f7ae0e.jpg: 448x640 1 leaf_scab, 8.6ms\n",
      "image 1162/1739 /workspace/Plant-Pathology-Anotation-7/test/images/scab_test_106_jpg.rf.03190f443b8051e410af5c4b01ad1b81.jpg: 448x640 1 leaf_scab, 8.7ms\n",
      "image 1163/1739 /workspace/Plant-Pathology-Anotation-7/test/images/scab_test_107_jpg.rf.15f456d989477b7d3d44f39e81214d4f.jpg: 448x640 1 leaf_scab, 8.4ms\n",
      "image 1164/1739 /workspace/Plant-Pathology-Anotation-7/test/images/scab_test_108_jpg.rf.a088b1591ecb075b4cfca78e4a9d621b.jpg: 448x640 1 leaf_scab, 8.8ms\n",
      "image 1165/1739 /workspace/Plant-Pathology-Anotation-7/test/images/scab_test_109_jpg.rf.5a1f1f35cbb18c54edb00d93973d570e.jpg: 448x640 1 leaf_scab, 8.5ms\n",
      "image 1166/1739 /workspace/Plant-Pathology-Anotation-7/test/images/scab_test_10_jpg.rf.8ca86c6fcfc04964762d1f359856ebdd.jpg: 448x640 1 leaf_scab, 8.6ms\n",
      "image 1167/1739 /workspace/Plant-Pathology-Anotation-7/test/images/scab_test_110_jpg.rf.df7855f4d7b207e0952a7b5d822dfed3.jpg: 448x640 1 leaf_scab, 8.6ms\n",
      "image 1168/1739 /workspace/Plant-Pathology-Anotation-7/test/images/scab_test_111_jpg.rf.f7d226e666ac42695cc3c83a63ab8311.jpg: 448x640 1 leaf_scab, 8.6ms\n",
      "image 1169/1739 /workspace/Plant-Pathology-Anotation-7/test/images/scab_test_112_jpg.rf.aaae9953d13820665e3384daa5105640.jpg: 448x640 1 leaf_scab, 8.6ms\n",
      "image 1170/1739 /workspace/Plant-Pathology-Anotation-7/test/images/scab_test_113_jpg.rf.0c83f5fde012fe814f0ed0296e0db0af.jpg: 448x640 1 leaf_scab, 8.6ms\n",
      "image 1171/1739 /workspace/Plant-Pathology-Anotation-7/test/images/scab_test_114_jpg.rf.f92fa409fbd477e19b2620d78c6bc616.jpg: 448x640 1 leaf_scab, 8.6ms\n",
      "image 1172/1739 /workspace/Plant-Pathology-Anotation-7/test/images/scab_test_115_jpg.rf.7d3122ebc8d1fc3715e4b5d440ab8618.jpg: 448x640 1 leaf_scab, 8.6ms\n",
      "image 1173/1739 /workspace/Plant-Pathology-Anotation-7/test/images/scab_test_116_jpg.rf.1ee3eab18eeeaff801aa883d00c9b5da.jpg: 448x640 1 leaf_scab, 8.6ms\n",
      "image 1174/1739 /workspace/Plant-Pathology-Anotation-7/test/images/scab_test_117_jpg.rf.e56fc9dec8e4953b8530818e78d567fb.jpg: 448x640 1 leaf_scab, 8.6ms\n",
      "image 1175/1739 /workspace/Plant-Pathology-Anotation-7/test/images/scab_test_118_jpg.rf.d1134e4327623e25bb22e12864ea9ecf.jpg: 448x640 1 leaf_scab, 8.7ms\n",
      "image 1176/1739 /workspace/Plant-Pathology-Anotation-7/test/images/scab_test_119_jpg.rf.c7627815589976521e45513e2adfd9d6.jpg: 448x640 2 leaf_scabs, 8.5ms\n",
      "image 1177/1739 /workspace/Plant-Pathology-Anotation-7/test/images/scab_test_11_jpg.rf.9c05042f1b9e8844776ad5d2186c4408.jpg: 448x640 2 leaf_scabs, 8.4ms\n",
      "image 1178/1739 /workspace/Plant-Pathology-Anotation-7/test/images/scab_test_120_jpg.rf.ec4f6530ed7abbabaac1b4f4bd1faeb8.jpg: 448x640 1 leaf_scab, 9.5ms\n",
      "image 1179/1739 /workspace/Plant-Pathology-Anotation-7/test/images/scab_test_121_jpg.rf.4c67aac82206546657be6ac5967daded.jpg: 448x640 1 leaf_rust, 1 leaf_scab, 8.7ms\n",
      "image 1180/1739 /workspace/Plant-Pathology-Anotation-7/test/images/scab_test_122_jpg.rf.fd0447bba4c72fce545565eb14e88ce4.jpg: 448x640 3 leaf_healthys, 1 leaf_rust, 1 leaf_scab, 8.4ms\n",
      "image 1181/1739 /workspace/Plant-Pathology-Anotation-7/test/images/scab_test_123_jpg.rf.e3f56e1753b4af2aa24f629e008a0555.jpg: 448x640 1 leaf_scab, 9.2ms\n",
      "image 1182/1739 /workspace/Plant-Pathology-Anotation-7/test/images/scab_test_124_jpg.rf.55e2ef07bf0c66d0c863eb36bbfba26e.jpg: 448x640 1 leaf_scab, 8.7ms\n",
      "image 1183/1739 /workspace/Plant-Pathology-Anotation-7/test/images/scab_test_125_jpg.rf.139c4b6a76dba2487e4b595688749358.jpg: 448x640 1 leaf_scab, 8.6ms\n",
      "image 1184/1739 /workspace/Plant-Pathology-Anotation-7/test/images/scab_test_126_jpg.rf.34b43d4390be6de82da0e23dea798451.jpg: 448x640 1 leaf_scab, 8.6ms\n",
      "image 1185/1739 /workspace/Plant-Pathology-Anotation-7/test/images/scab_test_127_jpg.rf.5cc2dbef6229dfb2b5b6509c8b5f0921.jpg: 448x640 2 leaf_scabs, 8.6ms\n",
      "image 1186/1739 /workspace/Plant-Pathology-Anotation-7/test/images/scab_test_128_jpg.rf.e2c2a1f75b27183d49b119f53408c761.jpg: 448x640 1 leaf_scab, 8.5ms\n",
      "image 1187/1739 /workspace/Plant-Pathology-Anotation-7/test/images/scab_test_129_jpg.rf.4b69ba635b3ff1719dd3a3fa563abf08.jpg: 448x640 2 leaf_scabs, 8.8ms\n",
      "image 1188/1739 /workspace/Plant-Pathology-Anotation-7/test/images/scab_test_12_jpg.rf.9674751d15d96fc95561e2eba5db2216.jpg: 448x640 1 leaf_rust, 1 leaf_scab, 8.5ms\n",
      "image 1189/1739 /workspace/Plant-Pathology-Anotation-7/test/images/scab_test_130_jpg.rf.988ab2d2159c98f2f349a4076bb9e423.jpg: 448x640 1 leaf_scab, 8.9ms\n",
      "image 1190/1739 /workspace/Plant-Pathology-Anotation-7/test/images/scab_test_131_jpg.rf.7b3a7a5468ce92b45415386d90e44e64.jpg: 448x640 1 leaf_scab, 8.8ms\n",
      "image 1191/1739 /workspace/Plant-Pathology-Anotation-7/test/images/scab_test_132_jpg.rf.016244a22662c816405f53bed19146ce.jpg: 448x640 1 leaf_scab, 8.6ms\n",
      "image 1192/1739 /workspace/Plant-Pathology-Anotation-7/test/images/scab_test_133_jpg.rf.991f32a29c15556dc83738cccb11217d.jpg: 448x640 1 leaf_scab, 8.3ms\n",
      "image 1193/1739 /workspace/Plant-Pathology-Anotation-7/test/images/scab_test_134_jpg.rf.564ed99ceb2c334fba420e36993206af.jpg: 448x640 1 leaf_scab, 8.7ms\n",
      "image 1194/1739 /workspace/Plant-Pathology-Anotation-7/test/images/scab_test_135_jpg.rf.03fc7a2bcd9141881bf2bf040a08d644.jpg: 448x640 1 leaf_scab, 8.6ms\n",
      "image 1195/1739 /workspace/Plant-Pathology-Anotation-7/test/images/scab_test_136_jpg.rf.efc024699199193e792a71965b6d6d9d.jpg: 448x640 2 leaf_scabs, 8.6ms\n",
      "image 1196/1739 /workspace/Plant-Pathology-Anotation-7/test/images/scab_test_137_jpg.rf.fb4b40703c847729d692743f5fc33caa.jpg: 448x640 1 leaf_scab, 8.4ms\n",
      "image 1197/1739 /workspace/Plant-Pathology-Anotation-7/test/images/scab_test_138_jpg.rf.b9cdabbc1633a247570a16bb8efb8c14.jpg: 448x640 1 leaf_scab, 8.6ms\n",
      "image 1198/1739 /workspace/Plant-Pathology-Anotation-7/test/images/scab_test_139_jpg.rf.408ad22e1a86b7bf9a282a425ba17107.jpg: 448x640 1 leaf_rust, 1 leaf_scab, 8.3ms\n",
      "image 1199/1739 /workspace/Plant-Pathology-Anotation-7/test/images/scab_test_13_jpg.rf.fc2fb0286206435a5ec2ad38927f9dc1.jpg: 448x640 1 leaf_scab, 8.9ms\n",
      "image 1200/1739 /workspace/Plant-Pathology-Anotation-7/test/images/scab_test_140_jpg.rf.e473bdd32b2fa0f6143a30dca5ad51bd.jpg: 448x640 1 leaf_scab, 8.6ms\n",
      "image 1201/1739 /workspace/Plant-Pathology-Anotation-7/test/images/scab_test_141_jpg.rf.6ea0f8485f7061237c25a27ab3048111.jpg: 448x640 1 leaf_scab, 8.6ms\n",
      "image 1202/1739 /workspace/Plant-Pathology-Anotation-7/test/images/scab_test_142_jpg.rf.979804cb5e70d6f934a83d11c1656a8d.jpg: 448x640 2 leaf_scabs, 8.7ms\n",
      "image 1203/1739 /workspace/Plant-Pathology-Anotation-7/test/images/scab_test_143_jpg.rf.9af6b91f3d6380e62e72cd8af2bf37c4.jpg: 448x640 2 leaf_scabs, 8.4ms\n",
      "image 1204/1739 /workspace/Plant-Pathology-Anotation-7/test/images/scab_test_144_jpg.rf.c9897c60bb45b352841539b19df35c68.jpg: 448x640 1 leaf_scab, 9.1ms\n",
      "image 1205/1739 /workspace/Plant-Pathology-Anotation-7/test/images/scab_test_145_jpg.rf.b70dd911f9da147e22f82efe45fc2202.jpg: 448x640 1 leaf_scab, 8.4ms\n",
      "image 1206/1739 /workspace/Plant-Pathology-Anotation-7/test/images/scab_test_146_jpg.rf.c255ddd04c80322dd830541bfc5a319b.jpg: 448x640 1 leaf_scab, 8.8ms\n",
      "image 1207/1739 /workspace/Plant-Pathology-Anotation-7/test/images/scab_test_147_jpg.rf.08694e48d1e838726747340133837b09.jpg: 448x640 1 leaf_scab, 8.3ms\n",
      "image 1208/1739 /workspace/Plant-Pathology-Anotation-7/test/images/scab_test_149_jpg.rf.4117b5c4bad2820de08d35a38a62fb16.jpg: 448x640 1 leaf_scab, 8.3ms\n",
      "image 1209/1739 /workspace/Plant-Pathology-Anotation-7/test/images/scab_test_14_jpg.rf.8641614e0f6499c274eadbe972cc9910.jpg: 448x640 2 leaf_scabs, 8.6ms\n",
      "image 1210/1739 /workspace/Plant-Pathology-Anotation-7/test/images/scab_test_150_jpg.rf.3482e14705b176eab9757bfb4acf9ef5.jpg: 448x640 1 leaf_scab, 8.5ms\n",
      "image 1211/1739 /workspace/Plant-Pathology-Anotation-7/test/images/scab_test_151_jpg.rf.0fb39b5b9ee59a82c2126a3cf8927899.jpg: 448x640 1 leaf_scab, 8.7ms\n",
      "image 1212/1739 /workspace/Plant-Pathology-Anotation-7/test/images/scab_test_152_jpg.rf.08ec19b1c88f7359d45fb97ea3e66449.jpg: 448x640 2 leaf_scabs, 8.6ms\n",
      "image 1213/1739 /workspace/Plant-Pathology-Anotation-7/test/images/scab_test_153_jpg.rf.12bbc91dde320850816c54e02d99dd41.jpg: 448x640 1 leaf_rust, 2 leaf_scabs, 8.5ms\n",
      "image 1214/1739 /workspace/Plant-Pathology-Anotation-7/test/images/scab_test_154_jpg.rf.79449e17e02ab33e8a1b07ddd8103b24.jpg: 448x640 1 leaf_scab, 9.1ms\n",
      "image 1215/1739 /workspace/Plant-Pathology-Anotation-7/test/images/scab_test_155_jpg.rf.3ed9f355a01106892c6c85834bef2846.jpg: 448x640 1 leaf_scab, 8.6ms\n",
      "image 1216/1739 /workspace/Plant-Pathology-Anotation-7/test/images/scab_test_156_jpg.rf.ddb9aca280953874c9ff0d7af845c89f.jpg: 448x640 1 leaf_healthy, 2 leaf_scabs, 8.4ms\n",
      "image 1217/1739 /workspace/Plant-Pathology-Anotation-7/test/images/scab_test_157_jpg.rf.f7ecffed5ee9d840dae4bc7cf1a0b35e.jpg: 448x640 1 leaf_scab, 8.8ms\n",
      "image 1218/1739 /workspace/Plant-Pathology-Anotation-7/test/images/scab_test_158_jpg.rf.018439767206e2a9a76b7bae2c1cf2dd.jpg: 448x640 3 leaf_scabs, 8.4ms\n",
      "image 1219/1739 /workspace/Plant-Pathology-Anotation-7/test/images/scab_test_159_jpg.rf.a2954b565943ffd4f51b6166a207390c.jpg: 448x640 1 leaf_scab, 8.5ms\n",
      "image 1220/1739 /workspace/Plant-Pathology-Anotation-7/test/images/scab_test_15_jpg.rf.41f920e2cadd88ff103769227d50eb2b.jpg: 448x640 1 leaf_scab, 8.6ms\n",
      "image 1221/1739 /workspace/Plant-Pathology-Anotation-7/test/images/scab_test_160_jpg.rf.fee9c74e5b9b07eea86bc98ce2666068.jpg: 448x640 2 leaf_scabs, 8.4ms\n",
      "image 1222/1739 /workspace/Plant-Pathology-Anotation-7/test/images/scab_test_161_jpg.rf.6618cd230e8e10305189c3b799d0d0ef.jpg: 448x640 1 leaf_scab, 9.4ms\n",
      "image 1223/1739 /workspace/Plant-Pathology-Anotation-7/test/images/scab_test_162_jpg.rf.6c29e15a64db03d7368d24f3649104ae.jpg: 448x640 1 leaf_scab, 8.6ms\n",
      "image 1224/1739 /workspace/Plant-Pathology-Anotation-7/test/images/scab_test_163_jpg.rf.c8884463dcf298faf2154c91cff755a5.jpg: 448x640 1 leaf_scab, 8.7ms\n",
      "image 1225/1739 /workspace/Plant-Pathology-Anotation-7/test/images/scab_test_164_jpg.rf.6508d8e3a6498218a06979669eb27196.jpg: 448x640 2 leaf_healthys, 8.6ms\n",
      "image 1226/1739 /workspace/Plant-Pathology-Anotation-7/test/images/scab_test_165_jpg.rf.cc8f2879ae1fc86024dbe13f7184984d.jpg: 448x640 1 leaf_scab, 8.5ms\n",
      "image 1227/1739 /workspace/Plant-Pathology-Anotation-7/test/images/scab_test_166_jpg.rf.4ffa9adaa7c546790d79584c91e9b352.jpg: 448x640 1 leaf_healthy, 1 leaf_scab, 9.1ms\n",
      "image 1228/1739 /workspace/Plant-Pathology-Anotation-7/test/images/scab_test_167_jpg.rf.bbf44d03d707b998be6606491fbda85b.jpg: 448x640 1 leaf_scab, 8.5ms\n",
      "image 1229/1739 /workspace/Plant-Pathology-Anotation-7/test/images/scab_test_168_jpg.rf.1bb80280f7b7de150fd69c8ce4c55419.jpg: 448x640 2 leaf_scabs, 8.6ms\n",
      "image 1230/1739 /workspace/Plant-Pathology-Anotation-7/test/images/scab_test_169_jpg.rf.211fa23acdded8baf7ac7341f27e91c7.jpg: 448x640 1 leaf_scab, 8.2ms\n",
      "image 1231/1739 /workspace/Plant-Pathology-Anotation-7/test/images/scab_test_16_jpg.rf.10133d0bfde0119950ad2dfe4624f07a.jpg: 448x640 1 leaf_scab, 8.3ms\n",
      "image 1232/1739 /workspace/Plant-Pathology-Anotation-7/test/images/scab_test_170_jpg.rf.e315d8d2daa97368b9ca4610fcc9868d.jpg: 448x640 2 leaf_scabs, 8.1ms\n",
      "image 1233/1739 /workspace/Plant-Pathology-Anotation-7/test/images/scab_test_171_jpg.rf.72536178302866fd16f9d8e398387b11.jpg: 448x640 1 leaf_scab, 8.1ms\n",
      "image 1234/1739 /workspace/Plant-Pathology-Anotation-7/test/images/scab_test_172_jpg.rf.35eb42a28cdbb47c46ba6be537445303.jpg: 448x640 1 leaf_scab, 8.7ms\n",
      "image 1235/1739 /workspace/Plant-Pathology-Anotation-7/test/images/scab_test_173_jpg.rf.769d3147879511d1d4bd1eade8ec441e.jpg: 448x640 1 leaf_scab, 8.6ms\n",
      "image 1236/1739 /workspace/Plant-Pathology-Anotation-7/test/images/scab_test_174_jpg.rf.060b7ba38cc6b56f9650c07f550254ec.jpg: 448x640 1 leaf_scab, 8.5ms\n",
      "image 1237/1739 /workspace/Plant-Pathology-Anotation-7/test/images/scab_test_175_jpg.rf.92fdb40c23d5446e7fc5a2fb9b731760.jpg: 448x640 1 leaf_scab, 8.6ms\n",
      "image 1238/1739 /workspace/Plant-Pathology-Anotation-7/test/images/scab_test_176_jpg.rf.0b069cad55214ae265e0fcb063c26716.jpg: 448x640 1 leaf_scab, 8.6ms\n",
      "image 1239/1739 /workspace/Plant-Pathology-Anotation-7/test/images/scab_test_177_jpg.rf.bb0238a1cf98549787a514df4350a74a.jpg: 448x640 1 leaf_scab, 8.5ms\n",
      "image 1240/1739 /workspace/Plant-Pathology-Anotation-7/test/images/scab_test_178_jpg.rf.906e9f42962dc46f32d9ceb3ae76cbc3.jpg: 448x640 1 leaf_scab, 8.6ms\n",
      "image 1241/1739 /workspace/Plant-Pathology-Anotation-7/test/images/scab_test_179_jpg.rf.d23216075a7476c79520175d1e87ee70.jpg: 448x640 1 leaf_scab, 8.5ms\n",
      "image 1242/1739 /workspace/Plant-Pathology-Anotation-7/test/images/scab_test_17_jpg.rf.c145e7f1b987eaf846747e066857c9ff.jpg: 448x640 1 leaf_scab, 8.6ms\n",
      "image 1243/1739 /workspace/Plant-Pathology-Anotation-7/test/images/scab_test_180_jpg.rf.7641c3b4e83675582397bdaeed539f24.jpg: 448x640 1 leaf_rust, 2 leaf_scabs, 9.0ms\n",
      "image 1244/1739 /workspace/Plant-Pathology-Anotation-7/test/images/scab_test_181_jpg.rf.dd1f3a4027b6eacac9b0b103e3afc747.jpg: 448x640 1 leaf_scab, 8.4ms\n",
      "image 1245/1739 /workspace/Plant-Pathology-Anotation-7/test/images/scab_test_182_jpg.rf.a59d125d821ba8f9300b2973ddfcc480.jpg: 448x640 1 leaf_scab, 9.1ms\n",
      "image 1246/1739 /workspace/Plant-Pathology-Anotation-7/test/images/scab_test_183_jpg.rf.9cc9a8098e8b633de33420104c2174f5.jpg: 448x640 2 leaf_scabs, 8.6ms\n",
      "image 1247/1739 /workspace/Plant-Pathology-Anotation-7/test/images/scab_test_184_jpg.rf.2100b1716c5971f3d4b8b7ee93731265.jpg: 448x640 1 leaf_scab, 8.4ms\n",
      "image 1248/1739 /workspace/Plant-Pathology-Anotation-7/test/images/scab_test_185_jpg.rf.2bb03b8a96fd1260f63266f0c542d18b.jpg: 448x640 1 leaf_scab, 9.1ms\n",
      "image 1249/1739 /workspace/Plant-Pathology-Anotation-7/test/images/scab_test_186_jpg.rf.b71854a4e5f50c03271aea603a7bfe85.jpg: 448x640 1 leaf_scab, 9.0ms\n",
      "image 1250/1739 /workspace/Plant-Pathology-Anotation-7/test/images/scab_test_187_jpg.rf.cc8eb5d23217648567b846e35d1b51e0.jpg: 448x640 1 leaf_scab, 8.3ms\n",
      "image 1251/1739 /workspace/Plant-Pathology-Anotation-7/test/images/scab_test_188_jpg.rf.474f6c02c036c3bd4a48be66dc028428.jpg: 448x640 2 leaf_scabs, 8.6ms\n",
      "image 1252/1739 /workspace/Plant-Pathology-Anotation-7/test/images/scab_test_189_jpg.rf.87a90fc338b9582c267a8e48be83c549.jpg: 448x640 1 leaf_scab, 8.4ms\n",
      "image 1253/1739 /workspace/Plant-Pathology-Anotation-7/test/images/scab_test_18_jpg.rf.6683f33219b5801dc050d80421effe52.jpg: 448x640 1 leaf_scab, 8.8ms\n",
      "image 1254/1739 /workspace/Plant-Pathology-Anotation-7/test/images/scab_test_190_jpg.rf.3618ae778c1c0f6c029f8cd80d38ab84.jpg: 448x640 1 leaf_scab, 8.6ms\n",
      "image 1255/1739 /workspace/Plant-Pathology-Anotation-7/test/images/scab_test_191_jpg.rf.80810b59b4c812f507f5cbd909a315e6.jpg: 448x640 2 leaf_scabs, 8.5ms\n",
      "image 1256/1739 /workspace/Plant-Pathology-Anotation-7/test/images/scab_test_192_jpg.rf.033a792f29e9618ad9016f175ed26d58.jpg: 448x640 1 leaf_scab, 8.4ms\n",
      "image 1257/1739 /workspace/Plant-Pathology-Anotation-7/test/images/scab_test_193_jpg.rf.c369630d084b0402bf655a9c0357671b.jpg: 448x640 1 leaf_scab, 9.1ms\n",
      "image 1258/1739 /workspace/Plant-Pathology-Anotation-7/test/images/scab_test_194_jpg.rf.37d0226707c2fda34297f2efad6b63c9.jpg: 448x640 2 leaf_scabs, 8.4ms\n",
      "image 1259/1739 /workspace/Plant-Pathology-Anotation-7/test/images/scab_test_195_jpg.rf.389a160919b5f1a12db7c42de8f317b2.jpg: 448x640 1 leaf_scab, 9.0ms\n",
      "image 1260/1739 /workspace/Plant-Pathology-Anotation-7/test/images/scab_test_196_jpg.rf.81fa8c2f04a6981d48ebe62a16dc3b15.jpg: 448x640 1 leaf_scab, 8.7ms\n",
      "image 1261/1739 /workspace/Plant-Pathology-Anotation-7/test/images/scab_test_197_jpg.rf.0b647bc48512eba1d73b5d90baf849e0.jpg: 448x640 1 leaf_scab, 8.5ms\n",
      "image 1262/1739 /workspace/Plant-Pathology-Anotation-7/test/images/scab_test_198_jpg.rf.e60cb9e7ea69b2aee128ef63eaba3a46.jpg: 448x640 1 leaf_scab, 8.8ms\n",
      "image 1263/1739 /workspace/Plant-Pathology-Anotation-7/test/images/scab_test_199_jpg.rf.a8ccc7ff8760ddfca17358f026f00e9c.jpg: 448x640 1 leaf_scab, 8.6ms\n",
      "image 1264/1739 /workspace/Plant-Pathology-Anotation-7/test/images/scab_test_19_jpg.rf.7164314b12bee6f351274d9675bc0ed6.jpg: 448x640 1 leaf_scab, 8.7ms\n",
      "image 1265/1739 /workspace/Plant-Pathology-Anotation-7/test/images/scab_test_1_jpg.rf.2e66b6de667489fb1c054a983dd90dcb.jpg: 448x640 3 leaf_scabs, 8.6ms\n",
      "image 1266/1739 /workspace/Plant-Pathology-Anotation-7/test/images/scab_test_200_jpg.rf.7ee8a4d9e8ca82d34cf4e15f43cb21bb.jpg: 640x448 1 leaf_scab, 9.0ms\n",
      "image 1267/1739 /workspace/Plant-Pathology-Anotation-7/test/images/scab_test_201_jpg.rf.71f6987296017a04cf2d0aacc667343b.jpg: 448x640 1 leaf_rust, 2 leaf_scabs, 9.4ms\n",
      "image 1268/1739 /workspace/Plant-Pathology-Anotation-7/test/images/scab_test_202_jpg.rf.62765ecf3473fdc1e7f4f465072e5b9f.jpg: 448x640 (no detections), 8.4ms\n",
      "image 1269/1739 /workspace/Plant-Pathology-Anotation-7/test/images/scab_test_203_jpg.rf.fae36b09ddeb950472e9f5190c68277a.jpg: 448x640 1 leaf_scab, 7.9ms\n",
      "image 1270/1739 /workspace/Plant-Pathology-Anotation-7/test/images/scab_test_204_jpg.rf.c57fccdffe5f83fd873f88a81e2ee673.jpg: 448x640 1 leaf_scab, 8.6ms\n",
      "image 1271/1739 /workspace/Plant-Pathology-Anotation-7/test/images/scab_test_205_jpg.rf.b36639400ea97868d3f11ec7ebeddb96.jpg: 448x640 1 leaf_scab, 9.1ms\n",
      "image 1272/1739 /workspace/Plant-Pathology-Anotation-7/test/images/scab_test_206_jpg.rf.b1f86e608e5dee31ba32c1246eb96d30.jpg: 448x640 1 leaf_scab, 8.7ms\n",
      "image 1273/1739 /workspace/Plant-Pathology-Anotation-7/test/images/scab_test_207_jpg.rf.7390b41f7c04bb7a71c3244f11a5234b.jpg: 448x640 1 leaf_scab, 8.4ms\n",
      "image 1274/1739 /workspace/Plant-Pathology-Anotation-7/test/images/scab_test_208_jpg.rf.d1db42ae92ba0712827b11c6e65b9988.jpg: 448x640 1 leaf_scab, 8.3ms\n",
      "image 1275/1739 /workspace/Plant-Pathology-Anotation-7/test/images/scab_test_209_jpg.rf.286c6abed7040a70cb7b638ee7c86357.jpg: 448x640 1 leaf_scab, 9.0ms\n",
      "image 1276/1739 /workspace/Plant-Pathology-Anotation-7/test/images/scab_test_20_jpg.rf.708c5ade681eb4bce4832a9378ba3776.jpg: 448x640 1 leaf_scab, 8.7ms\n",
      "image 1277/1739 /workspace/Plant-Pathology-Anotation-7/test/images/scab_test_210_jpg.rf.40f57a4357711ab2eac9e5cc1e3943c5.jpg: 448x640 1 leaf_scab, 8.7ms\n",
      "image 1278/1739 /workspace/Plant-Pathology-Anotation-7/test/images/scab_test_211_jpg.rf.4f242cf02315179d268429ea62dbb97a.jpg: 448x640 (no detections), 8.5ms\n",
      "image 1279/1739 /workspace/Plant-Pathology-Anotation-7/test/images/scab_test_212_jpg.rf.20fe6d5c88a1691b8691539cfa1b17a6.jpg: 448x640 1 leaf_scab, 7.9ms\n",
      "image 1280/1739 /workspace/Plant-Pathology-Anotation-7/test/images/scab_test_213_jpg.rf.dfa93d50fc3a247a67d533e549760c0e.jpg: 448x640 3 leaf_scabs, 8.7ms\n",
      "image 1281/1739 /workspace/Plant-Pathology-Anotation-7/test/images/scab_test_214_jpg.rf.f514b6b06c13024826da44c3bfee535d.jpg: 448x640 1 leaf_scab, 8.5ms\n",
      "image 1282/1739 /workspace/Plant-Pathology-Anotation-7/test/images/scab_test_215_jpg.rf.cf70c1b7013395c6b59e90335b962f90.jpg: 448x640 1 leaf_scab, 8.7ms\n",
      "image 1283/1739 /workspace/Plant-Pathology-Anotation-7/test/images/scab_test_216_jpg.rf.8e7952f4348286909d00ea1514ba1363.jpg: 448x640 1 leaf_scab, 8.6ms\n",
      "image 1284/1739 /workspace/Plant-Pathology-Anotation-7/test/images/scab_test_217_jpg.rf.e761a3e210b469a8dc17de182b137b39.jpg: 448x640 1 leaf_scab, 8.6ms\n",
      "image 1285/1739 /workspace/Plant-Pathology-Anotation-7/test/images/scab_test_218_jpg.rf.ddad60c3c51dee41bf9f72bf3b4db3b2.jpg: 448x640 1 leaf_scab, 8.8ms\n",
      "image 1286/1739 /workspace/Plant-Pathology-Anotation-7/test/images/scab_test_219_jpg.rf.f26f972c3769cacdf3f2a33b17884b16.jpg: 448x640 1 leaf_scab, 8.6ms\n",
      "image 1287/1739 /workspace/Plant-Pathology-Anotation-7/test/images/scab_test_21_jpg.rf.82c5158754b1ff10768c0d1bd52699ba.jpg: 448x640 1 leaf_scab, 8.7ms\n",
      "image 1288/1739 /workspace/Plant-Pathology-Anotation-7/test/images/scab_test_220_jpg.rf.20c97d1b2299e543028d75bb1d611de4.jpg: 448x640 1 leaf_scab, 8.6ms\n",
      "image 1289/1739 /workspace/Plant-Pathology-Anotation-7/test/images/scab_test_221_jpg.rf.927c5b84acb25b29e3c0c71a387567af.jpg: 448x640 2 leaf_scabs, 8.8ms\n",
      "image 1290/1739 /workspace/Plant-Pathology-Anotation-7/test/images/scab_test_222_jpg.rf.7a2291f82ec68f783e180f697e5e1728.jpg: 448x640 2 leaf_scabs, 8.4ms\n",
      "image 1291/1739 /workspace/Plant-Pathology-Anotation-7/test/images/scab_test_223_jpg.rf.737e7086e7d1d4d1b1520617616ef209.jpg: 448x640 1 leaf_scab, 9.2ms\n",
      "image 1292/1739 /workspace/Plant-Pathology-Anotation-7/test/images/scab_test_224_jpg.rf.c12c9081c122e7eeeeb5b3240889a687.jpg: 448x640 2 leaf_scabs, 8.7ms\n",
      "image 1293/1739 /workspace/Plant-Pathology-Anotation-7/test/images/scab_test_225_jpg.rf.9c67894fd1c450d3083b2fd5f2c189a8.jpg: 448x640 1 leaf_scab, 8.5ms\n",
      "image 1294/1739 /workspace/Plant-Pathology-Anotation-7/test/images/scab_test_226_jpg.rf.ef792da26ad7c08b05fa59b90b8362c8.jpg: 448x640 1 leaf_scab, 8.8ms\n",
      "image 1295/1739 /workspace/Plant-Pathology-Anotation-7/test/images/scab_test_227_jpg.rf.381dd3203f27d7a910e90ca07c603bbf.jpg: 448x640 1 leaf_scab, 8.5ms\n",
      "image 1296/1739 /workspace/Plant-Pathology-Anotation-7/test/images/scab_test_228_jpg.rf.fd500db98d42679deb92d05ca1776bc4.jpg: 448x640 1 leaf_scab, 8.8ms\n",
      "image 1297/1739 /workspace/Plant-Pathology-Anotation-7/test/images/scab_test_229_jpg.rf.f5d9ddc4846e084ddbd513339d832466.jpg: 448x640 1 leaf_scab, 8.4ms\n",
      "image 1298/1739 /workspace/Plant-Pathology-Anotation-7/test/images/scab_test_22_jpg.rf.0d46ed3e7d34f38e87299c089b3d6e46.jpg: 448x640 2 leaf_scabs, 8.5ms\n",
      "image 1299/1739 /workspace/Plant-Pathology-Anotation-7/test/images/scab_test_230_jpg.rf.e33573e18acf1b6aec65a6a488cce1d8.jpg: 448x640 1 leaf_scab, 8.4ms\n",
      "image 1300/1739 /workspace/Plant-Pathology-Anotation-7/test/images/scab_test_231_jpg.rf.6d14c7fe255e533beaecd44ff2731ab4.jpg: 448x640 2 leaf_scabs, 8.7ms\n",
      "image 1301/1739 /workspace/Plant-Pathology-Anotation-7/test/images/scab_test_232_jpg.rf.1f8a2ac1d49c2871dfe5b0472b13bf71.jpg: 448x640 3 leaf_scabs, 8.5ms\n",
      "image 1302/1739 /workspace/Plant-Pathology-Anotation-7/test/images/scab_test_233_jpg.rf.53d4d25f22692c24817d47aa6bf865fa.jpg: 448x640 1 leaf_scab, 9.2ms\n",
      "image 1303/1739 /workspace/Plant-Pathology-Anotation-7/test/images/scab_test_234_jpg.rf.bd18be768320056938f969bf21eda4e2.jpg: 448x640 2 leaf_scabs, 8.6ms\n",
      "image 1304/1739 /workspace/Plant-Pathology-Anotation-7/test/images/scab_test_235_jpg.rf.692863bb7466397a2aa657323b9b03a9.jpg: 448x640 2 leaf_scabs, 8.5ms\n",
      "image 1305/1739 /workspace/Plant-Pathology-Anotation-7/test/images/scab_test_236_jpg.rf.053f27c6f803bad21f8080eb4dad08c6.jpg: 448x640 1 leaf_scab, 9.0ms\n",
      "image 1306/1739 /workspace/Plant-Pathology-Anotation-7/test/images/scab_test_237_jpg.rf.6af119d25abfcf17efbf4fe0e9305749.jpg: 448x640 1 leaf_scab, 8.7ms\n",
      "image 1307/1739 /workspace/Plant-Pathology-Anotation-7/test/images/scab_test_238_jpg.rf.27c06d3b7ac88b026403d32ac23af8d0.jpg: 448x640 1 leaf_scab, 8.6ms\n",
      "image 1308/1739 /workspace/Plant-Pathology-Anotation-7/test/images/scab_test_239_jpg.rf.1d9cde628602c28fb6475580d6afdc02.jpg: 448x640 1 leaf_scab, 8.6ms\n",
      "image 1309/1739 /workspace/Plant-Pathology-Anotation-7/test/images/scab_test_23_jpg.rf.c77c26a85da8a3b438205fa41f5b3e93.jpg: 448x640 1 leaf_scab, 8.5ms\n",
      "image 1310/1739 /workspace/Plant-Pathology-Anotation-7/test/images/scab_test_240_jpg.rf.d5da5ab05be13c9d1a050dc19ce43a3a.jpg: 448x640 1 leaf_scab, 8.7ms\n",
      "image 1311/1739 /workspace/Plant-Pathology-Anotation-7/test/images/scab_test_241_jpg.rf.69e58d49a3dbf832f3945b47c0d6be83.jpg: 448x640 2 leaf_scabs, 8.5ms\n",
      "image 1312/1739 /workspace/Plant-Pathology-Anotation-7/test/images/scab_test_242_jpg.rf.4f5794ba77a076bb794bf0846ec694df.jpg: 640x448 1 leaf_scab, 9.4ms\n",
      "image 1313/1739 /workspace/Plant-Pathology-Anotation-7/test/images/scab_test_243_jpg.rf.206331c10de80ef2a61ec740178a0301.jpg: 448x640 1 leaf_scab, 9.0ms\n",
      "image 1314/1739 /workspace/Plant-Pathology-Anotation-7/test/images/scab_test_244_jpg.rf.45e0cd992755c0ec7872e6a7979ca4a6.jpg: 448x640 1 leaf_scab, 8.6ms\n",
      "image 1315/1739 /workspace/Plant-Pathology-Anotation-7/test/images/scab_test_245_jpg.rf.a4c39308984e255864f47599f0571bf8.jpg: 448x640 1 leaf_healthy, 1 leaf_scab, 8.7ms\n",
      "image 1316/1739 /workspace/Plant-Pathology-Anotation-7/test/images/scab_test_246_jpg.rf.da90ca325c7c81d5347bd0ec36336eb8.jpg: 448x640 1 leaf_scab, 8.5ms\n",
      "image 1317/1739 /workspace/Plant-Pathology-Anotation-7/test/images/scab_test_247_jpg.rf.4051543c53698cca2d1cba6e0ae9022e.jpg: 448x640 1 leaf_scab, 8.9ms\n",
      "image 1318/1739 /workspace/Plant-Pathology-Anotation-7/test/images/scab_test_248_jpg.rf.bd0f104682f5edfb5cb47c89bf5a3045.jpg: 448x640 1 leaf_scab, 8.6ms\n",
      "image 1319/1739 /workspace/Plant-Pathology-Anotation-7/test/images/scab_test_249_jpg.rf.c786107206ebf1990b275016a6969e54.jpg: 448x640 1 leaf_scab, 8.6ms\n",
      "image 1320/1739 /workspace/Plant-Pathology-Anotation-7/test/images/scab_test_24_jpg.rf.770a9186a7d50fa2358315ec644b5713.jpg: 448x640 1 leaf_scab, 8.6ms\n",
      "image 1321/1739 /workspace/Plant-Pathology-Anotation-7/test/images/scab_test_250_jpg.rf.0bb2a2f1b9989921deeea309cc1ba4e7.jpg: 448x640 1 leaf_scab, 8.6ms\n",
      "image 1322/1739 /workspace/Plant-Pathology-Anotation-7/test/images/scab_test_251_jpg.rf.10a8302167c757d51bdabd1fb67c4087.jpg: 448x640 1 leaf_scab, 8.8ms\n",
      "image 1323/1739 /workspace/Plant-Pathology-Anotation-7/test/images/scab_test_252_jpg.rf.57425c40020853e9e00849c2aef5e39e.jpg: 448x640 1 leaf_scab, 8.7ms\n",
      "image 1324/1739 /workspace/Plant-Pathology-Anotation-7/test/images/scab_test_253_jpg.rf.7fc7741c51166817ae76b8bd0f165d2e.jpg: 448x640 1 leaf_scab, 8.7ms\n",
      "image 1325/1739 /workspace/Plant-Pathology-Anotation-7/test/images/scab_test_254_jpg.rf.d6a56a9860a6a6d8677a36853acd9990.jpg: 448x640 1 leaf_scab, 8.6ms\n",
      "image 1326/1739 /workspace/Plant-Pathology-Anotation-7/test/images/scab_test_255_jpg.rf.7c72d16fa54a27a10aca34dca88402d8.jpg: 448x640 1 leaf_scab, 8.7ms\n",
      "image 1327/1739 /workspace/Plant-Pathology-Anotation-7/test/images/scab_test_256_jpg.rf.c1859a70a9578d7743e1764715cbbbcc.jpg: 448x640 1 leaf_scab, 8.6ms\n",
      "image 1328/1739 /workspace/Plant-Pathology-Anotation-7/test/images/scab_test_257_jpg.rf.2b0bcbc115b7ec39a53ecd4fe9bd9fd4.jpg: 448x640 3 leaf_scabs, 8.7ms\n",
      "image 1329/1739 /workspace/Plant-Pathology-Anotation-7/test/images/scab_test_258_jpg.rf.90a85fd0fa89d10ea06b0388370912ef.jpg: 448x640 3 leaf_scabs, 8.5ms\n",
      "image 1330/1739 /workspace/Plant-Pathology-Anotation-7/test/images/scab_test_259_jpg.rf.49cef94c95e79b51b1108cbd2fd86bfd.jpg: 448x640 1 leaf_rust, 3 leaf_scabs, 8.9ms\n",
      "image 1331/1739 /workspace/Plant-Pathology-Anotation-7/test/images/scab_test_25_jpg.rf.472eb10f1439a96315b50e0d9043faf4.jpg: 448x640 3 leaf_scabs, 8.4ms\n",
      "image 1332/1739 /workspace/Plant-Pathology-Anotation-7/test/images/scab_test_260_jpg.rf.a1aa242c2f915348e5a9e0fb8595d5ff.jpg: 448x640 1 leaf_scab, 8.8ms\n",
      "image 1333/1739 /workspace/Plant-Pathology-Anotation-7/test/images/scab_test_261_jpg.rf.ccad91d9246ab55b845e8ec7bbd8a983.jpg: 448x640 1 leaf_scab, 8.6ms\n",
      "image 1334/1739 /workspace/Plant-Pathology-Anotation-7/test/images/scab_test_262_jpg.rf.c767b25338326f3814b1de44db1b88ac.jpg: 448x640 1 leaf_scab, 8.6ms\n",
      "image 1335/1739 /workspace/Plant-Pathology-Anotation-7/test/images/scab_test_263_jpg.rf.e54a023e256d63c909de5c5d173d4748.jpg: 448x640 2 leaf_scabs, 8.8ms\n",
      "image 1336/1739 /workspace/Plant-Pathology-Anotation-7/test/images/scab_test_264_jpg.rf.b406aa90df58bfa4289acfcc2145a8a3.jpg: 448x640 1 leaf_scab, 8.5ms\n",
      "image 1337/1739 /workspace/Plant-Pathology-Anotation-7/test/images/scab_test_265_jpg.rf.deacac4d57ae7465be8a159cd6a4d659.jpg: 448x640 1 leaf_scab, 8.9ms\n",
      "image 1338/1739 /workspace/Plant-Pathology-Anotation-7/test/images/scab_test_266_jpg.rf.03c037974cd9e3c9ad0996a060cba8dd.jpg: 448x640 1 leaf_scab, 8.7ms\n",
      "image 1339/1739 /workspace/Plant-Pathology-Anotation-7/test/images/scab_test_267_jpg.rf.5718c3d1a008e14989c8e6022a97d468.jpg: 448x640 1 leaf_scab, 8.6ms\n",
      "image 1340/1739 /workspace/Plant-Pathology-Anotation-7/test/images/scab_test_268_jpg.rf.5fb035088ff3616a0b2f3db15344a8d3.jpg: 448x640 1 leaf_scab, 8.7ms\n",
      "image 1341/1739 /workspace/Plant-Pathology-Anotation-7/test/images/scab_test_269_jpg.rf.8275f8788d578e14a0948f46f1ea7ef9.jpg: 448x640 1 leaf_scab, 8.4ms\n",
      "image 1342/1739 /workspace/Plant-Pathology-Anotation-7/test/images/scab_test_26_jpg.rf.bc223b87773f3334afd287766f593a52.jpg: 448x640 1 leaf_scab, 8.4ms\n",
      "image 1343/1739 /workspace/Plant-Pathology-Anotation-7/test/images/scab_test_270_jpg.rf.47b0ad82446f54a73a26cb4b91054f8f.jpg: 448x640 1 leaf_scab, 8.7ms\n",
      "image 1344/1739 /workspace/Plant-Pathology-Anotation-7/test/images/scab_test_271_jpg.rf.ba4b1da5bb3f9e68a5a610629cc2ab14.jpg: 448x640 1 leaf_scab, 9.1ms\n",
      "image 1345/1739 /workspace/Plant-Pathology-Anotation-7/test/images/scab_test_272_jpg.rf.7c12d8762b9afdda26950f1dfbb5f4e2.jpg: 448x640 1 leaf_scab, 8.4ms\n",
      "image 1346/1739 /workspace/Plant-Pathology-Anotation-7/test/images/scab_test_273_jpg.rf.91f1eb2064160a9244cc40b04de1a544.jpg: 448x640 1 leaf_scab, 8.7ms\n",
      "image 1347/1739 /workspace/Plant-Pathology-Anotation-7/test/images/scab_test_274_jpg.rf.4a6df309e9c41c988a8f9e4a3fe79a00.jpg: 448x640 2 leaf_scabs, 8.6ms\n",
      "image 1348/1739 /workspace/Plant-Pathology-Anotation-7/test/images/scab_test_275_jpg.rf.f57ae5e028440a0d877cde694d0647e5.jpg: 448x640 2 leaf_scabs, 8.6ms\n",
      "image 1349/1739 /workspace/Plant-Pathology-Anotation-7/test/images/scab_test_276_jpg.rf.bd1b18eeb4a1299f347596047105daaf.jpg: 448x640 1 leaf_scab, 8.9ms\n",
      "image 1350/1739 /workspace/Plant-Pathology-Anotation-7/test/images/scab_test_277_jpg.rf.4761d3ff661b841c15e3f4d094997e8a.jpg: 448x640 1 leaf_scab, 8.7ms\n",
      "image 1351/1739 /workspace/Plant-Pathology-Anotation-7/test/images/scab_test_278_jpg.rf.4e1ba5217b396803b62d23d41fe97aad.jpg: 448x640 1 leaf_scab, 8.7ms\n",
      "image 1352/1739 /workspace/Plant-Pathology-Anotation-7/test/images/scab_test_279_jpg.rf.d24a1ac3009b1e8613e92c89f6eee5cd.jpg: 448x640 4 leaf_scabs, 8.7ms\n",
      "image 1353/1739 /workspace/Plant-Pathology-Anotation-7/test/images/scab_test_27_jpg.rf.f721850701155d2e63908c5ef312bc9f.jpg: 640x448 1 leaf_scab, 9.1ms\n",
      "image 1354/1739 /workspace/Plant-Pathology-Anotation-7/test/images/scab_test_280_jpg.rf.ff60bfbe4e95ae5e303ac60a200e25d8.jpg: 448x640 1 leaf_scab, 9.4ms\n",
      "image 1355/1739 /workspace/Plant-Pathology-Anotation-7/test/images/scab_test_281_jpg.rf.65a85514cdd3a173136254171f8ac93e.jpg: 448x640 1 leaf_scab, 8.8ms\n",
      "image 1356/1739 /workspace/Plant-Pathology-Anotation-7/test/images/scab_test_282_jpg.rf.19da70b739ae1dde4a312e78354b4106.jpg: 448x640 1 leaf_scab, 8.9ms\n",
      "image 1357/1739 /workspace/Plant-Pathology-Anotation-7/test/images/scab_test_283_jpg.rf.1ec271a82a39cb4113fb6044cf934e34.jpg: 448x640 1 leaf_scab, 8.8ms\n",
      "image 1358/1739 /workspace/Plant-Pathology-Anotation-7/test/images/scab_test_284_jpg.rf.c5f12ee75560cb50deb3e81fa56d9f84.jpg: 448x640 1 leaf_scab, 8.7ms\n",
      "image 1359/1739 /workspace/Plant-Pathology-Anotation-7/test/images/scab_test_285_jpg.rf.a7d64b70ec6f49eba2b26fa121d8c759.jpg: 448x640 1 leaf_scab, 8.7ms\n",
      "image 1360/1739 /workspace/Plant-Pathology-Anotation-7/test/images/scab_test_286_jpg.rf.1e0e07c3d1a1075fa6cfe7e473189118.jpg: 448x640 1 leaf_scab, 8.7ms\n",
      "image 1361/1739 /workspace/Plant-Pathology-Anotation-7/test/images/scab_test_287_jpg.rf.e2affd5218814796fc42a6a739a40798.jpg: 448x640 1 leaf_scab, 8.7ms\n",
      "image 1362/1739 /workspace/Plant-Pathology-Anotation-7/test/images/scab_test_288_jpg.rf.c1e219dc4065b7e4b4e8f18eedf5be9d.jpg: 448x640 2 leaf_scabs, 8.5ms\n",
      "image 1363/1739 /workspace/Plant-Pathology-Anotation-7/test/images/scab_test_289_jpg.rf.6d2ca6c3459265752c2726be2ca7f482.jpg: 448x640 2 leaf_scabs, 8.5ms\n",
      "image 1364/1739 /workspace/Plant-Pathology-Anotation-7/test/images/scab_test_28_jpg.rf.f810af4b1fc9bef91bee52418e169eaf.jpg: 448x640 2 leaf_scabs, 8.8ms\n",
      "image 1365/1739 /workspace/Plant-Pathology-Anotation-7/test/images/scab_test_290_jpg.rf.d6a34c723397630be1f03a6790b9d87d.jpg: 448x640 1 leaf_scab, 8.4ms\n",
      "image 1366/1739 /workspace/Plant-Pathology-Anotation-7/test/images/scab_test_291_jpg.rf.7fbcf77dfbd364b9e3621dcbd6d87338.jpg: 448x640 1 leaf_scab, 9.1ms\n",
      "image 1367/1739 /workspace/Plant-Pathology-Anotation-7/test/images/scab_test_292_jpg.rf.48fed4395023411e69e2b4f4cac9be0b.jpg: 640x448 1 leaf_scab, 9.3ms\n",
      "image 1368/1739 /workspace/Plant-Pathology-Anotation-7/test/images/scab_test_293_jpg.rf.9501722a94d9b62cff4cde9888ccf5a0.jpg: 448x640 1 leaf_scab, 9.0ms\n",
      "image 1369/1739 /workspace/Plant-Pathology-Anotation-7/test/images/scab_test_294_jpg.rf.53925e6d8238833c292131ce85028b04.jpg: 448x640 1 leaf_scab, 8.8ms\n",
      "image 1370/1739 /workspace/Plant-Pathology-Anotation-7/test/images/scab_test_295_jpg.rf.ecd2e1311f086de1f2f250e19a2bc697.jpg: 448x640 1 leaf_scab, 8.8ms\n",
      "image 1371/1739 /workspace/Plant-Pathology-Anotation-7/test/images/scab_test_296_jpg.rf.07c4757f56ade0d20f33941adf1e7941.jpg: 448x640 1 leaf_scab, 8.6ms\n",
      "image 1372/1739 /workspace/Plant-Pathology-Anotation-7/test/images/scab_test_297_jpg.rf.8dae3430dd03986331f99c925941e7a0.jpg: 448x640 1 leaf_scab, 8.6ms\n",
      "image 1373/1739 /workspace/Plant-Pathology-Anotation-7/test/images/scab_test_298_jpg.rf.4d5ee4bba8bcf305af4713537cea24d5.jpg: 448x640 1 leaf_scab, 8.6ms\n",
      "image 1374/1739 /workspace/Plant-Pathology-Anotation-7/test/images/scab_test_299_jpg.rf.d1bc4872660756388e261ecc6c91b036.jpg: 640x448 1 leaf_scab, 9.1ms\n",
      "image 1375/1739 /workspace/Plant-Pathology-Anotation-7/test/images/scab_test_29_jpg.rf.588dacab21eb9df6231c60f28563328e.jpg: 448x640 1 leaf_rust, 1 leaf_scab, 9.0ms\n",
      "image 1376/1739 /workspace/Plant-Pathology-Anotation-7/test/images/scab_test_2_jpg.rf.38854d3d65b6f0648a8c1aac1d18ee33.jpg: 448x640 1 leaf_scab, 8.6ms\n",
      "image 1377/1739 /workspace/Plant-Pathology-Anotation-7/test/images/scab_test_300_jpg.rf.a3b5a01c674d58d3ce97db7ce1729ed8.jpg: 448x640 1 leaf_scab, 9.1ms\n",
      "image 1378/1739 /workspace/Plant-Pathology-Anotation-7/test/images/scab_test_301_jpg.rf.598fc553a16dbbdf4f07c50d47a2e7d6.jpg: 448x640 2 leaf_scabs, 8.6ms\n",
      "image 1379/1739 /workspace/Plant-Pathology-Anotation-7/test/images/scab_test_302_jpg.rf.e8ed7ac2a0608ef8f375e6990835a869.jpg: 448x640 1 leaf_scab, 8.5ms\n",
      "image 1380/1739 /workspace/Plant-Pathology-Anotation-7/test/images/scab_test_303_jpg.rf.dc363a28860a9f33ec5c995007bf5f70.jpg: 448x640 1 leaf_scab, 8.9ms\n",
      "image 1381/1739 /workspace/Plant-Pathology-Anotation-7/test/images/scab_test_304_jpg.rf.975978227d9e4e3a6dda580cc337341b.jpg: 448x640 1 leaf_scab, 8.8ms\n",
      "image 1382/1739 /workspace/Plant-Pathology-Anotation-7/test/images/scab_test_305_jpg.rf.48f4701aa453a5cc012e05477ab3f581.jpg: 448x640 1 leaf_scab, 8.5ms\n",
      "image 1383/1739 /workspace/Plant-Pathology-Anotation-7/test/images/scab_test_306_jpg.rf.493c645a2c2d0288b0025647d87f47eb.jpg: 448x640 1 leaf_scab, 8.7ms\n",
      "image 1384/1739 /workspace/Plant-Pathology-Anotation-7/test/images/scab_test_307_jpg.rf.5b63496fcc2b69f34b8fd088b0e93a9c.jpg: 448x640 1 leaf_scab, 8.6ms\n",
      "image 1385/1739 /workspace/Plant-Pathology-Anotation-7/test/images/scab_test_308_jpg.rf.20fa42afeab0cd6b2a39bc43be3d83ca.jpg: 448x640 1 leaf_scab, 8.7ms\n",
      "image 1386/1739 /workspace/Plant-Pathology-Anotation-7/test/images/scab_test_309_jpg.rf.979ad55b6be9deb88dabaf5d9972c053.jpg: 448x640 2 leaf_scabs, 8.7ms\n",
      "image 1387/1739 /workspace/Plant-Pathology-Anotation-7/test/images/scab_test_30_jpg.rf.b00721be66a572ef5eb6bb3bf8415aeb.jpg: 448x640 1 leaf_scab, 8.5ms\n",
      "image 1388/1739 /workspace/Plant-Pathology-Anotation-7/test/images/scab_test_310_jpg.rf.672313bef2f0095158701e37e90e407b.jpg: 448x640 1 leaf_rust, 1 leaf_scab, 8.7ms\n",
      "image 1389/1739 /workspace/Plant-Pathology-Anotation-7/test/images/scab_test_311_jpg.rf.259762dc93f221965825cbb5414d44a8.jpg: 640x448 1 leaf_healthy, 1 leaf_scab, 8.9ms\n",
      "image 1390/1739 /workspace/Plant-Pathology-Anotation-7/test/images/scab_test_312_jpg.rf.1675d21a0601e89214d3f6acba28d170.jpg: 448x640 1 leaf_scab, 9.3ms\n",
      "image 1391/1739 /workspace/Plant-Pathology-Anotation-7/test/images/scab_test_313_jpg.rf.5c56434c763356e1ef3d04e3e92fff49.jpg: 448x640 1 leaf_scab, 8.7ms\n",
      "image 1392/1739 /workspace/Plant-Pathology-Anotation-7/test/images/scab_test_314_jpg.rf.544348daf5f73b6721d76fb70480f5ec.jpg: 448x640 1 leaf_scab, 8.7ms\n",
      "image 1393/1739 /workspace/Plant-Pathology-Anotation-7/test/images/scab_test_315_jpg.rf.eccd8390e260cea791d9fcc81d9c84d1.jpg: 448x640 1 leaf_scab, 8.8ms\n",
      "image 1394/1739 /workspace/Plant-Pathology-Anotation-7/test/images/scab_test_316_jpg.rf.a2af27bb8b23b348da2192acf816b447.jpg: 448x640 1 leaf_scab, 9.4ms\n",
      "image 1395/1739 /workspace/Plant-Pathology-Anotation-7/test/images/scab_test_317_jpg.rf.41318c5a1418ca764bf0a44312d82eae.jpg: 448x640 1 leaf_scab, 8.6ms\n",
      "image 1396/1739 /workspace/Plant-Pathology-Anotation-7/test/images/scab_test_318_jpg.rf.01c0647050cd9d4463acb6d84816b638.jpg: 448x640 1 leaf_scab, 8.6ms\n",
      "image 1397/1739 /workspace/Plant-Pathology-Anotation-7/test/images/scab_test_319_jpg.rf.c7fcf6fa8b10bc92e646c8c5ce64a688.jpg: 448x640 1 leaf_scab, 8.7ms\n",
      "image 1398/1739 /workspace/Plant-Pathology-Anotation-7/test/images/scab_test_31_jpg.rf.d5e16708dc014a179622a358fc94d6b3.jpg: 448x640 2 leaf_scabs, 8.6ms\n",
      "image 1399/1739 /workspace/Plant-Pathology-Anotation-7/test/images/scab_test_320_jpg.rf.b7036b1ddd1efe7dfa05445a447621d0.jpg: 448x640 1 leaf_scab, 8.6ms\n",
      "image 1400/1739 /workspace/Plant-Pathology-Anotation-7/test/images/scab_test_321_jpg.rf.7a9808a1614eb9def6a887d985e9fed5.jpg: 448x640 1 leaf_scab, 8.7ms\n",
      "image 1401/1739 /workspace/Plant-Pathology-Anotation-7/test/images/scab_test_322_jpg.rf.659862e7a8966d065199c6a648fa1c9c.jpg: 448x640 1 leaf_scab, 8.4ms\n",
      "image 1402/1739 /workspace/Plant-Pathology-Anotation-7/test/images/scab_test_323_jpg.rf.0745a71e7b08bbf9be46eb69d6bdd7f8.jpg: 448x640 1 leaf_scab, 9.0ms\n",
      "image 1403/1739 /workspace/Plant-Pathology-Anotation-7/test/images/scab_test_324_jpg.rf.07b43b12fddbd87b4c734fd6fcb9d609.jpg: 448x640 1 leaf_scab, 8.8ms\n",
      "image 1404/1739 /workspace/Plant-Pathology-Anotation-7/test/images/scab_test_325_jpg.rf.4f88097f3c53a207e44be418d0f16e5a.jpg: 448x640 1 leaf_scab, 8.6ms\n",
      "image 1405/1739 /workspace/Plant-Pathology-Anotation-7/test/images/scab_test_326_jpg.rf.0fdff03ed246699b8e27efc81bac824c.jpg: 448x640 1 leaf_scab, 8.8ms\n",
      "image 1406/1739 /workspace/Plant-Pathology-Anotation-7/test/images/scab_test_327_jpg.rf.8a62565ac1c478984354bd87b5ca7aba.jpg: 448x640 2 leaf_scabs, 8.7ms\n",
      "image 1407/1739 /workspace/Plant-Pathology-Anotation-7/test/images/scab_test_328_jpg.rf.ddc0e6a1412baed9914f2886e29e0952.jpg: 448x640 1 leaf_scab, 8.6ms\n",
      "image 1408/1739 /workspace/Plant-Pathology-Anotation-7/test/images/scab_test_329_jpg.rf.2c991db90f90b65c1639e116ab0a6d16.jpg: 448x640 1 leaf_scab, 8.7ms\n",
      "image 1409/1739 /workspace/Plant-Pathology-Anotation-7/test/images/scab_test_32_jpg.rf.d4ff0813c3da668ce1644c208137ce4e.jpg: 448x640 1 leaf_scab, 8.7ms\n",
      "image 1410/1739 /workspace/Plant-Pathology-Anotation-7/test/images/scab_test_330_jpg.rf.21c48a9b116efd7c39c06eaabb5d911c.jpg: 448x640 1 leaf_scab, 8.6ms\n",
      "image 1411/1739 /workspace/Plant-Pathology-Anotation-7/test/images/scab_test_331_jpg.rf.0f5913f65449982d9b4e73fab3b07318.jpg: 448x640 1 leaf_scab, 8.8ms\n",
      "image 1412/1739 /workspace/Plant-Pathology-Anotation-7/test/images/scab_test_332_jpg.rf.862769d1a38e6a034fb529c09bc28b95.jpg: 448x640 1 leaf_scab, 8.6ms\n",
      "image 1413/1739 /workspace/Plant-Pathology-Anotation-7/test/images/scab_test_333_jpg.rf.795f6a479a0eda7198fc94f880ca6d46.jpg: 448x640 1 leaf_scab, 8.5ms\n",
      "image 1414/1739 /workspace/Plant-Pathology-Anotation-7/test/images/scab_test_334_jpg.rf.166ee2a181675a750707ec4328897021.jpg: 448x640 1 leaf_scab, 8.6ms\n",
      "image 1415/1739 /workspace/Plant-Pathology-Anotation-7/test/images/scab_test_335_jpg.rf.3a521575051b4f1d37d9f87f3cb44389.jpg: 448x640 1 leaf_scab, 8.3ms\n",
      "image 1416/1739 /workspace/Plant-Pathology-Anotation-7/test/images/scab_test_336_jpg.rf.2fe368e156fe8f0d3cdcb51b71f1175d.jpg: 448x640 1 leaf_rust, 1 leaf_scab, 8.4ms\n",
      "image 1417/1739 /workspace/Plant-Pathology-Anotation-7/test/images/scab_test_337_jpg.rf.81052d4a1c847de05fa287b2e0a0aa9c.jpg: 448x640 1 leaf_scab, 9.2ms\n",
      "image 1418/1739 /workspace/Plant-Pathology-Anotation-7/test/images/scab_test_338_jpg.rf.a651eb75b026d9c0351cdbdf176a7d49.jpg: 448x640 1 leaf_healthy, 1 leaf_scab, 8.3ms\n",
      "image 1419/1739 /workspace/Plant-Pathology-Anotation-7/test/images/scab_test_339_jpg.rf.a10bae430041ff092a63ee4dcf1850a7.jpg: 448x640 1 leaf_scab, 8.6ms\n",
      "image 1420/1739 /workspace/Plant-Pathology-Anotation-7/test/images/scab_test_33_jpg.rf.7d76df1af53b0b8f4edc167f522fa974.jpg: 448x640 1 leaf_rust, 3 leaf_scabs, 8.8ms\n",
      "image 1421/1739 /workspace/Plant-Pathology-Anotation-7/test/images/scab_test_340_jpg.rf.879f3a40489d2d9e6bae4980df5c94b1.jpg: 448x640 1 leaf_scab, 8.4ms\n",
      "image 1422/1739 /workspace/Plant-Pathology-Anotation-7/test/images/scab_test_341_jpg.rf.684fd6385319fd9deeae91c0756725fa.jpg: 448x640 1 leaf_scab, 8.7ms\n",
      "image 1423/1739 /workspace/Plant-Pathology-Anotation-7/test/images/scab_test_342_jpg.rf.90c0c668dc6c1442928a35773274770d.jpg: 448x640 1 leaf_scab, 8.6ms\n",
      "image 1424/1739 /workspace/Plant-Pathology-Anotation-7/test/images/scab_test_343_jpg.rf.707c06f19a8d4e99ef200addf3e58511.jpg: 448x640 1 leaf_scab, 8.6ms\n",
      "image 1425/1739 /workspace/Plant-Pathology-Anotation-7/test/images/scab_test_344_jpg.rf.8a7be89204afb409ff4f9b3b2068f25e.jpg: 448x640 1 leaf_scab, 8.6ms\n",
      "image 1426/1739 /workspace/Plant-Pathology-Anotation-7/test/images/scab_test_345_jpg.rf.12e9b922a06c157dcc6a6e0b5c15bf99.jpg: 448x640 1 leaf_scab, 8.8ms\n",
      "image 1427/1739 /workspace/Plant-Pathology-Anotation-7/test/images/scab_test_346_jpg.rf.9d3b7bfe6c35b444ffeb983e980a4d89.jpg: 448x640 2 leaf_scabs, 8.4ms\n",
      "image 1428/1739 /workspace/Plant-Pathology-Anotation-7/test/images/scab_test_347_jpg.rf.ed28f18967ad5f39961ae419a8988a94.jpg: 448x640 1 leaf_scab, 8.9ms\n",
      "image 1429/1739 /workspace/Plant-Pathology-Anotation-7/test/images/scab_test_348_jpg.rf.e4a76f4d56e4b65cfbad3fb4f0561b92.jpg: 448x640 1 leaf_scab, 8.4ms\n",
      "image 1430/1739 /workspace/Plant-Pathology-Anotation-7/test/images/scab_test_349_jpg.rf.51983e1ec0f85af9e952928390dd8b27.jpg: 448x640 1 leaf_scab, 9.2ms\n",
      "image 1431/1739 /workspace/Plant-Pathology-Anotation-7/test/images/scab_test_34_jpg.rf.fd7ae8c8f749b4c3a40d11bfb7d8aa29.jpg: 448x640 1 leaf_scab, 8.6ms\n",
      "image 1432/1739 /workspace/Plant-Pathology-Anotation-7/test/images/scab_test_350_jpg.rf.87e151a4a1aef3938f755ae56e0ca3ea.jpg: 448x640 1 leaf_scab, 8.7ms\n",
      "image 1433/1739 /workspace/Plant-Pathology-Anotation-7/test/images/scab_test_351_jpg.rf.224bcf3c6b7c97e60df512ea8af4ccf9.jpg: 448x640 1 leaf_scab, 8.7ms\n",
      "image 1434/1739 /workspace/Plant-Pathology-Anotation-7/test/images/scab_test_352_jpg.rf.0f32172517e1a6ab439fe73c2a7dea63.jpg: 448x640 3 leaf_healthys, 8.7ms\n",
      "image 1435/1739 /workspace/Plant-Pathology-Anotation-7/test/images/scab_test_353_jpg.rf.1ffb37df3ea1fd07e825e2fcaab63e2f.jpg: 448x640 2 leaf_scabs, 8.5ms\n",
      "image 1436/1739 /workspace/Plant-Pathology-Anotation-7/test/images/scab_test_354_jpg.rf.15144f95df22f09dfbf4b5f9ecd93c95.jpg: 448x640 1 leaf_rust, 1 leaf_scab, 9.3ms\n",
      "image 1437/1739 /workspace/Plant-Pathology-Anotation-7/test/images/scab_test_355_jpg.rf.2423f9987ebf1ca7187e63b72e32caf6.jpg: 448x640 1 leaf_scab, 8.5ms\n",
      "image 1438/1739 /workspace/Plant-Pathology-Anotation-7/test/images/scab_test_356_jpg.rf.9f2947ed6cae0fc963e246afc21aba61.jpg: 448x640 1 leaf_scab, 9.2ms\n",
      "image 1439/1739 /workspace/Plant-Pathology-Anotation-7/test/images/scab_test_357_jpg.rf.43184af1a296378eb209c52b3d21aef2.jpg: 448x640 1 leaf_scab, 8.6ms\n",
      "image 1440/1739 /workspace/Plant-Pathology-Anotation-7/test/images/scab_test_358_jpg.rf.a51ceb7a714b3c0c1ee008389eac73e8.jpg: 448x640 2 leaf_rusts, 1 leaf_scab, 8.7ms\n",
      "image 1441/1739 /workspace/Plant-Pathology-Anotation-7/test/images/scab_test_359_jpg.rf.d48796a8c27f13d0dfd922191db70fdd.jpg: 448x640 1 leaf_scab, 8.5ms\n",
      "image 1442/1739 /workspace/Plant-Pathology-Anotation-7/test/images/scab_test_35_jpg.rf.1a0342b422ddf440d974bdb48fd6487c.jpg: 448x640 1 leaf_scab, 8.6ms\n",
      "image 1443/1739 /workspace/Plant-Pathology-Anotation-7/test/images/scab_test_360_jpg.rf.bb775fda9364477c6cc68444b34ade46.jpg: 448x640 1 leaf_scab, 9.1ms\n",
      "image 1444/1739 /workspace/Plant-Pathology-Anotation-7/test/images/scab_test_361_jpg.rf.7a116fb41012349b588cdf4bc8e6d2b5.jpg: 448x640 1 leaf_scab, 8.4ms\n",
      "image 1445/1739 /workspace/Plant-Pathology-Anotation-7/test/images/scab_test_362_jpg.rf.58cc534a53db43b42869f45b8c8ed881.jpg: 448x640 1 leaf_scab, 8.7ms\n",
      "image 1446/1739 /workspace/Plant-Pathology-Anotation-7/test/images/scab_test_363_jpg.rf.4deb021ce9c697592962cbc76b058114.jpg: 448x640 1 leaf_scab, 8.7ms\n",
      "image 1447/1739 /workspace/Plant-Pathology-Anotation-7/test/images/scab_test_364_jpg.rf.3b189f1d06637626f48aeca4bee27ad3.jpg: 448x640 1 leaf_scab, 8.8ms\n",
      "image 1448/1739 /workspace/Plant-Pathology-Anotation-7/test/images/scab_test_365_jpg.rf.1257d687fed1c6bd29cc0c25a44e7090.jpg: 448x640 1 leaf_scab, 8.5ms\n",
      "image 1449/1739 /workspace/Plant-Pathology-Anotation-7/test/images/scab_test_366_jpg.rf.d66db541b87d5c0027ca7aa749da062e.jpg: 448x640 1 leaf_scab, 8.6ms\n",
      "image 1450/1739 /workspace/Plant-Pathology-Anotation-7/test/images/scab_test_367_jpg.rf.99559eedc38fc204eb7154b69866e176.jpg: 448x640 1 leaf_scab, 8.6ms\n",
      "image 1451/1739 /workspace/Plant-Pathology-Anotation-7/test/images/scab_test_368_jpg.rf.a8b93577d5f09b37a184d5779186c85f.jpg: 448x640 2 leaf_scabs, 8.6ms\n",
      "image 1452/1739 /workspace/Plant-Pathology-Anotation-7/test/images/scab_test_369_jpg.rf.f9945c83bb72ba5e0898ee5e5d5f81e8.jpg: 448x640 1 leaf_scab, 8.5ms\n",
      "image 1453/1739 /workspace/Plant-Pathology-Anotation-7/test/images/scab_test_36_jpg.rf.29c90f3420150236be9b6df4461162a6.jpg: 448x640 2 leaf_scabs, 8.9ms\n",
      "image 1454/1739 /workspace/Plant-Pathology-Anotation-7/test/images/scab_test_370_jpg.rf.1b857a76e0e1a7e13c4ab45ecb3d89ed.jpg: 448x640 1 leaf_scab, 8.5ms\n",
      "image 1455/1739 /workspace/Plant-Pathology-Anotation-7/test/images/scab_test_371_jpg.rf.cf1205bf165f996b065d5ae8a9912edc.jpg: 448x640 1 leaf_scab, 8.7ms\n",
      "image 1456/1739 /workspace/Plant-Pathology-Anotation-7/test/images/scab_test_372_jpg.rf.eabfe0c3c6442f6dd86c669a88ec3a99.jpg: 448x640 1 leaf_scab, 8.6ms\n",
      "image 1457/1739 /workspace/Plant-Pathology-Anotation-7/test/images/scab_test_373_jpg.rf.ab2fe38eab00a773856682b7338ea34c.jpg: 448x640 1 leaf_scab, 8.7ms\n",
      "image 1458/1739 /workspace/Plant-Pathology-Anotation-7/test/images/scab_test_374_jpg.rf.7cc1fc5025137abfdcd31d54bbcb8bce.jpg: 448x640 1 leaf_scab, 8.7ms\n",
      "image 1459/1739 /workspace/Plant-Pathology-Anotation-7/test/images/scab_test_375_jpg.rf.b68fbf166d92f2187f58c317119a67b7.jpg: 448x640 1 leaf_scab, 8.6ms\n",
      "image 1460/1739 /workspace/Plant-Pathology-Anotation-7/test/images/scab_test_376_jpg.rf.8f5e0de1797e9a61c2b9f7847f643697.jpg: 448x640 1 leaf_scab, 9.1ms\n",
      "image 1461/1739 /workspace/Plant-Pathology-Anotation-7/test/images/scab_test_377_jpg.rf.6ee6f7f5c8a445e2c21ef9d1815266e9.jpg: 448x640 2 leaf_scabs, 8.6ms\n",
      "image 1462/1739 /workspace/Plant-Pathology-Anotation-7/test/images/scab_test_378_jpg.rf.c6632f400a0289b84b790ea45bb9af72.jpg: 448x640 1 leaf_scab, 8.4ms\n",
      "image 1463/1739 /workspace/Plant-Pathology-Anotation-7/test/images/scab_test_379_jpg.rf.03734b44c880837ea0cdccdfb282de9c.jpg: 448x640 2 leaf_scabs, 8.8ms\n",
      "image 1464/1739 /workspace/Plant-Pathology-Anotation-7/test/images/scab_test_37_jpg.rf.715beae66f16a8b4a08b567d3188fac8.jpg: 448x640 1 leaf_scab, 8.5ms\n",
      "image 1465/1739 /workspace/Plant-Pathology-Anotation-7/test/images/scab_test_380_jpg.rf.1b88b398d4d0f7f0d2b2a72a06eb7209.jpg: 448x640 1 leaf_scab, 8.8ms\n",
      "image 1466/1739 /workspace/Plant-Pathology-Anotation-7/test/images/scab_test_381_jpg.rf.d0f29d8b5ccd475977936a1fb7ede480.jpg: 448x640 2 leaf_scabs, 8.7ms\n",
      "image 1467/1739 /workspace/Plant-Pathology-Anotation-7/test/images/scab_test_382_jpg.rf.69c5f65f11a253ce03e31df6855d6aba.jpg: 448x640 1 leaf_scab, 8.5ms\n",
      "image 1468/1739 /workspace/Plant-Pathology-Anotation-7/test/images/scab_test_383_jpg.rf.24b2fde843dd8e1dc2d61026c07ed860.jpg: 448x640 2 leaf_scabs, 8.6ms\n",
      "image 1469/1739 /workspace/Plant-Pathology-Anotation-7/test/images/scab_test_384_jpg.rf.3c5dbb00f8cfbb3216d423626b25a863.jpg: 448x640 1 leaf_scab, 8.5ms\n",
      "image 1470/1739 /workspace/Plant-Pathology-Anotation-7/test/images/scab_test_385_jpg.rf.252a9145bcf04eddb416c0f84afc00ba.jpg: 448x640 1 leaf_scab, 8.7ms\n",
      "image 1471/1739 /workspace/Plant-Pathology-Anotation-7/test/images/scab_test_386_jpg.rf.0b500d0da279d7b1cf4ae6cdfbf9d239.jpg: 448x640 1 leaf_scab, 8.5ms\n",
      "image 1472/1739 /workspace/Plant-Pathology-Anotation-7/test/images/scab_test_387_jpg.rf.34c4987e4e89e6ccd304ad4bb0d243eb.jpg: 448x640 1 leaf_healthy, 1 leaf_scab, 8.6ms\n",
      "image 1473/1739 /workspace/Plant-Pathology-Anotation-7/test/images/scab_test_388_jpg.rf.c321d5b74424593b6105ccec85c34bd9.jpg: 448x640 1 leaf_scab, 8.4ms\n",
      "image 1474/1739 /workspace/Plant-Pathology-Anotation-7/test/images/scab_test_389_jpg.rf.6236f811882506fd59fd48df4a586367.jpg: 448x640 1 leaf_scab, 8.7ms\n",
      "image 1475/1739 /workspace/Plant-Pathology-Anotation-7/test/images/scab_test_38_jpg.rf.f0f377def2b7c4e7b2d1c603d6b17f46.jpg: 448x640 1 leaf_scab, 8.8ms\n",
      "image 1476/1739 /workspace/Plant-Pathology-Anotation-7/test/images/scab_test_390_jpg.rf.e579dedafe9352aba291ec055c170813.jpg: 448x640 1 leaf_scab, 8.9ms\n",
      "image 1477/1739 /workspace/Plant-Pathology-Anotation-7/test/images/scab_test_391_jpg.rf.e338a6bd9db2800ded48a33ff6790193.jpg: 448x640 1 leaf_scab, 8.6ms\n",
      "image 1478/1739 /workspace/Plant-Pathology-Anotation-7/test/images/scab_test_392_jpg.rf.baba894906069264fef555e0d1549831.jpg: 448x640 2 leaf_scabs, 8.8ms\n",
      "image 1479/1739 /workspace/Plant-Pathology-Anotation-7/test/images/scab_test_393_jpg.rf.6e58decada65046f840d0e56adac52c2.jpg: 448x640 1 leaf_scab, 8.4ms\n",
      "image 1480/1739 /workspace/Plant-Pathology-Anotation-7/test/images/scab_test_394_jpg.rf.80a1cd3209c65fe951e09bcd86a9a4e4.jpg: 448x640 3 leaf_scabs, 8.8ms\n",
      "image 1481/1739 /workspace/Plant-Pathology-Anotation-7/test/images/scab_test_395_jpg.rf.9102b90bad22eb6dd83d432dee5b5e6d.jpg: 448x640 1 leaf_scab, 8.6ms\n",
      "image 1482/1739 /workspace/Plant-Pathology-Anotation-7/test/images/scab_test_396_jpg.rf.a3a04bf65dc6d1e3d1fcb5df4c52572b.jpg: 448x640 3 leaf_scabs, 9.0ms\n",
      "image 1483/1739 /workspace/Plant-Pathology-Anotation-7/test/images/scab_test_397_jpg.rf.e8cd8f460ee5405aa18e36a979e140a9.jpg: 448x640 1 leaf_scab, 8.4ms\n",
      "image 1484/1739 /workspace/Plant-Pathology-Anotation-7/test/images/scab_test_398_jpg.rf.e188587be68643ca14feb3dbbd8f52ac.jpg: 448x640 1 leaf_scab, 8.7ms\n",
      "image 1485/1739 /workspace/Plant-Pathology-Anotation-7/test/images/scab_test_399_jpg.rf.293ad5713da44f75d05ac5affa46b62d.jpg: 448x640 1 leaf_scab, 8.7ms\n",
      "image 1486/1739 /workspace/Plant-Pathology-Anotation-7/test/images/scab_test_39_jpg.rf.8f0c274a41e03d7fe8db1eaa641722f8.jpg: 448x640 1 leaf_scab, 8.9ms\n",
      "image 1487/1739 /workspace/Plant-Pathology-Anotation-7/test/images/scab_test_3_jpg.rf.2491712048749360770e4dd8de0f40d4.jpg: 448x640 1 leaf_scab, 8.6ms\n",
      "image 1488/1739 /workspace/Plant-Pathology-Anotation-7/test/images/scab_test_400_jpg.rf.7932e1eed10b95e6fbc4e1f3084310f4.jpg: 448x640 1 leaf_healthy, 1 leaf_scab, 8.7ms\n",
      "image 1489/1739 /workspace/Plant-Pathology-Anotation-7/test/images/scab_test_401_jpg.rf.de67a329b093da2d14719d88a0e79707.jpg: 448x640 1 leaf_scab, 8.5ms\n",
      "image 1490/1739 /workspace/Plant-Pathology-Anotation-7/test/images/scab_test_402_jpg.rf.f665c2d1099c8b4f43bf14b8969aeb90.jpg: 448x640 1 leaf_scab, 8.7ms\n",
      "image 1491/1739 /workspace/Plant-Pathology-Anotation-7/test/images/scab_test_403_jpg.rf.4fd7804bd2970ac305728fb56407c1c8.jpg: 448x640 1 leaf_scab, 8.6ms\n",
      "image 1492/1739 /workspace/Plant-Pathology-Anotation-7/test/images/scab_test_404_jpg.rf.6a05644954955cbe7ceae17033656360.jpg: 448x640 2 leaf_scabs, 8.4ms\n",
      "image 1493/1739 /workspace/Plant-Pathology-Anotation-7/test/images/scab_test_405_jpg.rf.fe5bf74b63b53011450ca5a939ff8b9c.jpg: 448x640 1 leaf_scab, 8.8ms\n",
      "image 1494/1739 /workspace/Plant-Pathology-Anotation-7/test/images/scab_test_406_jpg.rf.b377cda9c6206e834602461cb9ae1bc9.jpg: 448x640 1 leaf_scab, 8.4ms\n",
      "image 1495/1739 /workspace/Plant-Pathology-Anotation-7/test/images/scab_test_407_jpg.rf.e091676f4e476bc55fcaaa89c35ba59d.jpg: 448x640 1 leaf_scab, 8.7ms\n",
      "image 1496/1739 /workspace/Plant-Pathology-Anotation-7/test/images/scab_test_408_jpg.rf.5861f207152425d6227ea03b9b544460.jpg: 448x640 1 leaf_scab, 8.5ms\n",
      "image 1497/1739 /workspace/Plant-Pathology-Anotation-7/test/images/scab_test_409_jpg.rf.d6eb109051a2c18fa107f7a6ccdabe71.jpg: 448x640 3 leaf_scabs, 8.6ms\n",
      "image 1498/1739 /workspace/Plant-Pathology-Anotation-7/test/images/scab_test_40_jpg.rf.545bd28aefaefad12ca6b8f948bba5a6.jpg: 448x640 1 leaf_scab, 8.5ms\n",
      "image 1499/1739 /workspace/Plant-Pathology-Anotation-7/test/images/scab_test_410_jpg.rf.293573f3375c4d3fbf7294c87da95524.jpg: 448x640 1 leaf_scab, 9.1ms\n",
      "image 1500/1739 /workspace/Plant-Pathology-Anotation-7/test/images/scab_test_411_jpg.rf.b2f35be72f91b0cc42f8aafedb9c9d2e.jpg: 448x640 1 leaf_scab, 8.8ms\n",
      "image 1501/1739 /workspace/Plant-Pathology-Anotation-7/test/images/scab_test_412_jpg.rf.952b696728e4c8c13798796439a39def.jpg: 448x640 3 leaf_scabs, 8.8ms\n",
      "image 1502/1739 /workspace/Plant-Pathology-Anotation-7/test/images/scab_test_413_jpg.rf.93ea25633c06a415f8c79f10c8157b81.jpg: 448x640 1 leaf_scab, 8.5ms\n",
      "image 1503/1739 /workspace/Plant-Pathology-Anotation-7/test/images/scab_test_414_jpg.rf.baa9430f3bcc2d77b2b834f887c2e4c6.jpg: 448x640 1 leaf_scab, 9.1ms\n",
      "image 1504/1739 /workspace/Plant-Pathology-Anotation-7/test/images/scab_test_415_jpg.rf.26df32d8e3b9cd0e17021f95207d2684.jpg: 448x640 1 leaf_scab, 8.6ms\n",
      "image 1505/1739 /workspace/Plant-Pathology-Anotation-7/test/images/scab_test_416_jpg.rf.3f35396814a41714f9725ab4b85f586d.jpg: 448x640 1 leaf_scab, 8.4ms\n",
      "image 1506/1739 /workspace/Plant-Pathology-Anotation-7/test/images/scab_test_417_jpg.rf.ad13c7c6883874b19db8e22eadc68528.jpg: 448x640 1 leaf_scab, 8.7ms\n",
      "image 1507/1739 /workspace/Plant-Pathology-Anotation-7/test/images/scab_test_418_jpg.rf.f28af4a70bf7223605c9b9a01c99889d.jpg: 448x640 1 leaf_scab, 8.7ms\n",
      "image 1508/1739 /workspace/Plant-Pathology-Anotation-7/test/images/scab_test_419_jpg.rf.0d005b608ec75b2806b735fa3046932d.jpg: 448x640 1 leaf_scab, 8.6ms\n",
      "image 1509/1739 /workspace/Plant-Pathology-Anotation-7/test/images/scab_test_41_jpg.rf.5f2e1fc5f74f5b892f264572e316967b.jpg: 448x640 1 leaf_scab, 8.6ms\n",
      "image 1510/1739 /workspace/Plant-Pathology-Anotation-7/test/images/scab_test_420_jpg.rf.8e628f0c217eea1b2a5f750c394820c2.jpg: 448x640 1 leaf_scab, 8.4ms\n",
      "image 1511/1739 /workspace/Plant-Pathology-Anotation-7/test/images/scab_test_421_jpg.rf.c002870043d4b0078f5f2945a45bfde5.jpg: 448x640 2 leaf_scabs, 9.1ms\n",
      "image 1512/1739 /workspace/Plant-Pathology-Anotation-7/test/images/scab_test_422_jpg.rf.275fd4fe4d23e4d76c2f70aa3ad20bf2.jpg: 448x640 1 leaf_scab, 8.6ms\n",
      "image 1513/1739 /workspace/Plant-Pathology-Anotation-7/test/images/scab_test_423_jpg.rf.bef6720269733992489fa866aeba4c65.jpg: 448x640 1 leaf_scab, 8.7ms\n",
      "image 1514/1739 /workspace/Plant-Pathology-Anotation-7/test/images/scab_test_424_jpg.rf.90e0a423fad571d65f2f13ca5c55e5ff.jpg: 448x640 1 leaf_scab, 8.6ms\n",
      "image 1515/1739 /workspace/Plant-Pathology-Anotation-7/test/images/scab_test_425_jpg.rf.85eb9ce2e3dfcd5b57c0573464cd9421.jpg: 448x640 2 leaf_scabs, 8.7ms\n",
      "image 1516/1739 /workspace/Plant-Pathology-Anotation-7/test/images/scab_test_426_jpg.rf.cba887924c5710f511bdc04f941b1d30.jpg: 448x640 1 leaf_scab, 8.5ms\n",
      "image 1517/1739 /workspace/Plant-Pathology-Anotation-7/test/images/scab_test_427_jpg.rf.e1e2c236ec41eb2cc0e7fa84d0b7c829.jpg: 448x640 2 leaf_scabs, 9.1ms\n",
      "image 1518/1739 /workspace/Plant-Pathology-Anotation-7/test/images/scab_test_428_jpg.rf.2991badd0284136eb6c4f1abef1c5bde.jpg: 448x640 1 leaf_scab, 8.5ms\n",
      "image 1519/1739 /workspace/Plant-Pathology-Anotation-7/test/images/scab_test_429_jpg.rf.ea71e7f8f34b5ecd08a0aab5e9e6b139.jpg: 448x640 1 leaf_scab, 8.7ms\n",
      "image 1520/1739 /workspace/Plant-Pathology-Anotation-7/test/images/scab_test_42_jpg.rf.08fc52b8c67bb4fab9ca82bb76510f35.jpg: 448x640 1 leaf_scab, 8.6ms\n",
      "image 1521/1739 /workspace/Plant-Pathology-Anotation-7/test/images/scab_test_430_jpg.rf.915dc73e036b4fa5c4911f1e64295ac9.jpg: 448x640 2 leaf_scabs, 8.7ms\n",
      "image 1522/1739 /workspace/Plant-Pathology-Anotation-7/test/images/scab_test_431_jpg.rf.a6565decb34d6c878242fbf2c3dfc20d.jpg: 448x640 1 leaf_scab, 8.7ms\n",
      "image 1523/1739 /workspace/Plant-Pathology-Anotation-7/test/images/scab_test_432_jpg.rf.0e25b56aac4bd5e0bf1dd1ccb0df594b.jpg: 448x640 1 leaf_rust, 1 leaf_scab, 8.8ms\n",
      "image 1524/1739 /workspace/Plant-Pathology-Anotation-7/test/images/scab_test_433_jpg.rf.c3c75ce4c0ba45ae8a534cdae4cb4109.jpg: 448x640 1 leaf_rust, 1 leaf_scab, 8.5ms\n",
      "image 1525/1739 /workspace/Plant-Pathology-Anotation-7/test/images/scab_test_434_jpg.rf.3d26368070a27a1bdd1596c81fee4469.jpg: 448x640 1 leaf_scab, 9.2ms\n",
      "image 1526/1739 /workspace/Plant-Pathology-Anotation-7/test/images/scab_test_435_jpg.rf.2c7ca259d36e0656670b39597d8ba74d.jpg: 448x640 1 leaf_scab, 8.8ms\n",
      "image 1527/1739 /workspace/Plant-Pathology-Anotation-7/test/images/scab_test_436_jpg.rf.b72a51b1bc3a50d2035464cc149eef69.jpg: 448x640 1 leaf_scab, 8.8ms\n",
      "image 1528/1739 /workspace/Plant-Pathology-Anotation-7/test/images/scab_test_437_jpg.rf.d73d152f31c9a5af702b7e3a8ef1f048.jpg: 448x640 1 leaf_scab, 8.5ms\n",
      "image 1529/1739 /workspace/Plant-Pathology-Anotation-7/test/images/scab_test_438_jpg.rf.a1bc666845eb168747d889a26e23a968.jpg: 448x640 1 leaf_scab, 8.7ms\n",
      "image 1530/1739 /workspace/Plant-Pathology-Anotation-7/test/images/scab_test_439_jpg.rf.d2da02d72a289846d32ce16093210d81.jpg: 448x640 1 leaf_scab, 8.5ms\n",
      "image 1531/1739 /workspace/Plant-Pathology-Anotation-7/test/images/scab_test_43_jpg.rf.15349b55628dde40a46335141a915911.jpg: 448x640 3 leaf_scabs, 8.7ms\n",
      "image 1532/1739 /workspace/Plant-Pathology-Anotation-7/test/images/scab_test_440_jpg.rf.5e168574df9cb21433190aed60273c33.jpg: 448x640 1 leaf_scab, 8.9ms\n",
      "image 1533/1739 /workspace/Plant-Pathology-Anotation-7/test/images/scab_test_441_jpg.rf.3d284cfcb0692d1a26eed73babf0491b.jpg: 448x640 3 leaf_scabs, 8.7ms\n",
      "image 1534/1739 /workspace/Plant-Pathology-Anotation-7/test/images/scab_test_442_jpg.rf.878e1a697a3d6cd21310df8a1f852988.jpg: 448x640 1 leaf_scab, 8.4ms\n",
      "image 1535/1739 /workspace/Plant-Pathology-Anotation-7/test/images/scab_test_443_jpg.rf.d5ee09ae36a8951ee22766b9a5f68370.jpg: 448x640 1 leaf_scab, 8.7ms\n",
      "image 1536/1739 /workspace/Plant-Pathology-Anotation-7/test/images/scab_test_444_jpg.rf.ac5fbcf3e16789751083d773d08c06bc.jpg: 448x640 2 leaf_scabs, 8.6ms\n",
      "image 1537/1739 /workspace/Plant-Pathology-Anotation-7/test/images/scab_test_445_jpg.rf.a623cadc6bc0d2fc4b23fb731d261f6c.jpg: 448x640 2 leaf_scabs, 8.5ms\n",
      "image 1538/1739 /workspace/Plant-Pathology-Anotation-7/test/images/scab_test_446_jpg.rf.f8157fea681097fe6a9f05ec9da405ae.jpg: 448x640 1 leaf_scab, 8.8ms\n",
      "image 1539/1739 /workspace/Plant-Pathology-Anotation-7/test/images/scab_test_447_jpg.rf.883355d725d58f14a297983df4fa7bd3.jpg: 448x640 3 leaf_scabs, 8.5ms\n",
      "image 1540/1739 /workspace/Plant-Pathology-Anotation-7/test/images/scab_test_448_jpg.rf.369b2c717504aeff70c073fe109c4668.jpg: 448x640 2 leaf_scabs, 9.3ms\n",
      "image 1541/1739 /workspace/Plant-Pathology-Anotation-7/test/images/scab_test_449_jpg.rf.8fa641a55892351f09c18a8b3a767d85.jpg: 448x640 2 leaf_scabs, 8.5ms\n",
      "image 1542/1739 /workspace/Plant-Pathology-Anotation-7/test/images/scab_test_44_jpg.rf.02ba1d1dcddf483a3d8221854d7a7a2d.jpg: 448x640 1 leaf_scab, 9.1ms\n",
      "image 1543/1739 /workspace/Plant-Pathology-Anotation-7/test/images/scab_test_450_jpg.rf.3d736628b1d08678e24406d81624a061.jpg: 448x640 1 leaf_scab, 8.6ms\n",
      "image 1544/1739 /workspace/Plant-Pathology-Anotation-7/test/images/scab_test_451_jpg.rf.271dcff3acb479004ab9ff2d7800074c.jpg: 448x640 1 leaf_scab, 8.8ms\n",
      "image 1545/1739 /workspace/Plant-Pathology-Anotation-7/test/images/scab_test_452_jpg.rf.cc8467a372e0aa92053ae1ecaa1d04d3.jpg: 448x640 1 leaf_scab, 8.7ms\n",
      "image 1546/1739 /workspace/Plant-Pathology-Anotation-7/test/images/scab_test_453_jpg.rf.50698b222ef86c13b95ac755dad35589.jpg: 448x640 1 leaf_scab, 8.8ms\n",
      "image 1547/1739 /workspace/Plant-Pathology-Anotation-7/test/images/scab_test_454_jpg.rf.dd5ff797e8fbb76f56d1f6e652d88395.jpg: 448x640 1 leaf_scab, 8.7ms\n",
      "image 1548/1739 /workspace/Plant-Pathology-Anotation-7/test/images/scab_test_455_jpg.rf.6649da27a5a73d1a22e7be8e44b873b2.jpg: 448x640 1 leaf_scab, 8.8ms\n",
      "image 1549/1739 /workspace/Plant-Pathology-Anotation-7/test/images/scab_test_456_jpg.rf.5a796152edbe6aa0f681c81ce3053f71.jpg: 448x640 4 leaf_scabs, 8.4ms\n",
      "image 1550/1739 /workspace/Plant-Pathology-Anotation-7/test/images/scab_test_457_jpg.rf.297ec8dab3e93c2e539c17128f31ef08.jpg: 448x640 1 leaf_scab, 8.6ms\n",
      "image 1551/1739 /workspace/Plant-Pathology-Anotation-7/test/images/scab_test_458_jpg.rf.cc47b0b3e7dc57cdd9882c72d4f99c75.jpg: 448x640 1 leaf_scab, 8.8ms\n",
      "image 1552/1739 /workspace/Plant-Pathology-Anotation-7/test/images/scab_test_459_jpg.rf.ced69fcd385b5512c52d86aa187defa0.jpg: 448x640 1 leaf_scab, 8.7ms\n",
      "image 1553/1739 /workspace/Plant-Pathology-Anotation-7/test/images/scab_test_45_jpg.rf.a853f6326b925169d35e0807d070fcad.jpg: 448x640 1 leaf_scab, 8.7ms\n",
      "image 1554/1739 /workspace/Plant-Pathology-Anotation-7/test/images/scab_test_460_jpg.rf.98294189c01a57ca06a7f879cb166e28.jpg: 448x640 1 leaf_scab, 8.7ms\n",
      "image 1555/1739 /workspace/Plant-Pathology-Anotation-7/test/images/scab_test_461_jpg.rf.fe85ebb3e4f0352e157a29c650014902.jpg: 448x640 1 leaf_scab, 8.7ms\n",
      "image 1556/1739 /workspace/Plant-Pathology-Anotation-7/test/images/scab_test_462_jpg.rf.04ea896d89103a7b8bc091c8db79153c.jpg: 448x640 1 leaf_scab, 8.6ms\n",
      "image 1557/1739 /workspace/Plant-Pathology-Anotation-7/test/images/scab_test_463_jpg.rf.4476d34f7f7825d0cdc4e5d2a2765fec.jpg: 448x640 1 leaf_scab, 8.7ms\n",
      "image 1558/1739 /workspace/Plant-Pathology-Anotation-7/test/images/scab_test_464_jpg.rf.be89d92c0dc7da9e173b0118830e6a57.jpg: 448x640 1 leaf_scab, 8.4ms\n",
      "image 1559/1739 /workspace/Plant-Pathology-Anotation-7/test/images/scab_test_465_jpg.rf.cb9f6a038438fee56e7951870f2205e9.jpg: 448x640 1 leaf_scab, 8.9ms\n",
      "image 1560/1739 /workspace/Plant-Pathology-Anotation-7/test/images/scab_test_466_jpg.rf.e644d92419a7a76ebe06fef21bab05e2.jpg: 448x640 2 leaf_scabs, 8.7ms\n",
      "image 1561/1739 /workspace/Plant-Pathology-Anotation-7/test/images/scab_test_467_jpg.rf.9dee476106874be1308028c156e40818.jpg: 448x640 1 leaf_scab, 8.6ms\n",
      "image 1562/1739 /workspace/Plant-Pathology-Anotation-7/test/images/scab_test_468_jpg.rf.383170af321dc401f8c7d8499352093c.jpg: 448x640 1 leaf_scab, 8.7ms\n",
      "image 1563/1739 /workspace/Plant-Pathology-Anotation-7/test/images/scab_test_469_jpg.rf.d72c1ce6f29521aa363be393aa09bc9b.jpg: 448x640 1 leaf_scab, 8.6ms\n",
      "image 1564/1739 /workspace/Plant-Pathology-Anotation-7/test/images/scab_test_46_jpg.rf.d3c5ce7f1a7c412a979ed3f37c0b3fc6.jpg: 448x640 2 leaf_scabs, 8.6ms\n",
      "image 1565/1739 /workspace/Plant-Pathology-Anotation-7/test/images/scab_test_470_jpg.rf.effca2844454edf6e3f3dfc29da45656.jpg: 448x640 1 leaf_scab, 8.6ms\n",
      "image 1566/1739 /workspace/Plant-Pathology-Anotation-7/test/images/scab_test_471_jpg.rf.bc317f8e4a64eac3d7bfbf9cb43d031b.jpg: 448x640 1 leaf_scab, 8.6ms\n",
      "image 1567/1739 /workspace/Plant-Pathology-Anotation-7/test/images/scab_test_472_jpg.rf.5c1e51bf4e8c1a6d057f913eccdfe2fb.jpg: 448x640 1 leaf_scab, 8.6ms\n",
      "image 1568/1739 /workspace/Plant-Pathology-Anotation-7/test/images/scab_test_473_jpg.rf.ee828d4e115a265cab777bf8cdaaa5b2.jpg: 448x640 1 leaf_scab, 8.3ms\n",
      "image 1569/1739 /workspace/Plant-Pathology-Anotation-7/test/images/scab_test_474_jpg.rf.682422c1784b0f4a4ab90060967df099.jpg: 448x640 2 leaf_scabs, 8.6ms\n",
      "image 1570/1739 /workspace/Plant-Pathology-Anotation-7/test/images/scab_test_475_jpg.rf.43fb343a87435b60559c1bc591085e29.jpg: 448x640 1 leaf_scab, 8.1ms\n",
      "image 1571/1739 /workspace/Plant-Pathology-Anotation-7/test/images/scab_test_476_jpg.rf.afd811f895f7154899545a073d20b24c.jpg: 448x640 1 leaf_scab, 8.3ms\n",
      "image 1572/1739 /workspace/Plant-Pathology-Anotation-7/test/images/scab_test_478_jpg.rf.da120fe368162b1ca72d81ee948531df.jpg: 448x640 2 leaf_scabs, 8.7ms\n",
      "image 1573/1739 /workspace/Plant-Pathology-Anotation-7/test/images/scab_test_479_jpg.rf.c7f5dfc17b5b2687a6a18c6e42538758.jpg: 448x640 1 leaf_scab, 8.5ms\n",
      "image 1574/1739 /workspace/Plant-Pathology-Anotation-7/test/images/scab_test_47_jpg.rf.a9213f085afb0bedcd5ad95a80c86921.jpg: 448x640 1 leaf_scab, 9.1ms\n",
      "image 1575/1739 /workspace/Plant-Pathology-Anotation-7/test/images/scab_test_480_jpg.rf.29ab886c42e826b2e4e05437546ff6ba.jpg: 448x640 1 leaf_scab, 8.7ms\n",
      "image 1576/1739 /workspace/Plant-Pathology-Anotation-7/test/images/scab_test_481_jpg.rf.05aef68007adae52ddb5404c469edee7.jpg: 448x640 1 leaf_scab, 8.4ms\n",
      "image 1577/1739 /workspace/Plant-Pathology-Anotation-7/test/images/scab_test_482_jpg.rf.f9d921cb3d5451fb9dfde2698bbaf313.jpg: 448x640 1 leaf_scab, 8.3ms\n",
      "image 1578/1739 /workspace/Plant-Pathology-Anotation-7/test/images/scab_test_483_jpg.rf.eb10730fb8d27fdb43181c22215f8b80.jpg: 448x640 1 leaf_scab, 8.5ms\n",
      "image 1579/1739 /workspace/Plant-Pathology-Anotation-7/test/images/scab_test_484_jpg.rf.881e1d2bf9a79139a2df35595026e722.jpg: 448x640 1 leaf_scab, 8.7ms\n",
      "image 1580/1739 /workspace/Plant-Pathology-Anotation-7/test/images/scab_test_485_jpg.rf.c2fee1a22ffee3c6a767e133f5712f12.jpg: 448x640 1 leaf_scab, 8.6ms\n",
      "image 1581/1739 /workspace/Plant-Pathology-Anotation-7/test/images/scab_test_486_jpg.rf.4f186c7da77654c3cdd4fc2af180ca82.jpg: 448x640 1 leaf_scab, 8.3ms\n",
      "image 1582/1739 /workspace/Plant-Pathology-Anotation-7/test/images/scab_test_487_jpg.rf.9b6aa54bad655533aaa7170c412f76d8.jpg: 448x640 2 leaf_healthys, 8.7ms\n",
      "image 1583/1739 /workspace/Plant-Pathology-Anotation-7/test/images/scab_test_488_jpg.rf.99a705659fcbcf95ade9f14851de17c2.jpg: 448x640 1 leaf_scab, 8.5ms\n",
      "image 1584/1739 /workspace/Plant-Pathology-Anotation-7/test/images/scab_test_489_jpg.rf.ec3542fb57ae1d7ff5e2ff467465ce97.jpg: 448x640 1 leaf_scab, 8.7ms\n",
      "image 1585/1739 /workspace/Plant-Pathology-Anotation-7/test/images/scab_test_48_jpg.rf.784406a5be538b129056624ac149e1c1.jpg: 448x640 1 leaf_scab, 8.4ms\n",
      "image 1586/1739 /workspace/Plant-Pathology-Anotation-7/test/images/scab_test_490_jpg.rf.b5d46cd594a01d944e6b47cb78967b0a.jpg: 448x640 1 leaf_scab, 8.6ms\n",
      "image 1587/1739 /workspace/Plant-Pathology-Anotation-7/test/images/scab_test_491_jpg.rf.a0b0a21d932d96cd918bbb2e6fa9f77c.jpg: 448x640 1 leaf_scab, 8.7ms\n",
      "image 1588/1739 /workspace/Plant-Pathology-Anotation-7/test/images/scab_test_492_jpg.rf.3fd64874f23b7ca8ff6c6686f67dfa46.jpg: 448x640 1 leaf_scab, 8.5ms\n",
      "image 1589/1739 /workspace/Plant-Pathology-Anotation-7/test/images/scab_test_493_jpg.rf.173a99d060d027cccc2f9250e8ce062e.jpg: 448x640 1 leaf_scab, 8.7ms\n",
      "image 1590/1739 /workspace/Plant-Pathology-Anotation-7/test/images/scab_test_494_jpg.rf.0e957678bcdb14f90971a155537ac803.jpg: 448x640 2 leaf_scabs, 9.0ms\n",
      "image 1591/1739 /workspace/Plant-Pathology-Anotation-7/test/images/scab_test_495_jpg.rf.56db7ca59984a94594d3cbbff68c85ae.jpg: 448x640 1 leaf_scab, 8.5ms\n",
      "image 1592/1739 /workspace/Plant-Pathology-Anotation-7/test/images/scab_test_496_jpg.rf.142bf74e1b2434acac2120c5e9172655.jpg: 448x640 1 leaf_scab, 8.9ms\n",
      "image 1593/1739 /workspace/Plant-Pathology-Anotation-7/test/images/scab_test_497_jpg.rf.64cadf834654a0bf9cc8a1d553b86faa.jpg: 448x640 1 leaf_scab, 8.4ms\n",
      "image 1594/1739 /workspace/Plant-Pathology-Anotation-7/test/images/scab_test_498_jpg.rf.a4fdec134f440423ae2ab0b64f79a644.jpg: 448x640 1 leaf_scab, 8.8ms\n",
      "image 1595/1739 /workspace/Plant-Pathology-Anotation-7/test/images/scab_test_499_jpg.rf.86ca8b369f866d7ee390d8e3b10c82df.jpg: 640x448 2 leaf_scabs, 9.1ms\n",
      "image 1596/1739 /workspace/Plant-Pathology-Anotation-7/test/images/scab_test_49_jpg.rf.455dc25ca6039153d7a82ca6cfd20738.jpg: 448x640 1 leaf_scab, 8.9ms\n",
      "image 1597/1739 /workspace/Plant-Pathology-Anotation-7/test/images/scab_test_4_jpg.rf.776b25deb2e8887902a2bad4c52face8.jpg: 448x640 2 leaf_scabs, 8.8ms\n",
      "image 1598/1739 /workspace/Plant-Pathology-Anotation-7/test/images/scab_test_500_jpg.rf.986757ead80438b5d8be42d6fbf5f290.jpg: 448x640 1 leaf_scab, 8.6ms\n",
      "image 1599/1739 /workspace/Plant-Pathology-Anotation-7/test/images/scab_test_501_jpg.rf.1cac2444c181a6d3d092ef437ad441b5.jpg: 448x640 1 leaf_scab, 9.1ms\n",
      "image 1600/1739 /workspace/Plant-Pathology-Anotation-7/test/images/scab_test_502_jpg.rf.d83675a607d0327dc2d94dafd100fd60.jpg: 448x640 1 leaf_scab, 8.4ms\n",
      "image 1601/1739 /workspace/Plant-Pathology-Anotation-7/test/images/scab_test_503_jpg.rf.b198c415d78c05bf347e124d14cee6df.jpg: 448x640 1 leaf_scab, 8.6ms\n",
      "image 1602/1739 /workspace/Plant-Pathology-Anotation-7/test/images/scab_test_504_jpg.rf.93b6076915c56b94447e7423184d0e51.jpg: 448x640 1 leaf_scab, 8.4ms\n",
      "image 1603/1739 /workspace/Plant-Pathology-Anotation-7/test/images/scab_test_505_jpg.rf.7ad2ff3e0f23c86399920118d153863d.jpg: 448x640 2 leaf_scabs, 8.4ms\n",
      "image 1604/1739 /workspace/Plant-Pathology-Anotation-7/test/images/scab_test_506_jpg.rf.8fc94c1614985063c63554a5c4f526cf.jpg: 448x640 1 leaf_scab, 9.0ms\n",
      "image 1605/1739 /workspace/Plant-Pathology-Anotation-7/test/images/scab_test_507_jpg.rf.4aba5c09bf9785cda52fcf738c4cc963.jpg: 448x640 2 leaf_scabs, 8.7ms\n",
      "image 1606/1739 /workspace/Plant-Pathology-Anotation-7/test/images/scab_test_508_jpg.rf.66bc85ea787999a3a7462980c365a7d1.jpg: 448x640 1 leaf_scab, 8.5ms\n",
      "image 1607/1739 /workspace/Plant-Pathology-Anotation-7/test/images/scab_test_509_jpg.rf.242de31b7260ea915464395acc412a13.jpg: 448x640 1 leaf_scab, 9.1ms\n",
      "image 1608/1739 /workspace/Plant-Pathology-Anotation-7/test/images/scab_test_50_jpg.rf.67c8f9ac0b7405b55d215a867ec43596.jpg: 448x640 1 leaf_rust, 1 leaf_scab, 8.4ms\n",
      "image 1609/1739 /workspace/Plant-Pathology-Anotation-7/test/images/scab_test_510_jpg.rf.892a3e9536d8ed61183b6b633b57d0eb.jpg: 448x640 1 leaf_scab, 9.2ms\n",
      "image 1610/1739 /workspace/Plant-Pathology-Anotation-7/test/images/scab_test_511_jpg.rf.b89efb98668273ef420616b608c7c07a.jpg: 448x640 1 leaf_scab, 8.4ms\n",
      "image 1611/1739 /workspace/Plant-Pathology-Anotation-7/test/images/scab_test_512_jpg.rf.f7396ddd7a69ecee529f1795edcbd02f.jpg: 448x640 1 leaf_scab, 8.4ms\n",
      "image 1612/1739 /workspace/Plant-Pathology-Anotation-7/test/images/scab_test_513_jpg.rf.bb7c359a8e68b703f992c2ebad275d59.jpg: 448x640 1 leaf_scab, 8.4ms\n",
      "image 1613/1739 /workspace/Plant-Pathology-Anotation-7/test/images/scab_test_514_jpg.rf.9c7f020211d8c0c75a453d0aa6bee484.jpg: 448x640 1 leaf_scab, 8.7ms\n",
      "image 1614/1739 /workspace/Plant-Pathology-Anotation-7/test/images/scab_test_515_jpg.rf.20cd566f1b4ab71ca8f279ef780cc21e.jpg: 448x640 2 leaf_scabs, 8.7ms\n",
      "image 1615/1739 /workspace/Plant-Pathology-Anotation-7/test/images/scab_test_516_jpg.rf.26861d1235735b89870e446b46bc8f3d.jpg: 448x640 1 leaf_scab, 8.5ms\n",
      "image 1616/1739 /workspace/Plant-Pathology-Anotation-7/test/images/scab_test_517_jpg.rf.25387e672847f70914f19f6b1be8b5e3.jpg: 448x640 1 leaf_scab, 9.2ms\n",
      "image 1617/1739 /workspace/Plant-Pathology-Anotation-7/test/images/scab_test_518_jpg.rf.f97f0c717cd76fb8dc45161ff03c671c.jpg: 448x640 1 leaf_scab, 8.6ms\n",
      "image 1618/1739 /workspace/Plant-Pathology-Anotation-7/test/images/scab_test_519_jpg.rf.b89c78acec189262c1d8e419b39d0ee4.jpg: 448x640 1 leaf_scab, 8.7ms\n",
      "image 1619/1739 /workspace/Plant-Pathology-Anotation-7/test/images/scab_test_51_jpg.rf.fa4d405f0842beffe08b62b44ddc076a.jpg: 448x640 3 leaf_scabs, 8.9ms\n",
      "image 1620/1739 /workspace/Plant-Pathology-Anotation-7/test/images/scab_test_520_jpg.rf.242665ec8eb822a9381a719cb56dfb8c.jpg: 448x640 1 leaf_scab, 8.4ms\n",
      "image 1621/1739 /workspace/Plant-Pathology-Anotation-7/test/images/scab_test_521_jpg.rf.32258e365491b16d8d522837de34818b.jpg: 448x640 1 leaf_scab, 9.0ms\n",
      "image 1622/1739 /workspace/Plant-Pathology-Anotation-7/test/images/scab_test_522_jpg.rf.3c256c32addffe8d9f26b6849429a836.jpg: 448x640 1 leaf_scab, 8.7ms\n",
      "image 1623/1739 /workspace/Plant-Pathology-Anotation-7/test/images/scab_test_523_jpg.rf.179067e54dcca2838099078063deaea5.jpg: 448x640 1 leaf_scab, 8.8ms\n",
      "image 1624/1739 /workspace/Plant-Pathology-Anotation-7/test/images/scab_test_524_jpg.rf.2b8df87e1b67c1333f1264fc002c20e3.jpg: 448x640 1 leaf_scab, 8.3ms\n",
      "image 1625/1739 /workspace/Plant-Pathology-Anotation-7/test/images/scab_test_525_jpg.rf.092cab6e11b2abc29f31bbc4c5518894.jpg: 448x640 1 leaf_scab, 8.7ms\n",
      "image 1626/1739 /workspace/Plant-Pathology-Anotation-7/test/images/scab_test_527_jpg.rf.e9c764fe944cff25a38232f066f6fca9.jpg: 448x640 1 leaf_scab, 9.7ms\n",
      "image 1627/1739 /workspace/Plant-Pathology-Anotation-7/test/images/scab_test_528_jpg.rf.b56df715113fe1094e85b9c0d021c3b9.jpg: 448x640 1 leaf_scab, 8.4ms\n",
      "image 1628/1739 /workspace/Plant-Pathology-Anotation-7/test/images/scab_test_529_jpg.rf.a0788b51014a87befb73fdf3debe8b4b.jpg: 448x640 1 leaf_scab, 8.8ms\n",
      "image 1629/1739 /workspace/Plant-Pathology-Anotation-7/test/images/scab_test_52_jpg.rf.f7db1471073c8bdf6366992fa984798b.jpg: 448x640 1 leaf_scab, 8.5ms\n",
      "image 1630/1739 /workspace/Plant-Pathology-Anotation-7/test/images/scab_test_530_jpg.rf.9314cc7128d78ac6d2c27c1bcc819a23.jpg: 448x640 1 leaf_scab, 8.6ms\n",
      "image 1631/1739 /workspace/Plant-Pathology-Anotation-7/test/images/scab_test_531_jpg.rf.c3f0782c4f7aaf99436043188e9762d9.jpg: 448x640 1 leaf_healthy, 1 leaf_rust, 8.4ms\n",
      "image 1632/1739 /workspace/Plant-Pathology-Anotation-7/test/images/scab_test_532_jpg.rf.594345749a906b3c158cae6fd053c7a1.jpg: 448x640 1 leaf_scab, 9.4ms\n",
      "image 1633/1739 /workspace/Plant-Pathology-Anotation-7/test/images/scab_test_533_jpg.rf.1b7076ee4857d0decf5963402e9eaff7.jpg: 448x640 1 leaf_scab, 8.4ms\n",
      "image 1634/1739 /workspace/Plant-Pathology-Anotation-7/test/images/scab_test_534_jpg.rf.f94c6c34ca7f585238535f2496071a1d.jpg: 448x640 1 leaf_scab, 8.7ms\n",
      "image 1635/1739 /workspace/Plant-Pathology-Anotation-7/test/images/scab_test_535_jpg.rf.869b0453e7a7f5fd6b591f2379e636c1.jpg: 448x640 1 leaf_scab, 8.7ms\n",
      "image 1636/1739 /workspace/Plant-Pathology-Anotation-7/test/images/scab_test_536_jpg.rf.4887546cf4e498469c1221838875653e.jpg: 448x640 1 leaf_scab, 8.8ms\n",
      "image 1637/1739 /workspace/Plant-Pathology-Anotation-7/test/images/scab_test_537_jpg.rf.45eb2682d3a3b87dac76887d19e62ca4.jpg: 448x640 2 leaf_scabs, 8.4ms\n",
      "image 1638/1739 /workspace/Plant-Pathology-Anotation-7/test/images/scab_test_538_jpg.rf.b7c52783758aa6ec86dce9aa06d3a347.jpg: 448x640 2 leaf_scabs, 8.8ms\n",
      "image 1639/1739 /workspace/Plant-Pathology-Anotation-7/test/images/scab_test_539_jpg.rf.9f01db26dba5c92812d1c14ef843a696.jpg: 448x640 2 leaf_scabs, 8.6ms\n",
      "image 1640/1739 /workspace/Plant-Pathology-Anotation-7/test/images/scab_test_53_jpg.rf.6318804270a35f7437f0a30012669504.jpg: 448x640 1 leaf_scab, 8.9ms\n",
      "image 1641/1739 /workspace/Plant-Pathology-Anotation-7/test/images/scab_test_540_jpg.rf.af9279146585cfa99747fa9df62391db.jpg: 448x640 1 leaf_scab, 9.1ms\n",
      "image 1642/1739 /workspace/Plant-Pathology-Anotation-7/test/images/scab_test_541_jpg.rf.a30543ad446d4f37aa67c20989b1658c.jpg: 448x640 1 leaf_scab, 8.6ms\n",
      "image 1643/1739 /workspace/Plant-Pathology-Anotation-7/test/images/scab_test_542_jpg.rf.5c439c01b4cdffd431267a07b865aa94.jpg: 448x640 1 leaf_scab, 8.4ms\n",
      "image 1644/1739 /workspace/Plant-Pathology-Anotation-7/test/images/scab_test_543_jpg.rf.f188d96f92fd2feb08a68d8179fa6e05.jpg: 448x640 2 leaf_scabs, 8.8ms\n",
      "image 1645/1739 /workspace/Plant-Pathology-Anotation-7/test/images/scab_test_544_jpg.rf.973e01fc6e3e60803d1563e78faea5e0.jpg: 448x640 1 leaf_scab, 8.6ms\n",
      "image 1646/1739 /workspace/Plant-Pathology-Anotation-7/test/images/scab_test_545_jpg.rf.e404f8e4065a205fea809e38b123f198.jpg: 448x640 1 leaf_scab, 9.0ms\n",
      "image 1647/1739 /workspace/Plant-Pathology-Anotation-7/test/images/scab_test_546_jpg.rf.1483f6cdb8054e853267af09dfbab840.jpg: 448x640 1 leaf_scab, 8.7ms\n",
      "image 1648/1739 /workspace/Plant-Pathology-Anotation-7/test/images/scab_test_547_jpg.rf.375bf4efd1bd97dc236d4bc4dfa30325.jpg: 448x640 1 leaf_scab, 8.7ms\n",
      "image 1649/1739 /workspace/Plant-Pathology-Anotation-7/test/images/scab_test_548_jpg.rf.4cceec2437e7ddb4e0415f2bee36ca78.jpg: 448x640 1 leaf_scab, 8.7ms\n",
      "image 1650/1739 /workspace/Plant-Pathology-Anotation-7/test/images/scab_test_549_jpg.rf.ce5908ed094f4116fa1eee000dcb33cb.jpg: 448x640 1 leaf_scab, 8.4ms\n",
      "image 1651/1739 /workspace/Plant-Pathology-Anotation-7/test/images/scab_test_54_jpg.rf.1e1637743419fc10b53abf46e63efc39.jpg: 448x640 1 leaf_scab, 8.8ms\n",
      "image 1652/1739 /workspace/Plant-Pathology-Anotation-7/test/images/scab_test_550_jpg.rf.1dd712690159e4258544a0eaa2878eb3.jpg: 448x640 1 leaf_scab, 8.6ms\n",
      "image 1653/1739 /workspace/Plant-Pathology-Anotation-7/test/images/scab_test_551_jpg.rf.c2dc59c3bd770edc93dd2fb5d2875229.jpg: 448x640 1 leaf_scab, 8.7ms\n",
      "image 1654/1739 /workspace/Plant-Pathology-Anotation-7/test/images/scab_test_552_jpg.rf.f24a1ab9466a6c7cf2c3221df28a6cb7.jpg: 448x640 1 leaf_scab, 8.7ms\n",
      "image 1655/1739 /workspace/Plant-Pathology-Anotation-7/test/images/scab_test_553_jpg.rf.17d7f4828ae99d6180849ec9640c66f5.jpg: 448x640 2 leaf_scabs, 9.1ms\n",
      "image 1656/1739 /workspace/Plant-Pathology-Anotation-7/test/images/scab_test_554_jpg.rf.ba68ce2c8cf0a18f3d042b166335bea5.jpg: 448x640 2 leaf_scabs, 8.5ms\n",
      "image 1657/1739 /workspace/Plant-Pathology-Anotation-7/test/images/scab_test_555_jpg.rf.b9c28ddd8caec216c8ae8c319070337c.jpg: 448x640 1 leaf_scab, 8.8ms\n",
      "image 1658/1739 /workspace/Plant-Pathology-Anotation-7/test/images/scab_test_556_jpg.rf.b4b3eac25ceeae256c11d29c04347741.jpg: 448x640 1 leaf_scab, 8.4ms\n",
      "image 1659/1739 /workspace/Plant-Pathology-Anotation-7/test/images/scab_test_557_jpg.rf.0b71e9da9a8194dc8fb4823e8928a625.jpg: 448x640 1 leaf_scab, 8.6ms\n",
      "image 1660/1739 /workspace/Plant-Pathology-Anotation-7/test/images/scab_test_558_jpg.rf.ff829241084bf13fb6c70d31d4fdf68e.jpg: 448x640 1 leaf_scab, 8.7ms\n",
      "image 1661/1739 /workspace/Plant-Pathology-Anotation-7/test/images/scab_test_559_jpg.rf.621715778eaea55d0d16bafe4f811172.jpg: 448x640 1 leaf_scab, 8.7ms\n",
      "image 1662/1739 /workspace/Plant-Pathology-Anotation-7/test/images/scab_test_55_jpg.rf.df16362b66deba685e7bf325be59690a.jpg: 448x640 1 leaf_rust, 2 leaf_scabs, 8.4ms\n",
      "image 1663/1739 /workspace/Plant-Pathology-Anotation-7/test/images/scab_test_560_jpg.rf.27947733d03b2a58dd5dadbadbe7713c.jpg: 640x448 1 leaf_rust, 2 leaf_scabs, 9.2ms\n",
      "image 1664/1739 /workspace/Plant-Pathology-Anotation-7/test/images/scab_test_561_jpg.rf.e4429dcce9bfe60ca2221f93bf70ee5e.jpg: 448x640 1 leaf_scab, 9.0ms\n",
      "image 1665/1739 /workspace/Plant-Pathology-Anotation-7/test/images/scab_test_562_jpg.rf.65963c3da3a229177dbf707cf46872ea.jpg: 448x640 1 leaf_scab, 8.9ms\n",
      "image 1666/1739 /workspace/Plant-Pathology-Anotation-7/test/images/scab_test_563_jpg.rf.d172a8269e5ef85a8c57172a217884a2.jpg: 448x640 1 leaf_scab, 8.8ms\n",
      "image 1667/1739 /workspace/Plant-Pathology-Anotation-7/test/images/scab_test_564_jpg.rf.aed09bafa8143cbe08db729763dad949.jpg: 448x640 1 leaf_scab, 8.7ms\n",
      "image 1668/1739 /workspace/Plant-Pathology-Anotation-7/test/images/scab_test_565_jpg.rf.28f22968843d3b62fa96b146354674cc.jpg: 448x640 1 leaf_scab, 8.7ms\n",
      "image 1669/1739 /workspace/Plant-Pathology-Anotation-7/test/images/scab_test_566_jpg.rf.a7ba3277c822b60ec33b790623a317d0.jpg: 448x640 2 leaf_scabs, 8.5ms\n",
      "image 1670/1739 /workspace/Plant-Pathology-Anotation-7/test/images/scab_test_567_jpg.rf.9cc0d35167de06d477dc8ab464ed9ce5.jpg: 448x640 1 leaf_scab, 8.9ms\n",
      "image 1671/1739 /workspace/Plant-Pathology-Anotation-7/test/images/scab_test_568_jpg.rf.a19ebe050fbd7999a094ceb34e34d7a9.jpg: 448x640 1 leaf_scab, 8.7ms\n",
      "image 1672/1739 /workspace/Plant-Pathology-Anotation-7/test/images/scab_test_569_jpg.rf.8b8934254a5a8342a90e8cff5dc7ab0e.jpg: 448x640 2 leaf_scabs, 8.5ms\n",
      "image 1673/1739 /workspace/Plant-Pathology-Anotation-7/test/images/scab_test_56_jpg.rf.be57b0ea19703eb58323de5d1ba3b9ef.jpg: 640x448 1 leaf_scab, 9.6ms\n",
      "image 1674/1739 /workspace/Plant-Pathology-Anotation-7/test/images/scab_test_570_jpg.rf.c8899b2251cd0b3d6abdcdba4d861372.jpg: 448x640 1 leaf_scab, 8.8ms\n",
      "image 1675/1739 /workspace/Plant-Pathology-Anotation-7/test/images/scab_test_571_jpg.rf.750b7f7dcb309b9022d94e1e97d9f1c8.jpg: 448x640 1 leaf_scab, 8.4ms\n",
      "image 1676/1739 /workspace/Plant-Pathology-Anotation-7/test/images/scab_test_572_jpg.rf.5f72261ebe0841553295c6bf215f7d52.jpg: 448x640 1 leaf_scab, 8.5ms\n",
      "image 1677/1739 /workspace/Plant-Pathology-Anotation-7/test/images/scab_test_573_jpg.rf.de5821766ced37b7989c33dc64590f8e.jpg: 448x640 2 leaf_scabs, 8.9ms\n",
      "image 1678/1739 /workspace/Plant-Pathology-Anotation-7/test/images/scab_test_574_jpg.rf.43ca87bef439b19365f9c0c2dc1083a9.jpg: 448x640 1 leaf_scab, 8.5ms\n",
      "image 1679/1739 /workspace/Plant-Pathology-Anotation-7/test/images/scab_test_575_jpg.rf.f20a2350bf012b0ba31a22ef089b8cdf.jpg: 448x640 1 leaf_scab, 8.9ms\n",
      "image 1680/1739 /workspace/Plant-Pathology-Anotation-7/test/images/scab_test_576_jpg.rf.3008c9ee54f20e805855e1c0ec884cb1.jpg: 448x640 2 leaf_scabs, 8.6ms\n",
      "image 1681/1739 /workspace/Plant-Pathology-Anotation-7/test/images/scab_test_577_jpg.rf.873ece8201f9b6ee55ce05e78f214bed.jpg: 448x640 1 leaf_scab, 8.5ms\n",
      "image 1682/1739 /workspace/Plant-Pathology-Anotation-7/test/images/scab_test_578_jpg.rf.b4c89292bf06eb5a10fc4ef9e2ac2334.jpg: 448x640 4 leaf_scabs, 8.8ms\n",
      "image 1683/1739 /workspace/Plant-Pathology-Anotation-7/test/images/scab_test_579_jpg.rf.ac48f116b4880d5b037e7798ede49a32.jpg: 448x640 2 leaf_scabs, 8.5ms\n",
      "image 1684/1739 /workspace/Plant-Pathology-Anotation-7/test/images/scab_test_57_jpg.rf.17e751caf57b4dec7613dced215ddeb8.jpg: 448x640 1 leaf_scab, 9.2ms\n",
      "image 1685/1739 /workspace/Plant-Pathology-Anotation-7/test/images/scab_test_580_jpg.rf.a2759efed163fea22086a5e0e4f43ddc.jpg: 640x448 2 leaf_scabs, 9.0ms\n",
      "image 1686/1739 /workspace/Plant-Pathology-Anotation-7/test/images/scab_test_581_jpg.rf.d2439d0ecd464de0e8c75f2bf017f544.jpg: 448x640 1 leaf_scab, 9.0ms\n",
      "image 1687/1739 /workspace/Plant-Pathology-Anotation-7/test/images/scab_test_582_jpg.rf.a9ba9fcbed7595f689bcaff46d855d86.jpg: 448x640 1 leaf_scab, 9.0ms\n",
      "image 1688/1739 /workspace/Plant-Pathology-Anotation-7/test/images/scab_test_583_jpg.rf.bb5cd36b2d7ccd22592cbb41b8d1cbbe.jpg: 448x640 1 leaf_scab, 8.7ms\n",
      "image 1689/1739 /workspace/Plant-Pathology-Anotation-7/test/images/scab_test_584_jpg.rf.1805cb19e76af7076c32a3b7e6d89838.jpg: 448x640 1 leaf_scab, 8.4ms\n",
      "image 1690/1739 /workspace/Plant-Pathology-Anotation-7/test/images/scab_test_585_jpg.rf.be590a0759c8abdbc85a02a97f1317f3.jpg: 448x640 1 leaf_scab, 8.7ms\n",
      "image 1691/1739 /workspace/Plant-Pathology-Anotation-7/test/images/scab_test_586_jpg.rf.bcece3768fc8c3372b7942e5d6e0eaab.jpg: 448x640 1 leaf_scab, 8.4ms\n",
      "image 1692/1739 /workspace/Plant-Pathology-Anotation-7/test/images/scab_test_587_jpg.rf.4de4a8d7be08a610532106f032bbc2a6.jpg: 448x640 1 leaf_rust, 8.4ms\n",
      "image 1693/1739 /workspace/Plant-Pathology-Anotation-7/test/images/scab_test_58_jpg.rf.f939c7d88ea3e68fd6c7768f38c5624e.jpg: 448x640 1 leaf_scab, 8.7ms\n",
      "image 1694/1739 /workspace/Plant-Pathology-Anotation-7/test/images/scab_test_59_jpg.rf.859769d348a458fcc41f84d55285adcb.jpg: 448x640 1 leaf_scab, 8.7ms\n",
      "image 1695/1739 /workspace/Plant-Pathology-Anotation-7/test/images/scab_test_5_jpg.rf.f64601480696bba3d2c80a38e3989dd1.jpg: 448x640 1 leaf_scab, 8.6ms\n",
      "image 1696/1739 /workspace/Plant-Pathology-Anotation-7/test/images/scab_test_60_jpg.rf.b6731401e165d51bbc4dd42313b54052.jpg: 448x640 1 leaf_scab, 8.6ms\n",
      "image 1697/1739 /workspace/Plant-Pathology-Anotation-7/test/images/scab_test_61_jpg.rf.17a50c8f4c791fb983e6f3866acd1c3b.jpg: 448x640 1 leaf_healthy, 1 leaf_scab, 8.8ms\n",
      "image 1698/1739 /workspace/Plant-Pathology-Anotation-7/test/images/scab_test_62_jpg.rf.d4a805cbe68c736ba181f376aad5fb2f.jpg: 448x640 1 leaf_scab, 8.6ms\n",
      "image 1699/1739 /workspace/Plant-Pathology-Anotation-7/test/images/scab_test_63_jpg.rf.d072f819255abfd8fa6e168c400ae16b.jpg: 448x640 1 leaf_scab, 8.8ms\n",
      "image 1700/1739 /workspace/Plant-Pathology-Anotation-7/test/images/scab_test_64_jpg.rf.e7342b0457bf625af9034b086376197b.jpg: 448x640 1 leaf_scab, 8.4ms\n",
      "image 1701/1739 /workspace/Plant-Pathology-Anotation-7/test/images/scab_test_65_jpg.rf.26e6bedad2f45ff92bde68fb2bb0b10c.jpg: 448x640 2 leaf_scabs, 8.6ms\n",
      "image 1702/1739 /workspace/Plant-Pathology-Anotation-7/test/images/scab_test_66_jpg.rf.d05814edbd0e6ab7355e4282a75ed4b9.jpg: 448x640 1 leaf_scab, 8.5ms\n",
      "image 1703/1739 /workspace/Plant-Pathology-Anotation-7/test/images/scab_test_67_jpg.rf.9a3102dda30a6ebe2337edd0188d4272.jpg: 448x640 1 leaf_scab, 8.6ms\n",
      "image 1704/1739 /workspace/Plant-Pathology-Anotation-7/test/images/scab_test_68_jpg.rf.c051ab0bd8e6c96dce0fb5ca727f3a36.jpg: 448x640 1 leaf_scab, 8.7ms\n",
      "image 1705/1739 /workspace/Plant-Pathology-Anotation-7/test/images/scab_test_69_jpg.rf.b14acef808ae1ba92278510306088d81.jpg: 448x640 1 leaf_rust, 1 leaf_scab, 8.6ms\n",
      "image 1706/1739 /workspace/Plant-Pathology-Anotation-7/test/images/scab_test_6_jpg.rf.e9392145d9fe9196d384734e451a33f9.jpg: 448x640 1 leaf_scab, 8.5ms\n",
      "image 1707/1739 /workspace/Plant-Pathology-Anotation-7/test/images/scab_test_70_jpg.rf.129924d86460c5378e6711f0138d9ef8.jpg: 448x640 1 leaf_scab, 8.7ms\n",
      "image 1708/1739 /workspace/Plant-Pathology-Anotation-7/test/images/scab_test_71_jpg.rf.7fa439d46991791f19396a1e23e3a6ad.jpg: 448x640 3 leaf_scabs, 8.7ms\n",
      "image 1709/1739 /workspace/Plant-Pathology-Anotation-7/test/images/scab_test_72_jpg.rf.b129586cc5b3d304ff0fd78c84b524c8.jpg: 640x448 1 leaf_scab, 9.0ms\n",
      "image 1710/1739 /workspace/Plant-Pathology-Anotation-7/test/images/scab_test_73_jpg.rf.500234eff4053155c13d51a11422f908.jpg: 448x640 1 leaf_scab, 9.5ms\n",
      "image 1711/1739 /workspace/Plant-Pathology-Anotation-7/test/images/scab_test_74_jpg.rf.e1fb2be194d9c1732c9db4addcba3bcc.jpg: 448x640 1 leaf_scab, 8.6ms\n",
      "image 1712/1739 /workspace/Plant-Pathology-Anotation-7/test/images/scab_test_75_jpg.rf.574eacd20b00d1c9122024b2f3c404ac.jpg: 448x640 1 leaf_scab, 8.5ms\n",
      "image 1713/1739 /workspace/Plant-Pathology-Anotation-7/test/images/scab_test_76_jpg.rf.751a8fbd21318e4836c23f52279a5337.jpg: 448x640 2 leaf_scabs, 8.6ms\n",
      "image 1714/1739 /workspace/Plant-Pathology-Anotation-7/test/images/scab_test_77_jpg.rf.471e8c9ad231a3f913ccc0a4b31a2389.jpg: 448x640 1 leaf_scab, 8.5ms\n",
      "image 1715/1739 /workspace/Plant-Pathology-Anotation-7/test/images/scab_test_78_jpg.rf.a22768c74a4d7cf05a085a24da972a6e.jpg: 448x640 1 leaf_scab, 8.9ms\n",
      "image 1716/1739 /workspace/Plant-Pathology-Anotation-7/test/images/scab_test_79_jpg.rf.a17f1cb74ee46f5691b4c5fd81bd10b7.jpg: 448x640 1 leaf_scab, 8.7ms\n",
      "image 1717/1739 /workspace/Plant-Pathology-Anotation-7/test/images/scab_test_7_jpg.rf.130e8e53370ee95446a67f749467a84d.jpg: 448x640 1 leaf_scab, 8.4ms\n",
      "image 1718/1739 /workspace/Plant-Pathology-Anotation-7/test/images/scab_test_80_jpg.rf.f6ed4054556eb15bb29f561fa060eff4.jpg: 448x640 1 leaf_scab, 8.7ms\n",
      "image 1719/1739 /workspace/Plant-Pathology-Anotation-7/test/images/scab_test_81_jpg.rf.2bb2df62220e3a6220148938ba6d63f5.jpg: 448x640 1 leaf_scab, 9.0ms\n",
      "image 1720/1739 /workspace/Plant-Pathology-Anotation-7/test/images/scab_test_82_jpg.rf.5b6c74c437bb39efa9cba018dc59534e.jpg: 448x640 1 leaf_scab, 8.6ms\n",
      "image 1721/1739 /workspace/Plant-Pathology-Anotation-7/test/images/scab_test_83_jpg.rf.168445c744b1a48034f4eef03fd6231e.jpg: 448x640 2 leaf_scabs, 9.2ms\n",
      "image 1722/1739 /workspace/Plant-Pathology-Anotation-7/test/images/scab_test_84_jpg.rf.e5c0f5ad0950c983ed0a382c98a7f91d.jpg: 448x640 1 leaf_scab, 9.3ms\n",
      "image 1723/1739 /workspace/Plant-Pathology-Anotation-7/test/images/scab_test_85_jpg.rf.8ba4f302472e1ccdf2035b7f11f7a3c8.jpg: 448x640 1 leaf_scab, 9.2ms\n",
      "image 1724/1739 /workspace/Plant-Pathology-Anotation-7/test/images/scab_test_86_jpg.rf.463e638654de31e538d64894d4098118.jpg: 448x640 1 leaf_scab, 10.0ms\n",
      "image 1725/1739 /workspace/Plant-Pathology-Anotation-7/test/images/scab_test_87_jpg.rf.a6450b3f1a4c676ccfb4ce943c72c6f3.jpg: 448x640 1 leaf_scab, 10.7ms\n",
      "image 1726/1739 /workspace/Plant-Pathology-Anotation-7/test/images/scab_test_88_jpg.rf.ef7875b40861a3277d4558af51306eb5.jpg: 448x640 1 leaf_scab, 9.5ms\n",
      "image 1727/1739 /workspace/Plant-Pathology-Anotation-7/test/images/scab_test_89_jpg.rf.9899c29bb50b88906c56fb04b16a845e.jpg: 448x640 1 leaf_scab, 9.7ms\n",
      "image 1728/1739 /workspace/Plant-Pathology-Anotation-7/test/images/scab_test_8_jpg.rf.23a552ad51e2ac4da3d0034a608a9303.jpg: 448x640 1 leaf_scab, 10.4ms\n",
      "image 1729/1739 /workspace/Plant-Pathology-Anotation-7/test/images/scab_test_90_jpg.rf.02bd146a22ba4c547df1026b3410a200.jpg: 448x640 1 leaf_scab, 9.9ms\n",
      "image 1730/1739 /workspace/Plant-Pathology-Anotation-7/test/images/scab_test_91_jpg.rf.47f672b63f903cd94e78a1d5bce869f8.jpg: 448x640 1 leaf_scab, 10.2ms\n",
      "image 1731/1739 /workspace/Plant-Pathology-Anotation-7/test/images/scab_test_92_jpg.rf.3bb53f39debdc71f0032aa334e90b1cb.jpg: 448x640 1 leaf_scab, 9.9ms\n",
      "image 1732/1739 /workspace/Plant-Pathology-Anotation-7/test/images/scab_test_93_jpg.rf.e0f23ed16238a51742cf0aaf541e5ca4.jpg: 448x640 1 leaf_scab, 10.3ms\n",
      "image 1733/1739 /workspace/Plant-Pathology-Anotation-7/test/images/scab_test_94_jpg.rf.fa31fbb63afc9074dfcbd40dc079f728.jpg: 448x640 1 leaf_scab, 9.9ms\n",
      "image 1734/1739 /workspace/Plant-Pathology-Anotation-7/test/images/scab_test_95_jpg.rf.b632709e4c195f924ebc5da5015f8bae.jpg: 448x640 1 leaf_scab, 9.7ms\n",
      "image 1735/1739 /workspace/Plant-Pathology-Anotation-7/test/images/scab_test_96_jpg.rf.7ff7a7e7f6010b7ea6f67581b8295c9a.jpg: 448x640 1 leaf_scab, 10.1ms\n",
      "image 1736/1739 /workspace/Plant-Pathology-Anotation-7/test/images/scab_test_97_jpg.rf.bcb8ae1f18f37316eb434d20b06912c1.jpg: 448x640 1 leaf_scab, 10.1ms\n",
      "image 1737/1739 /workspace/Plant-Pathology-Anotation-7/test/images/scab_test_98_jpg.rf.6abd3a73bfcedfbb14f9ddf360cff83b.jpg: 448x640 1 leaf_scab, 10.1ms\n",
      "image 1738/1739 /workspace/Plant-Pathology-Anotation-7/test/images/scab_test_99_jpg.rf.03c46514001ee25d3c0645bd661525db.jpg: 448x640 1 leaf_scab, 9.6ms\n",
      "image 1739/1739 /workspace/Plant-Pathology-Anotation-7/test/images/scab_test_9_jpg.rf.24e8c488c07e4f45a05e1cc617baf256.jpg: 448x640 2 leaf_scabs, 9.9ms\n",
      "Speed: 1.6ms preprocess, 8.7ms inference, 1.1ms postprocess per image at shape (1, 3, 448, 640)\n"
     ]
    }
   ],
   "source": [
    "auto_annotate(data=\"Plant-Pathology-Anotation-7/test/images/\", det_model=\"model/best.pt\", sam_model=\"sam2_b.pt\", output_dir=\"Plant-Pathology-Anotation-7/test/labels/\")"
   ]
  },
  {
   "cell_type": "code",
   "execution_count": 6,
   "id": "fba06850",
   "metadata": {},
   "outputs": [
    {
     "name": "stdout",
     "output_type": "stream",
     "text": [
      "\n",
      "image 1/173 /workspace/Plant-Pathology-Anotation-7/valid/images/healthy_train_104_jpg.rf.cdf74cf59df4258bfe2310fc4b494ce0.jpg: 448x640 8 leaf_healthys, 8.3ms\n",
      "image 2/173 /workspace/Plant-Pathology-Anotation-7/valid/images/healthy_train_106_jpg.rf.2012b2f3c02be161ca8ee79f5167c9e6.jpg: 448x640 8 leaf_healthys, 9.6ms\n",
      "image 3/173 /workspace/Plant-Pathology-Anotation-7/valid/images/healthy_train_107_jpg.rf.e892f3d6948beca1c9526acd0facbb0d.jpg: 448x640 4 leaf_healthys, 9.4ms\n",
      "image 4/173 /workspace/Plant-Pathology-Anotation-7/valid/images/healthy_train_109_jpg.rf.b59ee3397d0958dd79742d213dfe023e.jpg: 448x640 8 leaf_healthys, 8.8ms\n",
      "image 5/173 /workspace/Plant-Pathology-Anotation-7/valid/images/healthy_train_139_jpg.rf.1b076737cd1f2f9a6a8cdfb4b83eba77.jpg: 448x640 4 leaf_healthys, 9.5ms\n",
      "image 6/173 /workspace/Plant-Pathology-Anotation-7/valid/images/healthy_train_143_jpg.rf.fbddd4ffc1e27fa33d14d7b6017a013e.jpg: 448x640 5 leaf_healthys, 8.8ms\n",
      "image 7/173 /workspace/Plant-Pathology-Anotation-7/valid/images/healthy_train_149_jpg.rf.dd01cfe95b6051f7fbf68479974dfa1f.jpg: 448x640 9 leaf_healthys, 9.9ms\n",
      "image 8/173 /workspace/Plant-Pathology-Anotation-7/valid/images/healthy_train_14_jpg.rf.51224541b7c79069bd2e1b194a8c6ffe.jpg: 448x640 3 leaf_healthys, 10.0ms\n",
      "image 9/173 /workspace/Plant-Pathology-Anotation-7/valid/images/healthy_train_15_jpg.rf.36e662ccc901e790f084de5a1512fdbb.jpg: 448x640 1 leaf_healthy, 9.6ms\n",
      "image 10/173 /workspace/Plant-Pathology-Anotation-7/valid/images/healthy_train_167_jpg.rf.57a3d60453f1aa52c6e264a98fb33497.jpg: 448x640 5 leaf_healthys, 9.0ms\n",
      "image 11/173 /workspace/Plant-Pathology-Anotation-7/valid/images/healthy_train_205_jpg.rf.61069f4653a2c8bd3323797487a758f6.jpg: 448x640 1 leaf_healthy, 9.2ms\n",
      "image 12/173 /workspace/Plant-Pathology-Anotation-7/valid/images/healthy_train_213_jpg.rf.ecd6b5020d09666ca0e179087b83ee82.jpg: 448x640 2 leaf_healthys, 8.7ms\n",
      "image 13/173 /workspace/Plant-Pathology-Anotation-7/valid/images/healthy_train_21_jpg.rf.ce50733fdef2a9d713ae789f1902e1bb.jpg: 448x640 4 leaf_healthys, 8.1ms\n",
      "image 14/173 /workspace/Plant-Pathology-Anotation-7/valid/images/healthy_train_231_jpg.rf.fe1b92774855d89be7a30b33ecbe86ee.jpg: 448x640 2 leaf_healthys, 9.8ms\n",
      "image 15/173 /workspace/Plant-Pathology-Anotation-7/valid/images/healthy_train_23_jpg.rf.b65211bdc3f505a5baa019880254b8ff.jpg: 448x640 2 leaf_healthys, 9.4ms\n",
      "image 16/173 /workspace/Plant-Pathology-Anotation-7/valid/images/healthy_train_241_jpg.rf.2848efd82cc834ab6d98ba4afb283bf9.jpg: 448x640 4 leaf_healthys, 9.8ms\n",
      "image 17/173 /workspace/Plant-Pathology-Anotation-7/valid/images/healthy_train_247_jpg.rf.fa5e05ea96533522e77efe55fcd0373f.jpg: 448x640 3 leaf_healthys, 9.8ms\n",
      "image 18/173 /workspace/Plant-Pathology-Anotation-7/valid/images/healthy_train_254_jpg.rf.139299c9db542afe78cfd72e00f10b34.jpg: 448x640 3 leaf_healthys, 9.1ms\n",
      "image 19/173 /workspace/Plant-Pathology-Anotation-7/valid/images/healthy_train_256_jpg.rf.278a7121ce8e3ba7b8a6d6f0f68890d9.jpg: 448x640 8 leaf_healthys, 8.6ms\n",
      "image 20/173 /workspace/Plant-Pathology-Anotation-7/valid/images/healthy_train_257_jpg.rf.d16b542e9fc11104bf91612934394371.jpg: 448x640 2 leaf_healthys, 9.3ms\n",
      "image 21/173 /workspace/Plant-Pathology-Anotation-7/valid/images/healthy_train_260_jpg.rf.0554fca153829d18bbcd502319b0b307.jpg: 448x640 5 leaf_healthys, 8.7ms\n",
      "image 22/173 /workspace/Plant-Pathology-Anotation-7/valid/images/healthy_train_263_jpg.rf.87def2629201221d08e2cedbc1d6ea81.jpg: 448x640 6 leaf_healthys, 9.4ms\n",
      "image 23/173 /workspace/Plant-Pathology-Anotation-7/valid/images/healthy_train_273_jpg.rf.69a96d510c119dccdc44e9d1c4bc7e2f.jpg: 448x640 4 leaf_healthys, 8.7ms\n",
      "image 24/173 /workspace/Plant-Pathology-Anotation-7/valid/images/healthy_train_285_jpg.rf.c364f45e5b411bc4353f356f6fc2bec0.jpg: 448x640 2 leaf_healthys, 8.7ms\n",
      "image 25/173 /workspace/Plant-Pathology-Anotation-7/valid/images/healthy_train_2_jpg.rf.c940a0207206bdbd0b5b175ae798b61b.jpg: 448x640 8 leaf_healthys, 8.8ms\n",
      "image 26/173 /workspace/Plant-Pathology-Anotation-7/valid/images/healthy_train_306_jpg.rf.fd03e0c3f668c80f4452cba561f23a91.jpg: 448x640 2 leaf_healthys, 8.7ms\n",
      "image 27/173 /workspace/Plant-Pathology-Anotation-7/valid/images/healthy_train_335_jpg.rf.26eebab16c3faea9c42a0878f1afc1cb.jpg: 448x640 2 leaf_healthys, 9.0ms\n",
      "image 28/173 /workspace/Plant-Pathology-Anotation-7/valid/images/healthy_train_375_jpg.rf.6dbe2c57a708b28750ca948036d57ae6.jpg: 448x640 4 leaf_healthys, 8.6ms\n",
      "image 29/173 /workspace/Plant-Pathology-Anotation-7/valid/images/healthy_train_380_jpg.rf.32a565658b9787357c4a4988d6ddbf5f.jpg: 448x640 3 leaf_healthys, 9.6ms\n",
      "image 30/173 /workspace/Plant-Pathology-Anotation-7/valid/images/healthy_train_3_jpg.rf.a871b32675efb0753a6817650f45b56f.jpg: 448x640 5 leaf_healthys, 8.1ms\n",
      "image 31/173 /workspace/Plant-Pathology-Anotation-7/valid/images/healthy_train_402_jpg.rf.23960a89ea06692f3e995ec1a58126f2.jpg: 448x640 3 leaf_healthys, 8.3ms\n",
      "image 32/173 /workspace/Plant-Pathology-Anotation-7/valid/images/healthy_train_403_jpg.rf.7cb1fe3730d7b56f60db7ea1a4cb616d.jpg: 448x640 3 leaf_healthys, 8.0ms\n",
      "image 33/173 /workspace/Plant-Pathology-Anotation-7/valid/images/healthy_train_417_jpg.rf.bee08369b2ad117087f73bf8eafa4769.jpg: 448x640 2 leaf_healthys, 8.9ms\n",
      "image 34/173 /workspace/Plant-Pathology-Anotation-7/valid/images/healthy_train_421_jpg.rf.b6db1797f372d40bbf5bc67536045048.jpg: 448x640 3 leaf_healthys, 8.2ms\n",
      "image 35/173 /workspace/Plant-Pathology-Anotation-7/valid/images/healthy_train_423_jpg.rf.e9677ddadcd58a8e3e3588134eb06657.jpg: 448x640 2 leaf_healthys, 9.1ms\n",
      "image 36/173 /workspace/Plant-Pathology-Anotation-7/valid/images/healthy_train_426_jpg.rf.c22314c5812053b4715680b3f7befa44.jpg: 448x640 5 leaf_healthys, 8.0ms\n",
      "image 37/173 /workspace/Plant-Pathology-Anotation-7/valid/images/healthy_train_42_jpg.rf.cf3b295caa1a71c4676eec3928dbcb98.jpg: 448x640 9 leaf_healthys, 8.3ms\n",
      "image 38/173 /workspace/Plant-Pathology-Anotation-7/valid/images/healthy_train_430_jpg.rf.bfebd0fb397db326d456be3796d5a3e6.jpg: 448x640 9 leaf_healthys, 8.0ms\n",
      "image 39/173 /workspace/Plant-Pathology-Anotation-7/valid/images/healthy_train_432_jpg.rf.eb27d99fed8b2945a5a35546d1f51f12.jpg: 448x640 2 leaf_healthys, 1 leaf_scab, 8.4ms\n",
      "image 40/173 /workspace/Plant-Pathology-Anotation-7/valid/images/healthy_train_434_jpg.rf.a5974ec9e91ac5014a5c773348cc52ab.jpg: 448x640 2 leaf_healthys, 9.1ms\n",
      "image 41/173 /workspace/Plant-Pathology-Anotation-7/valid/images/healthy_train_444_jpg.rf.58f08513e0ba2ab9a015b8103f02134e.jpg: 448x640 2 leaf_healthys, 8.9ms\n",
      "image 42/173 /workspace/Plant-Pathology-Anotation-7/valid/images/healthy_train_447_jpg.rf.94bc17b722b1a51cf04804c1b3b0f77c.jpg: 448x640 2 leaf_healthys, 8.0ms\n",
      "image 43/173 /workspace/Plant-Pathology-Anotation-7/valid/images/healthy_train_456_jpg.rf.d18f60151eec122c3716da3f8adaa350.jpg: 448x640 2 leaf_healthys, 1 leaf_rust, 9.2ms\n",
      "image 44/173 /workspace/Plant-Pathology-Anotation-7/valid/images/healthy_train_489_jpg.rf.82bc60c57e50903672f424e79884bad5.jpg: 448x640 1 leaf_healthy, 8.7ms\n",
      "image 45/173 /workspace/Plant-Pathology-Anotation-7/valid/images/healthy_train_508_jpg.rf.70f32c8fdf917414776ee5eec0df82a2.jpg: 448x640 1 leaf_healthy, 8.1ms\n",
      "image 46/173 /workspace/Plant-Pathology-Anotation-7/valid/images/healthy_train_509_jpg.rf.59e72acbc65b43453a280276bd40070e.jpg: 448x640 2 leaf_healthys, 8.1ms\n",
      "image 47/173 /workspace/Plant-Pathology-Anotation-7/valid/images/healthy_train_516_jpg.rf.d9dd1c047907426d41b60737c6c5db61.jpg: 448x640 2 leaf_healthys, 9.0ms\n",
      "image 48/173 /workspace/Plant-Pathology-Anotation-7/valid/images/healthy_train_67_jpg.rf.f42618636a9fa09461a8ce2b098f898e.jpg: 448x640 4 leaf_healthys, 8.9ms\n",
      "image 49/173 /workspace/Plant-Pathology-Anotation-7/valid/images/healthy_train_69_jpg.rf.a3ff87dc6e02f7d1516b962178ad4ad7.jpg: 448x640 1 leaf_healthy, 7.9ms\n",
      "image 50/173 /workspace/Plant-Pathology-Anotation-7/valid/images/healthy_train_73_jpg.rf.07b41a508482aba169d588f4a282c32e.jpg: 448x640 7 leaf_healthys, 8.5ms\n",
      "image 51/173 /workspace/Plant-Pathology-Anotation-7/valid/images/healthy_train_77_jpg.rf.ba2c1b8c3441b83fcaa6b22b80f77220.jpg: 448x640 4 leaf_healthys, 8.0ms\n",
      "image 52/173 /workspace/Plant-Pathology-Anotation-7/valid/images/healthy_train_86_jpg.rf.d7ddab5771d71d153f4cc51e01ecfe98.jpg: 448x640 7 leaf_healthys, 8.8ms\n",
      "image 53/173 /workspace/Plant-Pathology-Anotation-7/valid/images/rust_train_107_jpg.rf.b96495128f04139567998d7e2d945bad.jpg: 448x640 1 leaf_rust, 8.5ms\n",
      "image 54/173 /workspace/Plant-Pathology-Anotation-7/valid/images/rust_train_109_jpg.rf.ff5c2ce02945259718754da7c07d8ac0.jpg: 448x640 1 leaf_rust, 8.6ms\n",
      "image 55/173 /workspace/Plant-Pathology-Anotation-7/valid/images/rust_train_125_jpg.rf.8e853ad3d30cf89028db49b07117ae8d.jpg: 448x640 2 leaf_rusts, 8.5ms\n",
      "image 56/173 /workspace/Plant-Pathology-Anotation-7/valid/images/rust_train_128_jpg.rf.8cecd94d5c58b2efea142cad1e595b2f.jpg: 448x640 1 leaf_rust, 9.6ms\n",
      "image 57/173 /workspace/Plant-Pathology-Anotation-7/valid/images/rust_train_148_jpg.rf.c2ae1d269c4ad6d2d3de37c5ce3fb688.jpg: 448x640 1 leaf_rust, 8.2ms\n",
      "image 58/173 /workspace/Plant-Pathology-Anotation-7/valid/images/rust_train_157_jpg.rf.b5b5b98a182708239753a215cf0aa335.jpg: 448x640 1 leaf_rust, 8.5ms\n",
      "image 59/173 /workspace/Plant-Pathology-Anotation-7/valid/images/rust_train_167_jpg.rf.86b96b7ab19ce4a6836be84196776c29.jpg: 448x640 4 leaf_rusts, 9.2ms\n",
      "image 60/173 /workspace/Plant-Pathology-Anotation-7/valid/images/rust_train_178_jpg.rf.285a1d92ebb979d4ac39b596248ec55c.jpg: 448x640 3 leaf_rusts, 9.3ms\n",
      "image 61/173 /workspace/Plant-Pathology-Anotation-7/valid/images/rust_train_184_jpg.rf.ca7af367ed1f5a119dfa8f91779c614b.jpg: 448x640 2 leaf_rusts, 9.4ms\n",
      "image 62/173 /workspace/Plant-Pathology-Anotation-7/valid/images/rust_train_185_jpg.rf.3fbe131303c39eabbe1f96375f72ba59.jpg: 448x640 1 leaf_rust, 8.0ms\n",
      "image 63/173 /workspace/Plant-Pathology-Anotation-7/valid/images/rust_train_1_jpg.rf.1674353b2107353eca5c9ed3d78aaf9f.jpg: 448x640 1 leaf_rust, 9.4ms\n",
      "image 64/173 /workspace/Plant-Pathology-Anotation-7/valid/images/rust_train_208_jpg.rf.0b9a7b5cca2fe3209a6b2728347291b7.jpg: 448x640 1 leaf_rust, 8.8ms\n",
      "image 65/173 /workspace/Plant-Pathology-Anotation-7/valid/images/rust_train_225_jpg.rf.e11b79f1c8745249785bdec1da0eedba.jpg: 448x640 2 leaf_rusts, 8.5ms\n",
      "image 66/173 /workspace/Plant-Pathology-Anotation-7/valid/images/rust_train_236_jpg.rf.bf1ab859d48ec1878a042244f2b261b7.jpg: 448x640 1 leaf_rust, 9.5ms\n",
      "image 67/173 /workspace/Plant-Pathology-Anotation-7/valid/images/rust_train_240_jpg.rf.f40ae8b5f6d0553e7c12eb1d41b497d7.jpg: 448x640 1 leaf_rust, 8.4ms\n",
      "image 68/173 /workspace/Plant-Pathology-Anotation-7/valid/images/rust_train_241_jpg.rf.a0084e3366fa2e2f6d68434ec922a76b.jpg: 448x640 2 leaf_healthys, 1 leaf_rust, 8.4ms\n",
      "image 69/173 /workspace/Plant-Pathology-Anotation-7/valid/images/rust_train_248_jpg.rf.e710e1be86dcf8394c4b9d6a2983ccd2.jpg: 448x640 1 leaf_rust, 9.3ms\n",
      "image 70/173 /workspace/Plant-Pathology-Anotation-7/valid/images/rust_train_250_jpg.rf.32b14f986ccb3e569792d7d25e87ae13.jpg: 448x640 1 leaf_rust, 8.8ms\n",
      "image 71/173 /workspace/Plant-Pathology-Anotation-7/valid/images/rust_train_251_jpg.rf.2ae125abfdf1964bd10753779e984a66.jpg: 448x640 1 leaf_rust, 9.1ms\n",
      "image 72/173 /workspace/Plant-Pathology-Anotation-7/valid/images/rust_train_254_jpg.rf.639f7218cad3513147996df4adc94769.jpg: 448x640 1 leaf_rust, 9.1ms\n",
      "image 73/173 /workspace/Plant-Pathology-Anotation-7/valid/images/rust_train_257_jpg.rf.c132038f52386f76b5f05e9b4e291f17.jpg: 448x640 1 leaf_rust, 8.5ms\n",
      "image 74/173 /workspace/Plant-Pathology-Anotation-7/valid/images/rust_train_26_jpg.rf.71ae4665a844be6d50c921198080041d.jpg: 448x640 2 leaf_rusts, 8.5ms\n",
      "image 75/173 /workspace/Plant-Pathology-Anotation-7/valid/images/rust_train_270_jpg.rf.5504358d06dec03c2df397e248a886e8.jpg: 448x640 1 leaf_rust, 9.4ms\n",
      "image 76/173 /workspace/Plant-Pathology-Anotation-7/valid/images/rust_train_281_jpg.rf.fbed5c0b193128514255f3af7397f66a.jpg: 448x640 1 leaf_rust, 9.3ms\n",
      "image 77/173 /workspace/Plant-Pathology-Anotation-7/valid/images/rust_train_300_jpg.rf.69d78ef914eb960d1c69f3715cda31b5.jpg: 448x640 1 leaf_rust, 9.6ms\n",
      "image 78/173 /workspace/Plant-Pathology-Anotation-7/valid/images/rust_train_306_jpg.rf.6cf06a4aae6f6f1cf0b6843502b99d3b.jpg: 448x640 2 leaf_rusts, 8.7ms\n",
      "image 79/173 /workspace/Plant-Pathology-Anotation-7/valid/images/rust_train_309_jpg.rf.1fb98a70d932b3e8786f7003e391bbb5.jpg: 448x640 2 leaf_rusts, 8.6ms\n",
      "image 80/173 /workspace/Plant-Pathology-Anotation-7/valid/images/rust_train_32_jpg.rf.ffcfb2cf42d147d4a0fc66bc82fa754d.jpg: 448x640 1 leaf_rust, 9.5ms\n",
      "image 81/173 /workspace/Plant-Pathology-Anotation-7/valid/images/rust_train_337_jpg.rf.bd33cb0a43df4a3e5f15635223d3d0e1.jpg: 448x640 1 leaf_rust, 8.3ms\n",
      "image 82/173 /workspace/Plant-Pathology-Anotation-7/valid/images/rust_train_361_jpg.rf.e0c55aac517e361849d2ca1b4f40bbee.jpg: 448x640 1 leaf_rust, 8.4ms\n",
      "image 83/173 /workspace/Plant-Pathology-Anotation-7/valid/images/rust_train_378_jpg.rf.8b79e2dd14b68fad356d0393ee2721d8.jpg: 448x640 1 leaf_rust, 8.3ms\n",
      "image 84/173 /workspace/Plant-Pathology-Anotation-7/valid/images/rust_train_38_jpg.rf.2c4db9bd21268f1836462844736ecb25.jpg: 448x640 1 leaf_rust, 9.2ms\n",
      "image 85/173 /workspace/Plant-Pathology-Anotation-7/valid/images/rust_train_392_jpg.rf.75e25dd12efdf799d9a96ea170549a4a.jpg: 448x640 1 leaf_rust, 8.1ms\n",
      "image 86/173 /workspace/Plant-Pathology-Anotation-7/valid/images/rust_train_393_jpg.rf.8eae619b5b6e3c0a9dfdea87edabc439.jpg: 448x640 1 leaf_rust, 8.2ms\n",
      "image 87/173 /workspace/Plant-Pathology-Anotation-7/valid/images/rust_train_3_jpg.rf.6e815d5b6edebcfecea5ddbe94e1fda4.jpg: 448x640 1 leaf_rust, 9.7ms\n",
      "image 88/173 /workspace/Plant-Pathology-Anotation-7/valid/images/rust_train_410_jpg.rf.0778d7a0f398483023eb9e36b95319ae.jpg: 448x640 1 leaf_rust, 8.2ms\n",
      "image 89/173 /workspace/Plant-Pathology-Anotation-7/valid/images/rust_train_412_jpg.rf.bb771ed1307281a514ce64d2a2757306.jpg: 448x640 1 leaf_rust, 8.5ms\n",
      "image 90/173 /workspace/Plant-Pathology-Anotation-7/valid/images/rust_train_415_jpg.rf.8a694e4826b71bd0774ce3db36139819.jpg: 448x640 4 leaf_rusts, 8.6ms\n",
      "image 91/173 /workspace/Plant-Pathology-Anotation-7/valid/images/rust_train_425_jpg.rf.08b3a1cdde5f6b19112c688adade62e0.jpg: 448x640 1 leaf_rust, 8.9ms\n",
      "image 92/173 /workspace/Plant-Pathology-Anotation-7/valid/images/rust_train_430_jpg.rf.2c41ac6117cb2d6075cff7da4e45de93.jpg: 448x640 1 leaf_rust, 8.6ms\n",
      "image 93/173 /workspace/Plant-Pathology-Anotation-7/valid/images/rust_train_437_jpg.rf.0c152715544142f68e5ed7b3e8d3113d.jpg: 448x640 1 leaf_rust, 8.4ms\n",
      "image 94/173 /workspace/Plant-Pathology-Anotation-7/valid/images/rust_train_444_jpg.rf.774b8371dfe032415f3c48a5d2ccc0ef.jpg: 448x640 1 leaf_rust, 8.9ms\n",
      "image 95/173 /workspace/Plant-Pathology-Anotation-7/valid/images/rust_train_449_jpg.rf.75ceaf3f8fff73bbae0814744e40dc0f.jpg: 448x640 1 leaf_rust, 8.6ms\n",
      "image 96/173 /workspace/Plant-Pathology-Anotation-7/valid/images/rust_train_464_jpg.rf.1a4cac09f4d7b0a99f6ec537aad78474.jpg: 448x640 2 leaf_rusts, 8.5ms\n",
      "image 97/173 /workspace/Plant-Pathology-Anotation-7/valid/images/rust_train_467_jpg.rf.74682d1d82ec865836a0d268ce59df8e.jpg: 448x640 1 leaf_rust, 8.3ms\n",
      "image 98/173 /workspace/Plant-Pathology-Anotation-7/valid/images/rust_train_469_jpg.rf.b58bd59b4afc1a4855dfe367c7f26f16.jpg: 448x640 1 leaf_rust, 8.4ms\n",
      "image 99/173 /workspace/Plant-Pathology-Anotation-7/valid/images/rust_train_476_jpg.rf.ff5a28cbe529455deea93b47639ecfbd.jpg: 448x640 1 leaf_rust, 8.5ms\n",
      "image 100/173 /workspace/Plant-Pathology-Anotation-7/valid/images/rust_train_480_jpg.rf.690f7d2f30f8f42ca68cfb072d23b569.jpg: 448x640 1 leaf_rust, 8.4ms\n",
      "image 101/173 /workspace/Plant-Pathology-Anotation-7/valid/images/rust_train_482_jpg.rf.f6fec5aa29b0bfb61f8912076cf95a2b.jpg: 448x640 1 leaf_rust, 9.2ms\n",
      "image 102/173 /workspace/Plant-Pathology-Anotation-7/valid/images/rust_train_486_jpg.rf.3f094657d4c99399fc596ac82c82587e.jpg: 448x640 1 leaf_rust, 9.1ms\n",
      "image 103/173 /workspace/Plant-Pathology-Anotation-7/valid/images/rust_train_498_jpg.rf.167a2b23339d34918ad63dcff272429d.jpg: 448x640 1 leaf_rust, 10.0ms\n",
      "image 104/173 /workspace/Plant-Pathology-Anotation-7/valid/images/rust_train_507_jpg.rf.88410e4174c4147807ed096872a0d5c8.jpg: 448x640 1 leaf_rust, 9.2ms\n",
      "image 105/173 /workspace/Plant-Pathology-Anotation-7/valid/images/rust_train_50_jpg.rf.9fa478b34584eea18d42686955a1bcb7.jpg: 448x640 3 leaf_rusts, 8.7ms\n",
      "image 106/173 /workspace/Plant-Pathology-Anotation-7/valid/images/rust_train_525_jpg.rf.4586b58f02978b802f77eaa7f249be0d.jpg: 448x640 2 leaf_rusts, 9.2ms\n",
      "image 107/173 /workspace/Plant-Pathology-Anotation-7/valid/images/rust_train_52_jpg.rf.0f1fe7e7a47f570382982b61f28ca2bf.jpg: 448x640 3 leaf_rusts, 9.1ms\n",
      "image 108/173 /workspace/Plant-Pathology-Anotation-7/valid/images/rust_train_543_jpg.rf.9ee858a9b910eabff244419a87295d07.jpg: 448x640 1 leaf_rust, 9.1ms\n",
      "image 109/173 /workspace/Plant-Pathology-Anotation-7/valid/images/rust_train_553_jpg.rf.aa06f5e08b0421bcc076d2cb4433343f.jpg: 448x640 1 leaf_rust, 9.0ms\n",
      "image 110/173 /workspace/Plant-Pathology-Anotation-7/valid/images/rust_train_5_jpg.rf.e045097a94537b2002dc4449dc4e656a.jpg: 448x640 1 leaf_rust, 9.5ms\n",
      "image 111/173 /workspace/Plant-Pathology-Anotation-7/valid/images/rust_train_616_jpg.rf.a1516b218ad588e806506c5d50a7c0b9.jpg: 448x640 1 leaf_rust, 8.9ms\n",
      "image 112/173 /workspace/Plant-Pathology-Anotation-7/valid/images/rust_train_61_jpg.rf.540dc318ddde2d271e884e6adf459b85.jpg: 448x640 1 leaf_rust, 8.8ms\n",
      "image 113/173 /workspace/Plant-Pathology-Anotation-7/valid/images/rust_train_79_jpg.rf.7786b434de4594e13c0d29a9784f4655.jpg: 448x640 2 leaf_rusts, 9.1ms\n",
      "image 114/173 /workspace/Plant-Pathology-Anotation-7/valid/images/rust_train_83_jpg.rf.6736275907975f71a3b3c588241c733b.jpg: 448x640 1 leaf_rust, 8.9ms\n",
      "image 115/173 /workspace/Plant-Pathology-Anotation-7/valid/images/scab_train_100_jpg.rf.574622406c3b80db82299b0298da0cd4.jpg: 448x640 1 leaf_scab, 9.2ms\n",
      "image 116/173 /workspace/Plant-Pathology-Anotation-7/valid/images/scab_train_103_jpg.rf.1753b7f20db422dcbd2f62e21611afe2.jpg: 448x640 1 leaf_scab, 9.5ms\n",
      "image 117/173 /workspace/Plant-Pathology-Anotation-7/valid/images/scab_train_122_jpg.rf.f791885dee45b06a0e449ca419963ca6.jpg: 448x640 1 leaf_scab, 9.0ms\n",
      "image 118/173 /workspace/Plant-Pathology-Anotation-7/valid/images/scab_train_124_jpg.rf.edb1fc423dbf1ecd2f279ce13f3b7b6c.jpg: 448x640 1 leaf_scab, 8.7ms\n",
      "image 119/173 /workspace/Plant-Pathology-Anotation-7/valid/images/scab_train_139_jpg.rf.f425e200dbbbfbe470b78341bb72a1c8.jpg: 448x640 1 leaf_scab, 8.9ms\n",
      "image 120/173 /workspace/Plant-Pathology-Anotation-7/valid/images/scab_train_13_jpg.rf.b9e233fdbd0d5f9c79d2471b2ed57749.jpg: 448x640 4 leaf_healthys, 9.0ms\n",
      "image 121/173 /workspace/Plant-Pathology-Anotation-7/valid/images/scab_train_161_jpg.rf.e0d06817133084647ff09f5b1c3c6b3a.jpg: 448x640 1 leaf_scab, 8.9ms\n",
      "image 122/173 /workspace/Plant-Pathology-Anotation-7/valid/images/scab_train_168_jpg.rf.66fad5b42ce78ed15a874d246e97eb97.jpg: 448x640 1 leaf_scab, 9.3ms\n",
      "image 123/173 /workspace/Plant-Pathology-Anotation-7/valid/images/scab_train_172_jpg.rf.7fde8ad97909be463c7f65d315c5b5dc.jpg: 448x640 1 leaf_scab, 10.2ms\n",
      "image 124/173 /workspace/Plant-Pathology-Anotation-7/valid/images/scab_train_177_jpg.rf.0f38a913534d85e2aee4214f3fc30a0f.jpg: 448x640 1 leaf_scab, 8.9ms\n",
      "image 125/173 /workspace/Plant-Pathology-Anotation-7/valid/images/scab_train_179_jpg.rf.fe52919f6a5d3c2e8f9dc17ee0ef6b0f.jpg: 448x640 1 leaf_scab, 8.6ms\n",
      "image 126/173 /workspace/Plant-Pathology-Anotation-7/valid/images/scab_train_194_jpg.rf.245366448ecd7361e5bd5095b26823c6.jpg: 448x640 1 leaf_scab, 8.9ms\n",
      "image 127/173 /workspace/Plant-Pathology-Anotation-7/valid/images/scab_train_203_jpg.rf.2204ce807b722e57d4e2eb2211657e63.jpg: 448x640 2 leaf_scabs, 10.1ms\n",
      "image 128/173 /workspace/Plant-Pathology-Anotation-7/valid/images/scab_train_204_jpg.rf.df9594045daeb0e6ec0106448a0eed80.jpg: 448x640 1 leaf_scab, 9.3ms\n",
      "image 129/173 /workspace/Plant-Pathology-Anotation-7/valid/images/scab_train_211_jpg.rf.502782cc66bb67603140a80f83654493.jpg: 448x640 1 leaf_scab, 11.8ms\n",
      "image 130/173 /workspace/Plant-Pathology-Anotation-7/valid/images/scab_train_215_jpg.rf.91e89aef9194eb1337a02d3be67683a7.jpg: 448x640 1 leaf_scab, 11.2ms\n",
      "image 131/173 /workspace/Plant-Pathology-Anotation-7/valid/images/scab_train_219_jpg.rf.a0b6a3b8b9f11213c0401782caa91105.jpg: 448x640 1 leaf_scab, 11.8ms\n",
      "image 132/173 /workspace/Plant-Pathology-Anotation-7/valid/images/scab_train_21_jpg.rf.5c285971c9174238e18e572f23a45c81.jpg: 448x640 2 leaf_scabs, 11.5ms\n",
      "image 133/173 /workspace/Plant-Pathology-Anotation-7/valid/images/scab_train_223_jpg.rf.2bc035d2672da3efdcb4be8f3e6476c8.jpg: 448x640 1 leaf_scab, 10.1ms\n",
      "image 134/173 /workspace/Plant-Pathology-Anotation-7/valid/images/scab_train_225_jpg.rf.d4ac83f1c37f5f1f55c6a02959703022.jpg: 448x640 1 leaf_scab, 10.3ms\n",
      "image 135/173 /workspace/Plant-Pathology-Anotation-7/valid/images/scab_train_233_jpg.rf.817f9256e7ed4355c49fecd17d8ed222.jpg: 448x640 1 leaf_scab, 9.4ms\n",
      "image 136/173 /workspace/Plant-Pathology-Anotation-7/valid/images/scab_train_263_jpg.rf.c1db167f0881b0ea959c3adc3a5fbc0b.jpg: 448x640 1 leaf_scab, 9.9ms\n",
      "image 137/173 /workspace/Plant-Pathology-Anotation-7/valid/images/scab_train_268_jpg.rf.ac1a567358c6e24e87ec2a8ae9fcf0f5.jpg: 448x640 1 leaf_scab, 10.6ms\n",
      "image 138/173 /workspace/Plant-Pathology-Anotation-7/valid/images/scab_train_272_jpg.rf.bf11bed7905655bd355c359290eade1a.jpg: 448x640 1 leaf_scab, 9.9ms\n",
      "image 139/173 /workspace/Plant-Pathology-Anotation-7/valid/images/scab_train_282_jpg.rf.b067395596b40d68a659af6ae3ac67d1.jpg: 448x640 1 leaf_scab, 9.7ms\n",
      "image 140/173 /workspace/Plant-Pathology-Anotation-7/valid/images/scab_train_283_jpg.rf.4f951b460772e6a10a5a7902b755cfc5.jpg: 448x640 1 leaf_scab, 11.3ms\n",
      "image 141/173 /workspace/Plant-Pathology-Anotation-7/valid/images/scab_train_2_jpg.rf.d2b688c56432ae52dafa338dad7f1b1c.jpg: 448x640 2 leaf_scabs, 9.6ms\n",
      "image 142/173 /workspace/Plant-Pathology-Anotation-7/valid/images/scab_train_318_jpg.rf.79a61d4427f6b14002c8f02111858c23.jpg: 448x640 1 leaf_scab, 9.2ms\n",
      "image 143/173 /workspace/Plant-Pathology-Anotation-7/valid/images/scab_train_330_jpg.rf.fecde07ad09d4caf950c67716383d7a1.jpg: 448x640 1 leaf_scab, 9.4ms\n",
      "image 144/173 /workspace/Plant-Pathology-Anotation-7/valid/images/scab_train_332_jpg.rf.6da0449fa5836c43f46a988b9008eaf5.jpg: 448x640 1 leaf_scab, 9.4ms\n",
      "image 145/173 /workspace/Plant-Pathology-Anotation-7/valid/images/scab_train_335_jpg.rf.855cb1ab24a824c7317db12237ad38df.jpg: 448x640 1 leaf_scab, 9.2ms\n",
      "image 146/173 /workspace/Plant-Pathology-Anotation-7/valid/images/scab_train_33_jpg.rf.46e03a38d735e0348730cdd1353facc8.jpg: 448x640 1 leaf_scab, 8.7ms\n",
      "image 147/173 /workspace/Plant-Pathology-Anotation-7/valid/images/scab_train_344_jpg.rf.035bc7b76fb92363643d18988c4f8065.jpg: 448x640 1 leaf_scab, 9.7ms\n",
      "image 148/173 /workspace/Plant-Pathology-Anotation-7/valid/images/scab_train_350_jpg.rf.fb6aff061ff7dd406099498e1b8f790a.jpg: 448x640 1 leaf_scab, 9.4ms\n",
      "image 149/173 /workspace/Plant-Pathology-Anotation-7/valid/images/scab_train_364_jpg.rf.94126a797b40cb8f947e3c57eb3b1da1.jpg: 448x640 1 leaf_scab, 9.1ms\n",
      "image 150/173 /workspace/Plant-Pathology-Anotation-7/valid/images/scab_train_365_jpg.rf.9349d5ed6e44163a24c9e7a36e26f4ed.jpg: 448x640 1 leaf_scab, 9.1ms\n",
      "image 151/173 /workspace/Plant-Pathology-Anotation-7/valid/images/scab_train_375_jpg.rf.2e10c86c202bbf2e0c631acf2097d09c.jpg: 448x640 1 leaf_scab, 9.0ms\n",
      "image 152/173 /workspace/Plant-Pathology-Anotation-7/valid/images/scab_train_379_jpg.rf.4ca9427221532d64af1fe3a664ef6d8c.jpg: 448x640 1 leaf_scab, 9.1ms\n",
      "image 153/173 /workspace/Plant-Pathology-Anotation-7/valid/images/scab_train_394_jpg.rf.162f502b3378ede7b3cf0e33809e0e3d.jpg: 448x640 1 leaf_scab, 9.4ms\n",
      "image 154/173 /workspace/Plant-Pathology-Anotation-7/valid/images/scab_train_3_jpg.rf.5bcd80a2d8075d2f544d25616616ba2e.jpg: 448x640 1 leaf_scab, 9.4ms\n",
      "image 155/173 /workspace/Plant-Pathology-Anotation-7/valid/images/scab_train_406_jpg.rf.04fcc02c1256fa2ef7caf60f1aba6f5c.jpg: 448x640 1 leaf_scab, 8.8ms\n",
      "image 156/173 /workspace/Plant-Pathology-Anotation-7/valid/images/scab_train_407_jpg.rf.5ba3b4f57ea7b1ebdc781bdb78d8fbea.jpg: 448x640 1 leaf_scab, 8.8ms\n",
      "image 157/173 /workspace/Plant-Pathology-Anotation-7/valid/images/scab_train_411_jpg.rf.8709829f659b350d41eb97211c93f689.jpg: 448x640 1 leaf_scab, 8.8ms\n",
      "image 158/173 /workspace/Plant-Pathology-Anotation-7/valid/images/scab_train_417_jpg.rf.a5f38d3d09a249cba0e27537dabf9b6e.jpg: 448x640 3 leaf_scabs, 8.8ms\n",
      "image 159/173 /workspace/Plant-Pathology-Anotation-7/valid/images/scab_train_422_jpg.rf.23c1464d0abd1bc8ff96991cd7ecfea6.jpg: 448x640 1 leaf_scab, 9.2ms\n",
      "image 160/173 /workspace/Plant-Pathology-Anotation-7/valid/images/scab_train_437_jpg.rf.e87c52312b050d8b661c7c2911efbdf0.jpg: 448x640 1 leaf_scab, 9.2ms\n",
      "image 161/173 /workspace/Plant-Pathology-Anotation-7/valid/images/scab_train_440_jpg.rf.f0fc35b5475fd33b5017ed88e25d282e.jpg: 448x640 2 leaf_scabs, 9.2ms\n",
      "image 162/173 /workspace/Plant-Pathology-Anotation-7/valid/images/scab_train_442_jpg.rf.c4e4119b613ffbaf2c9266b9b4065694.jpg: 448x640 2 leaf_scabs, 8.9ms\n",
      "image 163/173 /workspace/Plant-Pathology-Anotation-7/valid/images/scab_train_459_jpg.rf.dddce990f6cc88a65b81e696e8631caa.jpg: 448x640 1 leaf_scab, 9.0ms\n",
      "image 164/173 /workspace/Plant-Pathology-Anotation-7/valid/images/scab_train_476_jpg.rf.fcabd1fdb2ee6963901699428d33ff88.jpg: 448x640 1 leaf_scab, 8.8ms\n",
      "image 165/173 /workspace/Plant-Pathology-Anotation-7/valid/images/scab_train_491_jpg.rf.5ab418e20750c4129889779789c499b9.jpg: 448x640 1 leaf_scab, 9.2ms\n",
      "image 166/173 /workspace/Plant-Pathology-Anotation-7/valid/images/scab_train_494_jpg.rf.9a1d5c738dfea0ccb6a0a4fa9927b34a.jpg: 448x640 2 leaf_scabs, 9.2ms\n",
      "image 167/173 /workspace/Plant-Pathology-Anotation-7/valid/images/scab_train_495_jpg.rf.e42fa33629c09d39d9af235f0942e13b.jpg: 448x640 1 leaf_scab, 8.6ms\n",
      "image 168/173 /workspace/Plant-Pathology-Anotation-7/valid/images/scab_train_507_jpg.rf.1d19412e549aa70c4961618862adfd72.jpg: 448x640 1 leaf_scab, 8.8ms\n",
      "image 169/173 /workspace/Plant-Pathology-Anotation-7/valid/images/scab_train_542_jpg.rf.a04fa5787045f3cd81f7ff962dcad080.jpg: 448x640 1 leaf_scab, 8.9ms\n",
      "image 170/173 /workspace/Plant-Pathology-Anotation-7/valid/images/scab_train_564_jpg.rf.7fd3b280a882afb52926b0c90052a74b.jpg: 448x640 2 leaf_scabs, 8.4ms\n",
      "image 171/173 /workspace/Plant-Pathology-Anotation-7/valid/images/scab_train_575_jpg.rf.841f20fb7057e5d0e896670b7881bb6f.jpg: 448x640 1 leaf_scab, 9.6ms\n",
      "image 172/173 /workspace/Plant-Pathology-Anotation-7/valid/images/scab_train_64_jpg.rf.f59c55c2a326cba39007c59d8d313872.jpg: 448x640 1 leaf_scab, 10.2ms\n",
      "image 173/173 /workspace/Plant-Pathology-Anotation-7/valid/images/scab_train_98_jpg.rf.ca949782327a3e99ffbbf07df62902ce.jpg: 448x640 3 leaf_scabs, 9.2ms\n",
      "Speed: 1.6ms preprocess, 9.0ms inference, 1.1ms postprocess per image at shape (1, 3, 448, 640)\n"
     ]
    }
   ],
   "source": [
    "auto_annotate(data=\"Plant-Pathology-Anotation-7/valid/images/\", det_model=\"model/best.pt\", sam_model=\"sam2_b.pt\", output_dir=\"Plant-Pathology-Anotation-7/valid/labels/\")"
   ]
  },
  {
   "cell_type": "code",
   "execution_count": 7,
   "id": "d24e284b",
   "metadata": {},
   "outputs": [
    {
     "name": "stdout",
     "output_type": "stream",
     "text": [
      "Downloading https://github.com/ultralytics/assets/releases/download/v8.3.0/yolo11m-seg.pt to 'yolo11m-seg.pt'...\n"
     ]
    },
    {
     "name": "stderr",
     "output_type": "stream",
     "text": [
      "100%|██████████| 43.3M/43.3M [00:00<00:00, 168MB/s]\n"
     ]
    },
    {
     "name": "stdout",
     "output_type": "stream",
     "text": [
      "Ultralytics 8.3.162 🚀 Python-3.11.10 torch-2.4.1+cu124 CUDA:0 (NVIDIA GeForce RTX 4090, 24210MiB)\n",
      "\u001b[34m\u001b[1mengine/trainer: \u001b[0magnostic_nms=False, amp=True, augment=False, auto_augment=randaugment, batch=16, bgr=0.0, box=7.5, cache=False, cfg=None, classes=None, close_mosaic=10, cls=0.5, conf=None, copy_paste=0.0, copy_paste_mode=flip, cos_lr=False, cutmix=0.0, data=Plant-Pathology-Anotation-7/data.yaml, degrees=0.0, deterministic=True, device=None, dfl=1.5, dnn=False, dropout=0.0, dynamic=False, embed=None, epochs=100, erasing=0.4, exist_ok=False, fliplr=0.5, flipud=0.0, format=torchscript, fraction=1.0, freeze=None, half=False, hsv_h=0.015, hsv_s=0.7, hsv_v=0.4, imgsz=640, int8=False, iou=0.7, keras=False, kobj=1.0, line_width=None, lr0=0.01, lrf=0.01, mask_ratio=4, max_det=300, mixup=0.0, mode=train, model=yolo11m-seg.pt, momentum=0.937, mosaic=1.0, multi_scale=False, name=train, nbs=64, nms=False, opset=None, optimize=False, optimizer=auto, overlap_mask=True, patience=100, perspective=0.0, plots=True, pose=12.0, pretrained=True, profile=False, project=None, rect=False, resume=False, retina_masks=False, save=True, save_conf=False, save_crop=False, save_dir=runs/segment/train, save_frames=False, save_json=False, save_period=-1, save_txt=False, scale=0.5, seed=0, shear=0.0, show=False, show_boxes=True, show_conf=True, show_labels=True, simplify=True, single_cls=False, source=None, split=val, stream_buffer=False, task=segment, time=None, tracker=botsort.yaml, translate=0.1, val=True, verbose=True, vid_stride=1, visualize=False, warmup_bias_lr=0.1, warmup_epochs=3.0, warmup_momentum=0.8, weight_decay=0.0005, workers=8, workspace=None\n",
      "Downloading https://ultralytics.com/assets/Arial.ttf to '/tmp/Ultralytics/Arial.ttf'...\n"
     ]
    },
    {
     "name": "stderr",
     "output_type": "stream",
     "text": [
      "100%|██████████| 755k/755k [00:00<00:00, 21.2MB/s]"
     ]
    },
    {
     "name": "stdout",
     "output_type": "stream",
     "text": [
      "Overriding model.yaml nc=80 with nc=3\n",
      "\n",
      "                   from  n    params  module                                       arguments                     \n",
      "  0                  -1  1      1856  ultralytics.nn.modules.conv.Conv             [3, 64, 3, 2]                 \n",
      "  1                  -1  1     73984  ultralytics.nn.modules.conv.Conv             [64, 128, 3, 2]               \n",
      "  2                  -1  1    111872  ultralytics.nn.modules.block.C3k2            [128, 256, 1, True, 0.25]     \n",
      "  3                  -1  1    590336  ultralytics.nn.modules.conv.Conv             [256, 256, 3, 2]              \n",
      "  4                  -1  1    444928  ultralytics.nn.modules.block.C3k2            [256, 512, 1, True, 0.25]     \n",
      "  5                  -1  1   2360320  ultralytics.nn.modules.conv.Conv             [512, 512, 3, 2]              \n",
      "  6                  -1  1   1380352  ultralytics.nn.modules.block.C3k2            [512, 512, 1, True]           \n",
      "  7                  -1  1   2360320  ultralytics.nn.modules.conv.Conv             [512, 512, 3, 2]              \n",
      "  8                  -1  1   1380352  ultralytics.nn.modules.block.C3k2            [512, 512, 1, True]           \n",
      "  9                  -1  1    656896  ultralytics.nn.modules.block.SPPF            [512, 512, 5]                 \n",
      " 10                  -1  1    990976  ultralytics.nn.modules.block.C2PSA           [512, 512, 1]                 \n",
      " 11                  -1  1         0  torch.nn.modules.upsampling.Upsample         [None, 2, 'nearest']          \n",
      " 12             [-1, 6]  1         0  ultralytics.nn.modules.conv.Concat           [1]                           \n",
      " 13                  -1  1   1642496  ultralytics.nn.modules.block.C3k2            [1024, 512, 1, True]          \n",
      " 14                  -1  1         0  torch.nn.modules.upsampling.Upsample         [None, 2, 'nearest']          \n",
      " 15             [-1, 4]  1         0  ultralytics.nn.modules.conv.Concat           [1]                           \n",
      " 16                  -1  1    542720  ultralytics.nn.modules.block.C3k2            [1024, 256, 1, True]          \n",
      " 17                  -1  1    590336  ultralytics.nn.modules.conv.Conv             [256, 256, 3, 2]              \n",
      " 18            [-1, 13]  1         0  ultralytics.nn.modules.conv.Concat           [1]                           \n"
     ]
    },
    {
     "name": "stderr",
     "output_type": "stream",
     "text": [
      "\n"
     ]
    },
    {
     "name": "stdout",
     "output_type": "stream",
     "text": [
      " 19                  -1  1   1511424  ultralytics.nn.modules.block.C3k2            [768, 512, 1, True]           \n",
      " 20                  -1  1   2360320  ultralytics.nn.modules.conv.Conv             [512, 512, 3, 2]              \n",
      " 21            [-1, 10]  1         0  ultralytics.nn.modules.conv.Concat           [1]                           \n",
      " 22                  -1  1   1642496  ultralytics.nn.modules.block.C3k2            [1024, 512, 1, True]          \n",
      " 23        [16, 19, 22]  1   3719545  ultralytics.nn.modules.head.Segment          [3, 32, 256, [256, 512, 512]] \n",
      "YOLO11m-seg summary: 253 layers, 22,361,529 parameters, 22,361,513 gradients, 123.6 GFLOPs\n",
      "\n",
      "Transferred 705/711 items from pretrained weights\n",
      "Freezing layer 'model.23.dfl.conv.weight'\n",
      "\u001b[34m\u001b[1mAMP: \u001b[0mrunning Automatic Mixed Precision (AMP) checks...\n",
      "Downloading https://github.com/ultralytics/assets/releases/download/v8.3.0/yolo11n.pt to 'yolo11n.pt'...\n"
     ]
    },
    {
     "name": "stderr",
     "output_type": "stream",
     "text": [
      "100%|██████████| 5.35M/5.35M [00:00<00:00, 81.3MB/s]\n"
     ]
    },
    {
     "name": "stdout",
     "output_type": "stream",
     "text": [
      "\u001b[34m\u001b[1mAMP: \u001b[0mchecks passed ✅\n",
      "\u001b[34m\u001b[1mtrain: \u001b[0mFast image access ✅ (ping: 0.3±0.1 ms, read: 126.4±44.0 MB/s, size: 222.0 KB)\n"
     ]
    },
    {
     "name": "stderr",
     "output_type": "stream",
     "text": [
      "\u001b[34m\u001b[1mtrain: \u001b[0mScanning /workspace/Plant-Pathology-Anotation-7/train/labels... 1557 images, 0 backgrounds, 0 corrupt: 100%|██████████| 1557/1557 [00:06<00:00, 253.14it/s]\n"
     ]
    },
    {
     "name": "stdout",
     "output_type": "stream",
     "text": [
      "\u001b[34m\u001b[1mtrain: \u001b[0mNew cache created: /workspace/Plant-Pathology-Anotation-7/train/labels.cache\n",
      "\u001b[34m\u001b[1mval: \u001b[0mFast image access ✅ (ping: 0.2±0.0 ms, read: 167.1±38.7 MB/s, size: 159.4 KB)\n"
     ]
    },
    {
     "name": "stderr",
     "output_type": "stream",
     "text": [
      "\u001b[34m\u001b[1mval: \u001b[0mScanning /workspace/Plant-Pathology-Anotation-7/valid/labels... 173 images, 0 backgrounds, 0 corrupt: 100%|██████████| 173/173 [00:00<00:00, 218.67it/s]\n"
     ]
    },
    {
     "name": "stdout",
     "output_type": "stream",
     "text": [
      "\u001b[34m\u001b[1mval: \u001b[0mNew cache created: /workspace/Plant-Pathology-Anotation-7/valid/labels.cache\n",
      "Plotting labels to runs/segment/train/labels.jpg... \n",
      "\u001b[34m\u001b[1moptimizer:\u001b[0m 'optimizer=auto' found, ignoring 'lr0=0.01' and 'momentum=0.937' and determining best 'optimizer', 'lr0' and 'momentum' automatically... \n",
      "\u001b[34m\u001b[1moptimizer:\u001b[0m AdamW(lr=0.001429, momentum=0.9) with parameter groups 115 weight(decay=0.0), 126 weight(decay=0.0005), 125 bias(decay=0.0)\n",
      "Image sizes 640 train, 640 val\n",
      "Using 8 dataloader workers\n",
      "Logging results to \u001b[1mruns/segment/train\u001b[0m\n",
      "Starting training for 100 epochs...\n",
      "\n",
      "      Epoch    GPU_mem   box_loss   seg_loss   cls_loss   dfl_loss  Instances       Size\n"
     ]
    },
    {
     "name": "stderr",
     "output_type": "stream",
     "text": [
      "      1/100      9.47G     0.5525       1.16      1.531      1.068         24        640: 100%|██████████| 98/98 [00:18<00:00,  5.17it/s]\n",
      "                 Class     Images  Instances      Box(P          R      mAP50  mAP50-95)     Mask(P          R      mAP50  mAP50-95): 100%|██████████| 6/6 [00:01<00:00,  5.91it/s]"
     ]
    },
    {
     "name": "stdout",
     "output_type": "stream",
     "text": [
      "                   all        173        362      0.348      0.507      0.347      0.192      0.347      0.449      0.338      0.159\n"
     ]
    },
    {
     "name": "stderr",
     "output_type": "stream",
     "text": [
      "\n"
     ]
    },
    {
     "name": "stdout",
     "output_type": "stream",
     "text": [
      "\n",
      "      Epoch    GPU_mem   box_loss   seg_loss   cls_loss   dfl_loss  Instances       Size\n"
     ]
    },
    {
     "name": "stderr",
     "output_type": "stream",
     "text": [
      "      2/100      10.1G     0.6606      1.217      1.145      1.095         35        640: 100%|██████████| 98/98 [00:16<00:00,  6.01it/s]\n",
      "                 Class     Images  Instances      Box(P          R      mAP50  mAP50-95)     Mask(P          R      mAP50  mAP50-95): 100%|██████████| 6/6 [00:00<00:00,  6.17it/s]"
     ]
    },
    {
     "name": "stdout",
     "output_type": "stream",
     "text": [
      "                   all        173        362       0.45      0.549       0.47      0.278      0.463      0.541      0.456      0.268\n"
     ]
    },
    {
     "name": "stderr",
     "output_type": "stream",
     "text": [
      "\n"
     ]
    },
    {
     "name": "stdout",
     "output_type": "stream",
     "text": [
      "\n",
      "      Epoch    GPU_mem   box_loss   seg_loss   cls_loss   dfl_loss  Instances       Size\n"
     ]
    },
    {
     "name": "stderr",
     "output_type": "stream",
     "text": [
      "      3/100      10.1G        0.7      1.219      1.142      1.116         58        640: 100%|██████████| 98/98 [00:16<00:00,  6.12it/s]\n",
      "                 Class     Images  Instances      Box(P          R      mAP50  mAP50-95)     Mask(P          R      mAP50  mAP50-95): 100%|██████████| 6/6 [00:00<00:00,  6.39it/s]"
     ]
    },
    {
     "name": "stdout",
     "output_type": "stream",
     "text": [
      "                   all        173        362      0.522       0.51      0.538      0.341      0.502      0.492      0.492      0.259\n"
     ]
    },
    {
     "name": "stderr",
     "output_type": "stream",
     "text": [
      "\n"
     ]
    },
    {
     "name": "stdout",
     "output_type": "stream",
     "text": [
      "\n",
      "      Epoch    GPU_mem   box_loss   seg_loss   cls_loss   dfl_loss  Instances       Size\n"
     ]
    },
    {
     "name": "stderr",
     "output_type": "stream",
     "text": [
      "      4/100      10.1G      0.687      1.221      1.085      1.111         35        640: 100%|██████████| 98/98 [00:15<00:00,  6.16it/s]\n",
      "                 Class     Images  Instances      Box(P          R      mAP50  mAP50-95)     Mask(P          R      mAP50  mAP50-95): 100%|██████████| 6/6 [00:00<00:00,  6.45it/s]"
     ]
    },
    {
     "name": "stdout",
     "output_type": "stream",
     "text": [
      "                   all        173        362      0.678      0.649      0.751      0.612      0.685      0.635      0.743      0.565\n"
     ]
    },
    {
     "name": "stderr",
     "output_type": "stream",
     "text": [
      "\n"
     ]
    },
    {
     "name": "stdout",
     "output_type": "stream",
     "text": [
      "\n",
      "      Epoch    GPU_mem   box_loss   seg_loss   cls_loss   dfl_loss  Instances       Size\n"
     ]
    },
    {
     "name": "stderr",
     "output_type": "stream",
     "text": [
      "      5/100      10.1G     0.6194      1.061      1.019       1.08         29        640: 100%|██████████| 98/98 [00:15<00:00,  6.19it/s]\n",
      "                 Class     Images  Instances      Box(P          R      mAP50  mAP50-95)     Mask(P          R      mAP50  mAP50-95): 100%|██████████| 6/6 [00:00<00:00,  6.34it/s]"
     ]
    },
    {
     "name": "stdout",
     "output_type": "stream",
     "text": [
      "                   all        173        362      0.699      0.694      0.763      0.643      0.671      0.698      0.761      0.652\n"
     ]
    },
    {
     "name": "stderr",
     "output_type": "stream",
     "text": [
      "\n"
     ]
    },
    {
     "name": "stdout",
     "output_type": "stream",
     "text": [
      "\n",
      "      Epoch    GPU_mem   box_loss   seg_loss   cls_loss   dfl_loss  Instances       Size\n"
     ]
    },
    {
     "name": "stderr",
     "output_type": "stream",
     "text": [
      "      6/100      10.1G     0.5916      1.012     0.9383      1.053         21        640: 100%|██████████| 98/98 [00:15<00:00,  6.17it/s]\n",
      "                 Class     Images  Instances      Box(P          R      mAP50  mAP50-95)     Mask(P          R      mAP50  mAP50-95): 100%|██████████| 6/6 [00:00<00:00,  6.42it/s]"
     ]
    },
    {
     "name": "stdout",
     "output_type": "stream",
     "text": [
      "                   all        173        362       0.73      0.824      0.875      0.731      0.769      0.782      0.869      0.727\n"
     ]
    },
    {
     "name": "stderr",
     "output_type": "stream",
     "text": [
      "\n"
     ]
    },
    {
     "name": "stdout",
     "output_type": "stream",
     "text": [
      "\n",
      "      Epoch    GPU_mem   box_loss   seg_loss   cls_loss   dfl_loss  Instances       Size\n"
     ]
    },
    {
     "name": "stderr",
     "output_type": "stream",
     "text": [
      "      7/100      10.1G     0.5564     0.9642     0.9126      1.038         15        640: 100%|██████████| 98/98 [00:16<00:00,  6.11it/s]\n",
      "                 Class     Images  Instances      Box(P          R      mAP50  mAP50-95)     Mask(P          R      mAP50  mAP50-95): 100%|██████████| 6/6 [00:00<00:00,  6.54it/s]"
     ]
    },
    {
     "name": "stdout",
     "output_type": "stream",
     "text": [
      "                   all        173        362      0.871      0.792      0.892      0.781       0.87      0.795      0.885       0.79\n"
     ]
    },
    {
     "name": "stderr",
     "output_type": "stream",
     "text": [
      "\n"
     ]
    },
    {
     "name": "stdout",
     "output_type": "stream",
     "text": [
      "\n",
      "      Epoch    GPU_mem   box_loss   seg_loss   cls_loss   dfl_loss  Instances       Size\n"
     ]
    },
    {
     "name": "stderr",
     "output_type": "stream",
     "text": [
      "      8/100      10.1G     0.5332     0.9465     0.8638       1.03         29        640: 100%|██████████| 98/98 [00:16<00:00,  6.05it/s]\n",
      "                 Class     Images  Instances      Box(P          R      mAP50  mAP50-95)     Mask(P          R      mAP50  mAP50-95): 100%|██████████| 6/6 [00:00<00:00,  6.47it/s]"
     ]
    },
    {
     "name": "stdout",
     "output_type": "stream",
     "text": [
      "                   all        173        362      0.886      0.794      0.894      0.795      0.887      0.799      0.891      0.773\n"
     ]
    },
    {
     "name": "stderr",
     "output_type": "stream",
     "text": [
      "\n"
     ]
    },
    {
     "name": "stdout",
     "output_type": "stream",
     "text": [
      "\n",
      "      Epoch    GPU_mem   box_loss   seg_loss   cls_loss   dfl_loss  Instances       Size\n"
     ]
    },
    {
     "name": "stderr",
     "output_type": "stream",
     "text": [
      "      9/100      10.1G     0.5072     0.8861     0.8289      1.006         20        640: 100%|██████████| 98/98 [00:15<00:00,  6.13it/s]\n",
      "                 Class     Images  Instances      Box(P          R      mAP50  mAP50-95)     Mask(P          R      mAP50  mAP50-95): 100%|██████████| 6/6 [00:00<00:00,  6.43it/s]"
     ]
    },
    {
     "name": "stdout",
     "output_type": "stream",
     "text": [
      "                   all        173        362       0.88       0.75      0.867      0.784      0.864      0.745      0.856      0.746\n"
     ]
    },
    {
     "name": "stderr",
     "output_type": "stream",
     "text": [
      "\n"
     ]
    },
    {
     "name": "stdout",
     "output_type": "stream",
     "text": [
      "\n",
      "      Epoch    GPU_mem   box_loss   seg_loss   cls_loss   dfl_loss  Instances       Size\n"
     ]
    },
    {
     "name": "stderr",
     "output_type": "stream",
     "text": [
      "     10/100      10.1G      0.503     0.9043       0.81      1.014         25        640: 100%|██████████| 98/98 [00:16<00:00,  6.09it/s]\n",
      "                 Class     Images  Instances      Box(P          R      mAP50  mAP50-95)     Mask(P          R      mAP50  mAP50-95): 100%|██████████| 6/6 [00:00<00:00,  6.58it/s]"
     ]
    },
    {
     "name": "stdout",
     "output_type": "stream",
     "text": [
      "                   all        173        362      0.843       0.82      0.898      0.811      0.858      0.792       0.89      0.796\n"
     ]
    },
    {
     "name": "stderr",
     "output_type": "stream",
     "text": [
      "\n"
     ]
    },
    {
     "name": "stdout",
     "output_type": "stream",
     "text": [
      "\n",
      "      Epoch    GPU_mem   box_loss   seg_loss   cls_loss   dfl_loss  Instances       Size\n"
     ]
    },
    {
     "name": "stderr",
     "output_type": "stream",
     "text": [
      "     11/100      10.1G     0.4913     0.8311      0.802      1.004         27        640: 100%|██████████| 98/98 [00:16<00:00,  6.09it/s]\n",
      "                 Class     Images  Instances      Box(P          R      mAP50  mAP50-95)     Mask(P          R      mAP50  mAP50-95): 100%|██████████| 6/6 [00:00<00:00,  6.60it/s]"
     ]
    },
    {
     "name": "stdout",
     "output_type": "stream",
     "text": [
      "                   all        173        362      0.883      0.817      0.905      0.814       0.88      0.831      0.905      0.812\n"
     ]
    },
    {
     "name": "stderr",
     "output_type": "stream",
     "text": [
      "\n"
     ]
    },
    {
     "name": "stdout",
     "output_type": "stream",
     "text": [
      "\n",
      "      Epoch    GPU_mem   box_loss   seg_loss   cls_loss   dfl_loss  Instances       Size\n"
     ]
    },
    {
     "name": "stderr",
     "output_type": "stream",
     "text": [
      "     12/100      10.1G     0.4662     0.8119      0.761     0.9935         23        640: 100%|██████████| 98/98 [00:16<00:00,  6.09it/s]\n",
      "                 Class     Images  Instances      Box(P          R      mAP50  mAP50-95)     Mask(P          R      mAP50  mAP50-95): 100%|██████████| 6/6 [00:00<00:00,  6.55it/s]"
     ]
    },
    {
     "name": "stdout",
     "output_type": "stream",
     "text": [
      "                   all        173        362      0.895      0.825      0.918       0.85       0.89      0.824      0.916      0.845\n"
     ]
    },
    {
     "name": "stderr",
     "output_type": "stream",
     "text": [
      "\n"
     ]
    },
    {
     "name": "stdout",
     "output_type": "stream",
     "text": [
      "\n",
      "      Epoch    GPU_mem   box_loss   seg_loss   cls_loss   dfl_loss  Instances       Size\n"
     ]
    },
    {
     "name": "stderr",
     "output_type": "stream",
     "text": [
      "     13/100      10.1G     0.4754     0.7936     0.7653     0.9955         38        640: 100%|██████████| 98/98 [00:16<00:00,  6.11it/s]\n",
      "                 Class     Images  Instances      Box(P          R      mAP50  mAP50-95)     Mask(P          R      mAP50  mAP50-95): 100%|██████████| 6/6 [00:00<00:00,  6.65it/s]"
     ]
    },
    {
     "name": "stdout",
     "output_type": "stream",
     "text": [
      "                   all        173        362      0.848      0.854      0.916      0.811      0.836      0.865       0.91      0.818\n"
     ]
    },
    {
     "name": "stderr",
     "output_type": "stream",
     "text": [
      "\n"
     ]
    },
    {
     "name": "stdout",
     "output_type": "stream",
     "text": [
      "\n",
      "      Epoch    GPU_mem   box_loss   seg_loss   cls_loss   dfl_loss  Instances       Size\n"
     ]
    },
    {
     "name": "stderr",
     "output_type": "stream",
     "text": [
      "     14/100      10.1G     0.4456     0.7456     0.7373     0.9861         26        640: 100%|██████████| 98/98 [00:15<00:00,  6.15it/s]\n",
      "                 Class     Images  Instances      Box(P          R      mAP50  mAP50-95)     Mask(P          R      mAP50  mAP50-95): 100%|██████████| 6/6 [00:00<00:00,  6.61it/s]"
     ]
    },
    {
     "name": "stdout",
     "output_type": "stream",
     "text": [
      "                   all        173        362      0.913      0.863      0.933      0.855      0.918      0.868      0.935      0.859\n"
     ]
    },
    {
     "name": "stderr",
     "output_type": "stream",
     "text": [
      "\n"
     ]
    },
    {
     "name": "stdout",
     "output_type": "stream",
     "text": [
      "\n",
      "      Epoch    GPU_mem   box_loss   seg_loss   cls_loss   dfl_loss  Instances       Size\n"
     ]
    },
    {
     "name": "stderr",
     "output_type": "stream",
     "text": [
      "     15/100      10.1G     0.4621     0.7367     0.7626     0.9909         26        640: 100%|██████████| 98/98 [00:16<00:00,  5.93it/s]\n",
      "                 Class     Images  Instances      Box(P          R      mAP50  mAP50-95)     Mask(P          R      mAP50  mAP50-95): 100%|██████████| 6/6 [00:00<00:00,  6.56it/s]"
     ]
    },
    {
     "name": "stdout",
     "output_type": "stream",
     "text": [
      "                   all        173        362       0.87      0.866      0.934      0.863      0.865      0.864      0.928      0.859\n"
     ]
    },
    {
     "name": "stderr",
     "output_type": "stream",
     "text": [
      "\n"
     ]
    },
    {
     "name": "stdout",
     "output_type": "stream",
     "text": [
      "\n",
      "      Epoch    GPU_mem   box_loss   seg_loss   cls_loss   dfl_loss  Instances       Size\n"
     ]
    },
    {
     "name": "stderr",
     "output_type": "stream",
     "text": [
      "     16/100      10.1G     0.4446     0.7511      0.709     0.9801         24        640: 100%|██████████| 98/98 [00:16<00:00,  5.90it/s]\n",
      "                 Class     Images  Instances      Box(P          R      mAP50  mAP50-95)     Mask(P          R      mAP50  mAP50-95): 100%|██████████| 6/6 [00:00<00:00,  6.23it/s]"
     ]
    },
    {
     "name": "stdout",
     "output_type": "stream",
     "text": [
      "                   all        173        362      0.903      0.848      0.932      0.846       0.91      0.847       0.93      0.855\n"
     ]
    },
    {
     "name": "stderr",
     "output_type": "stream",
     "text": [
      "\n"
     ]
    },
    {
     "name": "stdout",
     "output_type": "stream",
     "text": [
      "\n",
      "      Epoch    GPU_mem   box_loss   seg_loss   cls_loss   dfl_loss  Instances       Size\n"
     ]
    },
    {
     "name": "stderr",
     "output_type": "stream",
     "text": [
      "     17/100      10.1G     0.4443     0.7378      0.739     0.9822         24        640: 100%|██████████| 98/98 [00:16<00:00,  5.99it/s]\n",
      "                 Class     Images  Instances      Box(P          R      mAP50  mAP50-95)     Mask(P          R      mAP50  mAP50-95): 100%|██████████| 6/6 [00:00<00:00,  6.62it/s]"
     ]
    },
    {
     "name": "stdout",
     "output_type": "stream",
     "text": [
      "                   all        173        362      0.824      0.834      0.902      0.807      0.826      0.834      0.896      0.805\n"
     ]
    },
    {
     "name": "stderr",
     "output_type": "stream",
     "text": [
      "\n"
     ]
    },
    {
     "name": "stdout",
     "output_type": "stream",
     "text": [
      "\n",
      "      Epoch    GPU_mem   box_loss   seg_loss   cls_loss   dfl_loss  Instances       Size\n"
     ]
    },
    {
     "name": "stderr",
     "output_type": "stream",
     "text": [
      "     18/100      10.1G     0.4142     0.6833     0.7265     0.9708         19        640: 100%|██████████| 98/98 [00:16<00:00,  5.93it/s]\n",
      "                 Class     Images  Instances      Box(P          R      mAP50  mAP50-95)     Mask(P          R      mAP50  mAP50-95): 100%|██████████| 6/6 [00:00<00:00,  6.58it/s]"
     ]
    },
    {
     "name": "stdout",
     "output_type": "stream",
     "text": [
      "                   all        173        362      0.918      0.837       0.95      0.899      0.914      0.833      0.943      0.878\n"
     ]
    },
    {
     "name": "stderr",
     "output_type": "stream",
     "text": [
      "\n"
     ]
    },
    {
     "name": "stdout",
     "output_type": "stream",
     "text": [
      "\n",
      "      Epoch    GPU_mem   box_loss   seg_loss   cls_loss   dfl_loss  Instances       Size\n"
     ]
    },
    {
     "name": "stderr",
     "output_type": "stream",
     "text": [
      "     19/100      10.1G      0.424     0.7403     0.7101     0.9735         29        640: 100%|██████████| 98/98 [00:16<00:00,  6.01it/s]\n",
      "                 Class     Images  Instances      Box(P          R      mAP50  mAP50-95)     Mask(P          R      mAP50  mAP50-95): 100%|██████████| 6/6 [00:00<00:00,  6.48it/s]"
     ]
    },
    {
     "name": "stdout",
     "output_type": "stream",
     "text": [
      "                   all        173        362      0.878      0.808      0.917      0.859      0.882      0.815      0.914      0.845\n"
     ]
    },
    {
     "name": "stderr",
     "output_type": "stream",
     "text": [
      "\n"
     ]
    },
    {
     "name": "stdout",
     "output_type": "stream",
     "text": [
      "\n",
      "      Epoch    GPU_mem   box_loss   seg_loss   cls_loss   dfl_loss  Instances       Size\n"
     ]
    },
    {
     "name": "stderr",
     "output_type": "stream",
     "text": [
      "     20/100      10.1G     0.4056     0.6943     0.6987     0.9598         20        640: 100%|██████████| 98/98 [00:16<00:00,  5.96it/s]\n",
      "                 Class     Images  Instances      Box(P          R      mAP50  mAP50-95)     Mask(P          R      mAP50  mAP50-95): 100%|██████████| 6/6 [00:00<00:00,  6.56it/s]"
     ]
    },
    {
     "name": "stdout",
     "output_type": "stream",
     "text": [
      "                   all        173        362      0.929      0.831       0.93      0.868      0.932      0.832      0.929      0.853\n"
     ]
    },
    {
     "name": "stderr",
     "output_type": "stream",
     "text": [
      "\n"
     ]
    },
    {
     "name": "stdout",
     "output_type": "stream",
     "text": [
      "\n",
      "      Epoch    GPU_mem   box_loss   seg_loss   cls_loss   dfl_loss  Instances       Size\n"
     ]
    },
    {
     "name": "stderr",
     "output_type": "stream",
     "text": [
      "     21/100      10.1G     0.4021      0.661     0.6777     0.9629         21        640: 100%|██████████| 98/98 [00:16<00:00,  5.98it/s]\n",
      "                 Class     Images  Instances      Box(P          R      mAP50  mAP50-95)     Mask(P          R      mAP50  mAP50-95): 100%|██████████| 6/6 [00:00<00:00,  6.47it/s]"
     ]
    },
    {
     "name": "stdout",
     "output_type": "stream",
     "text": [
      "                   all        173        362      0.921      0.856      0.947      0.884      0.919      0.855      0.943      0.877\n"
     ]
    },
    {
     "name": "stderr",
     "output_type": "stream",
     "text": [
      "\n"
     ]
    },
    {
     "name": "stdout",
     "output_type": "stream",
     "text": [
      "\n",
      "      Epoch    GPU_mem   box_loss   seg_loss   cls_loss   dfl_loss  Instances       Size\n"
     ]
    },
    {
     "name": "stderr",
     "output_type": "stream",
     "text": [
      "     22/100      10.1G     0.4004     0.6278     0.6678     0.9619         18        640: 100%|██████████| 98/98 [00:16<00:00,  5.95it/s]\n",
      "                 Class     Images  Instances      Box(P          R      mAP50  mAP50-95)     Mask(P          R      mAP50  mAP50-95): 100%|██████████| 6/6 [00:00<00:00,  6.56it/s]"
     ]
    },
    {
     "name": "stdout",
     "output_type": "stream",
     "text": [
      "                   all        173        362      0.901      0.849      0.935      0.887      0.896      0.847      0.931       0.87\n"
     ]
    },
    {
     "name": "stderr",
     "output_type": "stream",
     "text": [
      "\n"
     ]
    },
    {
     "name": "stdout",
     "output_type": "stream",
     "text": [
      "\n",
      "      Epoch    GPU_mem   box_loss   seg_loss   cls_loss   dfl_loss  Instances       Size\n"
     ]
    },
    {
     "name": "stderr",
     "output_type": "stream",
     "text": [
      "     23/100      10.1G     0.3839     0.6626     0.6413     0.9524         27        640: 100%|██████████| 98/98 [00:16<00:00,  5.96it/s]\n",
      "                 Class     Images  Instances      Box(P          R      mAP50  mAP50-95)     Mask(P          R      mAP50  mAP50-95): 100%|██████████| 6/6 [00:00<00:00,  6.62it/s]"
     ]
    },
    {
     "name": "stdout",
     "output_type": "stream",
     "text": [
      "                   all        173        362      0.859      0.854       0.92      0.847      0.863      0.859      0.925      0.845\n"
     ]
    },
    {
     "name": "stderr",
     "output_type": "stream",
     "text": [
      "\n"
     ]
    },
    {
     "name": "stdout",
     "output_type": "stream",
     "text": [
      "\n",
      "      Epoch    GPU_mem   box_loss   seg_loss   cls_loss   dfl_loss  Instances       Size\n"
     ]
    },
    {
     "name": "stderr",
     "output_type": "stream",
     "text": [
      "     24/100      10.1G     0.3881     0.6371     0.6422     0.9538         30        640: 100%|██████████| 98/98 [00:16<00:00,  6.00it/s]\n",
      "                 Class     Images  Instances      Box(P          R      mAP50  mAP50-95)     Mask(P          R      mAP50  mAP50-95): 100%|██████████| 6/6 [00:00<00:00,  6.51it/s]"
     ]
    },
    {
     "name": "stdout",
     "output_type": "stream",
     "text": [
      "                   all        173        362      0.925      0.887      0.953       0.89      0.922      0.885      0.946      0.882\n"
     ]
    },
    {
     "name": "stderr",
     "output_type": "stream",
     "text": [
      "\n"
     ]
    },
    {
     "name": "stdout",
     "output_type": "stream",
     "text": [
      "\n",
      "      Epoch    GPU_mem   box_loss   seg_loss   cls_loss   dfl_loss  Instances       Size\n"
     ]
    },
    {
     "name": "stderr",
     "output_type": "stream",
     "text": [
      "     25/100      10.1G     0.3849      0.616     0.6331     0.9491         25        640: 100%|██████████| 98/98 [00:16<00:00,  5.96it/s]\n",
      "                 Class     Images  Instances      Box(P          R      mAP50  mAP50-95)     Mask(P          R      mAP50  mAP50-95): 100%|██████████| 6/6 [00:00<00:00,  6.69it/s]"
     ]
    },
    {
     "name": "stdout",
     "output_type": "stream",
     "text": [
      "                   all        173        362      0.861      0.912      0.952      0.907      0.913       0.87      0.947      0.894\n"
     ]
    },
    {
     "name": "stderr",
     "output_type": "stream",
     "text": [
      "\n"
     ]
    },
    {
     "name": "stdout",
     "output_type": "stream",
     "text": [
      "\n",
      "      Epoch    GPU_mem   box_loss   seg_loss   cls_loss   dfl_loss  Instances       Size\n"
     ]
    },
    {
     "name": "stderr",
     "output_type": "stream",
     "text": [
      "     26/100      10.1G     0.3805     0.5847     0.6193     0.9445         31        640: 100%|██████████| 98/98 [00:16<00:00,  6.00it/s]\n",
      "                 Class     Images  Instances      Box(P          R      mAP50  mAP50-95)     Mask(P          R      mAP50  mAP50-95): 100%|██████████| 6/6 [00:00<00:00,  6.57it/s]"
     ]
    },
    {
     "name": "stdout",
     "output_type": "stream",
     "text": [
      "                   all        173        362      0.904      0.877      0.948      0.882      0.897      0.872      0.939      0.874\n"
     ]
    },
    {
     "name": "stderr",
     "output_type": "stream",
     "text": [
      "\n"
     ]
    },
    {
     "name": "stdout",
     "output_type": "stream",
     "text": [
      "\n",
      "      Epoch    GPU_mem   box_loss   seg_loss   cls_loss   dfl_loss  Instances       Size\n"
     ]
    },
    {
     "name": "stderr",
     "output_type": "stream",
     "text": [
      "     27/100      10.1G     0.3709     0.5941     0.6023     0.9431         22        640: 100%|██████████| 98/98 [00:16<00:00,  5.99it/s]\n",
      "                 Class     Images  Instances      Box(P          R      mAP50  mAP50-95)     Mask(P          R      mAP50  mAP50-95): 100%|██████████| 6/6 [00:00<00:00,  6.60it/s]"
     ]
    },
    {
     "name": "stdout",
     "output_type": "stream",
     "text": [
      "                   all        173        362      0.881      0.913      0.958      0.906      0.874      0.906       0.95       0.89\n"
     ]
    },
    {
     "name": "stderr",
     "output_type": "stream",
     "text": [
      "\n"
     ]
    },
    {
     "name": "stdout",
     "output_type": "stream",
     "text": [
      "\n",
      "      Epoch    GPU_mem   box_loss   seg_loss   cls_loss   dfl_loss  Instances       Size\n"
     ]
    },
    {
     "name": "stderr",
     "output_type": "stream",
     "text": [
      "     28/100      10.1G     0.3668     0.5886     0.5919     0.9398         17        640: 100%|██████████| 98/98 [00:16<00:00,  5.95it/s]\n",
      "                 Class     Images  Instances      Box(P          R      mAP50  mAP50-95)     Mask(P          R      mAP50  mAP50-95): 100%|██████████| 6/6 [00:00<00:00,  6.60it/s]"
     ]
    },
    {
     "name": "stdout",
     "output_type": "stream",
     "text": [
      "                   all        173        362      0.906      0.909       0.96      0.904      0.898        0.9      0.952      0.891\n"
     ]
    },
    {
     "name": "stderr",
     "output_type": "stream",
     "text": [
      "\n"
     ]
    },
    {
     "name": "stdout",
     "output_type": "stream",
     "text": [
      "\n",
      "      Epoch    GPU_mem   box_loss   seg_loss   cls_loss   dfl_loss  Instances       Size\n"
     ]
    },
    {
     "name": "stderr",
     "output_type": "stream",
     "text": [
      "     29/100      10.1G     0.3677     0.6193     0.5903     0.9466         28        640: 100%|██████████| 98/98 [00:16<00:00,  5.98it/s]\n",
      "                 Class     Images  Instances      Box(P          R      mAP50  mAP50-95)     Mask(P          R      mAP50  mAP50-95): 100%|██████████| 6/6 [00:00<00:00,  6.47it/s]"
     ]
    },
    {
     "name": "stdout",
     "output_type": "stream",
     "text": [
      "                   all        173        362      0.892      0.903      0.951      0.898      0.885      0.895      0.944      0.883\n"
     ]
    },
    {
     "name": "stderr",
     "output_type": "stream",
     "text": [
      "\n"
     ]
    },
    {
     "name": "stdout",
     "output_type": "stream",
     "text": [
      "\n",
      "      Epoch    GPU_mem   box_loss   seg_loss   cls_loss   dfl_loss  Instances       Size\n"
     ]
    },
    {
     "name": "stderr",
     "output_type": "stream",
     "text": [
      "     30/100      10.1G     0.3669     0.6222     0.6019     0.9433         27        640: 100%|██████████| 98/98 [00:16<00:00,  6.01it/s]\n",
      "                 Class     Images  Instances      Box(P          R      mAP50  mAP50-95)     Mask(P          R      mAP50  mAP50-95): 100%|██████████| 6/6 [00:00<00:00,  6.75it/s]"
     ]
    },
    {
     "name": "stdout",
     "output_type": "stream",
     "text": [
      "                   all        173        362      0.916      0.863      0.931       0.88      0.912      0.859      0.929       0.87\n"
     ]
    },
    {
     "name": "stderr",
     "output_type": "stream",
     "text": [
      "\n"
     ]
    },
    {
     "name": "stdout",
     "output_type": "stream",
     "text": [
      "\n",
      "      Epoch    GPU_mem   box_loss   seg_loss   cls_loss   dfl_loss  Instances       Size\n"
     ]
    },
    {
     "name": "stderr",
     "output_type": "stream",
     "text": [
      "     31/100      10.1G     0.3618     0.5738     0.5963     0.9379         23        640: 100%|██████████| 98/98 [00:16<00:00,  5.98it/s]\n",
      "                 Class     Images  Instances      Box(P          R      mAP50  mAP50-95)     Mask(P          R      mAP50  mAP50-95): 100%|██████████| 6/6 [00:00<00:00,  6.62it/s]"
     ]
    },
    {
     "name": "stdout",
     "output_type": "stream",
     "text": [
      "                   all        173        362      0.921      0.905      0.965      0.922      0.916      0.901       0.96      0.907\n"
     ]
    },
    {
     "name": "stderr",
     "output_type": "stream",
     "text": [
      "\n"
     ]
    },
    {
     "name": "stdout",
     "output_type": "stream",
     "text": [
      "\n",
      "      Epoch    GPU_mem   box_loss   seg_loss   cls_loss   dfl_loss  Instances       Size\n"
     ]
    },
    {
     "name": "stderr",
     "output_type": "stream",
     "text": [
      "     32/100      10.1G     0.3577      0.553     0.5834     0.9361         20        640: 100%|██████████| 98/98 [00:16<00:00,  5.94it/s]\n",
      "                 Class     Images  Instances      Box(P          R      mAP50  mAP50-95)     Mask(P          R      mAP50  mAP50-95): 100%|██████████| 6/6 [00:00<00:00,  6.57it/s]"
     ]
    },
    {
     "name": "stdout",
     "output_type": "stream",
     "text": [
      "                   all        173        362      0.861        0.9      0.955      0.904      0.861        0.9       0.95      0.892\n"
     ]
    },
    {
     "name": "stderr",
     "output_type": "stream",
     "text": [
      "\n"
     ]
    },
    {
     "name": "stdout",
     "output_type": "stream",
     "text": [
      "\n",
      "      Epoch    GPU_mem   box_loss   seg_loss   cls_loss   dfl_loss  Instances       Size\n"
     ]
    },
    {
     "name": "stderr",
     "output_type": "stream",
     "text": [
      "     33/100      10.1G     0.3508     0.5449     0.5953     0.9347         25        640: 100%|██████████| 98/98 [00:16<00:00,  6.05it/s]\n",
      "                 Class     Images  Instances      Box(P          R      mAP50  mAP50-95)     Mask(P          R      mAP50  mAP50-95): 100%|██████████| 6/6 [00:00<00:00,  6.52it/s]"
     ]
    },
    {
     "name": "stdout",
     "output_type": "stream",
     "text": [
      "                   all        173        362      0.891      0.887       0.95      0.898       0.89      0.885      0.945      0.881\n"
     ]
    },
    {
     "name": "stderr",
     "output_type": "stream",
     "text": [
      "\n"
     ]
    },
    {
     "name": "stdout",
     "output_type": "stream",
     "text": [
      "\n",
      "      Epoch    GPU_mem   box_loss   seg_loss   cls_loss   dfl_loss  Instances       Size\n"
     ]
    },
    {
     "name": "stderr",
     "output_type": "stream",
     "text": [
      "     34/100      10.1G     0.3491     0.5087     0.5886     0.9341         34        640: 100%|██████████| 98/98 [00:16<00:00,  6.01it/s]\n",
      "                 Class     Images  Instances      Box(P          R      mAP50  mAP50-95)     Mask(P          R      mAP50  mAP50-95): 100%|██████████| 6/6 [00:00<00:00,  6.66it/s]"
     ]
    },
    {
     "name": "stdout",
     "output_type": "stream",
     "text": [
      "                   all        173        362      0.931      0.871      0.954      0.906      0.928      0.867      0.947      0.892\n"
     ]
    },
    {
     "name": "stderr",
     "output_type": "stream",
     "text": [
      "\n"
     ]
    },
    {
     "name": "stdout",
     "output_type": "stream",
     "text": [
      "\n",
      "      Epoch    GPU_mem   box_loss   seg_loss   cls_loss   dfl_loss  Instances       Size\n"
     ]
    },
    {
     "name": "stderr",
     "output_type": "stream",
     "text": [
      "     35/100      10.1G     0.3444     0.5874     0.5631     0.9291         27        640: 100%|██████████| 98/98 [00:16<00:00,  5.92it/s]\n",
      "                 Class     Images  Instances      Box(P          R      mAP50  mAP50-95)     Mask(P          R      mAP50  mAP50-95): 100%|██████████| 6/6 [00:00<00:00,  6.63it/s]"
     ]
    },
    {
     "name": "stdout",
     "output_type": "stream",
     "text": [
      "                   all        173        362      0.879      0.901      0.949      0.899      0.883      0.902      0.948      0.881\n"
     ]
    },
    {
     "name": "stderr",
     "output_type": "stream",
     "text": [
      "\n"
     ]
    },
    {
     "name": "stdout",
     "output_type": "stream",
     "text": [
      "\n",
      "      Epoch    GPU_mem   box_loss   seg_loss   cls_loss   dfl_loss  Instances       Size\n"
     ]
    },
    {
     "name": "stderr",
     "output_type": "stream",
     "text": [
      "     36/100      10.1G     0.3453     0.5599     0.5691     0.9357         27        640: 100%|██████████| 98/98 [00:16<00:00,  5.92it/s]\n",
      "                 Class     Images  Instances      Box(P          R      mAP50  mAP50-95)     Mask(P          R      mAP50  mAP50-95): 100%|██████████| 6/6 [00:00<00:00,  6.61it/s]"
     ]
    },
    {
     "name": "stdout",
     "output_type": "stream",
     "text": [
      "                   all        173        362      0.905      0.904      0.952      0.912      0.901      0.904      0.947      0.884\n"
     ]
    },
    {
     "name": "stderr",
     "output_type": "stream",
     "text": [
      "\n"
     ]
    },
    {
     "name": "stdout",
     "output_type": "stream",
     "text": [
      "\n",
      "      Epoch    GPU_mem   box_loss   seg_loss   cls_loss   dfl_loss  Instances       Size\n"
     ]
    },
    {
     "name": "stderr",
     "output_type": "stream",
     "text": [
      "     37/100      10.1G       0.33     0.5495     0.5552     0.9265         32        640: 100%|██████████| 98/98 [00:16<00:00,  5.96it/s]\n",
      "                 Class     Images  Instances      Box(P          R      mAP50  mAP50-95)     Mask(P          R      mAP50  mAP50-95): 100%|██████████| 6/6 [00:00<00:00,  6.45it/s]"
     ]
    },
    {
     "name": "stdout",
     "output_type": "stream",
     "text": [
      "                   all        173        362      0.884      0.897      0.949      0.905      0.885      0.895      0.947      0.896\n"
     ]
    },
    {
     "name": "stderr",
     "output_type": "stream",
     "text": [
      "\n"
     ]
    },
    {
     "name": "stdout",
     "output_type": "stream",
     "text": [
      "\n",
      "      Epoch    GPU_mem   box_loss   seg_loss   cls_loss   dfl_loss  Instances       Size\n"
     ]
    },
    {
     "name": "stderr",
     "output_type": "stream",
     "text": [
      "     38/100      10.1G       0.33      0.506     0.5566     0.9267         28        640: 100%|██████████| 98/98 [00:16<00:00,  5.95it/s]\n",
      "                 Class     Images  Instances      Box(P          R      mAP50  mAP50-95)     Mask(P          R      mAP50  mAP50-95): 100%|██████████| 6/6 [00:00<00:00,  6.66it/s]"
     ]
    },
    {
     "name": "stdout",
     "output_type": "stream",
     "text": [
      "                   all        173        362      0.909       0.89      0.958      0.914      0.906      0.889      0.954       0.91\n"
     ]
    },
    {
     "name": "stderr",
     "output_type": "stream",
     "text": [
      "\n"
     ]
    },
    {
     "name": "stdout",
     "output_type": "stream",
     "text": [
      "\n",
      "      Epoch    GPU_mem   box_loss   seg_loss   cls_loss   dfl_loss  Instances       Size\n"
     ]
    },
    {
     "name": "stderr",
     "output_type": "stream",
     "text": [
      "     39/100      10.1G     0.3307     0.5177     0.5522     0.9204         23        640: 100%|██████████| 98/98 [00:16<00:00,  5.97it/s]\n",
      "                 Class     Images  Instances      Box(P          R      mAP50  mAP50-95)     Mask(P          R      mAP50  mAP50-95): 100%|██████████| 6/6 [00:00<00:00,  6.48it/s]"
     ]
    },
    {
     "name": "stdout",
     "output_type": "stream",
     "text": [
      "                   all        173        362      0.898      0.895      0.948      0.905        0.9      0.896      0.948      0.897\n"
     ]
    },
    {
     "name": "stderr",
     "output_type": "stream",
     "text": [
      "\n"
     ]
    },
    {
     "name": "stdout",
     "output_type": "stream",
     "text": [
      "\n",
      "      Epoch    GPU_mem   box_loss   seg_loss   cls_loss   dfl_loss  Instances       Size\n"
     ]
    },
    {
     "name": "stderr",
     "output_type": "stream",
     "text": [
      "     40/100      10.1G     0.3227     0.5251     0.5434     0.9222         26        640: 100%|██████████| 98/98 [00:16<00:00,  5.95it/s]\n",
      "                 Class     Images  Instances      Box(P          R      mAP50  mAP50-95)     Mask(P          R      mAP50  mAP50-95): 100%|██████████| 6/6 [00:00<00:00,  6.61it/s]"
     ]
    },
    {
     "name": "stdout",
     "output_type": "stream",
     "text": [
      "                   all        173        362      0.875      0.922      0.957      0.919      0.869      0.916      0.952      0.905\n"
     ]
    },
    {
     "name": "stderr",
     "output_type": "stream",
     "text": [
      "\n"
     ]
    },
    {
     "name": "stdout",
     "output_type": "stream",
     "text": [
      "\n",
      "      Epoch    GPU_mem   box_loss   seg_loss   cls_loss   dfl_loss  Instances       Size\n"
     ]
    },
    {
     "name": "stderr",
     "output_type": "stream",
     "text": [
      "     41/100      10.1G     0.3201     0.4904      0.531     0.9189         26        640: 100%|██████████| 98/98 [00:16<00:00,  6.01it/s]\n",
      "                 Class     Images  Instances      Box(P          R      mAP50  mAP50-95)     Mask(P          R      mAP50  mAP50-95): 100%|██████████| 6/6 [00:00<00:00,  6.49it/s]"
     ]
    },
    {
     "name": "stdout",
     "output_type": "stream",
     "text": [
      "                   all        173        362      0.906      0.895      0.956      0.919      0.917      0.881      0.948      0.899\n"
     ]
    },
    {
     "name": "stderr",
     "output_type": "stream",
     "text": [
      "\n"
     ]
    },
    {
     "name": "stdout",
     "output_type": "stream",
     "text": [
      "\n",
      "      Epoch    GPU_mem   box_loss   seg_loss   cls_loss   dfl_loss  Instances       Size\n"
     ]
    },
    {
     "name": "stderr",
     "output_type": "stream",
     "text": [
      "     42/100      10.1G     0.3273     0.5023     0.5467     0.9205         21        640: 100%|██████████| 98/98 [00:16<00:00,  6.00it/s]\n",
      "                 Class     Images  Instances      Box(P          R      mAP50  mAP50-95)     Mask(P          R      mAP50  mAP50-95): 100%|██████████| 6/6 [00:00<00:00,  6.53it/s]"
     ]
    },
    {
     "name": "stdout",
     "output_type": "stream",
     "text": [
      "                   all        173        362       0.92      0.896      0.961       0.92      0.916      0.893      0.953      0.905\n"
     ]
    },
    {
     "name": "stderr",
     "output_type": "stream",
     "text": [
      "\n"
     ]
    },
    {
     "name": "stdout",
     "output_type": "stream",
     "text": [
      "\n",
      "      Epoch    GPU_mem   box_loss   seg_loss   cls_loss   dfl_loss  Instances       Size\n"
     ]
    },
    {
     "name": "stderr",
     "output_type": "stream",
     "text": [
      "     43/100      10.1G      0.324     0.5131     0.5308     0.9189         18        640: 100%|██████████| 98/98 [00:16<00:00,  5.98it/s]\n",
      "                 Class     Images  Instances      Box(P          R      mAP50  mAP50-95)     Mask(P          R      mAP50  mAP50-95): 100%|██████████| 6/6 [00:00<00:00,  6.53it/s]"
     ]
    },
    {
     "name": "stdout",
     "output_type": "stream",
     "text": [
      "                   all        173        362      0.898      0.918      0.964      0.924      0.894      0.914      0.958      0.913\n"
     ]
    },
    {
     "name": "stderr",
     "output_type": "stream",
     "text": [
      "\n"
     ]
    },
    {
     "name": "stdout",
     "output_type": "stream",
     "text": [
      "\n",
      "      Epoch    GPU_mem   box_loss   seg_loss   cls_loss   dfl_loss  Instances       Size\n"
     ]
    },
    {
     "name": "stderr",
     "output_type": "stream",
     "text": [
      "     44/100      10.1G     0.3244      0.536     0.5086     0.9187         27        640: 100%|██████████| 98/98 [00:16<00:00,  5.95it/s]\n",
      "                 Class     Images  Instances      Box(P          R      mAP50  mAP50-95)     Mask(P          R      mAP50  mAP50-95): 100%|██████████| 6/6 [00:00<00:00,  6.51it/s]"
     ]
    },
    {
     "name": "stdout",
     "output_type": "stream",
     "text": [
      "                   all        173        362      0.923      0.911      0.961      0.919      0.911      0.899       0.95      0.896\n"
     ]
    },
    {
     "name": "stderr",
     "output_type": "stream",
     "text": [
      "\n"
     ]
    },
    {
     "name": "stdout",
     "output_type": "stream",
     "text": [
      "\n",
      "      Epoch    GPU_mem   box_loss   seg_loss   cls_loss   dfl_loss  Instances       Size\n"
     ]
    },
    {
     "name": "stderr",
     "output_type": "stream",
     "text": [
      "     45/100      10.1G     0.3109     0.4753     0.5119     0.9144         42        640: 100%|██████████| 98/98 [00:16<00:00,  5.98it/s]\n",
      "                 Class     Images  Instances      Box(P          R      mAP50  mAP50-95)     Mask(P          R      mAP50  mAP50-95): 100%|██████████| 6/6 [00:00<00:00,  6.55it/s]"
     ]
    },
    {
     "name": "stdout",
     "output_type": "stream",
     "text": [
      "                   all        173        362      0.953      0.867      0.958      0.916      0.953      0.867      0.953        0.9\n"
     ]
    },
    {
     "name": "stderr",
     "output_type": "stream",
     "text": [
      "\n"
     ]
    },
    {
     "name": "stdout",
     "output_type": "stream",
     "text": [
      "\n",
      "      Epoch    GPU_mem   box_loss   seg_loss   cls_loss   dfl_loss  Instances       Size\n"
     ]
    },
    {
     "name": "stderr",
     "output_type": "stream",
     "text": [
      "     46/100      10.1G     0.3075     0.4736     0.4875     0.9072         24        640: 100%|██████████| 98/98 [00:16<00:00,  5.99it/s]\n",
      "                 Class     Images  Instances      Box(P          R      mAP50  mAP50-95)     Mask(P          R      mAP50  mAP50-95): 100%|██████████| 6/6 [00:00<00:00,  6.60it/s]"
     ]
    },
    {
     "name": "stdout",
     "output_type": "stream",
     "text": [
      "                   all        173        362      0.929      0.883      0.955      0.914      0.925      0.886      0.952        0.9\n"
     ]
    },
    {
     "name": "stderr",
     "output_type": "stream",
     "text": [
      "\n"
     ]
    },
    {
     "name": "stdout",
     "output_type": "stream",
     "text": [
      "\n",
      "      Epoch    GPU_mem   box_loss   seg_loss   cls_loss   dfl_loss  Instances       Size\n"
     ]
    },
    {
     "name": "stderr",
     "output_type": "stream",
     "text": [
      "     47/100      10.1G     0.3066      0.483     0.5051     0.9161         33        640: 100%|██████████| 98/98 [00:16<00:00,  5.96it/s]\n",
      "                 Class     Images  Instances      Box(P          R      mAP50  mAP50-95)     Mask(P          R      mAP50  mAP50-95): 100%|██████████| 6/6 [00:00<00:00,  6.65it/s]"
     ]
    },
    {
     "name": "stdout",
     "output_type": "stream",
     "text": [
      "                   all        173        362      0.933      0.905      0.966      0.915      0.931      0.904      0.958      0.908\n"
     ]
    },
    {
     "name": "stderr",
     "output_type": "stream",
     "text": [
      "\n"
     ]
    },
    {
     "name": "stdout",
     "output_type": "stream",
     "text": [
      "\n",
      "      Epoch    GPU_mem   box_loss   seg_loss   cls_loss   dfl_loss  Instances       Size\n"
     ]
    },
    {
     "name": "stderr",
     "output_type": "stream",
     "text": [
      "     48/100      10.1G     0.3014     0.4745     0.4987      0.915         30        640: 100%|██████████| 98/98 [00:16<00:00,  5.95it/s]\n",
      "                 Class     Images  Instances      Box(P          R      mAP50  mAP50-95)     Mask(P          R      mAP50  mAP50-95): 100%|██████████| 6/6 [00:00<00:00,  6.65it/s]"
     ]
    },
    {
     "name": "stdout",
     "output_type": "stream",
     "text": [
      "                   all        173        362       0.94      0.887      0.959      0.916      0.939      0.885      0.953      0.902\n"
     ]
    },
    {
     "name": "stderr",
     "output_type": "stream",
     "text": [
      "\n"
     ]
    },
    {
     "name": "stdout",
     "output_type": "stream",
     "text": [
      "\n",
      "      Epoch    GPU_mem   box_loss   seg_loss   cls_loss   dfl_loss  Instances       Size\n"
     ]
    },
    {
     "name": "stderr",
     "output_type": "stream",
     "text": [
      "     49/100      10.1G     0.3095      0.472     0.4983     0.9129         22        640: 100%|██████████| 98/98 [00:16<00:00,  5.88it/s]\n",
      "                 Class     Images  Instances      Box(P          R      mAP50  mAP50-95)     Mask(P          R      mAP50  mAP50-95): 100%|██████████| 6/6 [00:00<00:00,  6.41it/s]"
     ]
    },
    {
     "name": "stdout",
     "output_type": "stream",
     "text": [
      "                   all        173        362      0.938      0.888      0.961      0.925      0.934      0.885      0.957      0.908\n"
     ]
    },
    {
     "name": "stderr",
     "output_type": "stream",
     "text": [
      "\n"
     ]
    },
    {
     "name": "stdout",
     "output_type": "stream",
     "text": [
      "\n",
      "      Epoch    GPU_mem   box_loss   seg_loss   cls_loss   dfl_loss  Instances       Size\n"
     ]
    },
    {
     "name": "stderr",
     "output_type": "stream",
     "text": [
      "     50/100      10.1G     0.3063     0.4408     0.4912     0.9124         18        640: 100%|██████████| 98/98 [00:16<00:00,  5.92it/s]\n",
      "                 Class     Images  Instances      Box(P          R      mAP50  mAP50-95)     Mask(P          R      mAP50  mAP50-95): 100%|██████████| 6/6 [00:00<00:00,  6.49it/s]"
     ]
    },
    {
     "name": "stdout",
     "output_type": "stream",
     "text": [
      "                   all        173        362      0.946       0.89      0.966      0.931      0.946      0.892      0.965       0.92\n"
     ]
    },
    {
     "name": "stderr",
     "output_type": "stream",
     "text": [
      "\n"
     ]
    },
    {
     "name": "stdout",
     "output_type": "stream",
     "text": [
      "\n",
      "      Epoch    GPU_mem   box_loss   seg_loss   cls_loss   dfl_loss  Instances       Size\n"
     ]
    },
    {
     "name": "stderr",
     "output_type": "stream",
     "text": [
      "     51/100      10.1G     0.2925     0.4544     0.4874     0.9072         24        640: 100%|██████████| 98/98 [00:16<00:00,  5.96it/s]\n",
      "                 Class     Images  Instances      Box(P          R      mAP50  mAP50-95)     Mask(P          R      mAP50  mAP50-95): 100%|██████████| 6/6 [00:00<00:00,  6.55it/s]"
     ]
    },
    {
     "name": "stdout",
     "output_type": "stream",
     "text": [
      "                   all        173        362      0.924      0.895      0.963      0.921      0.921      0.891      0.958      0.908\n"
     ]
    },
    {
     "name": "stderr",
     "output_type": "stream",
     "text": [
      "\n"
     ]
    },
    {
     "name": "stdout",
     "output_type": "stream",
     "text": [
      "\n",
      "      Epoch    GPU_mem   box_loss   seg_loss   cls_loss   dfl_loss  Instances       Size\n"
     ]
    },
    {
     "name": "stderr",
     "output_type": "stream",
     "text": [
      "     52/100      10.1G     0.2878      0.431     0.4796      0.903         17        640: 100%|██████████| 98/98 [00:16<00:00,  5.96it/s]\n",
      "                 Class     Images  Instances      Box(P          R      mAP50  mAP50-95)     Mask(P          R      mAP50  mAP50-95): 100%|██████████| 6/6 [00:00<00:00,  6.63it/s]"
     ]
    },
    {
     "name": "stdout",
     "output_type": "stream",
     "text": [
      "                   all        173        362      0.964      0.866      0.962      0.923       0.96      0.862      0.956      0.907\n"
     ]
    },
    {
     "name": "stderr",
     "output_type": "stream",
     "text": [
      "\n"
     ]
    },
    {
     "name": "stdout",
     "output_type": "stream",
     "text": [
      "\n",
      "      Epoch    GPU_mem   box_loss   seg_loss   cls_loss   dfl_loss  Instances       Size\n"
     ]
    },
    {
     "name": "stderr",
     "output_type": "stream",
     "text": [
      "     53/100      10.1G     0.2985     0.4789     0.4892      0.909         30        640: 100%|██████████| 98/98 [00:16<00:00,  5.91it/s]\n",
      "                 Class     Images  Instances      Box(P          R      mAP50  mAP50-95)     Mask(P          R      mAP50  mAP50-95): 100%|██████████| 6/6 [00:00<00:00,  6.57it/s]"
     ]
    },
    {
     "name": "stdout",
     "output_type": "stream",
     "text": [
      "                   all        173        362      0.904      0.885      0.954      0.915      0.905      0.887       0.95      0.906\n"
     ]
    },
    {
     "name": "stderr",
     "output_type": "stream",
     "text": [
      "\n"
     ]
    },
    {
     "name": "stdout",
     "output_type": "stream",
     "text": [
      "\n",
      "      Epoch    GPU_mem   box_loss   seg_loss   cls_loss   dfl_loss  Instances       Size\n"
     ]
    },
    {
     "name": "stderr",
     "output_type": "stream",
     "text": [
      "     54/100      10.1G     0.2928      0.435     0.4854     0.9059         20        640: 100%|██████████| 98/98 [00:16<00:00,  5.93it/s]\n",
      "                 Class     Images  Instances      Box(P          R      mAP50  mAP50-95)     Mask(P          R      mAP50  mAP50-95): 100%|██████████| 6/6 [00:00<00:00,  6.59it/s]"
     ]
    },
    {
     "name": "stdout",
     "output_type": "stream",
     "text": [
      "                   all        173        362      0.929      0.886      0.961      0.922      0.926      0.884       0.96      0.911\n"
     ]
    },
    {
     "name": "stderr",
     "output_type": "stream",
     "text": [
      "\n"
     ]
    },
    {
     "name": "stdout",
     "output_type": "stream",
     "text": [
      "\n",
      "      Epoch    GPU_mem   box_loss   seg_loss   cls_loss   dfl_loss  Instances       Size\n"
     ]
    },
    {
     "name": "stderr",
     "output_type": "stream",
     "text": [
      "     55/100      10.1G     0.2851     0.4369     0.4704     0.9067         11        640: 100%|██████████| 98/98 [00:16<00:00,  6.03it/s]\n",
      "                 Class     Images  Instances      Box(P          R      mAP50  mAP50-95)     Mask(P          R      mAP50  mAP50-95): 100%|██████████| 6/6 [00:00<00:00,  6.52it/s]"
     ]
    },
    {
     "name": "stdout",
     "output_type": "stream",
     "text": [
      "                   all        173        362      0.915      0.907      0.968      0.932       0.92      0.906      0.961      0.918\n"
     ]
    },
    {
     "name": "stderr",
     "output_type": "stream",
     "text": [
      "\n"
     ]
    },
    {
     "name": "stdout",
     "output_type": "stream",
     "text": [
      "\n",
      "      Epoch    GPU_mem   box_loss   seg_loss   cls_loss   dfl_loss  Instances       Size\n"
     ]
    },
    {
     "name": "stderr",
     "output_type": "stream",
     "text": [
      "     56/100      10.1G      0.289      0.422     0.4697     0.9033         30        640: 100%|██████████| 98/98 [00:16<00:00,  6.04it/s]\n",
      "                 Class     Images  Instances      Box(P          R      mAP50  mAP50-95)     Mask(P          R      mAP50  mAP50-95): 100%|██████████| 6/6 [00:00<00:00,  6.58it/s]"
     ]
    },
    {
     "name": "stdout",
     "output_type": "stream",
     "text": [
      "                   all        173        362      0.939      0.896      0.963       0.92      0.936        0.9      0.958      0.913\n"
     ]
    },
    {
     "name": "stderr",
     "output_type": "stream",
     "text": [
      "\n"
     ]
    },
    {
     "name": "stdout",
     "output_type": "stream",
     "text": [
      "\n",
      "      Epoch    GPU_mem   box_loss   seg_loss   cls_loss   dfl_loss  Instances       Size\n"
     ]
    },
    {
     "name": "stderr",
     "output_type": "stream",
     "text": [
      "     57/100      10.1G     0.2791     0.4202      0.462     0.8988         31        640: 100%|██████████| 98/98 [00:16<00:00,  6.08it/s]\n",
      "                 Class     Images  Instances      Box(P          R      mAP50  mAP50-95)     Mask(P          R      mAP50  mAP50-95): 100%|██████████| 6/6 [00:00<00:00,  6.58it/s]"
     ]
    },
    {
     "name": "stdout",
     "output_type": "stream",
     "text": [
      "                   all        173        362       0.92      0.905      0.968       0.93      0.918      0.903      0.965       0.92\n"
     ]
    },
    {
     "name": "stderr",
     "output_type": "stream",
     "text": [
      "\n"
     ]
    },
    {
     "name": "stdout",
     "output_type": "stream",
     "text": [
      "\n",
      "      Epoch    GPU_mem   box_loss   seg_loss   cls_loss   dfl_loss  Instances       Size\n"
     ]
    },
    {
     "name": "stderr",
     "output_type": "stream",
     "text": [
      "     58/100      10.1G     0.2831     0.4205     0.4676     0.9018         32        640: 100%|██████████| 98/98 [00:16<00:00,  6.02it/s]\n",
      "                 Class     Images  Instances      Box(P          R      mAP50  mAP50-95)     Mask(P          R      mAP50  mAP50-95): 100%|██████████| 6/6 [00:00<00:00,  6.65it/s]"
     ]
    },
    {
     "name": "stdout",
     "output_type": "stream",
     "text": [
      "                   all        173        362      0.927      0.896      0.961      0.922      0.923      0.903      0.957       0.91\n"
     ]
    },
    {
     "name": "stderr",
     "output_type": "stream",
     "text": [
      "\n"
     ]
    },
    {
     "name": "stdout",
     "output_type": "stream",
     "text": [
      "\n",
      "      Epoch    GPU_mem   box_loss   seg_loss   cls_loss   dfl_loss  Instances       Size\n"
     ]
    },
    {
     "name": "stderr",
     "output_type": "stream",
     "text": [
      "     59/100      10.1G     0.2764     0.4212     0.4565     0.8967         26        640: 100%|██████████| 98/98 [00:16<00:00,  6.04it/s]\n",
      "                 Class     Images  Instances      Box(P          R      mAP50  mAP50-95)     Mask(P          R      mAP50  mAP50-95): 100%|██████████| 6/6 [00:00<00:00,  6.50it/s]"
     ]
    },
    {
     "name": "stdout",
     "output_type": "stream",
     "text": [
      "                   all        173        362      0.941      0.895      0.971      0.931      0.937      0.891      0.964      0.921\n"
     ]
    },
    {
     "name": "stderr",
     "output_type": "stream",
     "text": [
      "\n"
     ]
    },
    {
     "name": "stdout",
     "output_type": "stream",
     "text": [
      "\n",
      "      Epoch    GPU_mem   box_loss   seg_loss   cls_loss   dfl_loss  Instances       Size\n"
     ]
    },
    {
     "name": "stderr",
     "output_type": "stream",
     "text": [
      "     60/100      10.1G     0.2807     0.3948     0.4444     0.8969         24        640: 100%|██████████| 98/98 [00:15<00:00,  6.13it/s]\n",
      "                 Class     Images  Instances      Box(P          R      mAP50  mAP50-95)     Mask(P          R      mAP50  mAP50-95): 100%|██████████| 6/6 [00:00<00:00,  6.58it/s]"
     ]
    },
    {
     "name": "stdout",
     "output_type": "stream",
     "text": [
      "                   all        173        362      0.879      0.943      0.965      0.925      0.878      0.943      0.961      0.914\n"
     ]
    },
    {
     "name": "stderr",
     "output_type": "stream",
     "text": [
      "\n"
     ]
    },
    {
     "name": "stdout",
     "output_type": "stream",
     "text": [
      "\n",
      "      Epoch    GPU_mem   box_loss   seg_loss   cls_loss   dfl_loss  Instances       Size\n"
     ]
    },
    {
     "name": "stderr",
     "output_type": "stream",
     "text": [
      "     61/100      10.1G      0.282     0.4141     0.4535     0.9009         30        640: 100%|██████████| 98/98 [00:16<00:00,  6.05it/s]\n",
      "                 Class     Images  Instances      Box(P          R      mAP50  mAP50-95)     Mask(P          R      mAP50  mAP50-95): 100%|██████████| 6/6 [00:00<00:00,  6.31it/s]"
     ]
    },
    {
     "name": "stdout",
     "output_type": "stream",
     "text": [
      "                   all        173        362      0.935      0.898      0.968      0.931      0.935      0.898      0.962      0.921\n"
     ]
    },
    {
     "name": "stderr",
     "output_type": "stream",
     "text": [
      "\n"
     ]
    },
    {
     "name": "stdout",
     "output_type": "stream",
     "text": [
      "\n",
      "      Epoch    GPU_mem   box_loss   seg_loss   cls_loss   dfl_loss  Instances       Size\n"
     ]
    },
    {
     "name": "stderr",
     "output_type": "stream",
     "text": [
      "     62/100      10.1G     0.2736     0.3957     0.4461     0.8977         20        640: 100%|██████████| 98/98 [00:16<00:00,  6.01it/s]\n",
      "                 Class     Images  Instances      Box(P          R      mAP50  mAP50-95)     Mask(P          R      mAP50  mAP50-95): 100%|██████████| 6/6 [00:00<00:00,  6.52it/s]"
     ]
    },
    {
     "name": "stdout",
     "output_type": "stream",
     "text": [
      "                   all        173        362      0.939      0.887      0.969       0.93      0.937      0.884      0.962      0.911\n"
     ]
    },
    {
     "name": "stderr",
     "output_type": "stream",
     "text": [
      "\n"
     ]
    },
    {
     "name": "stdout",
     "output_type": "stream",
     "text": [
      "\n",
      "      Epoch    GPU_mem   box_loss   seg_loss   cls_loss   dfl_loss  Instances       Size\n"
     ]
    },
    {
     "name": "stderr",
     "output_type": "stream",
     "text": [
      "     63/100      10.1G     0.2623     0.3991     0.4314     0.8943         26        640: 100%|██████████| 98/98 [00:16<00:00,  6.05it/s]\n",
      "                 Class     Images  Instances      Box(P          R      mAP50  mAP50-95)     Mask(P          R      mAP50  mAP50-95): 100%|██████████| 6/6 [00:00<00:00,  6.60it/s]"
     ]
    },
    {
     "name": "stdout",
     "output_type": "stream",
     "text": [
      "                   all        173        362      0.914      0.918      0.963      0.925      0.913      0.916      0.958      0.907\n"
     ]
    },
    {
     "name": "stderr",
     "output_type": "stream",
     "text": [
      "\n"
     ]
    },
    {
     "name": "stdout",
     "output_type": "stream",
     "text": [
      "\n",
      "      Epoch    GPU_mem   box_loss   seg_loss   cls_loss   dfl_loss  Instances       Size\n"
     ]
    },
    {
     "name": "stderr",
     "output_type": "stream",
     "text": [
      "     64/100      10.1G     0.2728     0.4035     0.4364     0.8961         24        640: 100%|██████████| 98/98 [00:16<00:00,  6.07it/s]\n",
      "                 Class     Images  Instances      Box(P          R      mAP50  mAP50-95)     Mask(P          R      mAP50  mAP50-95): 100%|██████████| 6/6 [00:00<00:00,  6.55it/s]"
     ]
    },
    {
     "name": "stdout",
     "output_type": "stream",
     "text": [
      "                   all        173        362      0.933      0.891      0.964      0.928      0.933      0.891      0.959      0.912\n"
     ]
    },
    {
     "name": "stderr",
     "output_type": "stream",
     "text": [
      "\n"
     ]
    },
    {
     "name": "stdout",
     "output_type": "stream",
     "text": [
      "\n",
      "      Epoch    GPU_mem   box_loss   seg_loss   cls_loss   dfl_loss  Instances       Size\n"
     ]
    },
    {
     "name": "stderr",
     "output_type": "stream",
     "text": [
      "     65/100      10.1G     0.2659     0.3942     0.4208     0.8875         19        640: 100%|██████████| 98/98 [00:16<00:00,  6.02it/s]\n",
      "                 Class     Images  Instances      Box(P          R      mAP50  mAP50-95)     Mask(P          R      mAP50  mAP50-95): 100%|██████████| 6/6 [00:00<00:00,  6.62it/s]"
     ]
    },
    {
     "name": "stdout",
     "output_type": "stream",
     "text": [
      "                   all        173        362      0.901      0.927      0.965      0.927      0.901      0.927       0.96      0.911\n"
     ]
    },
    {
     "name": "stderr",
     "output_type": "stream",
     "text": [
      "\n"
     ]
    },
    {
     "name": "stdout",
     "output_type": "stream",
     "text": [
      "\n",
      "      Epoch    GPU_mem   box_loss   seg_loss   cls_loss   dfl_loss  Instances       Size\n"
     ]
    },
    {
     "name": "stderr",
     "output_type": "stream",
     "text": [
      "     66/100      10.1G     0.2684     0.4057     0.4269     0.8938         19        640: 100%|██████████| 98/98 [00:16<00:00,  6.07it/s]\n",
      "                 Class     Images  Instances      Box(P          R      mAP50  mAP50-95)     Mask(P          R      mAP50  mAP50-95): 100%|██████████| 6/6 [00:00<00:00,  6.54it/s]"
     ]
    },
    {
     "name": "stdout",
     "output_type": "stream",
     "text": [
      "                   all        173        362      0.913      0.919      0.961      0.922      0.913      0.919      0.956      0.906\n"
     ]
    },
    {
     "name": "stderr",
     "output_type": "stream",
     "text": [
      "\n"
     ]
    },
    {
     "name": "stdout",
     "output_type": "stream",
     "text": [
      "\n",
      "      Epoch    GPU_mem   box_loss   seg_loss   cls_loss   dfl_loss  Instances       Size\n"
     ]
    },
    {
     "name": "stderr",
     "output_type": "stream",
     "text": [
      "     67/100      10.1G     0.2628      0.376     0.4147     0.8904         25        640: 100%|██████████| 98/98 [00:16<00:00,  6.02it/s]\n",
      "                 Class     Images  Instances      Box(P          R      mAP50  mAP50-95)     Mask(P          R      mAP50  mAP50-95): 100%|██████████| 6/6 [00:00<00:00,  6.44it/s]"
     ]
    },
    {
     "name": "stdout",
     "output_type": "stream",
     "text": [
      "                   all        173        362      0.915      0.911      0.966       0.93      0.913      0.909      0.959      0.912\n"
     ]
    },
    {
     "name": "stderr",
     "output_type": "stream",
     "text": [
      "\n"
     ]
    },
    {
     "name": "stdout",
     "output_type": "stream",
     "text": [
      "\n",
      "      Epoch    GPU_mem   box_loss   seg_loss   cls_loss   dfl_loss  Instances       Size\n"
     ]
    },
    {
     "name": "stderr",
     "output_type": "stream",
     "text": [
      "     68/100      10.1G     0.2614     0.3892     0.4136      0.892         22        640: 100%|██████████| 98/98 [00:16<00:00,  5.99it/s]\n",
      "                 Class     Images  Instances      Box(P          R      mAP50  mAP50-95)     Mask(P          R      mAP50  mAP50-95): 100%|██████████| 6/6 [00:00<00:00,  6.47it/s]"
     ]
    },
    {
     "name": "stdout",
     "output_type": "stream",
     "text": [
      "                   all        173        362      0.905      0.899      0.958      0.922      0.903      0.896      0.955      0.907\n"
     ]
    },
    {
     "name": "stderr",
     "output_type": "stream",
     "text": [
      "\n"
     ]
    },
    {
     "name": "stdout",
     "output_type": "stream",
     "text": [
      "\n",
      "      Epoch    GPU_mem   box_loss   seg_loss   cls_loss   dfl_loss  Instances       Size\n"
     ]
    },
    {
     "name": "stderr",
     "output_type": "stream",
     "text": [
      "     69/100      10.1G     0.2571     0.3663     0.4019      0.884         32        640: 100%|██████████| 98/98 [00:16<00:00,  5.96it/s]\n",
      "                 Class     Images  Instances      Box(P          R      mAP50  mAP50-95)     Mask(P          R      mAP50  mAP50-95): 100%|██████████| 6/6 [00:00<00:00,  6.39it/s]"
     ]
    },
    {
     "name": "stdout",
     "output_type": "stream",
     "text": [
      "                   all        173        362      0.931      0.899      0.964      0.927      0.927      0.895      0.958      0.916\n"
     ]
    },
    {
     "name": "stderr",
     "output_type": "stream",
     "text": [
      "\n"
     ]
    },
    {
     "name": "stdout",
     "output_type": "stream",
     "text": [
      "\n",
      "      Epoch    GPU_mem   box_loss   seg_loss   cls_loss   dfl_loss  Instances       Size\n"
     ]
    },
    {
     "name": "stderr",
     "output_type": "stream",
     "text": [
      "     70/100      10.1G     0.2616     0.3805     0.4122     0.8935         25        640: 100%|██████████| 98/98 [00:16<00:00,  5.90it/s]\n",
      "                 Class     Images  Instances      Box(P          R      mAP50  mAP50-95)     Mask(P          R      mAP50  mAP50-95): 100%|██████████| 6/6 [00:00<00:00,  6.64it/s]"
     ]
    },
    {
     "name": "stdout",
     "output_type": "stream",
     "text": [
      "                   all        173        362      0.911       0.92      0.969      0.931      0.907      0.916      0.963      0.915\n"
     ]
    },
    {
     "name": "stderr",
     "output_type": "stream",
     "text": [
      "\n"
     ]
    },
    {
     "name": "stdout",
     "output_type": "stream",
     "text": [
      "\n",
      "      Epoch    GPU_mem   box_loss   seg_loss   cls_loss   dfl_loss  Instances       Size\n"
     ]
    },
    {
     "name": "stderr",
     "output_type": "stream",
     "text": [
      "     71/100      10.1G     0.2521     0.3542     0.3977     0.8817         25        640: 100%|██████████| 98/98 [00:16<00:00,  6.00it/s]\n",
      "                 Class     Images  Instances      Box(P          R      mAP50  mAP50-95)     Mask(P          R      mAP50  mAP50-95): 100%|██████████| 6/6 [00:00<00:00,  6.61it/s]"
     ]
    },
    {
     "name": "stdout",
     "output_type": "stream",
     "text": [
      "                   all        173        362      0.923      0.921      0.969      0.933      0.919      0.917      0.961      0.918\n"
     ]
    },
    {
     "name": "stderr",
     "output_type": "stream",
     "text": [
      "\n"
     ]
    },
    {
     "name": "stdout",
     "output_type": "stream",
     "text": [
      "\n",
      "      Epoch    GPU_mem   box_loss   seg_loss   cls_loss   dfl_loss  Instances       Size\n"
     ]
    },
    {
     "name": "stderr",
     "output_type": "stream",
     "text": [
      "     72/100      10.1G      0.251     0.3619     0.3883     0.8814         21        640: 100%|██████████| 98/98 [00:16<00:00,  5.98it/s]\n",
      "                 Class     Images  Instances      Box(P          R      mAP50  mAP50-95)     Mask(P          R      mAP50  mAP50-95): 100%|██████████| 6/6 [00:00<00:00,  6.60it/s]"
     ]
    },
    {
     "name": "stdout",
     "output_type": "stream",
     "text": [
      "                   all        173        362      0.949      0.906      0.972      0.936      0.952      0.905      0.967      0.922\n"
     ]
    },
    {
     "name": "stderr",
     "output_type": "stream",
     "text": [
      "\n"
     ]
    },
    {
     "name": "stdout",
     "output_type": "stream",
     "text": [
      "\n",
      "      Epoch    GPU_mem   box_loss   seg_loss   cls_loss   dfl_loss  Instances       Size\n"
     ]
    },
    {
     "name": "stderr",
     "output_type": "stream",
     "text": [
      "     73/100      10.1G     0.2504     0.3799     0.4044     0.8824         31        640: 100%|██████████| 98/98 [00:16<00:00,  5.95it/s]\n",
      "                 Class     Images  Instances      Box(P          R      mAP50  mAP50-95)     Mask(P          R      mAP50  mAP50-95): 100%|██████████| 6/6 [00:00<00:00,  6.68it/s]"
     ]
    },
    {
     "name": "stdout",
     "output_type": "stream",
     "text": [
      "                   all        173        362      0.933      0.895      0.965      0.933      0.936      0.887       0.96      0.921\n"
     ]
    },
    {
     "name": "stderr",
     "output_type": "stream",
     "text": [
      "\n"
     ]
    },
    {
     "name": "stdout",
     "output_type": "stream",
     "text": [
      "\n",
      "      Epoch    GPU_mem   box_loss   seg_loss   cls_loss   dfl_loss  Instances       Size\n"
     ]
    },
    {
     "name": "stderr",
     "output_type": "stream",
     "text": [
      "     74/100      10.1G     0.2466     0.3409     0.3942     0.8835         19        640: 100%|██████████| 98/98 [00:16<00:00,  5.97it/s]\n",
      "                 Class     Images  Instances      Box(P          R      mAP50  mAP50-95)     Mask(P          R      mAP50  mAP50-95): 100%|██████████| 6/6 [00:00<00:00,  6.65it/s]"
     ]
    },
    {
     "name": "stdout",
     "output_type": "stream",
     "text": [
      "                   all        173        362      0.917      0.906      0.963      0.929      0.917      0.906       0.96      0.919\n"
     ]
    },
    {
     "name": "stderr",
     "output_type": "stream",
     "text": [
      "\n"
     ]
    },
    {
     "name": "stdout",
     "output_type": "stream",
     "text": [
      "\n",
      "      Epoch    GPU_mem   box_loss   seg_loss   cls_loss   dfl_loss  Instances       Size\n"
     ]
    },
    {
     "name": "stderr",
     "output_type": "stream",
     "text": [
      "     75/100      10.1G      0.251     0.3607     0.3949     0.8829         19        640: 100%|██████████| 98/98 [00:16<00:00,  5.97it/s]\n",
      "                 Class     Images  Instances      Box(P          R      mAP50  mAP50-95)     Mask(P          R      mAP50  mAP50-95): 100%|██████████| 6/6 [00:00<00:00,  6.71it/s]"
     ]
    },
    {
     "name": "stdout",
     "output_type": "stream",
     "text": [
      "                   all        173        362      0.925      0.932      0.967      0.933      0.921      0.928      0.964       0.92\n"
     ]
    },
    {
     "name": "stderr",
     "output_type": "stream",
     "text": [
      "\n"
     ]
    },
    {
     "name": "stdout",
     "output_type": "stream",
     "text": [
      "\n",
      "      Epoch    GPU_mem   box_loss   seg_loss   cls_loss   dfl_loss  Instances       Size\n"
     ]
    },
    {
     "name": "stderr",
     "output_type": "stream",
     "text": [
      "     76/100      10.1G     0.2411     0.3444     0.3908     0.8839         32        640: 100%|██████████| 98/98 [00:16<00:00,  5.97it/s]\n",
      "                 Class     Images  Instances      Box(P          R      mAP50  mAP50-95)     Mask(P          R      mAP50  mAP50-95): 100%|██████████| 6/6 [00:00<00:00,  6.69it/s]"
     ]
    },
    {
     "name": "stdout",
     "output_type": "stream",
     "text": [
      "                   all        173        362       0.94      0.901      0.965      0.934       0.94      0.901      0.961      0.921\n"
     ]
    },
    {
     "name": "stderr",
     "output_type": "stream",
     "text": [
      "\n"
     ]
    },
    {
     "name": "stdout",
     "output_type": "stream",
     "text": [
      "\n",
      "      Epoch    GPU_mem   box_loss   seg_loss   cls_loss   dfl_loss  Instances       Size\n"
     ]
    },
    {
     "name": "stderr",
     "output_type": "stream",
     "text": [
      "     77/100      10.1G     0.2397     0.3366     0.3856     0.8862         12        640: 100%|██████████| 98/98 [00:16<00:00,  6.00it/s]\n",
      "                 Class     Images  Instances      Box(P          R      mAP50  mAP50-95)     Mask(P          R      mAP50  mAP50-95): 100%|██████████| 6/6 [00:00<00:00,  6.68it/s]"
     ]
    },
    {
     "name": "stdout",
     "output_type": "stream",
     "text": [
      "                   all        173        362      0.933        0.9      0.965      0.935      0.933        0.9       0.96      0.922\n"
     ]
    },
    {
     "name": "stderr",
     "output_type": "stream",
     "text": [
      "\n"
     ]
    },
    {
     "name": "stdout",
     "output_type": "stream",
     "text": [
      "\n",
      "      Epoch    GPU_mem   box_loss   seg_loss   cls_loss   dfl_loss  Instances       Size\n"
     ]
    },
    {
     "name": "stderr",
     "output_type": "stream",
     "text": [
      "     78/100      10.1G     0.2416     0.3441     0.3815     0.8852         17        640: 100%|██████████| 98/98 [00:16<00:00,  5.95it/s]\n",
      "                 Class     Images  Instances      Box(P          R      mAP50  mAP50-95)     Mask(P          R      mAP50  mAP50-95): 100%|██████████| 6/6 [00:00<00:00,  6.51it/s]"
     ]
    },
    {
     "name": "stdout",
     "output_type": "stream",
     "text": [
      "                   all        173        362      0.949      0.898      0.966      0.934      0.945      0.894      0.961      0.918\n"
     ]
    },
    {
     "name": "stderr",
     "output_type": "stream",
     "text": [
      "\n"
     ]
    },
    {
     "name": "stdout",
     "output_type": "stream",
     "text": [
      "\n",
      "      Epoch    GPU_mem   box_loss   seg_loss   cls_loss   dfl_loss  Instances       Size\n"
     ]
    },
    {
     "name": "stderr",
     "output_type": "stream",
     "text": [
      "     79/100      10.1G     0.2442     0.3571     0.3788      0.881         20        640: 100%|██████████| 98/98 [00:16<00:00,  5.98it/s]\n",
      "                 Class     Images  Instances      Box(P          R      mAP50  mAP50-95)     Mask(P          R      mAP50  mAP50-95): 100%|██████████| 6/6 [00:00<00:00,  6.72it/s]"
     ]
    },
    {
     "name": "stdout",
     "output_type": "stream",
     "text": [
      "                   all        173        362      0.945      0.911      0.966      0.931      0.947      0.911      0.959      0.914\n"
     ]
    },
    {
     "name": "stderr",
     "output_type": "stream",
     "text": [
      "\n"
     ]
    },
    {
     "name": "stdout",
     "output_type": "stream",
     "text": [
      "\n",
      "      Epoch    GPU_mem   box_loss   seg_loss   cls_loss   dfl_loss  Instances       Size\n"
     ]
    },
    {
     "name": "stderr",
     "output_type": "stream",
     "text": [
      "     80/100      10.1G     0.2441     0.3419      0.364     0.8882         13        640: 100%|██████████| 98/98 [00:16<00:00,  5.94it/s]\n",
      "                 Class     Images  Instances      Box(P          R      mAP50  mAP50-95)     Mask(P          R      mAP50  mAP50-95): 100%|██████████| 6/6 [00:00<00:00,  6.48it/s]"
     ]
    },
    {
     "name": "stdout",
     "output_type": "stream",
     "text": [
      "                   all        173        362      0.937      0.908      0.968      0.933       0.96      0.879      0.963      0.924\n"
     ]
    },
    {
     "name": "stderr",
     "output_type": "stream",
     "text": [
      "\n"
     ]
    },
    {
     "name": "stdout",
     "output_type": "stream",
     "text": [
      "\n",
      "      Epoch    GPU_mem   box_loss   seg_loss   cls_loss   dfl_loss  Instances       Size\n"
     ]
    },
    {
     "name": "stderr",
     "output_type": "stream",
     "text": [
      "     81/100      10.1G     0.2408      0.342     0.3673     0.8773         31        640: 100%|██████████| 98/98 [00:16<00:00,  6.00it/s]\n",
      "                 Class     Images  Instances      Box(P          R      mAP50  mAP50-95)     Mask(P          R      mAP50  mAP50-95): 100%|██████████| 6/6 [00:00<00:00,  6.75it/s]"
     ]
    },
    {
     "name": "stdout",
     "output_type": "stream",
     "text": [
      "                   all        173        362      0.907      0.936      0.966      0.931      0.903      0.932      0.959      0.918\n"
     ]
    },
    {
     "name": "stderr",
     "output_type": "stream",
     "text": [
      "\n"
     ]
    },
    {
     "name": "stdout",
     "output_type": "stream",
     "text": [
      "\n",
      "      Epoch    GPU_mem   box_loss   seg_loss   cls_loss   dfl_loss  Instances       Size\n"
     ]
    },
    {
     "name": "stderr",
     "output_type": "stream",
     "text": [
      "     82/100      10.1G     0.2361     0.3442     0.3669      0.879         18        640: 100%|██████████| 98/98 [00:16<00:00,  6.01it/s]\n",
      "                 Class     Images  Instances      Box(P          R      mAP50  mAP50-95)     Mask(P          R      mAP50  mAP50-95): 100%|██████████| 6/6 [00:00<00:00,  6.81it/s]"
     ]
    },
    {
     "name": "stdout",
     "output_type": "stream",
     "text": [
      "                   all        173        362      0.929      0.931      0.968      0.937      0.925      0.927      0.961       0.92\n"
     ]
    },
    {
     "name": "stderr",
     "output_type": "stream",
     "text": [
      "\n"
     ]
    },
    {
     "name": "stdout",
     "output_type": "stream",
     "text": [
      "\n",
      "      Epoch    GPU_mem   box_loss   seg_loss   cls_loss   dfl_loss  Instances       Size\n"
     ]
    },
    {
     "name": "stderr",
     "output_type": "stream",
     "text": [
      "     83/100      10.1G      0.228     0.3375     0.3561     0.8782         44        640: 100%|██████████| 98/98 [00:16<00:00,  6.02it/s]\n",
      "                 Class     Images  Instances      Box(P          R      mAP50  mAP50-95)     Mask(P          R      mAP50  mAP50-95): 100%|██████████| 6/6 [00:00<00:00,  6.69it/s]"
     ]
    },
    {
     "name": "stdout",
     "output_type": "stream",
     "text": [
      "                   all        173        362      0.949      0.896      0.967      0.936      0.944      0.892      0.962      0.919\n"
     ]
    },
    {
     "name": "stderr",
     "output_type": "stream",
     "text": [
      "\n"
     ]
    },
    {
     "name": "stdout",
     "output_type": "stream",
     "text": [
      "\n",
      "      Epoch    GPU_mem   box_loss   seg_loss   cls_loss   dfl_loss  Instances       Size\n"
     ]
    },
    {
     "name": "stderr",
     "output_type": "stream",
     "text": [
      "     84/100      10.1G     0.2323     0.3403     0.3489     0.8712         21        640: 100%|██████████| 98/98 [00:16<00:00,  6.01it/s]\n",
      "                 Class     Images  Instances      Box(P          R      mAP50  mAP50-95)     Mask(P          R      mAP50  mAP50-95): 100%|██████████| 6/6 [00:00<00:00,  6.70it/s]"
     ]
    },
    {
     "name": "stdout",
     "output_type": "stream",
     "text": [
      "                   all        173        362      0.928      0.921      0.968      0.936      0.924      0.917      0.962       0.92\n"
     ]
    },
    {
     "name": "stderr",
     "output_type": "stream",
     "text": [
      "\n"
     ]
    },
    {
     "name": "stdout",
     "output_type": "stream",
     "text": [
      "\n",
      "      Epoch    GPU_mem   box_loss   seg_loss   cls_loss   dfl_loss  Instances       Size\n"
     ]
    },
    {
     "name": "stderr",
     "output_type": "stream",
     "text": [
      "     85/100      10.1G     0.2247     0.3233     0.3365      0.876         22        640: 100%|██████████| 98/98 [00:16<00:00,  5.99it/s]\n",
      "                 Class     Images  Instances      Box(P          R      mAP50  mAP50-95)     Mask(P          R      mAP50  mAP50-95): 100%|██████████| 6/6 [00:00<00:00,  6.62it/s]"
     ]
    },
    {
     "name": "stdout",
     "output_type": "stream",
     "text": [
      "                   all        173        362      0.971      0.854      0.963      0.929      0.968      0.851       0.96      0.918\n"
     ]
    },
    {
     "name": "stderr",
     "output_type": "stream",
     "text": [
      "\n"
     ]
    },
    {
     "name": "stdout",
     "output_type": "stream",
     "text": [
      "\n",
      "      Epoch    GPU_mem   box_loss   seg_loss   cls_loss   dfl_loss  Instances       Size\n"
     ]
    },
    {
     "name": "stderr",
     "output_type": "stream",
     "text": [
      "     86/100      10.1G     0.2219     0.3185     0.3357     0.8735         36        640: 100%|██████████| 98/98 [00:16<00:00,  6.02it/s]\n",
      "                 Class     Images  Instances      Box(P          R      mAP50  mAP50-95)     Mask(P          R      mAP50  mAP50-95): 100%|██████████| 6/6 [00:00<00:00,  6.74it/s]"
     ]
    },
    {
     "name": "stdout",
     "output_type": "stream",
     "text": [
      "                   all        173        362      0.924      0.905      0.963      0.932       0.92      0.901       0.96      0.926\n"
     ]
    },
    {
     "name": "stderr",
     "output_type": "stream",
     "text": [
      "\n"
     ]
    },
    {
     "name": "stdout",
     "output_type": "stream",
     "text": [
      "\n",
      "      Epoch    GPU_mem   box_loss   seg_loss   cls_loss   dfl_loss  Instances       Size\n"
     ]
    },
    {
     "name": "stderr",
     "output_type": "stream",
     "text": [
      "     87/100      10.1G     0.2188     0.3183     0.3323     0.8718         22        640: 100%|██████████| 98/98 [00:16<00:00,  5.99it/s]\n",
      "                 Class     Images  Instances      Box(P          R      mAP50  mAP50-95)     Mask(P          R      mAP50  mAP50-95): 100%|██████████| 6/6 [00:00<00:00,  6.73it/s]"
     ]
    },
    {
     "name": "stdout",
     "output_type": "stream",
     "text": [
      "                   all        173        362      0.946      0.914       0.97      0.936      0.943      0.912      0.965      0.924\n"
     ]
    },
    {
     "name": "stderr",
     "output_type": "stream",
     "text": [
      "\n"
     ]
    },
    {
     "name": "stdout",
     "output_type": "stream",
     "text": [
      "\n",
      "      Epoch    GPU_mem   box_loss   seg_loss   cls_loss   dfl_loss  Instances       Size\n"
     ]
    },
    {
     "name": "stderr",
     "output_type": "stream",
     "text": [
      "     88/100      10.1G     0.2217     0.3227     0.3374     0.8715         19        640: 100%|██████████| 98/98 [00:16<00:00,  5.98it/s]\n",
      "                 Class     Images  Instances      Box(P          R      mAP50  mAP50-95)     Mask(P          R      mAP50  mAP50-95): 100%|██████████| 6/6 [00:00<00:00,  6.70it/s]"
     ]
    },
    {
     "name": "stdout",
     "output_type": "stream",
     "text": [
      "                   all        173        362       0.92      0.936       0.97      0.939      0.918      0.934      0.966      0.927\n"
     ]
    },
    {
     "name": "stderr",
     "output_type": "stream",
     "text": [
      "\n"
     ]
    },
    {
     "name": "stdout",
     "output_type": "stream",
     "text": [
      "\n",
      "      Epoch    GPU_mem   box_loss   seg_loss   cls_loss   dfl_loss  Instances       Size\n"
     ]
    },
    {
     "name": "stderr",
     "output_type": "stream",
     "text": [
      "     89/100      10.1G     0.2187     0.3192     0.3315     0.8694         30        640: 100%|██████████| 98/98 [00:16<00:00,  6.01it/s]\n",
      "                 Class     Images  Instances      Box(P          R      mAP50  mAP50-95)     Mask(P          R      mAP50  mAP50-95): 100%|██████████| 6/6 [00:00<00:00,  6.69it/s]"
     ]
    },
    {
     "name": "stdout",
     "output_type": "stream",
     "text": [
      "                   all        173        362      0.952      0.883      0.965      0.932      0.947      0.879      0.957      0.916\n"
     ]
    },
    {
     "name": "stderr",
     "output_type": "stream",
     "text": [
      "\n"
     ]
    },
    {
     "name": "stdout",
     "output_type": "stream",
     "text": [
      "\n",
      "      Epoch    GPU_mem   box_loss   seg_loss   cls_loss   dfl_loss  Instances       Size\n"
     ]
    },
    {
     "name": "stderr",
     "output_type": "stream",
     "text": [
      "     90/100      10.1G      0.212      0.321     0.3284     0.8656         29        640: 100%|██████████| 98/98 [00:16<00:00,  6.04it/s]\n",
      "                 Class     Images  Instances      Box(P          R      mAP50  mAP50-95)     Mask(P          R      mAP50  mAP50-95): 100%|██████████| 6/6 [00:00<00:00,  6.73it/s]"
     ]
    },
    {
     "name": "stdout",
     "output_type": "stream",
     "text": [
      "                   all        173        362      0.936      0.917       0.97       0.94      0.933      0.915      0.965      0.926\n"
     ]
    },
    {
     "name": "stderr",
     "output_type": "stream",
     "text": [
      "\n"
     ]
    },
    {
     "name": "stdout",
     "output_type": "stream",
     "text": [
      "Closing dataloader mosaic\n",
      "\n",
      "      Epoch    GPU_mem   box_loss   seg_loss   cls_loss   dfl_loss  Instances       Size\n"
     ]
    },
    {
     "name": "stderr",
     "output_type": "stream",
     "text": [
      "     91/100      10.1G     0.1818      0.283     0.2319     0.8319          9        640: 100%|██████████| 98/98 [00:16<00:00,  5.77it/s]\n",
      "                 Class     Images  Instances      Box(P          R      mAP50  mAP50-95)     Mask(P          R      mAP50  mAP50-95): 100%|██████████| 6/6 [00:00<00:00,  6.66it/s]"
     ]
    },
    {
     "name": "stdout",
     "output_type": "stream",
     "text": [
      "                   all        173        362      0.938      0.895      0.969      0.939      0.933      0.889      0.962      0.924\n"
     ]
    },
    {
     "name": "stderr",
     "output_type": "stream",
     "text": [
      "\n"
     ]
    },
    {
     "name": "stdout",
     "output_type": "stream",
     "text": [
      "\n",
      "      Epoch    GPU_mem   box_loss   seg_loss   cls_loss   dfl_loss  Instances       Size\n"
     ]
    },
    {
     "name": "stderr",
     "output_type": "stream",
     "text": [
      "     92/100      10.1G     0.1729     0.2501     0.2113     0.8362          6        640: 100%|██████████| 98/98 [00:16<00:00,  5.93it/s]\n",
      "                 Class     Images  Instances      Box(P          R      mAP50  mAP50-95)     Mask(P          R      mAP50  mAP50-95): 100%|██████████| 6/6 [00:00<00:00,  6.63it/s]"
     ]
    },
    {
     "name": "stdout",
     "output_type": "stream",
     "text": [
      "                   all        173        362      0.923       0.93      0.971       0.94      0.914      0.922      0.966      0.926\n"
     ]
    },
    {
     "name": "stderr",
     "output_type": "stream",
     "text": [
      "\n"
     ]
    },
    {
     "name": "stdout",
     "output_type": "stream",
     "text": [
      "\n",
      "      Epoch    GPU_mem   box_loss   seg_loss   cls_loss   dfl_loss  Instances       Size\n"
     ]
    },
    {
     "name": "stderr",
     "output_type": "stream",
     "text": [
      "     93/100      10.1G     0.1725     0.2481     0.2061     0.8274         10        640: 100%|██████████| 98/98 [00:16<00:00,  5.90it/s]\n",
      "                 Class     Images  Instances      Box(P          R      mAP50  mAP50-95)     Mask(P          R      mAP50  mAP50-95): 100%|██████████| 6/6 [00:00<00:00,  6.64it/s]"
     ]
    },
    {
     "name": "stdout",
     "output_type": "stream",
     "text": [
      "                   all        173        362      0.946      0.923      0.971      0.941      0.942      0.919      0.968      0.927\n"
     ]
    },
    {
     "name": "stderr",
     "output_type": "stream",
     "text": [
      "\n"
     ]
    },
    {
     "name": "stdout",
     "output_type": "stream",
     "text": [
      "\n",
      "      Epoch    GPU_mem   box_loss   seg_loss   cls_loss   dfl_loss  Instances       Size\n"
     ]
    },
    {
     "name": "stderr",
     "output_type": "stream",
     "text": [
      "     94/100      10.1G     0.1658     0.2394     0.1921     0.8207         11        640: 100%|██████████| 98/98 [00:16<00:00,  5.94it/s]\n",
      "                 Class     Images  Instances      Box(P          R      mAP50  mAP50-95)     Mask(P          R      mAP50  mAP50-95): 100%|██████████| 6/6 [00:00<00:00,  6.68it/s]"
     ]
    },
    {
     "name": "stdout",
     "output_type": "stream",
     "text": [
      "                   all        173        362      0.955      0.896      0.969      0.942       0.95      0.892      0.963      0.927\n"
     ]
    },
    {
     "name": "stderr",
     "output_type": "stream",
     "text": [
      "\n"
     ]
    },
    {
     "name": "stdout",
     "output_type": "stream",
     "text": [
      "\n",
      "      Epoch    GPU_mem   box_loss   seg_loss   cls_loss   dfl_loss  Instances       Size\n"
     ]
    },
    {
     "name": "stderr",
     "output_type": "stream",
     "text": [
      "     95/100      10.1G     0.1683     0.2358     0.2082     0.8227          9        640: 100%|██████████| 98/98 [00:16<00:00,  5.96it/s]\n",
      "                 Class     Images  Instances      Box(P          R      mAP50  mAP50-95)     Mask(P          R      mAP50  mAP50-95): 100%|██████████| 6/6 [00:00<00:00,  6.63it/s]"
     ]
    },
    {
     "name": "stdout",
     "output_type": "stream",
     "text": [
      "                   all        173        362      0.936      0.917      0.967       0.94      0.932      0.913      0.963      0.928\n"
     ]
    },
    {
     "name": "stderr",
     "output_type": "stream",
     "text": [
      "\n"
     ]
    },
    {
     "name": "stdout",
     "output_type": "stream",
     "text": [
      "\n",
      "      Epoch    GPU_mem   box_loss   seg_loss   cls_loss   dfl_loss  Instances       Size\n"
     ]
    },
    {
     "name": "stderr",
     "output_type": "stream",
     "text": [
      "     96/100      10.1G     0.1633      0.234       0.19     0.8201          9        640: 100%|██████████| 98/98 [00:16<00:00,  5.94it/s]\n",
      "                 Class     Images  Instances      Box(P          R      mAP50  mAP50-95)     Mask(P          R      mAP50  mAP50-95): 100%|██████████| 6/6 [00:00<00:00,  6.64it/s]"
     ]
    },
    {
     "name": "stdout",
     "output_type": "stream",
     "text": [
      "                   all        173        362      0.925      0.919      0.966      0.935      0.916       0.91      0.961      0.926\n"
     ]
    },
    {
     "name": "stderr",
     "output_type": "stream",
     "text": [
      "\n"
     ]
    },
    {
     "name": "stdout",
     "output_type": "stream",
     "text": [
      "\n",
      "      Epoch    GPU_mem   box_loss   seg_loss   cls_loss   dfl_loss  Instances       Size\n"
     ]
    },
    {
     "name": "stderr",
     "output_type": "stream",
     "text": [
      "     97/100      10.1G     0.1647     0.2501     0.1897      0.823         15        640: 100%|██████████| 98/98 [00:16<00:00,  5.97it/s]\n",
      "                 Class     Images  Instances      Box(P          R      mAP50  mAP50-95)     Mask(P          R      mAP50  mAP50-95): 100%|██████████| 6/6 [00:00<00:00,  6.73it/s]"
     ]
    },
    {
     "name": "stdout",
     "output_type": "stream",
     "text": [
      "                   all        173        362      0.961      0.902      0.968      0.938      0.961      0.902      0.963      0.927\n"
     ]
    },
    {
     "name": "stderr",
     "output_type": "stream",
     "text": [
      "\n"
     ]
    },
    {
     "name": "stdout",
     "output_type": "stream",
     "text": [
      "\n",
      "      Epoch    GPU_mem   box_loss   seg_loss   cls_loss   dfl_loss  Instances       Size\n"
     ]
    },
    {
     "name": "stderr",
     "output_type": "stream",
     "text": [
      "     98/100      10.1G     0.1618     0.2297     0.1808     0.8179          9        640: 100%|██████████| 98/98 [00:16<00:00,  5.99it/s]\n",
      "                 Class     Images  Instances      Box(P          R      mAP50  mAP50-95)     Mask(P          R      mAP50  mAP50-95): 100%|██████████| 6/6 [00:00<00:00,  6.69it/s]"
     ]
    },
    {
     "name": "stdout",
     "output_type": "stream",
     "text": [
      "                   all        173        362      0.951       0.91      0.968      0.938      0.947      0.906      0.962      0.928\n"
     ]
    },
    {
     "name": "stderr",
     "output_type": "stream",
     "text": [
      "\n"
     ]
    },
    {
     "name": "stdout",
     "output_type": "stream",
     "text": [
      "\n",
      "      Epoch    GPU_mem   box_loss   seg_loss   cls_loss   dfl_loss  Instances       Size\n"
     ]
    },
    {
     "name": "stderr",
     "output_type": "stream",
     "text": [
      "     99/100      10.1G     0.1578     0.2251     0.1733     0.8207         25        640: 100%|██████████| 98/98 [00:16<00:00,  5.95it/s]\n",
      "                 Class     Images  Instances      Box(P          R      mAP50  mAP50-95)     Mask(P          R      mAP50  mAP50-95): 100%|██████████| 6/6 [00:00<00:00,  6.80it/s]"
     ]
    },
    {
     "name": "stdout",
     "output_type": "stream",
     "text": [
      "                   all        173        362      0.933       0.92      0.967      0.938      0.929      0.916      0.963      0.928\n"
     ]
    },
    {
     "name": "stderr",
     "output_type": "stream",
     "text": [
      "\n"
     ]
    },
    {
     "name": "stdout",
     "output_type": "stream",
     "text": [
      "\n",
      "      Epoch    GPU_mem   box_loss   seg_loss   cls_loss   dfl_loss  Instances       Size\n"
     ]
    },
    {
     "name": "stderr",
     "output_type": "stream",
     "text": [
      "    100/100      10.1G     0.1572     0.2193      0.173     0.8202          6        640: 100%|██████████| 98/98 [00:16<00:00,  5.97it/s]\n",
      "                 Class     Images  Instances      Box(P          R      mAP50  mAP50-95)     Mask(P          R      mAP50  mAP50-95): 100%|██████████| 6/6 [00:00<00:00,  6.69it/s]"
     ]
    },
    {
     "name": "stdout",
     "output_type": "stream",
     "text": [
      "                   all        173        362      0.959      0.901      0.967      0.939      0.955      0.897      0.963      0.929\n"
     ]
    },
    {
     "name": "stderr",
     "output_type": "stream",
     "text": [
      "\n"
     ]
    },
    {
     "name": "stdout",
     "output_type": "stream",
     "text": [
      "\n",
      "100 epochs completed in 0.502 hours.\n",
      "Optimizer stripped from runs/segment/train/weights/last.pt, 45.2MB\n",
      "Optimizer stripped from runs/segment/train/weights/best.pt, 45.2MB\n",
      "\n",
      "Validating runs/segment/train/weights/best.pt...\n",
      "Ultralytics 8.3.162 🚀 Python-3.11.10 torch-2.4.1+cu124 CUDA:0 (NVIDIA GeForce RTX 4090, 24210MiB)\n",
      "YOLO11m-seg summary (fused): 138 layers, 22,337,625 parameters, 0 gradients, 123.0 GFLOPs\n"
     ]
    },
    {
     "name": "stderr",
     "output_type": "stream",
     "text": [
      "                 Class     Images  Instances      Box(P          R      mAP50  mAP50-95)     Mask(P          R      mAP50  mAP50-95): 100%|██████████| 6/6 [00:01<00:00,  3.66it/s]\n"
     ]
    },
    {
     "name": "stdout",
     "output_type": "stream",
     "text": [
      "                   all        173        362      0.947      0.925      0.971      0.943      0.942      0.921      0.968      0.928\n",
      "          leaf_healthy         54        208      0.896      0.856      0.939      0.868      0.896      0.856      0.944      0.854\n",
      "             leaf_rust         63         84      0.988      0.946      0.985      0.981      0.975      0.935      0.977      0.957\n",
      "             leaf_scab         59         70      0.956      0.971      0.988      0.979      0.956      0.971      0.983      0.972\n",
      "Speed: 0.1ms preprocess, 1.7ms inference, 0.0ms loss, 3.4ms postprocess per image\n",
      "Results saved to \u001b[1mruns/segment/train\u001b[0m\n"
     ]
    }
   ],
   "source": [
    "# Load a pretrained YOLO11 segment model\n",
    "model = YOLO(\"yolo11m-seg.pt\")\n",
    "\n",
    "# Train the model\n",
    "results = model.train(data=\"Plant-Pathology-Anotation-7/data.yaml\", epochs=100, imgsz=640)"
   ]
  },
  {
   "cell_type": "code",
   "execution_count": 8,
   "id": "92eb46eb-d223-4799-9315-233266453209",
   "metadata": {},
   "outputs": [
    {
     "name": "stdout",
     "output_type": "stream",
     "text": [
      "Ultralytics 8.3.162 🚀 Python-3.11.10 torch-2.4.1+cu124 CUDA:0 (NVIDIA GeForce RTX 4090, 24210MiB)\n",
      "YOLO11m-seg summary (fused): 138 layers, 22,337,625 parameters, 0 gradients, 123.0 GFLOPs\n",
      "\u001b[34m\u001b[1mval: \u001b[0mFast image access ✅ (ping: 0.3±0.2 ms, read: 226.6±66.9 MB/s, size: 236.3 KB)\n"
     ]
    },
    {
     "name": "stderr",
     "output_type": "stream",
     "text": [
      "\u001b[34m\u001b[1mval: \u001b[0mScanning /workspace/Plant-Pathology-Anotation-7/test/labels... 1734 images, 5 backgrounds, 0 corrupt: 100%|██████████| 1739/1739 [00:06<00:00, 258.78it/s]\n"
     ]
    },
    {
     "name": "stdout",
     "output_type": "stream",
     "text": [
      "\u001b[34m\u001b[1mval: \u001b[0mNew cache created: /workspace/Plant-Pathology-Anotation-7/test/labels.cache\n"
     ]
    },
    {
     "name": "stderr",
     "output_type": "stream",
     "text": [
      "                 Class     Images  Instances      Box(P          R      mAP50  mAP50-95)     Mask(P          R      mAP50  mAP50-95): 100%|██████████| 109/109 [00:10<00:00, 10.00it/s]\n"
     ]
    },
    {
     "name": "stdout",
     "output_type": "stream",
     "text": [
      "                   all       1739       3516      0.889      0.845      0.929      0.888      0.887      0.838      0.916      0.863\n",
      "          leaf_healthy        392       1431       0.85      0.823      0.905      0.844      0.851      0.816      0.898      0.807\n",
      "             leaf_rust        781       1286      0.884      0.849      0.924       0.88      0.875      0.835      0.905       0.85\n",
      "             leaf_scab        664        799      0.932      0.864      0.957      0.939      0.935      0.863      0.946      0.933\n",
      "Speed: 0.2ms preprocess, 2.7ms inference, 0.0ms loss, 0.9ms postprocess per image\n",
      "Results saved to \u001b[1mruns/segment/train2\u001b[0m\n",
      "Mean Average Precision for boxes: 0.8877545528468834\n",
      "Mean Average Precision for masks: 0.8632649305175767\n"
     ]
    }
   ],
   "source": [
    "# Validate the model\n",
    "metrics = model.val(data=\"Plant-Pathology-Anotation-7/data.yaml\", imgsz=640, split='test')\n",
    "print(\"Mean Average Precision for boxes:\", metrics.box.map)\n",
    "print(\"Mean Average Precision for masks:\", metrics.seg.map)"
   ]
  }
 ],
 "metadata": {
  "kernelspec": {
   "display_name": "Python 3 (ipykernel)",
   "language": "python",
   "name": "python3"
  },
  "language_info": {
   "codemirror_mode": {
    "name": "ipython",
    "version": 3
   },
   "file_extension": ".py",
   "mimetype": "text/x-python",
   "name": "python",
   "nbconvert_exporter": "python",
   "pygments_lexer": "ipython3",
   "version": "3.11.10"
  }
 },
 "nbformat": 4,
 "nbformat_minor": 5
}
