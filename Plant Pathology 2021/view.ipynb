{
 "cells": [
  {
   "cell_type": "code",
   "execution_count": 1,
   "id": "331eb86d",
   "metadata": {},
   "outputs": [],
   "source": [
    "from ultralytics import YOLO"
   ]
  },
  {
   "cell_type": "code",
   "execution_count": 7,
   "id": "e1cd678d",
   "metadata": {},
   "outputs": [
    {
     "name": "stdout",
     "output_type": "stream",
     "text": [
      "\n",
      "image 1/1 c:\\Users\\abiyamf\\Documents\\Thesis\\Plant Pathology 2021\\dataset\\object_detection\\test\\images\\03484_frog_eye_leaf_spot_jpg.rf.28c35474593f19a514857bffcce4a4a0.jpg: 448x640 1 frog-eye-leaf-spot, 3 frog-eye-leaf-spot_lessions, 39.1ms\n",
      "Speed: 2.0ms preprocess, 39.1ms inference, 1.9ms postprocess per image at shape (1, 3, 448, 640)\n"
     ]
    }
   ],
   "source": [
    "model = YOLO(\"results/mask_lesi_and_leaf/training/medium/weights/best.pt\")\n",
    "source = \"dataset/object_detection/test/images/03484_frog_eye_leaf_spot_jpg.rf.28c35474593f19a514857bffcce4a4a0.jpg\"\n",
    "results = model.predict(source, show=True)"
   ]
  },
  {
   "cell_type": "code",
   "execution_count": 10,
   "id": "784d7039",
   "metadata": {},
   "outputs": [
    {
     "name": "stdout",
     "output_type": "stream",
     "text": [
      "\n",
      "image 1/1 c:\\Users\\abiyamf\\Documents\\Thesis\\Plant Pathology 2021\\dataset\\object_detection\\test\\images\\03484_frog_eye_leaf_spot_jpg.rf.28c35474593f19a514857bffcce4a4a0.jpg: 448x640 1 frog-eye-leaf-spot, 3 frog-eye-leaf-spot_lessions, 46.5ms\n",
      "Speed: 1.7ms preprocess, 46.5ms inference, 2.1ms postprocess per image at shape (1, 3, 448, 640)\n"
     ]
    }
   ],
   "source": [
    "model = YOLO(\"results/mask_lesi_and_leaf/training/medium/weights/best.pt\")\n",
    "source = \"dataset/object_detection/test/images/03484_frog_eye_leaf_spot_jpg.rf.28c35474593f19a514857bffcce4a4a0.jpg\"\n",
    "results = model(source)\n",
    "for r in results:\n",
    "    r.show()"
   ]
  }
 ],
 "metadata": {
  "kernelspec": {
   "display_name": "thesis_env",
   "language": "python",
   "name": "python3"
  },
  "language_info": {
   "codemirror_mode": {
    "name": "ipython",
    "version": 3
   },
   "file_extension": ".py",
   "mimetype": "text/x-python",
   "name": "python",
   "nbconvert_exporter": "python",
   "pygments_lexer": "ipython3",
   "version": "3.12.11"
  }
 },
 "nbformat": 4,
 "nbformat_minor": 5
}
